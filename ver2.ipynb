{
 "cells": [
  {
   "cell_type": "code",
   "execution_count": 1,
   "id": "b3be6506",
   "metadata": {},
   "outputs": [],
   "source": [
    "# 형법 pdf\n",
    "file_path = './dataset/criminal-law.pdf'\n",
    "\n",
    "# Langchain의 PyPDFLoader를 이용\n",
    "from langchain_community.document_loaders import PyPDFLoader\n",
    "import re\n",
    "from langchain_core.documents import Document\n",
    "\n",
    "# PDF 로더 객체 생성\n",
    "loader = PyPDFLoader(file_path)\n",
    "\n",
    "# pdf의 각 페이지를 저장\n",
    "pages = []\n",
    "\n",
    "# 비동기 방식으로 pdf 페이지 로드\n",
    "async for page in loader.alazy_load():\n",
    "    pages.append(page)"
   ]
  },
  {
   "cell_type": "code",
   "execution_count": 2,
   "id": "d30cc242",
   "metadata": {},
   "outputs": [],
   "source": [
    "# 맨앞 두 페이지는 쓸모없어서 버림\n",
    "pages = pages[2:]\n",
    "\n",
    "# 페이지 내용을 하나의 문자열로\n",
    "full_text = \"\\n\".join(page.page_content for page in pages)"
   ]
  },
  {
   "cell_type": "code",
   "execution_count": 3,
   "id": "7b8b4d3a",
   "metadata": {},
   "outputs": [],
   "source": [
    "# 문서 구조 추출을 위한 정규식 패턴\n",
    "edition_pattern = re.compile(r'(제\\d+편 [^\\n]+)')\n",
    "chapter_pattern = re.compile(r'(제\\d+장 [^\\n]+)')\n",
    "\n",
    "# \"장\" 기준으로 분할\n",
    "split_parts = re.split(chapter_pattern, full_text)\n",
    "\n",
    "# 현재 편을 추적하기 위한 변수\n",
    "current_edition = \"\"\n",
    "\n",
    "# 첫 부분 처리 (첫 편/장 구조 파악)\n",
    "chunks = []\n",
    "first_content = split_parts[0].strip()\n",
    "if first_content:\n",
    "    # 편 정보 추출\n",
    "    edition_match = edition_pattern.search(first_content)\n",
    "    if edition_match:\n",
    "        current_edition = edition_match.group(1)\n",
    "    \n",
    "    # 첫 부분을 문서로 생성\n",
    "    first_page_meta = pages[0].metadata if pages else {}\n",
    "    first_page_meta[\"edition\"] = current_edition\n",
    "    chunks.append(Document(page_content=first_content, metadata=first_page_meta))\n",
    "\n",
    "# 이후 각 장별로 처리\n",
    "for i in range(1, len(split_parts), 2):\n",
    "    chapter_title = split_parts[i].strip()\n",
    "    content = split_parts[i+1].strip() if i+1 < len(split_parts) else \"\"\n",
    "    \n",
    "    # 이 장의 내용에서 편 정보가 변경되었는지 확인\n",
    "    edition_match = edition_pattern.search(content)\n",
    "    if edition_match:\n",
    "        current_edition = edition_match.group(1)\n",
    "    \n",
    "    metadata = {\n",
    "        \"chapter\": chapter_title,\n",
    "        \"edition\": current_edition\n",
    "    }\n",
    "    \n",
    "    chunk_text = chapter_title + \"\\n\" + content\n",
    "    chunks.append(Document(page_content=chunk_text, metadata=metadata))"
   ]
  },
  {
   "cell_type": "code",
   "execution_count": 4,
   "id": "4dbca607",
   "metadata": {},
   "outputs": [
    {
     "name": "stdout",
     "output_type": "stream",
     "text": [
      "Total chunks created: 47\n",
      "\n",
      "--- First Chunk ---\n",
      "Metadata: {'producer': 'iText 2.1.7 by 1T3XT', 'creator': 'PyPDF', 'creationdate': '2013-11-08T14:53:09+09:00', 'moddate': '2013-11-08T14:53:09+09:00', 'source': './dataset/criminal-law.pdf', 'total_pages': 50, 'page': 2, 'page_label': '3', 'edition': '제1편 총칙'}\n",
      "Content:\n",
      "법제처                                                            3                                                       국가법령정보센터\n",
      "「형법」\n",
      " \n",
      "                    제1편 총칙...\n",
      "\n",
      "--- Second Chunk ---\n",
      "Metadata: {'chapter': '제1장 형법의 적용범위', 'edition': '제1편 총칙'}\n",
      "Content:\n",
      "제1장 형법의 적용범위\n",
      "제1조(범죄의 성립과 처벌) ①범죄의 성립과 처벌은 행위 시의 법률에 의한다.\n",
      "②범죄 후 법률의 변경에 의하여 그 행위가 범죄를 구성하지 아니하거나 형이 구법보다 경한\n",
      "때에는 신법에 의한다.\n",
      "③재판확정 후 법률의 변경에 의하여 그 행위가 범죄를 구성하지 아니하는 때에는 형의 집행\n",
      "을 면제한다.\n",
      " \n",
      "제2조(국내범) 본법은 대한민국영역 내에서 죄를 범한 내국인과 외국인에게 적용한다.\n",
      " \n",
      "제3조(내국인의 국외범) 본법은 대한민국영역 외에서 죄를 범한 내국인에게 적용한다.\n",
      " \n",
      "제4조(국외에 있는 내국선박 등에서 외국인이 범한 죄) 본법은 대한민국영역 외에 있는 대한민\n",
      "국의 선박 또는 항공기 내에서 죄를 범한 외국인에게 적용한다.\n",
      " \n",
      "제5조(외국인의 국외범) 본법은 대한민국영역 외에서 다음에 기재한 죄를 범한 외국인에게 적용\n",
      "한다.\n",
      "1. 내란의 죄\n",
      "2. 외환의 죄\n",
      "3. 국기에 관한 죄\n",
      "4. 통화에 관한 죄\n",
      "5. 유가증권, 우표와 인지에 관한 죄\n",
      "6. 문서에 관한 죄 중...\n"
     ]
    }
   ],
   "source": [
    "print(f\"Total chunks created: {len(chunks)}\")\n",
    "if chunks:\n",
    "    print(\"\\n--- First Chunk ---\")\n",
    "    print(f\"Metadata: {chunks[0].metadata}\")\n",
    "    print(f\"Content:\\n{chunks[0].page_content[:500]}...\") # Print first 500 chars\n",
    "\n",
    "if len(chunks) > 1:\n",
    "    print(\"\\n--- Second Chunk ---\")\n",
    "    print(f\"Metadata: {chunks[1].metadata}\")\n",
    "    print(f\"Content:\\n{chunks[1].page_content[:500]}...\") # Print first 500 chars"
   ]
  },
  {
   "cell_type": "code",
   "execution_count": null,
   "id": "385d0634",
   "metadata": {},
   "outputs": [],
   "source": []
  }
 ],
 "metadata": {
  "kernelspec": {
   "display_name": "Python 3 (ipykernel)",
   "language": "python",
   "name": "python3"
  },
  "language_info": {
   "codemirror_mode": {
    "name": "ipython",
    "version": 3
   },
   "file_extension": ".py",
   "mimetype": "text/x-python",
   "name": "python",
   "nbconvert_exporter": "python",
   "pygments_lexer": "ipython3",
   "version": "3.9.21"
  }
 },
 "nbformat": 4,
 "nbformat_minor": 5
}
