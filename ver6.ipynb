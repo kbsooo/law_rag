{
 "cells": [
  {
   "cell_type": "markdown",
   "id": "2b5833c8",
   "metadata": {},
   "source": [
    "# Graph Enhanced RAG"
   ]
  },
  {
   "cell_type": "code",
   "execution_count": 1,
   "id": "743dd5d6",
   "metadata": {},
   "outputs": [],
   "source": [
    "import os\n",
    "import json\n",
    "import re\n",
    "from dotenv import load_dotenv\n",
    "from langchain_community.document_loaders import PyPDFLoader\n",
    "from langchain.text_splitter import RecursiveCharacterTextSplitter\n",
    "from langchain_core.documents import Document\n",
    "from langchain_openai import OpenAIEmbeddings\n",
    "from neo4j import GraphDatabase\n",
    "import time"
   ]
  },
  {
   "cell_type": "code",
   "execution_count": 2,
   "id": "9941a83e",
   "metadata": {},
   "outputs": [],
   "source": [
    "load_dotenv()\n",
    "\n",
    "NEO4J_URI = os.getenv(\"NEO4J_URI\")\n",
    "NEO4J_USERNAME = os.getenv(\"NEO4J_USERNAME\")\n",
    "NEO4J_PASSWORD = os.getenv(\"NEO4J_PASSWORD\")\n",
    "OPENAI_API_KEY = os.getenv(\"OPENAI_API_KEY\")\n",
    "\n",
    "# Embedding model 설정\n",
    "embedding_model = OpenAIEmbeddings(model='text-embedding-3-small', api_key=OPENAI_API_KEY)\n",
    "embedding_dimension = 1536 # text-embedding-3-small 차원\n",
    "\n",
    "# Data path\n",
    "pdf_path = './dataset/criminal-law.pdf'\n",
    "precedent_dir = './dataset/precedent_label/'"
   ]
  },
  {
   "cell_type": "code",
   "execution_count": 3,
   "id": "333a6d54",
   "metadata": {},
   "outputs": [
    {
     "name": "stdout",
     "output_type": "stream",
     "text": [
      "Processed 548 article from PDF\n",
      "\n",
      "--- 처음 5개 조항 ---\n",
      "\n",
      "--- Article: 제1조(범죄의 성립과 처벌) ---\n",
      "제1조(범죄의 성립과 처벌) ①범죄의 성립과 처벌은 행위 시의 법률에 의한다.\n",
      "②범죄 후 법률의 변경에 의하여 그 행위가 범죄를 구성하지 아니하거나 형이 구법보다 경한\n",
      "때에는 신법에 의한다.\n",
      "③재판확정 후 법률의 변경에 의하여 그 행위가 범죄를 구성하지 아니하는 때에는 형의 집행\n",
      "을 면제한다.\n",
      "\n",
      "--- Article: 제2조(국내범) ---\n",
      "제2조(국내범) 본법은 대한민국영역 내에서 죄를 범한 내국인과 외국인에게 적용한다.\n",
      "\n",
      "--- Article: 제3조(내국인의 국외범) ---\n",
      "제3조(내국인의 국외범) 본법은 대한민국영역 외에서 죄를 범한 내국인에게 적용한다.\n",
      "\n",
      "--- Article: 제4조(국외에 있는 내국선박 등에서 외국인이 범한 죄) ---\n",
      "제4조(국외에 있는 내국선박 등에서 외국인이 범한 죄) 본법은 대한민국영역 외에 있는 대한민\n",
      "국의 선박 또는 항공기 내에서 죄를 범한 외국인에게 적용한다.\n",
      "\n",
      "--- Article: 제5조(외국인의 국외범) ---\n",
      "제5조(외국인의 국외범) 본법은 대한민국영역 외에서 다음에 기재한 죄를 범한 외국인에게 적용\n",
      "한다.\n",
      "1. 내란의 죄\n",
      "2. 외환의 죄\n",
      "3. 국기에 관한 죄\n",
      "4. 통화에 관한 죄\n",
      "5. 유가증권, 우표와 인지에 관한 죄\n",
      "6. 문서에 관한 죄 중\n",
      "\n",
      "--- 마지막 5개 조항 ---\n",
      "\n",
      "--- Article: 제4조 (형에 관한 경과조치) ---\n",
      "제4조 (형에 관한 경과조치) 이 법 시행전에 종전의 형법규정에 의하여 형의 선고를 받은 자는\n",
      "이 법에 의하여 형의 선고를 받은 것으로 본다. 집행유예 또는 선고유예를 받은 경우에도 이와\n",
      "같다.\n",
      "\n",
      "--- Article: 제5조 (다른 법령과의 관계) ---\n",
      "제5조 (다른 법령과의 관계) 이 법 시행당시 다른 법령에서 종전의 형법 규정(장의 제목을 포함\n",
      "한다)을 인용하고 있는 경우에 이 법중 그에 해당하는 규정이 있는 때에는 종전의 규정에 갈음\n",
      "하여 이 법의 해당 조항을 인용한 것으로 본다.\n",
      "  \n",
      "부칙 <제5454호,1997.12.13>\n",
      "이 법은 1998년 1월 1일부터 시행한다. <단서 생략>\n",
      "  \n",
      "부칙 <제...\n",
      "\n",
      "--- Article: 제7조 ---\n",
      "제7조(제2항 및 제29항\n",
      "을 제외한다)의 규정은 2008년 1월 1일부터 시행한다.\n",
      "\n",
      "--- Article: 제2조 ---\n",
      "제2조 내지\n",
      "\n",
      "--- Article: 제6조 ---\n",
      "제6조 생략\n",
      "\n",
      "--- Article: 제7조 (다른 법률의 개정) ---\n",
      "제7조 (다른 법률의 개정) ①내지 <26>생략\n",
      "<27>형법 일부를 다음과 같이 개정한다.\n",
      "\n",
      "--- Article: 제151조 ---\n",
      "제151조제2항 및\n",
      "\n",
      "--- Article: 제155조 ---\n",
      "제155조제4항중 \"친족, 호주 또는 동거의 가족\"을 각각 \"친족 또는 동거의\n",
      "가족\"으로 한다.\n",
      "\n",
      "--- Article: 제305조의2 ---\n",
      "제305조의2의 개정규정은\n",
      "공포한 날부터 시행한다.\n",
      "②(가석방의 요건에 관한 적용례)\n",
      "\n",
      "--- Article: 제72조 ---\n",
      "제72조제1항의 개정규정은 이 법 시행 당시 수용 중인 사람에\n",
      "대하여도 적용한다.\n",
      "형법\n",
      " 제 작 자   :송진아\n",
      "메일주소  :blue4890@hanmail.net\n",
      "제작일자  :2013.11.8\n",
      " 법제처 국가법령정보센터\n"
     ]
    }
   ],
   "source": [
    "# Load PDF\n",
    "loader = PyPDFLoader(pdf_path)\n",
    "# pages = loader.load()[2:] # 첫 두 페이지 생략 (표지랑 목차)\n",
    "pages = loader.load() # 아님말고\n",
    "full_text = \"\\n\".join(page.page_content for page in pages)\n",
    "\n",
    "# 전체 텍스트에서 모든 조항 시작 위치 찾기\n",
    "article_pattern = r'제\\d+조(?:의\\d+)?(?:\\s*\\(.+?\\))?'\n",
    "matches = list(re.finditer(article_pattern, full_text))\n",
    "\n",
    "articles = {}\n",
    "for i in range(len(matches)):\n",
    "  current_match = matches[i]\n",
    "  current_article_id = current_match.group(0).strip() # 현재 조항 ID\n",
    "  \n",
    "  # 현재 조항 시작 위치\n",
    "  start_pos = current_match.start()\n",
    "  \n",
    "  # 다음 조항 시작 위치 (없으면 텍스트 끝까지)\n",
    "  end_pos = matches[i+1].start() if i < len(matches)-1 else len(full_text)\n",
    "  \n",
    "  # 현재 조항의 전체 내용 (ID 포함)\n",
    "  article_text = full_text[start_pos:end_pos].strip()\n",
    "  \n",
    "  # 저장 (ID는 조항 번호만)\n",
    "  articles[current_article_id] = article_text\n",
    "  \n",
    "print(f\"Processed {len(articles)} article from PDF\")\n",
    "\n",
    "# 예시 출력\n",
    "if articles:\n",
    "  article_ids = list(articles.keys())\n",
    "  \n",
    "  print(\"\\n--- 처음 5개 조항 ---\")\n",
    "  for i in range(min(5, len(article_ids))):\n",
    "    article_id = article_ids[i]\n",
    "    content = articles[article_id]\n",
    "    print(f\"\\n--- Article: {article_id} ---\")\n",
    "    print(content[:200] + \"...\" if len(content) > 200 else content)\n",
    "    \n",
    "  print(\"\\n--- 마지막 5개 조항 ---\")\n",
    "  for i in range(max(0, len(article_ids)-10), len(article_ids)):\n",
    "    article_id = article_ids[i]\n",
    "    content = articles[article_id]\n",
    "    print(f\"\\n--- Article: {article_id} ---\")\n",
    "    print(content[:200] + \"...\" if len(content) > 200 else content)"
   ]
  },
  {
   "cell_type": "code",
   "execution_count": 4,
   "id": "e746350b",
   "metadata": {},
   "outputs": [
    {
     "name": "stdout",
     "output_type": "stream",
     "text": [
      "Loaded 5404 precedents.\n",
      "\n",
      "--- Example Precedent ---\n",
      "{\n",
      "  \"case_id\": \"88도2209\",\n",
      "  \"case_name\": \"매장및묘지등에관한법률위반, 사문서위조, 동행사, 조세범처벌법위반, 특정범죄가중처벌등에관한법률위반\",\n",
      "  \"judgment_summary\": \"가. 작성명의자의 인영이나 주민등록번호의 등재가 누락된 문서가 사문서위조죄의 객체인 사문서에 해당하는지 여부\\n나. 사문서위조 및 동행사죄가 조세범처벌법 제9조 소정의 조세포탈의 수단으로 행해진 경우 후자의 죄에 흡수되는지 여부(소극)\",\n",
      "  \"full_summary\": \"사문서의 작성명의자의 인장이 압날되지 아니하고 주민등록번호가 기재되지 않았다고 하더라도, 일반인으로 하여금 그 작상명의자가 진정하게 작성한 사문서로 믿기에 충분할 정도의 형식과 외관을 갖추었으면 사문서위조죄 및 동행사죄의 객체가 되는 사문서라고 보아야 할 것이고, 사문서위조 및 동행사죄가 조세범처벌법 제9조 제1항 소정의 “사기 기타 부정한 행위로써 조세를 포탈”하기 위한 수단으로 행하여졌다고 하여 조세범처벌법 제9조 소정의 조세포탈죄에 흡수된다고 볼 수도 없는 것이므로, 논지는 이유가 없다.\",\n",
      "  \"keywords\": [\n",
      "    \"사문서위조\",\n",
      "    \"동행사\"\n",
      "  ],\n",
      "  \"referenced_rules\": [\n",
      "    \"제231조\",\n",
      "    \"제9조\",\n",
      "    \"제37조\",\n",
      "    \"제234조\"\n",
      "  ],\n",
      "  \"referenced_cases\": []\n",
      "}\n"
     ]
    }
   ],
   "source": [
    "# Load precedent JSON files (판례 불러오기)\n",
    "precedents = []\n",
    "for filename in os.listdir(precedent_dir):\n",
    "    if filename.endswith(\".json\"):\n",
    "        filepath = os.path.join(precedent_dir, filename)\n",
    "        try:\n",
    "            with open(filepath, 'r', encoding='utf-8') as f:\n",
    "                data = json.load(f)\n",
    "                # 기존에 라벨링 되어있었음\n",
    "                precedent_info = {\n",
    "                    \"case_id\": data.get(\"info\", {}).get(\"caseNoID\", filename.replace(\".json\", \"\")), # 사건번호 (없으면 파일명 사용)\n",
    "                    \"case_name\": data.get(\"info\", {}).get(\"caseNm\"), # 사건명\n",
    "                    \"judgment_summary\": data.get(\"jdgmn\"), # 판결 요약\n",
    "                    \"full_summary\": \" \".join([s.get(\"summ_contxt\", \"\") for s in data.get(\"Summary\", [])]), # 전체 요약 텍스트\n",
    "                    \"keywords\": [kw.get(\"keyword\") for kw in data.get(\"keyword_tagg\", []) if kw.get(\"keyword\")], # 키워드 목록\n",
    "                    \"referenced_rules\": data.get(\"Reference_info\", {}).get(\"reference_rules\", \"\").split(',') if data.get(\"Reference_info\", {}).get(\"reference_rules\") else [], # 참조 법조항\n",
    "                    \"referenced_cases\": data.get(\"Reference_info\", {}).get(\"reference_court_case\", \"\").split(',') if data.get(\"Reference_info\", {}).get(\"reference_court_case\") else [], # 참조 판례\n",
    "                }\n",
    "                # 참조 법조항 정제 (조항 번호만)\n",
    "                cleaned_rules = []\n",
    "                rule_pattern = re.compile(r'제\\d+조(?:의\\d+)?') # 패턴 찾기: \"제X조\" or \"제X조의Y\"\n",
    "                for rule in precedent_info[\"referenced_rules\"]:\n",
    "                    # 각 규칙 문자열에서 모든 일치 항목 찾기\n",
    "                    matches = rule_pattern.findall(rule.strip())\n",
    "                    cleaned_rules.extend(matches)\n",
    "                precedent_info[\"referenced_rules\"] = list(set(cleaned_rules)) # 중복 제거하여 고유한 조항 번호만 유지\n",
    "\n",
    "                precedents.append(precedent_info)\n",
    "        except json.JSONDecodeError:\n",
    "            print(f\"Warning: Could not decode JSON from {filename}\")\n",
    "        except Exception as e:\n",
    "            print(f\"Error processing {filename}: {e}\")\n",
    "\n",
    "\n",
    "print(f\"Loaded {len(precedents)} precedents.\")\n",
    "# 예시 출력\n",
    "if precedents:\n",
    "    print(\"\\n--- Example Precedent ---\")\n",
    "    print(json.dumps(precedents[0], indent=2, ensure_ascii=False))"
   ]
  },
  {
   "cell_type": "code",
   "execution_count": 5,
   "id": "ee32c7ef",
   "metadata": {},
   "outputs": [],
   "source": [
    "# 로드된 판례 중 무작위로 1,000개만 선택 (시간 문제 때문에...)\n",
    "import random\n",
    "random.seed(42)  # 재현성을 위한 시드 설정\n",
    "\n",
    "# 전체 판례 수 저장\n",
    "total_precedents = len(precedents)\n",
    "\n",
    "# 무작위로 1,000개 선택 (또는 전체 판례 수가 1,000개보다 적다면 모두 선택)\n",
    "sample_size = min(1000, total_precedents)\n",
    "precedents = random.sample(precedents, sample_size)"
   ]
  },
  {
   "cell_type": "code",
   "execution_count": 6,
   "id": "4986f6cb",
   "metadata": {},
   "outputs": [
    {
     "name": "stdout",
     "output_type": "stream",
     "text": [
      "Successfully connected to Neo4j.\n",
      "Article vector index created or already exists.\n",
      "Precedent vector index created or already exists.\n",
      "Waiting for indexes to populate...\n",
      "Indexes should be online.\n"
     ]
    }
   ],
   "source": [
    "# Neo4j 데이터베이스에 연결\n",
    "try:\n",
    "    driver = GraphDatabase.driver(NEO4J_URI, auth=(NEO4J_USERNAME, NEO4J_PASSWORD))\n",
    "    driver.verify_connectivity()  # 연결 확인\n",
    "    print(\"Successfully connected to Neo4j.\")\n",
    "except Exception as e:\n",
    "    print(f\"Failed to connect to Neo4j: {e}\")\n",
    "    # 연결 실패 시 실행 중단\n",
    "    raise\n",
    "\n",
    "# 빠른 조회와 임베딩 검색을 위한 제약조건과 인덱스 생성 함수\n",
    "def setup_neo4j(driver, dimension):\n",
    "    with driver.session(database=\"neo4j\") as session:\n",
    "        # 고유성을 위한 제약조건 설정\n",
    "        session.run(\"CREATE CONSTRAINT article_id IF NOT EXISTS FOR (a:Article) REQUIRE a.id IS UNIQUE\")  # 법조항 ID 고유성 제약\n",
    "        session.run(\"CREATE CONSTRAINT precedent_id IF NOT EXISTS FOR (p:Precedent) REQUIRE p.id IS UNIQUE\")  # 판례 ID 고유성 제약\n",
    "        session.run(\"CREATE CONSTRAINT keyword_text IF NOT EXISTS FOR (k:Keyword) REQUIRE k.text IS UNIQUE\")  # 키워드 텍스트 고유성 제약\n",
    "\n",
    "        # 법조항(Article)에 대한 벡터 인덱스 생성\n",
    "        try:\n",
    "            session.run(\n",
    "                \"CREATE VECTOR INDEX article_embedding IF NOT EXISTS \"  # 존재하지 않는 경우에만 생성\n",
    "                \"FOR (a:Article) ON (a.embedding) \"  # Article 노드의 embedding 속성에 대한 인덱스\n",
    "                f\"OPTIONS {{indexConfig: {{`vector.dimensions`: {dimension}, `vector.similarity_function`: 'cosine'}}}}\"  # 벡터 차원 및 유사도 함수 설정\n",
    "            )\n",
    "            print(\"Article vector index created or already exists.\")\n",
    "        except Exception as e:\n",
    "            print(f\"Error creating Article vector index (may require Neo4j 5.11+ and APOC): {e}\")  # Neo4j 버전 문제일 수 있음\n",
    "            print(\"Continuing without vector index creation for Article.\")  # 인덱스 없이 계속 진행\n",
    "\n",
    "        # 판례(Precedent)에 대한 벡터 인덱스 생성\n",
    "        try:\n",
    "            session.run(\n",
    "                \"CREATE VECTOR INDEX precedent_embedding IF NOT EXISTS \"  # 존재하지 않는 경우에만 생성\n",
    "                \"FOR (p:Precedent) ON (p.embedding) \"  # Precedent 노드의 embedding 속성에 대한 인덱스\n",
    "                f\"OPTIONS {{indexConfig: {{`vector.dimensions`: {dimension}, `vector.similarity_function`: 'cosine'}}}}\"  # 벡터 차원 및 유사도 함수 설정\n",
    "            )\n",
    "            print(\"Precedent vector index created or already exists.\")\n",
    "        except Exception as e:\n",
    "            print(f\"Error creating Precedent vector index (may require Neo4j 5.11+ and APOC): {e}\")  # Neo4j 버전 문제일 수 있음\n",
    "            print(\"Continuing without vector index creation for Precedent.\")  # 인덱스 없이 계속 진행\n",
    "\n",
    "        # 인덱스가 활성화될 때까지 대기 (중요!)\n",
    "        print(\"Waiting for indexes to populate...\")\n",
    "        session.run(\"CALL db.awaitIndexes(300)\")  # 최대 300초(5분) 동안 대기\n",
    "        print(\"Indexes should be online.\")  # 인덱스 활성화 완료\n",
    "\n",
    "\n",
    "setup_neo4j(driver, embedding_dimension)  # 설정 함수 호출, embedding_dimension은 임베딩 벡터의 차원 크기"
   ]
  },
  {
   "cell_type": "code",
   "execution_count": null,
   "id": "63322227",
   "metadata": {},
   "outputs": [],
   "source": [
    "# 법조항 노드 생성 및 임베딩 생성/저장\n",
    "def create_article_nodes(driver, articles_dict, embed_model):\n",
    "    print(f\"Creating {len(articles_dict)} Article nodes...\")  # 생성할 법조항 노드 수 출력\n",
    "    count = 0\n",
    "    start_time = time.time()  # 실행 시간 측정 시작\n",
    "    with driver.session(database=\"neo4j\") as session:\n",
    "        for article_id, content in articles_dict.items():\n",
    "            if not content:  # 내용이 비어있는 경우 건너뛰기\n",
    "                print(f\"Skipping article {article_id} due to empty content.\")\n",
    "                continue\n",
    "            try:\n",
    "                # 텍스트에 대한 임베딩 생성\n",
    "                embedding = embed_model.embed_query(content)\n",
    "\n",
    "                # Neo4j에 노드 생성\n",
    "                session.run(\n",
    "                    \"\"\"\n",
    "                    MERGE (a:Article {id: $article_id})  # 해당 ID의 법조항이 있으면 찾고, 없으면 생성\n",
    "                    SET a.text = $content,               # 법조항 텍스트 설정\n",
    "                        a.embedding = $embedding         # 임베딩 벡터 설정\n",
    "                    \"\"\",\n",
    "                    article_id=article_id,\n",
    "                    content=content,\n",
    "                    embedding=embedding\n",
    "                )\n",
    "                count += 1\n",
    "                if count % 50 == 0:  # 50개마다 진행상황 출력\n",
    "                    print(f\"  Processed {count}/{len(articles_dict)} articles...\")\n",
    "            except Exception as e:\n",
    "                print(f\"Error processing article {article_id}: {e}\")  # 오류 발생 시 메시지 출력\n",
    "\n",
    "    end_time = time.time()  # 실행 시간 측정 종료\n",
    "    print(f\"Finished creating {count} Article nodes in {end_time - start_time:.2f} seconds.\")  # 총 처리 시간 출력\n",
    "\n",
    "create_article_nodes(driver, articles, embedding_model)  # 함수 실행: 법조항 노드 생성 및 임베딩 저장"
   ]
  },
  {
   "cell_type": "code",
   "execution_count": null,
   "id": "5bb4fb3d",
   "metadata": {},
   "outputs": [],
   "source": [
    "# 판례 노드, 키워드 노드 생성 및 관계 설정\n",
    "def create_precedent_nodes_and_relationships(driver, precedents_list, embed_model):\n",
    "    print(f\"Creating {len(precedents_list)} Precedent nodes and relationships...\")  # 생성할 판례 노드 수 출력\n",
    "    count = 0\n",
    "    start_time = time.time()  # 실행 시간 측정 시작\n",
    "    with driver.session(database=\"neo4j\") as session:\n",
    "        for precedent in precedents_list:\n",
    "            # 임베딩에 사용할 텍스트: 전체 요약이 있으면 사용, 없으면 판결 요약 사용\n",
    "            text_to_embed = precedent.get(\"full_summary\") or precedent.get(\"judgment_summary\")\n",
    "            if not text_to_embed:\n",
    "                print(f\"Skipping precedent {precedent.get('case_id')} due to empty summary.\")  # 요약이 없는 경우 건너뛰기\n",
    "                continue\n",
    "\n",
    "            try:\n",
    "                # 텍스트 임베딩 생성\n",
    "                embedding = embed_model.embed_query(text_to_embed)\n",
    "\n",
    "                # 판례 노드 생성\n",
    "                session.run(\n",
    "                    \"\"\"\n",
    "                    MERGE (p:Precedent {id: $case_id})  # 해당 ID의 판례가 있으면 찾고, 없으면 생성\n",
    "                    SET p.name = $case_name,            # 판례명 설정\n",
    "                        p.judgment_summary = $judgment_summary,  # 판결 요약 설정\n",
    "                        p.full_summary = $full_summary,          # 전체 요약 설정\n",
    "                        p.embedding = $embedding         # 임베딩 벡터 설정\n",
    "                    \"\"\",\n",
    "                    case_id=precedent[\"case_id\"],\n",
    "                    case_name=precedent[\"case_name\"],\n",
    "                    judgment_summary=precedent[\"judgment_summary\"],\n",
    "                    full_summary=precedent[\"full_summary\"],\n",
    "                    embedding=embedding\n",
    "                )\n",
    "\n",
    "                # 키워드 노드 생성 및 판례와의 관계 설정\n",
    "                for keyword_text in precedent[\"keywords\"]:\n",
    "                    session.run(\n",
    "                        \"\"\"\n",
    "                        MERGE (k:Keyword {text: $keyword_text})  # 키워드 노드 생성 또는 찾기\n",
    "                        WITH k\n",
    "                        MATCH (p:Precedent {id: $case_id})       # 판례 노드 찾기\n",
    "                        MERGE (p)-[:HAS_KEYWORD]->(k)            # 판례와 키워드 간 관계 생성\n",
    "                        \"\"\",\n",
    "                        keyword_text=keyword_text,\n",
    "                        case_id=precedent[\"case_id\"]\n",
    "                    )\n",
    "\n",
    "                # 참조된 법조항과의 관계 생성\n",
    "                # 참고: 앞서 추출한 정제된 법조항 ID를 사용합니다\n",
    "                # \"제X조\" 형식을 기반으로 매칭합니다.\n",
    "                for article_id_ref in precedent[\"referenced_rules\"]:\n",
    "                     # 참조된 ID로 시작하는 법조항 노드 찾기(예: \"제21조\"는 \"제21조(정당방위)\"와 매칭됨)\n",
    "                     # 정확한 제목이 참조에 없는 경우에도 매칭이 가능하도록 덜 정밀한 방식 사용\n",
    "                    session.run(\n",
    "                        \"\"\"\n",
    "                        MATCH (p:Precedent {id: $case_id})         # 판례 노드 찾기\n",
    "                        MATCH (a:Article)                          # 모든 법조항 노드 찾기\n",
    "                        WHERE a.id STARTS WITH $article_id_ref     # 특정 ID로 시작하는 법조항만 필터링\n",
    "                        MERGE (p)-[:REFERENCES_ARTICLE]->(a)       # 판례가 법조항을 참조하는 관계 생성\n",
    "                        \"\"\",\n",
    "                        case_id=precedent[\"case_id\"],\n",
    "                        article_id_ref=article_id_ref  # 추출된 \"제X조\" 사용\n",
    "                    )\n",
    "\n",
    "                # 선택사항: 다른 참조된 판례와의 관계 생성 (필요한 경우)\n",
    "                # for ref_case_id in precedent[\"referenced_cases\"]:\n",
    "                #    session.run(...) # MERGE (p)-[:REFERENCES_CASE]->(other_p:Precedent {id: ref_case_id})\n",
    "\n",
    "                count += 1\n",
    "                if count % 100 == 0:  # 100개마다 진행상황 출력\n",
    "                    print(f\"  Processed {count}/{len(precedents_list)} precedents...\")\n",
    "\n",
    "            except Exception as e:\n",
    "                print(f\"Error processing precedent {precedent.get('case_id')}: {e}\")  # 오류 발생 시 메시지 출력\n",
    "\n",
    "    end_time = time.time()  # 실행 시간 측정 종료\n",
    "    print(f\"Finished creating {count} Precedent nodes and relationships in {end_time - start_time:.2f} seconds.\")  # 총 처리 시간 출력\n",
    "\n",
    "\n",
    "create_precedent_nodes_and_relationships(driver, precedents, embedding_model)  # 함수 실행: 판례 노드 생성 및 관계 설정\n",
    "\n",
    "# 작업 완료 후 드라이버 연결 종료\n",
    "# driver.close()  # 다음 단계에서 쿼리를 위해 연결 상태 유지"
   ]
  },
  {
   "cell_type": "code",
   "execution_count": 7,
   "id": "2b758227",
   "metadata": {},
   "outputs": [],
   "source": [
    "def graph_enhanced_rag(driver, query_text, embed_model, top_k=3):\n",
    "    # print(f\"\\n--- 그래프 기반 검색 실행: '{query_text}' ---\")\n",
    "    start_time = time.time()\n",
    "\n",
    "    # 임베딩 생성\n",
    "    query_embedding = embed_model.embed_query(query_text)\n",
    "    \n",
    "    # 키워드 추출\n",
    "    keywords = [w for w in re.findall(r'\\w+', query_text) if len(w) > 1]\n",
    "    \n",
    "    results = []\n",
    "    with driver.session(database=\"neo4j\") as session:\n",
    "        try:\n",
    "            # 그래프 구조를 활용한 검색\n",
    "            cypher_query = \"\"\"\n",
    "            // 1. 벡터 검색으로 시작 법조항 찾기\n",
    "            CALL db.index.vector.queryNodes('article_embedding', 5, $query_embedding) \n",
    "            YIELD node as article, score as article_score\n",
    "            \n",
    "            // 2. 해당 법조항과 연결된 판례와 키워드 찾기\n",
    "            OPTIONAL MATCH (precedent:Precedent)-[:REFERENCES_ARTICLE]->(article)\n",
    "            OPTIONAL MATCH (precedent)-[:HAS_KEYWORD]->(keyword:Keyword)\n",
    "            \n",
    "            // 3. 결과 집계 및 점수 계산\n",
    "            WITH article, article_score, precedent, \n",
    "                 collect(DISTINCT keyword.text) as keywords,\n",
    "                 count(precedent) as precedent_count\n",
    "            \n",
    "            // 법조항 점수 = 벡터 점수 + 판례 인용 수에 따른 보너스\n",
    "            WITH article, article_score + (precedent_count * 0.01) as final_score,\n",
    "                 precedent_count, keywords\n",
    "            \n",
    "            RETURN article.id as id, \n",
    "                   'Article' as type, \n",
    "                   article.text as text, \n",
    "                   final_score as score,\n",
    "                   precedent_count,\n",
    "                   keywords\n",
    "            ORDER BY final_score DESC\n",
    "            LIMIT $article_limit\n",
    "            \"\"\"\n",
    "            \n",
    "            # 법조항 검색\n",
    "            article_results = session.run(\n",
    "                cypher_query,\n",
    "                query_embedding=query_embedding,\n",
    "                article_limit=top_k\n",
    "            )\n",
    "            \n",
    "            for record in article_results:\n",
    "                results.append({\n",
    "                    \"type\": record[\"type\"],\n",
    "                    \"id\": record[\"id\"],\n",
    "                    \"score\": record[\"score\"],\n",
    "                    \"text\": record[\"text\"][:300] + \"...\" if len(record[\"text\"]) > 300 else record[\"text\"],\n",
    "                    \"precedent_count\": record[\"precedent_count\"],\n",
    "                    \"related_keywords\": record[\"keywords\"]\n",
    "                })\n",
    "            \n",
    "            # 관련 판례 검색\n",
    "            for article_result in results[:3]:  # 상위 3개 법조항에 대해서만\n",
    "                if article_result[\"type\"] == \"Article\":\n",
    "                    precedent_query = \"\"\"\n",
    "                    // 1. 특정 법조항을 참조하는 판례 찾기\n",
    "                    MATCH (precedent:Precedent)-[:REFERENCES_ARTICLE]->(article:Article)\n",
    "                    WHERE article.id STARTS WITH $article_id\n",
    "                    \n",
    "                    // 2. 해당 판례와 키워드\n",
    "                    OPTIONAL MATCH (precedent)-[:HAS_KEYWORD]->(keyword:Keyword)\n",
    "                    \n",
    "                    // 3. 벡터 유사도 계산\n",
    "                    CALL db.index.vector.queryNodes('precedent_embedding', 20, $query_embedding) \n",
    "                    YIELD node as vector_node, score as vector_score\n",
    "                    WHERE precedent = vector_node\n",
    "                    \n",
    "                    // 4. 검색어와 관련된 키워드가 있는지 확인하여 보너스 점수\n",
    "                    WITH precedent, vector_score, \n",
    "                         collect(DISTINCT keyword.text) as keywords,\n",
    "                         sum(CASE WHEN $query_keywords IS NULL THEN 0\n",
    "                              WHEN any(k IN $query_keywords WHERE keyword.text CONTAINS k) \n",
    "                              THEN 0.05 ELSE 0 END) as keyword_bonus\n",
    "                    \n",
    "                    // 5. 다른 법조항도 참조하는지 확인\n",
    "                    MATCH (precedent)-[:REFERENCES_ARTICLE]->(ref_article:Article)\n",
    "                    \n",
    "                    // 6. 최종 결과 반환\n",
    "                    RETURN precedent.id as id,\n",
    "                           'Precedent' as type,\n",
    "                           precedent.name as name,\n",
    "                           precedent.full_summary as text,\n",
    "                           vector_score + keyword_bonus as score,\n",
    "                           keywords,\n",
    "                           collect(DISTINCT ref_article.id) as referenced_articles\n",
    "                    ORDER BY score DESC\n",
    "                    LIMIT 2\n",
    "                    \"\"\"\n",
    "                    \n",
    "                    precedent_results = session.run(\n",
    "                        precedent_query,\n",
    "                        article_id=article_result[\"id\"],\n",
    "                        query_embedding=query_embedding,\n",
    "                        query_keywords=keywords\n",
    "                    )\n",
    "                    \n",
    "                    for record in precedent_results:\n",
    "                        # 중복 제거\n",
    "                        if not any(r[\"type\"] == \"Precedent\" and r[\"id\"] == record[\"id\"] for r in results):\n",
    "                            results.append({\n",
    "                                \"type\": record[\"type\"],\n",
    "                                \"id\": record[\"id\"],\n",
    "                                \"name\": record[\"name\"],\n",
    "                                \"score\": record[\"score\"],\n",
    "                                \"text\": record[\"text\"][:300] + \"...\" if len(record[\"text\"]) > 300 else record[\"text\"],\n",
    "                                \"keywords\": record[\"keywords\"],\n",
    "                                \"referenced_articles\": record[\"referenced_articles\"]\n",
    "                            })\n",
    "        \n",
    "        except Exception as e:\n",
    "            print(f\"그래프 검색 오류: {e}\")\n",
    "            # 백업: 기본 벡터 검색\n",
    "            try:\n",
    "                # Article 검색\n",
    "                article_res = session.run(\n",
    "                    \"\"\"\n",
    "                    CALL db.index.vector.queryNodes('article_embedding', $top_k, $query_embedding) \n",
    "                    YIELD node, score\n",
    "                    RETURN node.id AS id, 'Article' as type, node.text AS text, score\n",
    "                    \"\"\",\n",
    "                    top_k=top_k,\n",
    "                    query_embedding=query_embedding\n",
    "                )\n",
    "                \n",
    "                for record in article_res:\n",
    "                    results.append({\n",
    "                        \"type\": record[\"type\"],\n",
    "                        \"id\": record[\"id\"],\n",
    "                        \"score\": record[\"score\"],\n",
    "                        \"text\": record[\"text\"][:300] + \"...\" if len(record[\"text\"]) > 300 else record[\"text\"]\n",
    "                    })\n",
    "                \n",
    "                # Precedent 검색\n",
    "                precedent_res = session.run(\n",
    "                    \"\"\"\n",
    "                    CALL db.index.vector.queryNodes('precedent_embedding', $top_k, $query_embedding) \n",
    "                    YIELD node, score\n",
    "                    MATCH (node)-[:REFERENCES_ARTICLE]->(a:Article)\n",
    "                    OPTIONAL MATCH (node)-[:HAS_KEYWORD]->(k:Keyword)\n",
    "                    RETURN node.id AS id, 'Precedent' as type, \n",
    "                           node.name AS name, node.full_summary AS text, \n",
    "                           score,\n",
    "                           collect(DISTINCT a.id) as referenced_articles,\n",
    "                           collect(DISTINCT k.text) as keywords\n",
    "                    \"\"\",\n",
    "                    top_k=top_k,\n",
    "                    query_embedding=query_embedding\n",
    "                )\n",
    "                \n",
    "                for record in precedent_res:\n",
    "                    results.append({\n",
    "                        \"type\": record[\"type\"],\n",
    "                        \"id\": record[\"id\"],\n",
    "                        \"name\": record[\"name\"],\n",
    "                        \"score\": record[\"score\"],\n",
    "                        \"text\": record[\"text\"][:300] + \"...\" if len(record[\"text\"]) > 300 else record[\"text\"],\n",
    "                        \"referenced_articles\": record[\"referenced_articles\"],\n",
    "                        \"keywords\": record[\"keywords\"]\n",
    "                    })\n",
    "            except Exception as e2:\n",
    "                print(f\"백업 검색 오류: {e2}\")\n",
    "    \n",
    "    end_time = time.time()\n",
    "    print(f\"검색 완료: {end_time - start_time:.2f}초 소요\")\n",
    "\n",
    "    # 결과를 스코어로 정렬\n",
    "    results.sort(key=lambda x: x[\"score\"], reverse=True)\n",
    "\n",
    "    # print(\"\\n--- 검색 결과 ---\")\n",
    "    # for i, res in enumerate(results[:top_k]):\n",
    "    #     print(f\"{i+1}. 유형: {res['type']}, ID: {res['id']}, 스코어: {res['score']:.4f}\")\n",
    "    #     if res['type'] == 'Precedent':\n",
    "    #         print(f\"   이름: {res.get('name')}\")\n",
    "    #         print(f\"   키워드: {res.get('keywords')}\")\n",
    "    #         print(f\"   참조 법조항: {res.get('referenced_articles')}\")\n",
    "    #     elif res['type'] == 'Article':\n",
    "    #         print(f\"   관련 판례 수: {res.get('precedent_count', 0)}\")\n",
    "    #         print(f\"   관련 키워드: {res.get('related_keywords')}\")\n",
    "    #     print(f\"   미리보기: {res['text']}\")\n",
    "    #     print(\"-\" * 20)\n",
    "\n",
    "    return results[:top_k]"
   ]
  },
  {
   "cell_type": "code",
   "execution_count": 8,
   "id": "cd9997c6",
   "metadata": {},
   "outputs": [
    {
     "name": "stderr",
     "output_type": "stream",
     "text": [
      "Received notification from DBMS server: {severity: WARNING} {code: Neo.ClientNotification.Statement.AggregationSkippedNull} {category: UNRECOGNIZED} {title: The query contains an aggregation function that skips null values.} {description: null value eliminated in set function.} {position: None} for query: \"\\n            // 1. 벡터 검색으로 시작 법조항 찾기\\n            CALL db.index.vector.queryNodes('article_embedding', 5, $query_embedding) \\n            YIELD node as article, score as article_score\\n            \\n            // 2. 해당 법조항과 연결된 판례와 키워드 찾기\\n            OPTIONAL MATCH (precedent:Precedent)-[:REFERENCES_ARTICLE]->(article)\\n            OPTIONAL MATCH (precedent)-[:HAS_KEYWORD]->(keyword:Keyword)\\n            \\n            // 3. 결과 집계 및 점수 계산\\n            WITH article, article_score, precedent, \\n                 collect(DISTINCT keyword.text) as keywords,\\n                 count(precedent) as precedent_count\\n            \\n            // 법조항 점수 = 벡터 점수 + 판례 인용 수에 따른 보너스\\n            WITH article, article_score + (precedent_count * 0.01) as final_score,\\n                 precedent_count, keywords\\n            \\n            RETURN article.id as id, \\n                   'Article' as type, \\n                   article.text as text, \\n                   final_score as score,\\n                   precedent_count,\\n                   keywords\\n            ORDER BY final_score DESC\\n            LIMIT $article_limit\\n            \"\n"
     ]
    },
    {
     "name": "stdout",
     "output_type": "stream",
     "text": [
      "검색 완료: 2.71초 소요\n",
      "\n",
      "Neo4j 드라이버 연결 종료\n"
     ]
    }
   ],
   "source": [
    "search_function = graph_enhanced_rag \n",
    "\n",
    "# 테스트 쿼리\n",
    "query = \"정당방위의 요건은 무엇인가?\"\n",
    "retrieved_context = search_function(driver, query, embedding_model, top_k=3)\n",
    "\n",
    "# 드라이버 연결 종료\n",
    "driver.close()\n",
    "print(\"\\nNeo4j 드라이버 연결 종료\")"
   ]
  },
  {
   "cell_type": "code",
   "execution_count": 9,
   "id": "b33038f3",
   "metadata": {},
   "outputs": [],
   "source": [
    "from typing import List, Dict, Any, Optional\n",
    "from dataclasses import dataclass\n",
    "from pydantic import BaseModel\n",
    "from pydantic_ai import Agent, RunContext\n",
    "from openai import OpenAI"
   ]
  },
  {
   "cell_type": "code",
   "execution_count": 15,
   "id": "9b6ce66f",
   "metadata": {},
   "outputs": [],
   "source": [
    "# Agent를 만들긴 했는데 batch api로 쓰기 때문에 agent로는 못쓸듯\n",
    "\n",
    "# # 검색 결과를 위한 타입 정의\n",
    "# class SearchResult(BaseModel):\n",
    "#     type: str\n",
    "#     id: str\n",
    "#     score: float\n",
    "#     text: str\n",
    "#     name: Optional[str] = None\n",
    "#     keywords: Optional[List[str]] = None\n",
    "#     referenced_articles: Optional[List[str]] = None\n",
    "#     precedent_count: Optional[int] = None\n",
    "#     related_keywords: Optional[List[str]] = None\n",
    "\n",
    "# # 검색 함수를 호출할 때 전달될 컨텍스트\n",
    "# @dataclass\n",
    "# class LegalContext:\n",
    "#     query: str\n",
    "#     driver: Any  # Neo4j driver\n",
    "#     embedding_model: Any\n",
    "\n",
    "# # Agent 응답 결과 모델\n",
    "# class LegalResponse(BaseModel):\n",
    "#     answer: str\n",
    "#     reasoning: str\n",
    "#     sources: List[str]\n",
    "\n",
    "# # Agent 생성\n",
    "# legal_agent = Agent(\n",
    "#     'openai:gpt-4o-mini',  # 요구사항에 맞는 모델\n",
    "#     deps_type=LegalContext,\n",
    "#     result_type=LegalResponse,\n",
    "#     system_prompt=\"\"\"\n",
    "#     당신은 한국 형법 전문가입니다. 법조항과 판례를 바탕으로 정확한 법률 해석과 설명을 제공해야 합니다.\n",
    "    \n",
    "#     사용자의 질문을 분석하고, 검색 도구를 사용해 관련 법조항과 판례를 찾아 답변을 작성하세요.\n",
    "#     항상 출처를 명확히 인용하고, 근거를 제시하며, 객관적이고 사실에 기반한 답변을 제공하세요.\n",
    "    \n",
    "#     답변 형식:\n",
    "#     1. 직접적인 질문 답변: 사용자 질문에 명확하게 답변\n",
    "#     2. 법적 근거: 관련 법조항 및 판례 인용\n",
    "#     3. 추가 설명: 필요시 법적 개념과 적용에 대한 상세 설명 제공\n",
    "    \n",
    "#     답변할 수 없는 질문이나 법적 조언이 필요한 경우 한계를 분명히 밝히세요.\n",
    "#     \"\"\",\n",
    "# )\n",
    "\n",
    "# # 검색 도구 등록\n",
    "# @legal_agent.tool\n",
    "# async def search_legal_knowledge(ctx: RunContext[LegalContext], query: str) -> List[SearchResult]:\n",
    "#     \"\"\"\n",
    "#     법률 지식 그래프에서 관련 법조항과 판례를 검색합니다.\n",
    "    \n",
    "#     Args:\n",
    "#         query: 검색할 질문이나 키워드\n",
    "        \n",
    "#     Returns:\n",
    "#         관련된 법조항과 판례 목록\n",
    "#     \"\"\"\n",
    "#     # 실제 검색 함수 호출 (동기 함수이므로 변환 필요)\n",
    "#     raw_results = graph_enhanced_rag(\n",
    "#         ctx.deps.driver, \n",
    "#         query or ctx.deps.query, \n",
    "#         ctx.deps.embedding_model,\n",
    "#         top_k=5\n",
    "#     )\n",
    "    \n",
    "#     # 결과를 SearchResult 객체로 변환\n",
    "#     results = []\n",
    "#     for result in raw_results:\n",
    "#         # 일부 필드가 없을 수 있으므로 안전하게 처리\n",
    "#         search_result = SearchResult(\n",
    "#             type=result.get(\"type\", \"\"),\n",
    "#             id=result.get(\"id\", \"\"),\n",
    "#             score=result.get(\"score\", 0.0),\n",
    "#             text=result.get(\"text\", \"\"),\n",
    "#             name=result.get(\"name\"),\n",
    "#             keywords=result.get(\"keywords\", []),\n",
    "#             referenced_articles=result.get(\"referenced_articles\", []),\n",
    "#             precedent_count=result.get(\"precedent_count\"),\n",
    "#             related_keywords=result.get(\"related_keywords\", [])\n",
    "#         )\n",
    "#         results.append(search_result)\n",
    "    \n",
    "#     return results\n",
    "\n",
    "# # LLM 응답을 생성하는 함수\n",
    "# async def generate_legal_answer(query: str, driver, embedding_model) -> LegalResponse:\n",
    "#     # Agent 실행을 위한 컨텍스트 생성\n",
    "#     context = LegalContext(\n",
    "#         query=query,\n",
    "#         driver=driver,\n",
    "#         embedding_model=embedding_model\n",
    "#     )\n",
    "    \n",
    "#     # Agent 실행\n",
    "#     result = await legal_agent.run(query, deps=context)\n",
    "#     return result.data\n",
    "\n",
    "# # 동기 버전 - Jupyter 노트북에서 사용 편의성 제공\n",
    "# def generate_legal_answer_sync(query: str, driver, embedding_model) -> LegalResponse:\n",
    "#     \"\"\"법률 질의에 대한 응답을 생성합니다.\"\"\"\n",
    "#     import asyncio\n",
    "    \n",
    "#     # 비동기 함수를 동기적으로 실행\n",
    "#     try:\n",
    "#         loop = asyncio.get_event_loop()\n",
    "#     except RuntimeError:\n",
    "#         # 이미 이벤트 루프가 닫혔거나 없는 경우 새로 생성\n",
    "#         loop = asyncio.new_event_loop()\n",
    "#         asyncio.set_event_loop(loop)\n",
    "    \n",
    "#     result = loop.run_until_complete(generate_legal_answer(query, driver, embedding_model))\n",
    "#     return result"
   ]
  },
  {
   "cell_type": "code",
   "execution_count": null,
   "id": "04ae8c85",
   "metadata": {},
   "outputs": [
    {
     "name": "stdout",
     "output_type": "stream",
     "text": [
      "Loaded 200 questions from CSV file\n",
      "Connected to Neo4j\n",
      "Performing RAG search for all questions...\n"
     ]
    },
    {
     "data": {
      "application/vnd.jupyter.widget-view+json": {
       "model_id": "5afdb54d3f314795a0fe245242c74362",
       "version_major": 2,
       "version_minor": 0
      },
      "text/plain": [
       "Searching contexts:   0%|          | 0/200 [00:00<?, ?it/s]"
      ]
     },
     "metadata": {},
     "output_type": "display_data"
    },
    {
     "name": "stderr",
     "output_type": "stream",
     "text": [
      "Received notification from DBMS server: {severity: WARNING} {code: Neo.ClientNotification.Statement.AggregationSkippedNull} {category: UNRECOGNIZED} {title: The query contains an aggregation function that skips null values.} {description: null value eliminated in set function.} {position: None} for query: \"\\n            // 1. 벡터 검색으로 시작 법조항 찾기\\n            CALL db.index.vector.queryNodes('article_embedding', 5, $query_embedding) \\n            YIELD node as article, score as article_score\\n            \\n            // 2. 해당 법조항과 연결된 판례와 키워드 찾기\\n            OPTIONAL MATCH (precedent:Precedent)-[:REFERENCES_ARTICLE]->(article)\\n            OPTIONAL MATCH (precedent)-[:HAS_KEYWORD]->(keyword:Keyword)\\n            \\n            // 3. 결과 집계 및 점수 계산\\n            WITH article, article_score, precedent, \\n                 collect(DISTINCT keyword.text) as keywords,\\n                 count(precedent) as precedent_count\\n            \\n            // 법조항 점수 = 벡터 점수 + 판례 인용 수에 따른 보너스\\n            WITH article, article_score + (precedent_count * 0.01) as final_score,\\n                 precedent_count, keywords\\n            \\n            RETURN article.id as id, \\n                   'Article' as type, \\n                   article.text as text, \\n                   final_score as score,\\n                   precedent_count,\\n                   keywords\\n            ORDER BY final_score DESC\\n            LIMIT $article_limit\\n            \"\n"
     ]
    },
    {
     "name": "stdout",
     "output_type": "stream",
     "text": [
      "검색 완료: 2.05초 소요\n",
      "검색 완료: 1.45초 소요\n",
      "검색 완료: 2.16초 소요\n"
     ]
    },
    {
     "name": "stderr",
     "output_type": "stream",
     "text": [
      "Received notification from DBMS server: {severity: WARNING} {code: Neo.ClientNotification.Statement.AggregationSkippedNull} {category: UNRECOGNIZED} {title: The query contains an aggregation function that skips null values.} {description: null value eliminated in set function.} {position: None} for query: \"\\n            // 1. 벡터 검색으로 시작 법조항 찾기\\n            CALL db.index.vector.queryNodes('article_embedding', 5, $query_embedding) \\n            YIELD node as article, score as article_score\\n            \\n            // 2. 해당 법조항과 연결된 판례와 키워드 찾기\\n            OPTIONAL MATCH (precedent:Precedent)-[:REFERENCES_ARTICLE]->(article)\\n            OPTIONAL MATCH (precedent)-[:HAS_KEYWORD]->(keyword:Keyword)\\n            \\n            // 3. 결과 집계 및 점수 계산\\n            WITH article, article_score, precedent, \\n                 collect(DISTINCT keyword.text) as keywords,\\n                 count(precedent) as precedent_count\\n            \\n            // 법조항 점수 = 벡터 점수 + 판례 인용 수에 따른 보너스\\n            WITH article, article_score + (precedent_count * 0.01) as final_score,\\n                 precedent_count, keywords\\n            \\n            RETURN article.id as id, \\n                   'Article' as type, \\n                   article.text as text, \\n                   final_score as score,\\n                   precedent_count,\\n                   keywords\\n            ORDER BY final_score DESC\\n            LIMIT $article_limit\\n            \"\n"
     ]
    },
    {
     "name": "stdout",
     "output_type": "stream",
     "text": [
      "검색 완료: 2.16초 소요\n",
      "검색 완료: 1.01초 소요\n"
     ]
    },
    {
     "name": "stderr",
     "output_type": "stream",
     "text": [
      "Received notification from DBMS server: {severity: WARNING} {code: Neo.ClientNotification.Statement.AggregationSkippedNull} {category: UNRECOGNIZED} {title: The query contains an aggregation function that skips null values.} {description: null value eliminated in set function.} {position: None} for query: \"\\n            // 1. 벡터 검색으로 시작 법조항 찾기\\n            CALL db.index.vector.queryNodes('article_embedding', 5, $query_embedding) \\n            YIELD node as article, score as article_score\\n            \\n            // 2. 해당 법조항과 연결된 판례와 키워드 찾기\\n            OPTIONAL MATCH (precedent:Precedent)-[:REFERENCES_ARTICLE]->(article)\\n            OPTIONAL MATCH (precedent)-[:HAS_KEYWORD]->(keyword:Keyword)\\n            \\n            // 3. 결과 집계 및 점수 계산\\n            WITH article, article_score, precedent, \\n                 collect(DISTINCT keyword.text) as keywords,\\n                 count(precedent) as precedent_count\\n            \\n            // 법조항 점수 = 벡터 점수 + 판례 인용 수에 따른 보너스\\n            WITH article, article_score + (precedent_count * 0.01) as final_score,\\n                 precedent_count, keywords\\n            \\n            RETURN article.id as id, \\n                   'Article' as type, \\n                   article.text as text, \\n                   final_score as score,\\n                   precedent_count,\\n                   keywords\\n            ORDER BY final_score DESC\\n            LIMIT $article_limit\\n            \"\n"
     ]
    },
    {
     "name": "stdout",
     "output_type": "stream",
     "text": [
      "검색 완료: 2.13초 소요\n"
     ]
    },
    {
     "name": "stderr",
     "output_type": "stream",
     "text": [
      "Received notification from DBMS server: {severity: WARNING} {code: Neo.ClientNotification.Statement.AggregationSkippedNull} {category: UNRECOGNIZED} {title: The query contains an aggregation function that skips null values.} {description: null value eliminated in set function.} {position: None} for query: \"\\n            // 1. 벡터 검색으로 시작 법조항 찾기\\n            CALL db.index.vector.queryNodes('article_embedding', 5, $query_embedding) \\n            YIELD node as article, score as article_score\\n            \\n            // 2. 해당 법조항과 연결된 판례와 키워드 찾기\\n            OPTIONAL MATCH (precedent:Precedent)-[:REFERENCES_ARTICLE]->(article)\\n            OPTIONAL MATCH (precedent)-[:HAS_KEYWORD]->(keyword:Keyword)\\n            \\n            // 3. 결과 집계 및 점수 계산\\n            WITH article, article_score, precedent, \\n                 collect(DISTINCT keyword.text) as keywords,\\n                 count(precedent) as precedent_count\\n            \\n            // 법조항 점수 = 벡터 점수 + 판례 인용 수에 따른 보너스\\n            WITH article, article_score + (precedent_count * 0.01) as final_score,\\n                 precedent_count, keywords\\n            \\n            RETURN article.id as id, \\n                   'Article' as type, \\n                   article.text as text, \\n                   final_score as score,\\n                   precedent_count,\\n                   keywords\\n            ORDER BY final_score DESC\\n            LIMIT $article_limit\\n            \"\n"
     ]
    },
    {
     "name": "stdout",
     "output_type": "stream",
     "text": [
      "검색 완료: 1.84초 소요\n",
      "검색 완료: 1.28초 소요\n"
     ]
    },
    {
     "name": "stderr",
     "output_type": "stream",
     "text": [
      "Received notification from DBMS server: {severity: WARNING} {code: Neo.ClientNotification.Statement.AggregationSkippedNull} {category: UNRECOGNIZED} {title: The query contains an aggregation function that skips null values.} {description: null value eliminated in set function.} {position: None} for query: \"\\n            // 1. 벡터 검색으로 시작 법조항 찾기\\n            CALL db.index.vector.queryNodes('article_embedding', 5, $query_embedding) \\n            YIELD node as article, score as article_score\\n            \\n            // 2. 해당 법조항과 연결된 판례와 키워드 찾기\\n            OPTIONAL MATCH (precedent:Precedent)-[:REFERENCES_ARTICLE]->(article)\\n            OPTIONAL MATCH (precedent)-[:HAS_KEYWORD]->(keyword:Keyword)\\n            \\n            // 3. 결과 집계 및 점수 계산\\n            WITH article, article_score, precedent, \\n                 collect(DISTINCT keyword.text) as keywords,\\n                 count(precedent) as precedent_count\\n            \\n            // 법조항 점수 = 벡터 점수 + 판례 인용 수에 따른 보너스\\n            WITH article, article_score + (precedent_count * 0.01) as final_score,\\n                 precedent_count, keywords\\n            \\n            RETURN article.id as id, \\n                   'Article' as type, \\n                   article.text as text, \\n                   final_score as score,\\n                   precedent_count,\\n                   keywords\\n            ORDER BY final_score DESC\\n            LIMIT $article_limit\\n            \"\n"
     ]
    },
    {
     "name": "stdout",
     "output_type": "stream",
     "text": [
      "검색 완료: 1.13초 소요\n",
      "검색 완료: 1.42초 소요\n"
     ]
    },
    {
     "name": "stderr",
     "output_type": "stream",
     "text": [
      "Received notification from DBMS server: {severity: WARNING} {code: Neo.ClientNotification.Statement.AggregationSkippedNull} {category: UNRECOGNIZED} {title: The query contains an aggregation function that skips null values.} {description: null value eliminated in set function.} {position: None} for query: \"\\n            // 1. 벡터 검색으로 시작 법조항 찾기\\n            CALL db.index.vector.queryNodes('article_embedding', 5, $query_embedding) \\n            YIELD node as article, score as article_score\\n            \\n            // 2. 해당 법조항과 연결된 판례와 키워드 찾기\\n            OPTIONAL MATCH (precedent:Precedent)-[:REFERENCES_ARTICLE]->(article)\\n            OPTIONAL MATCH (precedent)-[:HAS_KEYWORD]->(keyword:Keyword)\\n            \\n            // 3. 결과 집계 및 점수 계산\\n            WITH article, article_score, precedent, \\n                 collect(DISTINCT keyword.text) as keywords,\\n                 count(precedent) as precedent_count\\n            \\n            // 법조항 점수 = 벡터 점수 + 판례 인용 수에 따른 보너스\\n            WITH article, article_score + (precedent_count * 0.01) as final_score,\\n                 precedent_count, keywords\\n            \\n            RETURN article.id as id, \\n                   'Article' as type, \\n                   article.text as text, \\n                   final_score as score,\\n                   precedent_count,\\n                   keywords\\n            ORDER BY final_score DESC\\n            LIMIT $article_limit\\n            \"\n"
     ]
    },
    {
     "name": "stdout",
     "output_type": "stream",
     "text": [
      "검색 완료: 1.22초 소요\n",
      "검색 완료: 1.57초 소요\n",
      "검색 완료: 1.04초 소요\n",
      "검색 완료: 2.41초 소요\n"
     ]
    },
    {
     "name": "stderr",
     "output_type": "stream",
     "text": [
      "Received notification from DBMS server: {severity: WARNING} {code: Neo.ClientNotification.Statement.AggregationSkippedNull} {category: UNRECOGNIZED} {title: The query contains an aggregation function that skips null values.} {description: null value eliminated in set function.} {position: None} for query: \"\\n            // 1. 벡터 검색으로 시작 법조항 찾기\\n            CALL db.index.vector.queryNodes('article_embedding', 5, $query_embedding) \\n            YIELD node as article, score as article_score\\n            \\n            // 2. 해당 법조항과 연결된 판례와 키워드 찾기\\n            OPTIONAL MATCH (precedent:Precedent)-[:REFERENCES_ARTICLE]->(article)\\n            OPTIONAL MATCH (precedent)-[:HAS_KEYWORD]->(keyword:Keyword)\\n            \\n            // 3. 결과 집계 및 점수 계산\\n            WITH article, article_score, precedent, \\n                 collect(DISTINCT keyword.text) as keywords,\\n                 count(precedent) as precedent_count\\n            \\n            // 법조항 점수 = 벡터 점수 + 판례 인용 수에 따른 보너스\\n            WITH article, article_score + (precedent_count * 0.01) as final_score,\\n                 precedent_count, keywords\\n            \\n            RETURN article.id as id, \\n                   'Article' as type, \\n                   article.text as text, \\n                   final_score as score,\\n                   precedent_count,\\n                   keywords\\n            ORDER BY final_score DESC\\n            LIMIT $article_limit\\n            \"\n"
     ]
    },
    {
     "name": "stdout",
     "output_type": "stream",
     "text": [
      "검색 완료: 0.85초 소요\n"
     ]
    },
    {
     "name": "stderr",
     "output_type": "stream",
     "text": [
      "Received notification from DBMS server: {severity: WARNING} {code: Neo.ClientNotification.Statement.AggregationSkippedNull} {category: UNRECOGNIZED} {title: The query contains an aggregation function that skips null values.} {description: null value eliminated in set function.} {position: None} for query: \"\\n            // 1. 벡터 검색으로 시작 법조항 찾기\\n            CALL db.index.vector.queryNodes('article_embedding', 5, $query_embedding) \\n            YIELD node as article, score as article_score\\n            \\n            // 2. 해당 법조항과 연결된 판례와 키워드 찾기\\n            OPTIONAL MATCH (precedent:Precedent)-[:REFERENCES_ARTICLE]->(article)\\n            OPTIONAL MATCH (precedent)-[:HAS_KEYWORD]->(keyword:Keyword)\\n            \\n            // 3. 결과 집계 및 점수 계산\\n            WITH article, article_score, precedent, \\n                 collect(DISTINCT keyword.text) as keywords,\\n                 count(precedent) as precedent_count\\n            \\n            // 법조항 점수 = 벡터 점수 + 판례 인용 수에 따른 보너스\\n            WITH article, article_score + (precedent_count * 0.01) as final_score,\\n                 precedent_count, keywords\\n            \\n            RETURN article.id as id, \\n                   'Article' as type, \\n                   article.text as text, \\n                   final_score as score,\\n                   precedent_count,\\n                   keywords\\n            ORDER BY final_score DESC\\n            LIMIT $article_limit\\n            \"\n"
     ]
    },
    {
     "name": "stdout",
     "output_type": "stream",
     "text": [
      "검색 완료: 1.50초 소요\n",
      "검색 완료: 4.48초 소요\n"
     ]
    },
    {
     "name": "stderr",
     "output_type": "stream",
     "text": [
      "Received notification from DBMS server: {severity: WARNING} {code: Neo.ClientNotification.Statement.AggregationSkippedNull} {category: UNRECOGNIZED} {title: The query contains an aggregation function that skips null values.} {description: null value eliminated in set function.} {position: None} for query: \"\\n            // 1. 벡터 검색으로 시작 법조항 찾기\\n            CALL db.index.vector.queryNodes('article_embedding', 5, $query_embedding) \\n            YIELD node as article, score as article_score\\n            \\n            // 2. 해당 법조항과 연결된 판례와 키워드 찾기\\n            OPTIONAL MATCH (precedent:Precedent)-[:REFERENCES_ARTICLE]->(article)\\n            OPTIONAL MATCH (precedent)-[:HAS_KEYWORD]->(keyword:Keyword)\\n            \\n            // 3. 결과 집계 및 점수 계산\\n            WITH article, article_score, precedent, \\n                 collect(DISTINCT keyword.text) as keywords,\\n                 count(precedent) as precedent_count\\n            \\n            // 법조항 점수 = 벡터 점수 + 판례 인용 수에 따른 보너스\\n            WITH article, article_score + (precedent_count * 0.01) as final_score,\\n                 precedent_count, keywords\\n            \\n            RETURN article.id as id, \\n                   'Article' as type, \\n                   article.text as text, \\n                   final_score as score,\\n                   precedent_count,\\n                   keywords\\n            ORDER BY final_score DESC\\n            LIMIT $article_limit\\n            \"\n"
     ]
    },
    {
     "name": "stdout",
     "output_type": "stream",
     "text": [
      "검색 완료: 0.93초 소요\n"
     ]
    },
    {
     "name": "stderr",
     "output_type": "stream",
     "text": [
      "Received notification from DBMS server: {severity: WARNING} {code: Neo.ClientNotification.Statement.AggregationSkippedNull} {category: UNRECOGNIZED} {title: The query contains an aggregation function that skips null values.} {description: null value eliminated in set function.} {position: None} for query: \"\\n            // 1. 벡터 검색으로 시작 법조항 찾기\\n            CALL db.index.vector.queryNodes('article_embedding', 5, $query_embedding) \\n            YIELD node as article, score as article_score\\n            \\n            // 2. 해당 법조항과 연결된 판례와 키워드 찾기\\n            OPTIONAL MATCH (precedent:Precedent)-[:REFERENCES_ARTICLE]->(article)\\n            OPTIONAL MATCH (precedent)-[:HAS_KEYWORD]->(keyword:Keyword)\\n            \\n            // 3. 결과 집계 및 점수 계산\\n            WITH article, article_score, precedent, \\n                 collect(DISTINCT keyword.text) as keywords,\\n                 count(precedent) as precedent_count\\n            \\n            // 법조항 점수 = 벡터 점수 + 판례 인용 수에 따른 보너스\\n            WITH article, article_score + (precedent_count * 0.01) as final_score,\\n                 precedent_count, keywords\\n            \\n            RETURN article.id as id, \\n                   'Article' as type, \\n                   article.text as text, \\n                   final_score as score,\\n                   precedent_count,\\n                   keywords\\n            ORDER BY final_score DESC\\n            LIMIT $article_limit\\n            \"\n"
     ]
    },
    {
     "name": "stdout",
     "output_type": "stream",
     "text": [
      "검색 완료: 0.89초 소요\n",
      "검색 완료: 1.61초 소요\n",
      "검색 완료: 0.97초 소요\n"
     ]
    },
    {
     "name": "stderr",
     "output_type": "stream",
     "text": [
      "Received notification from DBMS server: {severity: WARNING} {code: Neo.ClientNotification.Statement.AggregationSkippedNull} {category: UNRECOGNIZED} {title: The query contains an aggregation function that skips null values.} {description: null value eliminated in set function.} {position: None} for query: \"\\n            // 1. 벡터 검색으로 시작 법조항 찾기\\n            CALL db.index.vector.queryNodes('article_embedding', 5, $query_embedding) \\n            YIELD node as article, score as article_score\\n            \\n            // 2. 해당 법조항과 연결된 판례와 키워드 찾기\\n            OPTIONAL MATCH (precedent:Precedent)-[:REFERENCES_ARTICLE]->(article)\\n            OPTIONAL MATCH (precedent)-[:HAS_KEYWORD]->(keyword:Keyword)\\n            \\n            // 3. 결과 집계 및 점수 계산\\n            WITH article, article_score, precedent, \\n                 collect(DISTINCT keyword.text) as keywords,\\n                 count(precedent) as precedent_count\\n            \\n            // 법조항 점수 = 벡터 점수 + 판례 인용 수에 따른 보너스\\n            WITH article, article_score + (precedent_count * 0.01) as final_score,\\n                 precedent_count, keywords\\n            \\n            RETURN article.id as id, \\n                   'Article' as type, \\n                   article.text as text, \\n                   final_score as score,\\n                   precedent_count,\\n                   keywords\\n            ORDER BY final_score DESC\\n            LIMIT $article_limit\\n            \"\n"
     ]
    },
    {
     "name": "stdout",
     "output_type": "stream",
     "text": [
      "검색 완료: 1.16초 소요\n",
      "검색 완료: 1.08초 소요\n"
     ]
    },
    {
     "name": "stderr",
     "output_type": "stream",
     "text": [
      "Received notification from DBMS server: {severity: WARNING} {code: Neo.ClientNotification.Statement.AggregationSkippedNull} {category: UNRECOGNIZED} {title: The query contains an aggregation function that skips null values.} {description: null value eliminated in set function.} {position: None} for query: \"\\n            // 1. 벡터 검색으로 시작 법조항 찾기\\n            CALL db.index.vector.queryNodes('article_embedding', 5, $query_embedding) \\n            YIELD node as article, score as article_score\\n            \\n            // 2. 해당 법조항과 연결된 판례와 키워드 찾기\\n            OPTIONAL MATCH (precedent:Precedent)-[:REFERENCES_ARTICLE]->(article)\\n            OPTIONAL MATCH (precedent)-[:HAS_KEYWORD]->(keyword:Keyword)\\n            \\n            // 3. 결과 집계 및 점수 계산\\n            WITH article, article_score, precedent, \\n                 collect(DISTINCT keyword.text) as keywords,\\n                 count(precedent) as precedent_count\\n            \\n            // 법조항 점수 = 벡터 점수 + 판례 인용 수에 따른 보너스\\n            WITH article, article_score + (precedent_count * 0.01) as final_score,\\n                 precedent_count, keywords\\n            \\n            RETURN article.id as id, \\n                   'Article' as type, \\n                   article.text as text, \\n                   final_score as score,\\n                   precedent_count,\\n                   keywords\\n            ORDER BY final_score DESC\\n            LIMIT $article_limit\\n            \"\n"
     ]
    },
    {
     "name": "stdout",
     "output_type": "stream",
     "text": [
      "검색 완료: 0.78초 소요\n",
      "검색 완료: 1.22초 소요\n",
      "검색 완료: 0.96초 소요\n",
      "검색 완료: 0.76초 소요\n",
      "검색 완료: 1.38초 소요\n",
      "검색 완료: 1.86초 소요\n",
      "검색 완료: 0.96초 소요\n",
      "검색 완료: 1.62초 소요\n"
     ]
    },
    {
     "name": "stderr",
     "output_type": "stream",
     "text": [
      "Received notification from DBMS server: {severity: WARNING} {code: Neo.ClientNotification.Statement.AggregationSkippedNull} {category: UNRECOGNIZED} {title: The query contains an aggregation function that skips null values.} {description: null value eliminated in set function.} {position: None} for query: \"\\n            // 1. 벡터 검색으로 시작 법조항 찾기\\n            CALL db.index.vector.queryNodes('article_embedding', 5, $query_embedding) \\n            YIELD node as article, score as article_score\\n            \\n            // 2. 해당 법조항과 연결된 판례와 키워드 찾기\\n            OPTIONAL MATCH (precedent:Precedent)-[:REFERENCES_ARTICLE]->(article)\\n            OPTIONAL MATCH (precedent)-[:HAS_KEYWORD]->(keyword:Keyword)\\n            \\n            // 3. 결과 집계 및 점수 계산\\n            WITH article, article_score, precedent, \\n                 collect(DISTINCT keyword.text) as keywords,\\n                 count(precedent) as precedent_count\\n            \\n            // 법조항 점수 = 벡터 점수 + 판례 인용 수에 따른 보너스\\n            WITH article, article_score + (precedent_count * 0.01) as final_score,\\n                 precedent_count, keywords\\n            \\n            RETURN article.id as id, \\n                   'Article' as type, \\n                   article.text as text, \\n                   final_score as score,\\n                   precedent_count,\\n                   keywords\\n            ORDER BY final_score DESC\\n            LIMIT $article_limit\\n            \"\n"
     ]
    },
    {
     "name": "stdout",
     "output_type": "stream",
     "text": [
      "검색 완료: 0.95초 소요\n",
      "검색 완료: 0.74초 소요\n",
      "검색 완료: 1.24초 소요\n",
      "검색 완료: 2.26초 소요\n",
      "검색 완료: 0.88초 소요\n",
      "검색 완료: 1.61초 소요\n",
      "검색 완료: 1.41초 소요\n"
     ]
    },
    {
     "name": "stderr",
     "output_type": "stream",
     "text": [
      "Received notification from DBMS server: {severity: WARNING} {code: Neo.ClientNotification.Statement.AggregationSkippedNull} {category: UNRECOGNIZED} {title: The query contains an aggregation function that skips null values.} {description: null value eliminated in set function.} {position: None} for query: \"\\n            // 1. 벡터 검색으로 시작 법조항 찾기\\n            CALL db.index.vector.queryNodes('article_embedding', 5, $query_embedding) \\n            YIELD node as article, score as article_score\\n            \\n            // 2. 해당 법조항과 연결된 판례와 키워드 찾기\\n            OPTIONAL MATCH (precedent:Precedent)-[:REFERENCES_ARTICLE]->(article)\\n            OPTIONAL MATCH (precedent)-[:HAS_KEYWORD]->(keyword:Keyword)\\n            \\n            // 3. 결과 집계 및 점수 계산\\n            WITH article, article_score, precedent, \\n                 collect(DISTINCT keyword.text) as keywords,\\n                 count(precedent) as precedent_count\\n            \\n            // 법조항 점수 = 벡터 점수 + 판례 인용 수에 따른 보너스\\n            WITH article, article_score + (precedent_count * 0.01) as final_score,\\n                 precedent_count, keywords\\n            \\n            RETURN article.id as id, \\n                   'Article' as type, \\n                   article.text as text, \\n                   final_score as score,\\n                   precedent_count,\\n                   keywords\\n            ORDER BY final_score DESC\\n            LIMIT $article_limit\\n            \"\n"
     ]
    },
    {
     "name": "stdout",
     "output_type": "stream",
     "text": [
      "검색 완료: 1.15초 소요\n"
     ]
    },
    {
     "name": "stderr",
     "output_type": "stream",
     "text": [
      "Received notification from DBMS server: {severity: WARNING} {code: Neo.ClientNotification.Statement.AggregationSkippedNull} {category: UNRECOGNIZED} {title: The query contains an aggregation function that skips null values.} {description: null value eliminated in set function.} {position: None} for query: \"\\n            // 1. 벡터 검색으로 시작 법조항 찾기\\n            CALL db.index.vector.queryNodes('article_embedding', 5, $query_embedding) \\n            YIELD node as article, score as article_score\\n            \\n            // 2. 해당 법조항과 연결된 판례와 키워드 찾기\\n            OPTIONAL MATCH (precedent:Precedent)-[:REFERENCES_ARTICLE]->(article)\\n            OPTIONAL MATCH (precedent)-[:HAS_KEYWORD]->(keyword:Keyword)\\n            \\n            // 3. 결과 집계 및 점수 계산\\n            WITH article, article_score, precedent, \\n                 collect(DISTINCT keyword.text) as keywords,\\n                 count(precedent) as precedent_count\\n            \\n            // 법조항 점수 = 벡터 점수 + 판례 인용 수에 따른 보너스\\n            WITH article, article_score + (precedent_count * 0.01) as final_score,\\n                 precedent_count, keywords\\n            \\n            RETURN article.id as id, \\n                   'Article' as type, \\n                   article.text as text, \\n                   final_score as score,\\n                   precedent_count,\\n                   keywords\\n            ORDER BY final_score DESC\\n            LIMIT $article_limit\\n            \"\n"
     ]
    },
    {
     "name": "stdout",
     "output_type": "stream",
     "text": [
      "검색 완료: 0.98초 소요\n",
      "검색 완료: 1.02초 소요\n"
     ]
    },
    {
     "name": "stderr",
     "output_type": "stream",
     "text": [
      "Received notification from DBMS server: {severity: WARNING} {code: Neo.ClientNotification.Statement.AggregationSkippedNull} {category: UNRECOGNIZED} {title: The query contains an aggregation function that skips null values.} {description: null value eliminated in set function.} {position: None} for query: \"\\n            // 1. 벡터 검색으로 시작 법조항 찾기\\n            CALL db.index.vector.queryNodes('article_embedding', 5, $query_embedding) \\n            YIELD node as article, score as article_score\\n            \\n            // 2. 해당 법조항과 연결된 판례와 키워드 찾기\\n            OPTIONAL MATCH (precedent:Precedent)-[:REFERENCES_ARTICLE]->(article)\\n            OPTIONAL MATCH (precedent)-[:HAS_KEYWORD]->(keyword:Keyword)\\n            \\n            // 3. 결과 집계 및 점수 계산\\n            WITH article, article_score, precedent, \\n                 collect(DISTINCT keyword.text) as keywords,\\n                 count(precedent) as precedent_count\\n            \\n            // 법조항 점수 = 벡터 점수 + 판례 인용 수에 따른 보너스\\n            WITH article, article_score + (precedent_count * 0.01) as final_score,\\n                 precedent_count, keywords\\n            \\n            RETURN article.id as id, \\n                   'Article' as type, \\n                   article.text as text, \\n                   final_score as score,\\n                   precedent_count,\\n                   keywords\\n            ORDER BY final_score DESC\\n            LIMIT $article_limit\\n            \"\n"
     ]
    },
    {
     "name": "stdout",
     "output_type": "stream",
     "text": [
      "검색 완료: 0.78초 소요\n"
     ]
    },
    {
     "name": "stderr",
     "output_type": "stream",
     "text": [
      "Received notification from DBMS server: {severity: WARNING} {code: Neo.ClientNotification.Statement.AggregationSkippedNull} {category: UNRECOGNIZED} {title: The query contains an aggregation function that skips null values.} {description: null value eliminated in set function.} {position: None} for query: \"\\n            // 1. 벡터 검색으로 시작 법조항 찾기\\n            CALL db.index.vector.queryNodes('article_embedding', 5, $query_embedding) \\n            YIELD node as article, score as article_score\\n            \\n            // 2. 해당 법조항과 연결된 판례와 키워드 찾기\\n            OPTIONAL MATCH (precedent:Precedent)-[:REFERENCES_ARTICLE]->(article)\\n            OPTIONAL MATCH (precedent)-[:HAS_KEYWORD]->(keyword:Keyword)\\n            \\n            // 3. 결과 집계 및 점수 계산\\n            WITH article, article_score, precedent, \\n                 collect(DISTINCT keyword.text) as keywords,\\n                 count(precedent) as precedent_count\\n            \\n            // 법조항 점수 = 벡터 점수 + 판례 인용 수에 따른 보너스\\n            WITH article, article_score + (precedent_count * 0.01) as final_score,\\n                 precedent_count, keywords\\n            \\n            RETURN article.id as id, \\n                   'Article' as type, \\n                   article.text as text, \\n                   final_score as score,\\n                   precedent_count,\\n                   keywords\\n            ORDER BY final_score DESC\\n            LIMIT $article_limit\\n            \"\n"
     ]
    },
    {
     "name": "stdout",
     "output_type": "stream",
     "text": [
      "검색 완료: 1.82초 소요\n"
     ]
    },
    {
     "name": "stderr",
     "output_type": "stream",
     "text": [
      "Received notification from DBMS server: {severity: WARNING} {code: Neo.ClientNotification.Statement.AggregationSkippedNull} {category: UNRECOGNIZED} {title: The query contains an aggregation function that skips null values.} {description: null value eliminated in set function.} {position: None} for query: \"\\n            // 1. 벡터 검색으로 시작 법조항 찾기\\n            CALL db.index.vector.queryNodes('article_embedding', 5, $query_embedding) \\n            YIELD node as article, score as article_score\\n            \\n            // 2. 해당 법조항과 연결된 판례와 키워드 찾기\\n            OPTIONAL MATCH (precedent:Precedent)-[:REFERENCES_ARTICLE]->(article)\\n            OPTIONAL MATCH (precedent)-[:HAS_KEYWORD]->(keyword:Keyword)\\n            \\n            // 3. 결과 집계 및 점수 계산\\n            WITH article, article_score, precedent, \\n                 collect(DISTINCT keyword.text) as keywords,\\n                 count(precedent) as precedent_count\\n            \\n            // 법조항 점수 = 벡터 점수 + 판례 인용 수에 따른 보너스\\n            WITH article, article_score + (precedent_count * 0.01) as final_score,\\n                 precedent_count, keywords\\n            \\n            RETURN article.id as id, \\n                   'Article' as type, \\n                   article.text as text, \\n                   final_score as score,\\n                   precedent_count,\\n                   keywords\\n            ORDER BY final_score DESC\\n            LIMIT $article_limit\\n            \"\n"
     ]
    },
    {
     "name": "stdout",
     "output_type": "stream",
     "text": [
      "검색 완료: 0.87초 소요\n",
      "검색 완료: 1.20초 소요\n",
      "검색 완료: 2.28초 소요\n",
      "검색 완료: 4.02초 소요\n",
      "검색 완료: 2.34초 소요\n"
     ]
    },
    {
     "name": "stderr",
     "output_type": "stream",
     "text": [
      "Received notification from DBMS server: {severity: WARNING} {code: Neo.ClientNotification.Statement.AggregationSkippedNull} {category: UNRECOGNIZED} {title: The query contains an aggregation function that skips null values.} {description: null value eliminated in set function.} {position: None} for query: \"\\n            // 1. 벡터 검색으로 시작 법조항 찾기\\n            CALL db.index.vector.queryNodes('article_embedding', 5, $query_embedding) \\n            YIELD node as article, score as article_score\\n            \\n            // 2. 해당 법조항과 연결된 판례와 키워드 찾기\\n            OPTIONAL MATCH (precedent:Precedent)-[:REFERENCES_ARTICLE]->(article)\\n            OPTIONAL MATCH (precedent)-[:HAS_KEYWORD]->(keyword:Keyword)\\n            \\n            // 3. 결과 집계 및 점수 계산\\n            WITH article, article_score, precedent, \\n                 collect(DISTINCT keyword.text) as keywords,\\n                 count(precedent) as precedent_count\\n            \\n            // 법조항 점수 = 벡터 점수 + 판례 인용 수에 따른 보너스\\n            WITH article, article_score + (precedent_count * 0.01) as final_score,\\n                 precedent_count, keywords\\n            \\n            RETURN article.id as id, \\n                   'Article' as type, \\n                   article.text as text, \\n                   final_score as score,\\n                   precedent_count,\\n                   keywords\\n            ORDER BY final_score DESC\\n            LIMIT $article_limit\\n            \"\n"
     ]
    },
    {
     "name": "stdout",
     "output_type": "stream",
     "text": [
      "검색 완료: 0.99초 소요\n",
      "검색 완료: 0.99초 소요\n",
      "검색 완료: 2.12초 소요\n",
      "검색 완료: 0.88초 소요\n",
      "검색 완료: 1.34초 소요\n"
     ]
    },
    {
     "name": "stderr",
     "output_type": "stream",
     "text": [
      "Received notification from DBMS server: {severity: WARNING} {code: Neo.ClientNotification.Statement.AggregationSkippedNull} {category: UNRECOGNIZED} {title: The query contains an aggregation function that skips null values.} {description: null value eliminated in set function.} {position: None} for query: \"\\n            // 1. 벡터 검색으로 시작 법조항 찾기\\n            CALL db.index.vector.queryNodes('article_embedding', 5, $query_embedding) \\n            YIELD node as article, score as article_score\\n            \\n            // 2. 해당 법조항과 연결된 판례와 키워드 찾기\\n            OPTIONAL MATCH (precedent:Precedent)-[:REFERENCES_ARTICLE]->(article)\\n            OPTIONAL MATCH (precedent)-[:HAS_KEYWORD]->(keyword:Keyword)\\n            \\n            // 3. 결과 집계 및 점수 계산\\n            WITH article, article_score, precedent, \\n                 collect(DISTINCT keyword.text) as keywords,\\n                 count(precedent) as precedent_count\\n            \\n            // 법조항 점수 = 벡터 점수 + 판례 인용 수에 따른 보너스\\n            WITH article, article_score + (precedent_count * 0.01) as final_score,\\n                 precedent_count, keywords\\n            \\n            RETURN article.id as id, \\n                   'Article' as type, \\n                   article.text as text, \\n                   final_score as score,\\n                   precedent_count,\\n                   keywords\\n            ORDER BY final_score DESC\\n            LIMIT $article_limit\\n            \"\n"
     ]
    },
    {
     "name": "stdout",
     "output_type": "stream",
     "text": [
      "검색 완료: 1.01초 소요\n"
     ]
    },
    {
     "name": "stderr",
     "output_type": "stream",
     "text": [
      "Received notification from DBMS server: {severity: WARNING} {code: Neo.ClientNotification.Statement.AggregationSkippedNull} {category: UNRECOGNIZED} {title: The query contains an aggregation function that skips null values.} {description: null value eliminated in set function.} {position: None} for query: \"\\n            // 1. 벡터 검색으로 시작 법조항 찾기\\n            CALL db.index.vector.queryNodes('article_embedding', 5, $query_embedding) \\n            YIELD node as article, score as article_score\\n            \\n            // 2. 해당 법조항과 연결된 판례와 키워드 찾기\\n            OPTIONAL MATCH (precedent:Precedent)-[:REFERENCES_ARTICLE]->(article)\\n            OPTIONAL MATCH (precedent)-[:HAS_KEYWORD]->(keyword:Keyword)\\n            \\n            // 3. 결과 집계 및 점수 계산\\n            WITH article, article_score, precedent, \\n                 collect(DISTINCT keyword.text) as keywords,\\n                 count(precedent) as precedent_count\\n            \\n            // 법조항 점수 = 벡터 점수 + 판례 인용 수에 따른 보너스\\n            WITH article, article_score + (precedent_count * 0.01) as final_score,\\n                 precedent_count, keywords\\n            \\n            RETURN article.id as id, \\n                   'Article' as type, \\n                   article.text as text, \\n                   final_score as score,\\n                   precedent_count,\\n                   keywords\\n            ORDER BY final_score DESC\\n            LIMIT $article_limit\\n            \"\n"
     ]
    },
    {
     "name": "stdout",
     "output_type": "stream",
     "text": [
      "검색 완료: 1.04초 소요\n"
     ]
    },
    {
     "name": "stderr",
     "output_type": "stream",
     "text": [
      "Received notification from DBMS server: {severity: WARNING} {code: Neo.ClientNotification.Statement.AggregationSkippedNull} {category: UNRECOGNIZED} {title: The query contains an aggregation function that skips null values.} {description: null value eliminated in set function.} {position: None} for query: \"\\n            // 1. 벡터 검색으로 시작 법조항 찾기\\n            CALL db.index.vector.queryNodes('article_embedding', 5, $query_embedding) \\n            YIELD node as article, score as article_score\\n            \\n            // 2. 해당 법조항과 연결된 판례와 키워드 찾기\\n            OPTIONAL MATCH (precedent:Precedent)-[:REFERENCES_ARTICLE]->(article)\\n            OPTIONAL MATCH (precedent)-[:HAS_KEYWORD]->(keyword:Keyword)\\n            \\n            // 3. 결과 집계 및 점수 계산\\n            WITH article, article_score, precedent, \\n                 collect(DISTINCT keyword.text) as keywords,\\n                 count(precedent) as precedent_count\\n            \\n            // 법조항 점수 = 벡터 점수 + 판례 인용 수에 따른 보너스\\n            WITH article, article_score + (precedent_count * 0.01) as final_score,\\n                 precedent_count, keywords\\n            \\n            RETURN article.id as id, \\n                   'Article' as type, \\n                   article.text as text, \\n                   final_score as score,\\n                   precedent_count,\\n                   keywords\\n            ORDER BY final_score DESC\\n            LIMIT $article_limit\\n            \"\n"
     ]
    },
    {
     "name": "stdout",
     "output_type": "stream",
     "text": [
      "검색 완료: 1.24초 소요\n",
      "검색 완료: 1.90초 소요\n"
     ]
    },
    {
     "name": "stderr",
     "output_type": "stream",
     "text": [
      "Received notification from DBMS server: {severity: WARNING} {code: Neo.ClientNotification.Statement.AggregationSkippedNull} {category: UNRECOGNIZED} {title: The query contains an aggregation function that skips null values.} {description: null value eliminated in set function.} {position: None} for query: \"\\n            // 1. 벡터 검색으로 시작 법조항 찾기\\n            CALL db.index.vector.queryNodes('article_embedding', 5, $query_embedding) \\n            YIELD node as article, score as article_score\\n            \\n            // 2. 해당 법조항과 연결된 판례와 키워드 찾기\\n            OPTIONAL MATCH (precedent:Precedent)-[:REFERENCES_ARTICLE]->(article)\\n            OPTIONAL MATCH (precedent)-[:HAS_KEYWORD]->(keyword:Keyword)\\n            \\n            // 3. 결과 집계 및 점수 계산\\n            WITH article, article_score, precedent, \\n                 collect(DISTINCT keyword.text) as keywords,\\n                 count(precedent) as precedent_count\\n            \\n            // 법조항 점수 = 벡터 점수 + 판례 인용 수에 따른 보너스\\n            WITH article, article_score + (precedent_count * 0.01) as final_score,\\n                 precedent_count, keywords\\n            \\n            RETURN article.id as id, \\n                   'Article' as type, \\n                   article.text as text, \\n                   final_score as score,\\n                   precedent_count,\\n                   keywords\\n            ORDER BY final_score DESC\\n            LIMIT $article_limit\\n            \"\n"
     ]
    },
    {
     "name": "stdout",
     "output_type": "stream",
     "text": [
      "검색 완료: 1.24초 소요\n",
      "검색 완료: 1.93초 소요\n",
      "검색 완료: 0.90초 소요\n"
     ]
    },
    {
     "name": "stderr",
     "output_type": "stream",
     "text": [
      "Received notification from DBMS server: {severity: WARNING} {code: Neo.ClientNotification.Statement.AggregationSkippedNull} {category: UNRECOGNIZED} {title: The query contains an aggregation function that skips null values.} {description: null value eliminated in set function.} {position: None} for query: \"\\n            // 1. 벡터 검색으로 시작 법조항 찾기\\n            CALL db.index.vector.queryNodes('article_embedding', 5, $query_embedding) \\n            YIELD node as article, score as article_score\\n            \\n            // 2. 해당 법조항과 연결된 판례와 키워드 찾기\\n            OPTIONAL MATCH (precedent:Precedent)-[:REFERENCES_ARTICLE]->(article)\\n            OPTIONAL MATCH (precedent)-[:HAS_KEYWORD]->(keyword:Keyword)\\n            \\n            // 3. 결과 집계 및 점수 계산\\n            WITH article, article_score, precedent, \\n                 collect(DISTINCT keyword.text) as keywords,\\n                 count(precedent) as precedent_count\\n            \\n            // 법조항 점수 = 벡터 점수 + 판례 인용 수에 따른 보너스\\n            WITH article, article_score + (precedent_count * 0.01) as final_score,\\n                 precedent_count, keywords\\n            \\n            RETURN article.id as id, \\n                   'Article' as type, \\n                   article.text as text, \\n                   final_score as score,\\n                   precedent_count,\\n                   keywords\\n            ORDER BY final_score DESC\\n            LIMIT $article_limit\\n            \"\n"
     ]
    },
    {
     "name": "stdout",
     "output_type": "stream",
     "text": [
      "검색 완료: 1.54초 소요\n"
     ]
    },
    {
     "name": "stderr",
     "output_type": "stream",
     "text": [
      "Received notification from DBMS server: {severity: WARNING} {code: Neo.ClientNotification.Statement.AggregationSkippedNull} {category: UNRECOGNIZED} {title: The query contains an aggregation function that skips null values.} {description: null value eliminated in set function.} {position: None} for query: \"\\n            // 1. 벡터 검색으로 시작 법조항 찾기\\n            CALL db.index.vector.queryNodes('article_embedding', 5, $query_embedding) \\n            YIELD node as article, score as article_score\\n            \\n            // 2. 해당 법조항과 연결된 판례와 키워드 찾기\\n            OPTIONAL MATCH (precedent:Precedent)-[:REFERENCES_ARTICLE]->(article)\\n            OPTIONAL MATCH (precedent)-[:HAS_KEYWORD]->(keyword:Keyword)\\n            \\n            // 3. 결과 집계 및 점수 계산\\n            WITH article, article_score, precedent, \\n                 collect(DISTINCT keyword.text) as keywords,\\n                 count(precedent) as precedent_count\\n            \\n            // 법조항 점수 = 벡터 점수 + 판례 인용 수에 따른 보너스\\n            WITH article, article_score + (precedent_count * 0.01) as final_score,\\n                 precedent_count, keywords\\n            \\n            RETURN article.id as id, \\n                   'Article' as type, \\n                   article.text as text, \\n                   final_score as score,\\n                   precedent_count,\\n                   keywords\\n            ORDER BY final_score DESC\\n            LIMIT $article_limit\\n            \"\n"
     ]
    },
    {
     "name": "stdout",
     "output_type": "stream",
     "text": [
      "검색 완료: 1.08초 소요\n"
     ]
    },
    {
     "name": "stderr",
     "output_type": "stream",
     "text": [
      "Received notification from DBMS server: {severity: WARNING} {code: Neo.ClientNotification.Statement.AggregationSkippedNull} {category: UNRECOGNIZED} {title: The query contains an aggregation function that skips null values.} {description: null value eliminated in set function.} {position: None} for query: \"\\n            // 1. 벡터 검색으로 시작 법조항 찾기\\n            CALL db.index.vector.queryNodes('article_embedding', 5, $query_embedding) \\n            YIELD node as article, score as article_score\\n            \\n            // 2. 해당 법조항과 연결된 판례와 키워드 찾기\\n            OPTIONAL MATCH (precedent:Precedent)-[:REFERENCES_ARTICLE]->(article)\\n            OPTIONAL MATCH (precedent)-[:HAS_KEYWORD]->(keyword:Keyword)\\n            \\n            // 3. 결과 집계 및 점수 계산\\n            WITH article, article_score, precedent, \\n                 collect(DISTINCT keyword.text) as keywords,\\n                 count(precedent) as precedent_count\\n            \\n            // 법조항 점수 = 벡터 점수 + 판례 인용 수에 따른 보너스\\n            WITH article, article_score + (precedent_count * 0.01) as final_score,\\n                 precedent_count, keywords\\n            \\n            RETURN article.id as id, \\n                   'Article' as type, \\n                   article.text as text, \\n                   final_score as score,\\n                   precedent_count,\\n                   keywords\\n            ORDER BY final_score DESC\\n            LIMIT $article_limit\\n            \"\n"
     ]
    },
    {
     "name": "stdout",
     "output_type": "stream",
     "text": [
      "검색 완료: 0.89초 소요\n",
      "검색 완료: 0.94초 소요\n"
     ]
    },
    {
     "name": "stderr",
     "output_type": "stream",
     "text": [
      "Received notification from DBMS server: {severity: WARNING} {code: Neo.ClientNotification.Statement.AggregationSkippedNull} {category: UNRECOGNIZED} {title: The query contains an aggregation function that skips null values.} {description: null value eliminated in set function.} {position: None} for query: \"\\n            // 1. 벡터 검색으로 시작 법조항 찾기\\n            CALL db.index.vector.queryNodes('article_embedding', 5, $query_embedding) \\n            YIELD node as article, score as article_score\\n            \\n            // 2. 해당 법조항과 연결된 판례와 키워드 찾기\\n            OPTIONAL MATCH (precedent:Precedent)-[:REFERENCES_ARTICLE]->(article)\\n            OPTIONAL MATCH (precedent)-[:HAS_KEYWORD]->(keyword:Keyword)\\n            \\n            // 3. 결과 집계 및 점수 계산\\n            WITH article, article_score, precedent, \\n                 collect(DISTINCT keyword.text) as keywords,\\n                 count(precedent) as precedent_count\\n            \\n            // 법조항 점수 = 벡터 점수 + 판례 인용 수에 따른 보너스\\n            WITH article, article_score + (precedent_count * 0.01) as final_score,\\n                 precedent_count, keywords\\n            \\n            RETURN article.id as id, \\n                   'Article' as type, \\n                   article.text as text, \\n                   final_score as score,\\n                   precedent_count,\\n                   keywords\\n            ORDER BY final_score DESC\\n            LIMIT $article_limit\\n            \"\n"
     ]
    },
    {
     "name": "stdout",
     "output_type": "stream",
     "text": [
      "검색 완료: 1.41초 소요\n"
     ]
    },
    {
     "name": "stderr",
     "output_type": "stream",
     "text": [
      "Received notification from DBMS server: {severity: WARNING} {code: Neo.ClientNotification.Statement.AggregationSkippedNull} {category: UNRECOGNIZED} {title: The query contains an aggregation function that skips null values.} {description: null value eliminated in set function.} {position: None} for query: \"\\n            // 1. 벡터 검색으로 시작 법조항 찾기\\n            CALL db.index.vector.queryNodes('article_embedding', 5, $query_embedding) \\n            YIELD node as article, score as article_score\\n            \\n            // 2. 해당 법조항과 연결된 판례와 키워드 찾기\\n            OPTIONAL MATCH (precedent:Precedent)-[:REFERENCES_ARTICLE]->(article)\\n            OPTIONAL MATCH (precedent)-[:HAS_KEYWORD]->(keyword:Keyword)\\n            \\n            // 3. 결과 집계 및 점수 계산\\n            WITH article, article_score, precedent, \\n                 collect(DISTINCT keyword.text) as keywords,\\n                 count(precedent) as precedent_count\\n            \\n            // 법조항 점수 = 벡터 점수 + 판례 인용 수에 따른 보너스\\n            WITH article, article_score + (precedent_count * 0.01) as final_score,\\n                 precedent_count, keywords\\n            \\n            RETURN article.id as id, \\n                   'Article' as type, \\n                   article.text as text, \\n                   final_score as score,\\n                   precedent_count,\\n                   keywords\\n            ORDER BY final_score DESC\\n            LIMIT $article_limit\\n            \"\n"
     ]
    },
    {
     "name": "stdout",
     "output_type": "stream",
     "text": [
      "검색 완료: 1.21초 소요\n",
      "검색 완료: 1.48초 소요\n"
     ]
    },
    {
     "name": "stderr",
     "output_type": "stream",
     "text": [
      "Received notification from DBMS server: {severity: WARNING} {code: Neo.ClientNotification.Statement.AggregationSkippedNull} {category: UNRECOGNIZED} {title: The query contains an aggregation function that skips null values.} {description: null value eliminated in set function.} {position: None} for query: \"\\n            // 1. 벡터 검색으로 시작 법조항 찾기\\n            CALL db.index.vector.queryNodes('article_embedding', 5, $query_embedding) \\n            YIELD node as article, score as article_score\\n            \\n            // 2. 해당 법조항과 연결된 판례와 키워드 찾기\\n            OPTIONAL MATCH (precedent:Precedent)-[:REFERENCES_ARTICLE]->(article)\\n            OPTIONAL MATCH (precedent)-[:HAS_KEYWORD]->(keyword:Keyword)\\n            \\n            // 3. 결과 집계 및 점수 계산\\n            WITH article, article_score, precedent, \\n                 collect(DISTINCT keyword.text) as keywords,\\n                 count(precedent) as precedent_count\\n            \\n            // 법조항 점수 = 벡터 점수 + 판례 인용 수에 따른 보너스\\n            WITH article, article_score + (precedent_count * 0.01) as final_score,\\n                 precedent_count, keywords\\n            \\n            RETURN article.id as id, \\n                   'Article' as type, \\n                   article.text as text, \\n                   final_score as score,\\n                   precedent_count,\\n                   keywords\\n            ORDER BY final_score DESC\\n            LIMIT $article_limit\\n            \"\n"
     ]
    },
    {
     "name": "stdout",
     "output_type": "stream",
     "text": [
      "검색 완료: 0.83초 소요\n",
      "검색 완료: 1.75초 소요\n",
      "검색 완료: 2.73초 소요\n",
      "검색 완료: 3.40초 소요\n",
      "검색 완료: 2.07초 소요\n",
      "검색 완료: 1.54초 소요\n"
     ]
    },
    {
     "name": "stderr",
     "output_type": "stream",
     "text": [
      "Received notification from DBMS server: {severity: WARNING} {code: Neo.ClientNotification.Statement.AggregationSkippedNull} {category: UNRECOGNIZED} {title: The query contains an aggregation function that skips null values.} {description: null value eliminated in set function.} {position: None} for query: \"\\n            // 1. 벡터 검색으로 시작 법조항 찾기\\n            CALL db.index.vector.queryNodes('article_embedding', 5, $query_embedding) \\n            YIELD node as article, score as article_score\\n            \\n            // 2. 해당 법조항과 연결된 판례와 키워드 찾기\\n            OPTIONAL MATCH (precedent:Precedent)-[:REFERENCES_ARTICLE]->(article)\\n            OPTIONAL MATCH (precedent)-[:HAS_KEYWORD]->(keyword:Keyword)\\n            \\n            // 3. 결과 집계 및 점수 계산\\n            WITH article, article_score, precedent, \\n                 collect(DISTINCT keyword.text) as keywords,\\n                 count(precedent) as precedent_count\\n            \\n            // 법조항 점수 = 벡터 점수 + 판례 인용 수에 따른 보너스\\n            WITH article, article_score + (precedent_count * 0.01) as final_score,\\n                 precedent_count, keywords\\n            \\n            RETURN article.id as id, \\n                   'Article' as type, \\n                   article.text as text, \\n                   final_score as score,\\n                   precedent_count,\\n                   keywords\\n            ORDER BY final_score DESC\\n            LIMIT $article_limit\\n            \"\n"
     ]
    },
    {
     "name": "stdout",
     "output_type": "stream",
     "text": [
      "검색 완료: 2.96초 소요\n",
      "검색 완료: 3.87초 소요\n",
      "검색 완료: 1.38초 소요\n"
     ]
    },
    {
     "name": "stderr",
     "output_type": "stream",
     "text": [
      "Received notification from DBMS server: {severity: WARNING} {code: Neo.ClientNotification.Statement.AggregationSkippedNull} {category: UNRECOGNIZED} {title: The query contains an aggregation function that skips null values.} {description: null value eliminated in set function.} {position: None} for query: \"\\n            // 1. 벡터 검색으로 시작 법조항 찾기\\n            CALL db.index.vector.queryNodes('article_embedding', 5, $query_embedding) \\n            YIELD node as article, score as article_score\\n            \\n            // 2. 해당 법조항과 연결된 판례와 키워드 찾기\\n            OPTIONAL MATCH (precedent:Precedent)-[:REFERENCES_ARTICLE]->(article)\\n            OPTIONAL MATCH (precedent)-[:HAS_KEYWORD]->(keyword:Keyword)\\n            \\n            // 3. 결과 집계 및 점수 계산\\n            WITH article, article_score, precedent, \\n                 collect(DISTINCT keyword.text) as keywords,\\n                 count(precedent) as precedent_count\\n            \\n            // 법조항 점수 = 벡터 점수 + 판례 인용 수에 따른 보너스\\n            WITH article, article_score + (precedent_count * 0.01) as final_score,\\n                 precedent_count, keywords\\n            \\n            RETURN article.id as id, \\n                   'Article' as type, \\n                   article.text as text, \\n                   final_score as score,\\n                   precedent_count,\\n                   keywords\\n            ORDER BY final_score DESC\\n            LIMIT $article_limit\\n            \"\n"
     ]
    },
    {
     "name": "stdout",
     "output_type": "stream",
     "text": [
      "검색 완료: 0.93초 소요\n",
      "검색 완료: 2.56초 소요\n",
      "검색 완료: 0.95초 소요\n",
      "검색 완료: 1.09초 소요\n",
      "검색 완료: 1.10초 소요\n"
     ]
    },
    {
     "name": "stderr",
     "output_type": "stream",
     "text": [
      "Received notification from DBMS server: {severity: WARNING} {code: Neo.ClientNotification.Statement.AggregationSkippedNull} {category: UNRECOGNIZED} {title: The query contains an aggregation function that skips null values.} {description: null value eliminated in set function.} {position: None} for query: \"\\n            // 1. 벡터 검색으로 시작 법조항 찾기\\n            CALL db.index.vector.queryNodes('article_embedding', 5, $query_embedding) \\n            YIELD node as article, score as article_score\\n            \\n            // 2. 해당 법조항과 연결된 판례와 키워드 찾기\\n            OPTIONAL MATCH (precedent:Precedent)-[:REFERENCES_ARTICLE]->(article)\\n            OPTIONAL MATCH (precedent)-[:HAS_KEYWORD]->(keyword:Keyword)\\n            \\n            // 3. 결과 집계 및 점수 계산\\n            WITH article, article_score, precedent, \\n                 collect(DISTINCT keyword.text) as keywords,\\n                 count(precedent) as precedent_count\\n            \\n            // 법조항 점수 = 벡터 점수 + 판례 인용 수에 따른 보너스\\n            WITH article, article_score + (precedent_count * 0.01) as final_score,\\n                 precedent_count, keywords\\n            \\n            RETURN article.id as id, \\n                   'Article' as type, \\n                   article.text as text, \\n                   final_score as score,\\n                   precedent_count,\\n                   keywords\\n            ORDER BY final_score DESC\\n            LIMIT $article_limit\\n            \"\n"
     ]
    },
    {
     "name": "stdout",
     "output_type": "stream",
     "text": [
      "검색 완료: 1.09초 소요\n",
      "검색 완료: 1.01초 소요\n"
     ]
    },
    {
     "name": "stderr",
     "output_type": "stream",
     "text": [
      "Received notification from DBMS server: {severity: WARNING} {code: Neo.ClientNotification.Statement.AggregationSkippedNull} {category: UNRECOGNIZED} {title: The query contains an aggregation function that skips null values.} {description: null value eliminated in set function.} {position: None} for query: \"\\n            // 1. 벡터 검색으로 시작 법조항 찾기\\n            CALL db.index.vector.queryNodes('article_embedding', 5, $query_embedding) \\n            YIELD node as article, score as article_score\\n            \\n            // 2. 해당 법조항과 연결된 판례와 키워드 찾기\\n            OPTIONAL MATCH (precedent:Precedent)-[:REFERENCES_ARTICLE]->(article)\\n            OPTIONAL MATCH (precedent)-[:HAS_KEYWORD]->(keyword:Keyword)\\n            \\n            // 3. 결과 집계 및 점수 계산\\n            WITH article, article_score, precedent, \\n                 collect(DISTINCT keyword.text) as keywords,\\n                 count(precedent) as precedent_count\\n            \\n            // 법조항 점수 = 벡터 점수 + 판례 인용 수에 따른 보너스\\n            WITH article, article_score + (precedent_count * 0.01) as final_score,\\n                 precedent_count, keywords\\n            \\n            RETURN article.id as id, \\n                   'Article' as type, \\n                   article.text as text, \\n                   final_score as score,\\n                   precedent_count,\\n                   keywords\\n            ORDER BY final_score DESC\\n            LIMIT $article_limit\\n            \"\n"
     ]
    },
    {
     "name": "stdout",
     "output_type": "stream",
     "text": [
      "검색 완료: 1.31초 소요\n",
      "검색 완료: 0.77초 소요\n",
      "검색 완료: 0.82초 소요\n",
      "검색 완료: 2.05초 소요\n"
     ]
    },
    {
     "name": "stderr",
     "output_type": "stream",
     "text": [
      "Received notification from DBMS server: {severity: WARNING} {code: Neo.ClientNotification.Statement.AggregationSkippedNull} {category: UNRECOGNIZED} {title: The query contains an aggregation function that skips null values.} {description: null value eliminated in set function.} {position: None} for query: \"\\n            // 1. 벡터 검색으로 시작 법조항 찾기\\n            CALL db.index.vector.queryNodes('article_embedding', 5, $query_embedding) \\n            YIELD node as article, score as article_score\\n            \\n            // 2. 해당 법조항과 연결된 판례와 키워드 찾기\\n            OPTIONAL MATCH (precedent:Precedent)-[:REFERENCES_ARTICLE]->(article)\\n            OPTIONAL MATCH (precedent)-[:HAS_KEYWORD]->(keyword:Keyword)\\n            \\n            // 3. 결과 집계 및 점수 계산\\n            WITH article, article_score, precedent, \\n                 collect(DISTINCT keyword.text) as keywords,\\n                 count(precedent) as precedent_count\\n            \\n            // 법조항 점수 = 벡터 점수 + 판례 인용 수에 따른 보너스\\n            WITH article, article_score + (precedent_count * 0.01) as final_score,\\n                 precedent_count, keywords\\n            \\n            RETURN article.id as id, \\n                   'Article' as type, \\n                   article.text as text, \\n                   final_score as score,\\n                   precedent_count,\\n                   keywords\\n            ORDER BY final_score DESC\\n            LIMIT $article_limit\\n            \"\n"
     ]
    },
    {
     "name": "stdout",
     "output_type": "stream",
     "text": [
      "검색 완료: 1.07초 소요\n",
      "검색 완료: 2.31초 소요\n",
      "검색 완료: 1.02초 소요\n",
      "검색 완료: 3.74초 소요\n",
      "검색 완료: 2.03초 소요\n"
     ]
    },
    {
     "name": "stderr",
     "output_type": "stream",
     "text": [
      "Received notification from DBMS server: {severity: WARNING} {code: Neo.ClientNotification.Statement.AggregationSkippedNull} {category: UNRECOGNIZED} {title: The query contains an aggregation function that skips null values.} {description: null value eliminated in set function.} {position: None} for query: \"\\n            // 1. 벡터 검색으로 시작 법조항 찾기\\n            CALL db.index.vector.queryNodes('article_embedding', 5, $query_embedding) \\n            YIELD node as article, score as article_score\\n            \\n            // 2. 해당 법조항과 연결된 판례와 키워드 찾기\\n            OPTIONAL MATCH (precedent:Precedent)-[:REFERENCES_ARTICLE]->(article)\\n            OPTIONAL MATCH (precedent)-[:HAS_KEYWORD]->(keyword:Keyword)\\n            \\n            // 3. 결과 집계 및 점수 계산\\n            WITH article, article_score, precedent, \\n                 collect(DISTINCT keyword.text) as keywords,\\n                 count(precedent) as precedent_count\\n            \\n            // 법조항 점수 = 벡터 점수 + 판례 인용 수에 따른 보너스\\n            WITH article, article_score + (precedent_count * 0.01) as final_score,\\n                 precedent_count, keywords\\n            \\n            RETURN article.id as id, \\n                   'Article' as type, \\n                   article.text as text, \\n                   final_score as score,\\n                   precedent_count,\\n                   keywords\\n            ORDER BY final_score DESC\\n            LIMIT $article_limit\\n            \"\n"
     ]
    },
    {
     "name": "stdout",
     "output_type": "stream",
     "text": [
      "검색 완료: 1.14초 소요\n"
     ]
    },
    {
     "name": "stderr",
     "output_type": "stream",
     "text": [
      "Received notification from DBMS server: {severity: WARNING} {code: Neo.ClientNotification.Statement.AggregationSkippedNull} {category: UNRECOGNIZED} {title: The query contains an aggregation function that skips null values.} {description: null value eliminated in set function.} {position: None} for query: \"\\n            // 1. 벡터 검색으로 시작 법조항 찾기\\n            CALL db.index.vector.queryNodes('article_embedding', 5, $query_embedding) \\n            YIELD node as article, score as article_score\\n            \\n            // 2. 해당 법조항과 연결된 판례와 키워드 찾기\\n            OPTIONAL MATCH (precedent:Precedent)-[:REFERENCES_ARTICLE]->(article)\\n            OPTIONAL MATCH (precedent)-[:HAS_KEYWORD]->(keyword:Keyword)\\n            \\n            // 3. 결과 집계 및 점수 계산\\n            WITH article, article_score, precedent, \\n                 collect(DISTINCT keyword.text) as keywords,\\n                 count(precedent) as precedent_count\\n            \\n            // 법조항 점수 = 벡터 점수 + 판례 인용 수에 따른 보너스\\n            WITH article, article_score + (precedent_count * 0.01) as final_score,\\n                 precedent_count, keywords\\n            \\n            RETURN article.id as id, \\n                   'Article' as type, \\n                   article.text as text, \\n                   final_score as score,\\n                   precedent_count,\\n                   keywords\\n            ORDER BY final_score DESC\\n            LIMIT $article_limit\\n            \"\n"
     ]
    },
    {
     "name": "stdout",
     "output_type": "stream",
     "text": [
      "검색 완료: 0.92초 소요\n",
      "검색 완료: 1.60초 소요\n",
      "검색 완료: 0.94초 소요\n"
     ]
    },
    {
     "name": "stderr",
     "output_type": "stream",
     "text": [
      "Received notification from DBMS server: {severity: WARNING} {code: Neo.ClientNotification.Statement.AggregationSkippedNull} {category: UNRECOGNIZED} {title: The query contains an aggregation function that skips null values.} {description: null value eliminated in set function.} {position: None} for query: \"\\n            // 1. 벡터 검색으로 시작 법조항 찾기\\n            CALL db.index.vector.queryNodes('article_embedding', 5, $query_embedding) \\n            YIELD node as article, score as article_score\\n            \\n            // 2. 해당 법조항과 연결된 판례와 키워드 찾기\\n            OPTIONAL MATCH (precedent:Precedent)-[:REFERENCES_ARTICLE]->(article)\\n            OPTIONAL MATCH (precedent)-[:HAS_KEYWORD]->(keyword:Keyword)\\n            \\n            // 3. 결과 집계 및 점수 계산\\n            WITH article, article_score, precedent, \\n                 collect(DISTINCT keyword.text) as keywords,\\n                 count(precedent) as precedent_count\\n            \\n            // 법조항 점수 = 벡터 점수 + 판례 인용 수에 따른 보너스\\n            WITH article, article_score + (precedent_count * 0.01) as final_score,\\n                 precedent_count, keywords\\n            \\n            RETURN article.id as id, \\n                   'Article' as type, \\n                   article.text as text, \\n                   final_score as score,\\n                   precedent_count,\\n                   keywords\\n            ORDER BY final_score DESC\\n            LIMIT $article_limit\\n            \"\n"
     ]
    },
    {
     "name": "stdout",
     "output_type": "stream",
     "text": [
      "검색 완료: 1.15초 소요\n",
      "검색 완료: 1.97초 소요\n",
      "검색 완료: 1.18초 소요\n",
      "검색 완료: 1.40초 소요\n",
      "검색 완료: 1.49초 소요\n"
     ]
    },
    {
     "name": "stderr",
     "output_type": "stream",
     "text": [
      "Received notification from DBMS server: {severity: WARNING} {code: Neo.ClientNotification.Statement.AggregationSkippedNull} {category: UNRECOGNIZED} {title: The query contains an aggregation function that skips null values.} {description: null value eliminated in set function.} {position: None} for query: \"\\n            // 1. 벡터 검색으로 시작 법조항 찾기\\n            CALL db.index.vector.queryNodes('article_embedding', 5, $query_embedding) \\n            YIELD node as article, score as article_score\\n            \\n            // 2. 해당 법조항과 연결된 판례와 키워드 찾기\\n            OPTIONAL MATCH (precedent:Precedent)-[:REFERENCES_ARTICLE]->(article)\\n            OPTIONAL MATCH (precedent)-[:HAS_KEYWORD]->(keyword:Keyword)\\n            \\n            // 3. 결과 집계 및 점수 계산\\n            WITH article, article_score, precedent, \\n                 collect(DISTINCT keyword.text) as keywords,\\n                 count(precedent) as precedent_count\\n            \\n            // 법조항 점수 = 벡터 점수 + 판례 인용 수에 따른 보너스\\n            WITH article, article_score + (precedent_count * 0.01) as final_score,\\n                 precedent_count, keywords\\n            \\n            RETURN article.id as id, \\n                   'Article' as type, \\n                   article.text as text, \\n                   final_score as score,\\n                   precedent_count,\\n                   keywords\\n            ORDER BY final_score DESC\\n            LIMIT $article_limit\\n            \"\n"
     ]
    },
    {
     "name": "stdout",
     "output_type": "stream",
     "text": [
      "검색 완료: 1.15초 소요\n"
     ]
    },
    {
     "name": "stderr",
     "output_type": "stream",
     "text": [
      "Received notification from DBMS server: {severity: WARNING} {code: Neo.ClientNotification.Statement.AggregationSkippedNull} {category: UNRECOGNIZED} {title: The query contains an aggregation function that skips null values.} {description: null value eliminated in set function.} {position: None} for query: \"\\n            // 1. 벡터 검색으로 시작 법조항 찾기\\n            CALL db.index.vector.queryNodes('article_embedding', 5, $query_embedding) \\n            YIELD node as article, score as article_score\\n            \\n            // 2. 해당 법조항과 연결된 판례와 키워드 찾기\\n            OPTIONAL MATCH (precedent:Precedent)-[:REFERENCES_ARTICLE]->(article)\\n            OPTIONAL MATCH (precedent)-[:HAS_KEYWORD]->(keyword:Keyword)\\n            \\n            // 3. 결과 집계 및 점수 계산\\n            WITH article, article_score, precedent, \\n                 collect(DISTINCT keyword.text) as keywords,\\n                 count(precedent) as precedent_count\\n            \\n            // 법조항 점수 = 벡터 점수 + 판례 인용 수에 따른 보너스\\n            WITH article, article_score + (precedent_count * 0.01) as final_score,\\n                 precedent_count, keywords\\n            \\n            RETURN article.id as id, \\n                   'Article' as type, \\n                   article.text as text, \\n                   final_score as score,\\n                   precedent_count,\\n                   keywords\\n            ORDER BY final_score DESC\\n            LIMIT $article_limit\\n            \"\n"
     ]
    },
    {
     "name": "stdout",
     "output_type": "stream",
     "text": [
      "검색 완료: 1.45초 소요\n"
     ]
    },
    {
     "name": "stderr",
     "output_type": "stream",
     "text": [
      "Received notification from DBMS server: {severity: WARNING} {code: Neo.ClientNotification.Statement.AggregationSkippedNull} {category: UNRECOGNIZED} {title: The query contains an aggregation function that skips null values.} {description: null value eliminated in set function.} {position: None} for query: \"\\n            // 1. 벡터 검색으로 시작 법조항 찾기\\n            CALL db.index.vector.queryNodes('article_embedding', 5, $query_embedding) \\n            YIELD node as article, score as article_score\\n            \\n            // 2. 해당 법조항과 연결된 판례와 키워드 찾기\\n            OPTIONAL MATCH (precedent:Precedent)-[:REFERENCES_ARTICLE]->(article)\\n            OPTIONAL MATCH (precedent)-[:HAS_KEYWORD]->(keyword:Keyword)\\n            \\n            // 3. 결과 집계 및 점수 계산\\n            WITH article, article_score, precedent, \\n                 collect(DISTINCT keyword.text) as keywords,\\n                 count(precedent) as precedent_count\\n            \\n            // 법조항 점수 = 벡터 점수 + 판례 인용 수에 따른 보너스\\n            WITH article, article_score + (precedent_count * 0.01) as final_score,\\n                 precedent_count, keywords\\n            \\n            RETURN article.id as id, \\n                   'Article' as type, \\n                   article.text as text, \\n                   final_score as score,\\n                   precedent_count,\\n                   keywords\\n            ORDER BY final_score DESC\\n            LIMIT $article_limit\\n            \"\n"
     ]
    },
    {
     "name": "stdout",
     "output_type": "stream",
     "text": [
      "검색 완료: 0.83초 소요\n"
     ]
    },
    {
     "name": "stderr",
     "output_type": "stream",
     "text": [
      "Received notification from DBMS server: {severity: WARNING} {code: Neo.ClientNotification.Statement.AggregationSkippedNull} {category: UNRECOGNIZED} {title: The query contains an aggregation function that skips null values.} {description: null value eliminated in set function.} {position: None} for query: \"\\n            // 1. 벡터 검색으로 시작 법조항 찾기\\n            CALL db.index.vector.queryNodes('article_embedding', 5, $query_embedding) \\n            YIELD node as article, score as article_score\\n            \\n            // 2. 해당 법조항과 연결된 판례와 키워드 찾기\\n            OPTIONAL MATCH (precedent:Precedent)-[:REFERENCES_ARTICLE]->(article)\\n            OPTIONAL MATCH (precedent)-[:HAS_KEYWORD]->(keyword:Keyword)\\n            \\n            // 3. 결과 집계 및 점수 계산\\n            WITH article, article_score, precedent, \\n                 collect(DISTINCT keyword.text) as keywords,\\n                 count(precedent) as precedent_count\\n            \\n            // 법조항 점수 = 벡터 점수 + 판례 인용 수에 따른 보너스\\n            WITH article, article_score + (precedent_count * 0.01) as final_score,\\n                 precedent_count, keywords\\n            \\n            RETURN article.id as id, \\n                   'Article' as type, \\n                   article.text as text, \\n                   final_score as score,\\n                   precedent_count,\\n                   keywords\\n            ORDER BY final_score DESC\\n            LIMIT $article_limit\\n            \"\n"
     ]
    },
    {
     "name": "stdout",
     "output_type": "stream",
     "text": [
      "검색 완료: 1.25초 소요\n"
     ]
    },
    {
     "name": "stderr",
     "output_type": "stream",
     "text": [
      "Received notification from DBMS server: {severity: WARNING} {code: Neo.ClientNotification.Statement.AggregationSkippedNull} {category: UNRECOGNIZED} {title: The query contains an aggregation function that skips null values.} {description: null value eliminated in set function.} {position: None} for query: \"\\n            // 1. 벡터 검색으로 시작 법조항 찾기\\n            CALL db.index.vector.queryNodes('article_embedding', 5, $query_embedding) \\n            YIELD node as article, score as article_score\\n            \\n            // 2. 해당 법조항과 연결된 판례와 키워드 찾기\\n            OPTIONAL MATCH (precedent:Precedent)-[:REFERENCES_ARTICLE]->(article)\\n            OPTIONAL MATCH (precedent)-[:HAS_KEYWORD]->(keyword:Keyword)\\n            \\n            // 3. 결과 집계 및 점수 계산\\n            WITH article, article_score, precedent, \\n                 collect(DISTINCT keyword.text) as keywords,\\n                 count(precedent) as precedent_count\\n            \\n            // 법조항 점수 = 벡터 점수 + 판례 인용 수에 따른 보너스\\n            WITH article, article_score + (precedent_count * 0.01) as final_score,\\n                 precedent_count, keywords\\n            \\n            RETURN article.id as id, \\n                   'Article' as type, \\n                   article.text as text, \\n                   final_score as score,\\n                   precedent_count,\\n                   keywords\\n            ORDER BY final_score DESC\\n            LIMIT $article_limit\\n            \"\n"
     ]
    },
    {
     "name": "stdout",
     "output_type": "stream",
     "text": [
      "검색 완료: 0.94초 소요\n",
      "검색 완료: 1.27초 소요\n",
      "검색 완료: 1.62초 소요\n",
      "검색 완료: 2.25초 소요\n"
     ]
    },
    {
     "name": "stderr",
     "output_type": "stream",
     "text": [
      "Received notification from DBMS server: {severity: WARNING} {code: Neo.ClientNotification.Statement.AggregationSkippedNull} {category: UNRECOGNIZED} {title: The query contains an aggregation function that skips null values.} {description: null value eliminated in set function.} {position: None} for query: \"\\n            // 1. 벡터 검색으로 시작 법조항 찾기\\n            CALL db.index.vector.queryNodes('article_embedding', 5, $query_embedding) \\n            YIELD node as article, score as article_score\\n            \\n            // 2. 해당 법조항과 연결된 판례와 키워드 찾기\\n            OPTIONAL MATCH (precedent:Precedent)-[:REFERENCES_ARTICLE]->(article)\\n            OPTIONAL MATCH (precedent)-[:HAS_KEYWORD]->(keyword:Keyword)\\n            \\n            // 3. 결과 집계 및 점수 계산\\n            WITH article, article_score, precedent, \\n                 collect(DISTINCT keyword.text) as keywords,\\n                 count(precedent) as precedent_count\\n            \\n            // 법조항 점수 = 벡터 점수 + 판례 인용 수에 따른 보너스\\n            WITH article, article_score + (precedent_count * 0.01) as final_score,\\n                 precedent_count, keywords\\n            \\n            RETURN article.id as id, \\n                   'Article' as type, \\n                   article.text as text, \\n                   final_score as score,\\n                   precedent_count,\\n                   keywords\\n            ORDER BY final_score DESC\\n            LIMIT $article_limit\\n            \"\n"
     ]
    },
    {
     "name": "stdout",
     "output_type": "stream",
     "text": [
      "검색 완료: 0.66초 소요\n",
      "검색 완료: 1.01초 소요\n",
      "검색 완료: 1.20초 소요\n"
     ]
    },
    {
     "name": "stderr",
     "output_type": "stream",
     "text": [
      "Received notification from DBMS server: {severity: WARNING} {code: Neo.ClientNotification.Statement.AggregationSkippedNull} {category: UNRECOGNIZED} {title: The query contains an aggregation function that skips null values.} {description: null value eliminated in set function.} {position: None} for query: \"\\n            // 1. 벡터 검색으로 시작 법조항 찾기\\n            CALL db.index.vector.queryNodes('article_embedding', 5, $query_embedding) \\n            YIELD node as article, score as article_score\\n            \\n            // 2. 해당 법조항과 연결된 판례와 키워드 찾기\\n            OPTIONAL MATCH (precedent:Precedent)-[:REFERENCES_ARTICLE]->(article)\\n            OPTIONAL MATCH (precedent)-[:HAS_KEYWORD]->(keyword:Keyword)\\n            \\n            // 3. 결과 집계 및 점수 계산\\n            WITH article, article_score, precedent, \\n                 collect(DISTINCT keyword.text) as keywords,\\n                 count(precedent) as precedent_count\\n            \\n            // 법조항 점수 = 벡터 점수 + 판례 인용 수에 따른 보너스\\n            WITH article, article_score + (precedent_count * 0.01) as final_score,\\n                 precedent_count, keywords\\n            \\n            RETURN article.id as id, \\n                   'Article' as type, \\n                   article.text as text, \\n                   final_score as score,\\n                   precedent_count,\\n                   keywords\\n            ORDER BY final_score DESC\\n            LIMIT $article_limit\\n            \"\n"
     ]
    },
    {
     "name": "stdout",
     "output_type": "stream",
     "text": [
      "검색 완료: 2.53초 소요\n"
     ]
    },
    {
     "name": "stderr",
     "output_type": "stream",
     "text": [
      "Received notification from DBMS server: {severity: WARNING} {code: Neo.ClientNotification.Statement.AggregationSkippedNull} {category: UNRECOGNIZED} {title: The query contains an aggregation function that skips null values.} {description: null value eliminated in set function.} {position: None} for query: \"\\n            // 1. 벡터 검색으로 시작 법조항 찾기\\n            CALL db.index.vector.queryNodes('article_embedding', 5, $query_embedding) \\n            YIELD node as article, score as article_score\\n            \\n            // 2. 해당 법조항과 연결된 판례와 키워드 찾기\\n            OPTIONAL MATCH (precedent:Precedent)-[:REFERENCES_ARTICLE]->(article)\\n            OPTIONAL MATCH (precedent)-[:HAS_KEYWORD]->(keyword:Keyword)\\n            \\n            // 3. 결과 집계 및 점수 계산\\n            WITH article, article_score, precedent, \\n                 collect(DISTINCT keyword.text) as keywords,\\n                 count(precedent) as precedent_count\\n            \\n            // 법조항 점수 = 벡터 점수 + 판례 인용 수에 따른 보너스\\n            WITH article, article_score + (precedent_count * 0.01) as final_score,\\n                 precedent_count, keywords\\n            \\n            RETURN article.id as id, \\n                   'Article' as type, \\n                   article.text as text, \\n                   final_score as score,\\n                   precedent_count,\\n                   keywords\\n            ORDER BY final_score DESC\\n            LIMIT $article_limit\\n            \"\n"
     ]
    },
    {
     "name": "stdout",
     "output_type": "stream",
     "text": [
      "검색 완료: 0.91초 소요\n"
     ]
    },
    {
     "name": "stderr",
     "output_type": "stream",
     "text": [
      "Received notification from DBMS server: {severity: WARNING} {code: Neo.ClientNotification.Statement.AggregationSkippedNull} {category: UNRECOGNIZED} {title: The query contains an aggregation function that skips null values.} {description: null value eliminated in set function.} {position: None} for query: \"\\n            // 1. 벡터 검색으로 시작 법조항 찾기\\n            CALL db.index.vector.queryNodes('article_embedding', 5, $query_embedding) \\n            YIELD node as article, score as article_score\\n            \\n            // 2. 해당 법조항과 연결된 판례와 키워드 찾기\\n            OPTIONAL MATCH (precedent:Precedent)-[:REFERENCES_ARTICLE]->(article)\\n            OPTIONAL MATCH (precedent)-[:HAS_KEYWORD]->(keyword:Keyword)\\n            \\n            // 3. 결과 집계 및 점수 계산\\n            WITH article, article_score, precedent, \\n                 collect(DISTINCT keyword.text) as keywords,\\n                 count(precedent) as precedent_count\\n            \\n            // 법조항 점수 = 벡터 점수 + 판례 인용 수에 따른 보너스\\n            WITH article, article_score + (precedent_count * 0.01) as final_score,\\n                 precedent_count, keywords\\n            \\n            RETURN article.id as id, \\n                   'Article' as type, \\n                   article.text as text, \\n                   final_score as score,\\n                   precedent_count,\\n                   keywords\\n            ORDER BY final_score DESC\\n            LIMIT $article_limit\\n            \"\n"
     ]
    },
    {
     "name": "stdout",
     "output_type": "stream",
     "text": [
      "검색 완료: 2.09초 소요\n",
      "검색 완료: 1.04초 소요\n"
     ]
    },
    {
     "name": "stderr",
     "output_type": "stream",
     "text": [
      "Received notification from DBMS server: {severity: WARNING} {code: Neo.ClientNotification.Statement.AggregationSkippedNull} {category: UNRECOGNIZED} {title: The query contains an aggregation function that skips null values.} {description: null value eliminated in set function.} {position: None} for query: \"\\n            // 1. 벡터 검색으로 시작 법조항 찾기\\n            CALL db.index.vector.queryNodes('article_embedding', 5, $query_embedding) \\n            YIELD node as article, score as article_score\\n            \\n            // 2. 해당 법조항과 연결된 판례와 키워드 찾기\\n            OPTIONAL MATCH (precedent:Precedent)-[:REFERENCES_ARTICLE]->(article)\\n            OPTIONAL MATCH (precedent)-[:HAS_KEYWORD]->(keyword:Keyword)\\n            \\n            // 3. 결과 집계 및 점수 계산\\n            WITH article, article_score, precedent, \\n                 collect(DISTINCT keyword.text) as keywords,\\n                 count(precedent) as precedent_count\\n            \\n            // 법조항 점수 = 벡터 점수 + 판례 인용 수에 따른 보너스\\n            WITH article, article_score + (precedent_count * 0.01) as final_score,\\n                 precedent_count, keywords\\n            \\n            RETURN article.id as id, \\n                   'Article' as type, \\n                   article.text as text, \\n                   final_score as score,\\n                   precedent_count,\\n                   keywords\\n            ORDER BY final_score DESC\\n            LIMIT $article_limit\\n            \"\n"
     ]
    },
    {
     "name": "stdout",
     "output_type": "stream",
     "text": [
      "검색 완료: 1.04초 소요\n",
      "검색 완료: 1.29초 소요\n",
      "검색 완료: 1.26초 소요\n",
      "검색 완료: 0.89초 소요\n"
     ]
    },
    {
     "name": "stderr",
     "output_type": "stream",
     "text": [
      "Received notification from DBMS server: {severity: WARNING} {code: Neo.ClientNotification.Statement.AggregationSkippedNull} {category: UNRECOGNIZED} {title: The query contains an aggregation function that skips null values.} {description: null value eliminated in set function.} {position: None} for query: \"\\n            // 1. 벡터 검색으로 시작 법조항 찾기\\n            CALL db.index.vector.queryNodes('article_embedding', 5, $query_embedding) \\n            YIELD node as article, score as article_score\\n            \\n            // 2. 해당 법조항과 연결된 판례와 키워드 찾기\\n            OPTIONAL MATCH (precedent:Precedent)-[:REFERENCES_ARTICLE]->(article)\\n            OPTIONAL MATCH (precedent)-[:HAS_KEYWORD]->(keyword:Keyword)\\n            \\n            // 3. 결과 집계 및 점수 계산\\n            WITH article, article_score, precedent, \\n                 collect(DISTINCT keyword.text) as keywords,\\n                 count(precedent) as precedent_count\\n            \\n            // 법조항 점수 = 벡터 점수 + 판례 인용 수에 따른 보너스\\n            WITH article, article_score + (precedent_count * 0.01) as final_score,\\n                 precedent_count, keywords\\n            \\n            RETURN article.id as id, \\n                   'Article' as type, \\n                   article.text as text, \\n                   final_score as score,\\n                   precedent_count,\\n                   keywords\\n            ORDER BY final_score DESC\\n            LIMIT $article_limit\\n            \"\n"
     ]
    },
    {
     "name": "stdout",
     "output_type": "stream",
     "text": [
      "검색 완료: 1.05초 소요\n"
     ]
    },
    {
     "name": "stderr",
     "output_type": "stream",
     "text": [
      "Received notification from DBMS server: {severity: WARNING} {code: Neo.ClientNotification.Statement.AggregationSkippedNull} {category: UNRECOGNIZED} {title: The query contains an aggregation function that skips null values.} {description: null value eliminated in set function.} {position: None} for query: \"\\n            // 1. 벡터 검색으로 시작 법조항 찾기\\n            CALL db.index.vector.queryNodes('article_embedding', 5, $query_embedding) \\n            YIELD node as article, score as article_score\\n            \\n            // 2. 해당 법조항과 연결된 판례와 키워드 찾기\\n            OPTIONAL MATCH (precedent:Precedent)-[:REFERENCES_ARTICLE]->(article)\\n            OPTIONAL MATCH (precedent)-[:HAS_KEYWORD]->(keyword:Keyword)\\n            \\n            // 3. 결과 집계 및 점수 계산\\n            WITH article, article_score, precedent, \\n                 collect(DISTINCT keyword.text) as keywords,\\n                 count(precedent) as precedent_count\\n            \\n            // 법조항 점수 = 벡터 점수 + 판례 인용 수에 따른 보너스\\n            WITH article, article_score + (precedent_count * 0.01) as final_score,\\n                 precedent_count, keywords\\n            \\n            RETURN article.id as id, \\n                   'Article' as type, \\n                   article.text as text, \\n                   final_score as score,\\n                   precedent_count,\\n                   keywords\\n            ORDER BY final_score DESC\\n            LIMIT $article_limit\\n            \"\n"
     ]
    },
    {
     "name": "stdout",
     "output_type": "stream",
     "text": [
      "검색 완료: 1.03초 소요\n",
      "검색 완료: 0.91초 소요\n"
     ]
    },
    {
     "name": "stderr",
     "output_type": "stream",
     "text": [
      "Received notification from DBMS server: {severity: WARNING} {code: Neo.ClientNotification.Statement.AggregationSkippedNull} {category: UNRECOGNIZED} {title: The query contains an aggregation function that skips null values.} {description: null value eliminated in set function.} {position: None} for query: \"\\n            // 1. 벡터 검색으로 시작 법조항 찾기\\n            CALL db.index.vector.queryNodes('article_embedding', 5, $query_embedding) \\n            YIELD node as article, score as article_score\\n            \\n            // 2. 해당 법조항과 연결된 판례와 키워드 찾기\\n            OPTIONAL MATCH (precedent:Precedent)-[:REFERENCES_ARTICLE]->(article)\\n            OPTIONAL MATCH (precedent)-[:HAS_KEYWORD]->(keyword:Keyword)\\n            \\n            // 3. 결과 집계 및 점수 계산\\n            WITH article, article_score, precedent, \\n                 collect(DISTINCT keyword.text) as keywords,\\n                 count(precedent) as precedent_count\\n            \\n            // 법조항 점수 = 벡터 점수 + 판례 인용 수에 따른 보너스\\n            WITH article, article_score + (precedent_count * 0.01) as final_score,\\n                 precedent_count, keywords\\n            \\n            RETURN article.id as id, \\n                   'Article' as type, \\n                   article.text as text, \\n                   final_score as score,\\n                   precedent_count,\\n                   keywords\\n            ORDER BY final_score DESC\\n            LIMIT $article_limit\\n            \"\n"
     ]
    },
    {
     "name": "stdout",
     "output_type": "stream",
     "text": [
      "검색 완료: 1.26초 소요\n",
      "검색 완료: 1.24초 소요\n",
      "검색 완료: 1.81초 소요\n",
      "검색 완료: 0.86초 소요\n",
      "검색 완료: 2.03초 소요\n"
     ]
    },
    {
     "name": "stderr",
     "output_type": "stream",
     "text": [
      "Received notification from DBMS server: {severity: WARNING} {code: Neo.ClientNotification.Statement.AggregationSkippedNull} {category: UNRECOGNIZED} {title: The query contains an aggregation function that skips null values.} {description: null value eliminated in set function.} {position: None} for query: \"\\n            // 1. 벡터 검색으로 시작 법조항 찾기\\n            CALL db.index.vector.queryNodes('article_embedding', 5, $query_embedding) \\n            YIELD node as article, score as article_score\\n            \\n            // 2. 해당 법조항과 연결된 판례와 키워드 찾기\\n            OPTIONAL MATCH (precedent:Precedent)-[:REFERENCES_ARTICLE]->(article)\\n            OPTIONAL MATCH (precedent)-[:HAS_KEYWORD]->(keyword:Keyword)\\n            \\n            // 3. 결과 집계 및 점수 계산\\n            WITH article, article_score, precedent, \\n                 collect(DISTINCT keyword.text) as keywords,\\n                 count(precedent) as precedent_count\\n            \\n            // 법조항 점수 = 벡터 점수 + 판례 인용 수에 따른 보너스\\n            WITH article, article_score + (precedent_count * 0.01) as final_score,\\n                 precedent_count, keywords\\n            \\n            RETURN article.id as id, \\n                   'Article' as type, \\n                   article.text as text, \\n                   final_score as score,\\n                   precedent_count,\\n                   keywords\\n            ORDER BY final_score DESC\\n            LIMIT $article_limit\\n            \"\n"
     ]
    },
    {
     "name": "stdout",
     "output_type": "stream",
     "text": [
      "검색 완료: 1.19초 소요\n"
     ]
    },
    {
     "name": "stderr",
     "output_type": "stream",
     "text": [
      "Received notification from DBMS server: {severity: WARNING} {code: Neo.ClientNotification.Statement.AggregationSkippedNull} {category: UNRECOGNIZED} {title: The query contains an aggregation function that skips null values.} {description: null value eliminated in set function.} {position: None} for query: \"\\n            // 1. 벡터 검색으로 시작 법조항 찾기\\n            CALL db.index.vector.queryNodes('article_embedding', 5, $query_embedding) \\n            YIELD node as article, score as article_score\\n            \\n            // 2. 해당 법조항과 연결된 판례와 키워드 찾기\\n            OPTIONAL MATCH (precedent:Precedent)-[:REFERENCES_ARTICLE]->(article)\\n            OPTIONAL MATCH (precedent)-[:HAS_KEYWORD]->(keyword:Keyword)\\n            \\n            // 3. 결과 집계 및 점수 계산\\n            WITH article, article_score, precedent, \\n                 collect(DISTINCT keyword.text) as keywords,\\n                 count(precedent) as precedent_count\\n            \\n            // 법조항 점수 = 벡터 점수 + 판례 인용 수에 따른 보너스\\n            WITH article, article_score + (precedent_count * 0.01) as final_score,\\n                 precedent_count, keywords\\n            \\n            RETURN article.id as id, \\n                   'Article' as type, \\n                   article.text as text, \\n                   final_score as score,\\n                   precedent_count,\\n                   keywords\\n            ORDER BY final_score DESC\\n            LIMIT $article_limit\\n            \"\n"
     ]
    },
    {
     "name": "stdout",
     "output_type": "stream",
     "text": [
      "검색 완료: 1.51초 소요\n",
      "검색 완료: 1.22초 소요\n",
      "검색 완료: 0.89초 소요\n"
     ]
    },
    {
     "name": "stderr",
     "output_type": "stream",
     "text": [
      "Received notification from DBMS server: {severity: WARNING} {code: Neo.ClientNotification.Statement.AggregationSkippedNull} {category: UNRECOGNIZED} {title: The query contains an aggregation function that skips null values.} {description: null value eliminated in set function.} {position: None} for query: \"\\n            // 1. 벡터 검색으로 시작 법조항 찾기\\n            CALL db.index.vector.queryNodes('article_embedding', 5, $query_embedding) \\n            YIELD node as article, score as article_score\\n            \\n            // 2. 해당 법조항과 연결된 판례와 키워드 찾기\\n            OPTIONAL MATCH (precedent:Precedent)-[:REFERENCES_ARTICLE]->(article)\\n            OPTIONAL MATCH (precedent)-[:HAS_KEYWORD]->(keyword:Keyword)\\n            \\n            // 3. 결과 집계 및 점수 계산\\n            WITH article, article_score, precedent, \\n                 collect(DISTINCT keyword.text) as keywords,\\n                 count(precedent) as precedent_count\\n            \\n            // 법조항 점수 = 벡터 점수 + 판례 인용 수에 따른 보너스\\n            WITH article, article_score + (precedent_count * 0.01) as final_score,\\n                 precedent_count, keywords\\n            \\n            RETURN article.id as id, \\n                   'Article' as type, \\n                   article.text as text, \\n                   final_score as score,\\n                   precedent_count,\\n                   keywords\\n            ORDER BY final_score DESC\\n            LIMIT $article_limit\\n            \"\n"
     ]
    },
    {
     "name": "stdout",
     "output_type": "stream",
     "text": [
      "검색 완료: 1.22초 소요\n"
     ]
    },
    {
     "name": "stderr",
     "output_type": "stream",
     "text": [
      "Received notification from DBMS server: {severity: WARNING} {code: Neo.ClientNotification.Statement.AggregationSkippedNull} {category: UNRECOGNIZED} {title: The query contains an aggregation function that skips null values.} {description: null value eliminated in set function.} {position: None} for query: \"\\n            // 1. 벡터 검색으로 시작 법조항 찾기\\n            CALL db.index.vector.queryNodes('article_embedding', 5, $query_embedding) \\n            YIELD node as article, score as article_score\\n            \\n            // 2. 해당 법조항과 연결된 판례와 키워드 찾기\\n            OPTIONAL MATCH (precedent:Precedent)-[:REFERENCES_ARTICLE]->(article)\\n            OPTIONAL MATCH (precedent)-[:HAS_KEYWORD]->(keyword:Keyword)\\n            \\n            // 3. 결과 집계 및 점수 계산\\n            WITH article, article_score, precedent, \\n                 collect(DISTINCT keyword.text) as keywords,\\n                 count(precedent) as precedent_count\\n            \\n            // 법조항 점수 = 벡터 점수 + 판례 인용 수에 따른 보너스\\n            WITH article, article_score + (precedent_count * 0.01) as final_score,\\n                 precedent_count, keywords\\n            \\n            RETURN article.id as id, \\n                   'Article' as type, \\n                   article.text as text, \\n                   final_score as score,\\n                   precedent_count,\\n                   keywords\\n            ORDER BY final_score DESC\\n            LIMIT $article_limit\\n            \"\n"
     ]
    },
    {
     "name": "stdout",
     "output_type": "stream",
     "text": [
      "검색 완료: 1.75초 소요\n"
     ]
    },
    {
     "name": "stderr",
     "output_type": "stream",
     "text": [
      "Received notification from DBMS server: {severity: WARNING} {code: Neo.ClientNotification.Statement.AggregationSkippedNull} {category: UNRECOGNIZED} {title: The query contains an aggregation function that skips null values.} {description: null value eliminated in set function.} {position: None} for query: \"\\n            // 1. 벡터 검색으로 시작 법조항 찾기\\n            CALL db.index.vector.queryNodes('article_embedding', 5, $query_embedding) \\n            YIELD node as article, score as article_score\\n            \\n            // 2. 해당 법조항과 연결된 판례와 키워드 찾기\\n            OPTIONAL MATCH (precedent:Precedent)-[:REFERENCES_ARTICLE]->(article)\\n            OPTIONAL MATCH (precedent)-[:HAS_KEYWORD]->(keyword:Keyword)\\n            \\n            // 3. 결과 집계 및 점수 계산\\n            WITH article, article_score, precedent, \\n                 collect(DISTINCT keyword.text) as keywords,\\n                 count(precedent) as precedent_count\\n            \\n            // 법조항 점수 = 벡터 점수 + 판례 인용 수에 따른 보너스\\n            WITH article, article_score + (precedent_count * 0.01) as final_score,\\n                 precedent_count, keywords\\n            \\n            RETURN article.id as id, \\n                   'Article' as type, \\n                   article.text as text, \\n                   final_score as score,\\n                   precedent_count,\\n                   keywords\\n            ORDER BY final_score DESC\\n            LIMIT $article_limit\\n            \"\n"
     ]
    },
    {
     "name": "stdout",
     "output_type": "stream",
     "text": [
      "검색 완료: 0.89초 소요\n",
      "검색 완료: 0.74초 소요\n",
      "검색 완료: 1.17초 소요\n",
      "검색 완료: 2.05초 소요\n",
      "검색 완료: 0.94초 소요\n",
      "검색 완료: 2.97초 소요\n",
      "검색 완료: 2.05초 소요\n",
      "검색 완료: 1.11초 소요\n",
      "검색 완료: 1.19초 소요\n",
      "검색 완료: 1.18초 소요\n",
      "검색 완료: 1.56초 소요\n"
     ]
    },
    {
     "name": "stderr",
     "output_type": "stream",
     "text": [
      "Received notification from DBMS server: {severity: WARNING} {code: Neo.ClientNotification.Statement.AggregationSkippedNull} {category: UNRECOGNIZED} {title: The query contains an aggregation function that skips null values.} {description: null value eliminated in set function.} {position: None} for query: \"\\n            // 1. 벡터 검색으로 시작 법조항 찾기\\n            CALL db.index.vector.queryNodes('article_embedding', 5, $query_embedding) \\n            YIELD node as article, score as article_score\\n            \\n            // 2. 해당 법조항과 연결된 판례와 키워드 찾기\\n            OPTIONAL MATCH (precedent:Precedent)-[:REFERENCES_ARTICLE]->(article)\\n            OPTIONAL MATCH (precedent)-[:HAS_KEYWORD]->(keyword:Keyword)\\n            \\n            // 3. 결과 집계 및 점수 계산\\n            WITH article, article_score, precedent, \\n                 collect(DISTINCT keyword.text) as keywords,\\n                 count(precedent) as precedent_count\\n            \\n            // 법조항 점수 = 벡터 점수 + 판례 인용 수에 따른 보너스\\n            WITH article, article_score + (precedent_count * 0.01) as final_score,\\n                 precedent_count, keywords\\n            \\n            RETURN article.id as id, \\n                   'Article' as type, \\n                   article.text as text, \\n                   final_score as score,\\n                   precedent_count,\\n                   keywords\\n            ORDER BY final_score DESC\\n            LIMIT $article_limit\\n            \"\n"
     ]
    },
    {
     "name": "stdout",
     "output_type": "stream",
     "text": [
      "검색 완료: 1.26초 소요\n",
      "검색 완료: 1.07초 소요\n",
      "검색 완료: 0.87초 소요\n",
      "검색 완료: 1.64초 소요\n"
     ]
    },
    {
     "name": "stderr",
     "output_type": "stream",
     "text": [
      "Received notification from DBMS server: {severity: WARNING} {code: Neo.ClientNotification.Statement.AggregationSkippedNull} {category: UNRECOGNIZED} {title: The query contains an aggregation function that skips null values.} {description: null value eliminated in set function.} {position: None} for query: \"\\n            // 1. 벡터 검색으로 시작 법조항 찾기\\n            CALL db.index.vector.queryNodes('article_embedding', 5, $query_embedding) \\n            YIELD node as article, score as article_score\\n            \\n            // 2. 해당 법조항과 연결된 판례와 키워드 찾기\\n            OPTIONAL MATCH (precedent:Precedent)-[:REFERENCES_ARTICLE]->(article)\\n            OPTIONAL MATCH (precedent)-[:HAS_KEYWORD]->(keyword:Keyword)\\n            \\n            // 3. 결과 집계 및 점수 계산\\n            WITH article, article_score, precedent, \\n                 collect(DISTINCT keyword.text) as keywords,\\n                 count(precedent) as precedent_count\\n            \\n            // 법조항 점수 = 벡터 점수 + 판례 인용 수에 따른 보너스\\n            WITH article, article_score + (precedent_count * 0.01) as final_score,\\n                 precedent_count, keywords\\n            \\n            RETURN article.id as id, \\n                   'Article' as type, \\n                   article.text as text, \\n                   final_score as score,\\n                   precedent_count,\\n                   keywords\\n            ORDER BY final_score DESC\\n            LIMIT $article_limit\\n            \"\n"
     ]
    },
    {
     "name": "stdout",
     "output_type": "stream",
     "text": [
      "검색 완료: 2.39초 소요\n",
      "검색 완료: 0.87초 소요\n",
      "검색 완료: 1.12초 소요\n",
      "검색 완료: 1.77초 소요\n",
      "검색 완료: 1.56초 소요\n"
     ]
    },
    {
     "name": "stderr",
     "output_type": "stream",
     "text": [
      "Received notification from DBMS server: {severity: WARNING} {code: Neo.ClientNotification.Statement.AggregationSkippedNull} {category: UNRECOGNIZED} {title: The query contains an aggregation function that skips null values.} {description: null value eliminated in set function.} {position: None} for query: \"\\n            // 1. 벡터 검색으로 시작 법조항 찾기\\n            CALL db.index.vector.queryNodes('article_embedding', 5, $query_embedding) \\n            YIELD node as article, score as article_score\\n            \\n            // 2. 해당 법조항과 연결된 판례와 키워드 찾기\\n            OPTIONAL MATCH (precedent:Precedent)-[:REFERENCES_ARTICLE]->(article)\\n            OPTIONAL MATCH (precedent)-[:HAS_KEYWORD]->(keyword:Keyword)\\n            \\n            // 3. 결과 집계 및 점수 계산\\n            WITH article, article_score, precedent, \\n                 collect(DISTINCT keyword.text) as keywords,\\n                 count(precedent) as precedent_count\\n            \\n            // 법조항 점수 = 벡터 점수 + 판례 인용 수에 따른 보너스\\n            WITH article, article_score + (precedent_count * 0.01) as final_score,\\n                 precedent_count, keywords\\n            \\n            RETURN article.id as id, \\n                   'Article' as type, \\n                   article.text as text, \\n                   final_score as score,\\n                   precedent_count,\\n                   keywords\\n            ORDER BY final_score DESC\\n            LIMIT $article_limit\\n            \"\n"
     ]
    },
    {
     "name": "stdout",
     "output_type": "stream",
     "text": [
      "검색 완료: 0.74초 소요\n"
     ]
    },
    {
     "name": "stderr",
     "output_type": "stream",
     "text": [
      "Received notification from DBMS server: {severity: WARNING} {code: Neo.ClientNotification.Statement.AggregationSkippedNull} {category: UNRECOGNIZED} {title: The query contains an aggregation function that skips null values.} {description: null value eliminated in set function.} {position: None} for query: \"\\n            // 1. 벡터 검색으로 시작 법조항 찾기\\n            CALL db.index.vector.queryNodes('article_embedding', 5, $query_embedding) \\n            YIELD node as article, score as article_score\\n            \\n            // 2. 해당 법조항과 연결된 판례와 키워드 찾기\\n            OPTIONAL MATCH (precedent:Precedent)-[:REFERENCES_ARTICLE]->(article)\\n            OPTIONAL MATCH (precedent)-[:HAS_KEYWORD]->(keyword:Keyword)\\n            \\n            // 3. 결과 집계 및 점수 계산\\n            WITH article, article_score, precedent, \\n                 collect(DISTINCT keyword.text) as keywords,\\n                 count(precedent) as precedent_count\\n            \\n            // 법조항 점수 = 벡터 점수 + 판례 인용 수에 따른 보너스\\n            WITH article, article_score + (precedent_count * 0.01) as final_score,\\n                 precedent_count, keywords\\n            \\n            RETURN article.id as id, \\n                   'Article' as type, \\n                   article.text as text, \\n                   final_score as score,\\n                   precedent_count,\\n                   keywords\\n            ORDER BY final_score DESC\\n            LIMIT $article_limit\\n            \"\n"
     ]
    },
    {
     "name": "stdout",
     "output_type": "stream",
     "text": [
      "검색 완료: 1.18초 소요\n"
     ]
    },
    {
     "name": "stderr",
     "output_type": "stream",
     "text": [
      "Received notification from DBMS server: {severity: WARNING} {code: Neo.ClientNotification.Statement.AggregationSkippedNull} {category: UNRECOGNIZED} {title: The query contains an aggregation function that skips null values.} {description: null value eliminated in set function.} {position: None} for query: \"\\n            // 1. 벡터 검색으로 시작 법조항 찾기\\n            CALL db.index.vector.queryNodes('article_embedding', 5, $query_embedding) \\n            YIELD node as article, score as article_score\\n            \\n            // 2. 해당 법조항과 연결된 판례와 키워드 찾기\\n            OPTIONAL MATCH (precedent:Precedent)-[:REFERENCES_ARTICLE]->(article)\\n            OPTIONAL MATCH (precedent)-[:HAS_KEYWORD]->(keyword:Keyword)\\n            \\n            // 3. 결과 집계 및 점수 계산\\n            WITH article, article_score, precedent, \\n                 collect(DISTINCT keyword.text) as keywords,\\n                 count(precedent) as precedent_count\\n            \\n            // 법조항 점수 = 벡터 점수 + 판례 인용 수에 따른 보너스\\n            WITH article, article_score + (precedent_count * 0.01) as final_score,\\n                 precedent_count, keywords\\n            \\n            RETURN article.id as id, \\n                   'Article' as type, \\n                   article.text as text, \\n                   final_score as score,\\n                   precedent_count,\\n                   keywords\\n            ORDER BY final_score DESC\\n            LIMIT $article_limit\\n            \"\n"
     ]
    },
    {
     "name": "stdout",
     "output_type": "stream",
     "text": [
      "검색 완료: 1.33초 소요\n",
      "검색 완료: 0.94초 소요\n",
      "검색 완료: 1.12초 소요\n",
      "검색 완료: 1.03초 소요\n",
      "검색 완료: 1.21초 소요\n"
     ]
    },
    {
     "name": "stderr",
     "output_type": "stream",
     "text": [
      "Received notification from DBMS server: {severity: WARNING} {code: Neo.ClientNotification.Statement.AggregationSkippedNull} {category: UNRECOGNIZED} {title: The query contains an aggregation function that skips null values.} {description: null value eliminated in set function.} {position: None} for query: \"\\n            // 1. 벡터 검색으로 시작 법조항 찾기\\n            CALL db.index.vector.queryNodes('article_embedding', 5, $query_embedding) \\n            YIELD node as article, score as article_score\\n            \\n            // 2. 해당 법조항과 연결된 판례와 키워드 찾기\\n            OPTIONAL MATCH (precedent:Precedent)-[:REFERENCES_ARTICLE]->(article)\\n            OPTIONAL MATCH (precedent)-[:HAS_KEYWORD]->(keyword:Keyword)\\n            \\n            // 3. 결과 집계 및 점수 계산\\n            WITH article, article_score, precedent, \\n                 collect(DISTINCT keyword.text) as keywords,\\n                 count(precedent) as precedent_count\\n            \\n            // 법조항 점수 = 벡터 점수 + 판례 인용 수에 따른 보너스\\n            WITH article, article_score + (precedent_count * 0.01) as final_score,\\n                 precedent_count, keywords\\n            \\n            RETURN article.id as id, \\n                   'Article' as type, \\n                   article.text as text, \\n                   final_score as score,\\n                   precedent_count,\\n                   keywords\\n            ORDER BY final_score DESC\\n            LIMIT $article_limit\\n            \"\n"
     ]
    },
    {
     "name": "stdout",
     "output_type": "stream",
     "text": [
      "검색 완료: 0.99초 소요\n"
     ]
    },
    {
     "name": "stderr",
     "output_type": "stream",
     "text": [
      "Received notification from DBMS server: {severity: WARNING} {code: Neo.ClientNotification.Statement.AggregationSkippedNull} {category: UNRECOGNIZED} {title: The query contains an aggregation function that skips null values.} {description: null value eliminated in set function.} {position: None} for query: \"\\n            // 1. 벡터 검색으로 시작 법조항 찾기\\n            CALL db.index.vector.queryNodes('article_embedding', 5, $query_embedding) \\n            YIELD node as article, score as article_score\\n            \\n            // 2. 해당 법조항과 연결된 판례와 키워드 찾기\\n            OPTIONAL MATCH (precedent:Precedent)-[:REFERENCES_ARTICLE]->(article)\\n            OPTIONAL MATCH (precedent)-[:HAS_KEYWORD]->(keyword:Keyword)\\n            \\n            // 3. 결과 집계 및 점수 계산\\n            WITH article, article_score, precedent, \\n                 collect(DISTINCT keyword.text) as keywords,\\n                 count(precedent) as precedent_count\\n            \\n            // 법조항 점수 = 벡터 점수 + 판례 인용 수에 따른 보너스\\n            WITH article, article_score + (precedent_count * 0.01) as final_score,\\n                 precedent_count, keywords\\n            \\n            RETURN article.id as id, \\n                   'Article' as type, \\n                   article.text as text, \\n                   final_score as score,\\n                   precedent_count,\\n                   keywords\\n            ORDER BY final_score DESC\\n            LIMIT $article_limit\\n            \"\n"
     ]
    },
    {
     "name": "stdout",
     "output_type": "stream",
     "text": [
      "검색 완료: 1.11초 소요\n"
     ]
    },
    {
     "name": "stderr",
     "output_type": "stream",
     "text": [
      "Received notification from DBMS server: {severity: WARNING} {code: Neo.ClientNotification.Statement.AggregationSkippedNull} {category: UNRECOGNIZED} {title: The query contains an aggregation function that skips null values.} {description: null value eliminated in set function.} {position: None} for query: \"\\n            // 1. 벡터 검색으로 시작 법조항 찾기\\n            CALL db.index.vector.queryNodes('article_embedding', 5, $query_embedding) \\n            YIELD node as article, score as article_score\\n            \\n            // 2. 해당 법조항과 연결된 판례와 키워드 찾기\\n            OPTIONAL MATCH (precedent:Precedent)-[:REFERENCES_ARTICLE]->(article)\\n            OPTIONAL MATCH (precedent)-[:HAS_KEYWORD]->(keyword:Keyword)\\n            \\n            // 3. 결과 집계 및 점수 계산\\n            WITH article, article_score, precedent, \\n                 collect(DISTINCT keyword.text) as keywords,\\n                 count(precedent) as precedent_count\\n            \\n            // 법조항 점수 = 벡터 점수 + 판례 인용 수에 따른 보너스\\n            WITH article, article_score + (precedent_count * 0.01) as final_score,\\n                 precedent_count, keywords\\n            \\n            RETURN article.id as id, \\n                   'Article' as type, \\n                   article.text as text, \\n                   final_score as score,\\n                   precedent_count,\\n                   keywords\\n            ORDER BY final_score DESC\\n            LIMIT $article_limit\\n            \"\n"
     ]
    },
    {
     "name": "stdout",
     "output_type": "stream",
     "text": [
      "검색 완료: 0.79초 소요\n"
     ]
    },
    {
     "name": "stderr",
     "output_type": "stream",
     "text": [
      "Received notification from DBMS server: {severity: WARNING} {code: Neo.ClientNotification.Statement.AggregationSkippedNull} {category: UNRECOGNIZED} {title: The query contains an aggregation function that skips null values.} {description: null value eliminated in set function.} {position: None} for query: \"\\n            // 1. 벡터 검색으로 시작 법조항 찾기\\n            CALL db.index.vector.queryNodes('article_embedding', 5, $query_embedding) \\n            YIELD node as article, score as article_score\\n            \\n            // 2. 해당 법조항과 연결된 판례와 키워드 찾기\\n            OPTIONAL MATCH (precedent:Precedent)-[:REFERENCES_ARTICLE]->(article)\\n            OPTIONAL MATCH (precedent)-[:HAS_KEYWORD]->(keyword:Keyword)\\n            \\n            // 3. 결과 집계 및 점수 계산\\n            WITH article, article_score, precedent, \\n                 collect(DISTINCT keyword.text) as keywords,\\n                 count(precedent) as precedent_count\\n            \\n            // 법조항 점수 = 벡터 점수 + 판례 인용 수에 따른 보너스\\n            WITH article, article_score + (precedent_count * 0.01) as final_score,\\n                 precedent_count, keywords\\n            \\n            RETURN article.id as id, \\n                   'Article' as type, \\n                   article.text as text, \\n                   final_score as score,\\n                   precedent_count,\\n                   keywords\\n            ORDER BY final_score DESC\\n            LIMIT $article_limit\\n            \"\n"
     ]
    },
    {
     "name": "stdout",
     "output_type": "stream",
     "text": [
      "검색 완료: 0.99초 소요\n"
     ]
    },
    {
     "name": "stderr",
     "output_type": "stream",
     "text": [
      "Received notification from DBMS server: {severity: WARNING} {code: Neo.ClientNotification.Statement.AggregationSkippedNull} {category: UNRECOGNIZED} {title: The query contains an aggregation function that skips null values.} {description: null value eliminated in set function.} {position: None} for query: \"\\n            // 1. 벡터 검색으로 시작 법조항 찾기\\n            CALL db.index.vector.queryNodes('article_embedding', 5, $query_embedding) \\n            YIELD node as article, score as article_score\\n            \\n            // 2. 해당 법조항과 연결된 판례와 키워드 찾기\\n            OPTIONAL MATCH (precedent:Precedent)-[:REFERENCES_ARTICLE]->(article)\\n            OPTIONAL MATCH (precedent)-[:HAS_KEYWORD]->(keyword:Keyword)\\n            \\n            // 3. 결과 집계 및 점수 계산\\n            WITH article, article_score, precedent, \\n                 collect(DISTINCT keyword.text) as keywords,\\n                 count(precedent) as precedent_count\\n            \\n            // 법조항 점수 = 벡터 점수 + 판례 인용 수에 따른 보너스\\n            WITH article, article_score + (precedent_count * 0.01) as final_score,\\n                 precedent_count, keywords\\n            \\n            RETURN article.id as id, \\n                   'Article' as type, \\n                   article.text as text, \\n                   final_score as score,\\n                   precedent_count,\\n                   keywords\\n            ORDER BY final_score DESC\\n            LIMIT $article_limit\\n            \"\n"
     ]
    },
    {
     "name": "stdout",
     "output_type": "stream",
     "text": [
      "검색 완료: 1.39초 소요\n",
      "검색 완료: 1.06초 소요\n"
     ]
    },
    {
     "name": "stderr",
     "output_type": "stream",
     "text": [
      "Received notification from DBMS server: {severity: WARNING} {code: Neo.ClientNotification.Statement.AggregationSkippedNull} {category: UNRECOGNIZED} {title: The query contains an aggregation function that skips null values.} {description: null value eliminated in set function.} {position: None} for query: \"\\n            // 1. 벡터 검색으로 시작 법조항 찾기\\n            CALL db.index.vector.queryNodes('article_embedding', 5, $query_embedding) \\n            YIELD node as article, score as article_score\\n            \\n            // 2. 해당 법조항과 연결된 판례와 키워드 찾기\\n            OPTIONAL MATCH (precedent:Precedent)-[:REFERENCES_ARTICLE]->(article)\\n            OPTIONAL MATCH (precedent)-[:HAS_KEYWORD]->(keyword:Keyword)\\n            \\n            // 3. 결과 집계 및 점수 계산\\n            WITH article, article_score, precedent, \\n                 collect(DISTINCT keyword.text) as keywords,\\n                 count(precedent) as precedent_count\\n            \\n            // 법조항 점수 = 벡터 점수 + 판례 인용 수에 따른 보너스\\n            WITH article, article_score + (precedent_count * 0.01) as final_score,\\n                 precedent_count, keywords\\n            \\n            RETURN article.id as id, \\n                   'Article' as type, \\n                   article.text as text, \\n                   final_score as score,\\n                   precedent_count,\\n                   keywords\\n            ORDER BY final_score DESC\\n            LIMIT $article_limit\\n            \"\n"
     ]
    },
    {
     "name": "stdout",
     "output_type": "stream",
     "text": [
      "검색 완료: 0.95초 소요\n"
     ]
    },
    {
     "name": "stderr",
     "output_type": "stream",
     "text": [
      "Received notification from DBMS server: {severity: WARNING} {code: Neo.ClientNotification.Statement.AggregationSkippedNull} {category: UNRECOGNIZED} {title: The query contains an aggregation function that skips null values.} {description: null value eliminated in set function.} {position: None} for query: \"\\n            // 1. 벡터 검색으로 시작 법조항 찾기\\n            CALL db.index.vector.queryNodes('article_embedding', 5, $query_embedding) \\n            YIELD node as article, score as article_score\\n            \\n            // 2. 해당 법조항과 연결된 판례와 키워드 찾기\\n            OPTIONAL MATCH (precedent:Precedent)-[:REFERENCES_ARTICLE]->(article)\\n            OPTIONAL MATCH (precedent)-[:HAS_KEYWORD]->(keyword:Keyword)\\n            \\n            // 3. 결과 집계 및 점수 계산\\n            WITH article, article_score, precedent, \\n                 collect(DISTINCT keyword.text) as keywords,\\n                 count(precedent) as precedent_count\\n            \\n            // 법조항 점수 = 벡터 점수 + 판례 인용 수에 따른 보너스\\n            WITH article, article_score + (precedent_count * 0.01) as final_score,\\n                 precedent_count, keywords\\n            \\n            RETURN article.id as id, \\n                   'Article' as type, \\n                   article.text as text, \\n                   final_score as score,\\n                   precedent_count,\\n                   keywords\\n            ORDER BY final_score DESC\\n            LIMIT $article_limit\\n            \"\n"
     ]
    },
    {
     "name": "stdout",
     "output_type": "stream",
     "text": [
      "검색 완료: 0.91초 소요\n"
     ]
    },
    {
     "name": "stderr",
     "output_type": "stream",
     "text": [
      "Received notification from DBMS server: {severity: WARNING} {code: Neo.ClientNotification.Statement.AggregationSkippedNull} {category: UNRECOGNIZED} {title: The query contains an aggregation function that skips null values.} {description: null value eliminated in set function.} {position: None} for query: \"\\n            // 1. 벡터 검색으로 시작 법조항 찾기\\n            CALL db.index.vector.queryNodes('article_embedding', 5, $query_embedding) \\n            YIELD node as article, score as article_score\\n            \\n            // 2. 해당 법조항과 연결된 판례와 키워드 찾기\\n            OPTIONAL MATCH (precedent:Precedent)-[:REFERENCES_ARTICLE]->(article)\\n            OPTIONAL MATCH (precedent)-[:HAS_KEYWORD]->(keyword:Keyword)\\n            \\n            // 3. 결과 집계 및 점수 계산\\n            WITH article, article_score, precedent, \\n                 collect(DISTINCT keyword.text) as keywords,\\n                 count(precedent) as precedent_count\\n            \\n            // 법조항 점수 = 벡터 점수 + 판례 인용 수에 따른 보너스\\n            WITH article, article_score + (precedent_count * 0.01) as final_score,\\n                 precedent_count, keywords\\n            \\n            RETURN article.id as id, \\n                   'Article' as type, \\n                   article.text as text, \\n                   final_score as score,\\n                   precedent_count,\\n                   keywords\\n            ORDER BY final_score DESC\\n            LIMIT $article_limit\\n            \"\n"
     ]
    },
    {
     "name": "stdout",
     "output_type": "stream",
     "text": [
      "검색 완료: 1.38초 소요\n"
     ]
    },
    {
     "name": "stderr",
     "output_type": "stream",
     "text": [
      "Received notification from DBMS server: {severity: WARNING} {code: Neo.ClientNotification.Statement.AggregationSkippedNull} {category: UNRECOGNIZED} {title: The query contains an aggregation function that skips null values.} {description: null value eliminated in set function.} {position: None} for query: \"\\n            // 1. 벡터 검색으로 시작 법조항 찾기\\n            CALL db.index.vector.queryNodes('article_embedding', 5, $query_embedding) \\n            YIELD node as article, score as article_score\\n            \\n            // 2. 해당 법조항과 연결된 판례와 키워드 찾기\\n            OPTIONAL MATCH (precedent:Precedent)-[:REFERENCES_ARTICLE]->(article)\\n            OPTIONAL MATCH (precedent)-[:HAS_KEYWORD]->(keyword:Keyword)\\n            \\n            // 3. 결과 집계 및 점수 계산\\n            WITH article, article_score, precedent, \\n                 collect(DISTINCT keyword.text) as keywords,\\n                 count(precedent) as precedent_count\\n            \\n            // 법조항 점수 = 벡터 점수 + 판례 인용 수에 따른 보너스\\n            WITH article, article_score + (precedent_count * 0.01) as final_score,\\n                 precedent_count, keywords\\n            \\n            RETURN article.id as id, \\n                   'Article' as type, \\n                   article.text as text, \\n                   final_score as score,\\n                   precedent_count,\\n                   keywords\\n            ORDER BY final_score DESC\\n            LIMIT $article_limit\\n            \"\n"
     ]
    },
    {
     "name": "stdout",
     "output_type": "stream",
     "text": [
      "검색 완료: 1.09초 소요\n"
     ]
    },
    {
     "name": "stderr",
     "output_type": "stream",
     "text": [
      "Received notification from DBMS server: {severity: WARNING} {code: Neo.ClientNotification.Statement.AggregationSkippedNull} {category: UNRECOGNIZED} {title: The query contains an aggregation function that skips null values.} {description: null value eliminated in set function.} {position: None} for query: \"\\n            // 1. 벡터 검색으로 시작 법조항 찾기\\n            CALL db.index.vector.queryNodes('article_embedding', 5, $query_embedding) \\n            YIELD node as article, score as article_score\\n            \\n            // 2. 해당 법조항과 연결된 판례와 키워드 찾기\\n            OPTIONAL MATCH (precedent:Precedent)-[:REFERENCES_ARTICLE]->(article)\\n            OPTIONAL MATCH (precedent)-[:HAS_KEYWORD]->(keyword:Keyword)\\n            \\n            // 3. 결과 집계 및 점수 계산\\n            WITH article, article_score, precedent, \\n                 collect(DISTINCT keyword.text) as keywords,\\n                 count(precedent) as precedent_count\\n            \\n            // 법조항 점수 = 벡터 점수 + 판례 인용 수에 따른 보너스\\n            WITH article, article_score + (precedent_count * 0.01) as final_score,\\n                 precedent_count, keywords\\n            \\n            RETURN article.id as id, \\n                   'Article' as type, \\n                   article.text as text, \\n                   final_score as score,\\n                   precedent_count,\\n                   keywords\\n            ORDER BY final_score DESC\\n            LIMIT $article_limit\\n            \"\n"
     ]
    },
    {
     "name": "stdout",
     "output_type": "stream",
     "text": [
      "검색 완료: 1.49초 소요\n",
      "검색 완료: 1.58초 소요\n"
     ]
    },
    {
     "name": "stderr",
     "output_type": "stream",
     "text": [
      "Received notification from DBMS server: {severity: WARNING} {code: Neo.ClientNotification.Statement.AggregationSkippedNull} {category: UNRECOGNIZED} {title: The query contains an aggregation function that skips null values.} {description: null value eliminated in set function.} {position: None} for query: \"\\n            // 1. 벡터 검색으로 시작 법조항 찾기\\n            CALL db.index.vector.queryNodes('article_embedding', 5, $query_embedding) \\n            YIELD node as article, score as article_score\\n            \\n            // 2. 해당 법조항과 연결된 판례와 키워드 찾기\\n            OPTIONAL MATCH (precedent:Precedent)-[:REFERENCES_ARTICLE]->(article)\\n            OPTIONAL MATCH (precedent)-[:HAS_KEYWORD]->(keyword:Keyword)\\n            \\n            // 3. 결과 집계 및 점수 계산\\n            WITH article, article_score, precedent, \\n                 collect(DISTINCT keyword.text) as keywords,\\n                 count(precedent) as precedent_count\\n            \\n            // 법조항 점수 = 벡터 점수 + 판례 인용 수에 따른 보너스\\n            WITH article, article_score + (precedent_count * 0.01) as final_score,\\n                 precedent_count, keywords\\n            \\n            RETURN article.id as id, \\n                   'Article' as type, \\n                   article.text as text, \\n                   final_score as score,\\n                   precedent_count,\\n                   keywords\\n            ORDER BY final_score DESC\\n            LIMIT $article_limit\\n            \"\n"
     ]
    },
    {
     "name": "stdout",
     "output_type": "stream",
     "text": [
      "검색 완료: 0.95초 소요\n"
     ]
    },
    {
     "name": "stderr",
     "output_type": "stream",
     "text": [
      "Received notification from DBMS server: {severity: WARNING} {code: Neo.ClientNotification.Statement.AggregationSkippedNull} {category: UNRECOGNIZED} {title: The query contains an aggregation function that skips null values.} {description: null value eliminated in set function.} {position: None} for query: \"\\n            // 1. 벡터 검색으로 시작 법조항 찾기\\n            CALL db.index.vector.queryNodes('article_embedding', 5, $query_embedding) \\n            YIELD node as article, score as article_score\\n            \\n            // 2. 해당 법조항과 연결된 판례와 키워드 찾기\\n            OPTIONAL MATCH (precedent:Precedent)-[:REFERENCES_ARTICLE]->(article)\\n            OPTIONAL MATCH (precedent)-[:HAS_KEYWORD]->(keyword:Keyword)\\n            \\n            // 3. 결과 집계 및 점수 계산\\n            WITH article, article_score, precedent, \\n                 collect(DISTINCT keyword.text) as keywords,\\n                 count(precedent) as precedent_count\\n            \\n            // 법조항 점수 = 벡터 점수 + 판례 인용 수에 따른 보너스\\n            WITH article, article_score + (precedent_count * 0.01) as final_score,\\n                 precedent_count, keywords\\n            \\n            RETURN article.id as id, \\n                   'Article' as type, \\n                   article.text as text, \\n                   final_score as score,\\n                   precedent_count,\\n                   keywords\\n            ORDER BY final_score DESC\\n            LIMIT $article_limit\\n            \"\n"
     ]
    },
    {
     "name": "stdout",
     "output_type": "stream",
     "text": [
      "검색 완료: 0.86초 소요\n"
     ]
    },
    {
     "name": "stderr",
     "output_type": "stream",
     "text": [
      "Received notification from DBMS server: {severity: WARNING} {code: Neo.ClientNotification.Statement.AggregationSkippedNull} {category: UNRECOGNIZED} {title: The query contains an aggregation function that skips null values.} {description: null value eliminated in set function.} {position: None} for query: \"\\n            // 1. 벡터 검색으로 시작 법조항 찾기\\n            CALL db.index.vector.queryNodes('article_embedding', 5, $query_embedding) \\n            YIELD node as article, score as article_score\\n            \\n            // 2. 해당 법조항과 연결된 판례와 키워드 찾기\\n            OPTIONAL MATCH (precedent:Precedent)-[:REFERENCES_ARTICLE]->(article)\\n            OPTIONAL MATCH (precedent)-[:HAS_KEYWORD]->(keyword:Keyword)\\n            \\n            // 3. 결과 집계 및 점수 계산\\n            WITH article, article_score, precedent, \\n                 collect(DISTINCT keyword.text) as keywords,\\n                 count(precedent) as precedent_count\\n            \\n            // 법조항 점수 = 벡터 점수 + 판례 인용 수에 따른 보너스\\n            WITH article, article_score + (precedent_count * 0.01) as final_score,\\n                 precedent_count, keywords\\n            \\n            RETURN article.id as id, \\n                   'Article' as type, \\n                   article.text as text, \\n                   final_score as score,\\n                   precedent_count,\\n                   keywords\\n            ORDER BY final_score DESC\\n            LIMIT $article_limit\\n            \"\n"
     ]
    },
    {
     "name": "stdout",
     "output_type": "stream",
     "text": [
      "검색 완료: 0.85초 소요\n",
      "검색 완료: 1.11초 소요\n"
     ]
    },
    {
     "name": "stderr",
     "output_type": "stream",
     "text": [
      "Received notification from DBMS server: {severity: WARNING} {code: Neo.ClientNotification.Statement.AggregationSkippedNull} {category: UNRECOGNIZED} {title: The query contains an aggregation function that skips null values.} {description: null value eliminated in set function.} {position: None} for query: \"\\n            // 1. 벡터 검색으로 시작 법조항 찾기\\n            CALL db.index.vector.queryNodes('article_embedding', 5, $query_embedding) \\n            YIELD node as article, score as article_score\\n            \\n            // 2. 해당 법조항과 연결된 판례와 키워드 찾기\\n            OPTIONAL MATCH (precedent:Precedent)-[:REFERENCES_ARTICLE]->(article)\\n            OPTIONAL MATCH (precedent)-[:HAS_KEYWORD]->(keyword:Keyword)\\n            \\n            // 3. 결과 집계 및 점수 계산\\n            WITH article, article_score, precedent, \\n                 collect(DISTINCT keyword.text) as keywords,\\n                 count(precedent) as precedent_count\\n            \\n            // 법조항 점수 = 벡터 점수 + 판례 인용 수에 따른 보너스\\n            WITH article, article_score + (precedent_count * 0.01) as final_score,\\n                 precedent_count, keywords\\n            \\n            RETURN article.id as id, \\n                   'Article' as type, \\n                   article.text as text, \\n                   final_score as score,\\n                   precedent_count,\\n                   keywords\\n            ORDER BY final_score DESC\\n            LIMIT $article_limit\\n            \"\n"
     ]
    },
    {
     "name": "stdout",
     "output_type": "stream",
     "text": [
      "검색 완료: 1.45초 소요\n"
     ]
    },
    {
     "name": "stderr",
     "output_type": "stream",
     "text": [
      "Received notification from DBMS server: {severity: WARNING} {code: Neo.ClientNotification.Statement.AggregationSkippedNull} {category: UNRECOGNIZED} {title: The query contains an aggregation function that skips null values.} {description: null value eliminated in set function.} {position: None} for query: \"\\n            // 1. 벡터 검색으로 시작 법조항 찾기\\n            CALL db.index.vector.queryNodes('article_embedding', 5, $query_embedding) \\n            YIELD node as article, score as article_score\\n            \\n            // 2. 해당 법조항과 연결된 판례와 키워드 찾기\\n            OPTIONAL MATCH (precedent:Precedent)-[:REFERENCES_ARTICLE]->(article)\\n            OPTIONAL MATCH (precedent)-[:HAS_KEYWORD]->(keyword:Keyword)\\n            \\n            // 3. 결과 집계 및 점수 계산\\n            WITH article, article_score, precedent, \\n                 collect(DISTINCT keyword.text) as keywords,\\n                 count(precedent) as precedent_count\\n            \\n            // 법조항 점수 = 벡터 점수 + 판례 인용 수에 따른 보너스\\n            WITH article, article_score + (precedent_count * 0.01) as final_score,\\n                 precedent_count, keywords\\n            \\n            RETURN article.id as id, \\n                   'Article' as type, \\n                   article.text as text, \\n                   final_score as score,\\n                   precedent_count,\\n                   keywords\\n            ORDER BY final_score DESC\\n            LIMIT $article_limit\\n            \"\n"
     ]
    },
    {
     "name": "stdout",
     "output_type": "stream",
     "text": [
      "검색 완료: 2.45초 소요\n"
     ]
    },
    {
     "name": "stderr",
     "output_type": "stream",
     "text": [
      "Received notification from DBMS server: {severity: WARNING} {code: Neo.ClientNotification.Statement.AggregationSkippedNull} {category: UNRECOGNIZED} {title: The query contains an aggregation function that skips null values.} {description: null value eliminated in set function.} {position: None} for query: \"\\n            // 1. 벡터 검색으로 시작 법조항 찾기\\n            CALL db.index.vector.queryNodes('article_embedding', 5, $query_embedding) \\n            YIELD node as article, score as article_score\\n            \\n            // 2. 해당 법조항과 연결된 판례와 키워드 찾기\\n            OPTIONAL MATCH (precedent:Precedent)-[:REFERENCES_ARTICLE]->(article)\\n            OPTIONAL MATCH (precedent)-[:HAS_KEYWORD]->(keyword:Keyword)\\n            \\n            // 3. 결과 집계 및 점수 계산\\n            WITH article, article_score, precedent, \\n                 collect(DISTINCT keyword.text) as keywords,\\n                 count(precedent) as precedent_count\\n            \\n            // 법조항 점수 = 벡터 점수 + 판례 인용 수에 따른 보너스\\n            WITH article, article_score + (precedent_count * 0.01) as final_score,\\n                 precedent_count, keywords\\n            \\n            RETURN article.id as id, \\n                   'Article' as type, \\n                   article.text as text, \\n                   final_score as score,\\n                   precedent_count,\\n                   keywords\\n            ORDER BY final_score DESC\\n            LIMIT $article_limit\\n            \"\n"
     ]
    },
    {
     "name": "stdout",
     "output_type": "stream",
     "text": [
      "검색 완료: 1.22초 소요\n",
      "검색 완료: 1.57초 소요\n"
     ]
    },
    {
     "name": "stderr",
     "output_type": "stream",
     "text": [
      "Received notification from DBMS server: {severity: WARNING} {code: Neo.ClientNotification.Statement.AggregationSkippedNull} {category: UNRECOGNIZED} {title: The query contains an aggregation function that skips null values.} {description: null value eliminated in set function.} {position: None} for query: \"\\n            // 1. 벡터 검색으로 시작 법조항 찾기\\n            CALL db.index.vector.queryNodes('article_embedding', 5, $query_embedding) \\n            YIELD node as article, score as article_score\\n            \\n            // 2. 해당 법조항과 연결된 판례와 키워드 찾기\\n            OPTIONAL MATCH (precedent:Precedent)-[:REFERENCES_ARTICLE]->(article)\\n            OPTIONAL MATCH (precedent)-[:HAS_KEYWORD]->(keyword:Keyword)\\n            \\n            // 3. 결과 집계 및 점수 계산\\n            WITH article, article_score, precedent, \\n                 collect(DISTINCT keyword.text) as keywords,\\n                 count(precedent) as precedent_count\\n            \\n            // 법조항 점수 = 벡터 점수 + 판례 인용 수에 따른 보너스\\n            WITH article, article_score + (precedent_count * 0.01) as final_score,\\n                 precedent_count, keywords\\n            \\n            RETURN article.id as id, \\n                   'Article' as type, \\n                   article.text as text, \\n                   final_score as score,\\n                   precedent_count,\\n                   keywords\\n            ORDER BY final_score DESC\\n            LIMIT $article_limit\\n            \"\n"
     ]
    },
    {
     "name": "stdout",
     "output_type": "stream",
     "text": [
      "검색 완료: 1.60초 소요\n",
      "검색 완료: 0.99초 소요\n"
     ]
    },
    {
     "name": "stderr",
     "output_type": "stream",
     "text": [
      "Received notification from DBMS server: {severity: WARNING} {code: Neo.ClientNotification.Statement.AggregationSkippedNull} {category: UNRECOGNIZED} {title: The query contains an aggregation function that skips null values.} {description: null value eliminated in set function.} {position: None} for query: \"\\n            // 1. 벡터 검색으로 시작 법조항 찾기\\n            CALL db.index.vector.queryNodes('article_embedding', 5, $query_embedding) \\n            YIELD node as article, score as article_score\\n            \\n            // 2. 해당 법조항과 연결된 판례와 키워드 찾기\\n            OPTIONAL MATCH (precedent:Precedent)-[:REFERENCES_ARTICLE]->(article)\\n            OPTIONAL MATCH (precedent)-[:HAS_KEYWORD]->(keyword:Keyword)\\n            \\n            // 3. 결과 집계 및 점수 계산\\n            WITH article, article_score, precedent, \\n                 collect(DISTINCT keyword.text) as keywords,\\n                 count(precedent) as precedent_count\\n            \\n            // 법조항 점수 = 벡터 점수 + 판례 인용 수에 따른 보너스\\n            WITH article, article_score + (precedent_count * 0.01) as final_score,\\n                 precedent_count, keywords\\n            \\n            RETURN article.id as id, \\n                   'Article' as type, \\n                   article.text as text, \\n                   final_score as score,\\n                   precedent_count,\\n                   keywords\\n            ORDER BY final_score DESC\\n            LIMIT $article_limit\\n            \"\n"
     ]
    },
    {
     "name": "stdout",
     "output_type": "stream",
     "text": [
      "검색 완료: 1.33초 소요\n",
      "검색 완료: 1.88초 소요\n",
      "검색 완료: 1.80초 소요\n",
      "검색 완료: 2.30초 소요\n",
      "검색 완료: 1.04초 소요\n",
      "검색 완료: 1.20초 소요\n",
      "검색 완료: 2.84초 소요\n",
      "검색 완료: 1.12초 소요\n",
      "검색 완료: 1.65초 소요\n",
      "검색 완료: 0.95초 소요\n"
     ]
    },
    {
     "name": "stderr",
     "output_type": "stream",
     "text": [
      "Received notification from DBMS server: {severity: WARNING} {code: Neo.ClientNotification.Statement.AggregationSkippedNull} {category: UNRECOGNIZED} {title: The query contains an aggregation function that skips null values.} {description: null value eliminated in set function.} {position: None} for query: \"\\n            // 1. 벡터 검색으로 시작 법조항 찾기\\n            CALL db.index.vector.queryNodes('article_embedding', 5, $query_embedding) \\n            YIELD node as article, score as article_score\\n            \\n            // 2. 해당 법조항과 연결된 판례와 키워드 찾기\\n            OPTIONAL MATCH (precedent:Precedent)-[:REFERENCES_ARTICLE]->(article)\\n            OPTIONAL MATCH (precedent)-[:HAS_KEYWORD]->(keyword:Keyword)\\n            \\n            // 3. 결과 집계 및 점수 계산\\n            WITH article, article_score, precedent, \\n                 collect(DISTINCT keyword.text) as keywords,\\n                 count(precedent) as precedent_count\\n            \\n            // 법조항 점수 = 벡터 점수 + 판례 인용 수에 따른 보너스\\n            WITH article, article_score + (precedent_count * 0.01) as final_score,\\n                 precedent_count, keywords\\n            \\n            RETURN article.id as id, \\n                   'Article' as type, \\n                   article.text as text, \\n                   final_score as score,\\n                   precedent_count,\\n                   keywords\\n            ORDER BY final_score DESC\\n            LIMIT $article_limit\\n            \"\n"
     ]
    },
    {
     "name": "stdout",
     "output_type": "stream",
     "text": [
      "검색 완료: 1.27초 소요\n",
      "검색 완료: 1.68초 소요\n"
     ]
    },
    {
     "name": "stderr",
     "output_type": "stream",
     "text": [
      "Received notification from DBMS server: {severity: WARNING} {code: Neo.ClientNotification.Statement.AggregationSkippedNull} {category: UNRECOGNIZED} {title: The query contains an aggregation function that skips null values.} {description: null value eliminated in set function.} {position: None} for query: \"\\n            // 1. 벡터 검색으로 시작 법조항 찾기\\n            CALL db.index.vector.queryNodes('article_embedding', 5, $query_embedding) \\n            YIELD node as article, score as article_score\\n            \\n            // 2. 해당 법조항과 연결된 판례와 키워드 찾기\\n            OPTIONAL MATCH (precedent:Precedent)-[:REFERENCES_ARTICLE]->(article)\\n            OPTIONAL MATCH (precedent)-[:HAS_KEYWORD]->(keyword:Keyword)\\n            \\n            // 3. 결과 집계 및 점수 계산\\n            WITH article, article_score, precedent, \\n                 collect(DISTINCT keyword.text) as keywords,\\n                 count(precedent) as precedent_count\\n            \\n            // 법조항 점수 = 벡터 점수 + 판례 인용 수에 따른 보너스\\n            WITH article, article_score + (precedent_count * 0.01) as final_score,\\n                 precedent_count, keywords\\n            \\n            RETURN article.id as id, \\n                   'Article' as type, \\n                   article.text as text, \\n                   final_score as score,\\n                   precedent_count,\\n                   keywords\\n            ORDER BY final_score DESC\\n            LIMIT $article_limit\\n            \"\n"
     ]
    },
    {
     "name": "stdout",
     "output_type": "stream",
     "text": [
      "검색 완료: 1.71초 소요\n",
      "검색 완료: 1.38초 소요\n",
      "검색 완료: 0.90초 소요\n"
     ]
    },
    {
     "name": "stderr",
     "output_type": "stream",
     "text": [
      "Received notification from DBMS server: {severity: WARNING} {code: Neo.ClientNotification.Statement.AggregationSkippedNull} {category: UNRECOGNIZED} {title: The query contains an aggregation function that skips null values.} {description: null value eliminated in set function.} {position: None} for query: \"\\n            // 1. 벡터 검색으로 시작 법조항 찾기\\n            CALL db.index.vector.queryNodes('article_embedding', 5, $query_embedding) \\n            YIELD node as article, score as article_score\\n            \\n            // 2. 해당 법조항과 연결된 판례와 키워드 찾기\\n            OPTIONAL MATCH (precedent:Precedent)-[:REFERENCES_ARTICLE]->(article)\\n            OPTIONAL MATCH (precedent)-[:HAS_KEYWORD]->(keyword:Keyword)\\n            \\n            // 3. 결과 집계 및 점수 계산\\n            WITH article, article_score, precedent, \\n                 collect(DISTINCT keyword.text) as keywords,\\n                 count(precedent) as precedent_count\\n            \\n            // 법조항 점수 = 벡터 점수 + 판례 인용 수에 따른 보너스\\n            WITH article, article_score + (precedent_count * 0.01) as final_score,\\n                 precedent_count, keywords\\n            \\n            RETURN article.id as id, \\n                   'Article' as type, \\n                   article.text as text, \\n                   final_score as score,\\n                   precedent_count,\\n                   keywords\\n            ORDER BY final_score DESC\\n            LIMIT $article_limit\\n            \"\n"
     ]
    },
    {
     "name": "stdout",
     "output_type": "stream",
     "text": [
      "검색 완료: 1.08초 소요\n",
      "검색 완료: 1.50초 소요\n",
      "Completed RAG search for 200 questions\n"
     ]
    },
    {
     "data": {
      "application/vnd.jupyter.widget-view+json": {
       "model_id": "e6e0cb9081b44ffba0aa846be7758c09",
       "version_major": 2,
       "version_minor": 0
      },
      "text/plain": [
       "Preparing batch requests:   0%|          | 0/200 [00:00<?, ?it/s]"
      ]
     },
     "metadata": {},
     "output_type": "display_data"
    },
    {
     "name": "stdout",
     "output_type": "stream",
     "text": [
      "Saved 200 batch requests to results/criminal_law_batch_input_20250411_223607.jsonl\n",
      "Uploaded batch file with ID: file-CzGWL79S5TWtwZCujjzpu4\n",
      "Created batch job with ID: batch_67f91be4fa0c8190a7ef3623dd57b27c\n",
      "Waiting for batch job to complete...\n",
      "Current status: validating (Elapsed: 0.24s)\n",
      "Current status: in_progress (Elapsed: 30.61s)\n",
      "Current status: in_progress (Elapsed: 60.97s)\n",
      "Current status: in_progress (Elapsed: 91.34s)\n",
      "Current status: in_progress (Elapsed: 121.64s)\n",
      "Current status: in_progress (Elapsed: 151.93s)\n",
      "Current status: in_progress (Elapsed: 182.46s)\n",
      "Current status: in_progress (Elapsed: 212.73s)\n",
      "Current status: in_progress (Elapsed: 243.02s)\n",
      "Current status: in_progress (Elapsed: 273.40s)\n",
      "Current status: in_progress (Elapsed: 303.67s)\n",
      "Current status: in_progress (Elapsed: 334.01s)\n",
      "Current status: in_progress (Elapsed: 364.97s)\n",
      "Current status: in_progress (Elapsed: 395.22s)\n",
      "Current status: in_progress (Elapsed: 425.46s)\n",
      "Current status: in_progress (Elapsed: 455.77s)\n",
      "Current status: in_progress (Elapsed: 486.04s)\n",
      "Current status: in_progress (Elapsed: 516.29s)\n",
      "Current status: in_progress (Elapsed: 546.63s)\n",
      "Current status: in_progress (Elapsed: 577.00s)\n",
      "Current status: in_progress (Elapsed: 607.28s)\n"
     ]
    }
   ],
   "source": [
    "# 새 셀에서 Criminal-Law 평가를 위한 Batch API 사용\n",
    "import csv\n",
    "import pandas as pd\n",
    "import json\n",
    "import os\n",
    "import time\n",
    "import re\n",
    "from datetime import datetime\n",
    "from openai import OpenAI\n",
    "from tqdm.notebook import tqdm\n",
    "\n",
    "# CSV 파일 로드\n",
    "df = pd.read_csv('./dataset/Criminal-Law-test.csv')\n",
    "print(f\"Loaded {len(df)} questions from CSV file\")\n",
    "\n",
    "# Neo4j 드라이버 다시 연결\n",
    "driver = GraphDatabase.driver(NEO4J_URI, auth=(NEO4J_USERNAME, NEO4J_PASSWORD))\n",
    "print(\"Connected to Neo4j\")\n",
    "\n",
    "# 결과 디렉토리 생성\n",
    "os.makedirs(\"results\", exist_ok=True)\n",
    "timestamp = datetime.now().strftime(\"%Y%m%d_%H%M%S\")\n",
    "\n",
    "# 모든 질문에 대해 RAG 검색 실행\n",
    "print(\"Performing RAG search for all questions...\")\n",
    "retrieved_contexts = {}\n",
    "\n",
    "for idx, row in tqdm(df.iterrows(), total=len(df), desc=\"Searching contexts\"):\n",
    "    question = row['question']\n",
    "    try:\n",
    "        # RAG 검색으로 문맥 가져오기\n",
    "        contexts = graph_enhanced_rag(driver, question, embedding_model, top_k=3)\n",
    "        retrieved_contexts[idx] = contexts\n",
    "    except Exception as e:\n",
    "        print(f\"Error in RAG search for question {idx}: {e}\")\n",
    "        retrieved_contexts[idx] = []\n",
    "\n",
    "print(f\"Completed RAG search for {len(retrieved_contexts)} questions\")\n",
    "\n",
    "# Batch API 요청 준비\n",
    "batch_requests = []\n",
    "\n",
    "for idx, row in tqdm(df.iterrows(), total=len(df), desc=\"Preparing batch requests\"):\n",
    "    question = row['question']\n",
    "    options = {\n",
    "        'A': row['A'],\n",
    "        'B': row['B'], \n",
    "        'C': row['C'],\n",
    "        'D': row['D']\n",
    "    }\n",
    "    \n",
    "    # 검색된 문맥 가져오기\n",
    "    contexts = retrieved_contexts.get(idx, [])\n",
    "    \n",
    "    # 문맥 문자열로 변환\n",
    "    context_str = \"\"\n",
    "    for i, context in enumerate(contexts):\n",
    "        if 'text' in context:\n",
    "            # 텍스트 길이 제한\n",
    "            context_text = context['text']\n",
    "            context_str += f\"문맥 {i+1} ({context.get('type', 'Unknown')} - {context.get('id', 'Unknown')}):\\n{context_text}\\n\\n\"\n",
    "    \n",
    "    # 프롬프트 작성\n",
    "    prompt = f\"\"\"다음은 한국 형법에 관한 객관식 문제입니다. 제공된 문맥 정보를 참고하여 가장 적절한 답변을 선택하세요.\n",
    "\n",
    "질문: {question}\n",
    "\n",
    "선택지:\n",
    "A. {options['A']}\n",
    "B. {options['B']}\n",
    "C. {options['C']}\n",
    "D. {options['D']}\n",
    "\n",
    "관련 문맥 정보:\n",
    "{context_str if context_str else \"관련 문맥 정보가 없습니다.\"}\n",
    "\n",
    "답변 방법: 선택지 중에서 가장 적절한 하나의 옵션을 선택하세요. 답변은 'A', 'B', 'C', 'D' 중 하나만 제시하세요.\n",
    "\"\"\"\n",
    "    \n",
    "    # Batch 요청 생성\n",
    "    request = {\n",
    "        \"custom_id\": f\"q_{idx}\",\n",
    "        \"method\": \"POST\",\n",
    "        \"url\": \"/v1/chat/completions\",\n",
    "        \"body\": {\n",
    "            \"model\": \"gpt-4o-mini\",\n",
    "            \"messages\": [\n",
    "                {\"role\": \"system\", \"content\": \"당신은 한국 형법 전문가입니다. 주어진 문맥을 기반으로 가장 적절한 답변을 선택하세요. 답변은 A, B, C, D 중 하나만 명확히 제시하세요.\"},\n",
    "                {\"role\": \"user\", \"content\": prompt}\n",
    "            ],\n",
    "            \"max_tokens\": 50\n",
    "        }\n",
    "    }\n",
    "    \n",
    "    batch_requests.append(request)\n",
    "\n",
    "# JSONL 파일로 저장\n",
    "batch_file_path = f\"results/criminal_law_batch_input_{timestamp}.jsonl\"\n",
    "with open(batch_file_path, 'w', encoding='utf-8') as f:\n",
    "    for request in batch_requests:\n",
    "        f.write(json.dumps(request, ensure_ascii=False) + '\\n')\n",
    "\n",
    "print(f\"Saved {len(batch_requests)} batch requests to {batch_file_path}\")\n",
    "\n",
    "# OpenAI 클라이언트 초기화 및 Batch API 실행\n",
    "client = OpenAI(api_key=OPENAI_API_KEY)\n",
    "\n",
    "# 배치 파일 업로드\n",
    "batch_input_file = client.files.create(\n",
    "    file=open(batch_file_path, \"rb\"),\n",
    "    purpose=\"batch\"\n",
    ")\n",
    "batch_input_file_id = batch_input_file.id\n",
    "print(f\"Uploaded batch file with ID: {batch_input_file_id}\")\n",
    "\n",
    "# 배치 작업 생성\n",
    "batch_job = client.batches.create(\n",
    "    input_file_id=batch_input_file_id,\n",
    "    endpoint=\"/v1/chat/completions\",\n",
    "    completion_window=\"24h\",\n",
    "    metadata={\"description\": \"Criminal Law benchmark evaluation\"}\n",
    ")\n",
    "batch_id = batch_job.id\n",
    "print(f\"Created batch job with ID: {batch_id}\")\n",
    "\n",
    "# 배치 작업 상태 확인 함수\n",
    "def check_batch_status(client, batch_id):\n",
    "    \"\"\"배치 작업의 상태를 확인합니다.\"\"\"\n",
    "    batch_status = client.batches.retrieve(batch_id)\n",
    "    return batch_status\n",
    "\n",
    "# 작업이 완료될 때까지 대기\n",
    "print(\"Waiting for batch job to complete...\")\n",
    "start_time = time.time()\n",
    "status = None\n",
    "\n",
    "while True:\n",
    "    status = check_batch_status(client, batch_id)\n",
    "    elapsed_time = time.time() - start_time\n",
    "    print(f\"Current status: {status.status} (Elapsed: {elapsed_time:.2f}s)\")\n",
    "    \n",
    "    if status.status in ['completed', 'failed', 'cancelled', 'expired']:\n",
    "        break\n",
    "    \n",
    "    # 처음 10분은 30초마다, 이후에는 2분마다 체크\n",
    "    if elapsed_time < 600:  # 10분\n",
    "        time.sleep(30)\n",
    "    else:\n",
    "        time.sleep(120)\n",
    "\n",
    "end_time = time.time()\n",
    "total_time = end_time - start_time\n",
    "print(f\"Batch job finished with status: {status.status} in {total_time:.2f} seconds\")\n",
    "\n",
    "# 작업이 성공적으로 완료된 경우 결과 처리\n",
    "if status.status == 'completed':\n",
    "    output_file_id = status.output_file_id\n",
    "    print(f\"Batch job completed successfully. Output file ID: {output_file_id}\")\n",
    "    \n",
    "    # 결과 파일 다운로드\n",
    "    file_response = client.files.content(output_file_id)\n",
    "    batch_results = []\n",
    "    \n",
    "    for line in file_response.text.split('\\n'):\n",
    "        if line.strip():\n",
    "            batch_results.append(json.loads(line))\n",
    "    \n",
    "    print(f\"Downloaded {len(batch_results)} results from the batch job\")\n",
    "    \n",
    "    # 결과 파일 저장 (요구사항대로)\n",
    "    output_file_path = f\"results/criminal_law_batch_output_{timestamp}.jsonl\"\n",
    "    with open(output_file_path, 'w', encoding='utf-8') as f:\n",
    "        for result in batch_results:\n",
    "            f.write(json.dumps(result, ensure_ascii=False) + '\\n')\n",
    "    \n",
    "    print(f\"Saved batch output to {output_file_path}\")\n",
    "    \n",
    "    # 정확도 평가 준비\n",
    "    def extract_answer(text):\n",
    "        \"\"\"텍스트에서 A, B, C, D 중 하나를 추출합니다.\"\"\"\n",
    "        # 정규표현식 패턴들\n",
    "        patterns = [\n",
    "            r'^\\s*([A-D])\\s*$',  # 단일 문자 A, B, C, D\n",
    "            r'(?:정답은|answer is|choice is|선택지는|답은)\\s*([A-D])',  # \"정답은 A\" 등\n",
    "            r'(?:선택합니다|선택하겠습니다|선택해야 합니다)\\s*([A-D])',  # \"A를 선택합니다\"\n",
    "            r'([A-D])(?:가|이|을|를)?\\s*(?:정답|맞습니다|적절합니다|선택|적절)',  # \"A가 정답\" 등\n",
    "            r'([A-D])\\s*선택지',  # \"A 선택지\"\n",
    "        ]\n",
    "        \n",
    "        # 패턴 적용\n",
    "        for pattern in patterns:\n",
    "            match = re.search(pattern, text, re.IGNORECASE)\n",
    "            if match:\n",
    "                return match.group(1).upper()  # 대문자로 정규화\n",
    "        \n",
    "        # 단순 문자 존재 확인\n",
    "        options = ['A', 'B', 'C', 'D']\n",
    "        for option in options:\n",
    "            if option in text:\n",
    "                return option\n",
    "        \n",
    "        return None\n",
    "    \n",
    "    # 정확도 평가\n",
    "    correct_count = 0\n",
    "    results_with_answers = []\n",
    "    \n",
    "    for result in batch_results:\n",
    "        custom_id = result['custom_id']\n",
    "        idx = int(custom_id.split('_')[1])\n",
    "        \n",
    "        if result.get('error') is not None:\n",
    "            print(f\"Error in result {custom_id}: {result['error']}\")\n",
    "            continue\n",
    "        \n",
    "        try:\n",
    "            response_text = result['response']['body']['choices'][0]['message']['content'].strip()\n",
    "            \n",
    "            # 응답에서 답변 추출 (A, B, C, D 중 하나)\n",
    "            answer = extract_answer(response_text)\n",
    "            \n",
    "            if answer is None:\n",
    "                print(f\"Could not extract answer from response for question {idx}: {response_text}\")\n",
    "                continue\n",
    "            \n",
    "            # 정답과 비교 (CSV에서는 1-indexed, 1=A, 2=B, 3=C, 4=D)\n",
    "            correct_answer = chr(64 + df.iloc[idx]['answer'])  # 1->A, 2->B, 3->C, 4->D\n",
    "            is_correct = (answer == correct_answer)\n",
    "            \n",
    "            if is_correct:\n",
    "                correct_count += 1\n",
    "            \n",
    "            results_with_answers.append({\n",
    "                'question_id': idx,\n",
    "                'question': df.iloc[idx]['question'],\n",
    "                'predicted': answer,\n",
    "                'actual': correct_answer,\n",
    "                'is_correct': is_correct,\n",
    "                'response': response_text\n",
    "            })\n",
    "        except Exception as e:\n",
    "            print(f\"Error processing result for question {idx}: {e}\")\n",
    "    \n",
    "    accuracy = correct_count / len(results_with_answers) if results_with_answers else 0\n",
    "    print(f\"Accuracy: {accuracy:.4f} ({correct_count}/{len(results_with_answers)})\")\n",
    "    \n",
    "    # 결과를 CSV 파일로 저장\n",
    "    results_df = pd.DataFrame(results_with_answers)\n",
    "    results_file = f\"results/criminal_law_results_{timestamp}.csv\"\n",
    "    results_df.to_csv(results_file, index=False)\n",
    "    print(f\"Saved detailed results to {results_file}\")\n",
    "\n",
    "    # 결과 요약 정보 저장\n",
    "    summary = {\n",
    "        'timestamp': timestamp,\n",
    "        'total_questions': len(df),\n",
    "        'processed_questions': len(results_with_answers),\n",
    "        'correct_answers': correct_count,\n",
    "        'accuracy': accuracy,\n",
    "        'batch_processing_time_seconds': total_time,\n",
    "        'input_file': batch_file_path,\n",
    "        'output_file': output_file_path,\n",
    "        'results_file': results_file,\n",
    "        'batch_id': batch_id\n",
    "    }\n",
    "    \n",
    "    with open(f\"results/criminal_law_benchmark_summary_{timestamp}.json\", 'w', encoding='utf-8') as f:\n",
    "        json.dump(summary, f, ensure_ascii=False, indent=2)\n",
    "        \n",
    "    print(f\"Benchmark evaluation completed. Final accuracy: {accuracy:.4f}\")\n",
    "    \n",
    "else:\n",
    "    print(f\"Batch job did not complete successfully. Final status: {status.status}\")\n",
    "    if hasattr(status, 'errors') and status.errors:\n",
    "        print(\"Errors:\")\n",
    "        for error in status.errors:\n",
    "            print(f\"  - {error}\")\n",
    "\n",
    "# 드라이버 연결 종료\n",
    "driver.close()\n",
    "print(\"Neo4j driver connection closed\")"
   ]
  },
  {
   "cell_type": "code",
   "execution_count": null,
   "id": "703a539c",
   "metadata": {},
   "outputs": [],
   "source": []
  }
 ],
 "metadata": {
  "kernelspec": {
   "display_name": "Python 3 (ipykernel)",
   "language": "python",
   "name": "python3"
  },
  "language_info": {
   "codemirror_mode": {
    "name": "ipython",
    "version": 3
   },
   "file_extension": ".py",
   "mimetype": "text/x-python",
   "name": "python",
   "nbconvert_exporter": "python",
   "pygments_lexer": "ipython3",
   "version": "3.9.21"
  }
 },
 "nbformat": 4,
 "nbformat_minor": 5
}
