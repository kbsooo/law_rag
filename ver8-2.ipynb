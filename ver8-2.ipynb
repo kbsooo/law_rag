{
 "cells": [
  {
   "cell_type": "markdown",
   "id": "a59e24c6",
   "metadata": {},
   "source": [
    "claude"
   ]
  },
  {
   "cell_type": "code",
   "execution_count": 1,
   "id": "1e4e4807",
   "metadata": {},
   "outputs": [],
   "source": [
    "# 셀 1: 필요한 라이브러리 import\n",
    "import os\n",
    "import json\n",
    "import re\n",
    "import time\n",
    "from typing import List, Dict, Any, Optional, Union, Tuple, Set\n",
    "from dataclasses import dataclass, field\n",
    "from datetime import datetime\n",
    "from tqdm.notebook import tqdm\n",
    "import pandas as pd\n",
    "\n",
    "# 외부 라이브러리\n",
    "from dotenv import load_dotenv\n",
    "from langchain_community.document_loaders import PyPDFLoader\n",
    "from langchain.text_splitter import RecursiveCharacterTextSplitter\n",
    "from langchain_core.documents import Document\n",
    "from langchain_openai import OpenAIEmbeddings\n",
    "from neo4j import GraphDatabase\n",
    "from openai import OpenAI"
   ]
  },
  {
   "cell_type": "code",
   "execution_count": 3,
   "id": "020d5561",
   "metadata": {},
   "outputs": [],
   "source": [
    "# 셀 2: 환경 설정 및 기본 변수 정의\n",
    "# .env 파일 로드\n",
    "load_dotenv()\n",
    "\n",
    "# 환경 변수 가져오기\n",
    "NEO4J_URI = os.getenv(\"NEO4J_URI\")\n",
    "NEO4J_USERNAME = os.getenv(\"NEO4J_USERNAME\")\n",
    "NEO4J_PASSWORD = os.getenv(\"NEO4J_PASSWORD\")\n",
    "OPENAI_API_KEY = os.getenv(\"OPENAI_API_KEY\")\n",
    "\n",
    "# 임베딩 모델 설정\n",
    "embedding_model = OpenAIEmbeddings(model='text-embedding-3-small', api_key=OPENAI_API_KEY)\n",
    "embedding_dimension = 1536  # text-embedding-3-small 차원\n",
    "\n",
    "# 데이터 경로 설정\n",
    "pdf_path = './dataset/criminal-law.pdf'\n",
    "precedent_dir = './dataset/precedent_label/'\n",
    "output_dir = 'results'\n",
    "os.makedirs(output_dir, exist_ok=True)"
   ]
  },
  {
   "cell_type": "code",
   "execution_count": 4,
   "id": "dd37eca7",
   "metadata": {},
   "outputs": [],
   "source": [
    "# 셀 3: 데이터 모델 클래스\n",
    "@dataclass\n",
    "class Article:\n",
    "    \"\"\"법조항 정보를 담는 클래스\"\"\"\n",
    "    id: str\n",
    "    text: str\n",
    "    embedding: Optional[List[float]] = None\n",
    "    \n",
    "    def to_dict(self) -> Dict[str, Any]:\n",
    "        \"\"\"딕셔너리 변환\"\"\"\n",
    "        return {\n",
    "            \"id\": self.id,\n",
    "            \"text\": self.text,\n",
    "            \"embedding\": self.embedding\n",
    "        }\n",
    "\n",
    "\n",
    "@dataclass\n",
    "class Precedent:\n",
    "    \"\"\"판례 정보를 담는 클래스\"\"\"\n",
    "    id: str\n",
    "    name: Optional[str] = None\n",
    "    judgment_summary: Optional[str] = None\n",
    "    full_summary: Optional[str] = None\n",
    "    keywords: List[str] = field(default_factory=list)\n",
    "    referenced_rules: List[str] = field(default_factory=list)\n",
    "    referenced_cases: List[str] = field(default_factory=list)\n",
    "    embedding: Optional[List[float]] = None\n",
    "    \n",
    "    def to_dict(self) -> Dict[str, Any]:\n",
    "        \"\"\"딕셔너리 변환\"\"\"\n",
    "        return {\n",
    "            \"id\": self.id,\n",
    "            \"name\": self.name,\n",
    "            \"judgment_summary\": self.judgment_summary,\n",
    "            \"full_summary\": self.full_summary,\n",
    "            \"keywords\": self.keywords,\n",
    "            \"referenced_rules\": self.referenced_rules,\n",
    "            \"referenced_cases\": self.referenced_cases,\n",
    "            \"embedding\": self.embedding\n",
    "        }\n",
    "\n",
    "\n",
    "@dataclass\n",
    "class SearchResult:\n",
    "    \"\"\"검색 결과를 담는 클래스\"\"\"\n",
    "    id: str\n",
    "    type: str  # \"Article\" 또는 \"Precedent\"\n",
    "    score: float\n",
    "    text: str\n",
    "    metadata: Dict[str, Any] = field(default_factory=dict)\n",
    "    \n",
    "    def to_dict(self) -> Dict[str, Any]:\n",
    "        \"\"\"딕셔너리 변환\"\"\"\n",
    "        return {\n",
    "            \"id\": self.id,\n",
    "            \"type\": self.type,\n",
    "            \"score\": self.score,\n",
    "            \"text\": self.text,\n",
    "            \"metadata\": self.metadata\n",
    "        }\n"
   ]
  },
  {
   "cell_type": "code",
   "execution_count": 5,
   "id": "b193b013",
   "metadata": {},
   "outputs": [],
   "source": [
    "# 셀 4: Neo4j 리포지토리 베이스 클래스\n",
    "class Neo4jRepository:\n",
    "    \"\"\"Neo4j 데이터베이스 연결 및 기본 작업을 위한 베이스 클래스\"\"\"\n",
    "    \n",
    "    def __init__(self, uri: str, username: str, password: str, database: str = \"neo4j\"):\n",
    "        \"\"\"Neo4j 연결 초기화\n",
    "        \n",
    "        Args:\n",
    "            uri: Neo4j 서버 URI\n",
    "            username: 사용자명\n",
    "            password: 비밀번호\n",
    "            database: 데이터베이스 이름\n",
    "        \"\"\"\n",
    "        self.uri = uri\n",
    "        self.username = username\n",
    "        self.password = password\n",
    "        self.database = database\n",
    "        self.driver = None\n",
    "        \n",
    "    def connect(self) -> None:\n",
    "        \"\"\"Neo4j 데이터베이스에 연결\"\"\"\n",
    "        try:\n",
    "            self.driver = GraphDatabase.driver(\n",
    "                self.uri, \n",
    "                auth=(self.username, self.password)\n",
    "            )\n",
    "            self.driver.verify_connectivity()\n",
    "            print(\"Successfully connected to Neo4j.\")\n",
    "        except Exception as e:\n",
    "            print(f\"Failed to connect to Neo4j: {e}\")\n",
    "            raise\n",
    "    \n",
    "    def close(self) -> None:\n",
    "        \"\"\"연결 종료\"\"\"\n",
    "        if self.driver:\n",
    "            self.driver.close()\n",
    "            self.driver = None\n",
    "            print(\"Neo4j connection closed.\")\n",
    "    \n",
    "    def run_query(self, query: str, parameters: Dict[str, Any] = None) -> List[Dict[str, Any]]:\n",
    "        \"\"\"Neo4j 쿼리 실행\n",
    "        \n",
    "        Args:\n",
    "            query: Cypher 쿼리\n",
    "            parameters: 쿼리 파라미터\n",
    "            \n",
    "        Returns:\n",
    "            쿼리 결과\n",
    "        \"\"\"\n",
    "        if not self.driver:\n",
    "            self.connect()\n",
    "            \n",
    "        with self.driver.session(database=self.database) as session:\n",
    "            result = session.run(query, parameters or {})\n",
    "            return [record.data() for record in result]\n",
    "            \n",
    "    def setup_constraints_and_indexes(self, embedding_dimension: int) -> None:\n",
    "        \"\"\"제약조건 및 인덱스 설정\n",
    "        \n",
    "        Args:\n",
    "            embedding_dimension: 임베딩 벡터 차원\n",
    "        \"\"\"\n",
    "        try:\n",
    "            # 고유성 제약조건 설정\n",
    "            self.run_query(\"CREATE CONSTRAINT article_id IF NOT EXISTS FOR (a:Article) REQUIRE a.id IS UNIQUE\")\n",
    "            self.run_query(\"CREATE CONSTRAINT precedent_id IF NOT EXISTS FOR (p:Precedent) REQUIRE p.id IS UNIQUE\")\n",
    "            self.run_query(\"CREATE CONSTRAINT keyword_text IF NOT EXISTS FOR (k:Keyword) REQUIRE k.text IS UNIQUE\")\n",
    "            \n",
    "            # 벡터 인덱스 생성\n",
    "            try:\n",
    "                self.run_query(\n",
    "                    \"CREATE VECTOR INDEX article_embedding IF NOT EXISTS \"\n",
    "                    \"FOR (a:Article) ON (a.embedding) \"\n",
    "                    f\"OPTIONS {{indexConfig: {{`vector.dimensions`: {embedding_dimension}, `vector.similarity_function`: 'cosine'}}}}\"\n",
    "                )\n",
    "                print(\"Article vector index created or already exists.\")\n",
    "            except Exception as e:\n",
    "                print(f\"Error creating Article vector index: {e}\")\n",
    "                \n",
    "            try:\n",
    "                self.run_query(\n",
    "                    \"CREATE VECTOR INDEX precedent_embedding IF NOT EXISTS \"\n",
    "                    \"FOR (p:Precedent) ON (p.embedding) \"\n",
    "                    f\"OPTIONS {{indexConfig: {{`vector.dimensions`: {embedding_dimension}, `vector.similarity_function`: 'cosine'}}}}\"\n",
    "                )\n",
    "                print(\"Precedent vector index created or already exists.\")\n",
    "            except Exception as e:\n",
    "                print(f\"Error creating Precedent vector index: {e}\")\n",
    "                \n",
    "            # 인덱스가 활성화될 때까지 대기\n",
    "            print(\"Waiting for indexes to populate...\")\n",
    "            self.run_query(\"CALL db.awaitIndexes(300)\")\n",
    "            print(\"Indexes should be online.\")\n",
    "        except Exception as e:\n",
    "            print(f\"Error setting up constraints and indexes: {e}\")\n",
    "            raise"
   ]
  },
  {
   "cell_type": "code",
   "execution_count": 6,
   "id": "843f69b2",
   "metadata": {},
   "outputs": [],
   "source": [
    "# 셀 5: ArticleRepository 클래스\n",
    "class ArticleRepository(Neo4jRepository):\n",
    "    \"\"\"법조항 관련 데이터베이스 작업을 처리하는 클래스\"\"\"\n",
    "    \n",
    "    def create_article(self, article: Article) -> None:\n",
    "        \"\"\"법조항 노드 생성\n",
    "        \n",
    "        Args:\n",
    "            article: 법조항 객체\n",
    "        \"\"\"\n",
    "        query = \"\"\"\n",
    "        MERGE (a:Article {id: $article_id})\n",
    "        SET a.text = $content,\n",
    "            a.embedding = $embedding\n",
    "        \"\"\"\n",
    "        self.run_query(\n",
    "            query,\n",
    "            {\n",
    "                \"article_id\": article.id,\n",
    "                \"content\": article.text,\n",
    "                \"embedding\": article.embedding\n",
    "            }\n",
    "        )\n",
    "    \n",
    "    def create_bulk_articles(self, articles: List[Article], batch_size: int = 50) -> int:\n",
    "        \"\"\"다수의 법조항 노드 생성\n",
    "        \n",
    "        Args:\n",
    "            articles: 법조항 객체 리스트\n",
    "            batch_size: 배치 크기\n",
    "            \n",
    "        Returns:\n",
    "            생성된 법조항 수\n",
    "        \"\"\"\n",
    "        count = 0\n",
    "        start_time = time.time()\n",
    "        \n",
    "        for i in range(0, len(articles), batch_size):\n",
    "            batch = articles[i:i+batch_size]\n",
    "            \n",
    "            for article in batch:\n",
    "                if not article.text:\n",
    "                    print(f\"Skipping article {article.id} due to empty content.\")\n",
    "                    continue\n",
    "                    \n",
    "                try:\n",
    "                    self.create_article(article)\n",
    "                    count += 1\n",
    "                except Exception as e:\n",
    "                    print(f\"Error processing article {article.id}: {e}\")\n",
    "            \n",
    "            if (i + batch_size) % (batch_size * 5) == 0:\n",
    "                print(f\"  Processed {i + batch_size}/{len(articles)} articles...\")\n",
    "                \n",
    "        end_time = time.time()\n",
    "        print(f\"Finished creating {count} Article nodes in {end_time - start_time:.2f} seconds.\")\n",
    "        \n",
    "        return count\n",
    "    \n",
    "    def find_article_by_id(self, article_id: str) -> Optional[Article]:\n",
    "        \"\"\"ID로 법조항 찾기\n",
    "        \n",
    "        Args:\n",
    "            article_id: 법조항 ID\n",
    "            \n",
    "        Returns:\n",
    "            법조항 객체 또는 None\n",
    "        \"\"\"\n",
    "        query = \"\"\"\n",
    "        MATCH (a:Article {id: $article_id})\n",
    "        RETURN a.id as id, a.text as text, a.embedding as embedding\n",
    "        \"\"\"\n",
    "        results = self.run_query(query, {\"article_id\": article_id})\n",
    "        \n",
    "        if not results:\n",
    "            return None\n",
    "            \n",
    "        result = results[0]\n",
    "        return Article(\n",
    "            id=result[\"id\"],\n",
    "            text=result[\"text\"],\n",
    "            embedding=result[\"embedding\"]\n",
    "        )\n",
    "    \n",
    "    def search_articles_by_vector(self, query_embedding: List[float], limit: int = 5) -> List[SearchResult]:\n",
    "        \"\"\"벡터 유사도 기반 법조항 검색\n",
    "        \n",
    "        Args:\n",
    "            query_embedding: 쿼리 임베딩\n",
    "            limit: 최대 결과 수\n",
    "            \n",
    "        Returns:\n",
    "            검색 결과 리스트\n",
    "        \"\"\"\n",
    "        query = \"\"\"\n",
    "        CALL db.index.vector.queryNodes('article_embedding', $limit, $query_embedding) \n",
    "        YIELD node, score\n",
    "        RETURN node.id AS id, node.text AS text, score\n",
    "        \"\"\"\n",
    "        results = self.run_query(\n",
    "            query,\n",
    "            {\n",
    "                \"limit\": limit,\n",
    "                \"query_embedding\": query_embedding\n",
    "            }\n",
    "        )\n",
    "        \n",
    "        return [\n",
    "            SearchResult(\n",
    "                id=result[\"id\"],\n",
    "                type=\"Article\",\n",
    "                score=result[\"score\"],\n",
    "                text=result[\"text\"]\n",
    "            )\n",
    "            for result in results\n",
    "        ]\n",
    "    \n",
    "    def search_articles_related_to_precedents(self, query_embedding: List[float], top_k: int = 8) -> List[SearchResult]:\n",
    "        \"\"\"판례 관계를 고려한 법조항 검색\n",
    "        \n",
    "        Args:\n",
    "            query_embedding: 쿼리 임베딩\n",
    "            top_k: 최대 결과 수\n",
    "            \n",
    "        Returns:\n",
    "            검색 결과 리스트\n",
    "        \"\"\"\n",
    "        query = \"\"\"\n",
    "        // 1. 벡터 검색으로 시작 법조항 찾기\n",
    "        CALL db.index.vector.queryNodes('article_embedding', $top_k, $query_embedding) \n",
    "        YIELD node as article, score as article_score\n",
    "        \n",
    "        // 2. 해당 법조항과 연결된 판례와 키워드 찾기\n",
    "        OPTIONAL MATCH (precedent:Precedent)-[:REFERENCES_ARTICLE]->(article)\n",
    "        OPTIONAL MATCH (precedent)-[:HAS_KEYWORD]->(keyword:Keyword)\n",
    "        \n",
    "        // 3. 결과 집계 및 점수 계산\n",
    "        WITH article, article_score, precedent, \n",
    "             collect(DISTINCT keyword.text) as keywords,\n",
    "             count(precedent) as precedent_count\n",
    "        \n",
    "        // 법조항 점수 = 벡터 점수 + 판례 인용 수에 따른 보너스\n",
    "        WITH article, article_score + (precedent_count * 0.01) as final_score,\n",
    "             precedent_count, keywords\n",
    "        \n",
    "        RETURN article.id as id, \n",
    "               article.text as text, \n",
    "               final_score as score,\n",
    "               precedent_count,\n",
    "               keywords\n",
    "        ORDER BY final_score DESC\n",
    "        LIMIT $top_k\n",
    "        \"\"\"\n",
    "        \n",
    "        results = self.run_query(\n",
    "            query,\n",
    "            {\n",
    "                \"top_k\": top_k,\n",
    "                \"query_embedding\": query_embedding\n",
    "            }\n",
    "        )\n",
    "        \n",
    "        return [\n",
    "            SearchResult(\n",
    "                id=result[\"id\"],\n",
    "                type=\"Article\",\n",
    "                score=result[\"score\"],\n",
    "                text=result[\"text\"],\n",
    "                metadata={\n",
    "                    \"precedent_count\": result[\"precedent_count\"],\n",
    "                    \"related_keywords\": result[\"keywords\"]\n",
    "                }\n",
    "            )\n",
    "            for result in results\n",
    "        ]"
   ]
  },
  {
   "cell_type": "code",
   "execution_count": 7,
   "id": "18b5d619",
   "metadata": {},
   "outputs": [],
   "source": [
    "# 셀 6: PrecedentRepository 클래스\n",
    "class PrecedentRepository(Neo4jRepository):\n",
    "    \"\"\"판례 관련 데이터베이스 작업을 처리하는 클래스\"\"\"\n",
    "    \n",
    "    def create_precedent(self, precedent: Precedent) -> None:\n",
    "        \"\"\"판례 노드 생성\n",
    "        \n",
    "        Args:\n",
    "            precedent: 판례 객체\n",
    "        \"\"\"\n",
    "        query = \"\"\"\n",
    "        MERGE (p:Precedent {id: $case_id})\n",
    "        SET p.name = $case_name,\n",
    "            p.judgment_summary = $judgment_summary,\n",
    "            p.full_summary = $full_summary,\n",
    "            p.embedding = $embedding\n",
    "        \"\"\"\n",
    "        self.run_query(\n",
    "            query,\n",
    "            {\n",
    "                \"case_id\": precedent.id,\n",
    "                \"case_name\": precedent.name,\n",
    "                \"judgment_summary\": precedent.judgment_summary,\n",
    "                \"full_summary\": precedent.full_summary,\n",
    "                \"embedding\": precedent.embedding\n",
    "            }\n",
    "        )\n",
    "        \n",
    "        # 키워드 노드 생성 및 관계 설정\n",
    "        for keyword_text in precedent.keywords:\n",
    "            self.run_query(\n",
    "                \"\"\"\n",
    "                MERGE (k:Keyword {text: $keyword_text})\n",
    "                WITH k\n",
    "                MATCH (p:Precedent {id: $case_id})\n",
    "                MERGE (p)-[:HAS_KEYWORD]->(k)\n",
    "                \"\"\",\n",
    "                {\n",
    "                    \"keyword_text\": keyword_text,\n",
    "                    \"case_id\": precedent.id\n",
    "                }\n",
    "            )\n",
    "            \n",
    "        # 참조 법조항 관계 설정\n",
    "        for article_id_ref in precedent.referenced_rules:\n",
    "            self.run_query(\n",
    "                \"\"\"\n",
    "                MATCH (p:Precedent {id: $case_id})\n",
    "                MATCH (a:Article)\n",
    "                WHERE a.id STARTS WITH $article_id_ref\n",
    "                MERGE (p)-[:REFERENCES_ARTICLE]->(a)\n",
    "                \"\"\",\n",
    "                {\n",
    "                    \"case_id\": precedent.id,\n",
    "                    \"article_id_ref\": article_id_ref\n",
    "                }\n",
    "            )\n",
    "    \n",
    "    def create_bulk_precedents(self, precedents: List[Precedent], batch_size: int = 50) -> int:\n",
    "        \"\"\"다수의 판례 노드 생성\n",
    "        \n",
    "        Args:\n",
    "            precedents: 판례 객체 리스트\n",
    "            batch_size: 배치 크기\n",
    "            \n",
    "        Returns:\n",
    "            생성된 판례 수\n",
    "        \"\"\"\n",
    "        count = 0\n",
    "        start_time = time.time()\n",
    "        \n",
    "        for i in range(0, len(precedents), batch_size):\n",
    "            batch = precedents[i:i+batch_size]\n",
    "            \n",
    "            for precedent in batch:\n",
    "                text_to_embed = precedent.full_summary or precedent.judgment_summary\n",
    "                if not text_to_embed:\n",
    "                    print(f\"Skipping precedent {precedent.id} due to empty summary.\")\n",
    "                    continue\n",
    "                    \n",
    "                try:\n",
    "                    self.create_precedent(precedent)\n",
    "                    count += 1\n",
    "                except Exception as e:\n",
    "                    print(f\"Error processing precedent {precedent.id}: {e}\")\n",
    "            \n",
    "            if (i + batch_size) % (batch_size * 2) == 0:\n",
    "                print(f\"  Processed {i + batch_size}/{len(precedents)} precedents...\")\n",
    "                \n",
    "        end_time = time.time()\n",
    "        print(f\"Finished creating {count} Precedent nodes in {end_time - start_time:.2f} seconds.\")\n",
    "        \n",
    "        return count\n",
    "    \n",
    "    def search_precedents_by_vector(self, query_embedding: List[float], limit: int = 5) -> List[SearchResult]:\n",
    "        \"\"\"벡터 유사도 기반 판례 검색\n",
    "        \n",
    "        Args:\n",
    "            query_embedding: 쿼리 임베딩\n",
    "            limit: 최대 결과 수\n",
    "            \n",
    "        Returns:\n",
    "            검색 결과 리스트\n",
    "        \"\"\"\n",
    "        query = \"\"\"\n",
    "        CALL db.index.vector.queryNodes('precedent_embedding', $limit, $query_embedding) \n",
    "        YIELD node, score\n",
    "        MATCH (node)-[:REFERENCES_ARTICLE]->(a:Article)\n",
    "        OPTIONAL MATCH (node)-[:HAS_KEYWORD]->(k:Keyword)\n",
    "        RETURN node.id AS id, \n",
    "               node.name AS name, \n",
    "               node.full_summary AS text, \n",
    "               score,\n",
    "               collect(DISTINCT a.id) as referenced_articles,\n",
    "               collect(DISTINCT k.text) as keywords\n",
    "        \"\"\"\n",
    "        results = self.run_query(\n",
    "            query,\n",
    "            {\n",
    "                \"limit\": limit,\n",
    "                \"query_embedding\": query_embedding\n",
    "            }\n",
    "        )\n",
    "        \n",
    "        return [\n",
    "            SearchResult(\n",
    "                id=result[\"id\"],\n",
    "                type=\"Precedent\",\n",
    "                score=result[\"score\"],\n",
    "                text=result[\"text\"],\n",
    "                metadata={\n",
    "                    \"name\": result[\"name\"],\n",
    "                    \"referenced_articles\": result[\"referenced_articles\"],\n",
    "                    \"keywords\": result[\"keywords\"]\n",
    "                }\n",
    "            )\n",
    "            for result in results\n",
    "        ]\n",
    "    \n",
    "    def search_precedents_by_article(self, \n",
    "                                    article_id: str, \n",
    "                                    query_embedding: List[float], \n",
    "                                    query_keywords: List[str] = None, \n",
    "                                    limit: int = 2) -> List[SearchResult]:\n",
    "        \"\"\"특정 법조항과 관련된 판례 검색\n",
    "        \n",
    "        Args:\n",
    "            article_id: 법조항 ID\n",
    "            query_embedding: 쿼리 임베딩\n",
    "            query_keywords: 쿼리 키워드\n",
    "            limit: 최대 결과 수\n",
    "            \n",
    "        Returns:\n",
    "            검색 결과 리스트\n",
    "        \"\"\"\n",
    "        query = \"\"\"\n",
    "        // 1. 특정 법조항을 참조하는 판례 찾기\n",
    "        MATCH (precedent:Precedent)-[:REFERENCES_ARTICLE]->(article:Article)\n",
    "        WHERE article.id STARTS WITH $article_id\n",
    "        \n",
    "        // 2. 해당 판례와 키워드\n",
    "        OPTIONAL MATCH (precedent)-[:HAS_KEYWORD]->(keyword:Keyword)\n",
    "        \n",
    "        // 3. 벡터 유사도 계산\n",
    "        CALL db.index.vector.queryNodes('precedent_embedding', 20, $query_embedding) \n",
    "        YIELD node as vector_node, score as vector_score\n",
    "        WHERE precedent = vector_node\n",
    "        \n",
    "        // 4. 검색어와 관련된 키워드가 있는지 확인하여 보너스 점수\n",
    "        WITH precedent, vector_score, \n",
    "             collect(DISTINCT keyword.text) as keywords,\n",
    "             sum(CASE WHEN $query_keywords IS NULL THEN 0\n",
    "                  WHEN any(k IN $query_keywords WHERE keyword.text CONTAINS k) \n",
    "                  THEN 0.05 ELSE 0 END) as keyword_bonus\n",
    "        \n",
    "        // 5. 다른 법조항도 참조하는지 확인\n",
    "        MATCH (precedent)-[:REFERENCES_ARTICLE]->(ref_article:Article)\n",
    "        \n",
    "        // 6. 최종 결과 반환\n",
    "        RETURN precedent.id as id,\n",
    "               precedent.name as name,\n",
    "               precedent.full_summary as text,\n",
    "               vector_score + keyword_bonus as score,\n",
    "               keywords,\n",
    "               collect(DISTINCT ref_article.id) as referenced_articles\n",
    "        ORDER BY score DESC\n",
    "        LIMIT $limit\n",
    "        \"\"\"\n",
    "        \n",
    "        results = self.run_query(\n",
    "            query,\n",
    "            {\n",
    "                \"article_id\": article_id,\n",
    "                \"query_embedding\": query_embedding,\n",
    "                \"query_keywords\": query_keywords,\n",
    "                \"limit\": limit\n",
    "            }\n",
    "        )\n",
    "        \n",
    "        return [\n",
    "            SearchResult(\n",
    "                id=result[\"id\"],\n",
    "                type=\"Precedent\",\n",
    "                score=result[\"score\"],\n",
    "                text=result[\"text\"],\n",
    "                metadata={\n",
    "                    \"name\": result[\"name\"],\n",
    "                    \"keywords\": result[\"keywords\"],\n",
    "                    \"referenced_articles\": result[\"referenced_articles\"]\n",
    "                }\n",
    "            )\n",
    "            for result in results\n",
    "        ]"
   ]
  },
  {
   "cell_type": "code",
   "execution_count": 8,
   "id": "5bb7cd6d",
   "metadata": {},
   "outputs": [],
   "source": [
    "# 셀 7: DataLoader 클래스\n",
    "class DataLoader:\n",
    "    \"\"\"데이터 로드 및 전처리를 위한 클래스\"\"\"\n",
    "    \n",
    "    @staticmethod\n",
    "    def load_articles_from_pdf(pdf_path: str) -> Dict[str, Article]:\n",
    "        \"\"\"PDF에서 법조항 로드\n",
    "        \n",
    "        Args:\n",
    "            pdf_path: PDF 파일 경로\n",
    "            \n",
    "        Returns:\n",
    "            법조항 딕셔너리 (ID -> Article)\n",
    "        \"\"\"\n",
    "        try:\n",
    "            loader = PyPDFLoader(pdf_path)\n",
    "            pages = loader.load()\n",
    "            full_text = \"\\n\".join(page.page_content for page in pages)\n",
    "            \n",
    "            # 전체 텍스트에서 모든 조항 시작 위치 찾기\n",
    "            article_pattern = r'제\\d+조(?:의\\d+)?(?:\\s*\\(.+?\\))?'\n",
    "            matches = list(re.finditer(article_pattern, full_text))\n",
    "            \n",
    "            articles = {}\n",
    "            for i in range(len(matches)):\n",
    "                current_match = matches[i]\n",
    "                current_article_id = current_match.group(0).strip()  # 현재 조항 ID\n",
    "                \n",
    "                # 현재 조항 시작 위치\n",
    "                start_pos = current_match.start()\n",
    "                \n",
    "                # 다음 조항 시작 위치 (없으면 텍스트 끝까지)\n",
    "                end_pos = matches[i+1].start() if i < len(matches)-1 else len(full_text)\n",
    "                \n",
    "                # 현재 조항의 전체 내용 (ID 포함)\n",
    "                article_text = full_text[start_pos:end_pos].strip()\n",
    "                \n",
    "                # 저장 (ID는 조항 번호만)\n",
    "                articles[current_article_id] = Article(id=current_article_id, text=article_text)\n",
    "            \n",
    "            print(f\"Processed {len(articles)} articles from PDF\")\n",
    "            return articles\n",
    "            \n",
    "        except Exception as e:\n",
    "            print(f\"Error loading articles from PDF: {e}\")\n",
    "            return {}\n",
    "    \n",
    "    @staticmethod\n",
    "    def load_precedents_from_json(directory_path: str, limit: int = None) -> List[Precedent]:\n",
    "        \"\"\"JSON 파일에서 판례 로드\n",
    "        \n",
    "        Args:\n",
    "            directory_path: JSON 파일 디렉토리 경로\n",
    "            limit: 최대 로드할 판례 수\n",
    "            \n",
    "        Returns:\n",
    "            판례 객체 리스트\n",
    "        \"\"\"\n",
    "        precedents = []\n",
    "        \n",
    "        try:\n",
    "            file_list = os.listdir(directory_path)\n",
    "            json_files = [f for f in file_list if f.endswith(\".json\")]\n",
    "            \n",
    "            if limit:\n",
    "                json_files = json_files[:limit]\n",
    "                \n",
    "            for filename in json_files:\n",
    "                filepath = os.path.join(directory_path, filename)\n",
    "                \n",
    "                try:\n",
    "                    with open(filepath, 'r', encoding='utf-8') as f:\n",
    "                        data = json.load(f)\n",
    "                        \n",
    "                        # 기존에 라벨링 되어있었음\n",
    "                        precedent_info = {\n",
    "                            \"id\": data.get(\"info\", {}).get(\"caseNoID\", filename.replace(\".json\", \"\")),\n",
    "                            \"name\": data.get(\"info\", {}).get(\"caseNm\"),\n",
    "                            \"judgment_summary\": data.get(\"jdgmn\"),\n",
    "                            \"full_summary\": \" \".join([s.get(\"summ_contxt\", \"\") for s in data.get(\"Summary\", [])]),\n",
    "                            \"keywords\": [kw.get(\"keyword\") for kw in data.get(\"keyword_tagg\", []) if kw.get(\"keyword\")],\n",
    "                            \"referenced_rules\": data.get(\"Reference_info\", {}).get(\"reference_rules\", \"\").split(',') if data.get(\"Reference_info\", {}).get(\"reference_rules\") else [],\n",
    "                            \"referenced_cases\": data.get(\"Reference_info\", {}).get(\"reference_court_case\", \"\").split(',') if data.get(\"Reference_info\", {}).get(\"reference_court_case\") else [],\n",
    "                        }\n",
    "                        \n",
    "                        # 참조 법조항 정제 (조항 번호만)\n",
    "                        cleaned_rules = []\n",
    "                        rule_pattern = re.compile(r'제\\d+조(?:의\\d+)?')  # 패턴 찾기: \"제X조\" or \"제X조의Y\"\n",
    "                        \n",
    "                        for rule in precedent_info[\"referenced_rules\"]:\n",
    "                            # 각 규칙 문자열에서 모든 일치 항목 찾기\n",
    "                            matches = rule_pattern.findall(rule.strip())\n",
    "                            cleaned_rules.extend(matches)\n",
    "                            \n",
    "                        precedent_info[\"referenced_rules\"] = list(set(cleaned_rules))  # 중복 제거\n",
    "                        \n",
    "                        # Precedent 객체 생성\n",
    "                        precedent = Precedent(\n",
    "                            id=precedent_info[\"id\"],\n",
    "                            name=precedent_info[\"name\"],\n",
    "                            judgment_summary=precedent_info[\"judgment_summary\"],\n",
    "                            full_summary=precedent_info[\"full_summary\"],\n",
    "                            keywords=precedent_info[\"keywords\"],\n",
    "                            referenced_rules=precedent_info[\"referenced_rules\"],\n",
    "                            referenced_cases=precedent_info[\"referenced_cases\"]\n",
    "                        )\n",
    "                        \n",
    "                        precedents.append(precedent)\n",
    "                        \n",
    "                except json.JSONDecodeError:\n",
    "                    print(f\"Warning: Could not decode JSON from {filename}\")\n",
    "                except Exception as e:\n",
    "                    print(f\"Error processing {filename}: {e}\")\n",
    "            \n",
    "            print(f\"Loaded {len(precedents)} precedents.\")\n",
    "            return precedents\n",
    "            \n",
    "        except Exception as e:\n",
    "            print(f\"Error loading precedents from JSON: {e}\")\n",
    "            return []"
   ]
  },
  {
   "cell_type": "code",
   "execution_count": 9,
   "id": "b6dfbecd",
   "metadata": {},
   "outputs": [],
   "source": [
    "# 셀 8: TextProcessor 클래스\n",
    "class TextProcessor:\n",
    "    \"\"\"텍스트 처리 유틸리티 클래스\"\"\"\n",
    "    \n",
    "    @staticmethod\n",
    "    def extract_keywords(text: str) -> List[str]:\n",
    "        \"\"\"텍스트에서 주요 키워드 추출\n",
    "        \n",
    "        Args:\n",
    "            text: 입력 텍스트\n",
    "            \n",
    "        Returns:\n",
    "            키워드 리스트\n",
    "        \"\"\"\n",
    "        # 불용어 정의\n",
    "        stopwords = [\n",
    "            \"무엇\", \"어떤\", \"어떻게\", \"언제\", \"누구\", \"왜\", \"어디\", \"경우\", \"관하여\", \"대하여\", \n",
    "            \"은\", \"는\", \"이\", \"가\", \"을\", \"를\", \"에\", \"의\", \"와\", \"과\", \"로\", \"으로\",\n",
    "            \"있다\", \"없다\", \"경우\", \"때\", \"것\", \"등\", \"수\", \"그\", \"이\", \"저\", \"그렇게\",\n",
    "            \"그런\", \"이런\", \"저런\", \"하는\", \"다음\", \"또는\", \"또한\", \"그리고\", \"만약\", \"만일\"\n",
    "        ]\n",
    "        \n",
    "        # 주요 법률 용어 정의\n",
    "        legal_terms = {\n",
    "            # 형법 기본 원칙\n",
    "            \"고의\": 3, \"과실\": 3, \"인과관계\": 3, \"위법성\": 3, \"책임\": 3, \n",
    "            \"구성요건\": 3, \"위법성조각사유\": 3, \"책임조각사유\": 3,\n",
    "            \n",
    "            # 정당화 사유\n",
    "            \"정당방위\": 3, \"긴급피난\": 3, \"자구행위\": 3, \"피해자동의\": 3, \"정당행위\": 3, \n",
    "            \"업무로인한행위\": 3, \"강요된행위\": 3,\n",
    "            \n",
    "            # 범죄의 실행 단계\n",
    "            \"미수\": 3, \"기수\": 3, \"예비\": 3, \"음모\": 3, \"중지\": 3, \"불능미수\": 3,\n",
    "            \n",
    "            # 공범 관련\n",
    "            \"공범\": 3, \"교사\": 3, \"방조\": 3, \"공동정범\": 3, \"간접정범\": 3, \"종범\": 3,\n",
    "            \n",
    "            # 형벌 관련\n",
    "            \"형\": 2, \"징역\": 2, \"벌금\": 2, \"집행유예\": 2, \"선고유예\": 2, \"누범\": 2,\n",
    "            \n",
    "            # 법이론\n",
    "            \"법익\": 2, \"작위\": 2, \"부작위\": 2, \"결과범\": 2, \"거동범\": 2, \"상당인과관계\": 2,\n",
    "            \n",
    "            # 기타 형법 용어\n",
    "            \"불법\": 2, \"과잉방위\": 2, \"우발적\": 2, \"착오\": 2, \"원인에서자유로운행위\": 2\n",
    "        }\n",
    "        \n",
    "        # 동의어 매핑\n",
    "        synonyms = {\n",
    "            \"고의\": [\"범의\", \"의도적\", \"계획적\"],\n",
    "            \"과실\": [\"부주의\", \"태만\", \"소홀\"],\n",
    "            \"위법성\": [\"불법성\", \"위법\", \"불법\"],\n",
    "            \"책임\": [\"형사책임\", \"귀책\", \"비난가능성\"],\n",
    "            \"미수\": [\"미완성\", \"불성공\"],\n",
    "            \"정당방위\": [\"자기방어\", \"방어행위\"]\n",
    "        }\n",
    "        \n",
    "        # 기본 키워드 추출 (2글자 이상)\n",
    "        words = re.findall(r'\\w{2,}', text)\n",
    "        basic_keywords = [w for w in words if w not in stopwords]\n",
    "        \n",
    "        # 인접한 단어들도 함께 고려 (복합 키워드)\n",
    "        bigrams = []\n",
    "        for i in range(len(words) - 1):\n",
    "            if words[i] not in stopwords or words[i+1] not in stopwords:\n",
    "                bigram = words[i] + words[i+1]\n",
    "                if len(bigram) >= 4:  # 4글자 이상 복합어만 고려\n",
    "                    bigrams.append(bigram)\n",
    "        \n",
    "        # 가중치 및 동의어 적용\n",
    "        weighted_keywords = []\n",
    "        \n",
    "        for keyword in basic_keywords + bigrams:\n",
    "            if keyword in legal_terms:\n",
    "                # 가중치만큼 반복 추가\n",
    "                weighted_keywords.extend([keyword] * legal_terms[keyword])\n",
    "                \n",
    "                # 동의어도 추가\n",
    "                if keyword in synonyms:\n",
    "                    for synonym in synonyms[keyword]:\n",
    "                        weighted_keywords.append(synonym)\n",
    "            else:\n",
    "                weighted_keywords.append(keyword)\n",
    "        \n",
    "        # 빈도수 계산 및 필터링\n",
    "        from collections import Counter\n",
    "        counter = Counter(weighted_keywords)\n",
    "        \n",
    "        # 키워드가 적으면 낮은 기준 적용\n",
    "        min_count = 1 if len(counter) < 10 else 2\n",
    "        \n",
    "        final_keywords = [k for k, v in counter.items() if v >= min_count]\n",
    "        \n",
    "        # 키워드가 너무 적으면 원래 키워드 반환\n",
    "        if len(final_keywords) < 3:\n",
    "            return weighted_keywords\n",
    "        \n",
    "        return final_keywords\n",
    "    \n",
    "    @staticmethod\n",
    "    def summarize_text(text: str, question: str, is_article: bool = True) -> str:\n",
    "        \"\"\"텍스트 요약 및 관련 부분 강조\n",
    "        \n",
    "        Args:\n",
    "            text: 입력 텍스트\n",
    "            question: 질문 \n",
    "            is_article: 법조항 텍스트 여부\n",
    "            \n",
    "        Returns:\n",
    "            요약된 텍스트\n",
    "        \"\"\"\n",
    "        # 텍스트가 이미 짧으면 그대로 반환\n",
    "        min_len = 500 if is_article else 300\n",
    "        if len(text) < min_len:\n",
    "            return text\n",
    "        \n",
    "        # 키워드 추출\n",
    "        keywords = TextProcessor.extract_keywords(question)\n",
    "        \n",
    "        # 문장 분리\n",
    "        sentences = re.split(r'(?<=[.!?])\\s+|(?<=\\n)', text)\n",
    "        sentences = [s.strip() for s in sentences if s.strip()]\n",
    "        \n",
    "        # 문장별 점수 계산\n",
    "        scored_sentences = []\n",
    "        \n",
    "        for i, sentence in enumerate(sentences):\n",
    "            # 기본 점수\n",
    "            score = 0\n",
    "            \n",
    "            # 키워드 매칭 점수\n",
    "            for keyword in keywords:\n",
    "                if keyword in sentence:\n",
    "                    # 중요 법률 용어는 더 높은 가중치\n",
    "                    if keyword in [\"구성요건\", \"위법성\", \"책임\", \"정당방위\", \"긴급피난\", \n",
    "                                \"고의\", \"과실\", \"미수\", \"예비\", \"음모\", \"공범\"]:\n",
    "                        score += 3\n",
    "                    else:\n",
    "                        score += 1\n",
    "            \n",
    "            # 법조항 번호 포함 문장은 높은 가중치\n",
    "            if re.search(r'제\\d+조', sentence):\n",
    "                score += 5\n",
    "            \n",
    "            # 법률적 중요 문장 패턴에 가중치\n",
    "            if any(term in sentence for term in [\"~으로 한다\", \"~라 함은\", \"~을 말한다\", \"다만\", \"단,\", \"제외한다\"]):\n",
    "                score += 3\n",
    "            \n",
    "            # 법률 용어가 많은 문장은 높은 가중치\n",
    "            legal_terms = [\"판시\", \"판결\", \"법리\", \"해석\", \"적용\", \"요건\", \"효과\", \"정당\", \"위법\", \"책임\"]\n",
    "            term_count = sum(1 for term in legal_terms if term in sentence)\n",
    "            score += min(term_count, 3)  # 최대 3점\n",
    "            \n",
    "            # 결론 표현 포함 시 높은 점수\n",
    "            conclusion_terms = [\"따라서\", \"그러므로\", \"결론적으로\", \"이유로\", \"판단한다\"]\n",
    "            for term in conclusion_terms:\n",
    "                if term in sentence:\n",
    "                    score += 3\n",
    "                    break\n",
    "            \n",
    "            # 위치 가중치\n",
    "            if i == 0:  # 첫 문장 (제목이나 조항 번호일 가능성)\n",
    "                score += 5\n",
    "            elif i == len(sentences) - 1:  # 마지막 문장 (결론일 가능성)\n",
    "                score += 2\n",
    "            elif i <= 2:  # 앞부분 문장들 (정의나 개요일 가능성)\n",
    "                score += 1\n",
    "            \n",
    "            scored_sentences.append((sentence, score, i))\n",
    "        \n",
    "        # 법조항과 판례별 다른 전략 적용\n",
    "        if is_article:\n",
    "            # 점수 기준으로 상위 문장 선택\n",
    "            min_score = max(1, sorted([score for _, score, _ in scored_sentences], reverse=True)[0] * 0.3)\n",
    "            relevant_sentences = [(s, score, i) for s, score, i in scored_sentences if score >= min_score]\n",
    "            \n",
    "            # 최소 문장 수 보장\n",
    "            min_sentences = min(8, len(sentences))\n",
    "            if len(relevant_sentences) < min_sentences:\n",
    "                relevant_sentences = sorted(scored_sentences, key=lambda x: x[1], reverse=True)[:min_sentences]\n",
    "        else:\n",
    "            # 판례는 더 많은 문장 포함\n",
    "            top_count = max(5, min(len(sentences) // 3, 10))\n",
    "            relevant_sentences = sorted(scored_sentences, key=lambda x: x[1], reverse=True)[:top_count]\n",
    "        \n",
    "        # 원래 순서로 정렬\n",
    "        ordered_sentences = sorted(relevant_sentences, key=lambda x: x[2])\n",
    "        \n",
    "        # 법조항 번호와 제목은 항상 포함\n",
    "        if is_article and len(ordered_sentences) > 0 and 0 not in [i for _, _, i in ordered_sentences]:\n",
    "            ordered_sentences.insert(0, (sentences[0], 0, 0))\n",
    "        \n",
    "        result = \" \".join([s for s, _, _ in ordered_sentences])\n",
    "        \n",
    "        # 결과가 너무 짧으면 원본 반환\n",
    "        min_ratio = 0.3 if is_article else 0.25\n",
    "        if len(result) < len(text) * min_ratio:\n",
    "            return text\n",
    "            \n",
    "        return result\n",
    "    \n",
    "    @staticmethod\n",
    "    def format_context(search_results: List[SearchResult], question: str) -> str:\n",
    "        \"\"\"검색 결과에서 질문에 최적화된 컨텍스트 구성\n",
    "        \n",
    "        Args:\n",
    "            search_results: 검색 결과 리스트\n",
    "            question: 질문\n",
    "            \n",
    "        Returns:\n",
    "            포맷팅된 컨텍스트\n",
    "        \"\"\"\n",
    "        # 검색 결과 타입별 분류\n",
    "        results_by_type = {\"Article\": [], \"Precedent\": []}\n",
    "        for result in search_results:\n",
    "            results_by_type[result.type].append(result)\n",
    "        \n",
    "        # 법조항 컨텍스트 구성\n",
    "        article_contexts = []\n",
    "        for article in results_by_type[\"Article\"][:5]:\n",
    "            # 법조항 요약\n",
    "            summarized_text = TextProcessor.summarize_text(article.text, question, is_article=True)\n",
    "            \n",
    "            # 점수에 따른 강조\n",
    "            if article.score > 0.7:\n",
    "                article_contexts.append(f\"【중요 법조항: {article.id}】\\n{summarized_text}\")\n",
    "            else:\n",
    "                article_contexts.append(f\"【{article.id}】\\n{summarized_text}\")\n",
    "                \n",
    "            # 관련 키워드가 있으면 표시\n",
    "            if article.metadata.get(\"related_keywords\"):\n",
    "                keywords = article.metadata[\"related_keywords\"]\n",
    "                if keywords and len(keywords) > 0:\n",
    "                    keywords_str = \", \".join(keywords[:5])\n",
    "                    article_contexts[-1] += f\"\\n[관련 키워드: {keywords_str}]\"\n",
    "        \n",
    "        # 판례 컨텍스트 구성\n",
    "        precedent_contexts = []\n",
    "        for precedent in results_by_type[\"Precedent\"][:3]:\n",
    "            # 판례 요약\n",
    "            summarized_text = TextProcessor.summarize_text(precedent.text, question, is_article=False)\n",
    "            \n",
    "            # 판례명이 있으면 표시\n",
    "            name_str = f\" - {precedent.metadata.get('name', '')}\" if precedent.metadata.get(\"name\") else \"\"\n",
    "            precedent_contexts.append(f\"【판례 {precedent.id}{name_str}】\\n{summarized_text}\")\n",
    "            \n",
    "            # 참조 법조항이 있으면 표시\n",
    "            if precedent.metadata.get(\"referenced_articles\"):\n",
    "                refs = \", \".join(precedent.metadata[\"referenced_articles\"][:3])\n",
    "                precedent_contexts[-1] += f\"\\n[참조 법조항: {refs}]\"\n",
    "                \n",
    "            # 키워드가 있으면 표시\n",
    "            if precedent.metadata.get(\"keywords\"):\n",
    "                keywords_str = \", \".join(precedent.metadata[\"keywords\"][:5])\n",
    "                precedent_contexts[-1] += f\"\\n[관련 키워드: {keywords_str}]\"\n",
    "        \n",
    "        # 전체 컨텍스트 구성\n",
    "        formatted_context = \"\\n\\n\".join([\n",
    "            \"### 형법 관련 참고 자료 ###\",\n",
    "            \"## 관련 법조항:\",\n",
    "            \"\\n\\n\".join(article_contexts) if article_contexts else \"관련 법조항 정보가 없습니다.\",\n",
    "            \"## 관련 판례:\",\n",
    "            \"\\n\\n\".join(precedent_contexts) if precedent_contexts else \"관련 판례 정보가 없습니다.\",\n",
    "            \"### 참고사항: 형법 해석 시 구성요건-위법성-책임 순서로 판단하며, 법조항과 판례를 함께 고려하십시오. ###\"\n",
    "        ])\n",
    "        \n",
    "        return formatted_context\n",
    "    \n",
    "    @staticmethod\n",
    "    def extract_answer(text: str) -> Optional[str]:\n",
    "        \"\"\"텍스트에서 A, B, C, D 중 답변 추출\n",
    "        \n",
    "        Args:\n",
    "            text: 입력 텍스트\n",
    "            \n",
    "        Returns:\n",
    "            추출된 답변 (A, B, C, D) 또는 None\n",
    "        \"\"\"\n",
    "        # 정규표현식 패턴들\n",
    "        patterns = [\n",
    "            # 직접 응답 패턴\n",
    "            r'^([A-D])$',\n",
    "            r'^답(?:변|안|)(?:은|): ?([A-D])',\n",
    "            r'정답(?:은|): ?([A-D])',\n",
    "            r'([A-D])(?:가|이|을|를) 선택',\n",
    "            r'([A-D])(?:가|이|이) 정답',\n",
    "            r'([A-D])(?:가|이|을|를) (?:고른다|고릅니다|고르겠습니다)',\n",
    "            \n",
    "            # 간접 응답 패턴\n",
    "            r'따라서 (?:정답은 |답은 |)([A-D])',\n",
    "            r'([A-D])(?:가|이|은|는) (?:가장 적절|가장 정확|옳은)',\n",
    "            \n",
    "            # 결론 문장 패턴\n",
    "            r'(?:최종적으로|결론적으로|종합하면|따라서|분석 결과|이상의 이유로).{1,50}(?:정답은|답은|옳은 것은|맞는 것은) ?([A-D])',\n",
    "            r'(?:선택지|옵션) ?([A-D])(?:가|이|은|는) (?:정답|맞습니다|맞다|적절|적합|옳은|타당)',\n",
    "            r'정답은 선택지 ?([A-D])',\n",
    "            r'선택지 ?([A-D])(?:을|를)? ?(?:선택합니다|고릅니다|고르겠습니다|골라야 합니다)',\n",
    "            \n",
    "            # 비교 분석 패턴\n",
    "            r'(?:따라서|그러므로|그래서|이에).{0,30}([A-D])(?:이외|를 제외하고|빼고).{0,20}(?:모두|다른 선택지|다른 것)(?:는|은) (?:틀리|오답|부적절|타당하지 않)',\n",
    "            r'선택지 ([A-D])(?:만|이).{0,30}(?:정확|옳|적절|타당|맞)',\n",
    "            \n",
    "            # 부정 표현을 통한 정답 유추\n",
    "            r'(?:선택지|옵션) ([A-D])(?:을|를)? ?제외한.{1,20}(?:틀리|오답|부적절)',\n",
    "            r'([A-D])(?:을|를)? ?제외한.{1,20}(?:나머지|다른).{1,20}(?:틀리|오답|부적절)',\n",
    "        ]\n",
    "        \n",
    "        # 패턴 적용\n",
    "        for pattern in patterns:\n",
    "            match = re.search(pattern, text, re.IGNORECASE | re.MULTILINE)\n",
    "            if match:\n",
    "                return match.group(1).upper()\n",
    "        \n",
    "        # 문장별 검색\n",
    "        lines = text.split('\\n')\n",
    "        \n",
    "        # 마지막 문장들에 집중 (결론이 주로 마지막에 위치)\n",
    "        last_lines = lines[-3:] if len(lines) >= 3 else lines\n",
    "        for line in last_lines:\n",
    "            for pattern in patterns:\n",
    "                match = re.search(pattern, line, re.IGNORECASE)\n",
    "                if match:\n",
    "                    return match.group(1).upper()\n",
    "        \n",
    "        # 모든 문장 검색\n",
    "        for line in lines:\n",
    "            for pattern in patterns:\n",
    "                match = re.search(pattern, line, re.IGNORECASE)\n",
    "                if match:\n",
    "                    return match.group(1).upper()\n",
    "        \n",
    "        # 문맥 기반 접근\n",
    "        options = ['A', 'B', 'C', 'D']\n",
    "        context_patterns = {\n",
    "            'A': [r'A\\s*(?:만|이|가)\\s*(?:옳|정답|맞|적절)', r'선택지\\s*A\\s*(?:가|이|은|는)\\s*(?:옳|정답|맞|적절)'],\n",
    "            'B': [r'B\\s*(?:만|이|가)\\s*(?:옳|정답|맞|적절)', r'선택지\\s*B\\s*(?:가|이|은|는)\\s*(?:옳|정답|맞|적절)'],\n",
    "            'C': [r'C\\s*(?:만|이|가)\\s*(?:옳|정답|맞|적절)', r'선택지\\s*C\\s*(?:가|이|은|는)\\s*(?:옳|정답|맞|적절)'],\n",
    "            'D': [r'D\\s*(?:만|이|가)\\s*(?:옳|정답|맞|적절)', r'선택지\\s*D\\s*(?:가|이|은|는)\\s*(?:옳|정답|맞|적절)']\n",
    "        }\n",
    "        \n",
    "        for option, patterns in context_patterns.items():\n",
    "            for pattern in patterns:\n",
    "                if re.search(pattern, text, re.IGNORECASE):\n",
    "                    return option\n",
    "        \n",
    "        # 빈도 기반 접근\n",
    "        option_counts = {option: 0 for option in options}\n",
    "        \n",
    "        for option in options:\n",
    "            option_counts[option] += text.count(f\"선택지 {option}\")\n",
    "            option_counts[option] += text.count(f\"{option}.\")\n",
    "            option_counts[option] += text.count(f\"{option}이 \")\n",
    "            option_counts[option] += text.count(f\"{option}가 \")\n",
    "            option_counts[option] += text.count(f\"{option}은 \")\n",
    "            option_counts[option] += text.count(f\"{option}는 \")\n",
    "            \n",
    "            # 부정 표현은 빼기\n",
    "            option_counts[option] -= 2 * text.count(f\"{option}이 아닌\")\n",
    "            option_counts[option] -= 2 * text.count(f\"{option}가 아닌\")\n",
    "            option_counts[option] -= 2 * text.count(f\"{option}은 틀린\")\n",
    "            option_counts[option] -= 2 * text.count(f\"{option}는 틀린\")\n",
    "        \n",
    "        if any(count > 0 for count in option_counts.values()):\n",
    "            return max(option_counts.items(), key=lambda x: x[1])[0]\n",
    "        \n",
    "        # 응답에서 아무 것도 찾지 못한 경우\n",
    "        return None"
   ]
  },
  {
   "cell_type": "code",
   "execution_count": 10,
   "id": "1c4d32bb",
   "metadata": {},
   "outputs": [],
   "source": [
    "# 셀 9: GraphSearchService 클래스\n",
    "class GraphSearchService:\n",
    "    \"\"\"그래프 기반 검색 서비스\"\"\"\n",
    "    \n",
    "    def __init__(self, \n",
    "                 neo4j_uri: str, \n",
    "                 neo4j_username: str, \n",
    "                 neo4j_password: str,\n",
    "                 embedding_model: Any,\n",
    "                 embedding_dimension: int = 1536):\n",
    "        \"\"\"검색 서비스 초기화\n",
    "        \n",
    "        Args:\n",
    "            neo4j_uri: Neo4j 서버 URI\n",
    "            neo4j_username: 사용자명 \n",
    "            neo4j_password: 비밀번호\n",
    "            embedding_model: 임베딩 모델\n",
    "            embedding_dimension: 임베딩 벡터 차원\n",
    "        \"\"\"\n",
    "        self.article_repo = ArticleRepository(neo4j_uri, neo4j_username, neo4j_password)\n",
    "        self.precedent_repo = PrecedentRepository(neo4j_uri, neo4j_username, neo4j_password)\n",
    "        self.embedding_model = embedding_model\n",
    "        self.embedding_dimension = embedding_dimension\n",
    "        \n",
    "        # 연결 및 스키마 설정\n",
    "        self.article_repo.connect()\n",
    "        self.article_repo.setup_constraints_and_indexes(embedding_dimension)\n",
    "    \n",
    "    def search(self, query_text: str, top_k: int = 8) -> List[SearchResult]:\n",
    "        \"\"\"질의에 대한 관련 컨텍스트 검색\n",
    "        \n",
    "        Args:\n",
    "            query_text: 검색 질의 텍스트\n",
    "            top_k: 반환할 최대 결과 수\n",
    "            \n",
    "        Returns:\n",
    "            검색 결과 리스트\n",
    "        \"\"\"\n",
    "        start_time = time.time()\n",
    "        \n",
    "        try:\n",
    "            # 임베딩 생성\n",
    "            query_embedding = self.embedding_model.embed_query(query_text)\n",
    "            \n",
    "            # 키워드 추출\n",
    "            keywords = TextProcessor.extract_keywords(query_text)\n",
    "            \n",
    "            # 법조항 검색 (그래프 관계 활용)\n",
    "            article_results = self.article_repo.search_articles_related_to_precedents(\n",
    "                query_embedding, \n",
    "                top_k=top_k\n",
    "            )\n",
    "            \n",
    "            # 관련 판례 검색\n",
    "            precedent_results = []\n",
    "            for article in article_results[:3]:  # 상위 3개 법조항에 대해서만\n",
    "                related_precedents = self.precedent_repo.search_precedents_by_article(\n",
    "                    article.id,\n",
    "                    query_embedding,\n",
    "                    query_keywords=keywords,\n",
    "                    limit=2\n",
    "                )\n",
    "                \n",
    "                # 중복 제거하며 추가\n",
    "                for precedent in related_precedents:\n",
    "                    if not any(p.id == precedent.id for p in precedent_results):\n",
    "                        precedent_results.append(precedent)\n",
    "            \n",
    "            # 모든 결과 통합 및 점수 기준 정렬\n",
    "            all_results = article_results + precedent_results\n",
    "            all_results.sort(key=lambda x: x.score, reverse=True)\n",
    "            \n",
    "            end_time = time.time()\n",
    "            print(f\"Search completed in {end_time - start_time:.2f} seconds\")\n",
    "            \n",
    "            return all_results[:top_k]\n",
    "            \n",
    "        except Exception as e:\n",
    "            print(f\"Error in graph search: {e}\")\n",
    "            \n",
    "            # 백업: 기본 벡터 검색\n",
    "            try:\n",
    "                # 임베딩 생성 (재시도)\n",
    "                query_embedding = self.embedding_model.embed_query(query_text)\n",
    "                \n",
    "                # 간단한 벡터 검색\n",
    "                article_results = self.article_repo.search_articles_by_vector(\n",
    "                    query_embedding, \n",
    "                    limit=top_k//2\n",
    "                )\n",
    "                \n",
    "                precedent_results = self.precedent_repo.search_precedents_by_vector(\n",
    "                    query_embedding,\n",
    "                    limit=top_k//2\n",
    "                )\n",
    "                \n",
    "                # 결과 통합 및 정렬\n",
    "                all_results = article_results + precedent_results\n",
    "                all_results.sort(key=lambda x: x.score, reverse=True)\n",
    "                \n",
    "                print(\"Fallback search completed successfully\")\n",
    "                return all_results[:top_k]\n",
    "                \n",
    "            except Exception as e2:\n",
    "                print(f\"Fallback search failed: {e2}\")\n",
    "                return []\n",
    "    \n",
    "    def close(self) -> None:\n",
    "        \"\"\"리소스 정리\"\"\"\n",
    "        self.article_repo.close()"
   ]
  },
  {
   "cell_type": "code",
   "execution_count": 11,
   "id": "152ce16d",
   "metadata": {},
   "outputs": [],
   "source": [
    "# 셀 10: LegalRAGPipeline 클래스\n",
    "class LegalRAGPipeline:\n",
    "    \"\"\"법률 RAG 파이프라인\"\"\"\n",
    "    \n",
    "    def __init__(self, \n",
    "                 openai_api_key: str, \n",
    "                 neo4j_uri: str, \n",
    "                 neo4j_username: str, \n",
    "                 neo4j_password: str):\n",
    "        \"\"\"파이프라인 초기화\n",
    "        \n",
    "        Args:\n",
    "            openai_api_key: OpenAI API 키\n",
    "            neo4j_uri: Neo4j 서버 URI\n",
    "            neo4j_username: Neo4j 사용자명\n",
    "            neo4j_password: Neo4j 비밀번호\n",
    "        \"\"\"\n",
    "        self.openai_client = OpenAI(api_key=openai_api_key)\n",
    "        self.openai_api_key = openai_api_key\n",
    "        self.embedding_model = OpenAIEmbeddings(model='text-embedding-3-small', api_key=openai_api_key)\n",
    "        self.embedding_dimension = 1536  # text-embedding-3-small 차원\n",
    "        \n",
    "        self.search_service = GraphSearchService(\n",
    "            neo4j_uri,\n",
    "            neo4j_username,\n",
    "            neo4j_password,\n",
    "            self.embedding_model,\n",
    "            self.embedding_dimension\n",
    "        )\n",
    "        \n",
    "        self.text_processor = TextProcessor()\n",
    "    \n",
    "    def load_data(self, pdf_path: str, precedent_dir: str, precedent_limit: int = 1000) -> Tuple[Dict[str, Article], List[Precedent]]:\n",
    "        \"\"\"데이터 로드 및 그래프 구축\n",
    "        \n",
    "        Args:\n",
    "            pdf_path: 법조항 PDF 경로\n",
    "            precedent_dir: 판례 디렉토리 경로\n",
    "            precedent_limit: 최대 로드할 판례 수\n",
    "            \n",
    "        Returns:\n",
    "            (법조항 딕셔너리, 판례 리스트)\n",
    "        \"\"\"\n",
    "        # 데이터 로드\n",
    "        articles = DataLoader.load_articles_from_pdf(pdf_path)\n",
    "        precedents = DataLoader.load_precedents_from_json(precedent_dir, limit=precedent_limit)\n",
    "        \n",
    "        # 임베딩 생성\n",
    "        print(\"Generating embeddings for articles...\")\n",
    "        for article_id, article in tqdm(articles.items()):\n",
    "            article.embedding = self.embedding_model.embed_query(article.text)\n",
    "        \n",
    "        print(\"Generating embeddings for precedents...\")\n",
    "        for precedent in tqdm(precedents):\n",
    "            text_to_embed = precedent.full_summary or precedent.judgment_summary\n",
    "            if text_to_embed:\n",
    "                precedent.embedding = self.embedding_model.embed_query(text_to_embed)\n",
    "        \n",
    "        # 그래프 구축\n",
    "        article_repo = ArticleRepository(\n",
    "            self.search_service.article_repo.uri,\n",
    "            self.search_service.article_repo.username,\n",
    "            self.search_service.article_repo.password\n",
    "        )\n",
    "        article_repo.connect()\n",
    "        article_repo.create_bulk_articles(list(articles.values()))\n",
    "        \n",
    "        precedent_repo = PrecedentRepository(\n",
    "            self.search_service.precedent_repo.uri,\n",
    "            self.search_service.precedent_repo.username,\n",
    "            self.search_service.precedent_repo.password\n",
    "        )\n",
    "        precedent_repo.connect()\n",
    "        precedent_repo.create_bulk_precedents(precedents)\n",
    "        \n",
    "        # 연결 종료\n",
    "        article_repo.close()\n",
    "        precedent_repo.close()\n",
    "        \n",
    "        return articles, precedents\n",
    "    \n",
    "    def create_batch_requests(self, questions_df: pd.DataFrame) -> List[Dict[str, Any]]:\n",
    "        \"\"\"배치 API 요청 생성\n",
    "        \n",
    "        Args:\n",
    "            questions_df: 질문 데이터프레임\n",
    "            \n",
    "        Returns:\n",
    "            배치 요청 리스트\n",
    "        \"\"\"\n",
    "        batch_requests = []\n",
    "        \n",
    "        # 모든 질문에 대해 RAG 검색 실행\n",
    "        retrieved_contexts = {}\n",
    "        \n",
    "        for idx, row in tqdm(questions_df.iterrows(), total=len(questions_df), desc=\"Searching contexts\"):\n",
    "            question = row['question']\n",
    "            try:\n",
    "                # RAG 검색으로 문맥 가져오기\n",
    "                search_results = self.search_service.search(question, top_k=8)\n",
    "                retrieved_contexts[idx] = search_results\n",
    "            except Exception as e:\n",
    "                print(f\"Error in RAG search for question {idx}: {e}\")\n",
    "                retrieved_contexts[idx] = []\n",
    "        \n",
    "        # 배치 요청 준비\n",
    "        for idx, row in tqdm(questions_df.iterrows(), total=len(questions_df), desc=\"Preparing batch requests\"):\n",
    "            question = row['question']\n",
    "            options = {\n",
    "                'A': row['A'],\n",
    "                'B': row['B'], \n",
    "                'C': row['C'],\n",
    "                'D': row['D']\n",
    "            }\n",
    "            \n",
    "            # 검색된 문맥 가져오기\n",
    "            search_results = retrieved_contexts.get(idx, [])\n",
    "            \n",
    "            # 최적화된 컨텍스트 구성\n",
    "            if search_results:\n",
    "                context_str = self.text_processor.format_context(search_results, question)\n",
    "            else:\n",
    "                context_str = \"관련 문맥 정보가 없습니다.\"\n",
    "            \n",
    "            # 프롬프트 작성\n",
    "            prompt = f\"\"\"다음은 한국 형법에 관한 객관식 문제입니다. 제공된 문맥 정보를 참고하여 가장 적절한 답변을 선택하세요.\n",
    "\n",
    "질문: {question}\n",
    "\n",
    "선택지:\n",
    "A. {options['A']}\n",
    "B. {options['B']}\n",
    "C. {options['C']}\n",
    "D. {options['D']}\n",
    "\n",
    "관련 문맥 정보:\n",
    "{context_str}\n",
    "\n",
    "답변 단계:\n",
    "1) 문제의 핵심 형법 쟁점 파악: 구성요건, 위법성, 책임 중 어떤 단계의 문제인지 분석\n",
    "2) 관련 법조항 적용: 제시된 법조항이 문제에 어떻게 적용되는지 분석\n",
    "3) 판례 원칙 적용: 유사한 판례가 확립한 법리를 문제에 적용\n",
    "4) 각 선택지 법적 분석: 각 선택지가 법조항과 판례에 비추어 왜 맞는지 또는 틀린지 분석\n",
    "5) 최종 선택: 가장 정확한 선택지 선택\n",
    "\n",
    "전체 분석 후 최종 답변은 A, B, C, D 중 하나만 제시하세요.\n",
    "\"\"\"\n",
    "            \n",
    "            # 배치 요청 생성\n",
    "            request = {\n",
    "                \"custom_id\": f\"q_{idx}\",\n",
    "                \"method\": \"POST\",\n",
    "                \"url\": \"/v1/chat/completions\",\n",
    "                \"body\": {\n",
    "                    \"model\": \"gpt-4o-mini\",\n",
    "                    \"messages\": [\n",
    "                        {\"role\": \"system\", \"content\": \"당신은 한국 형법 전문가입니다. 주어진 문맥을 기반으로 가장 적절한 답변을 선택하세요. 답변은 A, B, C, D 중 하나만 명확히 제시하세요.\"},\n",
    "                        {\"role\": \"user\", \"content\": prompt}\n",
    "                    ],\n",
    "                    \"max_tokens\": 300\n",
    "                }\n",
    "            }\n",
    "            \n",
    "            batch_requests.append(request)\n",
    "        \n",
    "        return batch_requests\n",
    "    \n",
    "    def run_batch_api(self, batch_requests: List[Dict[str, Any]], output_dir: str = \"results\") -> str:\n",
    "        \"\"\"배치 API 실행\n",
    "        \n",
    "        Args:\n",
    "            batch_requests: 배치 요청 리스트\n",
    "            output_dir: 결과 저장 디렉토리\n",
    "            \n",
    "        Returns:\n",
    "            배치 출력 파일 경로\n",
    "        \"\"\"\n",
    "        # 결과 디렉토리 생성\n",
    "        os.makedirs(output_dir, exist_ok=True)\n",
    "        timestamp = datetime.now().strftime(\"%Y%m%d_%H%M%S\")\n",
    "        \n",
    "        # JSONL 파일로 저장\n",
    "        batch_file_path = f\"{output_dir}/criminal_law_batch_input_{timestamp}.jsonl\"\n",
    "        with open(batch_file_path, 'w', encoding='utf-8') as f:\n",
    "            for request in batch_requests:\n",
    "                f.write(json.dumps(request, ensure_ascii=False) + '\\n')\n",
    "        \n",
    "        print(f\"Saved {len(batch_requests)} batch requests to {batch_file_path}\")\n",
    "        \n",
    "        # 배치 파일 업로드\n",
    "        batch_input_file = self.openai_client.files.create(\n",
    "            file=open(batch_file_path, \"rb\"),\n",
    "            purpose=\"batch\"\n",
    "        )\n",
    "        batch_input_file_id = batch_input_file.id\n",
    "        print(f\"Uploaded batch file with ID: {batch_input_file_id}\")\n",
    "        \n",
    "        # 배치 작업 생성\n",
    "        batch_job = self.openai_client.batches.create(\n",
    "            input_file_id=batch_input_file_id,\n",
    "            endpoint=\"/v1/chat/completions\",\n",
    "            completion_window=\"24h\",\n",
    "            metadata={\"description\": \"Criminal Law benchmark evaluation\"}\n",
    "        )\n",
    "        batch_id = batch_job.id\n",
    "        print(f\"Created batch job with ID: {batch_id}\")\n",
    "        \n",
    "        # 배치 작업 상태 확인 및 대기\n",
    "        print(\"Waiting for batch job to complete...\")\n",
    "        start_time = time.time()\n",
    "        \n",
    "        while True:\n",
    "            status = self.openai_client.batches.retrieve(batch_id)\n",
    "            elapsed_time = time.time() - start_time\n",
    "            print(f\"Current status: {status.status} (Elapsed: {elapsed_time:.2f}s)\")\n",
    "            \n",
    "            if status.status in ['completed', 'failed', 'cancelled', 'expired']:\n",
    "                break\n",
    "            \n",
    "            # 처음 10분은 30초마다, 이후에는 2분마다 체크\n",
    "            if elapsed_time < 600:  # 10분\n",
    "                time.sleep(30)\n",
    "            else:\n",
    "                time.sleep(120)\n",
    "        \n",
    "        end_time = time.time()\n",
    "        total_time = end_time - start_time\n",
    "        print(f\"Batch job finished with status: {status.status} in {total_time:.2f} seconds\")\n",
    "        \n",
    "        # 작업이 성공적으로 완료된 경우 결과 처리\n",
    "        output_file_path = f\"{output_dir}/criminal_law_batch_output_{timestamp}.jsonl\"\n",
    "        \n",
    "        if status.status == 'completed':\n",
    "            output_file_id = status.output_file_id\n",
    "            print(f\"Batch job completed successfully. Output file ID: {output_file_id}\")\n",
    "            \n",
    "            # 결과 파일 다운로드\n",
    "            file_response = self.openai_client.files.content(output_file_id)\n",
    "            \n",
    "            # 결과 파일 저장\n",
    "            with open(output_file_path, 'w', encoding='utf-8') as f:\n",
    "                f.write(file_response.text)\n",
    "            \n",
    "            print(f\"Saved batch output to {output_file_path}\")\n",
    "        else:\n",
    "            print(f\"Batch job did not complete successfully. Final status: {status.status}\")\n",
    "            if hasattr(status, 'errors') and status.errors:\n",
    "                print(\"Errors:\")\n",
    "                for error in status.errors:\n",
    "                    print(f\"  - {error}\")\n",
    "        \n",
    "        return output_file_path\n",
    "    \n",
    "    def evaluate_results(self, \n",
    "                         batch_output_path: str, \n",
    "                         questions_df: pd.DataFrame,\n",
    "                         output_dir: str = \"results\") -> Dict[str, Any]:\n",
    "        \"\"\"결과 평가\n",
    "        \n",
    "        Args:\n",
    "            batch_output_path: 배치 출력 파일 경로\n",
    "            questions_df: 질문 데이터프레임\n",
    "            output_dir: 결과 저장 디렉토리\n",
    "            \n",
    "        Returns:\n",
    "            평가 결과 요약\n",
    "        \"\"\"\n",
    "        timestamp = os.path.basename(batch_output_path).split('_')[-1].split('.')[0]\n",
    "        \n",
    "        # 배치 결과 로드\n",
    "        batch_results = []\n",
    "        with open(batch_output_path, 'r', encoding='utf-8') as f:\n",
    "            for line in f:\n",
    "                if line.strip():\n",
    "                    batch_results.append(json.loads(line))\n",
    "        \n",
    "        print(f\"Loaded {len(batch_results)} results from the batch job\")\n",
    "        \n",
    "        # 정확도 평가\n",
    "        correct_count = 0\n",
    "        results_with_answers = []\n",
    "        \n",
    "        for result in batch_results:\n",
    "            custom_id = result['custom_id']\n",
    "            idx = int(custom_id.split('_')[1])\n",
    "            \n",
    "            if result.get('error') is not None:\n",
    "                print(f\"Error in result {custom_id}: {result['error']}\")\n",
    "                continue\n",
    "            \n",
    "            try:\n",
    "                response_text = result['response']['body']['choices'][0]['message']['content'].strip()\n",
    "                \n",
    "                # 응답에서 답변 추출 (A, B, C, D 중 하나)\n",
    "                answer = self.text_processor.extract_answer(response_text)\n",
    "                \n",
    "                if answer is None:\n",
    "                    print(f\"Could not extract answer from response for question {idx}: {response_text}\")\n",
    "                    continue\n",
    "                \n",
    "                # 정답과 비교 (CSV에서는 1-indexed, 1=A, 2=B, 3=C, 4=D)\n",
    "                correct_answer = chr(64 + questions_df.iloc[idx]['answer'])  # 1->A, 2->B, 3->C, 4->D\n",
    "                is_correct = (answer == correct_answer)\n",
    "                \n",
    "                if is_correct:\n",
    "                    correct_count += 1\n",
    "                \n",
    "                results_with_answers.append({\n",
    "                    'question_id': idx,\n",
    "                    'question': questions_df.iloc[idx]['question'],\n",
    "                    'predicted': answer,\n",
    "                    'actual': correct_answer,\n",
    "                    'is_correct': is_correct,\n",
    "                    'response': response_text\n",
    "                })\n",
    "            except Exception as e:\n",
    "                print(f\"Error processing result for question {idx}: {e}\")\n",
    "        \n",
    "        accuracy = correct_count / len(results_with_answers) if results_with_answers else 0\n",
    "        print(f\"Accuracy: {accuracy:.4f} ({correct_count}/{len(results_with_answers)})\")\n",
    "        \n",
    "        # 결과를 CSV 파일로 저장\n",
    "        results_df = pd.DataFrame(results_with_answers)\n",
    "        results_file = f\"{output_dir}/criminal_law_results_{timestamp}.csv\"\n",
    "        results_df.to_csv(results_file, index=False)\n",
    "        print(f\"Saved detailed results to {results_file}\")\n",
    "        \n",
    "        # 결과 요약 정보\n",
    "        summary = {\n",
    "            'timestamp': timestamp,\n",
    "            'total_questions': len(questions_df),\n",
    "            'processed_questions': len(results_with_answers),\n",
    "            'correct_answers': correct_count,\n",
    "            'accuracy': accuracy,\n",
    "            'results_file': results_file,\n",
    "            'batch_output_file': batch_output_path\n",
    "        }\n",
    "        \n",
    "        # 요약 파일 저장\n",
    "        summary_file = f\"{output_dir}/criminal_law_benchmark_summary_{timestamp}.json\"\n",
    "        with open(summary_file, 'w', encoding='utf-8') as f:\n",
    "            json.dump(summary, f, ensure_ascii=False, indent=2)\n",
    "        \n",
    "        print(f\"Benchmark evaluation completed. Final accuracy: {accuracy:.4f}\")\n",
    "        \n",
    "        return summary\n",
    "    \n",
    "    def run_pipeline(self, \n",
    "                     questions_csv_path: str, \n",
    "                     output_dir: str = \"results\",\n",
    "                     skip_data_loading: bool = True) -> Dict[str, Any]:\n",
    "        \"\"\"전체 파이프라인 실행\n",
    "        \n",
    "        Args:\n",
    "            questions_csv_path: 질문 CSV 파일 경로\n",
    "            output_dir: 결과 저장 디렉토리\n",
    "            skip_data_loading: 데이터 로딩 단계 건너뛰기 여부\n",
    "            \n",
    "        Returns:\n",
    "            평가 결과 요약\n",
    "        \"\"\"\n",
    "        start_time = time.time()\n",
    "        \n",
    "        # 데이터 로드 (선택적)\n",
    "        if not skip_data_loading:\n",
    "            print(\"Loading data and building graph...\")\n",
    "            pdf_path = './dataset/criminal-law.pdf'\n",
    "            precedent_dir = './dataset/precedent_label/'\n",
    "            self.load_data(pdf_path, precedent_dir)\n",
    "        \n",
    "        # 질문 로드\n",
    "        questions_df = pd.read_csv(questions_csv_path)\n",
    "        print(f\"Loaded {len(questions_df)} questions from CSV file\")\n",
    "        \n",
    "        # 배치 요청 생성\n",
    "        batch_requests = self.create_batch_requests(questions_df)\n",
    "        \n",
    "        # 배치 API 실행\n",
    "        batch_output_path = self.run_batch_api(batch_requests, output_dir)\n",
    "        \n",
    "        # 결과 평가\n",
    "        summary = self.evaluate_results(batch_output_path, questions_df, output_dir)\n",
    "        \n",
    "        # 리소스 정리\n",
    "        self.search_service.close()\n",
    "        \n",
    "        end_time = time.time()\n",
    "        total_time = end_time - start_time\n",
    "        print(f\"Total pipeline execution time: {total_time:.2f} seconds\")\n",
    "        \n",
    "        # 총 실행 시간 추가\n",
    "        summary['execution_time_seconds'] = total_time\n",
    "        \n",
    "        return summary"
   ]
  },
  {
   "cell_type": "code",
   "execution_count": 12,
   "id": "f579e2c7",
   "metadata": {},
   "outputs": [
    {
     "name": "stdout",
     "output_type": "stream",
     "text": [
      "Successfully connected to Neo4j.\n",
      "Article vector index created or already exists.\n",
      "Precedent vector index created or already exists.\n",
      "Waiting for indexes to populate...\n",
      "Indexes should be online.\n",
      "Loaded 200 questions from CSV file\n"
     ]
    },
    {
     "data": {
      "application/vnd.jupyter.widget-view+json": {
       "model_id": "971e63ae2bc74ecea612e3715a787a2f",
       "version_major": 2,
       "version_minor": 0
      },
      "text/plain": [
       "Searching contexts:   0%|          | 0/200 [00:00<?, ?it/s]"
      ]
     },
     "metadata": {},
     "output_type": "display_data"
    },
    {
     "name": "stderr",
     "output_type": "stream",
     "text": [
      "Received notification from DBMS server: {severity: WARNING} {code: Neo.ClientNotification.Statement.AggregationSkippedNull} {category: UNRECOGNIZED} {title: The query contains an aggregation function that skips null values.} {description: null value eliminated in set function.} {position: None} for query: \"\\n        // 1. 벡터 검색으로 시작 법조항 찾기\\n        CALL db.index.vector.queryNodes('article_embedding', $top_k, $query_embedding) \\n        YIELD node as article, score as article_score\\n        \\n        // 2. 해당 법조항과 연결된 판례와 키워드 찾기\\n        OPTIONAL MATCH (precedent:Precedent)-[:REFERENCES_ARTICLE]->(article)\\n        OPTIONAL MATCH (precedent)-[:HAS_KEYWORD]->(keyword:Keyword)\\n        \\n        // 3. 결과 집계 및 점수 계산\\n        WITH article, article_score, precedent, \\n             collect(DISTINCT keyword.text) as keywords,\\n             count(precedent) as precedent_count\\n        \\n        // 법조항 점수 = 벡터 점수 + 판례 인용 수에 따른 보너스\\n        WITH article, article_score + (precedent_count * 0.01) as final_score,\\n             precedent_count, keywords\\n        \\n        RETURN article.id as id, \\n               article.text as text, \\n               final_score as score,\\n               precedent_count,\\n               keywords\\n        ORDER BY final_score DESC\\n        LIMIT $top_k\\n        \"\n"
     ]
    },
    {
     "name": "stdout",
     "output_type": "stream",
     "text": [
      "Successfully connected to Neo4j.\n",
      "Search completed in 3.67 seconds\n"
     ]
    },
    {
     "name": "stderr",
     "output_type": "stream",
     "text": [
      "Received notification from DBMS server: {severity: WARNING} {code: Neo.ClientNotification.Statement.AggregationSkippedNull} {category: UNRECOGNIZED} {title: The query contains an aggregation function that skips null values.} {description: null value eliminated in set function.} {position: None} for query: \"\\n        // 1. 벡터 검색으로 시작 법조항 찾기\\n        CALL db.index.vector.queryNodes('article_embedding', $top_k, $query_embedding) \\n        YIELD node as article, score as article_score\\n        \\n        // 2. 해당 법조항과 연결된 판례와 키워드 찾기\\n        OPTIONAL MATCH (precedent:Precedent)-[:REFERENCES_ARTICLE]->(article)\\n        OPTIONAL MATCH (precedent)-[:HAS_KEYWORD]->(keyword:Keyword)\\n        \\n        // 3. 결과 집계 및 점수 계산\\n        WITH article, article_score, precedent, \\n             collect(DISTINCT keyword.text) as keywords,\\n             count(precedent) as precedent_count\\n        \\n        // 법조항 점수 = 벡터 점수 + 판례 인용 수에 따른 보너스\\n        WITH article, article_score + (precedent_count * 0.01) as final_score,\\n             precedent_count, keywords\\n        \\n        RETURN article.id as id, \\n               article.text as text, \\n               final_score as score,\\n               precedent_count,\\n               keywords\\n        ORDER BY final_score DESC\\n        LIMIT $top_k\\n        \"\n"
     ]
    },
    {
     "name": "stdout",
     "output_type": "stream",
     "text": [
      "Search completed in 1.61 seconds\n",
      "Search completed in 2.17 seconds\n"
     ]
    },
    {
     "name": "stderr",
     "output_type": "stream",
     "text": [
      "Received notification from DBMS server: {severity: WARNING} {code: Neo.ClientNotification.Statement.AggregationSkippedNull} {category: UNRECOGNIZED} {title: The query contains an aggregation function that skips null values.} {description: null value eliminated in set function.} {position: None} for query: \"\\n        // 1. 벡터 검색으로 시작 법조항 찾기\\n        CALL db.index.vector.queryNodes('article_embedding', $top_k, $query_embedding) \\n        YIELD node as article, score as article_score\\n        \\n        // 2. 해당 법조항과 연결된 판례와 키워드 찾기\\n        OPTIONAL MATCH (precedent:Precedent)-[:REFERENCES_ARTICLE]->(article)\\n        OPTIONAL MATCH (precedent)-[:HAS_KEYWORD]->(keyword:Keyword)\\n        \\n        // 3. 결과 집계 및 점수 계산\\n        WITH article, article_score, precedent, \\n             collect(DISTINCT keyword.text) as keywords,\\n             count(precedent) as precedent_count\\n        \\n        // 법조항 점수 = 벡터 점수 + 판례 인용 수에 따른 보너스\\n        WITH article, article_score + (precedent_count * 0.01) as final_score,\\n             precedent_count, keywords\\n        \\n        RETURN article.id as id, \\n               article.text as text, \\n               final_score as score,\\n               precedent_count,\\n               keywords\\n        ORDER BY final_score DESC\\n        LIMIT $top_k\\n        \"\n"
     ]
    },
    {
     "name": "stdout",
     "output_type": "stream",
     "text": [
      "Search completed in 1.49 seconds\n"
     ]
    },
    {
     "name": "stderr",
     "output_type": "stream",
     "text": [
      "Received notification from DBMS server: {severity: WARNING} {code: Neo.ClientNotification.Statement.AggregationSkippedNull} {category: UNRECOGNIZED} {title: The query contains an aggregation function that skips null values.} {description: null value eliminated in set function.} {position: None} for query: \"\\n        // 1. 벡터 검색으로 시작 법조항 찾기\\n        CALL db.index.vector.queryNodes('article_embedding', $top_k, $query_embedding) \\n        YIELD node as article, score as article_score\\n        \\n        // 2. 해당 법조항과 연결된 판례와 키워드 찾기\\n        OPTIONAL MATCH (precedent:Precedent)-[:REFERENCES_ARTICLE]->(article)\\n        OPTIONAL MATCH (precedent)-[:HAS_KEYWORD]->(keyword:Keyword)\\n        \\n        // 3. 결과 집계 및 점수 계산\\n        WITH article, article_score, precedent, \\n             collect(DISTINCT keyword.text) as keywords,\\n             count(precedent) as precedent_count\\n        \\n        // 법조항 점수 = 벡터 점수 + 판례 인용 수에 따른 보너스\\n        WITH article, article_score + (precedent_count * 0.01) as final_score,\\n             precedent_count, keywords\\n        \\n        RETURN article.id as id, \\n               article.text as text, \\n               final_score as score,\\n               precedent_count,\\n               keywords\\n        ORDER BY final_score DESC\\n        LIMIT $top_k\\n        \"\n"
     ]
    },
    {
     "name": "stdout",
     "output_type": "stream",
     "text": [
      "Search completed in 1.22 seconds\n"
     ]
    },
    {
     "name": "stderr",
     "output_type": "stream",
     "text": [
      "Received notification from DBMS server: {severity: WARNING} {code: Neo.ClientNotification.Statement.AggregationSkippedNull} {category: UNRECOGNIZED} {title: The query contains an aggregation function that skips null values.} {description: null value eliminated in set function.} {position: None} for query: \"\\n        // 1. 벡터 검색으로 시작 법조항 찾기\\n        CALL db.index.vector.queryNodes('article_embedding', $top_k, $query_embedding) \\n        YIELD node as article, score as article_score\\n        \\n        // 2. 해당 법조항과 연결된 판례와 키워드 찾기\\n        OPTIONAL MATCH (precedent:Precedent)-[:REFERENCES_ARTICLE]->(article)\\n        OPTIONAL MATCH (precedent)-[:HAS_KEYWORD]->(keyword:Keyword)\\n        \\n        // 3. 결과 집계 및 점수 계산\\n        WITH article, article_score, precedent, \\n             collect(DISTINCT keyword.text) as keywords,\\n             count(precedent) as precedent_count\\n        \\n        // 법조항 점수 = 벡터 점수 + 판례 인용 수에 따른 보너스\\n        WITH article, article_score + (precedent_count * 0.01) as final_score,\\n             precedent_count, keywords\\n        \\n        RETURN article.id as id, \\n               article.text as text, \\n               final_score as score,\\n               precedent_count,\\n               keywords\\n        ORDER BY final_score DESC\\n        LIMIT $top_k\\n        \"\n"
     ]
    },
    {
     "name": "stdout",
     "output_type": "stream",
     "text": [
      "Search completed in 1.11 seconds\n"
     ]
    },
    {
     "name": "stderr",
     "output_type": "stream",
     "text": [
      "Received notification from DBMS server: {severity: WARNING} {code: Neo.ClientNotification.Statement.AggregationSkippedNull} {category: UNRECOGNIZED} {title: The query contains an aggregation function that skips null values.} {description: null value eliminated in set function.} {position: None} for query: \"\\n        // 1. 벡터 검색으로 시작 법조항 찾기\\n        CALL db.index.vector.queryNodes('article_embedding', $top_k, $query_embedding) \\n        YIELD node as article, score as article_score\\n        \\n        // 2. 해당 법조항과 연결된 판례와 키워드 찾기\\n        OPTIONAL MATCH (precedent:Precedent)-[:REFERENCES_ARTICLE]->(article)\\n        OPTIONAL MATCH (precedent)-[:HAS_KEYWORD]->(keyword:Keyword)\\n        \\n        // 3. 결과 집계 및 점수 계산\\n        WITH article, article_score, precedent, \\n             collect(DISTINCT keyword.text) as keywords,\\n             count(precedent) as precedent_count\\n        \\n        // 법조항 점수 = 벡터 점수 + 판례 인용 수에 따른 보너스\\n        WITH article, article_score + (precedent_count * 0.01) as final_score,\\n             precedent_count, keywords\\n        \\n        RETURN article.id as id, \\n               article.text as text, \\n               final_score as score,\\n               precedent_count,\\n               keywords\\n        ORDER BY final_score DESC\\n        LIMIT $top_k\\n        \"\n"
     ]
    },
    {
     "name": "stdout",
     "output_type": "stream",
     "text": [
      "Search completed in 1.31 seconds\n"
     ]
    },
    {
     "name": "stderr",
     "output_type": "stream",
     "text": [
      "Received notification from DBMS server: {severity: WARNING} {code: Neo.ClientNotification.Statement.AggregationSkippedNull} {category: UNRECOGNIZED} {title: The query contains an aggregation function that skips null values.} {description: null value eliminated in set function.} {position: None} for query: \"\\n        // 1. 벡터 검색으로 시작 법조항 찾기\\n        CALL db.index.vector.queryNodes('article_embedding', $top_k, $query_embedding) \\n        YIELD node as article, score as article_score\\n        \\n        // 2. 해당 법조항과 연결된 판례와 키워드 찾기\\n        OPTIONAL MATCH (precedent:Precedent)-[:REFERENCES_ARTICLE]->(article)\\n        OPTIONAL MATCH (precedent)-[:HAS_KEYWORD]->(keyword:Keyword)\\n        \\n        // 3. 결과 집계 및 점수 계산\\n        WITH article, article_score, precedent, \\n             collect(DISTINCT keyword.text) as keywords,\\n             count(precedent) as precedent_count\\n        \\n        // 법조항 점수 = 벡터 점수 + 판례 인용 수에 따른 보너스\\n        WITH article, article_score + (precedent_count * 0.01) as final_score,\\n             precedent_count, keywords\\n        \\n        RETURN article.id as id, \\n               article.text as text, \\n               final_score as score,\\n               precedent_count,\\n               keywords\\n        ORDER BY final_score DESC\\n        LIMIT $top_k\\n        \"\n"
     ]
    },
    {
     "name": "stdout",
     "output_type": "stream",
     "text": [
      "Search completed in 0.67 seconds\n"
     ]
    },
    {
     "name": "stderr",
     "output_type": "stream",
     "text": [
      "Received notification from DBMS server: {severity: WARNING} {code: Neo.ClientNotification.Statement.AggregationSkippedNull} {category: UNRECOGNIZED} {title: The query contains an aggregation function that skips null values.} {description: null value eliminated in set function.} {position: None} for query: \"\\n        // 1. 벡터 검색으로 시작 법조항 찾기\\n        CALL db.index.vector.queryNodes('article_embedding', $top_k, $query_embedding) \\n        YIELD node as article, score as article_score\\n        \\n        // 2. 해당 법조항과 연결된 판례와 키워드 찾기\\n        OPTIONAL MATCH (precedent:Precedent)-[:REFERENCES_ARTICLE]->(article)\\n        OPTIONAL MATCH (precedent)-[:HAS_KEYWORD]->(keyword:Keyword)\\n        \\n        // 3. 결과 집계 및 점수 계산\\n        WITH article, article_score, precedent, \\n             collect(DISTINCT keyword.text) as keywords,\\n             count(precedent) as precedent_count\\n        \\n        // 법조항 점수 = 벡터 점수 + 판례 인용 수에 따른 보너스\\n        WITH article, article_score + (precedent_count * 0.01) as final_score,\\n             precedent_count, keywords\\n        \\n        RETURN article.id as id, \\n               article.text as text, \\n               final_score as score,\\n               precedent_count,\\n               keywords\\n        ORDER BY final_score DESC\\n        LIMIT $top_k\\n        \"\n"
     ]
    },
    {
     "name": "stdout",
     "output_type": "stream",
     "text": [
      "Search completed in 1.70 seconds\n",
      "Search completed in 1.24 seconds\n"
     ]
    },
    {
     "name": "stderr",
     "output_type": "stream",
     "text": [
      "Received notification from DBMS server: {severity: WARNING} {code: Neo.ClientNotification.Statement.AggregationSkippedNull} {category: UNRECOGNIZED} {title: The query contains an aggregation function that skips null values.} {description: null value eliminated in set function.} {position: None} for query: \"\\n        // 1. 벡터 검색으로 시작 법조항 찾기\\n        CALL db.index.vector.queryNodes('article_embedding', $top_k, $query_embedding) \\n        YIELD node as article, score as article_score\\n        \\n        // 2. 해당 법조항과 연결된 판례와 키워드 찾기\\n        OPTIONAL MATCH (precedent:Precedent)-[:REFERENCES_ARTICLE]->(article)\\n        OPTIONAL MATCH (precedent)-[:HAS_KEYWORD]->(keyword:Keyword)\\n        \\n        // 3. 결과 집계 및 점수 계산\\n        WITH article, article_score, precedent, \\n             collect(DISTINCT keyword.text) as keywords,\\n             count(precedent) as precedent_count\\n        \\n        // 법조항 점수 = 벡터 점수 + 판례 인용 수에 따른 보너스\\n        WITH article, article_score + (precedent_count * 0.01) as final_score,\\n             precedent_count, keywords\\n        \\n        RETURN article.id as id, \\n               article.text as text, \\n               final_score as score,\\n               precedent_count,\\n               keywords\\n        ORDER BY final_score DESC\\n        LIMIT $top_k\\n        \"\n"
     ]
    },
    {
     "name": "stdout",
     "output_type": "stream",
     "text": [
      "Search completed in 0.90 seconds\n"
     ]
    },
    {
     "name": "stderr",
     "output_type": "stream",
     "text": [
      "Received notification from DBMS server: {severity: WARNING} {code: Neo.ClientNotification.Statement.AggregationSkippedNull} {category: UNRECOGNIZED} {title: The query contains an aggregation function that skips null values.} {description: null value eliminated in set function.} {position: None} for query: \"\\n        // 1. 벡터 검색으로 시작 법조항 찾기\\n        CALL db.index.vector.queryNodes('article_embedding', $top_k, $query_embedding) \\n        YIELD node as article, score as article_score\\n        \\n        // 2. 해당 법조항과 연결된 판례와 키워드 찾기\\n        OPTIONAL MATCH (precedent:Precedent)-[:REFERENCES_ARTICLE]->(article)\\n        OPTIONAL MATCH (precedent)-[:HAS_KEYWORD]->(keyword:Keyword)\\n        \\n        // 3. 결과 집계 및 점수 계산\\n        WITH article, article_score, precedent, \\n             collect(DISTINCT keyword.text) as keywords,\\n             count(precedent) as precedent_count\\n        \\n        // 법조항 점수 = 벡터 점수 + 판례 인용 수에 따른 보너스\\n        WITH article, article_score + (precedent_count * 0.01) as final_score,\\n             precedent_count, keywords\\n        \\n        RETURN article.id as id, \\n               article.text as text, \\n               final_score as score,\\n               precedent_count,\\n               keywords\\n        ORDER BY final_score DESC\\n        LIMIT $top_k\\n        \"\n"
     ]
    },
    {
     "name": "stdout",
     "output_type": "stream",
     "text": [
      "Search completed in 1.05 seconds\n",
      "Search completed in 1.17 seconds\n"
     ]
    },
    {
     "name": "stderr",
     "output_type": "stream",
     "text": [
      "Received notification from DBMS server: {severity: WARNING} {code: Neo.ClientNotification.Statement.AggregationSkippedNull} {category: UNRECOGNIZED} {title: The query contains an aggregation function that skips null values.} {description: null value eliminated in set function.} {position: None} for query: \"\\n        // 1. 벡터 검색으로 시작 법조항 찾기\\n        CALL db.index.vector.queryNodes('article_embedding', $top_k, $query_embedding) \\n        YIELD node as article, score as article_score\\n        \\n        // 2. 해당 법조항과 연결된 판례와 키워드 찾기\\n        OPTIONAL MATCH (precedent:Precedent)-[:REFERENCES_ARTICLE]->(article)\\n        OPTIONAL MATCH (precedent)-[:HAS_KEYWORD]->(keyword:Keyword)\\n        \\n        // 3. 결과 집계 및 점수 계산\\n        WITH article, article_score, precedent, \\n             collect(DISTINCT keyword.text) as keywords,\\n             count(precedent) as precedent_count\\n        \\n        // 법조항 점수 = 벡터 점수 + 판례 인용 수에 따른 보너스\\n        WITH article, article_score + (precedent_count * 0.01) as final_score,\\n             precedent_count, keywords\\n        \\n        RETURN article.id as id, \\n               article.text as text, \\n               final_score as score,\\n               precedent_count,\\n               keywords\\n        ORDER BY final_score DESC\\n        LIMIT $top_k\\n        \"\n"
     ]
    },
    {
     "name": "stdout",
     "output_type": "stream",
     "text": [
      "Search completed in 2.27 seconds\n"
     ]
    },
    {
     "name": "stderr",
     "output_type": "stream",
     "text": [
      "Received notification from DBMS server: {severity: WARNING} {code: Neo.ClientNotification.Statement.AggregationSkippedNull} {category: UNRECOGNIZED} {title: The query contains an aggregation function that skips null values.} {description: null value eliminated in set function.} {position: None} for query: \"\\n        // 1. 벡터 검색으로 시작 법조항 찾기\\n        CALL db.index.vector.queryNodes('article_embedding', $top_k, $query_embedding) \\n        YIELD node as article, score as article_score\\n        \\n        // 2. 해당 법조항과 연결된 판례와 키워드 찾기\\n        OPTIONAL MATCH (precedent:Precedent)-[:REFERENCES_ARTICLE]->(article)\\n        OPTIONAL MATCH (precedent)-[:HAS_KEYWORD]->(keyword:Keyword)\\n        \\n        // 3. 결과 집계 및 점수 계산\\n        WITH article, article_score, precedent, \\n             collect(DISTINCT keyword.text) as keywords,\\n             count(precedent) as precedent_count\\n        \\n        // 법조항 점수 = 벡터 점수 + 판례 인용 수에 따른 보너스\\n        WITH article, article_score + (precedent_count * 0.01) as final_score,\\n             precedent_count, keywords\\n        \\n        RETURN article.id as id, \\n               article.text as text, \\n               final_score as score,\\n               precedent_count,\\n               keywords\\n        ORDER BY final_score DESC\\n        LIMIT $top_k\\n        \"\n"
     ]
    },
    {
     "name": "stdout",
     "output_type": "stream",
     "text": [
      "Search completed in 1.85 seconds\n"
     ]
    },
    {
     "name": "stderr",
     "output_type": "stream",
     "text": [
      "Received notification from DBMS server: {severity: WARNING} {code: Neo.ClientNotification.Statement.AggregationSkippedNull} {category: UNRECOGNIZED} {title: The query contains an aggregation function that skips null values.} {description: null value eliminated in set function.} {position: None} for query: \"\\n        // 1. 벡터 검색으로 시작 법조항 찾기\\n        CALL db.index.vector.queryNodes('article_embedding', $top_k, $query_embedding) \\n        YIELD node as article, score as article_score\\n        \\n        // 2. 해당 법조항과 연결된 판례와 키워드 찾기\\n        OPTIONAL MATCH (precedent:Precedent)-[:REFERENCES_ARTICLE]->(article)\\n        OPTIONAL MATCH (precedent)-[:HAS_KEYWORD]->(keyword:Keyword)\\n        \\n        // 3. 결과 집계 및 점수 계산\\n        WITH article, article_score, precedent, \\n             collect(DISTINCT keyword.text) as keywords,\\n             count(precedent) as precedent_count\\n        \\n        // 법조항 점수 = 벡터 점수 + 판례 인용 수에 따른 보너스\\n        WITH article, article_score + (precedent_count * 0.01) as final_score,\\n             precedent_count, keywords\\n        \\n        RETURN article.id as id, \\n               article.text as text, \\n               final_score as score,\\n               precedent_count,\\n               keywords\\n        ORDER BY final_score DESC\\n        LIMIT $top_k\\n        \"\n"
     ]
    },
    {
     "name": "stdout",
     "output_type": "stream",
     "text": [
      "Search completed in 0.96 seconds\n",
      "Search completed in 0.97 seconds\n"
     ]
    },
    {
     "name": "stderr",
     "output_type": "stream",
     "text": [
      "Received notification from DBMS server: {severity: WARNING} {code: Neo.ClientNotification.Statement.AggregationSkippedNull} {category: UNRECOGNIZED} {title: The query contains an aggregation function that skips null values.} {description: null value eliminated in set function.} {position: None} for query: \"\\n        // 1. 벡터 검색으로 시작 법조항 찾기\\n        CALL db.index.vector.queryNodes('article_embedding', $top_k, $query_embedding) \\n        YIELD node as article, score as article_score\\n        \\n        // 2. 해당 법조항과 연결된 판례와 키워드 찾기\\n        OPTIONAL MATCH (precedent:Precedent)-[:REFERENCES_ARTICLE]->(article)\\n        OPTIONAL MATCH (precedent)-[:HAS_KEYWORD]->(keyword:Keyword)\\n        \\n        // 3. 결과 집계 및 점수 계산\\n        WITH article, article_score, precedent, \\n             collect(DISTINCT keyword.text) as keywords,\\n             count(precedent) as precedent_count\\n        \\n        // 법조항 점수 = 벡터 점수 + 판례 인용 수에 따른 보너스\\n        WITH article, article_score + (precedent_count * 0.01) as final_score,\\n             precedent_count, keywords\\n        \\n        RETURN article.id as id, \\n               article.text as text, \\n               final_score as score,\\n               precedent_count,\\n               keywords\\n        ORDER BY final_score DESC\\n        LIMIT $top_k\\n        \"\n"
     ]
    },
    {
     "name": "stdout",
     "output_type": "stream",
     "text": [
      "Search completed in 0.93 seconds\n"
     ]
    },
    {
     "name": "stderr",
     "output_type": "stream",
     "text": [
      "Received notification from DBMS server: {severity: WARNING} {code: Neo.ClientNotification.Statement.AggregationSkippedNull} {category: UNRECOGNIZED} {title: The query contains an aggregation function that skips null values.} {description: null value eliminated in set function.} {position: None} for query: \"\\n        // 1. 벡터 검색으로 시작 법조항 찾기\\n        CALL db.index.vector.queryNodes('article_embedding', $top_k, $query_embedding) \\n        YIELD node as article, score as article_score\\n        \\n        // 2. 해당 법조항과 연결된 판례와 키워드 찾기\\n        OPTIONAL MATCH (precedent:Precedent)-[:REFERENCES_ARTICLE]->(article)\\n        OPTIONAL MATCH (precedent)-[:HAS_KEYWORD]->(keyword:Keyword)\\n        \\n        // 3. 결과 집계 및 점수 계산\\n        WITH article, article_score, precedent, \\n             collect(DISTINCT keyword.text) as keywords,\\n             count(precedent) as precedent_count\\n        \\n        // 법조항 점수 = 벡터 점수 + 판례 인용 수에 따른 보너스\\n        WITH article, article_score + (precedent_count * 0.01) as final_score,\\n             precedent_count, keywords\\n        \\n        RETURN article.id as id, \\n               article.text as text, \\n               final_score as score,\\n               precedent_count,\\n               keywords\\n        ORDER BY final_score DESC\\n        LIMIT $top_k\\n        \"\n"
     ]
    },
    {
     "name": "stdout",
     "output_type": "stream",
     "text": [
      "Search completed in 0.83 seconds\n"
     ]
    },
    {
     "name": "stderr",
     "output_type": "stream",
     "text": [
      "Received notification from DBMS server: {severity: WARNING} {code: Neo.ClientNotification.Statement.AggregationSkippedNull} {category: UNRECOGNIZED} {title: The query contains an aggregation function that skips null values.} {description: null value eliminated in set function.} {position: None} for query: \"\\n        // 1. 벡터 검색으로 시작 법조항 찾기\\n        CALL db.index.vector.queryNodes('article_embedding', $top_k, $query_embedding) \\n        YIELD node as article, score as article_score\\n        \\n        // 2. 해당 법조항과 연결된 판례와 키워드 찾기\\n        OPTIONAL MATCH (precedent:Precedent)-[:REFERENCES_ARTICLE]->(article)\\n        OPTIONAL MATCH (precedent)-[:HAS_KEYWORD]->(keyword:Keyword)\\n        \\n        // 3. 결과 집계 및 점수 계산\\n        WITH article, article_score, precedent, \\n             collect(DISTINCT keyword.text) as keywords,\\n             count(precedent) as precedent_count\\n        \\n        // 법조항 점수 = 벡터 점수 + 판례 인용 수에 따른 보너스\\n        WITH article, article_score + (precedent_count * 0.01) as final_score,\\n             precedent_count, keywords\\n        \\n        RETURN article.id as id, \\n               article.text as text, \\n               final_score as score,\\n               precedent_count,\\n               keywords\\n        ORDER BY final_score DESC\\n        LIMIT $top_k\\n        \"\n"
     ]
    },
    {
     "name": "stdout",
     "output_type": "stream",
     "text": [
      "Search completed in 1.83 seconds\n"
     ]
    },
    {
     "name": "stderr",
     "output_type": "stream",
     "text": [
      "Received notification from DBMS server: {severity: WARNING} {code: Neo.ClientNotification.Statement.AggregationSkippedNull} {category: UNRECOGNIZED} {title: The query contains an aggregation function that skips null values.} {description: null value eliminated in set function.} {position: None} for query: \"\\n        // 1. 벡터 검색으로 시작 법조항 찾기\\n        CALL db.index.vector.queryNodes('article_embedding', $top_k, $query_embedding) \\n        YIELD node as article, score as article_score\\n        \\n        // 2. 해당 법조항과 연결된 판례와 키워드 찾기\\n        OPTIONAL MATCH (precedent:Precedent)-[:REFERENCES_ARTICLE]->(article)\\n        OPTIONAL MATCH (precedent)-[:HAS_KEYWORD]->(keyword:Keyword)\\n        \\n        // 3. 결과 집계 및 점수 계산\\n        WITH article, article_score, precedent, \\n             collect(DISTINCT keyword.text) as keywords,\\n             count(precedent) as precedent_count\\n        \\n        // 법조항 점수 = 벡터 점수 + 판례 인용 수에 따른 보너스\\n        WITH article, article_score + (precedent_count * 0.01) as final_score,\\n             precedent_count, keywords\\n        \\n        RETURN article.id as id, \\n               article.text as text, \\n               final_score as score,\\n               precedent_count,\\n               keywords\\n        ORDER BY final_score DESC\\n        LIMIT $top_k\\n        \"\n"
     ]
    },
    {
     "name": "stdout",
     "output_type": "stream",
     "text": [
      "Search completed in 0.86 seconds\n"
     ]
    },
    {
     "name": "stderr",
     "output_type": "stream",
     "text": [
      "Received notification from DBMS server: {severity: WARNING} {code: Neo.ClientNotification.Statement.AggregationSkippedNull} {category: UNRECOGNIZED} {title: The query contains an aggregation function that skips null values.} {description: null value eliminated in set function.} {position: None} for query: \"\\n        // 1. 벡터 검색으로 시작 법조항 찾기\\n        CALL db.index.vector.queryNodes('article_embedding', $top_k, $query_embedding) \\n        YIELD node as article, score as article_score\\n        \\n        // 2. 해당 법조항과 연결된 판례와 키워드 찾기\\n        OPTIONAL MATCH (precedent:Precedent)-[:REFERENCES_ARTICLE]->(article)\\n        OPTIONAL MATCH (precedent)-[:HAS_KEYWORD]->(keyword:Keyword)\\n        \\n        // 3. 결과 집계 및 점수 계산\\n        WITH article, article_score, precedent, \\n             collect(DISTINCT keyword.text) as keywords,\\n             count(precedent) as precedent_count\\n        \\n        // 법조항 점수 = 벡터 점수 + 판례 인용 수에 따른 보너스\\n        WITH article, article_score + (precedent_count * 0.01) as final_score,\\n             precedent_count, keywords\\n        \\n        RETURN article.id as id, \\n               article.text as text, \\n               final_score as score,\\n               precedent_count,\\n               keywords\\n        ORDER BY final_score DESC\\n        LIMIT $top_k\\n        \"\n"
     ]
    },
    {
     "name": "stdout",
     "output_type": "stream",
     "text": [
      "Search completed in 1.36 seconds\n"
     ]
    },
    {
     "name": "stderr",
     "output_type": "stream",
     "text": [
      "Received notification from DBMS server: {severity: WARNING} {code: Neo.ClientNotification.Statement.AggregationSkippedNull} {category: UNRECOGNIZED} {title: The query contains an aggregation function that skips null values.} {description: null value eliminated in set function.} {position: None} for query: \"\\n        // 1. 벡터 검색으로 시작 법조항 찾기\\n        CALL db.index.vector.queryNodes('article_embedding', $top_k, $query_embedding) \\n        YIELD node as article, score as article_score\\n        \\n        // 2. 해당 법조항과 연결된 판례와 키워드 찾기\\n        OPTIONAL MATCH (precedent:Precedent)-[:REFERENCES_ARTICLE]->(article)\\n        OPTIONAL MATCH (precedent)-[:HAS_KEYWORD]->(keyword:Keyword)\\n        \\n        // 3. 결과 집계 및 점수 계산\\n        WITH article, article_score, precedent, \\n             collect(DISTINCT keyword.text) as keywords,\\n             count(precedent) as precedent_count\\n        \\n        // 법조항 점수 = 벡터 점수 + 판례 인용 수에 따른 보너스\\n        WITH article, article_score + (precedent_count * 0.01) as final_score,\\n             precedent_count, keywords\\n        \\n        RETURN article.id as id, \\n               article.text as text, \\n               final_score as score,\\n               precedent_count,\\n               keywords\\n        ORDER BY final_score DESC\\n        LIMIT $top_k\\n        \"\n"
     ]
    },
    {
     "name": "stdout",
     "output_type": "stream",
     "text": [
      "Search completed in 0.90 seconds\n"
     ]
    },
    {
     "name": "stderr",
     "output_type": "stream",
     "text": [
      "Received notification from DBMS server: {severity: WARNING} {code: Neo.ClientNotification.Statement.AggregationSkippedNull} {category: UNRECOGNIZED} {title: The query contains an aggregation function that skips null values.} {description: null value eliminated in set function.} {position: None} for query: \"\\n        // 1. 벡터 검색으로 시작 법조항 찾기\\n        CALL db.index.vector.queryNodes('article_embedding', $top_k, $query_embedding) \\n        YIELD node as article, score as article_score\\n        \\n        // 2. 해당 법조항과 연결된 판례와 키워드 찾기\\n        OPTIONAL MATCH (precedent:Precedent)-[:REFERENCES_ARTICLE]->(article)\\n        OPTIONAL MATCH (precedent)-[:HAS_KEYWORD]->(keyword:Keyword)\\n        \\n        // 3. 결과 집계 및 점수 계산\\n        WITH article, article_score, precedent, \\n             collect(DISTINCT keyword.text) as keywords,\\n             count(precedent) as precedent_count\\n        \\n        // 법조항 점수 = 벡터 점수 + 판례 인용 수에 따른 보너스\\n        WITH article, article_score + (precedent_count * 0.01) as final_score,\\n             precedent_count, keywords\\n        \\n        RETURN article.id as id, \\n               article.text as text, \\n               final_score as score,\\n               precedent_count,\\n               keywords\\n        ORDER BY final_score DESC\\n        LIMIT $top_k\\n        \"\n"
     ]
    },
    {
     "name": "stdout",
     "output_type": "stream",
     "text": [
      "Search completed in 1.05 seconds\n",
      "Search completed in 1.43 seconds\n",
      "Search completed in 0.80 seconds\n"
     ]
    },
    {
     "name": "stderr",
     "output_type": "stream",
     "text": [
      "Received notification from DBMS server: {severity: WARNING} {code: Neo.ClientNotification.Statement.AggregationSkippedNull} {category: UNRECOGNIZED} {title: The query contains an aggregation function that skips null values.} {description: null value eliminated in set function.} {position: None} for query: \"\\n        // 1. 벡터 검색으로 시작 법조항 찾기\\n        CALL db.index.vector.queryNodes('article_embedding', $top_k, $query_embedding) \\n        YIELD node as article, score as article_score\\n        \\n        // 2. 해당 법조항과 연결된 판례와 키워드 찾기\\n        OPTIONAL MATCH (precedent:Precedent)-[:REFERENCES_ARTICLE]->(article)\\n        OPTIONAL MATCH (precedent)-[:HAS_KEYWORD]->(keyword:Keyword)\\n        \\n        // 3. 결과 집계 및 점수 계산\\n        WITH article, article_score, precedent, \\n             collect(DISTINCT keyword.text) as keywords,\\n             count(precedent) as precedent_count\\n        \\n        // 법조항 점수 = 벡터 점수 + 판례 인용 수에 따른 보너스\\n        WITH article, article_score + (precedent_count * 0.01) as final_score,\\n             precedent_count, keywords\\n        \\n        RETURN article.id as id, \\n               article.text as text, \\n               final_score as score,\\n               precedent_count,\\n               keywords\\n        ORDER BY final_score DESC\\n        LIMIT $top_k\\n        \"\n"
     ]
    },
    {
     "name": "stdout",
     "output_type": "stream",
     "text": [
      "Search completed in 0.90 seconds\n",
      "Search completed in 1.43 seconds\n",
      "Search completed in 1.24 seconds\n",
      "Search completed in 1.10 seconds\n"
     ]
    },
    {
     "name": "stderr",
     "output_type": "stream",
     "text": [
      "Received notification from DBMS server: {severity: WARNING} {code: Neo.ClientNotification.Statement.AggregationSkippedNull} {category: UNRECOGNIZED} {title: The query contains an aggregation function that skips null values.} {description: null value eliminated in set function.} {position: None} for query: \"\\n        // 1. 벡터 검색으로 시작 법조항 찾기\\n        CALL db.index.vector.queryNodes('article_embedding', $top_k, $query_embedding) \\n        YIELD node as article, score as article_score\\n        \\n        // 2. 해당 법조항과 연결된 판례와 키워드 찾기\\n        OPTIONAL MATCH (precedent:Precedent)-[:REFERENCES_ARTICLE]->(article)\\n        OPTIONAL MATCH (precedent)-[:HAS_KEYWORD]->(keyword:Keyword)\\n        \\n        // 3. 결과 집계 및 점수 계산\\n        WITH article, article_score, precedent, \\n             collect(DISTINCT keyword.text) as keywords,\\n             count(precedent) as precedent_count\\n        \\n        // 법조항 점수 = 벡터 점수 + 판례 인용 수에 따른 보너스\\n        WITH article, article_score + (precedent_count * 0.01) as final_score,\\n             precedent_count, keywords\\n        \\n        RETURN article.id as id, \\n               article.text as text, \\n               final_score as score,\\n               precedent_count,\\n               keywords\\n        ORDER BY final_score DESC\\n        LIMIT $top_k\\n        \"\n"
     ]
    },
    {
     "name": "stdout",
     "output_type": "stream",
     "text": [
      "Search completed in 1.41 seconds\n"
     ]
    },
    {
     "name": "stderr",
     "output_type": "stream",
     "text": [
      "Received notification from DBMS server: {severity: WARNING} {code: Neo.ClientNotification.Statement.AggregationSkippedNull} {category: UNRECOGNIZED} {title: The query contains an aggregation function that skips null values.} {description: null value eliminated in set function.} {position: None} for query: \"\\n        // 1. 벡터 검색으로 시작 법조항 찾기\\n        CALL db.index.vector.queryNodes('article_embedding', $top_k, $query_embedding) \\n        YIELD node as article, score as article_score\\n        \\n        // 2. 해당 법조항과 연결된 판례와 키워드 찾기\\n        OPTIONAL MATCH (precedent:Precedent)-[:REFERENCES_ARTICLE]->(article)\\n        OPTIONAL MATCH (precedent)-[:HAS_KEYWORD]->(keyword:Keyword)\\n        \\n        // 3. 결과 집계 및 점수 계산\\n        WITH article, article_score, precedent, \\n             collect(DISTINCT keyword.text) as keywords,\\n             count(precedent) as precedent_count\\n        \\n        // 법조항 점수 = 벡터 점수 + 판례 인용 수에 따른 보너스\\n        WITH article, article_score + (precedent_count * 0.01) as final_score,\\n             precedent_count, keywords\\n        \\n        RETURN article.id as id, \\n               article.text as text, \\n               final_score as score,\\n               precedent_count,\\n               keywords\\n        ORDER BY final_score DESC\\n        LIMIT $top_k\\n        \"\n"
     ]
    },
    {
     "name": "stdout",
     "output_type": "stream",
     "text": [
      "Search completed in 1.20 seconds\n",
      "Search completed in 0.78 seconds\n",
      "Search completed in 1.89 seconds\n"
     ]
    },
    {
     "name": "stderr",
     "output_type": "stream",
     "text": [
      "Received notification from DBMS server: {severity: WARNING} {code: Neo.ClientNotification.Statement.AggregationSkippedNull} {category: UNRECOGNIZED} {title: The query contains an aggregation function that skips null values.} {description: null value eliminated in set function.} {position: None} for query: \"\\n        // 1. 벡터 검색으로 시작 법조항 찾기\\n        CALL db.index.vector.queryNodes('article_embedding', $top_k, $query_embedding) \\n        YIELD node as article, score as article_score\\n        \\n        // 2. 해당 법조항과 연결된 판례와 키워드 찾기\\n        OPTIONAL MATCH (precedent:Precedent)-[:REFERENCES_ARTICLE]->(article)\\n        OPTIONAL MATCH (precedent)-[:HAS_KEYWORD]->(keyword:Keyword)\\n        \\n        // 3. 결과 집계 및 점수 계산\\n        WITH article, article_score, precedent, \\n             collect(DISTINCT keyword.text) as keywords,\\n             count(precedent) as precedent_count\\n        \\n        // 법조항 점수 = 벡터 점수 + 판례 인용 수에 따른 보너스\\n        WITH article, article_score + (precedent_count * 0.01) as final_score,\\n             precedent_count, keywords\\n        \\n        RETURN article.id as id, \\n               article.text as text, \\n               final_score as score,\\n               precedent_count,\\n               keywords\\n        ORDER BY final_score DESC\\n        LIMIT $top_k\\n        \"\n"
     ]
    },
    {
     "name": "stdout",
     "output_type": "stream",
     "text": [
      "Search completed in 1.62 seconds\n",
      "Search completed in 1.78 seconds\n",
      "Search completed in 1.18 seconds\n",
      "Search completed in 1.12 seconds\n"
     ]
    },
    {
     "name": "stderr",
     "output_type": "stream",
     "text": [
      "Received notification from DBMS server: {severity: WARNING} {code: Neo.ClientNotification.Statement.AggregationSkippedNull} {category: UNRECOGNIZED} {title: The query contains an aggregation function that skips null values.} {description: null value eliminated in set function.} {position: None} for query: \"\\n        // 1. 벡터 검색으로 시작 법조항 찾기\\n        CALL db.index.vector.queryNodes('article_embedding', $top_k, $query_embedding) \\n        YIELD node as article, score as article_score\\n        \\n        // 2. 해당 법조항과 연결된 판례와 키워드 찾기\\n        OPTIONAL MATCH (precedent:Precedent)-[:REFERENCES_ARTICLE]->(article)\\n        OPTIONAL MATCH (precedent)-[:HAS_KEYWORD]->(keyword:Keyword)\\n        \\n        // 3. 결과 집계 및 점수 계산\\n        WITH article, article_score, precedent, \\n             collect(DISTINCT keyword.text) as keywords,\\n             count(precedent) as precedent_count\\n        \\n        // 법조항 점수 = 벡터 점수 + 판례 인용 수에 따른 보너스\\n        WITH article, article_score + (precedent_count * 0.01) as final_score,\\n             precedent_count, keywords\\n        \\n        RETURN article.id as id, \\n               article.text as text, \\n               final_score as score,\\n               precedent_count,\\n               keywords\\n        ORDER BY final_score DESC\\n        LIMIT $top_k\\n        \"\n"
     ]
    },
    {
     "name": "stdout",
     "output_type": "stream",
     "text": [
      "Search completed in 0.80 seconds\n"
     ]
    },
    {
     "name": "stderr",
     "output_type": "stream",
     "text": [
      "Received notification from DBMS server: {severity: WARNING} {code: Neo.ClientNotification.Statement.AggregationSkippedNull} {category: UNRECOGNIZED} {title: The query contains an aggregation function that skips null values.} {description: null value eliminated in set function.} {position: None} for query: \"\\n        // 1. 벡터 검색으로 시작 법조항 찾기\\n        CALL db.index.vector.queryNodes('article_embedding', $top_k, $query_embedding) \\n        YIELD node as article, score as article_score\\n        \\n        // 2. 해당 법조항과 연결된 판례와 키워드 찾기\\n        OPTIONAL MATCH (precedent:Precedent)-[:REFERENCES_ARTICLE]->(article)\\n        OPTIONAL MATCH (precedent)-[:HAS_KEYWORD]->(keyword:Keyword)\\n        \\n        // 3. 결과 집계 및 점수 계산\\n        WITH article, article_score, precedent, \\n             collect(DISTINCT keyword.text) as keywords,\\n             count(precedent) as precedent_count\\n        \\n        // 법조항 점수 = 벡터 점수 + 판례 인용 수에 따른 보너스\\n        WITH article, article_score + (precedent_count * 0.01) as final_score,\\n             precedent_count, keywords\\n        \\n        RETURN article.id as id, \\n               article.text as text, \\n               final_score as score,\\n               precedent_count,\\n               keywords\\n        ORDER BY final_score DESC\\n        LIMIT $top_k\\n        \"\n"
     ]
    },
    {
     "name": "stdout",
     "output_type": "stream",
     "text": [
      "Search completed in 0.85 seconds\n"
     ]
    },
    {
     "name": "stderr",
     "output_type": "stream",
     "text": [
      "Received notification from DBMS server: {severity: WARNING} {code: Neo.ClientNotification.Statement.AggregationSkippedNull} {category: UNRECOGNIZED} {title: The query contains an aggregation function that skips null values.} {description: null value eliminated in set function.} {position: None} for query: \"\\n        // 1. 벡터 검색으로 시작 법조항 찾기\\n        CALL db.index.vector.queryNodes('article_embedding', $top_k, $query_embedding) \\n        YIELD node as article, score as article_score\\n        \\n        // 2. 해당 법조항과 연결된 판례와 키워드 찾기\\n        OPTIONAL MATCH (precedent:Precedent)-[:REFERENCES_ARTICLE]->(article)\\n        OPTIONAL MATCH (precedent)-[:HAS_KEYWORD]->(keyword:Keyword)\\n        \\n        // 3. 결과 집계 및 점수 계산\\n        WITH article, article_score, precedent, \\n             collect(DISTINCT keyword.text) as keywords,\\n             count(precedent) as precedent_count\\n        \\n        // 법조항 점수 = 벡터 점수 + 판례 인용 수에 따른 보너스\\n        WITH article, article_score + (precedent_count * 0.01) as final_score,\\n             precedent_count, keywords\\n        \\n        RETURN article.id as id, \\n               article.text as text, \\n               final_score as score,\\n               precedent_count,\\n               keywords\\n        ORDER BY final_score DESC\\n        LIMIT $top_k\\n        \"\n"
     ]
    },
    {
     "name": "stdout",
     "output_type": "stream",
     "text": [
      "Search completed in 0.96 seconds\n"
     ]
    },
    {
     "name": "stderr",
     "output_type": "stream",
     "text": [
      "Received notification from DBMS server: {severity: WARNING} {code: Neo.ClientNotification.Statement.AggregationSkippedNull} {category: UNRECOGNIZED} {title: The query contains an aggregation function that skips null values.} {description: null value eliminated in set function.} {position: None} for query: \"\\n        // 1. 벡터 검색으로 시작 법조항 찾기\\n        CALL db.index.vector.queryNodes('article_embedding', $top_k, $query_embedding) \\n        YIELD node as article, score as article_score\\n        \\n        // 2. 해당 법조항과 연결된 판례와 키워드 찾기\\n        OPTIONAL MATCH (precedent:Precedent)-[:REFERENCES_ARTICLE]->(article)\\n        OPTIONAL MATCH (precedent)-[:HAS_KEYWORD]->(keyword:Keyword)\\n        \\n        // 3. 결과 집계 및 점수 계산\\n        WITH article, article_score, precedent, \\n             collect(DISTINCT keyword.text) as keywords,\\n             count(precedent) as precedent_count\\n        \\n        // 법조항 점수 = 벡터 점수 + 판례 인용 수에 따른 보너스\\n        WITH article, article_score + (precedent_count * 0.01) as final_score,\\n             precedent_count, keywords\\n        \\n        RETURN article.id as id, \\n               article.text as text, \\n               final_score as score,\\n               precedent_count,\\n               keywords\\n        ORDER BY final_score DESC\\n        LIMIT $top_k\\n        \"\n"
     ]
    },
    {
     "name": "stdout",
     "output_type": "stream",
     "text": [
      "Search completed in 0.74 seconds\n"
     ]
    },
    {
     "name": "stderr",
     "output_type": "stream",
     "text": [
      "Received notification from DBMS server: {severity: WARNING} {code: Neo.ClientNotification.Statement.AggregationSkippedNull} {category: UNRECOGNIZED} {title: The query contains an aggregation function that skips null values.} {description: null value eliminated in set function.} {position: None} for query: \"\\n        // 1. 벡터 검색으로 시작 법조항 찾기\\n        CALL db.index.vector.queryNodes('article_embedding', $top_k, $query_embedding) \\n        YIELD node as article, score as article_score\\n        \\n        // 2. 해당 법조항과 연결된 판례와 키워드 찾기\\n        OPTIONAL MATCH (precedent:Precedent)-[:REFERENCES_ARTICLE]->(article)\\n        OPTIONAL MATCH (precedent)-[:HAS_KEYWORD]->(keyword:Keyword)\\n        \\n        // 3. 결과 집계 및 점수 계산\\n        WITH article, article_score, precedent, \\n             collect(DISTINCT keyword.text) as keywords,\\n             count(precedent) as precedent_count\\n        \\n        // 법조항 점수 = 벡터 점수 + 판례 인용 수에 따른 보너스\\n        WITH article, article_score + (precedent_count * 0.01) as final_score,\\n             precedent_count, keywords\\n        \\n        RETURN article.id as id, \\n               article.text as text, \\n               final_score as score,\\n               precedent_count,\\n               keywords\\n        ORDER BY final_score DESC\\n        LIMIT $top_k\\n        \"\n"
     ]
    },
    {
     "name": "stdout",
     "output_type": "stream",
     "text": [
      "Search completed in 1.51 seconds\n"
     ]
    },
    {
     "name": "stderr",
     "output_type": "stream",
     "text": [
      "Received notification from DBMS server: {severity: WARNING} {code: Neo.ClientNotification.Statement.AggregationSkippedNull} {category: UNRECOGNIZED} {title: The query contains an aggregation function that skips null values.} {description: null value eliminated in set function.} {position: None} for query: \"\\n        // 1. 벡터 검색으로 시작 법조항 찾기\\n        CALL db.index.vector.queryNodes('article_embedding', $top_k, $query_embedding) \\n        YIELD node as article, score as article_score\\n        \\n        // 2. 해당 법조항과 연결된 판례와 키워드 찾기\\n        OPTIONAL MATCH (precedent:Precedent)-[:REFERENCES_ARTICLE]->(article)\\n        OPTIONAL MATCH (precedent)-[:HAS_KEYWORD]->(keyword:Keyword)\\n        \\n        // 3. 결과 집계 및 점수 계산\\n        WITH article, article_score, precedent, \\n             collect(DISTINCT keyword.text) as keywords,\\n             count(precedent) as precedent_count\\n        \\n        // 법조항 점수 = 벡터 점수 + 판례 인용 수에 따른 보너스\\n        WITH article, article_score + (precedent_count * 0.01) as final_score,\\n             precedent_count, keywords\\n        \\n        RETURN article.id as id, \\n               article.text as text, \\n               final_score as score,\\n               precedent_count,\\n               keywords\\n        ORDER BY final_score DESC\\n        LIMIT $top_k\\n        \"\n"
     ]
    },
    {
     "name": "stdout",
     "output_type": "stream",
     "text": [
      "Search completed in 1.21 seconds\n",
      "Search completed in 1.17 seconds\n",
      "Search completed in 1.25 seconds\n",
      "Search completed in 1.53 seconds\n",
      "Search completed in 1.05 seconds\n"
     ]
    },
    {
     "name": "stderr",
     "output_type": "stream",
     "text": [
      "Received notification from DBMS server: {severity: WARNING} {code: Neo.ClientNotification.Statement.AggregationSkippedNull} {category: UNRECOGNIZED} {title: The query contains an aggregation function that skips null values.} {description: null value eliminated in set function.} {position: None} for query: \"\\n        // 1. 벡터 검색으로 시작 법조항 찾기\\n        CALL db.index.vector.queryNodes('article_embedding', $top_k, $query_embedding) \\n        YIELD node as article, score as article_score\\n        \\n        // 2. 해당 법조항과 연결된 판례와 키워드 찾기\\n        OPTIONAL MATCH (precedent:Precedent)-[:REFERENCES_ARTICLE]->(article)\\n        OPTIONAL MATCH (precedent)-[:HAS_KEYWORD]->(keyword:Keyword)\\n        \\n        // 3. 결과 집계 및 점수 계산\\n        WITH article, article_score, precedent, \\n             collect(DISTINCT keyword.text) as keywords,\\n             count(precedent) as precedent_count\\n        \\n        // 법조항 점수 = 벡터 점수 + 판례 인용 수에 따른 보너스\\n        WITH article, article_score + (precedent_count * 0.01) as final_score,\\n             precedent_count, keywords\\n        \\n        RETURN article.id as id, \\n               article.text as text, \\n               final_score as score,\\n               precedent_count,\\n               keywords\\n        ORDER BY final_score DESC\\n        LIMIT $top_k\\n        \"\n"
     ]
    },
    {
     "name": "stdout",
     "output_type": "stream",
     "text": [
      "Search completed in 0.80 seconds\n"
     ]
    },
    {
     "name": "stderr",
     "output_type": "stream",
     "text": [
      "Received notification from DBMS server: {severity: WARNING} {code: Neo.ClientNotification.Statement.AggregationSkippedNull} {category: UNRECOGNIZED} {title: The query contains an aggregation function that skips null values.} {description: null value eliminated in set function.} {position: None} for query: \"\\n        // 1. 벡터 검색으로 시작 법조항 찾기\\n        CALL db.index.vector.queryNodes('article_embedding', $top_k, $query_embedding) \\n        YIELD node as article, score as article_score\\n        \\n        // 2. 해당 법조항과 연결된 판례와 키워드 찾기\\n        OPTIONAL MATCH (precedent:Precedent)-[:REFERENCES_ARTICLE]->(article)\\n        OPTIONAL MATCH (precedent)-[:HAS_KEYWORD]->(keyword:Keyword)\\n        \\n        // 3. 결과 집계 및 점수 계산\\n        WITH article, article_score, precedent, \\n             collect(DISTINCT keyword.text) as keywords,\\n             count(precedent) as precedent_count\\n        \\n        // 법조항 점수 = 벡터 점수 + 판례 인용 수에 따른 보너스\\n        WITH article, article_score + (precedent_count * 0.01) as final_score,\\n             precedent_count, keywords\\n        \\n        RETURN article.id as id, \\n               article.text as text, \\n               final_score as score,\\n               precedent_count,\\n               keywords\\n        ORDER BY final_score DESC\\n        LIMIT $top_k\\n        \"\n"
     ]
    },
    {
     "name": "stdout",
     "output_type": "stream",
     "text": [
      "Search completed in 1.11 seconds\n"
     ]
    },
    {
     "name": "stderr",
     "output_type": "stream",
     "text": [
      "Received notification from DBMS server: {severity: WARNING} {code: Neo.ClientNotification.Statement.AggregationSkippedNull} {category: UNRECOGNIZED} {title: The query contains an aggregation function that skips null values.} {description: null value eliminated in set function.} {position: None} for query: \"\\n        // 1. 벡터 검색으로 시작 법조항 찾기\\n        CALL db.index.vector.queryNodes('article_embedding', $top_k, $query_embedding) \\n        YIELD node as article, score as article_score\\n        \\n        // 2. 해당 법조항과 연결된 판례와 키워드 찾기\\n        OPTIONAL MATCH (precedent:Precedent)-[:REFERENCES_ARTICLE]->(article)\\n        OPTIONAL MATCH (precedent)-[:HAS_KEYWORD]->(keyword:Keyword)\\n        \\n        // 3. 결과 집계 및 점수 계산\\n        WITH article, article_score, precedent, \\n             collect(DISTINCT keyword.text) as keywords,\\n             count(precedent) as precedent_count\\n        \\n        // 법조항 점수 = 벡터 점수 + 판례 인용 수에 따른 보너스\\n        WITH article, article_score + (precedent_count * 0.01) as final_score,\\n             precedent_count, keywords\\n        \\n        RETURN article.id as id, \\n               article.text as text, \\n               final_score as score,\\n               precedent_count,\\n               keywords\\n        ORDER BY final_score DESC\\n        LIMIT $top_k\\n        \"\n"
     ]
    },
    {
     "name": "stdout",
     "output_type": "stream",
     "text": [
      "Search completed in 1.71 seconds\n",
      "Search completed in 0.83 seconds\n",
      "Search completed in 1.07 seconds\n"
     ]
    },
    {
     "name": "stderr",
     "output_type": "stream",
     "text": [
      "Received notification from DBMS server: {severity: WARNING} {code: Neo.ClientNotification.Statement.AggregationSkippedNull} {category: UNRECOGNIZED} {title: The query contains an aggregation function that skips null values.} {description: null value eliminated in set function.} {position: None} for query: \"\\n        // 1. 벡터 검색으로 시작 법조항 찾기\\n        CALL db.index.vector.queryNodes('article_embedding', $top_k, $query_embedding) \\n        YIELD node as article, score as article_score\\n        \\n        // 2. 해당 법조항과 연결된 판례와 키워드 찾기\\n        OPTIONAL MATCH (precedent:Precedent)-[:REFERENCES_ARTICLE]->(article)\\n        OPTIONAL MATCH (precedent)-[:HAS_KEYWORD]->(keyword:Keyword)\\n        \\n        // 3. 결과 집계 및 점수 계산\\n        WITH article, article_score, precedent, \\n             collect(DISTINCT keyword.text) as keywords,\\n             count(precedent) as precedent_count\\n        \\n        // 법조항 점수 = 벡터 점수 + 판례 인용 수에 따른 보너스\\n        WITH article, article_score + (precedent_count * 0.01) as final_score,\\n             precedent_count, keywords\\n        \\n        RETURN article.id as id, \\n               article.text as text, \\n               final_score as score,\\n               precedent_count,\\n               keywords\\n        ORDER BY final_score DESC\\n        LIMIT $top_k\\n        \"\n"
     ]
    },
    {
     "name": "stdout",
     "output_type": "stream",
     "text": [
      "Search completed in 0.76 seconds\n"
     ]
    },
    {
     "name": "stderr",
     "output_type": "stream",
     "text": [
      "Received notification from DBMS server: {severity: WARNING} {code: Neo.ClientNotification.Statement.AggregationSkippedNull} {category: UNRECOGNIZED} {title: The query contains an aggregation function that skips null values.} {description: null value eliminated in set function.} {position: None} for query: \"\\n        // 1. 벡터 검색으로 시작 법조항 찾기\\n        CALL db.index.vector.queryNodes('article_embedding', $top_k, $query_embedding) \\n        YIELD node as article, score as article_score\\n        \\n        // 2. 해당 법조항과 연결된 판례와 키워드 찾기\\n        OPTIONAL MATCH (precedent:Precedent)-[:REFERENCES_ARTICLE]->(article)\\n        OPTIONAL MATCH (precedent)-[:HAS_KEYWORD]->(keyword:Keyword)\\n        \\n        // 3. 결과 집계 및 점수 계산\\n        WITH article, article_score, precedent, \\n             collect(DISTINCT keyword.text) as keywords,\\n             count(precedent) as precedent_count\\n        \\n        // 법조항 점수 = 벡터 점수 + 판례 인용 수에 따른 보너스\\n        WITH article, article_score + (precedent_count * 0.01) as final_score,\\n             precedent_count, keywords\\n        \\n        RETURN article.id as id, \\n               article.text as text, \\n               final_score as score,\\n               precedent_count,\\n               keywords\\n        ORDER BY final_score DESC\\n        LIMIT $top_k\\n        \"\n"
     ]
    },
    {
     "name": "stdout",
     "output_type": "stream",
     "text": [
      "Search completed in 1.05 seconds\n"
     ]
    },
    {
     "name": "stderr",
     "output_type": "stream",
     "text": [
      "Received notification from DBMS server: {severity: WARNING} {code: Neo.ClientNotification.Statement.AggregationSkippedNull} {category: UNRECOGNIZED} {title: The query contains an aggregation function that skips null values.} {description: null value eliminated in set function.} {position: None} for query: \"\\n        // 1. 벡터 검색으로 시작 법조항 찾기\\n        CALL db.index.vector.queryNodes('article_embedding', $top_k, $query_embedding) \\n        YIELD node as article, score as article_score\\n        \\n        // 2. 해당 법조항과 연결된 판례와 키워드 찾기\\n        OPTIONAL MATCH (precedent:Precedent)-[:REFERENCES_ARTICLE]->(article)\\n        OPTIONAL MATCH (precedent)-[:HAS_KEYWORD]->(keyword:Keyword)\\n        \\n        // 3. 결과 집계 및 점수 계산\\n        WITH article, article_score, precedent, \\n             collect(DISTINCT keyword.text) as keywords,\\n             count(precedent) as precedent_count\\n        \\n        // 법조항 점수 = 벡터 점수 + 판례 인용 수에 따른 보너스\\n        WITH article, article_score + (precedent_count * 0.01) as final_score,\\n             precedent_count, keywords\\n        \\n        RETURN article.id as id, \\n               article.text as text, \\n               final_score as score,\\n               precedent_count,\\n               keywords\\n        ORDER BY final_score DESC\\n        LIMIT $top_k\\n        \"\n"
     ]
    },
    {
     "name": "stdout",
     "output_type": "stream",
     "text": [
      "Search completed in 1.06 seconds\n",
      "Search completed in 1.52 seconds\n"
     ]
    },
    {
     "name": "stderr",
     "output_type": "stream",
     "text": [
      "Received notification from DBMS server: {severity: WARNING} {code: Neo.ClientNotification.Statement.AggregationSkippedNull} {category: UNRECOGNIZED} {title: The query contains an aggregation function that skips null values.} {description: null value eliminated in set function.} {position: None} for query: \"\\n        // 1. 벡터 검색으로 시작 법조항 찾기\\n        CALL db.index.vector.queryNodes('article_embedding', $top_k, $query_embedding) \\n        YIELD node as article, score as article_score\\n        \\n        // 2. 해당 법조항과 연결된 판례와 키워드 찾기\\n        OPTIONAL MATCH (precedent:Precedent)-[:REFERENCES_ARTICLE]->(article)\\n        OPTIONAL MATCH (precedent)-[:HAS_KEYWORD]->(keyword:Keyword)\\n        \\n        // 3. 결과 집계 및 점수 계산\\n        WITH article, article_score, precedent, \\n             collect(DISTINCT keyword.text) as keywords,\\n             count(precedent) as precedent_count\\n        \\n        // 법조항 점수 = 벡터 점수 + 판례 인용 수에 따른 보너스\\n        WITH article, article_score + (precedent_count * 0.01) as final_score,\\n             precedent_count, keywords\\n        \\n        RETURN article.id as id, \\n               article.text as text, \\n               final_score as score,\\n               precedent_count,\\n               keywords\\n        ORDER BY final_score DESC\\n        LIMIT $top_k\\n        \"\n"
     ]
    },
    {
     "name": "stdout",
     "output_type": "stream",
     "text": [
      "Search completed in 1.06 seconds\n",
      "Search completed in 1.54 seconds\n",
      "Search completed in 0.91 seconds\n"
     ]
    },
    {
     "name": "stderr",
     "output_type": "stream",
     "text": [
      "Received notification from DBMS server: {severity: WARNING} {code: Neo.ClientNotification.Statement.AggregationSkippedNull} {category: UNRECOGNIZED} {title: The query contains an aggregation function that skips null values.} {description: null value eliminated in set function.} {position: None} for query: \"\\n        // 1. 벡터 검색으로 시작 법조항 찾기\\n        CALL db.index.vector.queryNodes('article_embedding', $top_k, $query_embedding) \\n        YIELD node as article, score as article_score\\n        \\n        // 2. 해당 법조항과 연결된 판례와 키워드 찾기\\n        OPTIONAL MATCH (precedent:Precedent)-[:REFERENCES_ARTICLE]->(article)\\n        OPTIONAL MATCH (precedent)-[:HAS_KEYWORD]->(keyword:Keyword)\\n        \\n        // 3. 결과 집계 및 점수 계산\\n        WITH article, article_score, precedent, \\n             collect(DISTINCT keyword.text) as keywords,\\n             count(precedent) as precedent_count\\n        \\n        // 법조항 점수 = 벡터 점수 + 판례 인용 수에 따른 보너스\\n        WITH article, article_score + (precedent_count * 0.01) as final_score,\\n             precedent_count, keywords\\n        \\n        RETURN article.id as id, \\n               article.text as text, \\n               final_score as score,\\n               precedent_count,\\n               keywords\\n        ORDER BY final_score DESC\\n        LIMIT $top_k\\n        \"\n"
     ]
    },
    {
     "name": "stdout",
     "output_type": "stream",
     "text": [
      "Search completed in 0.83 seconds\n"
     ]
    },
    {
     "name": "stderr",
     "output_type": "stream",
     "text": [
      "Received notification from DBMS server: {severity: WARNING} {code: Neo.ClientNotification.Statement.AggregationSkippedNull} {category: UNRECOGNIZED} {title: The query contains an aggregation function that skips null values.} {description: null value eliminated in set function.} {position: None} for query: \"\\n        // 1. 벡터 검색으로 시작 법조항 찾기\\n        CALL db.index.vector.queryNodes('article_embedding', $top_k, $query_embedding) \\n        YIELD node as article, score as article_score\\n        \\n        // 2. 해당 법조항과 연결된 판례와 키워드 찾기\\n        OPTIONAL MATCH (precedent:Precedent)-[:REFERENCES_ARTICLE]->(article)\\n        OPTIONAL MATCH (precedent)-[:HAS_KEYWORD]->(keyword:Keyword)\\n        \\n        // 3. 결과 집계 및 점수 계산\\n        WITH article, article_score, precedent, \\n             collect(DISTINCT keyword.text) as keywords,\\n             count(precedent) as precedent_count\\n        \\n        // 법조항 점수 = 벡터 점수 + 판례 인용 수에 따른 보너스\\n        WITH article, article_score + (precedent_count * 0.01) as final_score,\\n             precedent_count, keywords\\n        \\n        RETURN article.id as id, \\n               article.text as text, \\n               final_score as score,\\n               precedent_count,\\n               keywords\\n        ORDER BY final_score DESC\\n        LIMIT $top_k\\n        \"\n"
     ]
    },
    {
     "name": "stdout",
     "output_type": "stream",
     "text": [
      "Search completed in 0.99 seconds\n"
     ]
    },
    {
     "name": "stderr",
     "output_type": "stream",
     "text": [
      "Received notification from DBMS server: {severity: WARNING} {code: Neo.ClientNotification.Statement.AggregationSkippedNull} {category: UNRECOGNIZED} {title: The query contains an aggregation function that skips null values.} {description: null value eliminated in set function.} {position: None} for query: \"\\n        // 1. 벡터 검색으로 시작 법조항 찾기\\n        CALL db.index.vector.queryNodes('article_embedding', $top_k, $query_embedding) \\n        YIELD node as article, score as article_score\\n        \\n        // 2. 해당 법조항과 연결된 판례와 키워드 찾기\\n        OPTIONAL MATCH (precedent:Precedent)-[:REFERENCES_ARTICLE]->(article)\\n        OPTIONAL MATCH (precedent)-[:HAS_KEYWORD]->(keyword:Keyword)\\n        \\n        // 3. 결과 집계 및 점수 계산\\n        WITH article, article_score, precedent, \\n             collect(DISTINCT keyword.text) as keywords,\\n             count(precedent) as precedent_count\\n        \\n        // 법조항 점수 = 벡터 점수 + 판례 인용 수에 따른 보너스\\n        WITH article, article_score + (precedent_count * 0.01) as final_score,\\n             precedent_count, keywords\\n        \\n        RETURN article.id as id, \\n               article.text as text, \\n               final_score as score,\\n               precedent_count,\\n               keywords\\n        ORDER BY final_score DESC\\n        LIMIT $top_k\\n        \"\n"
     ]
    },
    {
     "name": "stdout",
     "output_type": "stream",
     "text": [
      "Search completed in 1.72 seconds\n",
      "Search completed in 1.04 seconds\n"
     ]
    },
    {
     "name": "stderr",
     "output_type": "stream",
     "text": [
      "Received notification from DBMS server: {severity: WARNING} {code: Neo.ClientNotification.Statement.AggregationSkippedNull} {category: UNRECOGNIZED} {title: The query contains an aggregation function that skips null values.} {description: null value eliminated in set function.} {position: None} for query: \"\\n        // 1. 벡터 검색으로 시작 법조항 찾기\\n        CALL db.index.vector.queryNodes('article_embedding', $top_k, $query_embedding) \\n        YIELD node as article, score as article_score\\n        \\n        // 2. 해당 법조항과 연결된 판례와 키워드 찾기\\n        OPTIONAL MATCH (precedent:Precedent)-[:REFERENCES_ARTICLE]->(article)\\n        OPTIONAL MATCH (precedent)-[:HAS_KEYWORD]->(keyword:Keyword)\\n        \\n        // 3. 결과 집계 및 점수 계산\\n        WITH article, article_score, precedent, \\n             collect(DISTINCT keyword.text) as keywords,\\n             count(precedent) as precedent_count\\n        \\n        // 법조항 점수 = 벡터 점수 + 판례 인용 수에 따른 보너스\\n        WITH article, article_score + (precedent_count * 0.01) as final_score,\\n             precedent_count, keywords\\n        \\n        RETURN article.id as id, \\n               article.text as text, \\n               final_score as score,\\n               precedent_count,\\n               keywords\\n        ORDER BY final_score DESC\\n        LIMIT $top_k\\n        \"\n"
     ]
    },
    {
     "name": "stdout",
     "output_type": "stream",
     "text": [
      "Search completed in 1.24 seconds\n"
     ]
    },
    {
     "name": "stderr",
     "output_type": "stream",
     "text": [
      "Received notification from DBMS server: {severity: WARNING} {code: Neo.ClientNotification.Statement.AggregationSkippedNull} {category: UNRECOGNIZED} {title: The query contains an aggregation function that skips null values.} {description: null value eliminated in set function.} {position: None} for query: \"\\n        // 1. 벡터 검색으로 시작 법조항 찾기\\n        CALL db.index.vector.queryNodes('article_embedding', $top_k, $query_embedding) \\n        YIELD node as article, score as article_score\\n        \\n        // 2. 해당 법조항과 연결된 판례와 키워드 찾기\\n        OPTIONAL MATCH (precedent:Precedent)-[:REFERENCES_ARTICLE]->(article)\\n        OPTIONAL MATCH (precedent)-[:HAS_KEYWORD]->(keyword:Keyword)\\n        \\n        // 3. 결과 집계 및 점수 계산\\n        WITH article, article_score, precedent, \\n             collect(DISTINCT keyword.text) as keywords,\\n             count(precedent) as precedent_count\\n        \\n        // 법조항 점수 = 벡터 점수 + 판례 인용 수에 따른 보너스\\n        WITH article, article_score + (precedent_count * 0.01) as final_score,\\n             precedent_count, keywords\\n        \\n        RETURN article.id as id, \\n               article.text as text, \\n               final_score as score,\\n               precedent_count,\\n               keywords\\n        ORDER BY final_score DESC\\n        LIMIT $top_k\\n        \"\n"
     ]
    },
    {
     "name": "stdout",
     "output_type": "stream",
     "text": [
      "Search completed in 0.83 seconds\n",
      "Search completed in 1.16 seconds\n"
     ]
    },
    {
     "name": "stderr",
     "output_type": "stream",
     "text": [
      "Received notification from DBMS server: {severity: WARNING} {code: Neo.ClientNotification.Statement.AggregationSkippedNull} {category: UNRECOGNIZED} {title: The query contains an aggregation function that skips null values.} {description: null value eliminated in set function.} {position: None} for query: \"\\n        // 1. 벡터 검색으로 시작 법조항 찾기\\n        CALL db.index.vector.queryNodes('article_embedding', $top_k, $query_embedding) \\n        YIELD node as article, score as article_score\\n        \\n        // 2. 해당 법조항과 연결된 판례와 키워드 찾기\\n        OPTIONAL MATCH (precedent:Precedent)-[:REFERENCES_ARTICLE]->(article)\\n        OPTIONAL MATCH (precedent)-[:HAS_KEYWORD]->(keyword:Keyword)\\n        \\n        // 3. 결과 집계 및 점수 계산\\n        WITH article, article_score, precedent, \\n             collect(DISTINCT keyword.text) as keywords,\\n             count(precedent) as precedent_count\\n        \\n        // 법조항 점수 = 벡터 점수 + 판례 인용 수에 따른 보너스\\n        WITH article, article_score + (precedent_count * 0.01) as final_score,\\n             precedent_count, keywords\\n        \\n        RETURN article.id as id, \\n               article.text as text, \\n               final_score as score,\\n               precedent_count,\\n               keywords\\n        ORDER BY final_score DESC\\n        LIMIT $top_k\\n        \"\n"
     ]
    },
    {
     "name": "stdout",
     "output_type": "stream",
     "text": [
      "Search completed in 1.10 seconds\n",
      "Search completed in 1.53 seconds\n",
      "Search completed in 1.07 seconds\n"
     ]
    },
    {
     "name": "stderr",
     "output_type": "stream",
     "text": [
      "Received notification from DBMS server: {severity: WARNING} {code: Neo.ClientNotification.Statement.AggregationSkippedNull} {category: UNRECOGNIZED} {title: The query contains an aggregation function that skips null values.} {description: null value eliminated in set function.} {position: None} for query: \"\\n        // 1. 벡터 검색으로 시작 법조항 찾기\\n        CALL db.index.vector.queryNodes('article_embedding', $top_k, $query_embedding) \\n        YIELD node as article, score as article_score\\n        \\n        // 2. 해당 법조항과 연결된 판례와 키워드 찾기\\n        OPTIONAL MATCH (precedent:Precedent)-[:REFERENCES_ARTICLE]->(article)\\n        OPTIONAL MATCH (precedent)-[:HAS_KEYWORD]->(keyword:Keyword)\\n        \\n        // 3. 결과 집계 및 점수 계산\\n        WITH article, article_score, precedent, \\n             collect(DISTINCT keyword.text) as keywords,\\n             count(precedent) as precedent_count\\n        \\n        // 법조항 점수 = 벡터 점수 + 판례 인용 수에 따른 보너스\\n        WITH article, article_score + (precedent_count * 0.01) as final_score,\\n             precedent_count, keywords\\n        \\n        RETURN article.id as id, \\n               article.text as text, \\n               final_score as score,\\n               precedent_count,\\n               keywords\\n        ORDER BY final_score DESC\\n        LIMIT $top_k\\n        \"\n"
     ]
    },
    {
     "name": "stdout",
     "output_type": "stream",
     "text": [
      "Search completed in 1.91 seconds\n",
      "Search completed in 1.59 seconds\n",
      "Search completed in 1.40 seconds\n"
     ]
    },
    {
     "name": "stderr",
     "output_type": "stream",
     "text": [
      "Received notification from DBMS server: {severity: WARNING} {code: Neo.ClientNotification.Statement.AggregationSkippedNull} {category: UNRECOGNIZED} {title: The query contains an aggregation function that skips null values.} {description: null value eliminated in set function.} {position: None} for query: \"\\n        // 1. 벡터 검색으로 시작 법조항 찾기\\n        CALL db.index.vector.queryNodes('article_embedding', $top_k, $query_embedding) \\n        YIELD node as article, score as article_score\\n        \\n        // 2. 해당 법조항과 연결된 판례와 키워드 찾기\\n        OPTIONAL MATCH (precedent:Precedent)-[:REFERENCES_ARTICLE]->(article)\\n        OPTIONAL MATCH (precedent)-[:HAS_KEYWORD]->(keyword:Keyword)\\n        \\n        // 3. 결과 집계 및 점수 계산\\n        WITH article, article_score, precedent, \\n             collect(DISTINCT keyword.text) as keywords,\\n             count(precedent) as precedent_count\\n        \\n        // 법조항 점수 = 벡터 점수 + 판례 인용 수에 따른 보너스\\n        WITH article, article_score + (precedent_count * 0.01) as final_score,\\n             precedent_count, keywords\\n        \\n        RETURN article.id as id, \\n               article.text as text, \\n               final_score as score,\\n               precedent_count,\\n               keywords\\n        ORDER BY final_score DESC\\n        LIMIT $top_k\\n        \"\n"
     ]
    },
    {
     "name": "stdout",
     "output_type": "stream",
     "text": [
      "Search completed in 1.69 seconds\n"
     ]
    },
    {
     "name": "stderr",
     "output_type": "stream",
     "text": [
      "Received notification from DBMS server: {severity: WARNING} {code: Neo.ClientNotification.Statement.AggregationSkippedNull} {category: UNRECOGNIZED} {title: The query contains an aggregation function that skips null values.} {description: null value eliminated in set function.} {position: None} for query: \"\\n        // 1. 벡터 검색으로 시작 법조항 찾기\\n        CALL db.index.vector.queryNodes('article_embedding', $top_k, $query_embedding) \\n        YIELD node as article, score as article_score\\n        \\n        // 2. 해당 법조항과 연결된 판례와 키워드 찾기\\n        OPTIONAL MATCH (precedent:Precedent)-[:REFERENCES_ARTICLE]->(article)\\n        OPTIONAL MATCH (precedent)-[:HAS_KEYWORD]->(keyword:Keyword)\\n        \\n        // 3. 결과 집계 및 점수 계산\\n        WITH article, article_score, precedent, \\n             collect(DISTINCT keyword.text) as keywords,\\n             count(precedent) as precedent_count\\n        \\n        // 법조항 점수 = 벡터 점수 + 판례 인용 수에 따른 보너스\\n        WITH article, article_score + (precedent_count * 0.01) as final_score,\\n             precedent_count, keywords\\n        \\n        RETURN article.id as id, \\n               article.text as text, \\n               final_score as score,\\n               precedent_count,\\n               keywords\\n        ORDER BY final_score DESC\\n        LIMIT $top_k\\n        \"\n"
     ]
    },
    {
     "name": "stdout",
     "output_type": "stream",
     "text": [
      "Search completed in 3.15 seconds\n",
      "Search completed in 1.22 seconds\n"
     ]
    },
    {
     "name": "stderr",
     "output_type": "stream",
     "text": [
      "Received notification from DBMS server: {severity: WARNING} {code: Neo.ClientNotification.Statement.AggregationSkippedNull} {category: UNRECOGNIZED} {title: The query contains an aggregation function that skips null values.} {description: null value eliminated in set function.} {position: None} for query: \"\\n        // 1. 벡터 검색으로 시작 법조항 찾기\\n        CALL db.index.vector.queryNodes('article_embedding', $top_k, $query_embedding) \\n        YIELD node as article, score as article_score\\n        \\n        // 2. 해당 법조항과 연결된 판례와 키워드 찾기\\n        OPTIONAL MATCH (precedent:Precedent)-[:REFERENCES_ARTICLE]->(article)\\n        OPTIONAL MATCH (precedent)-[:HAS_KEYWORD]->(keyword:Keyword)\\n        \\n        // 3. 결과 집계 및 점수 계산\\n        WITH article, article_score, precedent, \\n             collect(DISTINCT keyword.text) as keywords,\\n             count(precedent) as precedent_count\\n        \\n        // 법조항 점수 = 벡터 점수 + 판례 인용 수에 따른 보너스\\n        WITH article, article_score + (precedent_count * 0.01) as final_score,\\n             precedent_count, keywords\\n        \\n        RETURN article.id as id, \\n               article.text as text, \\n               final_score as score,\\n               precedent_count,\\n               keywords\\n        ORDER BY final_score DESC\\n        LIMIT $top_k\\n        \"\n"
     ]
    },
    {
     "name": "stdout",
     "output_type": "stream",
     "text": [
      "Search completed in 0.74 seconds\n"
     ]
    },
    {
     "name": "stderr",
     "output_type": "stream",
     "text": [
      "Received notification from DBMS server: {severity: WARNING} {code: Neo.ClientNotification.Statement.AggregationSkippedNull} {category: UNRECOGNIZED} {title: The query contains an aggregation function that skips null values.} {description: null value eliminated in set function.} {position: None} for query: \"\\n        // 1. 벡터 검색으로 시작 법조항 찾기\\n        CALL db.index.vector.queryNodes('article_embedding', $top_k, $query_embedding) \\n        YIELD node as article, score as article_score\\n        \\n        // 2. 해당 법조항과 연결된 판례와 키워드 찾기\\n        OPTIONAL MATCH (precedent:Precedent)-[:REFERENCES_ARTICLE]->(article)\\n        OPTIONAL MATCH (precedent)-[:HAS_KEYWORD]->(keyword:Keyword)\\n        \\n        // 3. 결과 집계 및 점수 계산\\n        WITH article, article_score, precedent, \\n             collect(DISTINCT keyword.text) as keywords,\\n             count(precedent) as precedent_count\\n        \\n        // 법조항 점수 = 벡터 점수 + 판례 인용 수에 따른 보너스\\n        WITH article, article_score + (precedent_count * 0.01) as final_score,\\n             precedent_count, keywords\\n        \\n        RETURN article.id as id, \\n               article.text as text, \\n               final_score as score,\\n               precedent_count,\\n               keywords\\n        ORDER BY final_score DESC\\n        LIMIT $top_k\\n        \"\n"
     ]
    },
    {
     "name": "stdout",
     "output_type": "stream",
     "text": [
      "Search completed in 2.39 seconds\n",
      "Search completed in 1.44 seconds\n",
      "Search completed in 1.08 seconds\n",
      "Search completed in 1.25 seconds\n"
     ]
    },
    {
     "name": "stderr",
     "output_type": "stream",
     "text": [
      "Received notification from DBMS server: {severity: WARNING} {code: Neo.ClientNotification.Statement.AggregationSkippedNull} {category: UNRECOGNIZED} {title: The query contains an aggregation function that skips null values.} {description: null value eliminated in set function.} {position: None} for query: \"\\n        // 1. 벡터 검색으로 시작 법조항 찾기\\n        CALL db.index.vector.queryNodes('article_embedding', $top_k, $query_embedding) \\n        YIELD node as article, score as article_score\\n        \\n        // 2. 해당 법조항과 연결된 판례와 키워드 찾기\\n        OPTIONAL MATCH (precedent:Precedent)-[:REFERENCES_ARTICLE]->(article)\\n        OPTIONAL MATCH (precedent)-[:HAS_KEYWORD]->(keyword:Keyword)\\n        \\n        // 3. 결과 집계 및 점수 계산\\n        WITH article, article_score, precedent, \\n             collect(DISTINCT keyword.text) as keywords,\\n             count(precedent) as precedent_count\\n        \\n        // 법조항 점수 = 벡터 점수 + 판례 인용 수에 따른 보너스\\n        WITH article, article_score + (precedent_count * 0.01) as final_score,\\n             precedent_count, keywords\\n        \\n        RETURN article.id as id, \\n               article.text as text, \\n               final_score as score,\\n               precedent_count,\\n               keywords\\n        ORDER BY final_score DESC\\n        LIMIT $top_k\\n        \"\n"
     ]
    },
    {
     "name": "stdout",
     "output_type": "stream",
     "text": [
      "Search completed in 3.88 seconds\n",
      "Search completed in 1.76 seconds\n"
     ]
    },
    {
     "name": "stderr",
     "output_type": "stream",
     "text": [
      "Received notification from DBMS server: {severity: WARNING} {code: Neo.ClientNotification.Statement.AggregationSkippedNull} {category: UNRECOGNIZED} {title: The query contains an aggregation function that skips null values.} {description: null value eliminated in set function.} {position: None} for query: \"\\n        // 1. 벡터 검색으로 시작 법조항 찾기\\n        CALL db.index.vector.queryNodes('article_embedding', $top_k, $query_embedding) \\n        YIELD node as article, score as article_score\\n        \\n        // 2. 해당 법조항과 연결된 판례와 키워드 찾기\\n        OPTIONAL MATCH (precedent:Precedent)-[:REFERENCES_ARTICLE]->(article)\\n        OPTIONAL MATCH (precedent)-[:HAS_KEYWORD]->(keyword:Keyword)\\n        \\n        // 3. 결과 집계 및 점수 계산\\n        WITH article, article_score, precedent, \\n             collect(DISTINCT keyword.text) as keywords,\\n             count(precedent) as precedent_count\\n        \\n        // 법조항 점수 = 벡터 점수 + 판례 인용 수에 따른 보너스\\n        WITH article, article_score + (precedent_count * 0.01) as final_score,\\n             precedent_count, keywords\\n        \\n        RETURN article.id as id, \\n               article.text as text, \\n               final_score as score,\\n               precedent_count,\\n               keywords\\n        ORDER BY final_score DESC\\n        LIMIT $top_k\\n        \"\n"
     ]
    },
    {
     "name": "stdout",
     "output_type": "stream",
     "text": [
      "Search completed in 0.82 seconds\n"
     ]
    },
    {
     "name": "stderr",
     "output_type": "stream",
     "text": [
      "Received notification from DBMS server: {severity: WARNING} {code: Neo.ClientNotification.Statement.AggregationSkippedNull} {category: UNRECOGNIZED} {title: The query contains an aggregation function that skips null values.} {description: null value eliminated in set function.} {position: None} for query: \"\\n        // 1. 벡터 검색으로 시작 법조항 찾기\\n        CALL db.index.vector.queryNodes('article_embedding', $top_k, $query_embedding) \\n        YIELD node as article, score as article_score\\n        \\n        // 2. 해당 법조항과 연결된 판례와 키워드 찾기\\n        OPTIONAL MATCH (precedent:Precedent)-[:REFERENCES_ARTICLE]->(article)\\n        OPTIONAL MATCH (precedent)-[:HAS_KEYWORD]->(keyword:Keyword)\\n        \\n        // 3. 결과 집계 및 점수 계산\\n        WITH article, article_score, precedent, \\n             collect(DISTINCT keyword.text) as keywords,\\n             count(precedent) as precedent_count\\n        \\n        // 법조항 점수 = 벡터 점수 + 판례 인용 수에 따른 보너스\\n        WITH article, article_score + (precedent_count * 0.01) as final_score,\\n             precedent_count, keywords\\n        \\n        RETURN article.id as id, \\n               article.text as text, \\n               final_score as score,\\n               precedent_count,\\n               keywords\\n        ORDER BY final_score DESC\\n        LIMIT $top_k\\n        \"\n"
     ]
    },
    {
     "name": "stdout",
     "output_type": "stream",
     "text": [
      "Search completed in 1.75 seconds\n"
     ]
    },
    {
     "name": "stderr",
     "output_type": "stream",
     "text": [
      "Received notification from DBMS server: {severity: WARNING} {code: Neo.ClientNotification.Statement.AggregationSkippedNull} {category: UNRECOGNIZED} {title: The query contains an aggregation function that skips null values.} {description: null value eliminated in set function.} {position: None} for query: \"\\n        // 1. 벡터 검색으로 시작 법조항 찾기\\n        CALL db.index.vector.queryNodes('article_embedding', $top_k, $query_embedding) \\n        YIELD node as article, score as article_score\\n        \\n        // 2. 해당 법조항과 연결된 판례와 키워드 찾기\\n        OPTIONAL MATCH (precedent:Precedent)-[:REFERENCES_ARTICLE]->(article)\\n        OPTIONAL MATCH (precedent)-[:HAS_KEYWORD]->(keyword:Keyword)\\n        \\n        // 3. 결과 집계 및 점수 계산\\n        WITH article, article_score, precedent, \\n             collect(DISTINCT keyword.text) as keywords,\\n             count(precedent) as precedent_count\\n        \\n        // 법조항 점수 = 벡터 점수 + 판례 인용 수에 따른 보너스\\n        WITH article, article_score + (precedent_count * 0.01) as final_score,\\n             precedent_count, keywords\\n        \\n        RETURN article.id as id, \\n               article.text as text, \\n               final_score as score,\\n               precedent_count,\\n               keywords\\n        ORDER BY final_score DESC\\n        LIMIT $top_k\\n        \"\n"
     ]
    },
    {
     "name": "stdout",
     "output_type": "stream",
     "text": [
      "Search completed in 2.18 seconds\n",
      "Search completed in 1.82 seconds\n"
     ]
    },
    {
     "name": "stderr",
     "output_type": "stream",
     "text": [
      "Received notification from DBMS server: {severity: WARNING} {code: Neo.ClientNotification.Statement.AggregationSkippedNull} {category: UNRECOGNIZED} {title: The query contains an aggregation function that skips null values.} {description: null value eliminated in set function.} {position: None} for query: \"\\n        // 1. 벡터 검색으로 시작 법조항 찾기\\n        CALL db.index.vector.queryNodes('article_embedding', $top_k, $query_embedding) \\n        YIELD node as article, score as article_score\\n        \\n        // 2. 해당 법조항과 연결된 판례와 키워드 찾기\\n        OPTIONAL MATCH (precedent:Precedent)-[:REFERENCES_ARTICLE]->(article)\\n        OPTIONAL MATCH (precedent)-[:HAS_KEYWORD]->(keyword:Keyword)\\n        \\n        // 3. 결과 집계 및 점수 계산\\n        WITH article, article_score, precedent, \\n             collect(DISTINCT keyword.text) as keywords,\\n             count(precedent) as precedent_count\\n        \\n        // 법조항 점수 = 벡터 점수 + 판례 인용 수에 따른 보너스\\n        WITH article, article_score + (precedent_count * 0.01) as final_score,\\n             precedent_count, keywords\\n        \\n        RETURN article.id as id, \\n               article.text as text, \\n               final_score as score,\\n               precedent_count,\\n               keywords\\n        ORDER BY final_score DESC\\n        LIMIT $top_k\\n        \"\n"
     ]
    },
    {
     "name": "stdout",
     "output_type": "stream",
     "text": [
      "Search completed in 1.25 seconds\n",
      "Search completed in 1.81 seconds\n"
     ]
    },
    {
     "name": "stderr",
     "output_type": "stream",
     "text": [
      "Received notification from DBMS server: {severity: WARNING} {code: Neo.ClientNotification.Statement.AggregationSkippedNull} {category: UNRECOGNIZED} {title: The query contains an aggregation function that skips null values.} {description: null value eliminated in set function.} {position: None} for query: \"\\n        // 1. 벡터 검색으로 시작 법조항 찾기\\n        CALL db.index.vector.queryNodes('article_embedding', $top_k, $query_embedding) \\n        YIELD node as article, score as article_score\\n        \\n        // 2. 해당 법조항과 연결된 판례와 키워드 찾기\\n        OPTIONAL MATCH (precedent:Precedent)-[:REFERENCES_ARTICLE]->(article)\\n        OPTIONAL MATCH (precedent)-[:HAS_KEYWORD]->(keyword:Keyword)\\n        \\n        // 3. 결과 집계 및 점수 계산\\n        WITH article, article_score, precedent, \\n             collect(DISTINCT keyword.text) as keywords,\\n             count(precedent) as precedent_count\\n        \\n        // 법조항 점수 = 벡터 점수 + 판례 인용 수에 따른 보너스\\n        WITH article, article_score + (precedent_count * 0.01) as final_score,\\n             precedent_count, keywords\\n        \\n        RETURN article.id as id, \\n               article.text as text, \\n               final_score as score,\\n               precedent_count,\\n               keywords\\n        ORDER BY final_score DESC\\n        LIMIT $top_k\\n        \"\n"
     ]
    },
    {
     "name": "stdout",
     "output_type": "stream",
     "text": [
      "Search completed in 1.21 seconds\n",
      "Search completed in 1.96 seconds\n",
      "Search completed in 0.90 seconds\n"
     ]
    },
    {
     "name": "stderr",
     "output_type": "stream",
     "text": [
      "Received notification from DBMS server: {severity: WARNING} {code: Neo.ClientNotification.Statement.AggregationSkippedNull} {category: UNRECOGNIZED} {title: The query contains an aggregation function that skips null values.} {description: null value eliminated in set function.} {position: None} for query: \"\\n        // 1. 벡터 검색으로 시작 법조항 찾기\\n        CALL db.index.vector.queryNodes('article_embedding', $top_k, $query_embedding) \\n        YIELD node as article, score as article_score\\n        \\n        // 2. 해당 법조항과 연결된 판례와 키워드 찾기\\n        OPTIONAL MATCH (precedent:Precedent)-[:REFERENCES_ARTICLE]->(article)\\n        OPTIONAL MATCH (precedent)-[:HAS_KEYWORD]->(keyword:Keyword)\\n        \\n        // 3. 결과 집계 및 점수 계산\\n        WITH article, article_score, precedent, \\n             collect(DISTINCT keyword.text) as keywords,\\n             count(precedent) as precedent_count\\n        \\n        // 법조항 점수 = 벡터 점수 + 판례 인용 수에 따른 보너스\\n        WITH article, article_score + (precedent_count * 0.01) as final_score,\\n             precedent_count, keywords\\n        \\n        RETURN article.id as id, \\n               article.text as text, \\n               final_score as score,\\n               precedent_count,\\n               keywords\\n        ORDER BY final_score DESC\\n        LIMIT $top_k\\n        \"\n"
     ]
    },
    {
     "name": "stdout",
     "output_type": "stream",
     "text": [
      "Search completed in 0.95 seconds\n"
     ]
    },
    {
     "name": "stderr",
     "output_type": "stream",
     "text": [
      "Received notification from DBMS server: {severity: WARNING} {code: Neo.ClientNotification.Statement.AggregationSkippedNull} {category: UNRECOGNIZED} {title: The query contains an aggregation function that skips null values.} {description: null value eliminated in set function.} {position: None} for query: \"\\n        // 1. 벡터 검색으로 시작 법조항 찾기\\n        CALL db.index.vector.queryNodes('article_embedding', $top_k, $query_embedding) \\n        YIELD node as article, score as article_score\\n        \\n        // 2. 해당 법조항과 연결된 판례와 키워드 찾기\\n        OPTIONAL MATCH (precedent:Precedent)-[:REFERENCES_ARTICLE]->(article)\\n        OPTIONAL MATCH (precedent)-[:HAS_KEYWORD]->(keyword:Keyword)\\n        \\n        // 3. 결과 집계 및 점수 계산\\n        WITH article, article_score, precedent, \\n             collect(DISTINCT keyword.text) as keywords,\\n             count(precedent) as precedent_count\\n        \\n        // 법조항 점수 = 벡터 점수 + 판례 인용 수에 따른 보너스\\n        WITH article, article_score + (precedent_count * 0.01) as final_score,\\n             precedent_count, keywords\\n        \\n        RETURN article.id as id, \\n               article.text as text, \\n               final_score as score,\\n               precedent_count,\\n               keywords\\n        ORDER BY final_score DESC\\n        LIMIT $top_k\\n        \"\n"
     ]
    },
    {
     "name": "stdout",
     "output_type": "stream",
     "text": [
      "Search completed in 0.85 seconds\n",
      "Search completed in 1.22 seconds\n",
      "Search completed in 1.10 seconds\n"
     ]
    },
    {
     "name": "stderr",
     "output_type": "stream",
     "text": [
      "Received notification from DBMS server: {severity: WARNING} {code: Neo.ClientNotification.Statement.AggregationSkippedNull} {category: UNRECOGNIZED} {title: The query contains an aggregation function that skips null values.} {description: null value eliminated in set function.} {position: None} for query: \"\\n        // 1. 벡터 검색으로 시작 법조항 찾기\\n        CALL db.index.vector.queryNodes('article_embedding', $top_k, $query_embedding) \\n        YIELD node as article, score as article_score\\n        \\n        // 2. 해당 법조항과 연결된 판례와 키워드 찾기\\n        OPTIONAL MATCH (precedent:Precedent)-[:REFERENCES_ARTICLE]->(article)\\n        OPTIONAL MATCH (precedent)-[:HAS_KEYWORD]->(keyword:Keyword)\\n        \\n        // 3. 결과 집계 및 점수 계산\\n        WITH article, article_score, precedent, \\n             collect(DISTINCT keyword.text) as keywords,\\n             count(precedent) as precedent_count\\n        \\n        // 법조항 점수 = 벡터 점수 + 판례 인용 수에 따른 보너스\\n        WITH article, article_score + (precedent_count * 0.01) as final_score,\\n             precedent_count, keywords\\n        \\n        RETURN article.id as id, \\n               article.text as text, \\n               final_score as score,\\n               precedent_count,\\n               keywords\\n        ORDER BY final_score DESC\\n        LIMIT $top_k\\n        \"\n"
     ]
    },
    {
     "name": "stdout",
     "output_type": "stream",
     "text": [
      "Search completed in 1.31 seconds\n",
      "Search completed in 1.48 seconds\n"
     ]
    },
    {
     "name": "stderr",
     "output_type": "stream",
     "text": [
      "Received notification from DBMS server: {severity: WARNING} {code: Neo.ClientNotification.Statement.AggregationSkippedNull} {category: UNRECOGNIZED} {title: The query contains an aggregation function that skips null values.} {description: null value eliminated in set function.} {position: None} for query: \"\\n        // 1. 벡터 검색으로 시작 법조항 찾기\\n        CALL db.index.vector.queryNodes('article_embedding', $top_k, $query_embedding) \\n        YIELD node as article, score as article_score\\n        \\n        // 2. 해당 법조항과 연결된 판례와 키워드 찾기\\n        OPTIONAL MATCH (precedent:Precedent)-[:REFERENCES_ARTICLE]->(article)\\n        OPTIONAL MATCH (precedent)-[:HAS_KEYWORD]->(keyword:Keyword)\\n        \\n        // 3. 결과 집계 및 점수 계산\\n        WITH article, article_score, precedent, \\n             collect(DISTINCT keyword.text) as keywords,\\n             count(precedent) as precedent_count\\n        \\n        // 법조항 점수 = 벡터 점수 + 판례 인용 수에 따른 보너스\\n        WITH article, article_score + (precedent_count * 0.01) as final_score,\\n             precedent_count, keywords\\n        \\n        RETURN article.id as id, \\n               article.text as text, \\n               final_score as score,\\n               precedent_count,\\n               keywords\\n        ORDER BY final_score DESC\\n        LIMIT $top_k\\n        \"\n"
     ]
    },
    {
     "name": "stdout",
     "output_type": "stream",
     "text": [
      "Search completed in 1.02 seconds\n",
      "Search completed in 1.28 seconds\n",
      "Search completed in 1.66 seconds\n"
     ]
    },
    {
     "name": "stderr",
     "output_type": "stream",
     "text": [
      "Received notification from DBMS server: {severity: WARNING} {code: Neo.ClientNotification.Statement.AggregationSkippedNull} {category: UNRECOGNIZED} {title: The query contains an aggregation function that skips null values.} {description: null value eliminated in set function.} {position: None} for query: \"\\n        // 1. 벡터 검색으로 시작 법조항 찾기\\n        CALL db.index.vector.queryNodes('article_embedding', $top_k, $query_embedding) \\n        YIELD node as article, score as article_score\\n        \\n        // 2. 해당 법조항과 연결된 판례와 키워드 찾기\\n        OPTIONAL MATCH (precedent:Precedent)-[:REFERENCES_ARTICLE]->(article)\\n        OPTIONAL MATCH (precedent)-[:HAS_KEYWORD]->(keyword:Keyword)\\n        \\n        // 3. 결과 집계 및 점수 계산\\n        WITH article, article_score, precedent, \\n             collect(DISTINCT keyword.text) as keywords,\\n             count(precedent) as precedent_count\\n        \\n        // 법조항 점수 = 벡터 점수 + 판례 인용 수에 따른 보너스\\n        WITH article, article_score + (precedent_count * 0.01) as final_score,\\n             precedent_count, keywords\\n        \\n        RETURN article.id as id, \\n               article.text as text, \\n               final_score as score,\\n               precedent_count,\\n               keywords\\n        ORDER BY final_score DESC\\n        LIMIT $top_k\\n        \"\n"
     ]
    },
    {
     "name": "stdout",
     "output_type": "stream",
     "text": [
      "Search completed in 1.22 seconds\n"
     ]
    },
    {
     "name": "stderr",
     "output_type": "stream",
     "text": [
      "Received notification from DBMS server: {severity: WARNING} {code: Neo.ClientNotification.Statement.AggregationSkippedNull} {category: UNRECOGNIZED} {title: The query contains an aggregation function that skips null values.} {description: null value eliminated in set function.} {position: None} for query: \"\\n        // 1. 벡터 검색으로 시작 법조항 찾기\\n        CALL db.index.vector.queryNodes('article_embedding', $top_k, $query_embedding) \\n        YIELD node as article, score as article_score\\n        \\n        // 2. 해당 법조항과 연결된 판례와 키워드 찾기\\n        OPTIONAL MATCH (precedent:Precedent)-[:REFERENCES_ARTICLE]->(article)\\n        OPTIONAL MATCH (precedent)-[:HAS_KEYWORD]->(keyword:Keyword)\\n        \\n        // 3. 결과 집계 및 점수 계산\\n        WITH article, article_score, precedent, \\n             collect(DISTINCT keyword.text) as keywords,\\n             count(precedent) as precedent_count\\n        \\n        // 법조항 점수 = 벡터 점수 + 판례 인용 수에 따른 보너스\\n        WITH article, article_score + (precedent_count * 0.01) as final_score,\\n             precedent_count, keywords\\n        \\n        RETURN article.id as id, \\n               article.text as text, \\n               final_score as score,\\n               precedent_count,\\n               keywords\\n        ORDER BY final_score DESC\\n        LIMIT $top_k\\n        \"\n"
     ]
    },
    {
     "name": "stdout",
     "output_type": "stream",
     "text": [
      "Search completed in 1.37 seconds\n"
     ]
    },
    {
     "name": "stderr",
     "output_type": "stream",
     "text": [
      "Received notification from DBMS server: {severity: WARNING} {code: Neo.ClientNotification.Statement.AggregationSkippedNull} {category: UNRECOGNIZED} {title: The query contains an aggregation function that skips null values.} {description: null value eliminated in set function.} {position: None} for query: \"\\n        // 1. 벡터 검색으로 시작 법조항 찾기\\n        CALL db.index.vector.queryNodes('article_embedding', $top_k, $query_embedding) \\n        YIELD node as article, score as article_score\\n        \\n        // 2. 해당 법조항과 연결된 판례와 키워드 찾기\\n        OPTIONAL MATCH (precedent:Precedent)-[:REFERENCES_ARTICLE]->(article)\\n        OPTIONAL MATCH (precedent)-[:HAS_KEYWORD]->(keyword:Keyword)\\n        \\n        // 3. 결과 집계 및 점수 계산\\n        WITH article, article_score, precedent, \\n             collect(DISTINCT keyword.text) as keywords,\\n             count(precedent) as precedent_count\\n        \\n        // 법조항 점수 = 벡터 점수 + 판례 인용 수에 따른 보너스\\n        WITH article, article_score + (precedent_count * 0.01) as final_score,\\n             precedent_count, keywords\\n        \\n        RETURN article.id as id, \\n               article.text as text, \\n               final_score as score,\\n               precedent_count,\\n               keywords\\n        ORDER BY final_score DESC\\n        LIMIT $top_k\\n        \"\n"
     ]
    },
    {
     "name": "stdout",
     "output_type": "stream",
     "text": [
      "Search completed in 0.88 seconds\n"
     ]
    },
    {
     "name": "stderr",
     "output_type": "stream",
     "text": [
      "Received notification from DBMS server: {severity: WARNING} {code: Neo.ClientNotification.Statement.AggregationSkippedNull} {category: UNRECOGNIZED} {title: The query contains an aggregation function that skips null values.} {description: null value eliminated in set function.} {position: None} for query: \"\\n        // 1. 벡터 검색으로 시작 법조항 찾기\\n        CALL db.index.vector.queryNodes('article_embedding', $top_k, $query_embedding) \\n        YIELD node as article, score as article_score\\n        \\n        // 2. 해당 법조항과 연결된 판례와 키워드 찾기\\n        OPTIONAL MATCH (precedent:Precedent)-[:REFERENCES_ARTICLE]->(article)\\n        OPTIONAL MATCH (precedent)-[:HAS_KEYWORD]->(keyword:Keyword)\\n        \\n        // 3. 결과 집계 및 점수 계산\\n        WITH article, article_score, precedent, \\n             collect(DISTINCT keyword.text) as keywords,\\n             count(precedent) as precedent_count\\n        \\n        // 법조항 점수 = 벡터 점수 + 판례 인용 수에 따른 보너스\\n        WITH article, article_score + (precedent_count * 0.01) as final_score,\\n             precedent_count, keywords\\n        \\n        RETURN article.id as id, \\n               article.text as text, \\n               final_score as score,\\n               precedent_count,\\n               keywords\\n        ORDER BY final_score DESC\\n        LIMIT $top_k\\n        \"\n"
     ]
    },
    {
     "name": "stdout",
     "output_type": "stream",
     "text": [
      "Search completed in 0.91 seconds\n"
     ]
    },
    {
     "name": "stderr",
     "output_type": "stream",
     "text": [
      "Received notification from DBMS server: {severity: WARNING} {code: Neo.ClientNotification.Statement.AggregationSkippedNull} {category: UNRECOGNIZED} {title: The query contains an aggregation function that skips null values.} {description: null value eliminated in set function.} {position: None} for query: \"\\n        // 1. 벡터 검색으로 시작 법조항 찾기\\n        CALL db.index.vector.queryNodes('article_embedding', $top_k, $query_embedding) \\n        YIELD node as article, score as article_score\\n        \\n        // 2. 해당 법조항과 연결된 판례와 키워드 찾기\\n        OPTIONAL MATCH (precedent:Precedent)-[:REFERENCES_ARTICLE]->(article)\\n        OPTIONAL MATCH (precedent)-[:HAS_KEYWORD]->(keyword:Keyword)\\n        \\n        // 3. 결과 집계 및 점수 계산\\n        WITH article, article_score, precedent, \\n             collect(DISTINCT keyword.text) as keywords,\\n             count(precedent) as precedent_count\\n        \\n        // 법조항 점수 = 벡터 점수 + 판례 인용 수에 따른 보너스\\n        WITH article, article_score + (precedent_count * 0.01) as final_score,\\n             precedent_count, keywords\\n        \\n        RETURN article.id as id, \\n               article.text as text, \\n               final_score as score,\\n               precedent_count,\\n               keywords\\n        ORDER BY final_score DESC\\n        LIMIT $top_k\\n        \"\n"
     ]
    },
    {
     "name": "stdout",
     "output_type": "stream",
     "text": [
      "Search completed in 1.04 seconds\n",
      "Search completed in 1.21 seconds\n",
      "Search completed in 1.36 seconds\n",
      "Search completed in 1.79 seconds\n"
     ]
    },
    {
     "name": "stderr",
     "output_type": "stream",
     "text": [
      "Received notification from DBMS server: {severity: WARNING} {code: Neo.ClientNotification.Statement.AggregationSkippedNull} {category: UNRECOGNIZED} {title: The query contains an aggregation function that skips null values.} {description: null value eliminated in set function.} {position: None} for query: \"\\n        // 1. 벡터 검색으로 시작 법조항 찾기\\n        CALL db.index.vector.queryNodes('article_embedding', $top_k, $query_embedding) \\n        YIELD node as article, score as article_score\\n        \\n        // 2. 해당 법조항과 연결된 판례와 키워드 찾기\\n        OPTIONAL MATCH (precedent:Precedent)-[:REFERENCES_ARTICLE]->(article)\\n        OPTIONAL MATCH (precedent)-[:HAS_KEYWORD]->(keyword:Keyword)\\n        \\n        // 3. 결과 집계 및 점수 계산\\n        WITH article, article_score, precedent, \\n             collect(DISTINCT keyword.text) as keywords,\\n             count(precedent) as precedent_count\\n        \\n        // 법조항 점수 = 벡터 점수 + 판례 인용 수에 따른 보너스\\n        WITH article, article_score + (precedent_count * 0.01) as final_score,\\n             precedent_count, keywords\\n        \\n        RETURN article.id as id, \\n               article.text as text, \\n               final_score as score,\\n               precedent_count,\\n               keywords\\n        ORDER BY final_score DESC\\n        LIMIT $top_k\\n        \"\n"
     ]
    },
    {
     "name": "stdout",
     "output_type": "stream",
     "text": [
      "Search completed in 1.31 seconds\n",
      "Search completed in 0.83 seconds\n",
      "Search completed in 1.48 seconds\n"
     ]
    },
    {
     "name": "stderr",
     "output_type": "stream",
     "text": [
      "Received notification from DBMS server: {severity: WARNING} {code: Neo.ClientNotification.Statement.AggregationSkippedNull} {category: UNRECOGNIZED} {title: The query contains an aggregation function that skips null values.} {description: null value eliminated in set function.} {position: None} for query: \"\\n        // 1. 벡터 검색으로 시작 법조항 찾기\\n        CALL db.index.vector.queryNodes('article_embedding', $top_k, $query_embedding) \\n        YIELD node as article, score as article_score\\n        \\n        // 2. 해당 법조항과 연결된 판례와 키워드 찾기\\n        OPTIONAL MATCH (precedent:Precedent)-[:REFERENCES_ARTICLE]->(article)\\n        OPTIONAL MATCH (precedent)-[:HAS_KEYWORD]->(keyword:Keyword)\\n        \\n        // 3. 결과 집계 및 점수 계산\\n        WITH article, article_score, precedent, \\n             collect(DISTINCT keyword.text) as keywords,\\n             count(precedent) as precedent_count\\n        \\n        // 법조항 점수 = 벡터 점수 + 판례 인용 수에 따른 보너스\\n        WITH article, article_score + (precedent_count * 0.01) as final_score,\\n             precedent_count, keywords\\n        \\n        RETURN article.id as id, \\n               article.text as text, \\n               final_score as score,\\n               precedent_count,\\n               keywords\\n        ORDER BY final_score DESC\\n        LIMIT $top_k\\n        \"\n"
     ]
    },
    {
     "name": "stdout",
     "output_type": "stream",
     "text": [
      "Search completed in 2.11 seconds\n"
     ]
    },
    {
     "name": "stderr",
     "output_type": "stream",
     "text": [
      "Received notification from DBMS server: {severity: WARNING} {code: Neo.ClientNotification.Statement.AggregationSkippedNull} {category: UNRECOGNIZED} {title: The query contains an aggregation function that skips null values.} {description: null value eliminated in set function.} {position: None} for query: \"\\n        // 1. 벡터 검색으로 시작 법조항 찾기\\n        CALL db.index.vector.queryNodes('article_embedding', $top_k, $query_embedding) \\n        YIELD node as article, score as article_score\\n        \\n        // 2. 해당 법조항과 연결된 판례와 키워드 찾기\\n        OPTIONAL MATCH (precedent:Precedent)-[:REFERENCES_ARTICLE]->(article)\\n        OPTIONAL MATCH (precedent)-[:HAS_KEYWORD]->(keyword:Keyword)\\n        \\n        // 3. 결과 집계 및 점수 계산\\n        WITH article, article_score, precedent, \\n             collect(DISTINCT keyword.text) as keywords,\\n             count(precedent) as precedent_count\\n        \\n        // 법조항 점수 = 벡터 점수 + 판례 인용 수에 따른 보너스\\n        WITH article, article_score + (precedent_count * 0.01) as final_score,\\n             precedent_count, keywords\\n        \\n        RETURN article.id as id, \\n               article.text as text, \\n               final_score as score,\\n               precedent_count,\\n               keywords\\n        ORDER BY final_score DESC\\n        LIMIT $top_k\\n        \"\n"
     ]
    },
    {
     "name": "stdout",
     "output_type": "stream",
     "text": [
      "Search completed in 0.78 seconds\n"
     ]
    },
    {
     "name": "stderr",
     "output_type": "stream",
     "text": [
      "Received notification from DBMS server: {severity: WARNING} {code: Neo.ClientNotification.Statement.AggregationSkippedNull} {category: UNRECOGNIZED} {title: The query contains an aggregation function that skips null values.} {description: null value eliminated in set function.} {position: None} for query: \"\\n        // 1. 벡터 검색으로 시작 법조항 찾기\\n        CALL db.index.vector.queryNodes('article_embedding', $top_k, $query_embedding) \\n        YIELD node as article, score as article_score\\n        \\n        // 2. 해당 법조항과 연결된 판례와 키워드 찾기\\n        OPTIONAL MATCH (precedent:Precedent)-[:REFERENCES_ARTICLE]->(article)\\n        OPTIONAL MATCH (precedent)-[:HAS_KEYWORD]->(keyword:Keyword)\\n        \\n        // 3. 결과 집계 및 점수 계산\\n        WITH article, article_score, precedent, \\n             collect(DISTINCT keyword.text) as keywords,\\n             count(precedent) as precedent_count\\n        \\n        // 법조항 점수 = 벡터 점수 + 판례 인용 수에 따른 보너스\\n        WITH article, article_score + (precedent_count * 0.01) as final_score,\\n             precedent_count, keywords\\n        \\n        RETURN article.id as id, \\n               article.text as text, \\n               final_score as score,\\n               precedent_count,\\n               keywords\\n        ORDER BY final_score DESC\\n        LIMIT $top_k\\n        \"\n"
     ]
    },
    {
     "name": "stdout",
     "output_type": "stream",
     "text": [
      "Search completed in 1.74 seconds\n",
      "Search completed in 1.41 seconds\n"
     ]
    },
    {
     "name": "stderr",
     "output_type": "stream",
     "text": [
      "Received notification from DBMS server: {severity: WARNING} {code: Neo.ClientNotification.Statement.AggregationSkippedNull} {category: UNRECOGNIZED} {title: The query contains an aggregation function that skips null values.} {description: null value eliminated in set function.} {position: None} for query: \"\\n        // 1. 벡터 검색으로 시작 법조항 찾기\\n        CALL db.index.vector.queryNodes('article_embedding', $top_k, $query_embedding) \\n        YIELD node as article, score as article_score\\n        \\n        // 2. 해당 법조항과 연결된 판례와 키워드 찾기\\n        OPTIONAL MATCH (precedent:Precedent)-[:REFERENCES_ARTICLE]->(article)\\n        OPTIONAL MATCH (precedent)-[:HAS_KEYWORD]->(keyword:Keyword)\\n        \\n        // 3. 결과 집계 및 점수 계산\\n        WITH article, article_score, precedent, \\n             collect(DISTINCT keyword.text) as keywords,\\n             count(precedent) as precedent_count\\n        \\n        // 법조항 점수 = 벡터 점수 + 판례 인용 수에 따른 보너스\\n        WITH article, article_score + (precedent_count * 0.01) as final_score,\\n             precedent_count, keywords\\n        \\n        RETURN article.id as id, \\n               article.text as text, \\n               final_score as score,\\n               precedent_count,\\n               keywords\\n        ORDER BY final_score DESC\\n        LIMIT $top_k\\n        \"\n"
     ]
    },
    {
     "name": "stdout",
     "output_type": "stream",
     "text": [
      "Search completed in 0.87 seconds\n"
     ]
    },
    {
     "name": "stderr",
     "output_type": "stream",
     "text": [
      "Received notification from DBMS server: {severity: WARNING} {code: Neo.ClientNotification.Statement.AggregationSkippedNull} {category: UNRECOGNIZED} {title: The query contains an aggregation function that skips null values.} {description: null value eliminated in set function.} {position: None} for query: \"\\n        // 1. 벡터 검색으로 시작 법조항 찾기\\n        CALL db.index.vector.queryNodes('article_embedding', $top_k, $query_embedding) \\n        YIELD node as article, score as article_score\\n        \\n        // 2. 해당 법조항과 연결된 판례와 키워드 찾기\\n        OPTIONAL MATCH (precedent:Precedent)-[:REFERENCES_ARTICLE]->(article)\\n        OPTIONAL MATCH (precedent)-[:HAS_KEYWORD]->(keyword:Keyword)\\n        \\n        // 3. 결과 집계 및 점수 계산\\n        WITH article, article_score, precedent, \\n             collect(DISTINCT keyword.text) as keywords,\\n             count(precedent) as precedent_count\\n        \\n        // 법조항 점수 = 벡터 점수 + 판례 인용 수에 따른 보너스\\n        WITH article, article_score + (precedent_count * 0.01) as final_score,\\n             precedent_count, keywords\\n        \\n        RETURN article.id as id, \\n               article.text as text, \\n               final_score as score,\\n               precedent_count,\\n               keywords\\n        ORDER BY final_score DESC\\n        LIMIT $top_k\\n        \"\n"
     ]
    },
    {
     "name": "stdout",
     "output_type": "stream",
     "text": [
      "Search completed in 1.03 seconds\n",
      "Search completed in 1.12 seconds\n",
      "Search completed in 1.48 seconds\n"
     ]
    },
    {
     "name": "stderr",
     "output_type": "stream",
     "text": [
      "Received notification from DBMS server: {severity: WARNING} {code: Neo.ClientNotification.Statement.AggregationSkippedNull} {category: UNRECOGNIZED} {title: The query contains an aggregation function that skips null values.} {description: null value eliminated in set function.} {position: None} for query: \"\\n        // 1. 벡터 검색으로 시작 법조항 찾기\\n        CALL db.index.vector.queryNodes('article_embedding', $top_k, $query_embedding) \\n        YIELD node as article, score as article_score\\n        \\n        // 2. 해당 법조항과 연결된 판례와 키워드 찾기\\n        OPTIONAL MATCH (precedent:Precedent)-[:REFERENCES_ARTICLE]->(article)\\n        OPTIONAL MATCH (precedent)-[:HAS_KEYWORD]->(keyword:Keyword)\\n        \\n        // 3. 결과 집계 및 점수 계산\\n        WITH article, article_score, precedent, \\n             collect(DISTINCT keyword.text) as keywords,\\n             count(precedent) as precedent_count\\n        \\n        // 법조항 점수 = 벡터 점수 + 판례 인용 수에 따른 보너스\\n        WITH article, article_score + (precedent_count * 0.01) as final_score,\\n             precedent_count, keywords\\n        \\n        RETURN article.id as id, \\n               article.text as text, \\n               final_score as score,\\n               precedent_count,\\n               keywords\\n        ORDER BY final_score DESC\\n        LIMIT $top_k\\n        \"\n"
     ]
    },
    {
     "name": "stdout",
     "output_type": "stream",
     "text": [
      "Search completed in 1.48 seconds\n"
     ]
    },
    {
     "name": "stderr",
     "output_type": "stream",
     "text": [
      "Received notification from DBMS server: {severity: WARNING} {code: Neo.ClientNotification.Statement.AggregationSkippedNull} {category: UNRECOGNIZED} {title: The query contains an aggregation function that skips null values.} {description: null value eliminated in set function.} {position: None} for query: \"\\n        // 1. 벡터 검색으로 시작 법조항 찾기\\n        CALL db.index.vector.queryNodes('article_embedding', $top_k, $query_embedding) \\n        YIELD node as article, score as article_score\\n        \\n        // 2. 해당 법조항과 연결된 판례와 키워드 찾기\\n        OPTIONAL MATCH (precedent:Precedent)-[:REFERENCES_ARTICLE]->(article)\\n        OPTIONAL MATCH (precedent)-[:HAS_KEYWORD]->(keyword:Keyword)\\n        \\n        // 3. 결과 집계 및 점수 계산\\n        WITH article, article_score, precedent, \\n             collect(DISTINCT keyword.text) as keywords,\\n             count(precedent) as precedent_count\\n        \\n        // 법조항 점수 = 벡터 점수 + 판례 인용 수에 따른 보너스\\n        WITH article, article_score + (precedent_count * 0.01) as final_score,\\n             precedent_count, keywords\\n        \\n        RETURN article.id as id, \\n               article.text as text, \\n               final_score as score,\\n               precedent_count,\\n               keywords\\n        ORDER BY final_score DESC\\n        LIMIT $top_k\\n        \"\n"
     ]
    },
    {
     "name": "stdout",
     "output_type": "stream",
     "text": [
      "Search completed in 1.28 seconds\n",
      "Search completed in 0.86 seconds\n"
     ]
    },
    {
     "name": "stderr",
     "output_type": "stream",
     "text": [
      "Received notification from DBMS server: {severity: WARNING} {code: Neo.ClientNotification.Statement.AggregationSkippedNull} {category: UNRECOGNIZED} {title: The query contains an aggregation function that skips null values.} {description: null value eliminated in set function.} {position: None} for query: \"\\n        // 1. 벡터 검색으로 시작 법조항 찾기\\n        CALL db.index.vector.queryNodes('article_embedding', $top_k, $query_embedding) \\n        YIELD node as article, score as article_score\\n        \\n        // 2. 해당 법조항과 연결된 판례와 키워드 찾기\\n        OPTIONAL MATCH (precedent:Precedent)-[:REFERENCES_ARTICLE]->(article)\\n        OPTIONAL MATCH (precedent)-[:HAS_KEYWORD]->(keyword:Keyword)\\n        \\n        // 3. 결과 집계 및 점수 계산\\n        WITH article, article_score, precedent, \\n             collect(DISTINCT keyword.text) as keywords,\\n             count(precedent) as precedent_count\\n        \\n        // 법조항 점수 = 벡터 점수 + 판례 인용 수에 따른 보너스\\n        WITH article, article_score + (precedent_count * 0.01) as final_score,\\n             precedent_count, keywords\\n        \\n        RETURN article.id as id, \\n               article.text as text, \\n               final_score as score,\\n               precedent_count,\\n               keywords\\n        ORDER BY final_score DESC\\n        LIMIT $top_k\\n        \"\n"
     ]
    },
    {
     "name": "stdout",
     "output_type": "stream",
     "text": [
      "Search completed in 0.94 seconds\n"
     ]
    },
    {
     "name": "stderr",
     "output_type": "stream",
     "text": [
      "Received notification from DBMS server: {severity: WARNING} {code: Neo.ClientNotification.Statement.AggregationSkippedNull} {category: UNRECOGNIZED} {title: The query contains an aggregation function that skips null values.} {description: null value eliminated in set function.} {position: None} for query: \"\\n        // 1. 벡터 검색으로 시작 법조항 찾기\\n        CALL db.index.vector.queryNodes('article_embedding', $top_k, $query_embedding) \\n        YIELD node as article, score as article_score\\n        \\n        // 2. 해당 법조항과 연결된 판례와 키워드 찾기\\n        OPTIONAL MATCH (precedent:Precedent)-[:REFERENCES_ARTICLE]->(article)\\n        OPTIONAL MATCH (precedent)-[:HAS_KEYWORD]->(keyword:Keyword)\\n        \\n        // 3. 결과 집계 및 점수 계산\\n        WITH article, article_score, precedent, \\n             collect(DISTINCT keyword.text) as keywords,\\n             count(precedent) as precedent_count\\n        \\n        // 법조항 점수 = 벡터 점수 + 판례 인용 수에 따른 보너스\\n        WITH article, article_score + (precedent_count * 0.01) as final_score,\\n             precedent_count, keywords\\n        \\n        RETURN article.id as id, \\n               article.text as text, \\n               final_score as score,\\n               precedent_count,\\n               keywords\\n        ORDER BY final_score DESC\\n        LIMIT $top_k\\n        \"\n"
     ]
    },
    {
     "name": "stdout",
     "output_type": "stream",
     "text": [
      "Search completed in 1.05 seconds\n",
      "Search completed in 1.01 seconds\n"
     ]
    },
    {
     "name": "stderr",
     "output_type": "stream",
     "text": [
      "Received notification from DBMS server: {severity: WARNING} {code: Neo.ClientNotification.Statement.AggregationSkippedNull} {category: UNRECOGNIZED} {title: The query contains an aggregation function that skips null values.} {description: null value eliminated in set function.} {position: None} for query: \"\\n        // 1. 벡터 검색으로 시작 법조항 찾기\\n        CALL db.index.vector.queryNodes('article_embedding', $top_k, $query_embedding) \\n        YIELD node as article, score as article_score\\n        \\n        // 2. 해당 법조항과 연결된 판례와 키워드 찾기\\n        OPTIONAL MATCH (precedent:Precedent)-[:REFERENCES_ARTICLE]->(article)\\n        OPTIONAL MATCH (precedent)-[:HAS_KEYWORD]->(keyword:Keyword)\\n        \\n        // 3. 결과 집계 및 점수 계산\\n        WITH article, article_score, precedent, \\n             collect(DISTINCT keyword.text) as keywords,\\n             count(precedent) as precedent_count\\n        \\n        // 법조항 점수 = 벡터 점수 + 판례 인용 수에 따른 보너스\\n        WITH article, article_score + (precedent_count * 0.01) as final_score,\\n             precedent_count, keywords\\n        \\n        RETURN article.id as id, \\n               article.text as text, \\n               final_score as score,\\n               precedent_count,\\n               keywords\\n        ORDER BY final_score DESC\\n        LIMIT $top_k\\n        \"\n"
     ]
    },
    {
     "name": "stdout",
     "output_type": "stream",
     "text": [
      "Search completed in 0.98 seconds\n",
      "Search completed in 1.50 seconds\n"
     ]
    },
    {
     "name": "stderr",
     "output_type": "stream",
     "text": [
      "Received notification from DBMS server: {severity: WARNING} {code: Neo.ClientNotification.Statement.AggregationSkippedNull} {category: UNRECOGNIZED} {title: The query contains an aggregation function that skips null values.} {description: null value eliminated in set function.} {position: None} for query: \"\\n        // 1. 벡터 검색으로 시작 법조항 찾기\\n        CALL db.index.vector.queryNodes('article_embedding', $top_k, $query_embedding) \\n        YIELD node as article, score as article_score\\n        \\n        // 2. 해당 법조항과 연결된 판례와 키워드 찾기\\n        OPTIONAL MATCH (precedent:Precedent)-[:REFERENCES_ARTICLE]->(article)\\n        OPTIONAL MATCH (precedent)-[:HAS_KEYWORD]->(keyword:Keyword)\\n        \\n        // 3. 결과 집계 및 점수 계산\\n        WITH article, article_score, precedent, \\n             collect(DISTINCT keyword.text) as keywords,\\n             count(precedent) as precedent_count\\n        \\n        // 법조항 점수 = 벡터 점수 + 판례 인용 수에 따른 보너스\\n        WITH article, article_score + (precedent_count * 0.01) as final_score,\\n             precedent_count, keywords\\n        \\n        RETURN article.id as id, \\n               article.text as text, \\n               final_score as score,\\n               precedent_count,\\n               keywords\\n        ORDER BY final_score DESC\\n        LIMIT $top_k\\n        \"\n"
     ]
    },
    {
     "name": "stdout",
     "output_type": "stream",
     "text": [
      "Search completed in 1.48 seconds\n"
     ]
    },
    {
     "name": "stderr",
     "output_type": "stream",
     "text": [
      "Received notification from DBMS server: {severity: WARNING} {code: Neo.ClientNotification.Statement.AggregationSkippedNull} {category: UNRECOGNIZED} {title: The query contains an aggregation function that skips null values.} {description: null value eliminated in set function.} {position: None} for query: \"\\n        // 1. 벡터 검색으로 시작 법조항 찾기\\n        CALL db.index.vector.queryNodes('article_embedding', $top_k, $query_embedding) \\n        YIELD node as article, score as article_score\\n        \\n        // 2. 해당 법조항과 연결된 판례와 키워드 찾기\\n        OPTIONAL MATCH (precedent:Precedent)-[:REFERENCES_ARTICLE]->(article)\\n        OPTIONAL MATCH (precedent)-[:HAS_KEYWORD]->(keyword:Keyword)\\n        \\n        // 3. 결과 집계 및 점수 계산\\n        WITH article, article_score, precedent, \\n             collect(DISTINCT keyword.text) as keywords,\\n             count(precedent) as precedent_count\\n        \\n        // 법조항 점수 = 벡터 점수 + 판례 인용 수에 따른 보너스\\n        WITH article, article_score + (precedent_count * 0.01) as final_score,\\n             precedent_count, keywords\\n        \\n        RETURN article.id as id, \\n               article.text as text, \\n               final_score as score,\\n               precedent_count,\\n               keywords\\n        ORDER BY final_score DESC\\n        LIMIT $top_k\\n        \"\n"
     ]
    },
    {
     "name": "stdout",
     "output_type": "stream",
     "text": [
      "Search completed in 1.09 seconds\n"
     ]
    },
    {
     "name": "stderr",
     "output_type": "stream",
     "text": [
      "Received notification from DBMS server: {severity: WARNING} {code: Neo.ClientNotification.Statement.AggregationSkippedNull} {category: UNRECOGNIZED} {title: The query contains an aggregation function that skips null values.} {description: null value eliminated in set function.} {position: None} for query: \"\\n        // 1. 벡터 검색으로 시작 법조항 찾기\\n        CALL db.index.vector.queryNodes('article_embedding', $top_k, $query_embedding) \\n        YIELD node as article, score as article_score\\n        \\n        // 2. 해당 법조항과 연결된 판례와 키워드 찾기\\n        OPTIONAL MATCH (precedent:Precedent)-[:REFERENCES_ARTICLE]->(article)\\n        OPTIONAL MATCH (precedent)-[:HAS_KEYWORD]->(keyword:Keyword)\\n        \\n        // 3. 결과 집계 및 점수 계산\\n        WITH article, article_score, precedent, \\n             collect(DISTINCT keyword.text) as keywords,\\n             count(precedent) as precedent_count\\n        \\n        // 법조항 점수 = 벡터 점수 + 판례 인용 수에 따른 보너스\\n        WITH article, article_score + (precedent_count * 0.01) as final_score,\\n             precedent_count, keywords\\n        \\n        RETURN article.id as id, \\n               article.text as text, \\n               final_score as score,\\n               precedent_count,\\n               keywords\\n        ORDER BY final_score DESC\\n        LIMIT $top_k\\n        \"\n"
     ]
    },
    {
     "name": "stdout",
     "output_type": "stream",
     "text": [
      "Search completed in 0.78 seconds\n"
     ]
    },
    {
     "name": "stderr",
     "output_type": "stream",
     "text": [
      "Received notification from DBMS server: {severity: WARNING} {code: Neo.ClientNotification.Statement.AggregationSkippedNull} {category: UNRECOGNIZED} {title: The query contains an aggregation function that skips null values.} {description: null value eliminated in set function.} {position: None} for query: \"\\n        // 1. 벡터 검색으로 시작 법조항 찾기\\n        CALL db.index.vector.queryNodes('article_embedding', $top_k, $query_embedding) \\n        YIELD node as article, score as article_score\\n        \\n        // 2. 해당 법조항과 연결된 판례와 키워드 찾기\\n        OPTIONAL MATCH (precedent:Precedent)-[:REFERENCES_ARTICLE]->(article)\\n        OPTIONAL MATCH (precedent)-[:HAS_KEYWORD]->(keyword:Keyword)\\n        \\n        // 3. 결과 집계 및 점수 계산\\n        WITH article, article_score, precedent, \\n             collect(DISTINCT keyword.text) as keywords,\\n             count(precedent) as precedent_count\\n        \\n        // 법조항 점수 = 벡터 점수 + 판례 인용 수에 따른 보너스\\n        WITH article, article_score + (precedent_count * 0.01) as final_score,\\n             precedent_count, keywords\\n        \\n        RETURN article.id as id, \\n               article.text as text, \\n               final_score as score,\\n               precedent_count,\\n               keywords\\n        ORDER BY final_score DESC\\n        LIMIT $top_k\\n        \"\n"
     ]
    },
    {
     "name": "stdout",
     "output_type": "stream",
     "text": [
      "Search completed in 1.28 seconds\n"
     ]
    },
    {
     "name": "stderr",
     "output_type": "stream",
     "text": [
      "Received notification from DBMS server: {severity: WARNING} {code: Neo.ClientNotification.Statement.AggregationSkippedNull} {category: UNRECOGNIZED} {title: The query contains an aggregation function that skips null values.} {description: null value eliminated in set function.} {position: None} for query: \"\\n        // 1. 벡터 검색으로 시작 법조항 찾기\\n        CALL db.index.vector.queryNodes('article_embedding', $top_k, $query_embedding) \\n        YIELD node as article, score as article_score\\n        \\n        // 2. 해당 법조항과 연결된 판례와 키워드 찾기\\n        OPTIONAL MATCH (precedent:Precedent)-[:REFERENCES_ARTICLE]->(article)\\n        OPTIONAL MATCH (precedent)-[:HAS_KEYWORD]->(keyword:Keyword)\\n        \\n        // 3. 결과 집계 및 점수 계산\\n        WITH article, article_score, precedent, \\n             collect(DISTINCT keyword.text) as keywords,\\n             count(precedent) as precedent_count\\n        \\n        // 법조항 점수 = 벡터 점수 + 판례 인용 수에 따른 보너스\\n        WITH article, article_score + (precedent_count * 0.01) as final_score,\\n             precedent_count, keywords\\n        \\n        RETURN article.id as id, \\n               article.text as text, \\n               final_score as score,\\n               precedent_count,\\n               keywords\\n        ORDER BY final_score DESC\\n        LIMIT $top_k\\n        \"\n"
     ]
    },
    {
     "name": "stdout",
     "output_type": "stream",
     "text": [
      "Search completed in 1.14 seconds\n"
     ]
    },
    {
     "name": "stderr",
     "output_type": "stream",
     "text": [
      "Received notification from DBMS server: {severity: WARNING} {code: Neo.ClientNotification.Statement.AggregationSkippedNull} {category: UNRECOGNIZED} {title: The query contains an aggregation function that skips null values.} {description: null value eliminated in set function.} {position: None} for query: \"\\n        // 1. 벡터 검색으로 시작 법조항 찾기\\n        CALL db.index.vector.queryNodes('article_embedding', $top_k, $query_embedding) \\n        YIELD node as article, score as article_score\\n        \\n        // 2. 해당 법조항과 연결된 판례와 키워드 찾기\\n        OPTIONAL MATCH (precedent:Precedent)-[:REFERENCES_ARTICLE]->(article)\\n        OPTIONAL MATCH (precedent)-[:HAS_KEYWORD]->(keyword:Keyword)\\n        \\n        // 3. 결과 집계 및 점수 계산\\n        WITH article, article_score, precedent, \\n             collect(DISTINCT keyword.text) as keywords,\\n             count(precedent) as precedent_count\\n        \\n        // 법조항 점수 = 벡터 점수 + 판례 인용 수에 따른 보너스\\n        WITH article, article_score + (precedent_count * 0.01) as final_score,\\n             precedent_count, keywords\\n        \\n        RETURN article.id as id, \\n               article.text as text, \\n               final_score as score,\\n               precedent_count,\\n               keywords\\n        ORDER BY final_score DESC\\n        LIMIT $top_k\\n        \"\n"
     ]
    },
    {
     "name": "stdout",
     "output_type": "stream",
     "text": [
      "Search completed in 1.44 seconds\n"
     ]
    },
    {
     "name": "stderr",
     "output_type": "stream",
     "text": [
      "Received notification from DBMS server: {severity: WARNING} {code: Neo.ClientNotification.Statement.AggregationSkippedNull} {category: UNRECOGNIZED} {title: The query contains an aggregation function that skips null values.} {description: null value eliminated in set function.} {position: None} for query: \"\\n        // 1. 벡터 검색으로 시작 법조항 찾기\\n        CALL db.index.vector.queryNodes('article_embedding', $top_k, $query_embedding) \\n        YIELD node as article, score as article_score\\n        \\n        // 2. 해당 법조항과 연결된 판례와 키워드 찾기\\n        OPTIONAL MATCH (precedent:Precedent)-[:REFERENCES_ARTICLE]->(article)\\n        OPTIONAL MATCH (precedent)-[:HAS_KEYWORD]->(keyword:Keyword)\\n        \\n        // 3. 결과 집계 및 점수 계산\\n        WITH article, article_score, precedent, \\n             collect(DISTINCT keyword.text) as keywords,\\n             count(precedent) as precedent_count\\n        \\n        // 법조항 점수 = 벡터 점수 + 판례 인용 수에 따른 보너스\\n        WITH article, article_score + (precedent_count * 0.01) as final_score,\\n             precedent_count, keywords\\n        \\n        RETURN article.id as id, \\n               article.text as text, \\n               final_score as score,\\n               precedent_count,\\n               keywords\\n        ORDER BY final_score DESC\\n        LIMIT $top_k\\n        \"\n"
     ]
    },
    {
     "name": "stdout",
     "output_type": "stream",
     "text": [
      "Search completed in 3.11 seconds\n",
      "Search completed in 1.37 seconds\n",
      "Search completed in 1.02 seconds\n",
      "Search completed in 1.29 seconds\n",
      "Search completed in 0.94 seconds\n",
      "Search completed in 2.25 seconds\n"
     ]
    },
    {
     "name": "stderr",
     "output_type": "stream",
     "text": [
      "Received notification from DBMS server: {severity: WARNING} {code: Neo.ClientNotification.Statement.AggregationSkippedNull} {category: UNRECOGNIZED} {title: The query contains an aggregation function that skips null values.} {description: null value eliminated in set function.} {position: None} for query: \"\\n        // 1. 벡터 검색으로 시작 법조항 찾기\\n        CALL db.index.vector.queryNodes('article_embedding', $top_k, $query_embedding) \\n        YIELD node as article, score as article_score\\n        \\n        // 2. 해당 법조항과 연결된 판례와 키워드 찾기\\n        OPTIONAL MATCH (precedent:Precedent)-[:REFERENCES_ARTICLE]->(article)\\n        OPTIONAL MATCH (precedent)-[:HAS_KEYWORD]->(keyword:Keyword)\\n        \\n        // 3. 결과 집계 및 점수 계산\\n        WITH article, article_score, precedent, \\n             collect(DISTINCT keyword.text) as keywords,\\n             count(precedent) as precedent_count\\n        \\n        // 법조항 점수 = 벡터 점수 + 판례 인용 수에 따른 보너스\\n        WITH article, article_score + (precedent_count * 0.01) as final_score,\\n             precedent_count, keywords\\n        \\n        RETURN article.id as id, \\n               article.text as text, \\n               final_score as score,\\n               precedent_count,\\n               keywords\\n        ORDER BY final_score DESC\\n        LIMIT $top_k\\n        \"\n"
     ]
    },
    {
     "name": "stdout",
     "output_type": "stream",
     "text": [
      "Search completed in 1.81 seconds\n"
     ]
    },
    {
     "name": "stderr",
     "output_type": "stream",
     "text": [
      "Received notification from DBMS server: {severity: WARNING} {code: Neo.ClientNotification.Statement.AggregationSkippedNull} {category: UNRECOGNIZED} {title: The query contains an aggregation function that skips null values.} {description: null value eliminated in set function.} {position: None} for query: \"\\n        // 1. 벡터 검색으로 시작 법조항 찾기\\n        CALL db.index.vector.queryNodes('article_embedding', $top_k, $query_embedding) \\n        YIELD node as article, score as article_score\\n        \\n        // 2. 해당 법조항과 연결된 판례와 키워드 찾기\\n        OPTIONAL MATCH (precedent:Precedent)-[:REFERENCES_ARTICLE]->(article)\\n        OPTIONAL MATCH (precedent)-[:HAS_KEYWORD]->(keyword:Keyword)\\n        \\n        // 3. 결과 집계 및 점수 계산\\n        WITH article, article_score, precedent, \\n             collect(DISTINCT keyword.text) as keywords,\\n             count(precedent) as precedent_count\\n        \\n        // 법조항 점수 = 벡터 점수 + 판례 인용 수에 따른 보너스\\n        WITH article, article_score + (precedent_count * 0.01) as final_score,\\n             precedent_count, keywords\\n        \\n        RETURN article.id as id, \\n               article.text as text, \\n               final_score as score,\\n               precedent_count,\\n               keywords\\n        ORDER BY final_score DESC\\n        LIMIT $top_k\\n        \"\n"
     ]
    },
    {
     "name": "stdout",
     "output_type": "stream",
     "text": [
      "Search completed in 0.95 seconds\n"
     ]
    },
    {
     "name": "stderr",
     "output_type": "stream",
     "text": [
      "Received notification from DBMS server: {severity: WARNING} {code: Neo.ClientNotification.Statement.AggregationSkippedNull} {category: UNRECOGNIZED} {title: The query contains an aggregation function that skips null values.} {description: null value eliminated in set function.} {position: None} for query: \"\\n        // 1. 벡터 검색으로 시작 법조항 찾기\\n        CALL db.index.vector.queryNodes('article_embedding', $top_k, $query_embedding) \\n        YIELD node as article, score as article_score\\n        \\n        // 2. 해당 법조항과 연결된 판례와 키워드 찾기\\n        OPTIONAL MATCH (precedent:Precedent)-[:REFERENCES_ARTICLE]->(article)\\n        OPTIONAL MATCH (precedent)-[:HAS_KEYWORD]->(keyword:Keyword)\\n        \\n        // 3. 결과 집계 및 점수 계산\\n        WITH article, article_score, precedent, \\n             collect(DISTINCT keyword.text) as keywords,\\n             count(precedent) as precedent_count\\n        \\n        // 법조항 점수 = 벡터 점수 + 판례 인용 수에 따른 보너스\\n        WITH article, article_score + (precedent_count * 0.01) as final_score,\\n             precedent_count, keywords\\n        \\n        RETURN article.id as id, \\n               article.text as text, \\n               final_score as score,\\n               precedent_count,\\n               keywords\\n        ORDER BY final_score DESC\\n        LIMIT $top_k\\n        \"\n"
     ]
    },
    {
     "name": "stdout",
     "output_type": "stream",
     "text": [
      "Search completed in 1.15 seconds\n"
     ]
    },
    {
     "name": "stderr",
     "output_type": "stream",
     "text": [
      "Received notification from DBMS server: {severity: WARNING} {code: Neo.ClientNotification.Statement.AggregationSkippedNull} {category: UNRECOGNIZED} {title: The query contains an aggregation function that skips null values.} {description: null value eliminated in set function.} {position: None} for query: \"\\n        // 1. 벡터 검색으로 시작 법조항 찾기\\n        CALL db.index.vector.queryNodes('article_embedding', $top_k, $query_embedding) \\n        YIELD node as article, score as article_score\\n        \\n        // 2. 해당 법조항과 연결된 판례와 키워드 찾기\\n        OPTIONAL MATCH (precedent:Precedent)-[:REFERENCES_ARTICLE]->(article)\\n        OPTIONAL MATCH (precedent)-[:HAS_KEYWORD]->(keyword:Keyword)\\n        \\n        // 3. 결과 집계 및 점수 계산\\n        WITH article, article_score, precedent, \\n             collect(DISTINCT keyword.text) as keywords,\\n             count(precedent) as precedent_count\\n        \\n        // 법조항 점수 = 벡터 점수 + 판례 인용 수에 따른 보너스\\n        WITH article, article_score + (precedent_count * 0.01) as final_score,\\n             precedent_count, keywords\\n        \\n        RETURN article.id as id, \\n               article.text as text, \\n               final_score as score,\\n               precedent_count,\\n               keywords\\n        ORDER BY final_score DESC\\n        LIMIT $top_k\\n        \"\n"
     ]
    },
    {
     "name": "stdout",
     "output_type": "stream",
     "text": [
      "Search completed in 0.96 seconds\n",
      "Search completed in 1.37 seconds\n"
     ]
    },
    {
     "name": "stderr",
     "output_type": "stream",
     "text": [
      "Received notification from DBMS server: {severity: WARNING} {code: Neo.ClientNotification.Statement.AggregationSkippedNull} {category: UNRECOGNIZED} {title: The query contains an aggregation function that skips null values.} {description: null value eliminated in set function.} {position: None} for query: \"\\n        // 1. 벡터 검색으로 시작 법조항 찾기\\n        CALL db.index.vector.queryNodes('article_embedding', $top_k, $query_embedding) \\n        YIELD node as article, score as article_score\\n        \\n        // 2. 해당 법조항과 연결된 판례와 키워드 찾기\\n        OPTIONAL MATCH (precedent:Precedent)-[:REFERENCES_ARTICLE]->(article)\\n        OPTIONAL MATCH (precedent)-[:HAS_KEYWORD]->(keyword:Keyword)\\n        \\n        // 3. 결과 집계 및 점수 계산\\n        WITH article, article_score, precedent, \\n             collect(DISTINCT keyword.text) as keywords,\\n             count(precedent) as precedent_count\\n        \\n        // 법조항 점수 = 벡터 점수 + 판례 인용 수에 따른 보너스\\n        WITH article, article_score + (precedent_count * 0.01) as final_score,\\n             precedent_count, keywords\\n        \\n        RETURN article.id as id, \\n               article.text as text, \\n               final_score as score,\\n               precedent_count,\\n               keywords\\n        ORDER BY final_score DESC\\n        LIMIT $top_k\\n        \"\n"
     ]
    },
    {
     "name": "stdout",
     "output_type": "stream",
     "text": [
      "Search completed in 0.95 seconds\n",
      "Search completed in 0.85 seconds\n",
      "Search completed in 0.89 seconds\n",
      "Search completed in 1.41 seconds\n"
     ]
    },
    {
     "name": "stderr",
     "output_type": "stream",
     "text": [
      "Received notification from DBMS server: {severity: WARNING} {code: Neo.ClientNotification.Statement.AggregationSkippedNull} {category: UNRECOGNIZED} {title: The query contains an aggregation function that skips null values.} {description: null value eliminated in set function.} {position: None} for query: \"\\n        // 1. 벡터 검색으로 시작 법조항 찾기\\n        CALL db.index.vector.queryNodes('article_embedding', $top_k, $query_embedding) \\n        YIELD node as article, score as article_score\\n        \\n        // 2. 해당 법조항과 연결된 판례와 키워드 찾기\\n        OPTIONAL MATCH (precedent:Precedent)-[:REFERENCES_ARTICLE]->(article)\\n        OPTIONAL MATCH (precedent)-[:HAS_KEYWORD]->(keyword:Keyword)\\n        \\n        // 3. 결과 집계 및 점수 계산\\n        WITH article, article_score, precedent, \\n             collect(DISTINCT keyword.text) as keywords,\\n             count(precedent) as precedent_count\\n        \\n        // 법조항 점수 = 벡터 점수 + 판례 인용 수에 따른 보너스\\n        WITH article, article_score + (precedent_count * 0.01) as final_score,\\n             precedent_count, keywords\\n        \\n        RETURN article.id as id, \\n               article.text as text, \\n               final_score as score,\\n               precedent_count,\\n               keywords\\n        ORDER BY final_score DESC\\n        LIMIT $top_k\\n        \"\n"
     ]
    },
    {
     "name": "stdout",
     "output_type": "stream",
     "text": [
      "Search completed in 1.93 seconds\n",
      "Search completed in 1.20 seconds\n",
      "Search completed in 1.49 seconds\n",
      "Search completed in 1.47 seconds\n",
      "Search completed in 1.98 seconds\n"
     ]
    },
    {
     "name": "stderr",
     "output_type": "stream",
     "text": [
      "Received notification from DBMS server: {severity: WARNING} {code: Neo.ClientNotification.Statement.AggregationSkippedNull} {category: UNRECOGNIZED} {title: The query contains an aggregation function that skips null values.} {description: null value eliminated in set function.} {position: None} for query: \"\\n        // 1. 벡터 검색으로 시작 법조항 찾기\\n        CALL db.index.vector.queryNodes('article_embedding', $top_k, $query_embedding) \\n        YIELD node as article, score as article_score\\n        \\n        // 2. 해당 법조항과 연결된 판례와 키워드 찾기\\n        OPTIONAL MATCH (precedent:Precedent)-[:REFERENCES_ARTICLE]->(article)\\n        OPTIONAL MATCH (precedent)-[:HAS_KEYWORD]->(keyword:Keyword)\\n        \\n        // 3. 결과 집계 및 점수 계산\\n        WITH article, article_score, precedent, \\n             collect(DISTINCT keyword.text) as keywords,\\n             count(precedent) as precedent_count\\n        \\n        // 법조항 점수 = 벡터 점수 + 판례 인용 수에 따른 보너스\\n        WITH article, article_score + (precedent_count * 0.01) as final_score,\\n             precedent_count, keywords\\n        \\n        RETURN article.id as id, \\n               article.text as text, \\n               final_score as score,\\n               precedent_count,\\n               keywords\\n        ORDER BY final_score DESC\\n        LIMIT $top_k\\n        \"\n"
     ]
    },
    {
     "name": "stdout",
     "output_type": "stream",
     "text": [
      "Search completed in 0.75 seconds\n"
     ]
    },
    {
     "name": "stderr",
     "output_type": "stream",
     "text": [
      "Received notification from DBMS server: {severity: WARNING} {code: Neo.ClientNotification.Statement.AggregationSkippedNull} {category: UNRECOGNIZED} {title: The query contains an aggregation function that skips null values.} {description: null value eliminated in set function.} {position: None} for query: \"\\n        // 1. 벡터 검색으로 시작 법조항 찾기\\n        CALL db.index.vector.queryNodes('article_embedding', $top_k, $query_embedding) \\n        YIELD node as article, score as article_score\\n        \\n        // 2. 해당 법조항과 연결된 판례와 키워드 찾기\\n        OPTIONAL MATCH (precedent:Precedent)-[:REFERENCES_ARTICLE]->(article)\\n        OPTIONAL MATCH (precedent)-[:HAS_KEYWORD]->(keyword:Keyword)\\n        \\n        // 3. 결과 집계 및 점수 계산\\n        WITH article, article_score, precedent, \\n             collect(DISTINCT keyword.text) as keywords,\\n             count(precedent) as precedent_count\\n        \\n        // 법조항 점수 = 벡터 점수 + 판례 인용 수에 따른 보너스\\n        WITH article, article_score + (precedent_count * 0.01) as final_score,\\n             precedent_count, keywords\\n        \\n        RETURN article.id as id, \\n               article.text as text, \\n               final_score as score,\\n               precedent_count,\\n               keywords\\n        ORDER BY final_score DESC\\n        LIMIT $top_k\\n        \"\n"
     ]
    },
    {
     "name": "stdout",
     "output_type": "stream",
     "text": [
      "Search completed in 0.95 seconds\n"
     ]
    },
    {
     "name": "stderr",
     "output_type": "stream",
     "text": [
      "Received notification from DBMS server: {severity: WARNING} {code: Neo.ClientNotification.Statement.AggregationSkippedNull} {category: UNRECOGNIZED} {title: The query contains an aggregation function that skips null values.} {description: null value eliminated in set function.} {position: None} for query: \"\\n        // 1. 벡터 검색으로 시작 법조항 찾기\\n        CALL db.index.vector.queryNodes('article_embedding', $top_k, $query_embedding) \\n        YIELD node as article, score as article_score\\n        \\n        // 2. 해당 법조항과 연결된 판례와 키워드 찾기\\n        OPTIONAL MATCH (precedent:Precedent)-[:REFERENCES_ARTICLE]->(article)\\n        OPTIONAL MATCH (precedent)-[:HAS_KEYWORD]->(keyword:Keyword)\\n        \\n        // 3. 결과 집계 및 점수 계산\\n        WITH article, article_score, precedent, \\n             collect(DISTINCT keyword.text) as keywords,\\n             count(precedent) as precedent_count\\n        \\n        // 법조항 점수 = 벡터 점수 + 판례 인용 수에 따른 보너스\\n        WITH article, article_score + (precedent_count * 0.01) as final_score,\\n             precedent_count, keywords\\n        \\n        RETURN article.id as id, \\n               article.text as text, \\n               final_score as score,\\n               precedent_count,\\n               keywords\\n        ORDER BY final_score DESC\\n        LIMIT $top_k\\n        \"\n"
     ]
    },
    {
     "name": "stdout",
     "output_type": "stream",
     "text": [
      "Search completed in 1.70 seconds\n"
     ]
    },
    {
     "name": "stderr",
     "output_type": "stream",
     "text": [
      "Received notification from DBMS server: {severity: WARNING} {code: Neo.ClientNotification.Statement.AggregationSkippedNull} {category: UNRECOGNIZED} {title: The query contains an aggregation function that skips null values.} {description: null value eliminated in set function.} {position: None} for query: \"\\n        // 1. 벡터 검색으로 시작 법조항 찾기\\n        CALL db.index.vector.queryNodes('article_embedding', $top_k, $query_embedding) \\n        YIELD node as article, score as article_score\\n        \\n        // 2. 해당 법조항과 연결된 판례와 키워드 찾기\\n        OPTIONAL MATCH (precedent:Precedent)-[:REFERENCES_ARTICLE]->(article)\\n        OPTIONAL MATCH (precedent)-[:HAS_KEYWORD]->(keyword:Keyword)\\n        \\n        // 3. 결과 집계 및 점수 계산\\n        WITH article, article_score, precedent, \\n             collect(DISTINCT keyword.text) as keywords,\\n             count(precedent) as precedent_count\\n        \\n        // 법조항 점수 = 벡터 점수 + 판례 인용 수에 따른 보너스\\n        WITH article, article_score + (precedent_count * 0.01) as final_score,\\n             precedent_count, keywords\\n        \\n        RETURN article.id as id, \\n               article.text as text, \\n               final_score as score,\\n               precedent_count,\\n               keywords\\n        ORDER BY final_score DESC\\n        LIMIT $top_k\\n        \"\n"
     ]
    },
    {
     "name": "stdout",
     "output_type": "stream",
     "text": [
      "Search completed in 1.28 seconds\n",
      "Search completed in 1.00 seconds\n",
      "Search completed in 1.29 seconds\n"
     ]
    },
    {
     "name": "stderr",
     "output_type": "stream",
     "text": [
      "Received notification from DBMS server: {severity: WARNING} {code: Neo.ClientNotification.Statement.AggregationSkippedNull} {category: UNRECOGNIZED} {title: The query contains an aggregation function that skips null values.} {description: null value eliminated in set function.} {position: None} for query: \"\\n        // 1. 벡터 검색으로 시작 법조항 찾기\\n        CALL db.index.vector.queryNodes('article_embedding', $top_k, $query_embedding) \\n        YIELD node as article, score as article_score\\n        \\n        // 2. 해당 법조항과 연결된 판례와 키워드 찾기\\n        OPTIONAL MATCH (precedent:Precedent)-[:REFERENCES_ARTICLE]->(article)\\n        OPTIONAL MATCH (precedent)-[:HAS_KEYWORD]->(keyword:Keyword)\\n        \\n        // 3. 결과 집계 및 점수 계산\\n        WITH article, article_score, precedent, \\n             collect(DISTINCT keyword.text) as keywords,\\n             count(precedent) as precedent_count\\n        \\n        // 법조항 점수 = 벡터 점수 + 판례 인용 수에 따른 보너스\\n        WITH article, article_score + (precedent_count * 0.01) as final_score,\\n             precedent_count, keywords\\n        \\n        RETURN article.id as id, \\n               article.text as text, \\n               final_score as score,\\n               precedent_count,\\n               keywords\\n        ORDER BY final_score DESC\\n        LIMIT $top_k\\n        \"\n"
     ]
    },
    {
     "name": "stdout",
     "output_type": "stream",
     "text": [
      "Search completed in 1.14 seconds\n"
     ]
    },
    {
     "name": "stderr",
     "output_type": "stream",
     "text": [
      "Received notification from DBMS server: {severity: WARNING} {code: Neo.ClientNotification.Statement.AggregationSkippedNull} {category: UNRECOGNIZED} {title: The query contains an aggregation function that skips null values.} {description: null value eliminated in set function.} {position: None} for query: \"\\n        // 1. 벡터 검색으로 시작 법조항 찾기\\n        CALL db.index.vector.queryNodes('article_embedding', $top_k, $query_embedding) \\n        YIELD node as article, score as article_score\\n        \\n        // 2. 해당 법조항과 연결된 판례와 키워드 찾기\\n        OPTIONAL MATCH (precedent:Precedent)-[:REFERENCES_ARTICLE]->(article)\\n        OPTIONAL MATCH (precedent)-[:HAS_KEYWORD]->(keyword:Keyword)\\n        \\n        // 3. 결과 집계 및 점수 계산\\n        WITH article, article_score, precedent, \\n             collect(DISTINCT keyword.text) as keywords,\\n             count(precedent) as precedent_count\\n        \\n        // 법조항 점수 = 벡터 점수 + 판례 인용 수에 따른 보너스\\n        WITH article, article_score + (precedent_count * 0.01) as final_score,\\n             precedent_count, keywords\\n        \\n        RETURN article.id as id, \\n               article.text as text, \\n               final_score as score,\\n               precedent_count,\\n               keywords\\n        ORDER BY final_score DESC\\n        LIMIT $top_k\\n        \"\n"
     ]
    },
    {
     "name": "stdout",
     "output_type": "stream",
     "text": [
      "Search completed in 1.27 seconds\n"
     ]
    },
    {
     "name": "stderr",
     "output_type": "stream",
     "text": [
      "Received notification from DBMS server: {severity: WARNING} {code: Neo.ClientNotification.Statement.AggregationSkippedNull} {category: UNRECOGNIZED} {title: The query contains an aggregation function that skips null values.} {description: null value eliminated in set function.} {position: None} for query: \"\\n        // 1. 벡터 검색으로 시작 법조항 찾기\\n        CALL db.index.vector.queryNodes('article_embedding', $top_k, $query_embedding) \\n        YIELD node as article, score as article_score\\n        \\n        // 2. 해당 법조항과 연결된 판례와 키워드 찾기\\n        OPTIONAL MATCH (precedent:Precedent)-[:REFERENCES_ARTICLE]->(article)\\n        OPTIONAL MATCH (precedent)-[:HAS_KEYWORD]->(keyword:Keyword)\\n        \\n        // 3. 결과 집계 및 점수 계산\\n        WITH article, article_score, precedent, \\n             collect(DISTINCT keyword.text) as keywords,\\n             count(precedent) as precedent_count\\n        \\n        // 법조항 점수 = 벡터 점수 + 판례 인용 수에 따른 보너스\\n        WITH article, article_score + (precedent_count * 0.01) as final_score,\\n             precedent_count, keywords\\n        \\n        RETURN article.id as id, \\n               article.text as text, \\n               final_score as score,\\n               precedent_count,\\n               keywords\\n        ORDER BY final_score DESC\\n        LIMIT $top_k\\n        \"\n"
     ]
    },
    {
     "name": "stdout",
     "output_type": "stream",
     "text": [
      "Search completed in 1.29 seconds\n"
     ]
    },
    {
     "name": "stderr",
     "output_type": "stream",
     "text": [
      "Received notification from DBMS server: {severity: WARNING} {code: Neo.ClientNotification.Statement.AggregationSkippedNull} {category: UNRECOGNIZED} {title: The query contains an aggregation function that skips null values.} {description: null value eliminated in set function.} {position: None} for query: \"\\n        // 1. 벡터 검색으로 시작 법조항 찾기\\n        CALL db.index.vector.queryNodes('article_embedding', $top_k, $query_embedding) \\n        YIELD node as article, score as article_score\\n        \\n        // 2. 해당 법조항과 연결된 판례와 키워드 찾기\\n        OPTIONAL MATCH (precedent:Precedent)-[:REFERENCES_ARTICLE]->(article)\\n        OPTIONAL MATCH (precedent)-[:HAS_KEYWORD]->(keyword:Keyword)\\n        \\n        // 3. 결과 집계 및 점수 계산\\n        WITH article, article_score, precedent, \\n             collect(DISTINCT keyword.text) as keywords,\\n             count(precedent) as precedent_count\\n        \\n        // 법조항 점수 = 벡터 점수 + 판례 인용 수에 따른 보너스\\n        WITH article, article_score + (precedent_count * 0.01) as final_score,\\n             precedent_count, keywords\\n        \\n        RETURN article.id as id, \\n               article.text as text, \\n               final_score as score,\\n               precedent_count,\\n               keywords\\n        ORDER BY final_score DESC\\n        LIMIT $top_k\\n        \"\n"
     ]
    },
    {
     "name": "stdout",
     "output_type": "stream",
     "text": [
      "Search completed in 1.06 seconds\n"
     ]
    },
    {
     "name": "stderr",
     "output_type": "stream",
     "text": [
      "Received notification from DBMS server: {severity: WARNING} {code: Neo.ClientNotification.Statement.AggregationSkippedNull} {category: UNRECOGNIZED} {title: The query contains an aggregation function that skips null values.} {description: null value eliminated in set function.} {position: None} for query: \"\\n        // 1. 벡터 검색으로 시작 법조항 찾기\\n        CALL db.index.vector.queryNodes('article_embedding', $top_k, $query_embedding) \\n        YIELD node as article, score as article_score\\n        \\n        // 2. 해당 법조항과 연결된 판례와 키워드 찾기\\n        OPTIONAL MATCH (precedent:Precedent)-[:REFERENCES_ARTICLE]->(article)\\n        OPTIONAL MATCH (precedent)-[:HAS_KEYWORD]->(keyword:Keyword)\\n        \\n        // 3. 결과 집계 및 점수 계산\\n        WITH article, article_score, precedent, \\n             collect(DISTINCT keyword.text) as keywords,\\n             count(precedent) as precedent_count\\n        \\n        // 법조항 점수 = 벡터 점수 + 판례 인용 수에 따른 보너스\\n        WITH article, article_score + (precedent_count * 0.01) as final_score,\\n             precedent_count, keywords\\n        \\n        RETURN article.id as id, \\n               article.text as text, \\n               final_score as score,\\n               precedent_count,\\n               keywords\\n        ORDER BY final_score DESC\\n        LIMIT $top_k\\n        \"\n"
     ]
    },
    {
     "name": "stdout",
     "output_type": "stream",
     "text": [
      "Search completed in 0.83 seconds\n"
     ]
    },
    {
     "name": "stderr",
     "output_type": "stream",
     "text": [
      "Received notification from DBMS server: {severity: WARNING} {code: Neo.ClientNotification.Statement.AggregationSkippedNull} {category: UNRECOGNIZED} {title: The query contains an aggregation function that skips null values.} {description: null value eliminated in set function.} {position: None} for query: \"\\n        // 1. 벡터 검색으로 시작 법조항 찾기\\n        CALL db.index.vector.queryNodes('article_embedding', $top_k, $query_embedding) \\n        YIELD node as article, score as article_score\\n        \\n        // 2. 해당 법조항과 연결된 판례와 키워드 찾기\\n        OPTIONAL MATCH (precedent:Precedent)-[:REFERENCES_ARTICLE]->(article)\\n        OPTIONAL MATCH (precedent)-[:HAS_KEYWORD]->(keyword:Keyword)\\n        \\n        // 3. 결과 집계 및 점수 계산\\n        WITH article, article_score, precedent, \\n             collect(DISTINCT keyword.text) as keywords,\\n             count(precedent) as precedent_count\\n        \\n        // 법조항 점수 = 벡터 점수 + 판례 인용 수에 따른 보너스\\n        WITH article, article_score + (precedent_count * 0.01) as final_score,\\n             precedent_count, keywords\\n        \\n        RETURN article.id as id, \\n               article.text as text, \\n               final_score as score,\\n               precedent_count,\\n               keywords\\n        ORDER BY final_score DESC\\n        LIMIT $top_k\\n        \"\n"
     ]
    },
    {
     "name": "stdout",
     "output_type": "stream",
     "text": [
      "Search completed in 0.81 seconds\n"
     ]
    },
    {
     "name": "stderr",
     "output_type": "stream",
     "text": [
      "Received notification from DBMS server: {severity: WARNING} {code: Neo.ClientNotification.Statement.AggregationSkippedNull} {category: UNRECOGNIZED} {title: The query contains an aggregation function that skips null values.} {description: null value eliminated in set function.} {position: None} for query: \"\\n        // 1. 벡터 검색으로 시작 법조항 찾기\\n        CALL db.index.vector.queryNodes('article_embedding', $top_k, $query_embedding) \\n        YIELD node as article, score as article_score\\n        \\n        // 2. 해당 법조항과 연결된 판례와 키워드 찾기\\n        OPTIONAL MATCH (precedent:Precedent)-[:REFERENCES_ARTICLE]->(article)\\n        OPTIONAL MATCH (precedent)-[:HAS_KEYWORD]->(keyword:Keyword)\\n        \\n        // 3. 결과 집계 및 점수 계산\\n        WITH article, article_score, precedent, \\n             collect(DISTINCT keyword.text) as keywords,\\n             count(precedent) as precedent_count\\n        \\n        // 법조항 점수 = 벡터 점수 + 판례 인용 수에 따른 보너스\\n        WITH article, article_score + (precedent_count * 0.01) as final_score,\\n             precedent_count, keywords\\n        \\n        RETURN article.id as id, \\n               article.text as text, \\n               final_score as score,\\n               precedent_count,\\n               keywords\\n        ORDER BY final_score DESC\\n        LIMIT $top_k\\n        \"\n"
     ]
    },
    {
     "name": "stdout",
     "output_type": "stream",
     "text": [
      "Search completed in 1.28 seconds\n"
     ]
    },
    {
     "name": "stderr",
     "output_type": "stream",
     "text": [
      "Received notification from DBMS server: {severity: WARNING} {code: Neo.ClientNotification.Statement.AggregationSkippedNull} {category: UNRECOGNIZED} {title: The query contains an aggregation function that skips null values.} {description: null value eliminated in set function.} {position: None} for query: \"\\n        // 1. 벡터 검색으로 시작 법조항 찾기\\n        CALL db.index.vector.queryNodes('article_embedding', $top_k, $query_embedding) \\n        YIELD node as article, score as article_score\\n        \\n        // 2. 해당 법조항과 연결된 판례와 키워드 찾기\\n        OPTIONAL MATCH (precedent:Precedent)-[:REFERENCES_ARTICLE]->(article)\\n        OPTIONAL MATCH (precedent)-[:HAS_KEYWORD]->(keyword:Keyword)\\n        \\n        // 3. 결과 집계 및 점수 계산\\n        WITH article, article_score, precedent, \\n             collect(DISTINCT keyword.text) as keywords,\\n             count(precedent) as precedent_count\\n        \\n        // 법조항 점수 = 벡터 점수 + 판례 인용 수에 따른 보너스\\n        WITH article, article_score + (precedent_count * 0.01) as final_score,\\n             precedent_count, keywords\\n        \\n        RETURN article.id as id, \\n               article.text as text, \\n               final_score as score,\\n               precedent_count,\\n               keywords\\n        ORDER BY final_score DESC\\n        LIMIT $top_k\\n        \"\n"
     ]
    },
    {
     "name": "stdout",
     "output_type": "stream",
     "text": [
      "Search completed in 0.96 seconds\n"
     ]
    },
    {
     "name": "stderr",
     "output_type": "stream",
     "text": [
      "Received notification from DBMS server: {severity: WARNING} {code: Neo.ClientNotification.Statement.AggregationSkippedNull} {category: UNRECOGNIZED} {title: The query contains an aggregation function that skips null values.} {description: null value eliminated in set function.} {position: None} for query: \"\\n        // 1. 벡터 검색으로 시작 법조항 찾기\\n        CALL db.index.vector.queryNodes('article_embedding', $top_k, $query_embedding) \\n        YIELD node as article, score as article_score\\n        \\n        // 2. 해당 법조항과 연결된 판례와 키워드 찾기\\n        OPTIONAL MATCH (precedent:Precedent)-[:REFERENCES_ARTICLE]->(article)\\n        OPTIONAL MATCH (precedent)-[:HAS_KEYWORD]->(keyword:Keyword)\\n        \\n        // 3. 결과 집계 및 점수 계산\\n        WITH article, article_score, precedent, \\n             collect(DISTINCT keyword.text) as keywords,\\n             count(precedent) as precedent_count\\n        \\n        // 법조항 점수 = 벡터 점수 + 판례 인용 수에 따른 보너스\\n        WITH article, article_score + (precedent_count * 0.01) as final_score,\\n             precedent_count, keywords\\n        \\n        RETURN article.id as id, \\n               article.text as text, \\n               final_score as score,\\n               precedent_count,\\n               keywords\\n        ORDER BY final_score DESC\\n        LIMIT $top_k\\n        \"\n"
     ]
    },
    {
     "name": "stdout",
     "output_type": "stream",
     "text": [
      "Search completed in 0.84 seconds\n"
     ]
    },
    {
     "name": "stderr",
     "output_type": "stream",
     "text": [
      "Received notification from DBMS server: {severity: WARNING} {code: Neo.ClientNotification.Statement.AggregationSkippedNull} {category: UNRECOGNIZED} {title: The query contains an aggregation function that skips null values.} {description: null value eliminated in set function.} {position: None} for query: \"\\n        // 1. 벡터 검색으로 시작 법조항 찾기\\n        CALL db.index.vector.queryNodes('article_embedding', $top_k, $query_embedding) \\n        YIELD node as article, score as article_score\\n        \\n        // 2. 해당 법조항과 연결된 판례와 키워드 찾기\\n        OPTIONAL MATCH (precedent:Precedent)-[:REFERENCES_ARTICLE]->(article)\\n        OPTIONAL MATCH (precedent)-[:HAS_KEYWORD]->(keyword:Keyword)\\n        \\n        // 3. 결과 집계 및 점수 계산\\n        WITH article, article_score, precedent, \\n             collect(DISTINCT keyword.text) as keywords,\\n             count(precedent) as precedent_count\\n        \\n        // 법조항 점수 = 벡터 점수 + 판례 인용 수에 따른 보너스\\n        WITH article, article_score + (precedent_count * 0.01) as final_score,\\n             precedent_count, keywords\\n        \\n        RETURN article.id as id, \\n               article.text as text, \\n               final_score as score,\\n               precedent_count,\\n               keywords\\n        ORDER BY final_score DESC\\n        LIMIT $top_k\\n        \"\n"
     ]
    },
    {
     "name": "stdout",
     "output_type": "stream",
     "text": [
      "Search completed in 0.98 seconds\n"
     ]
    },
    {
     "name": "stderr",
     "output_type": "stream",
     "text": [
      "Received notification from DBMS server: {severity: WARNING} {code: Neo.ClientNotification.Statement.AggregationSkippedNull} {category: UNRECOGNIZED} {title: The query contains an aggregation function that skips null values.} {description: null value eliminated in set function.} {position: None} for query: \"\\n        // 1. 벡터 검색으로 시작 법조항 찾기\\n        CALL db.index.vector.queryNodes('article_embedding', $top_k, $query_embedding) \\n        YIELD node as article, score as article_score\\n        \\n        // 2. 해당 법조항과 연결된 판례와 키워드 찾기\\n        OPTIONAL MATCH (precedent:Precedent)-[:REFERENCES_ARTICLE]->(article)\\n        OPTIONAL MATCH (precedent)-[:HAS_KEYWORD]->(keyword:Keyword)\\n        \\n        // 3. 결과 집계 및 점수 계산\\n        WITH article, article_score, precedent, \\n             collect(DISTINCT keyword.text) as keywords,\\n             count(precedent) as precedent_count\\n        \\n        // 법조항 점수 = 벡터 점수 + 판례 인용 수에 따른 보너스\\n        WITH article, article_score + (precedent_count * 0.01) as final_score,\\n             precedent_count, keywords\\n        \\n        RETURN article.id as id, \\n               article.text as text, \\n               final_score as score,\\n               precedent_count,\\n               keywords\\n        ORDER BY final_score DESC\\n        LIMIT $top_k\\n        \"\n"
     ]
    },
    {
     "name": "stdout",
     "output_type": "stream",
     "text": [
      "Search completed in 1.45 seconds\n"
     ]
    },
    {
     "name": "stderr",
     "output_type": "stream",
     "text": [
      "Received notification from DBMS server: {severity: WARNING} {code: Neo.ClientNotification.Statement.AggregationSkippedNull} {category: UNRECOGNIZED} {title: The query contains an aggregation function that skips null values.} {description: null value eliminated in set function.} {position: None} for query: \"\\n        // 1. 벡터 검색으로 시작 법조항 찾기\\n        CALL db.index.vector.queryNodes('article_embedding', $top_k, $query_embedding) \\n        YIELD node as article, score as article_score\\n        \\n        // 2. 해당 법조항과 연결된 판례와 키워드 찾기\\n        OPTIONAL MATCH (precedent:Precedent)-[:REFERENCES_ARTICLE]->(article)\\n        OPTIONAL MATCH (precedent)-[:HAS_KEYWORD]->(keyword:Keyword)\\n        \\n        // 3. 결과 집계 및 점수 계산\\n        WITH article, article_score, precedent, \\n             collect(DISTINCT keyword.text) as keywords,\\n             count(precedent) as precedent_count\\n        \\n        // 법조항 점수 = 벡터 점수 + 판례 인용 수에 따른 보너스\\n        WITH article, article_score + (precedent_count * 0.01) as final_score,\\n             precedent_count, keywords\\n        \\n        RETURN article.id as id, \\n               article.text as text, \\n               final_score as score,\\n               precedent_count,\\n               keywords\\n        ORDER BY final_score DESC\\n        LIMIT $top_k\\n        \"\n"
     ]
    },
    {
     "name": "stdout",
     "output_type": "stream",
     "text": [
      "Search completed in 0.75 seconds\n",
      "Search completed in 1.67 seconds\n"
     ]
    },
    {
     "name": "stderr",
     "output_type": "stream",
     "text": [
      "Received notification from DBMS server: {severity: WARNING} {code: Neo.ClientNotification.Statement.AggregationSkippedNull} {category: UNRECOGNIZED} {title: The query contains an aggregation function that skips null values.} {description: null value eliminated in set function.} {position: None} for query: \"\\n        // 1. 벡터 검색으로 시작 법조항 찾기\\n        CALL db.index.vector.queryNodes('article_embedding', $top_k, $query_embedding) \\n        YIELD node as article, score as article_score\\n        \\n        // 2. 해당 법조항과 연결된 판례와 키워드 찾기\\n        OPTIONAL MATCH (precedent:Precedent)-[:REFERENCES_ARTICLE]->(article)\\n        OPTIONAL MATCH (precedent)-[:HAS_KEYWORD]->(keyword:Keyword)\\n        \\n        // 3. 결과 집계 및 점수 계산\\n        WITH article, article_score, precedent, \\n             collect(DISTINCT keyword.text) as keywords,\\n             count(precedent) as precedent_count\\n        \\n        // 법조항 점수 = 벡터 점수 + 판례 인용 수에 따른 보너스\\n        WITH article, article_score + (precedent_count * 0.01) as final_score,\\n             precedent_count, keywords\\n        \\n        RETURN article.id as id, \\n               article.text as text, \\n               final_score as score,\\n               precedent_count,\\n               keywords\\n        ORDER BY final_score DESC\\n        LIMIT $top_k\\n        \"\n"
     ]
    },
    {
     "name": "stdout",
     "output_type": "stream",
     "text": [
      "Search completed in 0.90 seconds\n"
     ]
    },
    {
     "name": "stderr",
     "output_type": "stream",
     "text": [
      "Received notification from DBMS server: {severity: WARNING} {code: Neo.ClientNotification.Statement.AggregationSkippedNull} {category: UNRECOGNIZED} {title: The query contains an aggregation function that skips null values.} {description: null value eliminated in set function.} {position: None} for query: \"\\n        // 1. 벡터 검색으로 시작 법조항 찾기\\n        CALL db.index.vector.queryNodes('article_embedding', $top_k, $query_embedding) \\n        YIELD node as article, score as article_score\\n        \\n        // 2. 해당 법조항과 연결된 판례와 키워드 찾기\\n        OPTIONAL MATCH (precedent:Precedent)-[:REFERENCES_ARTICLE]->(article)\\n        OPTIONAL MATCH (precedent)-[:HAS_KEYWORD]->(keyword:Keyword)\\n        \\n        // 3. 결과 집계 및 점수 계산\\n        WITH article, article_score, precedent, \\n             collect(DISTINCT keyword.text) as keywords,\\n             count(precedent) as precedent_count\\n        \\n        // 법조항 점수 = 벡터 점수 + 판례 인용 수에 따른 보너스\\n        WITH article, article_score + (precedent_count * 0.01) as final_score,\\n             precedent_count, keywords\\n        \\n        RETURN article.id as id, \\n               article.text as text, \\n               final_score as score,\\n               precedent_count,\\n               keywords\\n        ORDER BY final_score DESC\\n        LIMIT $top_k\\n        \"\n"
     ]
    },
    {
     "name": "stdout",
     "output_type": "stream",
     "text": [
      "Search completed in 0.81 seconds\n"
     ]
    },
    {
     "name": "stderr",
     "output_type": "stream",
     "text": [
      "Received notification from DBMS server: {severity: WARNING} {code: Neo.ClientNotification.Statement.AggregationSkippedNull} {category: UNRECOGNIZED} {title: The query contains an aggregation function that skips null values.} {description: null value eliminated in set function.} {position: None} for query: \"\\n        // 1. 벡터 검색으로 시작 법조항 찾기\\n        CALL db.index.vector.queryNodes('article_embedding', $top_k, $query_embedding) \\n        YIELD node as article, score as article_score\\n        \\n        // 2. 해당 법조항과 연결된 판례와 키워드 찾기\\n        OPTIONAL MATCH (precedent:Precedent)-[:REFERENCES_ARTICLE]->(article)\\n        OPTIONAL MATCH (precedent)-[:HAS_KEYWORD]->(keyword:Keyword)\\n        \\n        // 3. 결과 집계 및 점수 계산\\n        WITH article, article_score, precedent, \\n             collect(DISTINCT keyword.text) as keywords,\\n             count(precedent) as precedent_count\\n        \\n        // 법조항 점수 = 벡터 점수 + 판례 인용 수에 따른 보너스\\n        WITH article, article_score + (precedent_count * 0.01) as final_score,\\n             precedent_count, keywords\\n        \\n        RETURN article.id as id, \\n               article.text as text, \\n               final_score as score,\\n               precedent_count,\\n               keywords\\n        ORDER BY final_score DESC\\n        LIMIT $top_k\\n        \"\n"
     ]
    },
    {
     "name": "stdout",
     "output_type": "stream",
     "text": [
      "Search completed in 1.21 seconds\n"
     ]
    },
    {
     "name": "stderr",
     "output_type": "stream",
     "text": [
      "Received notification from DBMS server: {severity: WARNING} {code: Neo.ClientNotification.Statement.AggregationSkippedNull} {category: UNRECOGNIZED} {title: The query contains an aggregation function that skips null values.} {description: null value eliminated in set function.} {position: None} for query: \"\\n        // 1. 벡터 검색으로 시작 법조항 찾기\\n        CALL db.index.vector.queryNodes('article_embedding', $top_k, $query_embedding) \\n        YIELD node as article, score as article_score\\n        \\n        // 2. 해당 법조항과 연결된 판례와 키워드 찾기\\n        OPTIONAL MATCH (precedent:Precedent)-[:REFERENCES_ARTICLE]->(article)\\n        OPTIONAL MATCH (precedent)-[:HAS_KEYWORD]->(keyword:Keyword)\\n        \\n        // 3. 결과 집계 및 점수 계산\\n        WITH article, article_score, precedent, \\n             collect(DISTINCT keyword.text) as keywords,\\n             count(precedent) as precedent_count\\n        \\n        // 법조항 점수 = 벡터 점수 + 판례 인용 수에 따른 보너스\\n        WITH article, article_score + (precedent_count * 0.01) as final_score,\\n             precedent_count, keywords\\n        \\n        RETURN article.id as id, \\n               article.text as text, \\n               final_score as score,\\n               precedent_count,\\n               keywords\\n        ORDER BY final_score DESC\\n        LIMIT $top_k\\n        \"\n"
     ]
    },
    {
     "name": "stdout",
     "output_type": "stream",
     "text": [
      "Search completed in 1.09 seconds\n"
     ]
    },
    {
     "name": "stderr",
     "output_type": "stream",
     "text": [
      "Received notification from DBMS server: {severity: WARNING} {code: Neo.ClientNotification.Statement.AggregationSkippedNull} {category: UNRECOGNIZED} {title: The query contains an aggregation function that skips null values.} {description: null value eliminated in set function.} {position: None} for query: \"\\n        // 1. 벡터 검색으로 시작 법조항 찾기\\n        CALL db.index.vector.queryNodes('article_embedding', $top_k, $query_embedding) \\n        YIELD node as article, score as article_score\\n        \\n        // 2. 해당 법조항과 연결된 판례와 키워드 찾기\\n        OPTIONAL MATCH (precedent:Precedent)-[:REFERENCES_ARTICLE]->(article)\\n        OPTIONAL MATCH (precedent)-[:HAS_KEYWORD]->(keyword:Keyword)\\n        \\n        // 3. 결과 집계 및 점수 계산\\n        WITH article, article_score, precedent, \\n             collect(DISTINCT keyword.text) as keywords,\\n             count(precedent) as precedent_count\\n        \\n        // 법조항 점수 = 벡터 점수 + 판례 인용 수에 따른 보너스\\n        WITH article, article_score + (precedent_count * 0.01) as final_score,\\n             precedent_count, keywords\\n        \\n        RETURN article.id as id, \\n               article.text as text, \\n               final_score as score,\\n               precedent_count,\\n               keywords\\n        ORDER BY final_score DESC\\n        LIMIT $top_k\\n        \"\n"
     ]
    },
    {
     "name": "stdout",
     "output_type": "stream",
     "text": [
      "Search completed in 1.55 seconds\n"
     ]
    },
    {
     "name": "stderr",
     "output_type": "stream",
     "text": [
      "Received notification from DBMS server: {severity: WARNING} {code: Neo.ClientNotification.Statement.AggregationSkippedNull} {category: UNRECOGNIZED} {title: The query contains an aggregation function that skips null values.} {description: null value eliminated in set function.} {position: None} for query: \"\\n        // 1. 벡터 검색으로 시작 법조항 찾기\\n        CALL db.index.vector.queryNodes('article_embedding', $top_k, $query_embedding) \\n        YIELD node as article, score as article_score\\n        \\n        // 2. 해당 법조항과 연결된 판례와 키워드 찾기\\n        OPTIONAL MATCH (precedent:Precedent)-[:REFERENCES_ARTICLE]->(article)\\n        OPTIONAL MATCH (precedent)-[:HAS_KEYWORD]->(keyword:Keyword)\\n        \\n        // 3. 결과 집계 및 점수 계산\\n        WITH article, article_score, precedent, \\n             collect(DISTINCT keyword.text) as keywords,\\n             count(precedent) as precedent_count\\n        \\n        // 법조항 점수 = 벡터 점수 + 판례 인용 수에 따른 보너스\\n        WITH article, article_score + (precedent_count * 0.01) as final_score,\\n             precedent_count, keywords\\n        \\n        RETURN article.id as id, \\n               article.text as text, \\n               final_score as score,\\n               precedent_count,\\n               keywords\\n        ORDER BY final_score DESC\\n        LIMIT $top_k\\n        \"\n"
     ]
    },
    {
     "name": "stdout",
     "output_type": "stream",
     "text": [
      "Search completed in 1.76 seconds\n"
     ]
    },
    {
     "name": "stderr",
     "output_type": "stream",
     "text": [
      "Received notification from DBMS server: {severity: WARNING} {code: Neo.ClientNotification.Statement.AggregationSkippedNull} {category: UNRECOGNIZED} {title: The query contains an aggregation function that skips null values.} {description: null value eliminated in set function.} {position: None} for query: \"\\n        // 1. 벡터 검색으로 시작 법조항 찾기\\n        CALL db.index.vector.queryNodes('article_embedding', $top_k, $query_embedding) \\n        YIELD node as article, score as article_score\\n        \\n        // 2. 해당 법조항과 연결된 판례와 키워드 찾기\\n        OPTIONAL MATCH (precedent:Precedent)-[:REFERENCES_ARTICLE]->(article)\\n        OPTIONAL MATCH (precedent)-[:HAS_KEYWORD]->(keyword:Keyword)\\n        \\n        // 3. 결과 집계 및 점수 계산\\n        WITH article, article_score, precedent, \\n             collect(DISTINCT keyword.text) as keywords,\\n             count(precedent) as precedent_count\\n        \\n        // 법조항 점수 = 벡터 점수 + 판례 인용 수에 따른 보너스\\n        WITH article, article_score + (precedent_count * 0.01) as final_score,\\n             precedent_count, keywords\\n        \\n        RETURN article.id as id, \\n               article.text as text, \\n               final_score as score,\\n               precedent_count,\\n               keywords\\n        ORDER BY final_score DESC\\n        LIMIT $top_k\\n        \"\n"
     ]
    },
    {
     "name": "stdout",
     "output_type": "stream",
     "text": [
      "Search completed in 0.95 seconds\n"
     ]
    },
    {
     "name": "stderr",
     "output_type": "stream",
     "text": [
      "Received notification from DBMS server: {severity: WARNING} {code: Neo.ClientNotification.Statement.AggregationSkippedNull} {category: UNRECOGNIZED} {title: The query contains an aggregation function that skips null values.} {description: null value eliminated in set function.} {position: None} for query: \"\\n        // 1. 벡터 검색으로 시작 법조항 찾기\\n        CALL db.index.vector.queryNodes('article_embedding', $top_k, $query_embedding) \\n        YIELD node as article, score as article_score\\n        \\n        // 2. 해당 법조항과 연결된 판례와 키워드 찾기\\n        OPTIONAL MATCH (precedent:Precedent)-[:REFERENCES_ARTICLE]->(article)\\n        OPTIONAL MATCH (precedent)-[:HAS_KEYWORD]->(keyword:Keyword)\\n        \\n        // 3. 결과 집계 및 점수 계산\\n        WITH article, article_score, precedent, \\n             collect(DISTINCT keyword.text) as keywords,\\n             count(precedent) as precedent_count\\n        \\n        // 법조항 점수 = 벡터 점수 + 판례 인용 수에 따른 보너스\\n        WITH article, article_score + (precedent_count * 0.01) as final_score,\\n             precedent_count, keywords\\n        \\n        RETURN article.id as id, \\n               article.text as text, \\n               final_score as score,\\n               precedent_count,\\n               keywords\\n        ORDER BY final_score DESC\\n        LIMIT $top_k\\n        \"\n"
     ]
    },
    {
     "name": "stdout",
     "output_type": "stream",
     "text": [
      "Search completed in 0.82 seconds\n"
     ]
    },
    {
     "name": "stderr",
     "output_type": "stream",
     "text": [
      "Received notification from DBMS server: {severity: WARNING} {code: Neo.ClientNotification.Statement.AggregationSkippedNull} {category: UNRECOGNIZED} {title: The query contains an aggregation function that skips null values.} {description: null value eliminated in set function.} {position: None} for query: \"\\n        // 1. 벡터 검색으로 시작 법조항 찾기\\n        CALL db.index.vector.queryNodes('article_embedding', $top_k, $query_embedding) \\n        YIELD node as article, score as article_score\\n        \\n        // 2. 해당 법조항과 연결된 판례와 키워드 찾기\\n        OPTIONAL MATCH (precedent:Precedent)-[:REFERENCES_ARTICLE]->(article)\\n        OPTIONAL MATCH (precedent)-[:HAS_KEYWORD]->(keyword:Keyword)\\n        \\n        // 3. 결과 집계 및 점수 계산\\n        WITH article, article_score, precedent, \\n             collect(DISTINCT keyword.text) as keywords,\\n             count(precedent) as precedent_count\\n        \\n        // 법조항 점수 = 벡터 점수 + 판례 인용 수에 따른 보너스\\n        WITH article, article_score + (precedent_count * 0.01) as final_score,\\n             precedent_count, keywords\\n        \\n        RETURN article.id as id, \\n               article.text as text, \\n               final_score as score,\\n               precedent_count,\\n               keywords\\n        ORDER BY final_score DESC\\n        LIMIT $top_k\\n        \"\n"
     ]
    },
    {
     "name": "stdout",
     "output_type": "stream",
     "text": [
      "Search completed in 0.92 seconds\n",
      "Search completed in 0.77 seconds\n"
     ]
    },
    {
     "name": "stderr",
     "output_type": "stream",
     "text": [
      "Received notification from DBMS server: {severity: WARNING} {code: Neo.ClientNotification.Statement.AggregationSkippedNull} {category: UNRECOGNIZED} {title: The query contains an aggregation function that skips null values.} {description: null value eliminated in set function.} {position: None} for query: \"\\n        // 1. 벡터 검색으로 시작 법조항 찾기\\n        CALL db.index.vector.queryNodes('article_embedding', $top_k, $query_embedding) \\n        YIELD node as article, score as article_score\\n        \\n        // 2. 해당 법조항과 연결된 판례와 키워드 찾기\\n        OPTIONAL MATCH (precedent:Precedent)-[:REFERENCES_ARTICLE]->(article)\\n        OPTIONAL MATCH (precedent)-[:HAS_KEYWORD]->(keyword:Keyword)\\n        \\n        // 3. 결과 집계 및 점수 계산\\n        WITH article, article_score, precedent, \\n             collect(DISTINCT keyword.text) as keywords,\\n             count(precedent) as precedent_count\\n        \\n        // 법조항 점수 = 벡터 점수 + 판례 인용 수에 따른 보너스\\n        WITH article, article_score + (precedent_count * 0.01) as final_score,\\n             precedent_count, keywords\\n        \\n        RETURN article.id as id, \\n               article.text as text, \\n               final_score as score,\\n               precedent_count,\\n               keywords\\n        ORDER BY final_score DESC\\n        LIMIT $top_k\\n        \"\n"
     ]
    },
    {
     "name": "stdout",
     "output_type": "stream",
     "text": [
      "Search completed in 0.94 seconds\n",
      "Search completed in 1.33 seconds\n",
      "Search completed in 0.90 seconds\n"
     ]
    },
    {
     "name": "stderr",
     "output_type": "stream",
     "text": [
      "Received notification from DBMS server: {severity: WARNING} {code: Neo.ClientNotification.Statement.AggregationSkippedNull} {category: UNRECOGNIZED} {title: The query contains an aggregation function that skips null values.} {description: null value eliminated in set function.} {position: None} for query: \"\\n        // 1. 벡터 검색으로 시작 법조항 찾기\\n        CALL db.index.vector.queryNodes('article_embedding', $top_k, $query_embedding) \\n        YIELD node as article, score as article_score\\n        \\n        // 2. 해당 법조항과 연결된 판례와 키워드 찾기\\n        OPTIONAL MATCH (precedent:Precedent)-[:REFERENCES_ARTICLE]->(article)\\n        OPTIONAL MATCH (precedent)-[:HAS_KEYWORD]->(keyword:Keyword)\\n        \\n        // 3. 결과 집계 및 점수 계산\\n        WITH article, article_score, precedent, \\n             collect(DISTINCT keyword.text) as keywords,\\n             count(precedent) as precedent_count\\n        \\n        // 법조항 점수 = 벡터 점수 + 판례 인용 수에 따른 보너스\\n        WITH article, article_score + (precedent_count * 0.01) as final_score,\\n             precedent_count, keywords\\n        \\n        RETURN article.id as id, \\n               article.text as text, \\n               final_score as score,\\n               precedent_count,\\n               keywords\\n        ORDER BY final_score DESC\\n        LIMIT $top_k\\n        \"\n"
     ]
    },
    {
     "name": "stdout",
     "output_type": "stream",
     "text": [
      "Search completed in 1.47 seconds\n"
     ]
    },
    {
     "name": "stderr",
     "output_type": "stream",
     "text": [
      "Received notification from DBMS server: {severity: WARNING} {code: Neo.ClientNotification.Statement.AggregationSkippedNull} {category: UNRECOGNIZED} {title: The query contains an aggregation function that skips null values.} {description: null value eliminated in set function.} {position: None} for query: \"\\n        // 1. 벡터 검색으로 시작 법조항 찾기\\n        CALL db.index.vector.queryNodes('article_embedding', $top_k, $query_embedding) \\n        YIELD node as article, score as article_score\\n        \\n        // 2. 해당 법조항과 연결된 판례와 키워드 찾기\\n        OPTIONAL MATCH (precedent:Precedent)-[:REFERENCES_ARTICLE]->(article)\\n        OPTIONAL MATCH (precedent)-[:HAS_KEYWORD]->(keyword:Keyword)\\n        \\n        // 3. 결과 집계 및 점수 계산\\n        WITH article, article_score, precedent, \\n             collect(DISTINCT keyword.text) as keywords,\\n             count(precedent) as precedent_count\\n        \\n        // 법조항 점수 = 벡터 점수 + 판례 인용 수에 따른 보너스\\n        WITH article, article_score + (precedent_count * 0.01) as final_score,\\n             precedent_count, keywords\\n        \\n        RETURN article.id as id, \\n               article.text as text, \\n               final_score as score,\\n               precedent_count,\\n               keywords\\n        ORDER BY final_score DESC\\n        LIMIT $top_k\\n        \"\n"
     ]
    },
    {
     "name": "stdout",
     "output_type": "stream",
     "text": [
      "Search completed in 2.60 seconds\n"
     ]
    },
    {
     "name": "stderr",
     "output_type": "stream",
     "text": [
      "Received notification from DBMS server: {severity: WARNING} {code: Neo.ClientNotification.Statement.AggregationSkippedNull} {category: UNRECOGNIZED} {title: The query contains an aggregation function that skips null values.} {description: null value eliminated in set function.} {position: None} for query: \"\\n        // 1. 벡터 검색으로 시작 법조항 찾기\\n        CALL db.index.vector.queryNodes('article_embedding', $top_k, $query_embedding) \\n        YIELD node as article, score as article_score\\n        \\n        // 2. 해당 법조항과 연결된 판례와 키워드 찾기\\n        OPTIONAL MATCH (precedent:Precedent)-[:REFERENCES_ARTICLE]->(article)\\n        OPTIONAL MATCH (precedent)-[:HAS_KEYWORD]->(keyword:Keyword)\\n        \\n        // 3. 결과 집계 및 점수 계산\\n        WITH article, article_score, precedent, \\n             collect(DISTINCT keyword.text) as keywords,\\n             count(precedent) as precedent_count\\n        \\n        // 법조항 점수 = 벡터 점수 + 판례 인용 수에 따른 보너스\\n        WITH article, article_score + (precedent_count * 0.01) as final_score,\\n             precedent_count, keywords\\n        \\n        RETURN article.id as id, \\n               article.text as text, \\n               final_score as score,\\n               precedent_count,\\n               keywords\\n        ORDER BY final_score DESC\\n        LIMIT $top_k\\n        \"\n"
     ]
    },
    {
     "name": "stdout",
     "output_type": "stream",
     "text": [
      "Search completed in 1.22 seconds\n",
      "Search completed in 1.10 seconds\n",
      "Search completed in 1.28 seconds\n",
      "Search completed in 1.23 seconds\n",
      "Search completed in 1.11 seconds\n"
     ]
    },
    {
     "name": "stderr",
     "output_type": "stream",
     "text": [
      "Received notification from DBMS server: {severity: WARNING} {code: Neo.ClientNotification.Statement.AggregationSkippedNull} {category: UNRECOGNIZED} {title: The query contains an aggregation function that skips null values.} {description: null value eliminated in set function.} {position: None} for query: \"\\n        // 1. 벡터 검색으로 시작 법조항 찾기\\n        CALL db.index.vector.queryNodes('article_embedding', $top_k, $query_embedding) \\n        YIELD node as article, score as article_score\\n        \\n        // 2. 해당 법조항과 연결된 판례와 키워드 찾기\\n        OPTIONAL MATCH (precedent:Precedent)-[:REFERENCES_ARTICLE]->(article)\\n        OPTIONAL MATCH (precedent)-[:HAS_KEYWORD]->(keyword:Keyword)\\n        \\n        // 3. 결과 집계 및 점수 계산\\n        WITH article, article_score, precedent, \\n             collect(DISTINCT keyword.text) as keywords,\\n             count(precedent) as precedent_count\\n        \\n        // 법조항 점수 = 벡터 점수 + 판례 인용 수에 따른 보너스\\n        WITH article, article_score + (precedent_count * 0.01) as final_score,\\n             precedent_count, keywords\\n        \\n        RETURN article.id as id, \\n               article.text as text, \\n               final_score as score,\\n               precedent_count,\\n               keywords\\n        ORDER BY final_score DESC\\n        LIMIT $top_k\\n        \"\n"
     ]
    },
    {
     "name": "stdout",
     "output_type": "stream",
     "text": [
      "Search completed in 0.90 seconds\n",
      "Search completed in 3.40 seconds\n"
     ]
    },
    {
     "name": "stderr",
     "output_type": "stream",
     "text": [
      "Received notification from DBMS server: {severity: WARNING} {code: Neo.ClientNotification.Statement.AggregationSkippedNull} {category: UNRECOGNIZED} {title: The query contains an aggregation function that skips null values.} {description: null value eliminated in set function.} {position: None} for query: \"\\n        // 1. 벡터 검색으로 시작 법조항 찾기\\n        CALL db.index.vector.queryNodes('article_embedding', $top_k, $query_embedding) \\n        YIELD node as article, score as article_score\\n        \\n        // 2. 해당 법조항과 연결된 판례와 키워드 찾기\\n        OPTIONAL MATCH (precedent:Precedent)-[:REFERENCES_ARTICLE]->(article)\\n        OPTIONAL MATCH (precedent)-[:HAS_KEYWORD]->(keyword:Keyword)\\n        \\n        // 3. 결과 집계 및 점수 계산\\n        WITH article, article_score, precedent, \\n             collect(DISTINCT keyword.text) as keywords,\\n             count(precedent) as precedent_count\\n        \\n        // 법조항 점수 = 벡터 점수 + 판례 인용 수에 따른 보너스\\n        WITH article, article_score + (precedent_count * 0.01) as final_score,\\n             precedent_count, keywords\\n        \\n        RETURN article.id as id, \\n               article.text as text, \\n               final_score as score,\\n               precedent_count,\\n               keywords\\n        ORDER BY final_score DESC\\n        LIMIT $top_k\\n        \"\n"
     ]
    },
    {
     "name": "stdout",
     "output_type": "stream",
     "text": [
      "Search completed in 1.19 seconds\n",
      "Search completed in 1.64 seconds\n",
      "Search completed in 1.09 seconds\n"
     ]
    },
    {
     "name": "stderr",
     "output_type": "stream",
     "text": [
      "Received notification from DBMS server: {severity: WARNING} {code: Neo.ClientNotification.Statement.AggregationSkippedNull} {category: UNRECOGNIZED} {title: The query contains an aggregation function that skips null values.} {description: null value eliminated in set function.} {position: None} for query: \"\\n        // 1. 벡터 검색으로 시작 법조항 찾기\\n        CALL db.index.vector.queryNodes('article_embedding', $top_k, $query_embedding) \\n        YIELD node as article, score as article_score\\n        \\n        // 2. 해당 법조항과 연결된 판례와 키워드 찾기\\n        OPTIONAL MATCH (precedent:Precedent)-[:REFERENCES_ARTICLE]->(article)\\n        OPTIONAL MATCH (precedent)-[:HAS_KEYWORD]->(keyword:Keyword)\\n        \\n        // 3. 결과 집계 및 점수 계산\\n        WITH article, article_score, precedent, \\n             collect(DISTINCT keyword.text) as keywords,\\n             count(precedent) as precedent_count\\n        \\n        // 법조항 점수 = 벡터 점수 + 판례 인용 수에 따른 보너스\\n        WITH article, article_score + (precedent_count * 0.01) as final_score,\\n             precedent_count, keywords\\n        \\n        RETURN article.id as id, \\n               article.text as text, \\n               final_score as score,\\n               precedent_count,\\n               keywords\\n        ORDER BY final_score DESC\\n        LIMIT $top_k\\n        \"\n"
     ]
    },
    {
     "name": "stdout",
     "output_type": "stream",
     "text": [
      "Search completed in 1.24 seconds\n"
     ]
    },
    {
     "name": "stderr",
     "output_type": "stream",
     "text": [
      "Received notification from DBMS server: {severity: WARNING} {code: Neo.ClientNotification.Statement.AggregationSkippedNull} {category: UNRECOGNIZED} {title: The query contains an aggregation function that skips null values.} {description: null value eliminated in set function.} {position: None} for query: \"\\n        // 1. 벡터 검색으로 시작 법조항 찾기\\n        CALL db.index.vector.queryNodes('article_embedding', $top_k, $query_embedding) \\n        YIELD node as article, score as article_score\\n        \\n        // 2. 해당 법조항과 연결된 판례와 키워드 찾기\\n        OPTIONAL MATCH (precedent:Precedent)-[:REFERENCES_ARTICLE]->(article)\\n        OPTIONAL MATCH (precedent)-[:HAS_KEYWORD]->(keyword:Keyword)\\n        \\n        // 3. 결과 집계 및 점수 계산\\n        WITH article, article_score, precedent, \\n             collect(DISTINCT keyword.text) as keywords,\\n             count(precedent) as precedent_count\\n        \\n        // 법조항 점수 = 벡터 점수 + 판례 인용 수에 따른 보너스\\n        WITH article, article_score + (precedent_count * 0.01) as final_score,\\n             precedent_count, keywords\\n        \\n        RETURN article.id as id, \\n               article.text as text, \\n               final_score as score,\\n               precedent_count,\\n               keywords\\n        ORDER BY final_score DESC\\n        LIMIT $top_k\\n        \"\n"
     ]
    },
    {
     "name": "stdout",
     "output_type": "stream",
     "text": [
      "Search completed in 0.81 seconds\n"
     ]
    },
    {
     "data": {
      "application/vnd.jupyter.widget-view+json": {
       "model_id": "8aed0e35359245188ffa0282d3d3a6fe",
       "version_major": 2,
       "version_minor": 0
      },
      "text/plain": [
       "Preparing batch requests:   0%|          | 0/200 [00:00<?, ?it/s]"
      ]
     },
     "metadata": {},
     "output_type": "display_data"
    },
    {
     "name": "stdout",
     "output_type": "stream",
     "text": [
      "Saved 200 batch requests to results/criminal_law_batch_input_20250412_184342.jsonl\n",
      "Uploaded batch file with ID: file-QqTZW3F7uNBg5PreG4VxEn\n",
      "Created batch job with ID: batch_67fa35cf93ec81909d1b44ccd6e2feaa\n",
      "Waiting for batch job to complete...\n",
      "Current status: validating (Elapsed: 0.40s)\n",
      "Current status: in_progress (Elapsed: 30.69s)\n",
      "Current status: in_progress (Elapsed: 61.00s)\n",
      "Current status: in_progress (Elapsed: 91.41s)\n",
      "Current status: in_progress (Elapsed: 121.72s)\n",
      "Current status: in_progress (Elapsed: 152.03s)\n",
      "Current status: completed (Elapsed: 182.45s)\n",
      "Batch job finished with status: completed in 182.45 seconds\n",
      "Batch job completed successfully. Output file ID: file-81DmkN8LuJGS4i6oBRCkbY\n",
      "Saved batch output to results/criminal_law_batch_output_20250412_184342.jsonl\n",
      "Loaded 200 results from the batch job\n",
      "Could not extract answer from response for question 5: 여기서 주어진 형법 관련 정보와 재산범죄에 대한 설명은 제공되지 않았습니다. 따라서 각 선택지가 특정 설명과 관련된 정보 없이 옳고 그름을 판단하기 어렵습니다. 다만, 형법 조항의 내용을 토대로 일반적인 원칙이나 설명이 주어지는 문제라고 보고 접근 방법을 정리해 보겠습니다.\n",
      "\n",
      "1) 재산범죄의 일반적인 법리에서는 주로 형의 가중, 경합범, 고의성 등이 중요한 쟁점입니다.\n",
      "2) 제283조와 제332조는 특정 범죄에 대한 형량 가중 및 경합범에 관한 내용을 가지고 있습니다.\n",
      "3) 일반적으로 재산범죄에서 상습성이 있거나 특정한 범죄를 저지를 때 형의 가중이 이루어집니다.\n",
      "\n",
      "이러한 정보에 기반하여 각 선택지를 분석했을 때, 난이도가 높은 문제이고 주어진 설명이 부족하다고 판단됩니다. 따라서, 특정 선택지를 직접적으로 판단하기는 어렵지만, 내용이 성립할 가능성이 높은 것을 기억하며 확인해보면 좋을 것입니다.\n",
      "\n",
      "결정을 내릴 수 있는 추가적인 정보가 없다면, 기계적인 접근을 시도해 보겠습니다. 일반적으로 이해에 기반할 수 있는지 판단하기 위해, 각각의 선택지를 중요 법조항을 통해 무난히 선택하려고 할 것입니다.\n",
      "\n",
      "하지만 주어진 질문과 선택지는 완전히 연\n",
      "Could not extract answer from response for question 19: 이 문제에서 '귀휴'에 대한 설명을 묻고 있으며, 올바른 설명과 틀린 설명을 판단해야 합니다. 제공된 법조항 및 판례는 귀휴와 직접적으로 관련되진 않지만 일반적인 법 해석의 원칙을 따를 수 있습니다. \n",
      "\n",
      "각 선택지를 분석할 수 있는 구체적인 내용은 제공되지 않았습니다. 하지만 귀휴는 형의 집행 및 수용자의 처우에 관한 법률에서 일반적으로 수용자가 일정한 조건을 충족할 경우 주어질 수 있는 일시적 자유를 의미할 것입니다. 따라서 귀휴의 요건이나 범위를 판단하기 위해서는 해당 법률의 조항이 필요합니다.\n",
      "\n",
      "이 문제는 귀휴에 대한 정확한 법적 요건 및 설명을 바탕으로 정답을 도출해야 합니다. 정보가 부족해 각 선택지를 명확히 분석하기가 어렵습니다.\n",
      "\n",
      "주어진 선택지에서 어떤 선택지들이 정해진 규칙에 위배되거나, 일반적 법리와 맞지 않는지를 직접적으로 판단할 수 있는 정보가 없으므로, 명확한 결론을 내리는 것은 불가능합니다.\n",
      "\n",
      "이와 관련된 구체적인 설명이 있다면 답변을 더욱 정교화할 수 있겠지만, 제공된 문맥만으로는 분석이 어렵습니다.\n",
      "\n",
      "따라서, 선택지는 A로 설정하여 귀휴에 대한 설명이 부분\n",
      "Could not extract answer from response for question 25: 관련 문맥 정보에서 국선변호인에 대한 설명이 제공되지 않았고, 따라서 주어진 선택지에 대한 분석이 불가능합니다. 따라서 질문에 대한 답변을 제공할 수 없습니다. \n",
      "\n",
      "국선변호인에 대한 정확한 정보가 필요합니다. 따라서 청구하신 문제의 답변을 제공하기 위해 추가적인 정보를 요청합니다.\n",
      "Could not extract answer from response for question 52: 정답은 A입니다.\n",
      "\n",
      "A 선택지는 미결수용자가 수용된 거실은 참관할 수 없다는 내용이 포함되어 있습니다. 이는 사실과 다릅니다. 따라서 미결수용자는 무죄의 추정을 받지만, 수용된 공간의 참관 여부에 대한 일반적인 규정이 존재하지 않으므로 A 선택지는 잘못된 설명입니다. \n",
      "\n",
      "B, C, D 선택지는 미결 수용자의 처우와 관련한 법령에 일치하며, 올바른 설명입니다. \n",
      "\n",
      "따라서 가장 옳지 않은 설명은 A입니다.\n",
      "Could not extract answer from response for question 55: 문제의 핵심은 청소년 범죄와 관련된 다이버전 프로그램에 대한 설명으로, 잘못된 선택지를 찾아내는 것입니다.\n",
      "\n",
      "1) **문제의 핵심 형법 쟁점 파악**: 청소년 범죄 처리에 있어 다이버전은 형사 사법 절차의 대체와 관련이 있습니다. 다이버전의 목적은 공식적인 형사처벌을 피하고 청소년의 사회 재적응을 돕는 것입니다. \n",
      "\n",
      "2) **관련 법조항 적용**: 제시된 법조항은 범죄에 대한 처벌 조항으로, 다이버전 개념과는 직접적인 연관이 없습니다. 대신 다이버전은 이러한 형사 절차를 대체하는 프로그램입니다.\n",
      "\n",
      "3) **판례 원칙 적용**: 청소년 범죄에 대한 다이버전의 원칙은 범죄의 경미성이나 사회적 배려와 같은 요인에 의해 형사처벌 대신 대체처분을 활용하는 것입니다. \n",
      "\n",
      "4) **각 선택지 법적 분석**:\n",
      "   - A: 다이버전은 형사사법기관이 통상적인 형사절차를 대체하는 제도를 말하고 있으며, 이는 옳은 설명입니다.\n",
      "   - B: 공식적인 형사처벌로 인한 낙인 효과를 최소화하려는 목적을 갖고 있다는 것도 맞는 설명입니다.\n",
      "   -\n",
      "Could not extract answer from response for question 63: 질문에서 요구하는 것은 형사소송법 제315조에 따라 당연히 증거능력 있는 서류에 관한 선택지를 분석하는 것입니다. 그러나 주어진 문맥에서는 해당 조문 내용이 포함되어 있지 않으므로, 각 선택지의 적합성을 평가하기 어렵습니다.\n",
      "\n",
      "따라서 주어진 정보를 바탕으로 판단할 때, 그 내용이 불확실함을 고려해야 합니다. 제시된 선택지에서 어떤 조문이나 법리와 직접적으로 연결되지 않기 때문에, 정답을 신뢰할 수 없고, 관련 법리를 바탕으로 명확한 선택이 어렵습니다.\n",
      "\n",
      "결론적으로 증거능력 있는 서류에 대한 특정 정보를 제공하지 않고 선택지를 분석하여 답변할 수 있는 근거가 부족함을 인정하고 이에 대한 선택은 불가합니다. 그러나 일반적으로 제315조에 관계된 서류의 일반적인 이해에 의거하여 가장 잘 연결된 답변이 필요한데 이를 위해 더 구체적인 정보를 참조해야 할 것입니다.\n",
      "\n",
      "따라서 제공된 내용만으로는 분석을 통한 명확한 답변이 불가능합니다. 추가 정보가 필요합니다. 그러므로 정답을 제시할 수 없습니다.\n",
      "Could not extract answer from response for question 70: 정답은 A입니다. \n",
      "\n",
      "이유: 여성 수용자가 출산한 유아를 교정시설에서 양육하는 경우, 법령에 따라 생후 18개월이나 그 이전까지 양육을 허가받을 수 있지만, \"법에서 규정한 특별한 사유\"가 필요합니다. A 선택지는 특별한 사유에 대한 조건을 일반화하여 '허가하여야 한다'고 명시하고 있어 사실과 맞지 않으므로 옳지 않은 설명입니다.\n",
      "Could not extract answer from response for question 79: 질문에서 다루고 있는 '소송 행위에 있어서 절차에 하자가 있으나 사후적으로 하자의 치유가 인정되지 않는 경우'에 대한 분석을 해보겠습니다.\n",
      "\n",
      "1) 문제의 핵심 형법 쟁점: 여기서 중요한 것은 '소송 절차의 하자'와 '그 하자의 치유 여부'입니다. 따라서 위법성과 책임 단계에서 특정 소송 절차를 어떻게 해석할 것인지가 핵심입니다.\n",
      "\n",
      "2) 관련 법조항 적용: 한국 형법에서는 소송 절차의 법적 요건을 충족하지 못한 경우, 후속 조치나 진술에 의한 치유가 불가능한 상황을 규정할 수 있습니다. 특히, 피고인에게 영향을 미칠 수 있는 절차적 권리의 침해는 심각한 하자로 간주됩니다.\n",
      "\n",
      "3) 판례 원칙 적용: 절차적 하자는 특정한 권리가 침해되었음을 반영하며, 이로 인해 재판의 공정성이 훼손되는 경우가 있습니다.\n",
      "\n",
      "4) 각 선택지 법적 분석:\n",
      "- A 선택지: 피고인이 변호인 없이 일시적으로 퇴정당한 후, 적절한 기회가 주어지지 않은 경우로서, 하자의 치유가 인정되지 않을 가능성이 큽니다.\n",
      "- B 선택지: 항소심에서 양측 모두에\n",
      "Could not extract answer from response for question 114: 문제의 핵심 형법 쟁점은 피고인의 특정에 대한 규정과 그 변경 절차에 관련된 것입니다. 피고인의 신원, 즉 성명이 잘못 기재되었을 때 이를 어떻게 수정하는가에 대한 법적 분석이 필요합니다.\n",
      "\n",
      "1. **핵심 형법 쟁점**: 피고인 특정에 관한 사항으로, 성명이 모용된 경우의 법적 절차와 피고인 적격에 대해 다루고 있습니다.\n",
      "\n",
      "2. **관련 법조항**:\n",
      "   - 피고인의 성명이 모용된 경우, 법원은 적절한 절차를 통해 이 사항을 바로잡아야 합니다. \n",
      "   - 공소제기 방식이 형사소송법의 규정에 위반할 경우, 공소는 무효가 될 수 있습니다.\n",
      "\n",
      "3. **판례 원칙 적용**: 판례는 피고인의 성명이 모용되었을 때, 그 사실이 명백해지면 적절한 절차를 통해 수정해야 한다는 점을 일관되게 강조해 왔습니다.\n",
      "\n",
      "4. **각 선택지 법적 분석**:\n",
      "   - A: 피의자의 공소장에서 성명이 모용된 경우 모용자가 피고인이 될 수 있음을 인식하고 이를 검토해야 한다는 점에서 옳습니다.\n",
      "   - B: 재판 중 성명 모용이\n",
      "Could not extract answer from response for question 118: 문제의 핵심 형법 쟁점은 사실의 착오에 대한 이해입니다. 사실의 착오란, 행위자가 특정한 사실에 대해 잘못된 인식을 가지고 있을 때 발생하는 법적 문제입니다.\n",
      "\n",
      "1) **문제의 핵심 쟁점 파악:**\n",
      "각 선택지는 사실의 착오에 관한 구체적인 사례를 제공하고 있습니다. 각 경우의 법적 결과와 상상적 경합 여부를 판단하는 것이 중요합니다.\n",
      "\n",
      "2) **관련 법조항 적용:**\n",
      "제15조(사실의 착오)는 행위자가 중한 범죄를 인식하지 못했거나 결과 발생을 예견할 수 없었던 경우에 대한 면책을 규정하고 있습니다. 이는 사실의 착오가 발생했을 때의 법적 책임을 결정하는 중요한 기준입니다.\n",
      "\n",
      "3) **각 선택지 법적 분석:**\n",
      "- **A**: 이 경우 甲이 A를 살해하려 했으나 A의 개가 죽은 상황은 구체적 부합설에 따라 살인미수와 손괴죄의 상상적 경합을 인정할 수 있습니다.\n",
      "- **B**: A의 지갑이 아닌 B의 지갑을 훔쳤다면 법정적 부합설에 따라 A에 대한 절도 미수가 성립되지 않습니다.\n",
      "- **C**: 甲이 A를 매장하여 질식사한 경우\n",
      "Could not extract answer from response for question 125: 최종 답변: B\n",
      "Could not extract answer from response for question 139: 주어진 질문은 형의 집행 및 수용자의 처우에 관한 법률 시행규칙상 경비처우급과 작업기준을 연결하는 문제입니다. 제공된 문맥 내에 관련 법조항이나 판례정보는 포함되어 있지 않아 법적 분석을 진행할 수 없으나, 문제의 선택지를 단순히 분석하겠습니다.\n",
      "\n",
      "각 선택지가 올바른지 확인하기 위해서는 저마다 제시된 ‘경비처우급’과 ‘작업기준’의 내용을 알아야 합니다. 그러나 해당 내용이 명시되어 있지 않으므로 이 정보를 바탕으로 판단할 수 없습니다.\n",
      "\n",
      "따라서, 주어진 정보만으로는 올바른 선택지를 정할 수 없습니다.\n",
      "\n",
      "하지만, 특정한 형법 관련 자료나 법조항, 판례 등이 제시되지 않고 질문이 일반적인 형법의 해석 문제인 경우 선택지는 각각 구체적인 정보가 부족하여 판단이 어렵습니다.\n",
      "\n",
      "따라서, 이러한 질문에 대한 가능한 답변으로는 문맥 정보가 불충분하다는 점을 들어 분석 불가로 답변하겠습니다.\n",
      "\n",
      "최종적으로 답변할 수 있는 옵션이 없으므로 특정한 선택지를 제공할 수 없습니다.\n",
      "Could not extract answer from response for question 148: 문제의 핵심 쟁점은 형사소송법 제148조에 따른 증언 거부권에 대한 설명의 정확성입니다.\n",
      "\n",
      "1) **문제의 핵심 형법 쟁점 파악**: 증언 거부권은 증인이 자신에게 불리한 진술을 할 때 특정 조건 하에서 증언을 거부할 수 있는 권리입니다. 각 선택지에서 제시된 내용들은 이 권리에 관련된 다양한 상황을 다루고 있습니다.\n",
      "\n",
      "2) **관련 법조항 적용**: \n",
      "   - **제148조**: 형사소송법 제148조는 증인이 자신에게 불리한 경우 증언을 거부할 수 있도록 보장하고 있습니다.\n",
      "   - **제160조**: 증언 거부권 고지에 관한 규정입니다.\n",
      "\n",
      "3) **각 선택지 법적 분석**: \n",
      "   - **A**: 유죄 판결이 확정된 증인에 대해 재심을 청구할 예정이라는 이유로 증언 거부권이 인정되지 않는다는 설명은 맞습니다. 이미 유죄가 확정된 경우에는 추가적인 증언이 필요할 수 있습니다.\n",
      "   - **B**: 형사소추가 단순히 이미 범해진 범죄에 대한 것만을 의미하지 않고 새로운 범죄를 성립시키는 경우도 포함하는 점은 맞는 해석입니다.\n",
      "   - **\n",
      "Could not extract answer from response for question 155: 문제의 핵심 형법 쟁점은 수용자의 처우와 관련된 물품의 소지가 법률상 허가되는지 여부입니다. \n",
      "\n",
      "1) **형의 집행 및 수용자의 처우에 관한 법률**에 의하면, 특정 물품은 수용자가 소지할 수 없으며, 이들 물품은 수용자의 처우를 저해하거나 범죄에 이용될 우려가 있는 것으로 규정됩니다.\n",
      "  \n",
      "2) 제공된 선택지의 내용을 살펴보면, 각 물품의 성격이 다릅니다. \n",
      "   - A: 마약, 총기 등 범죄 도구로 이용될 우려가 있는 물품은 법률에서 금지된 물품들입니다.\n",
      "   - B: 무인비행장치 및 전자 통신기기는 사용될 수 있으나, 개인 연락에 이용될 우려가 있어 금지될 가능성이 있습니다.\n",
      "   - C: 주류, 담배 등도 수용자의 처우에 부정적인 영향을 미쳐 금지되는 물품입니다. \n",
      "   - D: 음란물, 사행 행위에 사용되는 물품 등은 수형자의 교화와 사회 복귀에 방해가 됩니다.\n",
      "\n",
      "3) 이러한 물품들은 모두 수용자의 처우 및 교화를 방해할 수 있는 우려를 가진 것들로, 법률상 금지 물품에\n",
      "Could not extract answer from response for question 160: 정답은 B입니다. \n",
      "\n",
      "B 선택지의 설명에 따르면, 옴부즈맨의 독립성과 전문성을 확보하기 위해서는 교정 당국이 임명해야 한다고 되어 있는데, 이는 옴부즈맨의 본래 기능과는 맞지 않습니다. 옴부즈맨은 독립적인 기관 또는 개별 인물로서 정부 또는 교정 당국과의 직접적인 관련 없이 운영되어야 하며, 이러한 독립성이 그 역할의 핵심입니다. 따라서 이 선택지는 옳지 않은 설명입니다.\n",
      "Could not extract answer from response for question 162: 정답은 D입니다.\n",
      "Could not extract answer from response for question 166: 정답은 B입니다.\n",
      "\n",
      "A: 옳은 설명입니다. 검사 는 가환부 청구가 있는 경우 특별한 사정이 없는 한 가환부에 응해야 합니다.\n",
      "\n",
      "B: 틀린 설명입니다. 몰수 선고의 판결은 피고인에 대하여 효력이 있지만 제3자의 소유권에 직접적인 영향을 미치지 않습니다. 제3자의 소유권은 별도로 보호받습니다.\n",
      "\n",
      "C: 옳은 설명입니다. 압수된 정보의 목록 교부에 있어 수사기관은 정보의 세부 사항을 특정하여 출력하거나 전자파일 형태로 제공할 수 있습니다.\n",
      "\n",
      "D: 옳은 설명입니다. 세관 공무원이 특정 물품을 검사할 경우 법적 절차에 따라 영장을 반드시 받아야 합니다.\n",
      "\n",
      "따라서, 옳지 않은 설명은 B입니다.\n",
      "Could not extract answer from response for question 180: 문제를 분석해 보겠습니다.\n",
      "\n",
      "1) **문제의 핵심 형법 쟁점 파악**: 이 문제는 중지 미수의 요건에 관한 것입니다. 중지 미수란 범죄의 실행에 착수하였으나 스스로의 의사로 그 행위를 중단한 경우를 의미합니다. 따라서 중지 미수가 성립하기 위해서는 중지의 원인이 범죄 완수에 장애가 아닌 자의적인 결단이어야 합니다.\n",
      "\n",
      "2) **관련 법조항 적용**: 제359조(미수범)에 따라 미수범은 처벌되며, 중지 미수의 경우 제332조에 근거하여 일정한 조건을 충족해야 할 필요가 있습니다. 즉, 자기의 자유로운 의사로 중지해야 하고, 중지가 범죄 완수에 장애가 되지 않는 경우에 한합니다.\n",
      "\n",
      "3) **판례 원칙 적용**: 중지 미수 판례는 범죄행위가 계속되던 중에 자의적 중지가 필요하며, 외부적 요인이나 공포 등으로 인한 중지는 중지 미수로 인정되지 않습니다.\n",
      "\n",
      "4) **각 선택지 법적 분석**:\n",
      "- A: 타당. 결과 발생이 가능한 범죄의 실행 행위에 착수하고 자의적으로 중지한 경우 중지 미수에 해당합니다.\n",
      "- B: 타당. 자의적인\n",
      "Could not extract answer from response for question 196: 문제의 핵심 형법 쟁점은 사면법에 따른 사면의 종류와 그 적용 범위에 대한 이해입니다.\n",
      "\n",
      "1. **A**. 특별사면은 형을 선고 받은 자를 대상으로 한다.\n",
      "   - 이 선택지는 맞습니다. 특별사면은 형이 확정된 후 수형자에게 적용됩니다.\n",
      "\n",
      "2. **B**. 일반 사면이 있으면 특별한 규정이 없는 한 형을 선고 받지 아니한 자에 대하여는 공소권이 상실된다.\n",
      "   - 일반 사면은 범죄를 저지른 자에게만 적용되며, 공소권이 상실되는 것은 아닌데 이 부분에서 오해가 있을 수 있습니다. 따라서 이 선택지는 설명이 명확히 틀린 것으로 보입니다.\n",
      "\n",
      "3. **C**. 형의 집행유예를 선고 받은 자에 대하여는 형 선고의 효력을 상실하게 하는 특별사면을 할 수 없다.\n",
      "   - 형의 집행유예는 선고의 효력을 가진 경우에 해당하므로, 이 선택지는 맞습니다. 특별사면이 집행유예 중인 자에게 적용되지 않습니다.\n",
      "\n",
      "4. **D**. 일반 사면은 죄의 종류를 정하여 대통령령으로 한다.\n",
      "   - 일반 사면은 법률에 의해 시행되며, 특정 범위 내에서만 대통령령으로 규정될\n",
      "Accuracy: 0.2983 (54/181)\n",
      "Saved detailed results to results/criminal_law_results_184342.csv\n",
      "Benchmark evaluation completed. Final accuracy: 0.2983\n",
      "Neo4j connection closed.\n",
      "Total pipeline execution time: 444.76 seconds\n",
      "\n",
      "=== Pipeline Execution Summary ===\n",
      "Total questions: 200\n",
      "Processed questions: 181\n",
      "Correct answers: 54\n",
      "Accuracy: 0.2983\n",
      "Total execution time: 444.76 seconds\n",
      "Results file: results/criminal_law_results_184342.csv\n",
      "Batch output file: results/criminal_law_batch_output_20250412_184342.jsonl\n"
     ]
    }
   ],
   "source": [
    "# 셀 11: 실행 코드\n",
    "# 파이프라인 생성 및 실행\n",
    "pipeline = LegalRAGPipeline(\n",
    "    OPENAI_API_KEY,\n",
    "    NEO4J_URI,\n",
    "    NEO4J_USERNAME,\n",
    "    NEO4J_PASSWORD\n",
    ")\n",
    "\n",
    "# 첫 실행 시에는 skip_data_loading=False로 설정하여 데이터 로딩 및 그래프 구축\n",
    "# 이후 실행 시에는 True로 설정하여 데이터 로딩 단계 건너뛰기\n",
    "questions_csv_path = './dataset/Criminal-Law-test.csv'\n",
    "summary = pipeline.run_pipeline(\n",
    "    questions_csv_path, \n",
    "    output_dir=\"results\",\n",
    "    skip_data_loading=True  # 첫 실행 시에는 False로 설정\n",
    ")\n",
    "\n",
    "# 결과 요약 출력\n",
    "print(\"\\n=== Pipeline Execution Summary ===\")\n",
    "print(f\"Total questions: {summary['total_questions']}\")\n",
    "print(f\"Processed questions: {summary['processed_questions']}\")\n",
    "print(f\"Correct answers: {summary['correct_answers']}\")\n",
    "print(f\"Accuracy: {summary['accuracy']:.4f}\")\n",
    "print(f\"Total execution time: {summary['execution_time_seconds']:.2f} seconds\")\n",
    "print(f\"Results file: {summary['results_file']}\")\n",
    "print(f\"Batch output file: {summary['batch_output_file']}\")"
   ]
  },
  {
   "cell_type": "code",
   "execution_count": 13,
   "id": "68b981d6",
   "metadata": {},
   "outputs": [
    {
     "data": {
      "image/png": "[encoded data removed]",
      "text/plain": [
       "<Figure size 1000x600 with 1 Axes>"
      ]
     },
     "metadata": {},
     "output_type": "display_data"
    },
    {
     "data": {
      "image/png": "[encoded data removed]",
      "text/plain": [
       "<Figure size 1200x600 with 1 Axes>"
      ]
     },
     "metadata": {},
     "output_type": "display_data"
    }
   ],
   "source": [
    "# 셀 12: 결과 시각화 (선택사항)\n",
    "import matplotlib.pyplot as plt\n",
    "import seaborn as sns\n",
    "\n",
    "# 가장 최근 결과 파일 찾기\n",
    "import glob\n",
    "result_files = glob.glob(\"results/criminal_law_results_184342.csv\")\n",
    "if result_files:\n",
    "    latest_result_file = max(result_files, key=os.path.getctime)\n",
    "    \n",
    "    # 결과 데이터 로드\n",
    "    results_df = pd.read_csv(latest_result_file)\n",
    "    \n",
    "    # 정확도 시각화\n",
    "    plt.figure(figsize=(10, 6))\n",
    "    sns.barplot(x=['Correct', 'Incorrect'], y=[\n",
    "        results_df['is_correct'].sum(), \n",
    "        len(results_df) - results_df['is_correct'].sum()\n",
    "    ])\n",
    "    plt.title('Benchmark Results')\n",
    "    plt.ylabel('Number of Questions')\n",
    "    accuracy = results_df['is_correct'].mean()\n",
    "    plt.annotate(f'Accuracy: {accuracy:.2%}', \n",
    "                xy=(0.5, 0.5), \n",
    "                xycoords='axes fraction', \n",
    "                fontsize=14, \n",
    "                ha='center')\n",
    "    plt.show()\n",
    "    \n",
    "    # 예측 분포 시각화\n",
    "    plt.figure(figsize=(12, 6))\n",
    "    pred_counts = results_df['predicted'].value_counts().sort_index()\n",
    "    actual_counts = results_df['actual'].value_counts().sort_index()\n",
    "    \n",
    "    # 모든 옵션 (A, B, C, D) 포함\n",
    "    all_options = sorted(list(set(pred_counts.index) | set(actual_counts.index)))\n",
    "    \n",
    "    x = range(len(all_options))\n",
    "    width = 0.35\n",
    "    \n",
    "    plt.bar([i - width/2 for i in x], \n",
    "            [pred_counts.get(opt, 0) for opt in all_options], \n",
    "            width, \n",
    "            label='Predicted')\n",
    "    plt.bar([i + width/2 for i in x], \n",
    "            [actual_counts.get(opt, 0) for opt in all_options], \n",
    "            width, \n",
    "            label='Actual')\n",
    "    \n",
    "    plt.xlabel('Option')\n",
    "    plt.ylabel('Count')\n",
    "    plt.title('Predicted vs Actual Option Distribution')\n",
    "    plt.xticks(x, all_options)\n",
    "    plt.legend()\n",
    "    plt.show()"
   ]
  },
  {
   "cell_type": "code",
   "execution_count": null,
   "id": "e5285abe",
   "metadata": {},
   "outputs": [],
   "source": []
  }
 ],
 "metadata": {
  "kernelspec": {
   "display_name": "Python 3 (ipykernel)",
   "language": "python",
   "name": "python3"
  },
  "language_info": {
   "codemirror_mode": {
    "name": "ipython",
    "version": 3
   },
   "file_extension": ".py",
   "mimetype": "text/x-python",
   "name": "python",
   "nbconvert_exporter": "python",
   "pygments_lexer": "ipython3",
   "version": "3.9.21"
  }
 },
 "nbformat": 4,
 "nbformat_minor": 5
}
