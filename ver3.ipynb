{
 "cells": [
  {
   "cell_type": "markdown",
   "id": "c938c1dd",
   "metadata": {},
   "source": [
    "# RecursiveCharacterTextSplitter 사용"
   ]
  },
  {
   "cell_type": "code",
   "execution_count": 15,
   "id": "f51573ec",
   "metadata": {},
   "outputs": [],
   "source": [
    "# 형법 pdf\n",
    "file_path = './dataset/criminal-law.pdf'\n",
    "\n",
    "# Langchain의 PyPDFLoader를 이용\n",
    "from langchain_community.document_loaders import PyPDFLoader\n",
    "import re\n",
    "from langchain_core.documents import Document\n",
    "import os\n",
    "from dotenv import load_dotenv\n",
    "from langchain_openai import OpenAIEmbeddings\n",
    "from langchain_chroma import Chroma\n",
    "\n",
    "# PDF 로더 객체 생성\n",
    "loader = PyPDFLoader(file_path)\n",
    "\n",
    "# pdf의 각 페이지를 저장\n",
    "pages = []\n",
    "\n",
    "# 비동기 방식으로 pdf 페이지 로드\n",
    "async for page in loader.alazy_load():\n",
    "    pages.append(page)"
   ]
  },
  {
   "cell_type": "code",
   "execution_count": 16,
   "id": "06518c78",
   "metadata": {},
   "outputs": [],
   "source": [
    "# 맨앞 두 페이지는 쓸모없어서 버림\n",
    "pages = pages[2:]\n",
    "\n",
    "# 페이지 내용을 하나의 문자열로\n",
    "full_text = \"\\n\".join(page.page_content for page in pages)"
   ]
  },
  {
   "cell_type": "code",
   "execution_count": 17,
   "id": "67c42f30",
   "metadata": {},
   "outputs": [],
   "source": [
    "from langchain.text_splitter import RecursiveCharacterTextSplitter\n",
    "from langchain_core.documents import Document \n",
    "import re\n",
    "\n",
    "# Patterns for structure identification\n",
    "edition_pattern = re.compile(r'(제\\d+편 [^\\n]+)')\n",
    "chapter_pattern = re.compile(r'(제\\d+장 [^\\n]+)')\n",
    "# Pattern to capture article number and title, e.g., \"제21조(정당방위)\"\n",
    "article_pattern = re.compile(r'(제\\d+조(?:의\\d+)?\\s*\\(.+?\\))')\n",
    "\n",
    "# Initialize the text splitter\n",
    "text_splitter = RecursiveCharacterTextSplitter(\n",
    "    chunk_size=1000,  # 청크 크기 (조정 가능)\n",
    "    chunk_overlap=150,  # 청크 간 중첩 크기 (조정 가능)\n",
    "    length_function=len,\n",
    "    # 분할 기준 우선순위: 조 -> 장 -> 편 -> 문단 -> 줄바꿈 -> 공백\n",
    "    separators=[\n",
    "        r\"(제\\d+조(?:의\\d+)?\\s*\\(.+?\\))\", # 조 (Article)\n",
    "        r\"(제\\d+장 [^\\n]+)\",             # 장 (Chapter)\n",
    "        r\"(제\\d+편 [^\\n]+)\",             # 편 (Edition)\n",
    "        \"\\n\\n\",                         # 문단 구분\n",
    "        \"\\n\",                           # 줄바꿈\n",
    "        \" \",                            # 공백\n",
    "    ],\n",
    "    is_separator_regex=True,\n",
    ")\n",
    "\n",
    "# Split the entire text content directly\n",
    "text_chunks = text_splitter.split_text(full_text)\n",
    "\n",
    "# Process chunks to create Document objects and assign metadata\n",
    "chunks = []\n",
    "current_edition = \"\"\n",
    "current_chapter = \"\"\n",
    "current_article = \"\" # 현재 조(Article) 추적 추가\n",
    "\n",
    "for text_chunk in text_chunks:\n",
    "    metadata = {}\n",
    "    chunk_content_to_check = text_chunk # 메타데이터 검색을 위해 원본 청크 사용\n",
    "\n",
    "    # 청크 시작 부분에서 편/장/조 정보 업데이트 시도\n",
    "    edition_match = edition_pattern.match(chunk_content_to_check)\n",
    "    if edition_match:\n",
    "        current_edition = edition_match.group(1).strip()\n",
    "        # 편 정보가 업데이트되면 하위 장/조 정보 초기화 (선택적)\n",
    "        current_chapter = \"\"\n",
    "        current_article = \"\"\n",
    "\n",
    "    chapter_match = chapter_pattern.match(chunk_content_to_check)\n",
    "    if chapter_match:\n",
    "        current_chapter = chapter_match.group(1).strip()\n",
    "        # 장 정보가 업데이트되면 하위 조 정보 초기화 (선택적)\n",
    "        current_article = \"\"\n",
    "\n",
    "    article_match = article_pattern.match(chunk_content_to_check)\n",
    "    if article_match:\n",
    "        current_article = article_match.group(1).strip()\n",
    "\n",
    "    # 현재까지 파악된 최신 편/장/조 정보를 메타데이터에 할당\n",
    "    if current_edition:\n",
    "        metadata[\"edition\"] = current_edition\n",
    "    if current_chapter:\n",
    "        metadata[\"chapter\"] = current_chapter\n",
    "    # 조(Article) 정보는 청크 시작 부분이 아니더라도 포함될 수 있으므로,\n",
    "    # match 대신 search를 사용하고, current_article도 업데이트\n",
    "    article_search_match = article_pattern.search(chunk_content_to_check)\n",
    "    if article_search_match:\n",
    "         # 검색된 첫번째 조 정보를 메타데이터에 저장하고, 현재 조 정보로 업데이트\n",
    "        matched_article = article_search_match.group(1).strip()\n",
    "        metadata[\"article\"] = matched_article\n",
    "        current_article = matched_article # 다음 청크를 위해 업데이트\n",
    "    elif current_article: # 청크 내에 명시적 조항이 없으면 이전 조항 유지\n",
    "         metadata[\"article\"] = current_article\n",
    "\n",
    "\n",
    "    # 페이지 정보는 이 방식으로는 정확히 알 수 없으므로 제거하거나 다른 방법 고려\n",
    "    # metadata[\"page\"] = ?\n",
    "\n",
    "    chunks.append(Document(page_content=text_chunk, metadata=metadata))"
   ]
  },
  {
   "cell_type": "code",
   "execution_count": 18,
   "id": "0cfc9ef0",
   "metadata": {},
   "outputs": [
    {
     "name": "stdout",
     "output_type": "stream",
     "text": [
      "Total chunks created: 80\n",
      "\n",
      "--- First Chunk ---\n",
      "Metadata: {'article': '제1조(범죄의 성립과 처벌)'}\n",
      "Content:\n",
      "법제처                                                            3                                                       국가법령정보센터\n",
      "「형법」\n",
      " \n",
      "                    제1편 총칙\n",
      "                       제1장 형법의 적용범위\n",
      " \n",
      "제1조(범죄의 성립과 처벌)제1조(범죄의 성립과 처벌) ①범죄의 성립과 처벌은 행위 시의 법률에 의한다.\n",
      "②범죄 후 법률의 변경에 의하여 그 행위가 범죄를 구성하지 아니하거나 형이 구법보다 경한\n",
      "때에는 신법에 의한다.\n",
      "③재판확정 후 법률의 변경에 의하여 그 행위가 범죄를 구성하지 아니하는 때에는 형의 집행\n",
      "을 면제한다.\n",
      " \n",
      "제2조(국내범)제2조(국내범) 본법은 대한민국영역 내에서 죄를 범한 내국인과 외국인에게 적용한다.\n",
      " \n",
      "제3조(내국인의 국외범)제3조(내국인의 국외범) 본법은 대한민국영역 외에서 죄를 범한 내국인에게 적용한다.\n",
      " ...\n",
      "\n",
      "--- Second Chunk ---\n",
      "Metadata: {'article': '제6조(대한민국과 대한민국 국민에 대한 국외범)'}\n",
      "Content:\n",
      "제6조(대한민국과 대한민국 국민에 대한 국외범) 본법은 대한민국영역 외에서 대한민국 또는 대\n",
      "한민국 국민에 대하여 전조에 기재한 이외의 죄를 범한 외국인에게 적용한다. 단 행위지의 법\n",
      "률에 의하여 범죄를 구성하지 아니하거나 소추 또는 형의 집행을 면제할 경우에는 예외로 한\n",
      "다.\n",
      " \n",
      "형법\n",
      "[시행 2010.10.16] [법률 제10259호, 2010.4.15, 일부개정]\n",
      "법제처                                                            4                                                       국가법령정보센터\n",
      "「형법」\n",
      "제7조(외국에서 받은 형의 집행)제7조(외국에서 받은 형의 집행) 범죄에 의하여 외국에서 형의 전부 또는 일부의 집행을 받은 자\n",
      "에 대하여는 형을 감경 또는 면제할 수 있다.\n",
      " \n",
      "제8조(총칙의 적용)제8조(총칙의 적용) 본법 총칙은 타 법령에 정한 죄에 적용한다. 단 그 법령에 특별한 ...\n"
     ]
    }
   ],
   "source": [
    "print(f\"Total chunks created: {len(chunks)}\")\n",
    "if chunks:\n",
    "    print(\"\\n--- First Chunk ---\")\n",
    "    print(f\"Metadata: {chunks[0].metadata}\")\n",
    "    print(f\"Content:\\n{chunks[0].page_content[:500]}...\") # Print first 500 chars\n",
    "\n",
    "if len(chunks) > 1:\n",
    "    print(\"\\n--- Second Chunk ---\")\n",
    "    print(f\"Metadata: {chunks[1].metadata}\")\n",
    "    print(f\"Content:\\n{chunks[1].page_content[:500]}...\") # Print first 500 chars"
   ]
  },
  {
   "cell_type": "code",
   "execution_count": 19,
   "id": "9c58e1c3",
   "metadata": {},
   "outputs": [],
   "source": [
    "load_dotenv()\n",
    "api_key = os.environ.get(\"OPENAI_API_KEY\")"
   ]
  },
  {
   "cell_type": "code",
   "execution_count": 20,
   "id": "d552bac2",
   "metadata": {},
   "outputs": [],
   "source": [
    "embeddings = OpenAIEmbeddings(model=\"text-embedding-3-small\")"
   ]
  },
  {
   "cell_type": "code",
   "execution_count": 21,
   "id": "c629cd97",
   "metadata": {},
   "outputs": [
    {
     "name": "stdout",
     "output_type": "stream",
     "text": [
      "successfully embedded 207 documents into ChromaDB\n"
     ]
    }
   ],
   "source": [
    "vectorstore = Chroma.from_documents(\n",
    "  documents = chunks,\n",
    "  embedding = embeddings,\n",
    "  persist_directory = \"./chroma_db\" # 저장할 디렉토리\n",
    ")\n",
    "\n",
    "print(f\"successfully embedded {vectorstore._collection.count()} documents into ChromaDB\")"
   ]
  },
  {
   "cell_type": "code",
   "execution_count": 22,
   "id": "2e344090",
   "metadata": {},
   "outputs": [
    {
     "name": "stdout",
     "output_type": "stream",
     "text": [
      "Loaded ChromaDB with 207 document\n"
     ]
    }
   ],
   "source": [
    "# 벡터 저장소 로드 테스트\n",
    "db = Chroma(persist_directory=\"./chroma_db\", embedding_function=embeddings)\n",
    "print(f\"Loaded ChromaDB with {db._collection.count()} document\")"
   ]
  },
  {
   "cell_type": "code",
   "execution_count": 23,
   "id": "7b7dac39",
   "metadata": {},
   "outputs": [
    {
     "name": "stdout",
     "output_type": "stream",
     "text": [
      "\n",
      "--- similarity search result for '정당방위의 요건은 무엇인가?' ---\n",
      "Metadata: {'article': '제225조(공문서등의 위조ㆍ변조)'}\n",
      "Content Preview: 제225조(공문서등의 위조ㆍ변조)제225조(공문서등의 위조ㆍ변조) 행사할 목적으로 공무원 또는 공무소의 문서 또는 도화를 위\n",
      "조 또는 변조한 자는 10년 이하의 징역에 처한다. <개정 1995.12.29>\n",
      " \n",
      "제226조(자격모용에 의한 공문서 등의 작성)제226조(자격모용에 의한 공문서 등의 작성) 행사할 목적으로 공무원 또는 공무소의 자격을 모\n",
      "용하여 문...\n",
      "--------------------\n",
      "Metadata: {'article': '제225조(공문서등의 위조ㆍ변조)'}\n",
      "Content Preview: 제225조(공문서등의 위조ㆍ변조)제225조(공문서등의 위조ㆍ변조) 행사할 목적으로 공무원 또는 공무소의 문서 또는 도화를 위\n",
      "조 또는 변조한 자는 10년 이하의 징역에 처한다. <개정 1995.12.29>\n",
      " \n",
      "제226조(자격모용에 의한 공문서 등의 작성)제226조(자격모용에 의한 공문서 등의 작성) 행사할 목적으로 공무원 또는 공무소의 자격을 모\n",
      "용하여 문...\n",
      "--------------------\n",
      "Metadata: {'article': '제12조(강요된 행위)'}\n",
      "Content Preview: 농아자의 행위는 형을 감경한다.\n",
      " \n",
      "제12조(강요된 행위)제12조(강요된 행위) 저항할 수 없는 폭력이나 자기 또는 친족의 생명 신체에 대한 위해를 방어\n",
      "할 방법이 없는 협박에 의하여 강요된 행위는 벌하지 아니한다.\n",
      " \n",
      "제13조(범의)제13조(범의) 죄의 성립요소인 사실을 인식하지 못한 행위는 벌하지 아니한다. 단, 법률에 특별\n",
      "한 규정이 있는 경우에는 예...\n",
      "--------------------\n"
     ]
    }
   ],
   "source": [
    "# 유사도 검색 테스트\n",
    "query = \"정당방위의 요건은 무엇인가?\"\n",
    "docs = vectorstore.similarity_search(query, k=3) # 상위 3개\n",
    "\n",
    "print(f\"\\n--- similarity search result for '{query}' ---\")\n",
    "for doc in docs:\n",
    "  print(f\"Metadata: {doc.metadata}\")\n",
    "  print(f\"Content Preview: {doc.page_content[:200]}...\") # 내용 미리보기\n",
    "  print(\"-\"*20)"
   ]
  },
  {
   "cell_type": "code",
   "execution_count": null,
   "id": "4a4b1289",
   "metadata": {},
   "outputs": [],
   "source": []
  }
 ],
 "metadata": {
  "kernelspec": {
   "display_name": "Python 3 (ipykernel)",
   "language": "python",
   "name": "python3"
  }
 },
 "nbformat": 4,
 "nbformat_minor": 5
}
