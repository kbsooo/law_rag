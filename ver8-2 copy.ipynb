{
 "cells": [
  {
   "cell_type": "markdown",
   "id": "2c8b12f0",
   "metadata": {},
   "source": [
    "Grok"
   ]
  },
  {
   "cell_type": "code",
   "execution_count": 53,
   "id": "ca54a6f8",
   "metadata": {},
   "outputs": [
    {
     "name": "stdout",
     "output_type": "stream",
     "text": [
      "OpenAI API Key loaded.\n",
      "Embedding model 'text-embedding-3-small' initialized.\n",
      "OpenAI client initialized.\n",
      "Configuration loaded and objects initialized (if successful).\n"
     ]
    }
   ],
   "source": [
    "# ## 1. 환경 설정 및 초기화\n",
    "\n",
    "import os\n",
    "import json\n",
    "import re\n",
    "import time\n",
    "import random\n",
    "from datetime import datetime\n",
    "from typing import List, Dict, Any, Optional\n",
    "from collections import Counter\n",
    "\n",
    "import pandas as pd\n",
    "from dotenv import load_dotenv\n",
    "from langchain_community.document_loaders import PyPDFLoader\n",
    "from langchain_openai import OpenAIEmbeddings\n",
    "from neo4j import GraphDatabase, Driver\n",
    "from openai import OpenAI\n",
    "from tqdm.notebook import tqdm # Jupyter Notebook용 tqdm\n",
    "import plotly.express as px\n",
    "import plotly.graph_objects as go\n",
    "from IPython.display import display, HTML\n",
    "import plotly.io as pio\n",
    "\n",
    "# Plotly 기본 테마 설정\n",
    "pio.templates.default = \"plotly_white\"\n",
    "\n",
    "# %%\n",
    "def load_config_and_initialize():\n",
    "    \"\"\"환경 변수 로드 및 주요 객체 초기화\"\"\"\n",
    "    # .env 파일 로드 (노트북 환경에서는 경로 확인 필요)\n",
    "    load_dotenv() # 주피터 환경에서는 직접 설정하거나 다른 방식을 사용할 수 있습니다.\n",
    "\n",
    "    config = {\n",
    "        # 중요: 실제 환경 변수 또는 직접 값으로 대체하세요.\n",
    "        \"neo4j_uri\": \"neo4j+s://e27cd121.databases.neo4j.io\",\n",
    "        \"neo4j_username\": \"neo4j\",\n",
    "        \"neo4j_password\": \"LqLQ2A8x1q9Qrc-BbNdFb2-ke7Py3jElHvNriCb8Q9A\",\n",
    "        \"openai_api_key\": os.getenv(\"OPENAI_API_KEY\"),\n",
    "        \"embedding_model_name\": 'text-embedding-3-small',\n",
    "        \"embedding_dimension\": 1536,\n",
    "        \"pdf_path\": './dataset/criminal-law.pdf', # 실제 파일 경로 확인\n",
    "        \"precedent_dir\": './dataset/precedent_label/', # 실제 디렉토리 경로 확인\n",
    "        \"test_csv_path\": './dataset/Criminal-Law-test.csv', # 실제 파일 경로 확인\n",
    "        \"results_dir\": \"results\",\n",
    "        \"llm_model\": \"gpt-4o-mini\", # Batch API에서 사용할 모델\n",
    "    }\n",
    "\n",
    "    # 결과 디렉토리 생성\n",
    "    os.makedirs(config[\"results_dir\"], exist_ok=True)\n",
    "\n",
    "    # OpenAI API 키 확인\n",
    "    if not config[\"openai_api_key\"] or config[\"openai_api_key\"] == \"your_openai_api_key\":\n",
    "        print(\"Warning: OpenAI API Key not set. Please set the OPENAI_API_KEY environment variable or update the config.\")\n",
    "        # 필요한 경우 여기서 스크립트 중단\n",
    "        # return None, None, None\n",
    "    else:\n",
    "         print(\"OpenAI API Key loaded.\")\n",
    "\n",
    "\n",
    "    # Embedding 모델 설정\n",
    "    try:\n",
    "        embedding_model = OpenAIEmbeddings(\n",
    "            model=config[\"embedding_model_name\"],\n",
    "            api_key=config[\"openai_api_key\"]\n",
    "        )\n",
    "        print(f\"Embedding model '{config['embedding_model_name']}' initialized.\")\n",
    "    except Exception as e:\n",
    "        print(f\"Error initializing embedding model: {e}\")\n",
    "        embedding_model = None\n",
    "\n",
    "\n",
    "    # OpenAI 클라이언트 초기화\n",
    "    try:\n",
    "        openai_client = OpenAI(api_key=config[\"openai_api_key\"])\n",
    "        # 간단한 API 호출 테스트 (선택적)\n",
    "        # openai_client.models.list()\n",
    "        print(\"OpenAI client initialized.\")\n",
    "    except Exception as e:\n",
    "        print(f\"Error initializing OpenAI client: {e}\")\n",
    "        openai_client = None\n",
    "\n",
    "    print(\"Configuration loaded and objects initialized (if successful).\")\n",
    "    return config, embedding_model, openai_client\n",
    "\n",
    "# %%\n",
    "# 설정 로드 및 객체 초기화 실행\n",
    "config, embedding_model, openai_client = load_config_and_initialize()\n",
    "\n",
    "# 초기화 실패 시 중단 (선택적)\n",
    "# if not all([config, embedding_model, openai_client]):\n",
    "#     raise ValueError(\"Failed to initialize necessary components. Check configurations and API keys.\")\n"
   ]
  },
  {
   "cell_type": "code",
   "execution_count": 54,
   "id": "a79e2d6c",
   "metadata": {},
   "outputs": [
    {
     "name": "stdout",
     "output_type": "stream",
     "text": [
      "Loading articles from PDF: ./dataset/criminal-law.pdf\n",
      "Loaded 50 pages from PDF.\n",
      "Found 660 potential article markers.\n",
      "Processed 361 articles from PDF.\n",
      "\n",
      "--- First 3 Articles (Preview) ---\n",
      "\n",
      "--- Article: 제1조(범죄의성립과처벌) ---\n",
      "제1조(범죄의 성립과 처벌) ①범죄의 성립과 처벌은 행위 시의 법률에 의한다.\n",
      "②범죄 후 법률의 변경에 의하여 그 행위가 범죄를 구성하지 아니하거나 형이 구법보다 경한\n",
      "때에는 신법에 의한다.\n",
      "③재판확정 후 법률의 변경에 의하여 그 행위가 범죄를 구성하지 아니하는 때에는...\n",
      "\n",
      "--- Article: 제4조(국외에있는내국선박등에서외국인이범한죄) ---\n",
      "제4조(국외에 있는 내국선박 등에서 외국인이 범한 죄) 본법은 대한민국영역 외에 있는 대한민\n",
      "국의 선박 또는 항공기 내에서 죄를 범한 외국인에게 적용한다....\n",
      "\n",
      "--- Article: 제5조(외국인의국외범) ---\n",
      "제5조(외국인의 국외범) 본법은 대한민국영역 외에서 다음에 기재한 죄를 범한 외국인에게 적용\n",
      "한다.\n",
      "1. 내란의 죄\n",
      "2. 외환의 죄\n",
      "3. 국기에 관한 죄\n",
      "4. 통화에 관한 죄\n",
      "5. 유가증권, 우표와 인지에 관한 죄\n",
      "6. 문서에 관한 죄 중...\n",
      "Loading precedents from directory: ./dataset/precedent_label/\n",
      "Found 5404 JSON files.\n"
     ]
    },
    {
     "data": {
      "application/vnd.jupyter.widget-view+json": {
       "model_id": "4e1bcc829b62432aa7168ab0f78f312d",
       "version_major": 2,
       "version_minor": 0
      },
      "text/plain": [
       "Loading precedents:   0%|          | 0/5404 [00:00<?, ?it/s]"
      ]
     },
     "metadata": {},
     "output_type": "display_data"
    },
    {
     "name": "stdout",
     "output_type": "stream",
     "text": [
      "Loaded 5404 valid precedents. Skipped 0 files.\n",
      "Sampling 3000 precedents from 5404...\n",
      "Selected 3000 precedents after sampling.\n",
      "\n",
      "--- Example Precedent (Sampled) ---\n",
      "{\n",
      "  \"case_id\": \"86도309\",\n",
      "  \"case_name\": \"특정범죄가중처벌등에관한법률위반, 절도, 보호감호\",\n",
      "  \"judgment_summary\": \"자수를 한 경우, 이를 양형에 반드시 참작해야 하는지 여부(소극)\",\n",
      "  \"full_summary\": \"기록에 의하여 인정되는 피고인의 전과와 이 사건범행의 내용, 과거의 행적, 가족관계, 주위환경 등 여러 사정등에 비추어 보면 피고인에게 재범의 위험성이 있다고 하여 제1심의 보호감호처분을 유지한 원심의 조처는 정당하고, 거기에 소론과 같이 채증법칙위배, 심리미진 등으로 인한 사실오인의 위법이 있다고 할 수 없다.\\n또한 자수를 하였다 하더라도 이를 양형에 반드시 참작하여야 하는 것이 아니므로 원심이 형을 양정함에 있어 이를 참작하여 감경하지 아니하였다 하여 위법이라 할 수 없으며, 징역 7년이 선고된 이 사건에 있어서 양형부당은 적법한 상고이유로 삼을 수도 없으므로 논지는 어느 것이나 받아들일 수 없다.\",\n",
      "  \"keywords\": [\n",
      "    \"자수\",\n",
      "    \"양형\",\n",
      "    \"양정\"\n",
      "  ],\n",
      "  \"referenced_rules_raw\": \"형법 제52조\",\n",
      "  \"referenced_cases_raw\": \"대법원 1984. 11. 13. 선고 84도1897 판결\",\n",
      "  \"referenced_rules\": [\n",
      "    \"제52조\"\n",
      "  ],\n",
      "  \"referenced_cases\": [\n",
      "    \"대법원 1984. 11. 13. 선고 84도1897 판결\"\n",
      "  ],\n",
      "  \"text_for_embedding\": \"기록에 의하여 인정되는 피고인의 전과와 이 사건범행의 내용, 과거의 행적, 가족관계, 주위환경 등 여러 사정등에 비추어 보면 피고인에게 재범의 위험성이 있다고 하여 제1심의 보호감호처분을 유지한 원심의 조처는 정당하고, 거기에 소론과 같이 채증법칙위배, 심리미진 등으로 인한 사실오인의 위법이 있다고 할 수 없다.\\n또한 자수를 하였다 하더라도 이를 양형에 반드시 참작하여야 하는 것이 아니므로 원심이 형을 양정함에 있어 이를 참작하여 감경하지 아니하였다 하여 위법이라 할 수 없으며, 징역 7년이 선고된 이 사건에 있어서 양형부당은 적법한 상고이유로 삼을 수도 없으므로 논지는 어느 것이나 받아들일 수 없다.\"\n",
      "}\n"
     ]
    }
   ],
   "source": [
    "# ## 2. 데이터 로드\n",
    "# ### 2.1. 법 조항 로드 (PDF)\n",
    "\n",
    "# %%\n",
    "def load_articles_from_pdf(pdf_path: str) -> Dict[str, str]:\n",
    "    \"\"\"PDF에서 법 조항 텍스트를 로드하고 추출\"\"\"\n",
    "    print(f\"Loading articles from PDF: {pdf_path}\")\n",
    "    if not os.path.exists(pdf_path):\n",
    "        print(f\"Error: PDF file not found at {pdf_path}\")\n",
    "        return {}\n",
    "\n",
    "    try:\n",
    "        loader = PyPDFLoader(pdf_path)\n",
    "        pages = loader.load()\n",
    "        full_text = \"\\n\".join(page.page_content for page in pages)\n",
    "        print(f\"Loaded {len(pages)} pages from PDF.\")\n",
    "\n",
    "        # 조항 패턴 수정 (괄호 안 내용 포함, 공백 유연하게 처리)\n",
    "        article_pattern = r'(제\\s*\\d+\\s*조(?:의\\s*\\d+)?(?:\\s*\\(.*?\\))?)'\n",
    "        matches = list(re.finditer(article_pattern, full_text))\n",
    "        print(f\"Found {len(matches)} potential article markers.\")\n",
    "\n",
    "        articles = {}\n",
    "        for i in range(len(matches)):\n",
    "            current_match = matches[i]\n",
    "            # 조항 ID 정규화 (공백 제거)\n",
    "            current_article_id = re.sub(r'\\s+', '', current_match.group(1)).strip()\n",
    "\n",
    "            start_pos = current_match.start()\n",
    "            end_pos = matches[i+1].start() if i < len(matches)-1 else len(full_text)\n",
    "            article_text = full_text[start_pos:end_pos].strip()\n",
    "\n",
    "            # 내용이 너무 짧으면 건너뛰기 (예: 목차 등에서 잘못 추출된 경우)\n",
    "            if len(article_text) > 50: # 최소 길이 기준 설정\n",
    "                 articles[current_article_id] = article_text\n",
    "            # else:\n",
    "            #      print(f\"Skipping short text for potential article ID: {current_article_id}\")\n",
    "\n",
    "\n",
    "        print(f\"Processed {len(articles)} articles from PDF.\")\n",
    "        # 예시 출력 (선택적)\n",
    "        if articles:\n",
    "            article_ids = list(articles.keys())\n",
    "            print(\"\\n--- First 3 Articles (Preview) ---\")\n",
    "            for article_id in article_ids[:3]:\n",
    "                print(f\"\\n--- Article: {article_id} ---\")\n",
    "                print(articles[article_id][:150] + \"...\")\n",
    "        return articles\n",
    "\n",
    "    except Exception as e:\n",
    "        print(f\"An error occurred while loading/processing the PDF: {e}\")\n",
    "        return {}\n",
    "\n",
    "# %%\n",
    "# 법 조항 로드 실행\n",
    "if config:\n",
    "    articles = load_articles_from_pdf(config[\"pdf_path\"])\n",
    "else:\n",
    "    articles = {}\n",
    "    print(\"Skipping article loading due to configuration issues.\")\n",
    "\n",
    "# %% [markdown]\n",
    "# ### 2.2. 판례 로드 (JSON)\n",
    "\n",
    "# %%\n",
    "def load_precedents_from_json(precedent_dir: str, sample_size: Optional[int] = 1000) -> List[Dict[str, Any]]:\n",
    "    \"\"\"JSON 파일에서 판례 정보를 로드하고 정제\"\"\"\n",
    "    print(f\"Loading precedents from directory: {precedent_dir}\")\n",
    "    if not os.path.isdir(precedent_dir):\n",
    "        print(f\"Error: Precedent directory not found at {precedent_dir}\")\n",
    "        return []\n",
    "\n",
    "    precedents = []\n",
    "    rule_pattern = re.compile(r'제\\s*\\d+\\s*조(?:의\\s*\\d+)?') # 참조 법조항 추출 패턴 (공백 유연)\n",
    "    files_processed = 0\n",
    "    files_skipped = 0\n",
    "\n",
    "    json_files = [f for f in os.listdir(precedent_dir) if f.endswith(\".json\")]\n",
    "    print(f\"Found {len(json_files)} JSON files.\")\n",
    "\n",
    "    for filename in tqdm(json_files, desc=\"Loading precedents\"):\n",
    "        filepath = os.path.join(precedent_dir, filename)\n",
    "        try:\n",
    "            with open(filepath, 'r', encoding='utf-8') as f:\n",
    "                data = json.load(f)\n",
    "                info = data.get(\"info\", {})\n",
    "                summary_list = data.get(\"Summary\", [])\n",
    "                keyword_list = data.get(\"keyword_tagg\", [])\n",
    "                ref_info = data.get(\"Reference_info\", {})\n",
    "\n",
    "                precedent_info = {\n",
    "                    \"case_id\": info.get(\"caseNoID\", filename.replace(\".json\", \"\")),\n",
    "                    \"case_name\": info.get(\"caseNm\"),\n",
    "                    \"judgment_summary\": data.get(\"jdgmn\", \"\"),\n",
    "                    \"full_summary\": \" \".join([s.get(\"summ_contxt\", \"\") for s in summary_list]).strip(),\n",
    "                    \"keywords\": [kw.get(\"keyword\") for kw in keyword_list if kw.get(\"keyword\")],\n",
    "                    \"referenced_rules_raw\": ref_info.get(\"reference_rules\", \"\"),\n",
    "                    \"referenced_cases_raw\": ref_info.get(\"reference_court_case\", \"\"),\n",
    "                }\n",
    "\n",
    "                # 참조 법조항 정제 (조항 번호만, 공백 제거)\n",
    "                raw_rules = precedent_info[\"referenced_rules_raw\"].split(',') if precedent_info[\"referenced_rules_raw\"] else []\n",
    "                cleaned_rules = set()\n",
    "                for rule in raw_rules:\n",
    "                    matches = rule_pattern.findall(rule.strip())\n",
    "                    for match in matches:\n",
    "                        cleaned_rules.add(re.sub(r'\\s+', '', match)) # 공백 제거 후 추가\n",
    "                precedent_info[\"referenced_rules\"] = list(cleaned_rules)\n",
    "\n",
    "                # 참조 판례 정제 (간단히 공백 제거)\n",
    "                raw_cases = precedent_info[\"referenced_cases_raw\"].split(',') if precedent_info[\"referenced_cases_raw\"] else []\n",
    "                precedent_info[\"referenced_cases\"] = [case.strip() for case in raw_cases if case.strip()]\n",
    "\n",
    "                # 임베딩할 텍스트 준비 (full_summary 우선, 없으면 judgment_summary)\n",
    "                precedent_info[\"text_for_embedding\"] = precedent_info[\"full_summary\"] or precedent_info[\"judgment_summary\"]\n",
    "\n",
    "                # 유효한 데이터만 추가 (임베딩할 텍스트가 있어야 함)\n",
    "                if precedent_info[\"text_for_embedding\"]:\n",
    "                    precedents.append(precedent_info)\n",
    "                    files_processed += 1\n",
    "                else:\n",
    "                    # print(f\"Skipping {filename}: Missing text for embedding.\")\n",
    "                    files_skipped += 1\n",
    "\n",
    "\n",
    "        except json.JSONDecodeError:\n",
    "            print(f\"Warning: Could not decode JSON from {filename}\")\n",
    "            files_skipped += 1\n",
    "        except Exception as e:\n",
    "            print(f\"Error processing {filename}: {e}\")\n",
    "            files_skipped += 1\n",
    "\n",
    "    print(f\"Loaded {len(precedents)} valid precedents. Skipped {files_skipped} files.\")\n",
    "\n",
    "    # 샘플링\n",
    "    if sample_size is not None and len(precedents) > sample_size:\n",
    "        print(f\"Sampling {sample_size} precedents from {len(precedents)}...\")\n",
    "        random.seed(42) # 재현성을 위한 시드 고정\n",
    "        precedents = random.sample(precedents, sample_size)\n",
    "        print(f\"Selected {len(precedents)} precedents after sampling.\")\n",
    "\n",
    "    # 예시 출력 (선택적)\n",
    "    if precedents:\n",
    "        print(\"\\n--- Example Precedent (Sampled) ---\")\n",
    "        print(json.dumps(precedents[0], indent=2, ensure_ascii=False))\n",
    "\n",
    "    return precedents\n",
    "\n",
    "# %%\n",
    "# 판례 로드 실행\n",
    "if config:\n",
    "    # 샘플 사이즈 조절 가능 (None으로 설정 시 전체 로드)\n",
    "    precedents = load_precedents_from_json(config[\"precedent_dir\"], sample_size=3000)\n",
    "else:\n",
    "    precedents = []\n",
    "    print(\"Skipping precedent loading due to configuration issues.\")"
   ]
  },
  {
   "cell_type": "code",
   "execution_count": 55,
   "id": "d3c51053",
   "metadata": {},
   "outputs": [
    {
     "name": "stdout",
     "output_type": "stream",
     "text": [
      "Attempting to connect to Neo4j at neo4j+s://e27cd121.databases.neo4j.io...\n",
      "Successfully connected to Neo4j.\n",
      "Setting up Neo4j constraints and indexes...\n",
      "Constraints created or verified.\n",
      "Vector index 'article_embedding' created or verified.\n",
      "Vector index 'precedent_embedding' created or verified.\n",
      "Attempting to wait for indexes to populate (up to 60 seconds)...\n",
      "Indexes should be online.\n"
     ]
    }
   ],
   "source": [
    "# ## 3. Neo4j 연결 및 설정\n",
    "\n",
    "# %%\n",
    "def connect_neo4j(uri: str, auth: tuple) -> Optional[Driver]:\n",
    "    \"\"\"Neo4j 데이터베이스에 연결\"\"\"\n",
    "    print(f\"Attempting to connect to Neo4j at {uri}...\")\n",
    "    try:\n",
    "        driver = GraphDatabase.driver(uri, auth=auth)\n",
    "        driver.verify_connectivity()\n",
    "        print(\"Successfully connected to Neo4j.\")\n",
    "        return driver\n",
    "    except Exception as e:\n",
    "        print(f\"Failed to connect to Neo4j: {e}\")\n",
    "        print(\"Please ensure Neo4j is running and the connection details (URI, username, password) are correct.\")\n",
    "        return None\n",
    "\n",
    "# %%\n",
    "def close_neo4j(driver: Optional[Driver]):\n",
    "    \"\"\"Neo4j 드라이버 연결 종료\"\"\"\n",
    "    if driver:\n",
    "        driver.close()\n",
    "        print(\"Neo4j driver connection closed.\")\n",
    "\n",
    "# %%\n",
    "def setup_neo4j_constraints_and_indexes(driver: Driver, dimension: int):\n",
    "    \"\"\"Neo4j 제약조건 및 벡터 인덱스 설정\"\"\"\n",
    "    print(\"Setting up Neo4j constraints and indexes...\")\n",
    "    try:\n",
    "        with driver.session(database=\"neo4j\") as session:\n",
    "            # 제약조건 (Idempotent: 이미 존재하면 오류 없이 넘어감)\n",
    "            session.run(\"CREATE CONSTRAINT article_id IF NOT EXISTS FOR (a:Article) REQUIRE a.id IS UNIQUE\")\n",
    "            session.run(\"CREATE CONSTRAINT precedent_id IF NOT EXISTS FOR (p:Precedent) REQUIRE p.id IS UNIQUE\")\n",
    "            session.run(\"CREATE CONSTRAINT keyword_text IF NOT EXISTS FOR (k:Keyword) REQUIRE k.text IS UNIQUE\")\n",
    "            print(\"Constraints created or verified.\")\n",
    "\n",
    "            # 벡터 인덱스 (Idempotent: 이미 존재하면 오류 없이 넘어감)\n",
    "            # Neo4j 버전 5.11 이상 필요\n",
    "            index_commands = [\n",
    "                (f\"CREATE VECTOR INDEX article_embedding IF NOT EXISTS \"\n",
    "                 f\"FOR (a:Article) ON (a.embedding) \"\n",
    "                 f\"OPTIONS {{indexConfig: {{`vector.dimensions`: {dimension}, `vector.similarity_function`: 'cosine'}}}}\"),\n",
    "                (f\"CREATE VECTOR INDEX precedent_embedding IF NOT EXISTS \"\n",
    "                 f\"FOR (p:Precedent) ON (p.embedding) \"\n",
    "                 f\"OPTIONS {{indexConfig: {{`vector.dimensions`: {dimension}, `vector.similarity_function`: 'cosine'}}}}\")\n",
    "            ]\n",
    "            for command in index_commands:\n",
    "                try:\n",
    "                    session.run(command)\n",
    "                    index_name = command.split(\" \")[3] # 간단히 인덱스 이름 추출\n",
    "                    print(f\"Vector index '{index_name}' created or verified.\")\n",
    "                except Exception as e:\n",
    "                    # 벡터 인덱스 생성 실패는 경고로 처리 (하위 버전 호환성)\n",
    "                    print(f\"Warning: Could not create or verify vector index (requires Neo4j 5.11+ with Vector Search plugin): {e}\")\n",
    "                    print(\"Vector search functionality might not be available.\")\n",
    "\n",
    "\n",
    "            # 인덱스 활성화 대기 (Best-effort)\n",
    "            print(\"Attempting to wait for indexes to populate (up to 60 seconds)...\")\n",
    "            try:\n",
    "                # awaitIndexes는 오래 걸릴 수 있으므로 타임아웃 설정\n",
    "                session.run(\"CALL db.awaitIndexes(60000)\") # 60초 타임아웃 (밀리초 단위)\n",
    "                print(\"Indexes should be online.\")\n",
    "            except Exception as e:\n",
    "                 print(f\"Warning: Could not explicitly wait for indexes (may proceed anyway, index population might take time): {e}\")\n",
    "\n",
    "    except Exception as e:\n",
    "        print(f\"An error occurred during Neo4j setup: {e}\")\n",
    "        # 심각한 오류 시 여기서 중단 고려\n",
    "\n",
    "# %%\n",
    "# Neo4j 연결 실행\n",
    "if config:\n",
    "    neo4j_driver = connect_neo4j(config[\"neo4j_uri\"], (config[\"neo4j_username\"], config[\"neo4j_password\"]))\n",
    "else:\n",
    "    neo4j_driver = None\n",
    "    print(\"Skipping Neo4j connection due to configuration issues.\")\n",
    "\n",
    "# %%\n",
    "# Neo4j 설정 실행 (드라이버가 성공적으로 연결된 경우)\n",
    "if neo4j_driver and config:\n",
    "    setup_neo4j_constraints_and_indexes(neo4j_driver, config[\"embedding_dimension\"])\n",
    "elif not neo4j_driver:\n",
    "     print(\"Skipping Neo4j setup because connection failed.\")\n",
    "else:\n",
    "     print(\"Skipping Neo4j setup due to configuration issues.\")"
   ]
  },
  {
   "cell_type": "code",
   "execution_count": 56,
   "id": "4ac6dcd4",
   "metadata": {},
   "outputs": [
    {
     "name": "stdout",
     "output_type": "stream",
     "text": [
      "Starting graph data creation process...\n",
      "Processing 361 articles...\n"
     ]
    },
    {
     "data": {
      "application/vnd.jupyter.widget-view+json": {
       "model_id": "fcf6a28fc49d44b0ae04a0c49a31a440",
       "version_major": 2,
       "version_minor": 0
      },
      "text/plain": [
       "Embedding Articles:   0%|          | 0/361 [00:00<?, ?it/s]"
      ]
     },
     "metadata": {},
     "output_type": "display_data"
    },
    {
     "name": "stdout",
     "output_type": "stream",
     "text": [
      "Embedding complete for 361 articles (skipped 0). Writing to Neo4j...\n",
      "Successfully created/updated 361 Article nodes.\n",
      "\n",
      "Processing 3000 precedents...\n"
     ]
    },
    {
     "data": {
      "application/vnd.jupyter.widget-view+json": {
       "model_id": "e30d22df1fc34848a7eded9c686a9ceb",
       "version_major": 2,
       "version_minor": 0
      },
      "text/plain": [
       "Embedding Precedents:   0%|          | 0/3000 [00:00<?, ?it/s]"
      ]
     },
     "metadata": {},
     "output_type": "display_data"
    },
    {
     "name": "stdout",
     "output_type": "stream",
     "text": [
      "Embedding complete for 3000 precedents (skipped 0). Writing to Neo4j...\n",
      "Successfully created/updated 3000 Precedent nodes.\n"
     ]
    },
    {
     "name": "stderr",
     "output_type": "stream",
     "text": [
      "[#F02C]  _: <CONNECTION> error: Failed to read from defunct connection IPv4Address(('si-e27cd121-cd12.production-orch-0066.neo4j.io', 7687)) (ResolvedIPv4Address(('34.126.114.186', 7687))): OSError('No data')\n",
      "Unable to retrieve routing information\n"
     ]
    },
    {
     "name": "stdout",
     "output_type": "stream",
     "text": [
      "Finished graph node creation in 1488.73 seconds.\n",
      "\n",
      "Starting relationship creation process...\n",
      "Error creating keyword nodes: Unable to retrieve routing information. Retrying in 5s... (Attempt 1/3)\n"
     ]
    },
    {
     "name": "stderr",
     "output_type": "stream",
     "text": [
      "Unable to retrieve routing information\n"
     ]
    },
    {
     "name": "stdout",
     "output_type": "stream",
     "text": [
      "Error creating keyword nodes: Unable to retrieve routing information. Retrying in 5s... (Attempt 2/3)\n"
     ]
    },
    {
     "name": "stderr",
     "output_type": "stream",
     "text": [
      "Unable to retrieve routing information\n",
      "Unable to retrieve routing information\n"
     ]
    },
    {
     "name": "stdout",
     "output_type": "stream",
     "text": [
      "Failed to create keyword nodes after 3 attempts: Unable to retrieve routing information\n",
      "Error creating HAS_KEYWORD relationships: Unable to retrieve routing information. Retrying in 5s... (Attempt 1/3)\n"
     ]
    },
    {
     "name": "stderr",
     "output_type": "stream",
     "text": [
      "Unable to retrieve routing information\n"
     ]
    },
    {
     "name": "stdout",
     "output_type": "stream",
     "text": [
      "Error creating HAS_KEYWORD relationships: Unable to retrieve routing information. Retrying in 5s... (Attempt 2/3)\n"
     ]
    },
    {
     "name": "stderr",
     "output_type": "stream",
     "text": [
      "Unable to retrieve routing information\n"
     ]
    },
    {
     "name": "stdout",
     "output_type": "stream",
     "text": [
      "Failed to create HAS_KEYWORD relationships after 3 attempts: Unable to retrieve routing information\n"
     ]
    },
    {
     "name": "stderr",
     "output_type": "stream",
     "text": [
      "Unable to retrieve routing information\n"
     ]
    },
    {
     "name": "stdout",
     "output_type": "stream",
     "text": [
      "Error creating REFERENCES_ARTICLE relationships: Unable to retrieve routing information. Retrying in 5s... (Attempt 1/3)\n"
     ]
    },
    {
     "name": "stderr",
     "output_type": "stream",
     "text": [
      "Unable to retrieve routing information\n"
     ]
    },
    {
     "name": "stdout",
     "output_type": "stream",
     "text": [
      "Error creating REFERENCES_ARTICLE relationships: Unable to retrieve routing information. Retrying in 5s... (Attempt 2/3)\n",
      "Created/updated 7743 REFERENCES_ARTICLE relationships.\n",
      "Relationship creation completed with some errors.\n",
      "Graph creation process finished. Review logs for details.\n"
     ]
    }
   ],
   "source": [
    "# ## 4. 그래프 데이터 생성\n",
    "# **주의:** 이 셀은 실행 시 Neo4j 데이터베이스에 데이터를 쓰고 업데이트합니다. 이미 데이터가 있는 경우 중복 실행 시 데이터가 덮어쓰이거나 업데이트될 수 있습니다. 필요에 따라 실행 여부를 결정하세요.\n",
    "\n",
    "# %%\n",
    "# 관계 생성 전용 함수\n",
    "def create_relationships(driver: Driver, relationships_batch: Dict[str, List[Dict[str, str]]], all_keywords: set):\n",
    "    \"\"\"키워드 노드 및 관계를 배치 처리로 생성 (재시도 로직 포함)\"\"\"\n",
    "    if not driver:\n",
    "        print(\"Neo4j driver is not available. Skipping relationship creation.\")\n",
    "        return False\n",
    "    \n",
    "    success = True\n",
    "    max_retries = 3  # 최대 재시도 횟수\n",
    "    retry_delay = 5  # 재시도 간 대기 시간(초)\n",
    "    \n",
    "    try:\n",
    "        with driver.session(database=\"neo4j\") as session:\n",
    "            # --- 키워드 노드 생성 (존재하지 않는 경우) ---\n",
    "            if all_keywords:\n",
    "                try:\n",
    "                    retry_count = 0\n",
    "                    success_keywords = False\n",
    "                    \n",
    "                    while not success_keywords and retry_count < max_retries:\n",
    "                        try:\n",
    "                            # 키워드를 배치로 처리\n",
    "                            keyword_list = list(all_keywords)\n",
    "                            kw_batch_size = 1000  # 배치 크기 조절 가능\n",
    "                            for i in range(0, len(keyword_list), kw_batch_size):\n",
    "                                batch = keyword_list[i:i+kw_batch_size]\n",
    "                                session.run(\n",
    "                                    \"\"\"\n",
    "                                    UNWIND $keywords as keyword_text\n",
    "                                    MERGE (k:Keyword {text: keyword_text})\n",
    "                                    \"\"\",\n",
    "                                    keywords=batch\n",
    "                                )\n",
    "                            print(f\"Ensured {len(all_keywords)} Keyword nodes exist.\")\n",
    "                            success_keywords = True\n",
    "                        except Exception as e:\n",
    "                            retry_count += 1\n",
    "                            if retry_count < max_retries:\n",
    "                                print(f\"Error creating keyword nodes: {e}. Retrying in {retry_delay}s... (Attempt {retry_count}/{max_retries})\")\n",
    "                                time.sleep(retry_delay)\n",
    "                            else:\n",
    "                                print(f\"Failed to create keyword nodes after {max_retries} attempts: {e}\")\n",
    "                                success = False\n",
    "                except Exception as e:\n",
    "                    print(f\"Unexpected error in keyword node creation: {e}\")\n",
    "                    success = False\n",
    "\n",
    "            # --- 관계 생성 (HAS_KEYWORD) ---\n",
    "            if relationships_batch[\"HAS_KEYWORD\"]:\n",
    "                try:\n",
    "                    retry_count = 0\n",
    "                    success_has_keyword = False\n",
    "                    \n",
    "                    while not success_has_keyword and retry_count < max_retries:\n",
    "                        try:\n",
    "                            rel_batch_size = 2000  # 배치 크기 줄임\n",
    "                            rels = relationships_batch[\"HAS_KEYWORD\"]\n",
    "                            for i in range(0, len(rels), rel_batch_size):\n",
    "                                batch = rels[i:i+rel_batch_size]\n",
    "                                session.run(\n",
    "                                    \"\"\"\n",
    "                                    UNWIND $rels as rel\n",
    "                                    MATCH (p:Precedent {id: rel.case_id})\n",
    "                                    MATCH (k:Keyword {text: rel.keyword_text})\n",
    "                                    MERGE (p)-[r:HAS_KEYWORD]->(k)\n",
    "                                    SET r.last_updated = timestamp()\n",
    "                                    \"\"\",\n",
    "                                    rels=batch\n",
    "                                )\n",
    "                            print(f\"Created/updated {len(rels)} HAS_KEYWORD relationships.\")\n",
    "                            success_has_keyword = True\n",
    "                        except Exception as e:\n",
    "                            retry_count += 1\n",
    "                            if retry_count < max_retries:\n",
    "                                print(f\"Error creating HAS_KEYWORD relationships: {e}. Retrying in {retry_delay}s... (Attempt {retry_count}/{max_retries})\")\n",
    "                                time.sleep(retry_delay)\n",
    "                            else:\n",
    "                                print(f\"Failed to create HAS_KEYWORD relationships after {max_retries} attempts: {e}\")\n",
    "                                success = False\n",
    "                except Exception as e:\n",
    "                    print(f\"Unexpected error in HAS_KEYWORD relationship creation: {e}\")\n",
    "                    success = False\n",
    "\n",
    "            # --- 관계 생성 (REFERENCES_ARTICLE) ---\n",
    "            if relationships_batch[\"REFERENCES_ARTICLE\"]:\n",
    "                try:\n",
    "                    retry_count = 0\n",
    "                    success_references = False\n",
    "                    \n",
    "                    while not success_references and retry_count < max_retries:\n",
    "                        try:\n",
    "                            rel_batch_size = 2000  # 배치 크기 줄임\n",
    "                            rels = relationships_batch[\"REFERENCES_ARTICLE\"]\n",
    "                            for i in range(0, len(rels), rel_batch_size):\n",
    "                                batch = rels[i:i+rel_batch_size]\n",
    "                                session.run(\n",
    "                                    \"\"\"\n",
    "                                    UNWIND $rels as rel\n",
    "                                    MATCH (p:Precedent {id: rel.case_id})\n",
    "                                    // 법 조항 ID가 정확히 일치하거나, '제100조의2' 같은 경우 '제100조'로 시작하는 것을 찾음\n",
    "                                    MATCH (a:Article) WHERE a.id = rel.article_ref OR a.id STARTS WITH rel.article_ref\n",
    "                                    MERGE (p)-[r:REFERENCES_ARTICLE]->(a)\n",
    "                                    SET r.last_updated = timestamp()\n",
    "                                    \"\"\",\n",
    "                                    rels=batch\n",
    "                                )\n",
    "                            print(f\"Created/updated {len(rels)} REFERENCES_ARTICLE relationships.\")\n",
    "                            success_references = True\n",
    "                        except Exception as e:\n",
    "                            retry_count += 1\n",
    "                            if retry_count < max_retries:\n",
    "                                print(f\"Error creating REFERENCES_ARTICLE relationships: {e}. Retrying in {retry_delay}s... (Attempt {retry_count}/{max_retries})\")\n",
    "                                time.sleep(retry_delay)\n",
    "                            else:\n",
    "                                print(f\"Failed to create REFERENCES_ARTICLE relationships after {max_retries} attempts: {e}\")\n",
    "                                success = False\n",
    "                except Exception as e:\n",
    "                    print(f\"Unexpected error in REFERENCES_ARTICLE relationship creation: {e}\")\n",
    "                    success = False\n",
    "\n",
    "    except Exception as e:\n",
    "        print(f\"Error establishing Neo4j session: {e}\")\n",
    "        success = False\n",
    "    \n",
    "    return success\n",
    "\n",
    "\n",
    "# 기존 create_graph_nodes_and_relationships 함수 수정 (노드 생성까지만)\n",
    "def create_graph_nodes_and_relationships(driver: Driver, articles: Dict[str, str], precedents: List[Dict[str, Any]], embed_model):\n",
    "    \"\"\"법 조항, 판례 노드를 생성 (관계 생성은 별도 함수로 분리)\"\"\"\n",
    "    if not driver:\n",
    "        print(\"Neo4j driver is not available. Skipping graph creation.\")\n",
    "        return None, None\n",
    "    if not embed_model:\n",
    "        print(\"Embedding model is not available. Skipping graph creation.\")\n",
    "        return None, None\n",
    "    if not articles and not precedents:\n",
    "        print(\"No articles or precedents data to process. Skipping graph creation.\")\n",
    "        return None, None\n",
    "\n",
    "    print(\"Starting graph data creation process...\")\n",
    "    start_time = time.time()\n",
    "    \n",
    "    # 반환할 데이터 준비\n",
    "    relationships_batch = {\"HAS_KEYWORD\": [], \"REFERENCES_ARTICLE\": []}\n",
    "    all_keywords = set()\n",
    "\n",
    "    # --- 1. 법 조항 노드 생성 (Batch) ---\n",
    "    print(f\"Processing {len(articles)} articles...\")\n",
    "    articles_batch = []\n",
    "    articles_embedded = 0\n",
    "    articles_skipped = 0\n",
    "    for article_id, content in tqdm(articles.items(), desc=\"Embedding Articles\"):\n",
    "        if content:\n",
    "            try:\n",
    "                embedding = embed_model.embed_query(content)\n",
    "                articles_batch.append({\n",
    "                    \"id\": article_id,\n",
    "                    \"text\": content,\n",
    "                    \"embedding\": embedding\n",
    "                })\n",
    "                articles_embedded += 1\n",
    "            except Exception as e:\n",
    "                print(f\"Error embedding article {article_id}: {e}. Skipping.\")\n",
    "                articles_skipped += 1\n",
    "        else:\n",
    "            articles_skipped += 1\n",
    "\n",
    "    if articles_batch:\n",
    "        print(f\"Embedding complete for {articles_embedded} articles (skipped {articles_skipped}). Writing to Neo4j...\")\n",
    "        try:\n",
    "            with driver.session(database=\"neo4j\") as session:\n",
    "                session.run(\n",
    "                    \"\"\"\n",
    "                    UNWIND $batch as article_data\n",
    "                    MERGE (a:Article {id: article_data.id})\n",
    "                    SET a.text = article_data.text,\n",
    "                        a.embedding = article_data.embedding,\n",
    "                        a.last_updated = timestamp()\n",
    "                    \"\"\",\n",
    "                    batch=articles_batch\n",
    "                )\n",
    "            print(f\"Successfully created/updated {len(articles_batch)} Article nodes.\")\n",
    "        except Exception as e:\n",
    "            print(f\"Error writing Article nodes to Neo4j: {e}\")\n",
    "    else:\n",
    "        print(\"No valid articles to write to Neo4j.\")\n",
    "\n",
    "    # --- 2. 판례 노드 생성 (Batch) ---\n",
    "    print(f\"\\nProcessing {len(precedents)} precedents...\")\n",
    "    precedents_batch = []\n",
    "    precedents_embedded = 0\n",
    "    precedents_skipped = 0\n",
    "\n",
    "    for precedent in tqdm(precedents, desc=\"Embedding Precedents\"):\n",
    "        text_to_embed = precedent.get(\"text_for_embedding\")\n",
    "        case_id = precedent.get(\"case_id\")\n",
    "        if text_to_embed and case_id:\n",
    "            try:\n",
    "                embedding = embed_model.embed_query(text_to_embed)\n",
    "                precedents_batch.append({\n",
    "                    \"id\": case_id,\n",
    "                    \"name\": precedent.get(\"case_name\"),\n",
    "                    \"judgment_summary\": precedent.get(\"judgment_summary\"),\n",
    "                    \"full_summary\": precedent.get(\"full_summary\"),\n",
    "                    \"embedding\": embedding\n",
    "                })\n",
    "                precedents_embedded += 1\n",
    "\n",
    "                # 관계 데이터 준비 (실제 생성은 별도 함수에서)\n",
    "                for keyword in precedent.get(\"keywords\", []):\n",
    "                    if keyword:\n",
    "                        all_keywords.add(keyword)\n",
    "                        relationships_batch[\"HAS_KEYWORD\"].append({\"case_id\": case_id, \"keyword_text\": keyword})\n",
    "\n",
    "                for article_ref in precedent.get(\"referenced_rules\", []):\n",
    "                    if article_ref:\n",
    "                        relationships_batch[\"REFERENCES_ARTICLE\"].append({\"case_id\": case_id, \"article_ref\": article_ref})\n",
    "\n",
    "            except Exception as e:\n",
    "                print(f\"Error embedding or preparing precedent {case_id}: {e}. Skipping.\")\n",
    "                precedents_skipped += 1\n",
    "        else:\n",
    "             precedents_skipped += 1\n",
    "\n",
    "    if precedents_batch:\n",
    "        print(f\"Embedding complete for {precedents_embedded} precedents (skipped {precedents_skipped}). Writing to Neo4j...\")\n",
    "        try:\n",
    "            with driver.session(database=\"neo4j\") as session:\n",
    "                session.run(\n",
    "                    \"\"\"\n",
    "                    UNWIND $batch as p_data\n",
    "                    MERGE (p:Precedent {id: p_data.id})\n",
    "                    SET p.name = p_data.name,\n",
    "                        p.judgment_summary = p_data.judgment_summary,\n",
    "                        p.full_summary = p_data.full_summary,\n",
    "                        p.embedding = p_data.embedding,\n",
    "                        p.last_updated = timestamp()\n",
    "                    \"\"\",\n",
    "                    batch=precedents_batch\n",
    "                )\n",
    "                print(f\"Successfully created/updated {len(precedents_batch)} Precedent nodes.\")\n",
    "        except Exception as e:\n",
    "            print(f\"Error writing Precedent nodes to Neo4j: {e}\")\n",
    "    else:\n",
    "        print(\"No valid precedents to write to Neo4j.\")\n",
    "\n",
    "    end_time = time.time()\n",
    "    print(f\"Finished graph node creation in {end_time - start_time:.2f} seconds.\")\n",
    "    \n",
    "    # 관계 생성에 필요한 데이터 반환\n",
    "    return relationships_batch, all_keywords\n",
    "\n",
    "\n",
    "# 분리된 코드를 실행하는 셀\n",
    "if neo4j_driver and embedding_model and articles and precedents:\n",
    "    # 1. 노드 생성\n",
    "    relationships_batch, all_keywords = create_graph_nodes_and_relationships(neo4j_driver, articles, precedents, embedding_model)\n",
    "    \n",
    "    # 2. 관계 생성 (별도 단계로 분리)\n",
    "    if relationships_batch and all_keywords is not None:\n",
    "        print(\"\\nStarting relationship creation process...\")\n",
    "        relationship_success = create_relationships(neo4j_driver, relationships_batch, all_keywords)\n",
    "        if relationship_success:\n",
    "            print(\"Relationship creation completed successfully.\")\n",
    "        else:\n",
    "            print(\"Relationship creation completed with some errors.\")\n",
    "    else:\n",
    "        print(\"Skipping relationship creation due to issues with node creation.\")\n",
    "else:\n",
    "    print(\"Skipping graph creation due to missing components (driver, model, or data).\")\n",
    "\n",
    "print(\"Graph creation process finished. Review logs for details.\")"
   ]
  },
  {
   "cell_type": "code",
   "execution_count": 57,
   "id": "9ecebf92",
   "metadata": {},
   "outputs": [],
   "source": [
    "# ## 5. RAG 컨텍스트 검색 및 처리\n",
    "\n",
    "# %%\n",
    "def extract_query_keywords(text: str, max_keywords: int = 7) -> List[str]:\n",
    "    \"\"\"텍스트에서 법률 도메인 키워드 추출 (개선된 버전)\"\"\"\n",
    "    # 한국어 법률 전문 불용어 확장\n",
    "    stopwords = set([\n",
    "        \"의\", \"가\", \"이\", \"은\", \"들\", \"는\", \"좀\", \"잘\", \"걍\", \"과\", \"도\", \"를\", \"으로\", \"자\", \"에\", \"와\", \"한\", \"하다\",\n",
    "        \"것\", \"그\", \"저\", \"수\", \"때\", \"등\", \"및\", \"제\", \"조\", \"항\", \"관련\", \"대한\", \"대해\", \"위한\", \"있는\", \"하는\",\n",
    "        \"그리고\", \"그러나\", \"그래서\", \"하지만\", \"또는\", \"다른\", \"모든\", \"어떤\", \"누구\", \"무엇\", \"언제\", \"어디서\", \"어떻게\", \"왜\",\n",
    "        \"입니다\", \"습니다\", \"합니다\", \"에서\", \"에게\", \"부터\", \"까지\", \"보다\", \"만\", \"같이\", \"처럼\", \"따라\", \"통해\",\n",
    "        \"경우\", \"문제\", \"질문\", \"답변\", \"선택지\", \"다음\", \"중\", \"가장\", \"적절한\", \"옳은\", \"틀린\",\n",
    "        \"형법\", \"제외\", \"포함\", \"법률\", \"규정\", \"사람\", \"때문\", \"이상\", \"경우에는\", \"가지\", \"이하\", \"수도\", \"아래\", \"어느\", \"이유\"\n",
    "    ])\n",
    "    \n",
    "    # 법률 용어 추출 규칙 개선 (2-4 음절 단어 중심, 숫자 포함 용어 포함)\n",
    "    legal_patterns = [\n",
    "        r'\\b[가-힣]{2,4}\\b',  # 2~4음절 한글 단어\n",
    "        r'\\b[가-힣]+[0-9]+\\b',  # 숫자가 포함된 용어 (제100조 등)\n",
    "        r'\\b[0-9]+[가-힣]+\\b',  # 숫자로 시작하는 용어 (1항 등)\n",
    "        r'\\b[가-힣]+-[가-힣]+\\b'  # 하이픈으로 연결된 복합어\n",
    "    ]\n",
    "    \n",
    "    # 법률 전문 용어 리스트 (중요 형법 용어, 포함되면 우선순위 높임)\n",
    "    legal_terms = set([\n",
    "        \"고의\", \"과실\", \"미수\", \"기수\", \"예비\", \"음모\", \"중지\", \"교사\", \"방조\", \"공범\", \"책임\", \"감경\", \"가중\", \n",
    "        \"심신장애\", \"정당방위\", \"긴급피난\", \"자구행위\", \"피해자\", \"행위자\", \"법익\", \"불법\", \"인과관계\", \"형벌\",\n",
    "        \"법정형\", \"법률\", \"처벌\", \"금지\", \"의무\", \"위법\", \"적법\", \"위헌\", \"피고인\", \"원고\", \"검사\", \"판사\", \"변호사\",\n",
    "        \"소송\", \"재판\", \"증거\", \"감형\", \"무죄\", \"유죄\", \"폭행\", \"상해\", \"살인\", \"강도\", \"절도\", \"사기\", \"횡령\", \"배임\",\n",
    "        \"문서위조\", \"업무방해\", \"음주\", \"운전\", \"주취\", \"강간\", \"강제\", \"추행\", \"신뢰\", \"배신\"\n",
    "    ])\n",
    "    \n",
    "    words = []\n",
    "    # 각 패턴에 맞는 단어 추출\n",
    "    for pattern in legal_patterns:\n",
    "        words.extend(re.findall(pattern, text))\n",
    "    \n",
    "    # 불용어 제거 및 법률 전문용어 우선순위 설정\n",
    "    keyword_scores = {}\n",
    "    for word in words:\n",
    "        if word not in stopwords and len(word) >= 2:\n",
    "            # 기본 점수 설정\n",
    "            if word not in keyword_scores:\n",
    "                keyword_scores[word] = 0\n",
    "            \n",
    "            # 점수 증가\n",
    "            keyword_scores[word] += 1\n",
    "            \n",
    "            # 전문 용어 보너스\n",
    "            if word in legal_terms:\n",
    "                keyword_scores[word] += 3\n",
    "            \n",
    "            # 3-4음절 단어에 가중치 부여 (더 구체적인 개념일 가능성)\n",
    "            if 3 <= len(word) <= 4:\n",
    "                keyword_scores[word] += 1\n",
    "    \n",
    "    # 점수로 정렬하여 상위 키워드 선택\n",
    "    sorted_keywords = sorted(keyword_scores.items(), key=lambda x: x[1], reverse=True)\n",
    "    selected_keywords = [k for k, _ in sorted_keywords[:max_keywords]]\n",
    "    \n",
    "    # 키워드 없는 경우 처리\n",
    "    if not selected_keywords and text:\n",
    "        # 텍스트를 띄어쓰기 기준으로 분리해 불용어가 아닌 첫 2-3개 단어 사용\n",
    "        fallback_words = [w for w in text.split()[:5] if w not in stopwords and len(w) >= 2]\n",
    "        selected_keywords = fallback_words[:max_keywords]\n",
    "    \n",
    "    return selected_keywords\n",
    "\n",
    "# %%\n",
    "# ## 5. RAG 컨텍스트 검색 및 처리\n",
    "def extract_query_keywords(text: str, max_keywords: int = 5) -> List[str]:\n",
    "    stopwords = set([\"의\", \"가\", \"이\", \"은\", \"들\", \"는\", \"좀\", \"잘\", \"걍\", \"과\", \"도\", \"를\", \"으로\", \"자\", \"에\", \"와\", \"한\", \"하다\",\n",
    "                     \"것\", \"그\", \"저\", \"수\", \"때\", \"등\", \"및\", \"제\", \"조\", \"항\", \"관련\", \"대한\", \"대해\", \"위한\", \"있는\", \"하는\"])\n",
    "    words = re.findall(r'\\b[가-힣]{2,}\\b', text)\n",
    "    keywords = [w for w in words if w not in stopwords and not w.isdigit()]\n",
    "    counter = Counter(keywords)\n",
    "    return [k for k, _ in counter.most_common(max_keywords)]\n",
    "\n",
    "def retrieve_context_from_graph(driver: Driver, query_text: str, embed_model, top_k: int = 12) -> List[Dict[str, Any]]:\n",
    "    if not driver or not embed_model:\n",
    "        print(\"Missing driver or embedding model. Cannot retrieve context.\")\n",
    "        return []\n",
    "    start_time = time.time()\n",
    "    query_embedding = embed_model.embed_query(query_text)\n",
    "    query_keywords = extract_query_keywords(query_text, max_keywords=5)\n",
    "    results = []\n",
    "    with driver.session(database=\"neo4j\") as session:\n",
    "        # Article 검색: 벡터 유사도 + 참조 판례 수 가중치\n",
    "        article_query = \"\"\"\n",
    "        CALL db.index.vector.queryNodes('article_embedding', $limit * 2, $embedding)\n",
    "        YIELD node AS article, score AS vector_score\n",
    "        OPTIONAL MATCH (p:Precedent)-[:REFERENCES_ARTICLE]->(article)\n",
    "        WITH article, vector_score, count(p) AS precedent_count\n",
    "        WITH article, vector_score + (precedent_count * 0.05) AS final_score, precedent_count\n",
    "        RETURN\n",
    "            article.id AS id,\n",
    "            'Article' AS type,\n",
    "            article.text AS text,\n",
    "            final_score AS score,\n",
    "            precedent_count\n",
    "        ORDER BY final_score DESC\n",
    "        LIMIT $limit\n",
    "        \"\"\"\n",
    "        article_results = session.run(\n",
    "            article_query,\n",
    "            embedding=query_embedding,\n",
    "            limit=top_k\n",
    "        )\n",
    "        # Precedent 검색: 벡터 유사도 + 키워드 매칭 가중치\n",
    "        precedent_query = \"\"\"\n",
    "        CALL db.index.vector.queryNodes('precedent_embedding', $limit * 2, $embedding)\n",
    "        YIELD node AS precedent, score AS vector_score\n",
    "        OPTIONAL MATCH (precedent)-[:HAS_KEYWORD]->(k:Keyword)\n",
    "        WHERE k.text IN $keywords\n",
    "        WITH precedent, vector_score, collect(DISTINCT k.text) AS keywords\n",
    "        WITH precedent, vector_score + (size(keywords) * 0.1) AS final_score, keywords\n",
    "        OPTIONAL MATCH (precedent)-[:REFERENCES_ARTICLE]->(ref_a:Article)\n",
    "        WITH precedent, final_score, keywords, collect(DISTINCT ref_a.id) AS referenced_articles\n",
    "        RETURN\n",
    "            precedent.id AS id,\n",
    "            'Precedent' AS type,\n",
    "            precedent.name AS name,\n",
    "            coalesce(precedent.full_summary, precedent.judgment_summary) AS text,\n",
    "            final_score AS score,\n",
    "            keywords,\n",
    "            referenced_articles\n",
    "        ORDER BY final_score DESC\n",
    "        LIMIT $limit\n",
    "        \"\"\"\n",
    "        precedent_results = session.run(\n",
    "            precedent_query,\n",
    "            embedding=query_embedding,\n",
    "            keywords=query_keywords,\n",
    "            limit=top_k\n",
    "        )\n",
    "        all_results = []\n",
    "        for record in article_results:\n",
    "            all_results.append({\n",
    "                \"id\": record[\"id\"],\n",
    "                \"type\": record[\"type\"],\n",
    "                \"text\": record[\"text\"],\n",
    "                \"score\": record[\"score\"],\n",
    "                \"precedent_count\": record[\"precedent_count\"]\n",
    "            })\n",
    "        for record in precedent_results:\n",
    "            all_results.append({\n",
    "                \"id\": record[\"id\"],\n",
    "                \"type\": record[\"type\"],\n",
    "                \"name\": record[\"name\"],\n",
    "                \"text\": record[\"text\"],\n",
    "                \"score\": record[\"score\"],\n",
    "                \"keywords\": record[\"keywords\"],\n",
    "                \"referenced_articles\": record[\"referenced_articles\"]\n",
    "            })\n",
    "        all_results.sort(key=lambda x: x.get(\"score\", 0), reverse=True)\n",
    "        results = all_results[:top_k]\n",
    "        for res in results:\n",
    "            text_preview = res.get(\"text\", \"\")\n",
    "            res[\"text_preview\"] = text_preview[:250] + \"...\" if len(text_preview) > 250 else text_preview\n",
    "    end_time = time.time()\n",
    "    print(f\"Context retrieval took {end_time - start_time:.2f} seconds.\")\n",
    "    return results\n",
    "\n",
    "# %%\n",
    "def process_text_for_context(text: str, max_len: int = 600) -> str:\n",
    "    if not text:\n",
    "        return \"\"\n",
    "    return text[:max_len] + \"...\" if len(text) > max_len else text\n",
    "\n",
    "def build_optimized_context(search_results: List[Dict[str, Any]], question: str) -> str:\n",
    "    if not search_results:\n",
    "        return \"관련된 법 조항이나 판례 정보를 찾지 못했습니다. 질문 내용을 바탕으로 직접 답변해주세요.\"\n",
    "    context_parts = [\"### 참고 자료 ###\"]\n",
    "    articles = [res for res in search_results if res['type'] == 'Article']\n",
    "    precedents = [res for res in search_results if res['type'] == 'Precedent']\n",
    "    if articles:\n",
    "        context_parts.append(\"**관련 법 조항:**\")\n",
    "        for article in sorted(articles, key=lambda x: x['score'], reverse=True):\n",
    "            header = f\"【{article['id']}】 (관련성: {article['score']:.3f}, 참조 판례 수: {article['precedent_count']})\"\n",
    "            text = process_text_for_context(article['text'], max_len=500)\n",
    "            context_parts.append(f\"{header}\\n{text}\")\n",
    "    if precedents:\n",
    "        context_parts.append(\"\\n**관련 판례:**\")\n",
    "        for precedent in sorted(precedents, key=lambda x: x['score'], reverse=True):\n",
    "            header = f\"【{precedent['id']}】 (관련성: {precedent['score']:.3f})\"\n",
    "            text = process_text_for_context(precedent['text'], max_len=700)\n",
    "            details = []\n",
    "            if precedent.get(\"referenced_articles\"):\n",
    "                refs = \", \".join(precedent[\"referenced_articles\"][:3])\n",
    "                details.append(f\"[참조 법조항: {refs}]\")\n",
    "            if precedent.get(\"keywords\"):\n",
    "                kws = \", \".join(precedent[\"keywords\"][:5])\n",
    "                details.append(f\"[주요 키워드: {kws}]\")\n",
    "            full_context = f\"{header}\\n{text}\"\n",
    "            if details:\n",
    "                full_context += \"\\n\" + \" \".join(details)\n",
    "            context_parts.append(full_context)\n",
    "    context_parts.append(\"\\n### 지침: 위의 참고 자료를 바탕으로 질문에 가장 적합한 답변을 선택하세요. ###\")\n",
    "    return \"\\n\\n\".join(context_parts)\n"
   ]
  },
  {
   "cell_type": "code",
   "execution_count": 58,
   "id": "1f65cd61",
   "metadata": {},
   "outputs": [
    {
     "name": "stdout",
     "output_type": "stream",
     "text": [
      "\n",
      "Loaded 200 questions from ./dataset/Criminal-Law-test.csv\n"
     ]
    },
    {
     "data": {
      "text/html": [
       "<div>\n",
       "<style scoped>\n",
       "    .dataframe tbody tr th:only-of-type {\n",
       "        vertical-align: middle;\n",
       "    }\n",
       "\n",
       "    .dataframe tbody tr th {\n",
       "        vertical-align: top;\n",
       "    }\n",
       "\n",
       "    .dataframe thead th {\n",
       "        text-align: right;\n",
       "    }\n",
       "</style>\n",
       "<table border=\"1\" class=\"dataframe\">\n",
       "  <thead>\n",
       "    <tr style=\"text-align: right;\">\n",
       "      <th></th>\n",
       "      <th>question</th>\n",
       "      <th>answer</th>\n",
       "      <th>A</th>\n",
       "      <th>B</th>\n",
       "      <th>C</th>\n",
       "      <th>D</th>\n",
       "      <th>Category</th>\n",
       "      <th>Human Accuracy</th>\n",
       "    </tr>\n",
       "  </thead>\n",
       "  <tbody>\n",
       "    <tr>\n",
       "      <th>0</th>\n",
       "      <td>범죄 측정에 대한 설명으로 옳은 것은?</td>\n",
       "      <td>1</td>\n",
       "      <td>참여 관찰 연구는 조사자의 주관적 편견이 개입할 수 있고, 시간과 비용이 많이 들며...</td>\n",
       "      <td>인구 대비 범죄 발생 건수를 의미하는 범죄율 (crime rate)은 각 범죄의 가...</td>\n",
       "      <td>자기 보고식 조사(self-report survey) 는 경미한 범죄보다는 살인 등...</td>\n",
       "      <td>피해 조사(victimiz ation survey) 는 개인적 보고에 기반하는 점에...</td>\n",
       "      <td>Criminal Law</td>\n",
       "      <td>0.0</td>\n",
       "    </tr>\n",
       "    <tr>\n",
       "      <th>1</th>\n",
       "      <td>국가의 기능과 관련한 죄에 대한 설명으로 옳은 것은?</td>\n",
       "      <td>4</td>\n",
       "      <td>甲이 자기 자신을 무고하기로 제3자와 공모하고 이에 따라 무고 행위에 가담한 경우,...</td>\n",
       "      <td>甲이 허위로 신고한 사실이 무고행위 당시에는 형사처분의 대상이 될 수 있었으나, 이...</td>\n",
       "      <td>甲이 자신에 대한 형사처분이나 징계 처분을 피하기 위하여 증거를 인멸한 것이 동시에...</td>\n",
       "      <td>공무원인 甲이 직무 관련자에게 제3자와 계약을 체결하도록 요구하여 계약 체결을 하게...</td>\n",
       "      <td>Criminal Law</td>\n",
       "      <td>0.0</td>\n",
       "    </tr>\n",
       "    <tr>\n",
       "      <th>2</th>\n",
       "      <td>甲은 처乙과 부부싸움을 하다가 화가 나서 폭행의 고의로 乙의 가슴을 세게 밀쳤고, ...</td>\n",
       "      <td>4</td>\n",
       "      <td>처乙에 대해서는 폭행치사죄, 집에 대해서는 방화죄가 성립한다.</td>\n",
       "      <td>만약 살인의 고의로 처乙을 실신케 한 후 집에 방화하여 소사케 하였다면 현주건조물방...</td>\n",
       "      <td>보험금 지급 청구와 관련하여, 허위의 보험금 지급 청구서 작성행위는 사문서의 무형위...</td>\n",
       "      <td>범행을 은폐하기 위하여 탁자에 불을 붙인 후 밖으로 나왔으므로 증거인멸죄가 성립한다.</td>\n",
       "      <td>Criminal Law</td>\n",
       "      <td>0.0</td>\n",
       "    </tr>\n",
       "  </tbody>\n",
       "</table>\n",
       "</div>"
      ],
      "text/plain": [
       "                                            question  answer  \\\n",
       "0                              범죄 측정에 대한 설명으로 옳은 것은?       1   \n",
       "1                      국가의 기능과 관련한 죄에 대한 설명으로 옳은 것은?       4   \n",
       "2  甲은 처乙과 부부싸움을 하다가 화가 나서 폭행의 고의로 乙의 가슴을 세게 밀쳤고, ...       4   \n",
       "\n",
       "                                                   A  \\\n",
       "0  참여 관찰 연구는 조사자의 주관적 편견이 개입할 수 있고, 시간과 비용이 많이 들며...   \n",
       "1  甲이 자기 자신을 무고하기로 제3자와 공모하고 이에 따라 무고 행위에 가담한 경우,...   \n",
       "2                 처乙에 대해서는 폭행치사죄, 집에 대해서는 방화죄가 성립한다.   \n",
       "\n",
       "                                                   B  \\\n",
       "0  인구 대비 범죄 발생 건수를 의미하는 범죄율 (crime rate)은 각 범죄의 가...   \n",
       "1  甲이 허위로 신고한 사실이 무고행위 당시에는 형사처분의 대상이 될 수 있었으나, 이...   \n",
       "2  만약 살인의 고의로 처乙을 실신케 한 후 집에 방화하여 소사케 하였다면 현주건조물방...   \n",
       "\n",
       "                                                   C  \\\n",
       "0  자기 보고식 조사(self-report survey) 는 경미한 범죄보다는 살인 등...   \n",
       "1  甲이 자신에 대한 형사처분이나 징계 처분을 피하기 위하여 증거를 인멸한 것이 동시에...   \n",
       "2  보험금 지급 청구와 관련하여, 허위의 보험금 지급 청구서 작성행위는 사문서의 무형위...   \n",
       "\n",
       "                                                   D      Category  \\\n",
       "0  피해 조사(victimiz ation survey) 는 개인적 보고에 기반하는 점에...  Criminal Law   \n",
       "1  공무원인 甲이 직무 관련자에게 제3자와 계약을 체결하도록 요구하여 계약 체결을 하게...  Criminal Law   \n",
       "2    범행을 은폐하기 위하여 탁자에 불을 붙인 후 밖으로 나왔으므로 증거인멸죄가 성립한다.  Criminal Law   \n",
       "\n",
       "   Human Accuracy  \n",
       "0             0.0  \n",
       "1             0.0  \n",
       "2             0.0  "
      ]
     },
     "metadata": {},
     "output_type": "display_data"
    },
    {
     "name": "stdout",
     "output_type": "stream",
     "text": [
      "\n",
      "Performing RAG search for all evaluation questions...\n"
     ]
    },
    {
     "data": {
      "application/vnd.jupyter.widget-view+json": {
       "model_id": "5128e1bfbfda43b382cf9a964770e537",
       "version_major": 2,
       "version_minor": 0
      },
      "text/plain": [
       "Retrieving contexts:   0%|          | 0/200 [00:00<?, ?it/s]"
      ]
     },
     "metadata": {},
     "output_type": "display_data"
    },
    {
     "name": "stderr",
     "output_type": "stream",
     "text": [
      "Received notification from DBMS server: {severity: WARNING} {code: Neo.ClientNotification.Statement.AggregationSkippedNull} {category: UNRECOGNIZED} {title: The query contains an aggregation function that skips null values.} {description: null value eliminated in set function.} {position: None} for query: \"\\n        CALL db.index.vector.queryNodes('article_embedding', $limit * 2, $embedding)\\n        YIELD node AS article, score AS vector_score\\n        OPTIONAL MATCH (p:Precedent)-[:REFERENCES_ARTICLE]->(article)\\n        WITH article, vector_score, count(p) AS precedent_count\\n        WITH article, vector_score + (precedent_count * 0.05) AS final_score, precedent_count\\n        RETURN\\n            article.id AS id,\\n            'Article' AS type,\\n            article.text AS text,\\n            final_score AS score,\\n            precedent_count\\n        ORDER BY final_score DESC\\n        LIMIT $limit\\n        \"\n",
      "Received notification from DBMS server: {severity: WARNING} {code: Neo.ClientNotification.Statement.UnknownRelationshipTypeWarning} {category: UNRECOGNIZED} {title: The provided relationship type is not in the database.} {description: One of the relationship types in your query is not available in the database, make sure you didn't misspell it or that the label is available when you run this statement in your application (the missing relationship type is: HAS_KEYWORD)} {position: line: 4, column: 38, offset: 180} for query: \"\\n        CALL db.index.vector.queryNodes('precedent_embedding', $limit * 2, $embedding)\\n        YIELD node AS precedent, score AS vector_score\\n        OPTIONAL MATCH (precedent)-[:HAS_KEYWORD]->(k:Keyword)\\n        WHERE k.text IN $keywords\\n        WITH precedent, vector_score, collect(DISTINCT k.text) AS keywords\\n        WITH precedent, vector_score + (size(keywords) * 0.1) AS final_score, keywords\\n        OPTIONAL MATCH (precedent)-[:REFERENCES_ARTICLE]->(ref_a:Article)\\n        WITH precedent, final_score, keywords, collect(DISTINCT ref_a.id) AS referenced_articles\\n        RETURN\\n            precedent.id AS id,\\n            'Precedent' AS type,\\n            precedent.name AS name,\\n            coalesce(precedent.full_summary, precedent.judgment_summary) AS text,\\n            final_score AS score,\\n            keywords,\\n            referenced_articles\\n        ORDER BY final_score DESC\\n        LIMIT $limit\\n        \"\n",
      "Received notification from DBMS server: {severity: WARNING} {code: Neo.ClientNotification.Statement.AggregationSkippedNull} {category: UNRECOGNIZED} {title: The query contains an aggregation function that skips null values.} {description: null value eliminated in set function.} {position: None} for query: \"\\n        CALL db.index.vector.queryNodes('precedent_embedding', $limit * 2, $embedding)\\n        YIELD node AS precedent, score AS vector_score\\n        OPTIONAL MATCH (precedent)-[:HAS_KEYWORD]->(k:Keyword)\\n        WHERE k.text IN $keywords\\n        WITH precedent, vector_score, collect(DISTINCT k.text) AS keywords\\n        WITH precedent, vector_score + (size(keywords) * 0.1) AS final_score, keywords\\n        OPTIONAL MATCH (precedent)-[:REFERENCES_ARTICLE]->(ref_a:Article)\\n        WITH precedent, final_score, keywords, collect(DISTINCT ref_a.id) AS referenced_articles\\n        RETURN\\n            precedent.id AS id,\\n            'Precedent' AS type,\\n            precedent.name AS name,\\n            coalesce(precedent.full_summary, precedent.judgment_summary) AS text,\\n            final_score AS score,\\n            keywords,\\n            referenced_articles\\n        ORDER BY final_score DESC\\n        LIMIT $limit\\n        \"\n"
     ]
    },
    {
     "name": "stdout",
     "output_type": "stream",
     "text": [
      "Context retrieval took 2.30 seconds.\n"
     ]
    },
    {
     "name": "stderr",
     "output_type": "stream",
     "text": [
      "Received notification from DBMS server: {severity: WARNING} {code: Neo.ClientNotification.Statement.AggregationSkippedNull} {category: UNRECOGNIZED} {title: The query contains an aggregation function that skips null values.} {description: null value eliminated in set function.} {position: None} for query: \"\\n        CALL db.index.vector.queryNodes('article_embedding', $limit * 2, $embedding)\\n        YIELD node AS article, score AS vector_score\\n        OPTIONAL MATCH (p:Precedent)-[:REFERENCES_ARTICLE]->(article)\\n        WITH article, vector_score, count(p) AS precedent_count\\n        WITH article, vector_score + (precedent_count * 0.05) AS final_score, precedent_count\\n        RETURN\\n            article.id AS id,\\n            'Article' AS type,\\n            article.text AS text,\\n            final_score AS score,\\n            precedent_count\\n        ORDER BY final_score DESC\\n        LIMIT $limit\\n        \"\n",
      "Received notification from DBMS server: {severity: WARNING} {code: Neo.ClientNotification.Statement.UnknownRelationshipTypeWarning} {category: UNRECOGNIZED} {title: The provided relationship type is not in the database.} {description: One of the relationship types in your query is not available in the database, make sure you didn't misspell it or that the label is available when you run this statement in your application (the missing relationship type is: HAS_KEYWORD)} {position: line: 4, column: 38, offset: 180} for query: \"\\n        CALL db.index.vector.queryNodes('precedent_embedding', $limit * 2, $embedding)\\n        YIELD node AS precedent, score AS vector_score\\n        OPTIONAL MATCH (precedent)-[:HAS_KEYWORD]->(k:Keyword)\\n        WHERE k.text IN $keywords\\n        WITH precedent, vector_score, collect(DISTINCT k.text) AS keywords\\n        WITH precedent, vector_score + (size(keywords) * 0.1) AS final_score, keywords\\n        OPTIONAL MATCH (precedent)-[:REFERENCES_ARTICLE]->(ref_a:Article)\\n        WITH precedent, final_score, keywords, collect(DISTINCT ref_a.id) AS referenced_articles\\n        RETURN\\n            precedent.id AS id,\\n            'Precedent' AS type,\\n            precedent.name AS name,\\n            coalesce(precedent.full_summary, precedent.judgment_summary) AS text,\\n            final_score AS score,\\n            keywords,\\n            referenced_articles\\n        ORDER BY final_score DESC\\n        LIMIT $limit\\n        \"\n",
      "Received notification from DBMS server: {severity: WARNING} {code: Neo.ClientNotification.Statement.AggregationSkippedNull} {category: UNRECOGNIZED} {title: The query contains an aggregation function that skips null values.} {description: null value eliminated in set function.} {position: None} for query: \"\\n        CALL db.index.vector.queryNodes('precedent_embedding', $limit * 2, $embedding)\\n        YIELD node AS precedent, score AS vector_score\\n        OPTIONAL MATCH (precedent)-[:HAS_KEYWORD]->(k:Keyword)\\n        WHERE k.text IN $keywords\\n        WITH precedent, vector_score, collect(DISTINCT k.text) AS keywords\\n        WITH precedent, vector_score + (size(keywords) * 0.1) AS final_score, keywords\\n        OPTIONAL MATCH (precedent)-[:REFERENCES_ARTICLE]->(ref_a:Article)\\n        WITH precedent, final_score, keywords, collect(DISTINCT ref_a.id) AS referenced_articles\\n        RETURN\\n            precedent.id AS id,\\n            'Precedent' AS type,\\n            precedent.name AS name,\\n            coalesce(precedent.full_summary, precedent.judgment_summary) AS text,\\n            final_score AS score,\\n            keywords,\\n            referenced_articles\\n        ORDER BY final_score DESC\\n        LIMIT $limit\\n        \"\n"
     ]
    },
    {
     "name": "stdout",
     "output_type": "stream",
     "text": [
      "Context retrieval took 0.95 seconds.\n"
     ]
    },
    {
     "name": "stderr",
     "output_type": "stream",
     "text": [
      "Received notification from DBMS server: {severity: WARNING} {code: Neo.ClientNotification.Statement.AggregationSkippedNull} {category: UNRECOGNIZED} {title: The query contains an aggregation function that skips null values.} {description: null value eliminated in set function.} {position: None} for query: \"\\n        CALL db.index.vector.queryNodes('article_embedding', $limit * 2, $embedding)\\n        YIELD node AS article, score AS vector_score\\n        OPTIONAL MATCH (p:Precedent)-[:REFERENCES_ARTICLE]->(article)\\n        WITH article, vector_score, count(p) AS precedent_count\\n        WITH article, vector_score + (precedent_count * 0.05) AS final_score, precedent_count\\n        RETURN\\n            article.id AS id,\\n            'Article' AS type,\\n            article.text AS text,\\n            final_score AS score,\\n            precedent_count\\n        ORDER BY final_score DESC\\n        LIMIT $limit\\n        \"\n",
      "Received notification from DBMS server: {severity: WARNING} {code: Neo.ClientNotification.Statement.UnknownRelationshipTypeWarning} {category: UNRECOGNIZED} {title: The provided relationship type is not in the database.} {description: One of the relationship types in your query is not available in the database, make sure you didn't misspell it or that the label is available when you run this statement in your application (the missing relationship type is: HAS_KEYWORD)} {position: line: 4, column: 38, offset: 180} for query: \"\\n        CALL db.index.vector.queryNodes('precedent_embedding', $limit * 2, $embedding)\\n        YIELD node AS precedent, score AS vector_score\\n        OPTIONAL MATCH (precedent)-[:HAS_KEYWORD]->(k:Keyword)\\n        WHERE k.text IN $keywords\\n        WITH precedent, vector_score, collect(DISTINCT k.text) AS keywords\\n        WITH precedent, vector_score + (size(keywords) * 0.1) AS final_score, keywords\\n        OPTIONAL MATCH (precedent)-[:REFERENCES_ARTICLE]->(ref_a:Article)\\n        WITH precedent, final_score, keywords, collect(DISTINCT ref_a.id) AS referenced_articles\\n        RETURN\\n            precedent.id AS id,\\n            'Precedent' AS type,\\n            precedent.name AS name,\\n            coalesce(precedent.full_summary, precedent.judgment_summary) AS text,\\n            final_score AS score,\\n            keywords,\\n            referenced_articles\\n        ORDER BY final_score DESC\\n        LIMIT $limit\\n        \"\n",
      "Received notification from DBMS server: {severity: WARNING} {code: Neo.ClientNotification.Statement.AggregationSkippedNull} {category: UNRECOGNIZED} {title: The query contains an aggregation function that skips null values.} {description: null value eliminated in set function.} {position: None} for query: \"\\n        CALL db.index.vector.queryNodes('precedent_embedding', $limit * 2, $embedding)\\n        YIELD node AS precedent, score AS vector_score\\n        OPTIONAL MATCH (precedent)-[:HAS_KEYWORD]->(k:Keyword)\\n        WHERE k.text IN $keywords\\n        WITH precedent, vector_score, collect(DISTINCT k.text) AS keywords\\n        WITH precedent, vector_score + (size(keywords) * 0.1) AS final_score, keywords\\n        OPTIONAL MATCH (precedent)-[:REFERENCES_ARTICLE]->(ref_a:Article)\\n        WITH precedent, final_score, keywords, collect(DISTINCT ref_a.id) AS referenced_articles\\n        RETURN\\n            precedent.id AS id,\\n            'Precedent' AS type,\\n            precedent.name AS name,\\n            coalesce(precedent.full_summary, precedent.judgment_summary) AS text,\\n            final_score AS score,\\n            keywords,\\n            referenced_articles\\n        ORDER BY final_score DESC\\n        LIMIT $limit\\n        \"\n"
     ]
    },
    {
     "name": "stdout",
     "output_type": "stream",
     "text": [
      "Context retrieval took 0.56 seconds.\n"
     ]
    },
    {
     "name": "stderr",
     "output_type": "stream",
     "text": [
      "Received notification from DBMS server: {severity: WARNING} {code: Neo.ClientNotification.Statement.AggregationSkippedNull} {category: UNRECOGNIZED} {title: The query contains an aggregation function that skips null values.} {description: null value eliminated in set function.} {position: None} for query: \"\\n        CALL db.index.vector.queryNodes('article_embedding', $limit * 2, $embedding)\\n        YIELD node AS article, score AS vector_score\\n        OPTIONAL MATCH (p:Precedent)-[:REFERENCES_ARTICLE]->(article)\\n        WITH article, vector_score, count(p) AS precedent_count\\n        WITH article, vector_score + (precedent_count * 0.05) AS final_score, precedent_count\\n        RETURN\\n            article.id AS id,\\n            'Article' AS type,\\n            article.text AS text,\\n            final_score AS score,\\n            precedent_count\\n        ORDER BY final_score DESC\\n        LIMIT $limit\\n        \"\n",
      "Received notification from DBMS server: {severity: WARNING} {code: Neo.ClientNotification.Statement.UnknownRelationshipTypeWarning} {category: UNRECOGNIZED} {title: The provided relationship type is not in the database.} {description: One of the relationship types in your query is not available in the database, make sure you didn't misspell it or that the label is available when you run this statement in your application (the missing relationship type is: HAS_KEYWORD)} {position: line: 4, column: 38, offset: 180} for query: \"\\n        CALL db.index.vector.queryNodes('precedent_embedding', $limit * 2, $embedding)\\n        YIELD node AS precedent, score AS vector_score\\n        OPTIONAL MATCH (precedent)-[:HAS_KEYWORD]->(k:Keyword)\\n        WHERE k.text IN $keywords\\n        WITH precedent, vector_score, collect(DISTINCT k.text) AS keywords\\n        WITH precedent, vector_score + (size(keywords) * 0.1) AS final_score, keywords\\n        OPTIONAL MATCH (precedent)-[:REFERENCES_ARTICLE]->(ref_a:Article)\\n        WITH precedent, final_score, keywords, collect(DISTINCT ref_a.id) AS referenced_articles\\n        RETURN\\n            precedent.id AS id,\\n            'Precedent' AS type,\\n            precedent.name AS name,\\n            coalesce(precedent.full_summary, precedent.judgment_summary) AS text,\\n            final_score AS score,\\n            keywords,\\n            referenced_articles\\n        ORDER BY final_score DESC\\n        LIMIT $limit\\n        \"\n",
      "Received notification from DBMS server: {severity: WARNING} {code: Neo.ClientNotification.Statement.AggregationSkippedNull} {category: UNRECOGNIZED} {title: The query contains an aggregation function that skips null values.} {description: null value eliminated in set function.} {position: None} for query: \"\\n        CALL db.index.vector.queryNodes('precedent_embedding', $limit * 2, $embedding)\\n        YIELD node AS precedent, score AS vector_score\\n        OPTIONAL MATCH (precedent)-[:HAS_KEYWORD]->(k:Keyword)\\n        WHERE k.text IN $keywords\\n        WITH precedent, vector_score, collect(DISTINCT k.text) AS keywords\\n        WITH precedent, vector_score + (size(keywords) * 0.1) AS final_score, keywords\\n        OPTIONAL MATCH (precedent)-[:REFERENCES_ARTICLE]->(ref_a:Article)\\n        WITH precedent, final_score, keywords, collect(DISTINCT ref_a.id) AS referenced_articles\\n        RETURN\\n            precedent.id AS id,\\n            'Precedent' AS type,\\n            precedent.name AS name,\\n            coalesce(precedent.full_summary, precedent.judgment_summary) AS text,\\n            final_score AS score,\\n            keywords,\\n            referenced_articles\\n        ORDER BY final_score DESC\\n        LIMIT $limit\\n        \"\n"
     ]
    },
    {
     "name": "stdout",
     "output_type": "stream",
     "text": [
      "Context retrieval took 0.62 seconds.\n"
     ]
    },
    {
     "name": "stderr",
     "output_type": "stream",
     "text": [
      "Received notification from DBMS server: {severity: WARNING} {code: Neo.ClientNotification.Statement.AggregationSkippedNull} {category: UNRECOGNIZED} {title: The query contains an aggregation function that skips null values.} {description: null value eliminated in set function.} {position: None} for query: \"\\n        CALL db.index.vector.queryNodes('article_embedding', $limit * 2, $embedding)\\n        YIELD node AS article, score AS vector_score\\n        OPTIONAL MATCH (p:Precedent)-[:REFERENCES_ARTICLE]->(article)\\n        WITH article, vector_score, count(p) AS precedent_count\\n        WITH article, vector_score + (precedent_count * 0.05) AS final_score, precedent_count\\n        RETURN\\n            article.id AS id,\\n            'Article' AS type,\\n            article.text AS text,\\n            final_score AS score,\\n            precedent_count\\n        ORDER BY final_score DESC\\n        LIMIT $limit\\n        \"\n",
      "Received notification from DBMS server: {severity: WARNING} {code: Neo.ClientNotification.Statement.UnknownRelationshipTypeWarning} {category: UNRECOGNIZED} {title: The provided relationship type is not in the database.} {description: One of the relationship types in your query is not available in the database, make sure you didn't misspell it or that the label is available when you run this statement in your application (the missing relationship type is: HAS_KEYWORD)} {position: line: 4, column: 38, offset: 180} for query: \"\\n        CALL db.index.vector.queryNodes('precedent_embedding', $limit * 2, $embedding)\\n        YIELD node AS precedent, score AS vector_score\\n        OPTIONAL MATCH (precedent)-[:HAS_KEYWORD]->(k:Keyword)\\n        WHERE k.text IN $keywords\\n        WITH precedent, vector_score, collect(DISTINCT k.text) AS keywords\\n        WITH precedent, vector_score + (size(keywords) * 0.1) AS final_score, keywords\\n        OPTIONAL MATCH (precedent)-[:REFERENCES_ARTICLE]->(ref_a:Article)\\n        WITH precedent, final_score, keywords, collect(DISTINCT ref_a.id) AS referenced_articles\\n        RETURN\\n            precedent.id AS id,\\n            'Precedent' AS type,\\n            precedent.name AS name,\\n            coalesce(precedent.full_summary, precedent.judgment_summary) AS text,\\n            final_score AS score,\\n            keywords,\\n            referenced_articles\\n        ORDER BY final_score DESC\\n        LIMIT $limit\\n        \"\n",
      "Received notification from DBMS server: {severity: WARNING} {code: Neo.ClientNotification.Statement.AggregationSkippedNull} {category: UNRECOGNIZED} {title: The query contains an aggregation function that skips null values.} {description: null value eliminated in set function.} {position: None} for query: \"\\n        CALL db.index.vector.queryNodes('precedent_embedding', $limit * 2, $embedding)\\n        YIELD node AS precedent, score AS vector_score\\n        OPTIONAL MATCH (precedent)-[:HAS_KEYWORD]->(k:Keyword)\\n        WHERE k.text IN $keywords\\n        WITH precedent, vector_score, collect(DISTINCT k.text) AS keywords\\n        WITH precedent, vector_score + (size(keywords) * 0.1) AS final_score, keywords\\n        OPTIONAL MATCH (precedent)-[:REFERENCES_ARTICLE]->(ref_a:Article)\\n        WITH precedent, final_score, keywords, collect(DISTINCT ref_a.id) AS referenced_articles\\n        RETURN\\n            precedent.id AS id,\\n            'Precedent' AS type,\\n            precedent.name AS name,\\n            coalesce(precedent.full_summary, precedent.judgment_summary) AS text,\\n            final_score AS score,\\n            keywords,\\n            referenced_articles\\n        ORDER BY final_score DESC\\n        LIMIT $limit\\n        \"\n"
     ]
    },
    {
     "name": "stdout",
     "output_type": "stream",
     "text": [
      "Context retrieval took 0.47 seconds.\n"
     ]
    },
    {
     "name": "stderr",
     "output_type": "stream",
     "text": [
      "Received notification from DBMS server: {severity: WARNING} {code: Neo.ClientNotification.Statement.AggregationSkippedNull} {category: UNRECOGNIZED} {title: The query contains an aggregation function that skips null values.} {description: null value eliminated in set function.} {position: None} for query: \"\\n        CALL db.index.vector.queryNodes('article_embedding', $limit * 2, $embedding)\\n        YIELD node AS article, score AS vector_score\\n        OPTIONAL MATCH (p:Precedent)-[:REFERENCES_ARTICLE]->(article)\\n        WITH article, vector_score, count(p) AS precedent_count\\n        WITH article, vector_score + (precedent_count * 0.05) AS final_score, precedent_count\\n        RETURN\\n            article.id AS id,\\n            'Article' AS type,\\n            article.text AS text,\\n            final_score AS score,\\n            precedent_count\\n        ORDER BY final_score DESC\\n        LIMIT $limit\\n        \"\n",
      "Received notification from DBMS server: {severity: WARNING} {code: Neo.ClientNotification.Statement.UnknownRelationshipTypeWarning} {category: UNRECOGNIZED} {title: The provided relationship type is not in the database.} {description: One of the relationship types in your query is not available in the database, make sure you didn't misspell it or that the label is available when you run this statement in your application (the missing relationship type is: HAS_KEYWORD)} {position: line: 4, column: 38, offset: 180} for query: \"\\n        CALL db.index.vector.queryNodes('precedent_embedding', $limit * 2, $embedding)\\n        YIELD node AS precedent, score AS vector_score\\n        OPTIONAL MATCH (precedent)-[:HAS_KEYWORD]->(k:Keyword)\\n        WHERE k.text IN $keywords\\n        WITH precedent, vector_score, collect(DISTINCT k.text) AS keywords\\n        WITH precedent, vector_score + (size(keywords) * 0.1) AS final_score, keywords\\n        OPTIONAL MATCH (precedent)-[:REFERENCES_ARTICLE]->(ref_a:Article)\\n        WITH precedent, final_score, keywords, collect(DISTINCT ref_a.id) AS referenced_articles\\n        RETURN\\n            precedent.id AS id,\\n            'Precedent' AS type,\\n            precedent.name AS name,\\n            coalesce(precedent.full_summary, precedent.judgment_summary) AS text,\\n            final_score AS score,\\n            keywords,\\n            referenced_articles\\n        ORDER BY final_score DESC\\n        LIMIT $limit\\n        \"\n",
      "Received notification from DBMS server: {severity: WARNING} {code: Neo.ClientNotification.Statement.AggregationSkippedNull} {category: UNRECOGNIZED} {title: The query contains an aggregation function that skips null values.} {description: null value eliminated in set function.} {position: None} for query: \"\\n        CALL db.index.vector.queryNodes('precedent_embedding', $limit * 2, $embedding)\\n        YIELD node AS precedent, score AS vector_score\\n        OPTIONAL MATCH (precedent)-[:HAS_KEYWORD]->(k:Keyword)\\n        WHERE k.text IN $keywords\\n        WITH precedent, vector_score, collect(DISTINCT k.text) AS keywords\\n        WITH precedent, vector_score + (size(keywords) * 0.1) AS final_score, keywords\\n        OPTIONAL MATCH (precedent)-[:REFERENCES_ARTICLE]->(ref_a:Article)\\n        WITH precedent, final_score, keywords, collect(DISTINCT ref_a.id) AS referenced_articles\\n        RETURN\\n            precedent.id AS id,\\n            'Precedent' AS type,\\n            precedent.name AS name,\\n            coalesce(precedent.full_summary, precedent.judgment_summary) AS text,\\n            final_score AS score,\\n            keywords,\\n            referenced_articles\\n        ORDER BY final_score DESC\\n        LIMIT $limit\\n        \"\n"
     ]
    },
    {
     "name": "stdout",
     "output_type": "stream",
     "text": [
      "Context retrieval took 0.60 seconds.\n"
     ]
    },
    {
     "name": "stderr",
     "output_type": "stream",
     "text": [
      "Received notification from DBMS server: {severity: WARNING} {code: Neo.ClientNotification.Statement.AggregationSkippedNull} {category: UNRECOGNIZED} {title: The query contains an aggregation function that skips null values.} {description: null value eliminated in set function.} {position: None} for query: \"\\n        CALL db.index.vector.queryNodes('article_embedding', $limit * 2, $embedding)\\n        YIELD node AS article, score AS vector_score\\n        OPTIONAL MATCH (p:Precedent)-[:REFERENCES_ARTICLE]->(article)\\n        WITH article, vector_score, count(p) AS precedent_count\\n        WITH article, vector_score + (precedent_count * 0.05) AS final_score, precedent_count\\n        RETURN\\n            article.id AS id,\\n            'Article' AS type,\\n            article.text AS text,\\n            final_score AS score,\\n            precedent_count\\n        ORDER BY final_score DESC\\n        LIMIT $limit\\n        \"\n",
      "Received notification from DBMS server: {severity: WARNING} {code: Neo.ClientNotification.Statement.UnknownRelationshipTypeWarning} {category: UNRECOGNIZED} {title: The provided relationship type is not in the database.} {description: One of the relationship types in your query is not available in the database, make sure you didn't misspell it or that the label is available when you run this statement in your application (the missing relationship type is: HAS_KEYWORD)} {position: line: 4, column: 38, offset: 180} for query: \"\\n        CALL db.index.vector.queryNodes('precedent_embedding', $limit * 2, $embedding)\\n        YIELD node AS precedent, score AS vector_score\\n        OPTIONAL MATCH (precedent)-[:HAS_KEYWORD]->(k:Keyword)\\n        WHERE k.text IN $keywords\\n        WITH precedent, vector_score, collect(DISTINCT k.text) AS keywords\\n        WITH precedent, vector_score + (size(keywords) * 0.1) AS final_score, keywords\\n        OPTIONAL MATCH (precedent)-[:REFERENCES_ARTICLE]->(ref_a:Article)\\n        WITH precedent, final_score, keywords, collect(DISTINCT ref_a.id) AS referenced_articles\\n        RETURN\\n            precedent.id AS id,\\n            'Precedent' AS type,\\n            precedent.name AS name,\\n            coalesce(precedent.full_summary, precedent.judgment_summary) AS text,\\n            final_score AS score,\\n            keywords,\\n            referenced_articles\\n        ORDER BY final_score DESC\\n        LIMIT $limit\\n        \"\n",
      "Received notification from DBMS server: {severity: WARNING} {code: Neo.ClientNotification.Statement.AggregationSkippedNull} {category: UNRECOGNIZED} {title: The query contains an aggregation function that skips null values.} {description: null value eliminated in set function.} {position: None} for query: \"\\n        CALL db.index.vector.queryNodes('precedent_embedding', $limit * 2, $embedding)\\n        YIELD node AS precedent, score AS vector_score\\n        OPTIONAL MATCH (precedent)-[:HAS_KEYWORD]->(k:Keyword)\\n        WHERE k.text IN $keywords\\n        WITH precedent, vector_score, collect(DISTINCT k.text) AS keywords\\n        WITH precedent, vector_score + (size(keywords) * 0.1) AS final_score, keywords\\n        OPTIONAL MATCH (precedent)-[:REFERENCES_ARTICLE]->(ref_a:Article)\\n        WITH precedent, final_score, keywords, collect(DISTINCT ref_a.id) AS referenced_articles\\n        RETURN\\n            precedent.id AS id,\\n            'Precedent' AS type,\\n            precedent.name AS name,\\n            coalesce(precedent.full_summary, precedent.judgment_summary) AS text,\\n            final_score AS score,\\n            keywords,\\n            referenced_articles\\n        ORDER BY final_score DESC\\n        LIMIT $limit\\n        \"\n"
     ]
    },
    {
     "name": "stdout",
     "output_type": "stream",
     "text": [
      "Context retrieval took 0.62 seconds.\n"
     ]
    },
    {
     "name": "stderr",
     "output_type": "stream",
     "text": [
      "Received notification from DBMS server: {severity: WARNING} {code: Neo.ClientNotification.Statement.UnknownRelationshipTypeWarning} {category: UNRECOGNIZED} {title: The provided relationship type is not in the database.} {description: One of the relationship types in your query is not available in the database, make sure you didn't misspell it or that the label is available when you run this statement in your application (the missing relationship type is: HAS_KEYWORD)} {position: line: 4, column: 38, offset: 180} for query: \"\\n        CALL db.index.vector.queryNodes('precedent_embedding', $limit * 2, $embedding)\\n        YIELD node AS precedent, score AS vector_score\\n        OPTIONAL MATCH (precedent)-[:HAS_KEYWORD]->(k:Keyword)\\n        WHERE k.text IN $keywords\\n        WITH precedent, vector_score, collect(DISTINCT k.text) AS keywords\\n        WITH precedent, vector_score + (size(keywords) * 0.1) AS final_score, keywords\\n        OPTIONAL MATCH (precedent)-[:REFERENCES_ARTICLE]->(ref_a:Article)\\n        WITH precedent, final_score, keywords, collect(DISTINCT ref_a.id) AS referenced_articles\\n        RETURN\\n            precedent.id AS id,\\n            'Precedent' AS type,\\n            precedent.name AS name,\\n            coalesce(precedent.full_summary, precedent.judgment_summary) AS text,\\n            final_score AS score,\\n            keywords,\\n            referenced_articles\\n        ORDER BY final_score DESC\\n        LIMIT $limit\\n        \"\n",
      "Received notification from DBMS server: {severity: WARNING} {code: Neo.ClientNotification.Statement.AggregationSkippedNull} {category: UNRECOGNIZED} {title: The query contains an aggregation function that skips null values.} {description: null value eliminated in set function.} {position: None} for query: \"\\n        CALL db.index.vector.queryNodes('precedent_embedding', $limit * 2, $embedding)\\n        YIELD node AS precedent, score AS vector_score\\n        OPTIONAL MATCH (precedent)-[:HAS_KEYWORD]->(k:Keyword)\\n        WHERE k.text IN $keywords\\n        WITH precedent, vector_score, collect(DISTINCT k.text) AS keywords\\n        WITH precedent, vector_score + (size(keywords) * 0.1) AS final_score, keywords\\n        OPTIONAL MATCH (precedent)-[:REFERENCES_ARTICLE]->(ref_a:Article)\\n        WITH precedent, final_score, keywords, collect(DISTINCT ref_a.id) AS referenced_articles\\n        RETURN\\n            precedent.id AS id,\\n            'Precedent' AS type,\\n            precedent.name AS name,\\n            coalesce(precedent.full_summary, precedent.judgment_summary) AS text,\\n            final_score AS score,\\n            keywords,\\n            referenced_articles\\n        ORDER BY final_score DESC\\n        LIMIT $limit\\n        \"\n"
     ]
    },
    {
     "name": "stdout",
     "output_type": "stream",
     "text": [
      "Context retrieval took 0.56 seconds.\n"
     ]
    },
    {
     "name": "stderr",
     "output_type": "stream",
     "text": [
      "Received notification from DBMS server: {severity: WARNING} {code: Neo.ClientNotification.Statement.UnknownRelationshipTypeWarning} {category: UNRECOGNIZED} {title: The provided relationship type is not in the database.} {description: One of the relationship types in your query is not available in the database, make sure you didn't misspell it or that the label is available when you run this statement in your application (the missing relationship type is: HAS_KEYWORD)} {position: line: 4, column: 38, offset: 180} for query: \"\\n        CALL db.index.vector.queryNodes('precedent_embedding', $limit * 2, $embedding)\\n        YIELD node AS precedent, score AS vector_score\\n        OPTIONAL MATCH (precedent)-[:HAS_KEYWORD]->(k:Keyword)\\n        WHERE k.text IN $keywords\\n        WITH precedent, vector_score, collect(DISTINCT k.text) AS keywords\\n        WITH precedent, vector_score + (size(keywords) * 0.1) AS final_score, keywords\\n        OPTIONAL MATCH (precedent)-[:REFERENCES_ARTICLE]->(ref_a:Article)\\n        WITH precedent, final_score, keywords, collect(DISTINCT ref_a.id) AS referenced_articles\\n        RETURN\\n            precedent.id AS id,\\n            'Precedent' AS type,\\n            precedent.name AS name,\\n            coalesce(precedent.full_summary, precedent.judgment_summary) AS text,\\n            final_score AS score,\\n            keywords,\\n            referenced_articles\\n        ORDER BY final_score DESC\\n        LIMIT $limit\\n        \"\n",
      "Received notification from DBMS server: {severity: WARNING} {code: Neo.ClientNotification.Statement.AggregationSkippedNull} {category: UNRECOGNIZED} {title: The query contains an aggregation function that skips null values.} {description: null value eliminated in set function.} {position: None} for query: \"\\n        CALL db.index.vector.queryNodes('precedent_embedding', $limit * 2, $embedding)\\n        YIELD node AS precedent, score AS vector_score\\n        OPTIONAL MATCH (precedent)-[:HAS_KEYWORD]->(k:Keyword)\\n        WHERE k.text IN $keywords\\n        WITH precedent, vector_score, collect(DISTINCT k.text) AS keywords\\n        WITH precedent, vector_score + (size(keywords) * 0.1) AS final_score, keywords\\n        OPTIONAL MATCH (precedent)-[:REFERENCES_ARTICLE]->(ref_a:Article)\\n        WITH precedent, final_score, keywords, collect(DISTINCT ref_a.id) AS referenced_articles\\n        RETURN\\n            precedent.id AS id,\\n            'Precedent' AS type,\\n            precedent.name AS name,\\n            coalesce(precedent.full_summary, precedent.judgment_summary) AS text,\\n            final_score AS score,\\n            keywords,\\n            referenced_articles\\n        ORDER BY final_score DESC\\n        LIMIT $limit\\n        \"\n"
     ]
    },
    {
     "name": "stdout",
     "output_type": "stream",
     "text": [
      "Context retrieval took 0.57 seconds.\n"
     ]
    },
    {
     "name": "stderr",
     "output_type": "stream",
     "text": [
      "Received notification from DBMS server: {severity: WARNING} {code: Neo.ClientNotification.Statement.UnknownRelationshipTypeWarning} {category: UNRECOGNIZED} {title: The provided relationship type is not in the database.} {description: One of the relationship types in your query is not available in the database, make sure you didn't misspell it or that the label is available when you run this statement in your application (the missing relationship type is: HAS_KEYWORD)} {position: line: 4, column: 38, offset: 180} for query: \"\\n        CALL db.index.vector.queryNodes('precedent_embedding', $limit * 2, $embedding)\\n        YIELD node AS precedent, score AS vector_score\\n        OPTIONAL MATCH (precedent)-[:HAS_KEYWORD]->(k:Keyword)\\n        WHERE k.text IN $keywords\\n        WITH precedent, vector_score, collect(DISTINCT k.text) AS keywords\\n        WITH precedent, vector_score + (size(keywords) * 0.1) AS final_score, keywords\\n        OPTIONAL MATCH (precedent)-[:REFERENCES_ARTICLE]->(ref_a:Article)\\n        WITH precedent, final_score, keywords, collect(DISTINCT ref_a.id) AS referenced_articles\\n        RETURN\\n            precedent.id AS id,\\n            'Precedent' AS type,\\n            precedent.name AS name,\\n            coalesce(precedent.full_summary, precedent.judgment_summary) AS text,\\n            final_score AS score,\\n            keywords,\\n            referenced_articles\\n        ORDER BY final_score DESC\\n        LIMIT $limit\\n        \"\n",
      "Received notification from DBMS server: {severity: WARNING} {code: Neo.ClientNotification.Statement.AggregationSkippedNull} {category: UNRECOGNIZED} {title: The query contains an aggregation function that skips null values.} {description: null value eliminated in set function.} {position: None} for query: \"\\n        CALL db.index.vector.queryNodes('precedent_embedding', $limit * 2, $embedding)\\n        YIELD node AS precedent, score AS vector_score\\n        OPTIONAL MATCH (precedent)-[:HAS_KEYWORD]->(k:Keyword)\\n        WHERE k.text IN $keywords\\n        WITH precedent, vector_score, collect(DISTINCT k.text) AS keywords\\n        WITH precedent, vector_score + (size(keywords) * 0.1) AS final_score, keywords\\n        OPTIONAL MATCH (precedent)-[:REFERENCES_ARTICLE]->(ref_a:Article)\\n        WITH precedent, final_score, keywords, collect(DISTINCT ref_a.id) AS referenced_articles\\n        RETURN\\n            precedent.id AS id,\\n            'Precedent' AS type,\\n            precedent.name AS name,\\n            coalesce(precedent.full_summary, precedent.judgment_summary) AS text,\\n            final_score AS score,\\n            keywords,\\n            referenced_articles\\n        ORDER BY final_score DESC\\n        LIMIT $limit\\n        \"\n"
     ]
    },
    {
     "name": "stdout",
     "output_type": "stream",
     "text": [
      "Context retrieval took 0.57 seconds.\n"
     ]
    },
    {
     "name": "stderr",
     "output_type": "stream",
     "text": [
      "Received notification from DBMS server: {severity: WARNING} {code: Neo.ClientNotification.Statement.AggregationSkippedNull} {category: UNRECOGNIZED} {title: The query contains an aggregation function that skips null values.} {description: null value eliminated in set function.} {position: None} for query: \"\\n        CALL db.index.vector.queryNodes('article_embedding', $limit * 2, $embedding)\\n        YIELD node AS article, score AS vector_score\\n        OPTIONAL MATCH (p:Precedent)-[:REFERENCES_ARTICLE]->(article)\\n        WITH article, vector_score, count(p) AS precedent_count\\n        WITH article, vector_score + (precedent_count * 0.05) AS final_score, precedent_count\\n        RETURN\\n            article.id AS id,\\n            'Article' AS type,\\n            article.text AS text,\\n            final_score AS score,\\n            precedent_count\\n        ORDER BY final_score DESC\\n        LIMIT $limit\\n        \"\n",
      "Received notification from DBMS server: {severity: WARNING} {code: Neo.ClientNotification.Statement.UnknownRelationshipTypeWarning} {category: UNRECOGNIZED} {title: The provided relationship type is not in the database.} {description: One of the relationship types in your query is not available in the database, make sure you didn't misspell it or that the label is available when you run this statement in your application (the missing relationship type is: HAS_KEYWORD)} {position: line: 4, column: 38, offset: 180} for query: \"\\n        CALL db.index.vector.queryNodes('precedent_embedding', $limit * 2, $embedding)\\n        YIELD node AS precedent, score AS vector_score\\n        OPTIONAL MATCH (precedent)-[:HAS_KEYWORD]->(k:Keyword)\\n        WHERE k.text IN $keywords\\n        WITH precedent, vector_score, collect(DISTINCT k.text) AS keywords\\n        WITH precedent, vector_score + (size(keywords) * 0.1) AS final_score, keywords\\n        OPTIONAL MATCH (precedent)-[:REFERENCES_ARTICLE]->(ref_a:Article)\\n        WITH precedent, final_score, keywords, collect(DISTINCT ref_a.id) AS referenced_articles\\n        RETURN\\n            precedent.id AS id,\\n            'Precedent' AS type,\\n            precedent.name AS name,\\n            coalesce(precedent.full_summary, precedent.judgment_summary) AS text,\\n            final_score AS score,\\n            keywords,\\n            referenced_articles\\n        ORDER BY final_score DESC\\n        LIMIT $limit\\n        \"\n",
      "Received notification from DBMS server: {severity: WARNING} {code: Neo.ClientNotification.Statement.AggregationSkippedNull} {category: UNRECOGNIZED} {title: The query contains an aggregation function that skips null values.} {description: null value eliminated in set function.} {position: None} for query: \"\\n        CALL db.index.vector.queryNodes('precedent_embedding', $limit * 2, $embedding)\\n        YIELD node AS precedent, score AS vector_score\\n        OPTIONAL MATCH (precedent)-[:HAS_KEYWORD]->(k:Keyword)\\n        WHERE k.text IN $keywords\\n        WITH precedent, vector_score, collect(DISTINCT k.text) AS keywords\\n        WITH precedent, vector_score + (size(keywords) * 0.1) AS final_score, keywords\\n        OPTIONAL MATCH (precedent)-[:REFERENCES_ARTICLE]->(ref_a:Article)\\n        WITH precedent, final_score, keywords, collect(DISTINCT ref_a.id) AS referenced_articles\\n        RETURN\\n            precedent.id AS id,\\n            'Precedent' AS type,\\n            precedent.name AS name,\\n            coalesce(precedent.full_summary, precedent.judgment_summary) AS text,\\n            final_score AS score,\\n            keywords,\\n            referenced_articles\\n        ORDER BY final_score DESC\\n        LIMIT $limit\\n        \"\n"
     ]
    },
    {
     "name": "stdout",
     "output_type": "stream",
     "text": [
      "Context retrieval took 1.01 seconds.\n"
     ]
    },
    {
     "name": "stderr",
     "output_type": "stream",
     "text": [
      "Received notification from DBMS server: {severity: WARNING} {code: Neo.ClientNotification.Statement.AggregationSkippedNull} {category: UNRECOGNIZED} {title: The query contains an aggregation function that skips null values.} {description: null value eliminated in set function.} {position: None} for query: \"\\n        CALL db.index.vector.queryNodes('article_embedding', $limit * 2, $embedding)\\n        YIELD node AS article, score AS vector_score\\n        OPTIONAL MATCH (p:Precedent)-[:REFERENCES_ARTICLE]->(article)\\n        WITH article, vector_score, count(p) AS precedent_count\\n        WITH article, vector_score + (precedent_count * 0.05) AS final_score, precedent_count\\n        RETURN\\n            article.id AS id,\\n            'Article' AS type,\\n            article.text AS text,\\n            final_score AS score,\\n            precedent_count\\n        ORDER BY final_score DESC\\n        LIMIT $limit\\n        \"\n",
      "Received notification from DBMS server: {severity: WARNING} {code: Neo.ClientNotification.Statement.UnknownRelationshipTypeWarning} {category: UNRECOGNIZED} {title: The provided relationship type is not in the database.} {description: One of the relationship types in your query is not available in the database, make sure you didn't misspell it or that the label is available when you run this statement in your application (the missing relationship type is: HAS_KEYWORD)} {position: line: 4, column: 38, offset: 180} for query: \"\\n        CALL db.index.vector.queryNodes('precedent_embedding', $limit * 2, $embedding)\\n        YIELD node AS precedent, score AS vector_score\\n        OPTIONAL MATCH (precedent)-[:HAS_KEYWORD]->(k:Keyword)\\n        WHERE k.text IN $keywords\\n        WITH precedent, vector_score, collect(DISTINCT k.text) AS keywords\\n        WITH precedent, vector_score + (size(keywords) * 0.1) AS final_score, keywords\\n        OPTIONAL MATCH (precedent)-[:REFERENCES_ARTICLE]->(ref_a:Article)\\n        WITH precedent, final_score, keywords, collect(DISTINCT ref_a.id) AS referenced_articles\\n        RETURN\\n            precedent.id AS id,\\n            'Precedent' AS type,\\n            precedent.name AS name,\\n            coalesce(precedent.full_summary, precedent.judgment_summary) AS text,\\n            final_score AS score,\\n            keywords,\\n            referenced_articles\\n        ORDER BY final_score DESC\\n        LIMIT $limit\\n        \"\n",
      "Received notification from DBMS server: {severity: WARNING} {code: Neo.ClientNotification.Statement.AggregationSkippedNull} {category: UNRECOGNIZED} {title: The query contains an aggregation function that skips null values.} {description: null value eliminated in set function.} {position: None} for query: \"\\n        CALL db.index.vector.queryNodes('precedent_embedding', $limit * 2, $embedding)\\n        YIELD node AS precedent, score AS vector_score\\n        OPTIONAL MATCH (precedent)-[:HAS_KEYWORD]->(k:Keyword)\\n        WHERE k.text IN $keywords\\n        WITH precedent, vector_score, collect(DISTINCT k.text) AS keywords\\n        WITH precedent, vector_score + (size(keywords) * 0.1) AS final_score, keywords\\n        OPTIONAL MATCH (precedent)-[:REFERENCES_ARTICLE]->(ref_a:Article)\\n        WITH precedent, final_score, keywords, collect(DISTINCT ref_a.id) AS referenced_articles\\n        RETURN\\n            precedent.id AS id,\\n            'Precedent' AS type,\\n            precedent.name AS name,\\n            coalesce(precedent.full_summary, precedent.judgment_summary) AS text,\\n            final_score AS score,\\n            keywords,\\n            referenced_articles\\n        ORDER BY final_score DESC\\n        LIMIT $limit\\n        \"\n"
     ]
    },
    {
     "name": "stdout",
     "output_type": "stream",
     "text": [
      "Context retrieval took 1.16 seconds.\n"
     ]
    },
    {
     "name": "stderr",
     "output_type": "stream",
     "text": [
      "Received notification from DBMS server: {severity: WARNING} {code: Neo.ClientNotification.Statement.AggregationSkippedNull} {category: UNRECOGNIZED} {title: The query contains an aggregation function that skips null values.} {description: null value eliminated in set function.} {position: None} for query: \"\\n        CALL db.index.vector.queryNodes('article_embedding', $limit * 2, $embedding)\\n        YIELD node AS article, score AS vector_score\\n        OPTIONAL MATCH (p:Precedent)-[:REFERENCES_ARTICLE]->(article)\\n        WITH article, vector_score, count(p) AS precedent_count\\n        WITH article, vector_score + (precedent_count * 0.05) AS final_score, precedent_count\\n        RETURN\\n            article.id AS id,\\n            'Article' AS type,\\n            article.text AS text,\\n            final_score AS score,\\n            precedent_count\\n        ORDER BY final_score DESC\\n        LIMIT $limit\\n        \"\n",
      "Received notification from DBMS server: {severity: WARNING} {code: Neo.ClientNotification.Statement.UnknownRelationshipTypeWarning} {category: UNRECOGNIZED} {title: The provided relationship type is not in the database.} {description: One of the relationship types in your query is not available in the database, make sure you didn't misspell it or that the label is available when you run this statement in your application (the missing relationship type is: HAS_KEYWORD)} {position: line: 4, column: 38, offset: 180} for query: \"\\n        CALL db.index.vector.queryNodes('precedent_embedding', $limit * 2, $embedding)\\n        YIELD node AS precedent, score AS vector_score\\n        OPTIONAL MATCH (precedent)-[:HAS_KEYWORD]->(k:Keyword)\\n        WHERE k.text IN $keywords\\n        WITH precedent, vector_score, collect(DISTINCT k.text) AS keywords\\n        WITH precedent, vector_score + (size(keywords) * 0.1) AS final_score, keywords\\n        OPTIONAL MATCH (precedent)-[:REFERENCES_ARTICLE]->(ref_a:Article)\\n        WITH precedent, final_score, keywords, collect(DISTINCT ref_a.id) AS referenced_articles\\n        RETURN\\n            precedent.id AS id,\\n            'Precedent' AS type,\\n            precedent.name AS name,\\n            coalesce(precedent.full_summary, precedent.judgment_summary) AS text,\\n            final_score AS score,\\n            keywords,\\n            referenced_articles\\n        ORDER BY final_score DESC\\n        LIMIT $limit\\n        \"\n",
      "Received notification from DBMS server: {severity: WARNING} {code: Neo.ClientNotification.Statement.AggregationSkippedNull} {category: UNRECOGNIZED} {title: The query contains an aggregation function that skips null values.} {description: null value eliminated in set function.} {position: None} for query: \"\\n        CALL db.index.vector.queryNodes('precedent_embedding', $limit * 2, $embedding)\\n        YIELD node AS precedent, score AS vector_score\\n        OPTIONAL MATCH (precedent)-[:HAS_KEYWORD]->(k:Keyword)\\n        WHERE k.text IN $keywords\\n        WITH precedent, vector_score, collect(DISTINCT k.text) AS keywords\\n        WITH precedent, vector_score + (size(keywords) * 0.1) AS final_score, keywords\\n        OPTIONAL MATCH (precedent)-[:REFERENCES_ARTICLE]->(ref_a:Article)\\n        WITH precedent, final_score, keywords, collect(DISTINCT ref_a.id) AS referenced_articles\\n        RETURN\\n            precedent.id AS id,\\n            'Precedent' AS type,\\n            precedent.name AS name,\\n            coalesce(precedent.full_summary, precedent.judgment_summary) AS text,\\n            final_score AS score,\\n            keywords,\\n            referenced_articles\\n        ORDER BY final_score DESC\\n        LIMIT $limit\\n        \"\n"
     ]
    },
    {
     "name": "stdout",
     "output_type": "stream",
     "text": [
      "Context retrieval took 0.74 seconds.\n"
     ]
    },
    {
     "name": "stderr",
     "output_type": "stream",
     "text": [
      "Received notification from DBMS server: {severity: WARNING} {code: Neo.ClientNotification.Statement.AggregationSkippedNull} {category: UNRECOGNIZED} {title: The query contains an aggregation function that skips null values.} {description: null value eliminated in set function.} {position: None} for query: \"\\n        CALL db.index.vector.queryNodes('article_embedding', $limit * 2, $embedding)\\n        YIELD node AS article, score AS vector_score\\n        OPTIONAL MATCH (p:Precedent)-[:REFERENCES_ARTICLE]->(article)\\n        WITH article, vector_score, count(p) AS precedent_count\\n        WITH article, vector_score + (precedent_count * 0.05) AS final_score, precedent_count\\n        RETURN\\n            article.id AS id,\\n            'Article' AS type,\\n            article.text AS text,\\n            final_score AS score,\\n            precedent_count\\n        ORDER BY final_score DESC\\n        LIMIT $limit\\n        \"\n",
      "Received notification from DBMS server: {severity: WARNING} {code: Neo.ClientNotification.Statement.UnknownRelationshipTypeWarning} {category: UNRECOGNIZED} {title: The provided relationship type is not in the database.} {description: One of the relationship types in your query is not available in the database, make sure you didn't misspell it or that the label is available when you run this statement in your application (the missing relationship type is: HAS_KEYWORD)} {position: line: 4, column: 38, offset: 180} for query: \"\\n        CALL db.index.vector.queryNodes('precedent_embedding', $limit * 2, $embedding)\\n        YIELD node AS precedent, score AS vector_score\\n        OPTIONAL MATCH (precedent)-[:HAS_KEYWORD]->(k:Keyword)\\n        WHERE k.text IN $keywords\\n        WITH precedent, vector_score, collect(DISTINCT k.text) AS keywords\\n        WITH precedent, vector_score + (size(keywords) * 0.1) AS final_score, keywords\\n        OPTIONAL MATCH (precedent)-[:REFERENCES_ARTICLE]->(ref_a:Article)\\n        WITH precedent, final_score, keywords, collect(DISTINCT ref_a.id) AS referenced_articles\\n        RETURN\\n            precedent.id AS id,\\n            'Precedent' AS type,\\n            precedent.name AS name,\\n            coalesce(precedent.full_summary, precedent.judgment_summary) AS text,\\n            final_score AS score,\\n            keywords,\\n            referenced_articles\\n        ORDER BY final_score DESC\\n        LIMIT $limit\\n        \"\n",
      "Received notification from DBMS server: {severity: WARNING} {code: Neo.ClientNotification.Statement.AggregationSkippedNull} {category: UNRECOGNIZED} {title: The query contains an aggregation function that skips null values.} {description: null value eliminated in set function.} {position: None} for query: \"\\n        CALL db.index.vector.queryNodes('precedent_embedding', $limit * 2, $embedding)\\n        YIELD node AS precedent, score AS vector_score\\n        OPTIONAL MATCH (precedent)-[:HAS_KEYWORD]->(k:Keyword)\\n        WHERE k.text IN $keywords\\n        WITH precedent, vector_score, collect(DISTINCT k.text) AS keywords\\n        WITH precedent, vector_score + (size(keywords) * 0.1) AS final_score, keywords\\n        OPTIONAL MATCH (precedent)-[:REFERENCES_ARTICLE]->(ref_a:Article)\\n        WITH precedent, final_score, keywords, collect(DISTINCT ref_a.id) AS referenced_articles\\n        RETURN\\n            precedent.id AS id,\\n            'Precedent' AS type,\\n            precedent.name AS name,\\n            coalesce(precedent.full_summary, precedent.judgment_summary) AS text,\\n            final_score AS score,\\n            keywords,\\n            referenced_articles\\n        ORDER BY final_score DESC\\n        LIMIT $limit\\n        \"\n"
     ]
    },
    {
     "name": "stdout",
     "output_type": "stream",
     "text": [
      "Context retrieval took 1.19 seconds.\n"
     ]
    },
    {
     "name": "stderr",
     "output_type": "stream",
     "text": [
      "Received notification from DBMS server: {severity: WARNING} {code: Neo.ClientNotification.Statement.AggregationSkippedNull} {category: UNRECOGNIZED} {title: The query contains an aggregation function that skips null values.} {description: null value eliminated in set function.} {position: None} for query: \"\\n        CALL db.index.vector.queryNodes('article_embedding', $limit * 2, $embedding)\\n        YIELD node AS article, score AS vector_score\\n        OPTIONAL MATCH (p:Precedent)-[:REFERENCES_ARTICLE]->(article)\\n        WITH article, vector_score, count(p) AS precedent_count\\n        WITH article, vector_score + (precedent_count * 0.05) AS final_score, precedent_count\\n        RETURN\\n            article.id AS id,\\n            'Article' AS type,\\n            article.text AS text,\\n            final_score AS score,\\n            precedent_count\\n        ORDER BY final_score DESC\\n        LIMIT $limit\\n        \"\n",
      "Received notification from DBMS server: {severity: WARNING} {code: Neo.ClientNotification.Statement.UnknownRelationshipTypeWarning} {category: UNRECOGNIZED} {title: The provided relationship type is not in the database.} {description: One of the relationship types in your query is not available in the database, make sure you didn't misspell it or that the label is available when you run this statement in your application (the missing relationship type is: HAS_KEYWORD)} {position: line: 4, column: 38, offset: 180} for query: \"\\n        CALL db.index.vector.queryNodes('precedent_embedding', $limit * 2, $embedding)\\n        YIELD node AS precedent, score AS vector_score\\n        OPTIONAL MATCH (precedent)-[:HAS_KEYWORD]->(k:Keyword)\\n        WHERE k.text IN $keywords\\n        WITH precedent, vector_score, collect(DISTINCT k.text) AS keywords\\n        WITH precedent, vector_score + (size(keywords) * 0.1) AS final_score, keywords\\n        OPTIONAL MATCH (precedent)-[:REFERENCES_ARTICLE]->(ref_a:Article)\\n        WITH precedent, final_score, keywords, collect(DISTINCT ref_a.id) AS referenced_articles\\n        RETURN\\n            precedent.id AS id,\\n            'Precedent' AS type,\\n            precedent.name AS name,\\n            coalesce(precedent.full_summary, precedent.judgment_summary) AS text,\\n            final_score AS score,\\n            keywords,\\n            referenced_articles\\n        ORDER BY final_score DESC\\n        LIMIT $limit\\n        \"\n",
      "Received notification from DBMS server: {severity: WARNING} {code: Neo.ClientNotification.Statement.AggregationSkippedNull} {category: UNRECOGNIZED} {title: The query contains an aggregation function that skips null values.} {description: null value eliminated in set function.} {position: None} for query: \"\\n        CALL db.index.vector.queryNodes('precedent_embedding', $limit * 2, $embedding)\\n        YIELD node AS precedent, score AS vector_score\\n        OPTIONAL MATCH (precedent)-[:HAS_KEYWORD]->(k:Keyword)\\n        WHERE k.text IN $keywords\\n        WITH precedent, vector_score, collect(DISTINCT k.text) AS keywords\\n        WITH precedent, vector_score + (size(keywords) * 0.1) AS final_score, keywords\\n        OPTIONAL MATCH (precedent)-[:REFERENCES_ARTICLE]->(ref_a:Article)\\n        WITH precedent, final_score, keywords, collect(DISTINCT ref_a.id) AS referenced_articles\\n        RETURN\\n            precedent.id AS id,\\n            'Precedent' AS type,\\n            precedent.name AS name,\\n            coalesce(precedent.full_summary, precedent.judgment_summary) AS text,\\n            final_score AS score,\\n            keywords,\\n            referenced_articles\\n        ORDER BY final_score DESC\\n        LIMIT $limit\\n        \"\n"
     ]
    },
    {
     "name": "stdout",
     "output_type": "stream",
     "text": [
      "Context retrieval took 0.55 seconds.\n"
     ]
    },
    {
     "name": "stderr",
     "output_type": "stream",
     "text": [
      "Received notification from DBMS server: {severity: WARNING} {code: Neo.ClientNotification.Statement.UnknownRelationshipTypeWarning} {category: UNRECOGNIZED} {title: The provided relationship type is not in the database.} {description: One of the relationship types in your query is not available in the database, make sure you didn't misspell it or that the label is available when you run this statement in your application (the missing relationship type is: HAS_KEYWORD)} {position: line: 4, column: 38, offset: 180} for query: \"\\n        CALL db.index.vector.queryNodes('precedent_embedding', $limit * 2, $embedding)\\n        YIELD node AS precedent, score AS vector_score\\n        OPTIONAL MATCH (precedent)-[:HAS_KEYWORD]->(k:Keyword)\\n        WHERE k.text IN $keywords\\n        WITH precedent, vector_score, collect(DISTINCT k.text) AS keywords\\n        WITH precedent, vector_score + (size(keywords) * 0.1) AS final_score, keywords\\n        OPTIONAL MATCH (precedent)-[:REFERENCES_ARTICLE]->(ref_a:Article)\\n        WITH precedent, final_score, keywords, collect(DISTINCT ref_a.id) AS referenced_articles\\n        RETURN\\n            precedent.id AS id,\\n            'Precedent' AS type,\\n            precedent.name AS name,\\n            coalesce(precedent.full_summary, precedent.judgment_summary) AS text,\\n            final_score AS score,\\n            keywords,\\n            referenced_articles\\n        ORDER BY final_score DESC\\n        LIMIT $limit\\n        \"\n",
      "Received notification from DBMS server: {severity: WARNING} {code: Neo.ClientNotification.Statement.AggregationSkippedNull} {category: UNRECOGNIZED} {title: The query contains an aggregation function that skips null values.} {description: null value eliminated in set function.} {position: None} for query: \"\\n        CALL db.index.vector.queryNodes('precedent_embedding', $limit * 2, $embedding)\\n        YIELD node AS precedent, score AS vector_score\\n        OPTIONAL MATCH (precedent)-[:HAS_KEYWORD]->(k:Keyword)\\n        WHERE k.text IN $keywords\\n        WITH precedent, vector_score, collect(DISTINCT k.text) AS keywords\\n        WITH precedent, vector_score + (size(keywords) * 0.1) AS final_score, keywords\\n        OPTIONAL MATCH (precedent)-[:REFERENCES_ARTICLE]->(ref_a:Article)\\n        WITH precedent, final_score, keywords, collect(DISTINCT ref_a.id) AS referenced_articles\\n        RETURN\\n            precedent.id AS id,\\n            'Precedent' AS type,\\n            precedent.name AS name,\\n            coalesce(precedent.full_summary, precedent.judgment_summary) AS text,\\n            final_score AS score,\\n            keywords,\\n            referenced_articles\\n        ORDER BY final_score DESC\\n        LIMIT $limit\\n        \"\n"
     ]
    },
    {
     "name": "stdout",
     "output_type": "stream",
     "text": [
      "Context retrieval took 0.56 seconds.\n"
     ]
    },
    {
     "name": "stderr",
     "output_type": "stream",
     "text": [
      "Received notification from DBMS server: {severity: WARNING} {code: Neo.ClientNotification.Statement.UnknownRelationshipTypeWarning} {category: UNRECOGNIZED} {title: The provided relationship type is not in the database.} {description: One of the relationship types in your query is not available in the database, make sure you didn't misspell it or that the label is available when you run this statement in your application (the missing relationship type is: HAS_KEYWORD)} {position: line: 4, column: 38, offset: 180} for query: \"\\n        CALL db.index.vector.queryNodes('precedent_embedding', $limit * 2, $embedding)\\n        YIELD node AS precedent, score AS vector_score\\n        OPTIONAL MATCH (precedent)-[:HAS_KEYWORD]->(k:Keyword)\\n        WHERE k.text IN $keywords\\n        WITH precedent, vector_score, collect(DISTINCT k.text) AS keywords\\n        WITH precedent, vector_score + (size(keywords) * 0.1) AS final_score, keywords\\n        OPTIONAL MATCH (precedent)-[:REFERENCES_ARTICLE]->(ref_a:Article)\\n        WITH precedent, final_score, keywords, collect(DISTINCT ref_a.id) AS referenced_articles\\n        RETURN\\n            precedent.id AS id,\\n            'Precedent' AS type,\\n            precedent.name AS name,\\n            coalesce(precedent.full_summary, precedent.judgment_summary) AS text,\\n            final_score AS score,\\n            keywords,\\n            referenced_articles\\n        ORDER BY final_score DESC\\n        LIMIT $limit\\n        \"\n",
      "Received notification from DBMS server: {severity: WARNING} {code: Neo.ClientNotification.Statement.AggregationSkippedNull} {category: UNRECOGNIZED} {title: The query contains an aggregation function that skips null values.} {description: null value eliminated in set function.} {position: None} for query: \"\\n        CALL db.index.vector.queryNodes('precedent_embedding', $limit * 2, $embedding)\\n        YIELD node AS precedent, score AS vector_score\\n        OPTIONAL MATCH (precedent)-[:HAS_KEYWORD]->(k:Keyword)\\n        WHERE k.text IN $keywords\\n        WITH precedent, vector_score, collect(DISTINCT k.text) AS keywords\\n        WITH precedent, vector_score + (size(keywords) * 0.1) AS final_score, keywords\\n        OPTIONAL MATCH (precedent)-[:REFERENCES_ARTICLE]->(ref_a:Article)\\n        WITH precedent, final_score, keywords, collect(DISTINCT ref_a.id) AS referenced_articles\\n        RETURN\\n            precedent.id AS id,\\n            'Precedent' AS type,\\n            precedent.name AS name,\\n            coalesce(precedent.full_summary, precedent.judgment_summary) AS text,\\n            final_score AS score,\\n            keywords,\\n            referenced_articles\\n        ORDER BY final_score DESC\\n        LIMIT $limit\\n        \"\n"
     ]
    },
    {
     "name": "stdout",
     "output_type": "stream",
     "text": [
      "Context retrieval took 1.07 seconds.\n"
     ]
    },
    {
     "name": "stderr",
     "output_type": "stream",
     "text": [
      "Received notification from DBMS server: {severity: WARNING} {code: Neo.ClientNotification.Statement.AggregationSkippedNull} {category: UNRECOGNIZED} {title: The query contains an aggregation function that skips null values.} {description: null value eliminated in set function.} {position: None} for query: \"\\n        CALL db.index.vector.queryNodes('article_embedding', $limit * 2, $embedding)\\n        YIELD node AS article, score AS vector_score\\n        OPTIONAL MATCH (p:Precedent)-[:REFERENCES_ARTICLE]->(article)\\n        WITH article, vector_score, count(p) AS precedent_count\\n        WITH article, vector_score + (precedent_count * 0.05) AS final_score, precedent_count\\n        RETURN\\n            article.id AS id,\\n            'Article' AS type,\\n            article.text AS text,\\n            final_score AS score,\\n            precedent_count\\n        ORDER BY final_score DESC\\n        LIMIT $limit\\n        \"\n",
      "Received notification from DBMS server: {severity: WARNING} {code: Neo.ClientNotification.Statement.UnknownRelationshipTypeWarning} {category: UNRECOGNIZED} {title: The provided relationship type is not in the database.} {description: One of the relationship types in your query is not available in the database, make sure you didn't misspell it or that the label is available when you run this statement in your application (the missing relationship type is: HAS_KEYWORD)} {position: line: 4, column: 38, offset: 180} for query: \"\\n        CALL db.index.vector.queryNodes('precedent_embedding', $limit * 2, $embedding)\\n        YIELD node AS precedent, score AS vector_score\\n        OPTIONAL MATCH (precedent)-[:HAS_KEYWORD]->(k:Keyword)\\n        WHERE k.text IN $keywords\\n        WITH precedent, vector_score, collect(DISTINCT k.text) AS keywords\\n        WITH precedent, vector_score + (size(keywords) * 0.1) AS final_score, keywords\\n        OPTIONAL MATCH (precedent)-[:REFERENCES_ARTICLE]->(ref_a:Article)\\n        WITH precedent, final_score, keywords, collect(DISTINCT ref_a.id) AS referenced_articles\\n        RETURN\\n            precedent.id AS id,\\n            'Precedent' AS type,\\n            precedent.name AS name,\\n            coalesce(precedent.full_summary, precedent.judgment_summary) AS text,\\n            final_score AS score,\\n            keywords,\\n            referenced_articles\\n        ORDER BY final_score DESC\\n        LIMIT $limit\\n        \"\n",
      "Received notification from DBMS server: {severity: WARNING} {code: Neo.ClientNotification.Statement.AggregationSkippedNull} {category: UNRECOGNIZED} {title: The query contains an aggregation function that skips null values.} {description: null value eliminated in set function.} {position: None} for query: \"\\n        CALL db.index.vector.queryNodes('precedent_embedding', $limit * 2, $embedding)\\n        YIELD node AS precedent, score AS vector_score\\n        OPTIONAL MATCH (precedent)-[:HAS_KEYWORD]->(k:Keyword)\\n        WHERE k.text IN $keywords\\n        WITH precedent, vector_score, collect(DISTINCT k.text) AS keywords\\n        WITH precedent, vector_score + (size(keywords) * 0.1) AS final_score, keywords\\n        OPTIONAL MATCH (precedent)-[:REFERENCES_ARTICLE]->(ref_a:Article)\\n        WITH precedent, final_score, keywords, collect(DISTINCT ref_a.id) AS referenced_articles\\n        RETURN\\n            precedent.id AS id,\\n            'Precedent' AS type,\\n            precedent.name AS name,\\n            coalesce(precedent.full_summary, precedent.judgment_summary) AS text,\\n            final_score AS score,\\n            keywords,\\n            referenced_articles\\n        ORDER BY final_score DESC\\n        LIMIT $limit\\n        \"\n"
     ]
    },
    {
     "name": "stdout",
     "output_type": "stream",
     "text": [
      "Context retrieval took 0.71 seconds.\n"
     ]
    },
    {
     "name": "stderr",
     "output_type": "stream",
     "text": [
      "Received notification from DBMS server: {severity: WARNING} {code: Neo.ClientNotification.Statement.AggregationSkippedNull} {category: UNRECOGNIZED} {title: The query contains an aggregation function that skips null values.} {description: null value eliminated in set function.} {position: None} for query: \"\\n        CALL db.index.vector.queryNodes('article_embedding', $limit * 2, $embedding)\\n        YIELD node AS article, score AS vector_score\\n        OPTIONAL MATCH (p:Precedent)-[:REFERENCES_ARTICLE]->(article)\\n        WITH article, vector_score, count(p) AS precedent_count\\n        WITH article, vector_score + (precedent_count * 0.05) AS final_score, precedent_count\\n        RETURN\\n            article.id AS id,\\n            'Article' AS type,\\n            article.text AS text,\\n            final_score AS score,\\n            precedent_count\\n        ORDER BY final_score DESC\\n        LIMIT $limit\\n        \"\n",
      "Received notification from DBMS server: {severity: WARNING} {code: Neo.ClientNotification.Statement.UnknownRelationshipTypeWarning} {category: UNRECOGNIZED} {title: The provided relationship type is not in the database.} {description: One of the relationship types in your query is not available in the database, make sure you didn't misspell it or that the label is available when you run this statement in your application (the missing relationship type is: HAS_KEYWORD)} {position: line: 4, column: 38, offset: 180} for query: \"\\n        CALL db.index.vector.queryNodes('precedent_embedding', $limit * 2, $embedding)\\n        YIELD node AS precedent, score AS vector_score\\n        OPTIONAL MATCH (precedent)-[:HAS_KEYWORD]->(k:Keyword)\\n        WHERE k.text IN $keywords\\n        WITH precedent, vector_score, collect(DISTINCT k.text) AS keywords\\n        WITH precedent, vector_score + (size(keywords) * 0.1) AS final_score, keywords\\n        OPTIONAL MATCH (precedent)-[:REFERENCES_ARTICLE]->(ref_a:Article)\\n        WITH precedent, final_score, keywords, collect(DISTINCT ref_a.id) AS referenced_articles\\n        RETURN\\n            precedent.id AS id,\\n            'Precedent' AS type,\\n            precedent.name AS name,\\n            coalesce(precedent.full_summary, precedent.judgment_summary) AS text,\\n            final_score AS score,\\n            keywords,\\n            referenced_articles\\n        ORDER BY final_score DESC\\n        LIMIT $limit\\n        \"\n",
      "Received notification from DBMS server: {severity: WARNING} {code: Neo.ClientNotification.Statement.AggregationSkippedNull} {category: UNRECOGNIZED} {title: The query contains an aggregation function that skips null values.} {description: null value eliminated in set function.} {position: None} for query: \"\\n        CALL db.index.vector.queryNodes('precedent_embedding', $limit * 2, $embedding)\\n        YIELD node AS precedent, score AS vector_score\\n        OPTIONAL MATCH (precedent)-[:HAS_KEYWORD]->(k:Keyword)\\n        WHERE k.text IN $keywords\\n        WITH precedent, vector_score, collect(DISTINCT k.text) AS keywords\\n        WITH precedent, vector_score + (size(keywords) * 0.1) AS final_score, keywords\\n        OPTIONAL MATCH (precedent)-[:REFERENCES_ARTICLE]->(ref_a:Article)\\n        WITH precedent, final_score, keywords, collect(DISTINCT ref_a.id) AS referenced_articles\\n        RETURN\\n            precedent.id AS id,\\n            'Precedent' AS type,\\n            precedent.name AS name,\\n            coalesce(precedent.full_summary, precedent.judgment_summary) AS text,\\n            final_score AS score,\\n            keywords,\\n            referenced_articles\\n        ORDER BY final_score DESC\\n        LIMIT $limit\\n        \"\n"
     ]
    },
    {
     "name": "stdout",
     "output_type": "stream",
     "text": [
      "Context retrieval took 0.61 seconds.\n"
     ]
    },
    {
     "name": "stderr",
     "output_type": "stream",
     "text": [
      "Received notification from DBMS server: {severity: WARNING} {code: Neo.ClientNotification.Statement.UnknownRelationshipTypeWarning} {category: UNRECOGNIZED} {title: The provided relationship type is not in the database.} {description: One of the relationship types in your query is not available in the database, make sure you didn't misspell it or that the label is available when you run this statement in your application (the missing relationship type is: HAS_KEYWORD)} {position: line: 4, column: 38, offset: 180} for query: \"\\n        CALL db.index.vector.queryNodes('precedent_embedding', $limit * 2, $embedding)\\n        YIELD node AS precedent, score AS vector_score\\n        OPTIONAL MATCH (precedent)-[:HAS_KEYWORD]->(k:Keyword)\\n        WHERE k.text IN $keywords\\n        WITH precedent, vector_score, collect(DISTINCT k.text) AS keywords\\n        WITH precedent, vector_score + (size(keywords) * 0.1) AS final_score, keywords\\n        OPTIONAL MATCH (precedent)-[:REFERENCES_ARTICLE]->(ref_a:Article)\\n        WITH precedent, final_score, keywords, collect(DISTINCT ref_a.id) AS referenced_articles\\n        RETURN\\n            precedent.id AS id,\\n            'Precedent' AS type,\\n            precedent.name AS name,\\n            coalesce(precedent.full_summary, precedent.judgment_summary) AS text,\\n            final_score AS score,\\n            keywords,\\n            referenced_articles\\n        ORDER BY final_score DESC\\n        LIMIT $limit\\n        \"\n",
      "Received notification from DBMS server: {severity: WARNING} {code: Neo.ClientNotification.Statement.AggregationSkippedNull} {category: UNRECOGNIZED} {title: The query contains an aggregation function that skips null values.} {description: null value eliminated in set function.} {position: None} for query: \"\\n        CALL db.index.vector.queryNodes('precedent_embedding', $limit * 2, $embedding)\\n        YIELD node AS precedent, score AS vector_score\\n        OPTIONAL MATCH (precedent)-[:HAS_KEYWORD]->(k:Keyword)\\n        WHERE k.text IN $keywords\\n        WITH precedent, vector_score, collect(DISTINCT k.text) AS keywords\\n        WITH precedent, vector_score + (size(keywords) * 0.1) AS final_score, keywords\\n        OPTIONAL MATCH (precedent)-[:REFERENCES_ARTICLE]->(ref_a:Article)\\n        WITH precedent, final_score, keywords, collect(DISTINCT ref_a.id) AS referenced_articles\\n        RETURN\\n            precedent.id AS id,\\n            'Precedent' AS type,\\n            precedent.name AS name,\\n            coalesce(precedent.full_summary, precedent.judgment_summary) AS text,\\n            final_score AS score,\\n            keywords,\\n            referenced_articles\\n        ORDER BY final_score DESC\\n        LIMIT $limit\\n        \"\n"
     ]
    },
    {
     "name": "stdout",
     "output_type": "stream",
     "text": [
      "Context retrieval took 1.08 seconds.\n"
     ]
    },
    {
     "name": "stderr",
     "output_type": "stream",
     "text": [
      "Received notification from DBMS server: {severity: WARNING} {code: Neo.ClientNotification.Statement.UnknownRelationshipTypeWarning} {category: UNRECOGNIZED} {title: The provided relationship type is not in the database.} {description: One of the relationship types in your query is not available in the database, make sure you didn't misspell it or that the label is available when you run this statement in your application (the missing relationship type is: HAS_KEYWORD)} {position: line: 4, column: 38, offset: 180} for query: \"\\n        CALL db.index.vector.queryNodes('precedent_embedding', $limit * 2, $embedding)\\n        YIELD node AS precedent, score AS vector_score\\n        OPTIONAL MATCH (precedent)-[:HAS_KEYWORD]->(k:Keyword)\\n        WHERE k.text IN $keywords\\n        WITH precedent, vector_score, collect(DISTINCT k.text) AS keywords\\n        WITH precedent, vector_score + (size(keywords) * 0.1) AS final_score, keywords\\n        OPTIONAL MATCH (precedent)-[:REFERENCES_ARTICLE]->(ref_a:Article)\\n        WITH precedent, final_score, keywords, collect(DISTINCT ref_a.id) AS referenced_articles\\n        RETURN\\n            precedent.id AS id,\\n            'Precedent' AS type,\\n            precedent.name AS name,\\n            coalesce(precedent.full_summary, precedent.judgment_summary) AS text,\\n            final_score AS score,\\n            keywords,\\n            referenced_articles\\n        ORDER BY final_score DESC\\n        LIMIT $limit\\n        \"\n",
      "Received notification from DBMS server: {severity: WARNING} {code: Neo.ClientNotification.Statement.AggregationSkippedNull} {category: UNRECOGNIZED} {title: The query contains an aggregation function that skips null values.} {description: null value eliminated in set function.} {position: None} for query: \"\\n        CALL db.index.vector.queryNodes('precedent_embedding', $limit * 2, $embedding)\\n        YIELD node AS precedent, score AS vector_score\\n        OPTIONAL MATCH (precedent)-[:HAS_KEYWORD]->(k:Keyword)\\n        WHERE k.text IN $keywords\\n        WITH precedent, vector_score, collect(DISTINCT k.text) AS keywords\\n        WITH precedent, vector_score + (size(keywords) * 0.1) AS final_score, keywords\\n        OPTIONAL MATCH (precedent)-[:REFERENCES_ARTICLE]->(ref_a:Article)\\n        WITH precedent, final_score, keywords, collect(DISTINCT ref_a.id) AS referenced_articles\\n        RETURN\\n            precedent.id AS id,\\n            'Precedent' AS type,\\n            precedent.name AS name,\\n            coalesce(precedent.full_summary, precedent.judgment_summary) AS text,\\n            final_score AS score,\\n            keywords,\\n            referenced_articles\\n        ORDER BY final_score DESC\\n        LIMIT $limit\\n        \"\n"
     ]
    },
    {
     "name": "stdout",
     "output_type": "stream",
     "text": [
      "Context retrieval took 3.34 seconds.\n"
     ]
    },
    {
     "name": "stderr",
     "output_type": "stream",
     "text": [
      "Received notification from DBMS server: {severity: WARNING} {code: Neo.ClientNotification.Statement.AggregationSkippedNull} {category: UNRECOGNIZED} {title: The query contains an aggregation function that skips null values.} {description: null value eliminated in set function.} {position: None} for query: \"\\n        CALL db.index.vector.queryNodes('article_embedding', $limit * 2, $embedding)\\n        YIELD node AS article, score AS vector_score\\n        OPTIONAL MATCH (p:Precedent)-[:REFERENCES_ARTICLE]->(article)\\n        WITH article, vector_score, count(p) AS precedent_count\\n        WITH article, vector_score + (precedent_count * 0.05) AS final_score, precedent_count\\n        RETURN\\n            article.id AS id,\\n            'Article' AS type,\\n            article.text AS text,\\n            final_score AS score,\\n            precedent_count\\n        ORDER BY final_score DESC\\n        LIMIT $limit\\n        \"\n",
      "Received notification from DBMS server: {severity: WARNING} {code: Neo.ClientNotification.Statement.UnknownRelationshipTypeWarning} {category: UNRECOGNIZED} {title: The provided relationship type is not in the database.} {description: One of the relationship types in your query is not available in the database, make sure you didn't misspell it or that the label is available when you run this statement in your application (the missing relationship type is: HAS_KEYWORD)} {position: line: 4, column: 38, offset: 180} for query: \"\\n        CALL db.index.vector.queryNodes('precedent_embedding', $limit * 2, $embedding)\\n        YIELD node AS precedent, score AS vector_score\\n        OPTIONAL MATCH (precedent)-[:HAS_KEYWORD]->(k:Keyword)\\n        WHERE k.text IN $keywords\\n        WITH precedent, vector_score, collect(DISTINCT k.text) AS keywords\\n        WITH precedent, vector_score + (size(keywords) * 0.1) AS final_score, keywords\\n        OPTIONAL MATCH (precedent)-[:REFERENCES_ARTICLE]->(ref_a:Article)\\n        WITH precedent, final_score, keywords, collect(DISTINCT ref_a.id) AS referenced_articles\\n        RETURN\\n            precedent.id AS id,\\n            'Precedent' AS type,\\n            precedent.name AS name,\\n            coalesce(precedent.full_summary, precedent.judgment_summary) AS text,\\n            final_score AS score,\\n            keywords,\\n            referenced_articles\\n        ORDER BY final_score DESC\\n        LIMIT $limit\\n        \"\n",
      "Received notification from DBMS server: {severity: WARNING} {code: Neo.ClientNotification.Statement.AggregationSkippedNull} {category: UNRECOGNIZED} {title: The query contains an aggregation function that skips null values.} {description: null value eliminated in set function.} {position: None} for query: \"\\n        CALL db.index.vector.queryNodes('precedent_embedding', $limit * 2, $embedding)\\n        YIELD node AS precedent, score AS vector_score\\n        OPTIONAL MATCH (precedent)-[:HAS_KEYWORD]->(k:Keyword)\\n        WHERE k.text IN $keywords\\n        WITH precedent, vector_score, collect(DISTINCT k.text) AS keywords\\n        WITH precedent, vector_score + (size(keywords) * 0.1) AS final_score, keywords\\n        OPTIONAL MATCH (precedent)-[:REFERENCES_ARTICLE]->(ref_a:Article)\\n        WITH precedent, final_score, keywords, collect(DISTINCT ref_a.id) AS referenced_articles\\n        RETURN\\n            precedent.id AS id,\\n            'Precedent' AS type,\\n            precedent.name AS name,\\n            coalesce(precedent.full_summary, precedent.judgment_summary) AS text,\\n            final_score AS score,\\n            keywords,\\n            referenced_articles\\n        ORDER BY final_score DESC\\n        LIMIT $limit\\n        \"\n"
     ]
    },
    {
     "name": "stdout",
     "output_type": "stream",
     "text": [
      "Context retrieval took 0.63 seconds.\n"
     ]
    },
    {
     "name": "stderr",
     "output_type": "stream",
     "text": [
      "Received notification from DBMS server: {severity: WARNING} {code: Neo.ClientNotification.Statement.UnknownRelationshipTypeWarning} {category: UNRECOGNIZED} {title: The provided relationship type is not in the database.} {description: One of the relationship types in your query is not available in the database, make sure you didn't misspell it or that the label is available when you run this statement in your application (the missing relationship type is: HAS_KEYWORD)} {position: line: 4, column: 38, offset: 180} for query: \"\\n        CALL db.index.vector.queryNodes('precedent_embedding', $limit * 2, $embedding)\\n        YIELD node AS precedent, score AS vector_score\\n        OPTIONAL MATCH (precedent)-[:HAS_KEYWORD]->(k:Keyword)\\n        WHERE k.text IN $keywords\\n        WITH precedent, vector_score, collect(DISTINCT k.text) AS keywords\\n        WITH precedent, vector_score + (size(keywords) * 0.1) AS final_score, keywords\\n        OPTIONAL MATCH (precedent)-[:REFERENCES_ARTICLE]->(ref_a:Article)\\n        WITH precedent, final_score, keywords, collect(DISTINCT ref_a.id) AS referenced_articles\\n        RETURN\\n            precedent.id AS id,\\n            'Precedent' AS type,\\n            precedent.name AS name,\\n            coalesce(precedent.full_summary, precedent.judgment_summary) AS text,\\n            final_score AS score,\\n            keywords,\\n            referenced_articles\\n        ORDER BY final_score DESC\\n        LIMIT $limit\\n        \"\n",
      "Received notification from DBMS server: {severity: WARNING} {code: Neo.ClientNotification.Statement.AggregationSkippedNull} {category: UNRECOGNIZED} {title: The query contains an aggregation function that skips null values.} {description: null value eliminated in set function.} {position: None} for query: \"\\n        CALL db.index.vector.queryNodes('precedent_embedding', $limit * 2, $embedding)\\n        YIELD node AS precedent, score AS vector_score\\n        OPTIONAL MATCH (precedent)-[:HAS_KEYWORD]->(k:Keyword)\\n        WHERE k.text IN $keywords\\n        WITH precedent, vector_score, collect(DISTINCT k.text) AS keywords\\n        WITH precedent, vector_score + (size(keywords) * 0.1) AS final_score, keywords\\n        OPTIONAL MATCH (precedent)-[:REFERENCES_ARTICLE]->(ref_a:Article)\\n        WITH precedent, final_score, keywords, collect(DISTINCT ref_a.id) AS referenced_articles\\n        RETURN\\n            precedent.id AS id,\\n            'Precedent' AS type,\\n            precedent.name AS name,\\n            coalesce(precedent.full_summary, precedent.judgment_summary) AS text,\\n            final_score AS score,\\n            keywords,\\n            referenced_articles\\n        ORDER BY final_score DESC\\n        LIMIT $limit\\n        \"\n"
     ]
    },
    {
     "name": "stdout",
     "output_type": "stream",
     "text": [
      "Context retrieval took 0.52 seconds.\n"
     ]
    },
    {
     "name": "stderr",
     "output_type": "stream",
     "text": [
      "Received notification from DBMS server: {severity: WARNING} {code: Neo.ClientNotification.Statement.UnknownRelationshipTypeWarning} {category: UNRECOGNIZED} {title: The provided relationship type is not in the database.} {description: One of the relationship types in your query is not available in the database, make sure you didn't misspell it or that the label is available when you run this statement in your application (the missing relationship type is: HAS_KEYWORD)} {position: line: 4, column: 38, offset: 180} for query: \"\\n        CALL db.index.vector.queryNodes('precedent_embedding', $limit * 2, $embedding)\\n        YIELD node AS precedent, score AS vector_score\\n        OPTIONAL MATCH (precedent)-[:HAS_KEYWORD]->(k:Keyword)\\n        WHERE k.text IN $keywords\\n        WITH precedent, vector_score, collect(DISTINCT k.text) AS keywords\\n        WITH precedent, vector_score + (size(keywords) * 0.1) AS final_score, keywords\\n        OPTIONAL MATCH (precedent)-[:REFERENCES_ARTICLE]->(ref_a:Article)\\n        WITH precedent, final_score, keywords, collect(DISTINCT ref_a.id) AS referenced_articles\\n        RETURN\\n            precedent.id AS id,\\n            'Precedent' AS type,\\n            precedent.name AS name,\\n            coalesce(precedent.full_summary, precedent.judgment_summary) AS text,\\n            final_score AS score,\\n            keywords,\\n            referenced_articles\\n        ORDER BY final_score DESC\\n        LIMIT $limit\\n        \"\n",
      "Received notification from DBMS server: {severity: WARNING} {code: Neo.ClientNotification.Statement.AggregationSkippedNull} {category: UNRECOGNIZED} {title: The query contains an aggregation function that skips null values.} {description: null value eliminated in set function.} {position: None} for query: \"\\n        CALL db.index.vector.queryNodes('precedent_embedding', $limit * 2, $embedding)\\n        YIELD node AS precedent, score AS vector_score\\n        OPTIONAL MATCH (precedent)-[:HAS_KEYWORD]->(k:Keyword)\\n        WHERE k.text IN $keywords\\n        WITH precedent, vector_score, collect(DISTINCT k.text) AS keywords\\n        WITH precedent, vector_score + (size(keywords) * 0.1) AS final_score, keywords\\n        OPTIONAL MATCH (precedent)-[:REFERENCES_ARTICLE]->(ref_a:Article)\\n        WITH precedent, final_score, keywords, collect(DISTINCT ref_a.id) AS referenced_articles\\n        RETURN\\n            precedent.id AS id,\\n            'Precedent' AS type,\\n            precedent.name AS name,\\n            coalesce(precedent.full_summary, precedent.judgment_summary) AS text,\\n            final_score AS score,\\n            keywords,\\n            referenced_articles\\n        ORDER BY final_score DESC\\n        LIMIT $limit\\n        \"\n"
     ]
    },
    {
     "name": "stdout",
     "output_type": "stream",
     "text": [
      "Context retrieval took 0.69 seconds.\n"
     ]
    },
    {
     "name": "stderr",
     "output_type": "stream",
     "text": [
      "Received notification from DBMS server: {severity: WARNING} {code: Neo.ClientNotification.Statement.UnknownRelationshipTypeWarning} {category: UNRECOGNIZED} {title: The provided relationship type is not in the database.} {description: One of the relationship types in your query is not available in the database, make sure you didn't misspell it or that the label is available when you run this statement in your application (the missing relationship type is: HAS_KEYWORD)} {position: line: 4, column: 38, offset: 180} for query: \"\\n        CALL db.index.vector.queryNodes('precedent_embedding', $limit * 2, $embedding)\\n        YIELD node AS precedent, score AS vector_score\\n        OPTIONAL MATCH (precedent)-[:HAS_KEYWORD]->(k:Keyword)\\n        WHERE k.text IN $keywords\\n        WITH precedent, vector_score, collect(DISTINCT k.text) AS keywords\\n        WITH precedent, vector_score + (size(keywords) * 0.1) AS final_score, keywords\\n        OPTIONAL MATCH (precedent)-[:REFERENCES_ARTICLE]->(ref_a:Article)\\n        WITH precedent, final_score, keywords, collect(DISTINCT ref_a.id) AS referenced_articles\\n        RETURN\\n            precedent.id AS id,\\n            'Precedent' AS type,\\n            precedent.name AS name,\\n            coalesce(precedent.full_summary, precedent.judgment_summary) AS text,\\n            final_score AS score,\\n            keywords,\\n            referenced_articles\\n        ORDER BY final_score DESC\\n        LIMIT $limit\\n        \"\n",
      "Received notification from DBMS server: {severity: WARNING} {code: Neo.ClientNotification.Statement.AggregationSkippedNull} {category: UNRECOGNIZED} {title: The query contains an aggregation function that skips null values.} {description: null value eliminated in set function.} {position: None} for query: \"\\n        CALL db.index.vector.queryNodes('precedent_embedding', $limit * 2, $embedding)\\n        YIELD node AS precedent, score AS vector_score\\n        OPTIONAL MATCH (precedent)-[:HAS_KEYWORD]->(k:Keyword)\\n        WHERE k.text IN $keywords\\n        WITH precedent, vector_score, collect(DISTINCT k.text) AS keywords\\n        WITH precedent, vector_score + (size(keywords) * 0.1) AS final_score, keywords\\n        OPTIONAL MATCH (precedent)-[:REFERENCES_ARTICLE]->(ref_a:Article)\\n        WITH precedent, final_score, keywords, collect(DISTINCT ref_a.id) AS referenced_articles\\n        RETURN\\n            precedent.id AS id,\\n            'Precedent' AS type,\\n            precedent.name AS name,\\n            coalesce(precedent.full_summary, precedent.judgment_summary) AS text,\\n            final_score AS score,\\n            keywords,\\n            referenced_articles\\n        ORDER BY final_score DESC\\n        LIMIT $limit\\n        \"\n"
     ]
    },
    {
     "name": "stdout",
     "output_type": "stream",
     "text": [
      "Context retrieval took 0.65 seconds.\n"
     ]
    },
    {
     "name": "stderr",
     "output_type": "stream",
     "text": [
      "Received notification from DBMS server: {severity: WARNING} {code: Neo.ClientNotification.Statement.UnknownRelationshipTypeWarning} {category: UNRECOGNIZED} {title: The provided relationship type is not in the database.} {description: One of the relationship types in your query is not available in the database, make sure you didn't misspell it or that the label is available when you run this statement in your application (the missing relationship type is: HAS_KEYWORD)} {position: line: 4, column: 38, offset: 180} for query: \"\\n        CALL db.index.vector.queryNodes('precedent_embedding', $limit * 2, $embedding)\\n        YIELD node AS precedent, score AS vector_score\\n        OPTIONAL MATCH (precedent)-[:HAS_KEYWORD]->(k:Keyword)\\n        WHERE k.text IN $keywords\\n        WITH precedent, vector_score, collect(DISTINCT k.text) AS keywords\\n        WITH precedent, vector_score + (size(keywords) * 0.1) AS final_score, keywords\\n        OPTIONAL MATCH (precedent)-[:REFERENCES_ARTICLE]->(ref_a:Article)\\n        WITH precedent, final_score, keywords, collect(DISTINCT ref_a.id) AS referenced_articles\\n        RETURN\\n            precedent.id AS id,\\n            'Precedent' AS type,\\n            precedent.name AS name,\\n            coalesce(precedent.full_summary, precedent.judgment_summary) AS text,\\n            final_score AS score,\\n            keywords,\\n            referenced_articles\\n        ORDER BY final_score DESC\\n        LIMIT $limit\\n        \"\n",
      "Received notification from DBMS server: {severity: WARNING} {code: Neo.ClientNotification.Statement.AggregationSkippedNull} {category: UNRECOGNIZED} {title: The query contains an aggregation function that skips null values.} {description: null value eliminated in set function.} {position: None} for query: \"\\n        CALL db.index.vector.queryNodes('precedent_embedding', $limit * 2, $embedding)\\n        YIELD node AS precedent, score AS vector_score\\n        OPTIONAL MATCH (precedent)-[:HAS_KEYWORD]->(k:Keyword)\\n        WHERE k.text IN $keywords\\n        WITH precedent, vector_score, collect(DISTINCT k.text) AS keywords\\n        WITH precedent, vector_score + (size(keywords) * 0.1) AS final_score, keywords\\n        OPTIONAL MATCH (precedent)-[:REFERENCES_ARTICLE]->(ref_a:Article)\\n        WITH precedent, final_score, keywords, collect(DISTINCT ref_a.id) AS referenced_articles\\n        RETURN\\n            precedent.id AS id,\\n            'Precedent' AS type,\\n            precedent.name AS name,\\n            coalesce(precedent.full_summary, precedent.judgment_summary) AS text,\\n            final_score AS score,\\n            keywords,\\n            referenced_articles\\n        ORDER BY final_score DESC\\n        LIMIT $limit\\n        \"\n"
     ]
    },
    {
     "name": "stdout",
     "output_type": "stream",
     "text": [
      "Context retrieval took 0.70 seconds.\n"
     ]
    },
    {
     "name": "stderr",
     "output_type": "stream",
     "text": [
      "Received notification from DBMS server: {severity: WARNING} {code: Neo.ClientNotification.Statement.AggregationSkippedNull} {category: UNRECOGNIZED} {title: The query contains an aggregation function that skips null values.} {description: null value eliminated in set function.} {position: None} for query: \"\\n        CALL db.index.vector.queryNodes('article_embedding', $limit * 2, $embedding)\\n        YIELD node AS article, score AS vector_score\\n        OPTIONAL MATCH (p:Precedent)-[:REFERENCES_ARTICLE]->(article)\\n        WITH article, vector_score, count(p) AS precedent_count\\n        WITH article, vector_score + (precedent_count * 0.05) AS final_score, precedent_count\\n        RETURN\\n            article.id AS id,\\n            'Article' AS type,\\n            article.text AS text,\\n            final_score AS score,\\n            precedent_count\\n        ORDER BY final_score DESC\\n        LIMIT $limit\\n        \"\n",
      "Received notification from DBMS server: {severity: WARNING} {code: Neo.ClientNotification.Statement.UnknownRelationshipTypeWarning} {category: UNRECOGNIZED} {title: The provided relationship type is not in the database.} {description: One of the relationship types in your query is not available in the database, make sure you didn't misspell it or that the label is available when you run this statement in your application (the missing relationship type is: HAS_KEYWORD)} {position: line: 4, column: 38, offset: 180} for query: \"\\n        CALL db.index.vector.queryNodes('precedent_embedding', $limit * 2, $embedding)\\n        YIELD node AS precedent, score AS vector_score\\n        OPTIONAL MATCH (precedent)-[:HAS_KEYWORD]->(k:Keyword)\\n        WHERE k.text IN $keywords\\n        WITH precedent, vector_score, collect(DISTINCT k.text) AS keywords\\n        WITH precedent, vector_score + (size(keywords) * 0.1) AS final_score, keywords\\n        OPTIONAL MATCH (precedent)-[:REFERENCES_ARTICLE]->(ref_a:Article)\\n        WITH precedent, final_score, keywords, collect(DISTINCT ref_a.id) AS referenced_articles\\n        RETURN\\n            precedent.id AS id,\\n            'Precedent' AS type,\\n            precedent.name AS name,\\n            coalesce(precedent.full_summary, precedent.judgment_summary) AS text,\\n            final_score AS score,\\n            keywords,\\n            referenced_articles\\n        ORDER BY final_score DESC\\n        LIMIT $limit\\n        \"\n",
      "Received notification from DBMS server: {severity: WARNING} {code: Neo.ClientNotification.Statement.AggregationSkippedNull} {category: UNRECOGNIZED} {title: The query contains an aggregation function that skips null values.} {description: null value eliminated in set function.} {position: None} for query: \"\\n        CALL db.index.vector.queryNodes('precedent_embedding', $limit * 2, $embedding)\\n        YIELD node AS precedent, score AS vector_score\\n        OPTIONAL MATCH (precedent)-[:HAS_KEYWORD]->(k:Keyword)\\n        WHERE k.text IN $keywords\\n        WITH precedent, vector_score, collect(DISTINCT k.text) AS keywords\\n        WITH precedent, vector_score + (size(keywords) * 0.1) AS final_score, keywords\\n        OPTIONAL MATCH (precedent)-[:REFERENCES_ARTICLE]->(ref_a:Article)\\n        WITH precedent, final_score, keywords, collect(DISTINCT ref_a.id) AS referenced_articles\\n        RETURN\\n            precedent.id AS id,\\n            'Precedent' AS type,\\n            precedent.name AS name,\\n            coalesce(precedent.full_summary, precedent.judgment_summary) AS text,\\n            final_score AS score,\\n            keywords,\\n            referenced_articles\\n        ORDER BY final_score DESC\\n        LIMIT $limit\\n        \"\n"
     ]
    },
    {
     "name": "stdout",
     "output_type": "stream",
     "text": [
      "Context retrieval took 0.82 seconds.\n"
     ]
    },
    {
     "name": "stderr",
     "output_type": "stream",
     "text": [
      "Received notification from DBMS server: {severity: WARNING} {code: Neo.ClientNotification.Statement.UnknownRelationshipTypeWarning} {category: UNRECOGNIZED} {title: The provided relationship type is not in the database.} {description: One of the relationship types in your query is not available in the database, make sure you didn't misspell it or that the label is available when you run this statement in your application (the missing relationship type is: HAS_KEYWORD)} {position: line: 4, column: 38, offset: 180} for query: \"\\n        CALL db.index.vector.queryNodes('precedent_embedding', $limit * 2, $embedding)\\n        YIELD node AS precedent, score AS vector_score\\n        OPTIONAL MATCH (precedent)-[:HAS_KEYWORD]->(k:Keyword)\\n        WHERE k.text IN $keywords\\n        WITH precedent, vector_score, collect(DISTINCT k.text) AS keywords\\n        WITH precedent, vector_score + (size(keywords) * 0.1) AS final_score, keywords\\n        OPTIONAL MATCH (precedent)-[:REFERENCES_ARTICLE]->(ref_a:Article)\\n        WITH precedent, final_score, keywords, collect(DISTINCT ref_a.id) AS referenced_articles\\n        RETURN\\n            precedent.id AS id,\\n            'Precedent' AS type,\\n            precedent.name AS name,\\n            coalesce(precedent.full_summary, precedent.judgment_summary) AS text,\\n            final_score AS score,\\n            keywords,\\n            referenced_articles\\n        ORDER BY final_score DESC\\n        LIMIT $limit\\n        \"\n",
      "Received notification from DBMS server: {severity: WARNING} {code: Neo.ClientNotification.Statement.AggregationSkippedNull} {category: UNRECOGNIZED} {title: The query contains an aggregation function that skips null values.} {description: null value eliminated in set function.} {position: None} for query: \"\\n        CALL db.index.vector.queryNodes('precedent_embedding', $limit * 2, $embedding)\\n        YIELD node AS precedent, score AS vector_score\\n        OPTIONAL MATCH (precedent)-[:HAS_KEYWORD]->(k:Keyword)\\n        WHERE k.text IN $keywords\\n        WITH precedent, vector_score, collect(DISTINCT k.text) AS keywords\\n        WITH precedent, vector_score + (size(keywords) * 0.1) AS final_score, keywords\\n        OPTIONAL MATCH (precedent)-[:REFERENCES_ARTICLE]->(ref_a:Article)\\n        WITH precedent, final_score, keywords, collect(DISTINCT ref_a.id) AS referenced_articles\\n        RETURN\\n            precedent.id AS id,\\n            'Precedent' AS type,\\n            precedent.name AS name,\\n            coalesce(precedent.full_summary, precedent.judgment_summary) AS text,\\n            final_score AS score,\\n            keywords,\\n            referenced_articles\\n        ORDER BY final_score DESC\\n        LIMIT $limit\\n        \"\n"
     ]
    },
    {
     "name": "stdout",
     "output_type": "stream",
     "text": [
      "Context retrieval took 0.67 seconds.\n"
     ]
    },
    {
     "name": "stderr",
     "output_type": "stream",
     "text": [
      "Received notification from DBMS server: {severity: WARNING} {code: Neo.ClientNotification.Statement.UnknownRelationshipTypeWarning} {category: UNRECOGNIZED} {title: The provided relationship type is not in the database.} {description: One of the relationship types in your query is not available in the database, make sure you didn't misspell it or that the label is available when you run this statement in your application (the missing relationship type is: HAS_KEYWORD)} {position: line: 4, column: 38, offset: 180} for query: \"\\n        CALL db.index.vector.queryNodes('precedent_embedding', $limit * 2, $embedding)\\n        YIELD node AS precedent, score AS vector_score\\n        OPTIONAL MATCH (precedent)-[:HAS_KEYWORD]->(k:Keyword)\\n        WHERE k.text IN $keywords\\n        WITH precedent, vector_score, collect(DISTINCT k.text) AS keywords\\n        WITH precedent, vector_score + (size(keywords) * 0.1) AS final_score, keywords\\n        OPTIONAL MATCH (precedent)-[:REFERENCES_ARTICLE]->(ref_a:Article)\\n        WITH precedent, final_score, keywords, collect(DISTINCT ref_a.id) AS referenced_articles\\n        RETURN\\n            precedent.id AS id,\\n            'Precedent' AS type,\\n            precedent.name AS name,\\n            coalesce(precedent.full_summary, precedent.judgment_summary) AS text,\\n            final_score AS score,\\n            keywords,\\n            referenced_articles\\n        ORDER BY final_score DESC\\n        LIMIT $limit\\n        \"\n",
      "Received notification from DBMS server: {severity: WARNING} {code: Neo.ClientNotification.Statement.AggregationSkippedNull} {category: UNRECOGNIZED} {title: The query contains an aggregation function that skips null values.} {description: null value eliminated in set function.} {position: None} for query: \"\\n        CALL db.index.vector.queryNodes('precedent_embedding', $limit * 2, $embedding)\\n        YIELD node AS precedent, score AS vector_score\\n        OPTIONAL MATCH (precedent)-[:HAS_KEYWORD]->(k:Keyword)\\n        WHERE k.text IN $keywords\\n        WITH precedent, vector_score, collect(DISTINCT k.text) AS keywords\\n        WITH precedent, vector_score + (size(keywords) * 0.1) AS final_score, keywords\\n        OPTIONAL MATCH (precedent)-[:REFERENCES_ARTICLE]->(ref_a:Article)\\n        WITH precedent, final_score, keywords, collect(DISTINCT ref_a.id) AS referenced_articles\\n        RETURN\\n            precedent.id AS id,\\n            'Precedent' AS type,\\n            precedent.name AS name,\\n            coalesce(precedent.full_summary, precedent.judgment_summary) AS text,\\n            final_score AS score,\\n            keywords,\\n            referenced_articles\\n        ORDER BY final_score DESC\\n        LIMIT $limit\\n        \"\n"
     ]
    },
    {
     "name": "stdout",
     "output_type": "stream",
     "text": [
      "Context retrieval took 0.58 seconds.\n"
     ]
    },
    {
     "name": "stderr",
     "output_type": "stream",
     "text": [
      "Received notification from DBMS server: {severity: WARNING} {code: Neo.ClientNotification.Statement.UnknownRelationshipTypeWarning} {category: UNRECOGNIZED} {title: The provided relationship type is not in the database.} {description: One of the relationship types in your query is not available in the database, make sure you didn't misspell it or that the label is available when you run this statement in your application (the missing relationship type is: HAS_KEYWORD)} {position: line: 4, column: 38, offset: 180} for query: \"\\n        CALL db.index.vector.queryNodes('precedent_embedding', $limit * 2, $embedding)\\n        YIELD node AS precedent, score AS vector_score\\n        OPTIONAL MATCH (precedent)-[:HAS_KEYWORD]->(k:Keyword)\\n        WHERE k.text IN $keywords\\n        WITH precedent, vector_score, collect(DISTINCT k.text) AS keywords\\n        WITH precedent, vector_score + (size(keywords) * 0.1) AS final_score, keywords\\n        OPTIONAL MATCH (precedent)-[:REFERENCES_ARTICLE]->(ref_a:Article)\\n        WITH precedent, final_score, keywords, collect(DISTINCT ref_a.id) AS referenced_articles\\n        RETURN\\n            precedent.id AS id,\\n            'Precedent' AS type,\\n            precedent.name AS name,\\n            coalesce(precedent.full_summary, precedent.judgment_summary) AS text,\\n            final_score AS score,\\n            keywords,\\n            referenced_articles\\n        ORDER BY final_score DESC\\n        LIMIT $limit\\n        \"\n",
      "Received notification from DBMS server: {severity: WARNING} {code: Neo.ClientNotification.Statement.AggregationSkippedNull} {category: UNRECOGNIZED} {title: The query contains an aggregation function that skips null values.} {description: null value eliminated in set function.} {position: None} for query: \"\\n        CALL db.index.vector.queryNodes('precedent_embedding', $limit * 2, $embedding)\\n        YIELD node AS precedent, score AS vector_score\\n        OPTIONAL MATCH (precedent)-[:HAS_KEYWORD]->(k:Keyword)\\n        WHERE k.text IN $keywords\\n        WITH precedent, vector_score, collect(DISTINCT k.text) AS keywords\\n        WITH precedent, vector_score + (size(keywords) * 0.1) AS final_score, keywords\\n        OPTIONAL MATCH (precedent)-[:REFERENCES_ARTICLE]->(ref_a:Article)\\n        WITH precedent, final_score, keywords, collect(DISTINCT ref_a.id) AS referenced_articles\\n        RETURN\\n            precedent.id AS id,\\n            'Precedent' AS type,\\n            precedent.name AS name,\\n            coalesce(precedent.full_summary, precedent.judgment_summary) AS text,\\n            final_score AS score,\\n            keywords,\\n            referenced_articles\\n        ORDER BY final_score DESC\\n        LIMIT $limit\\n        \"\n"
     ]
    },
    {
     "name": "stdout",
     "output_type": "stream",
     "text": [
      "Context retrieval took 0.66 seconds.\n"
     ]
    },
    {
     "name": "stderr",
     "output_type": "stream",
     "text": [
      "Received notification from DBMS server: {severity: WARNING} {code: Neo.ClientNotification.Statement.UnknownRelationshipTypeWarning} {category: UNRECOGNIZED} {title: The provided relationship type is not in the database.} {description: One of the relationship types in your query is not available in the database, make sure you didn't misspell it or that the label is available when you run this statement in your application (the missing relationship type is: HAS_KEYWORD)} {position: line: 4, column: 38, offset: 180} for query: \"\\n        CALL db.index.vector.queryNodes('precedent_embedding', $limit * 2, $embedding)\\n        YIELD node AS precedent, score AS vector_score\\n        OPTIONAL MATCH (precedent)-[:HAS_KEYWORD]->(k:Keyword)\\n        WHERE k.text IN $keywords\\n        WITH precedent, vector_score, collect(DISTINCT k.text) AS keywords\\n        WITH precedent, vector_score + (size(keywords) * 0.1) AS final_score, keywords\\n        OPTIONAL MATCH (precedent)-[:REFERENCES_ARTICLE]->(ref_a:Article)\\n        WITH precedent, final_score, keywords, collect(DISTINCT ref_a.id) AS referenced_articles\\n        RETURN\\n            precedent.id AS id,\\n            'Precedent' AS type,\\n            precedent.name AS name,\\n            coalesce(precedent.full_summary, precedent.judgment_summary) AS text,\\n            final_score AS score,\\n            keywords,\\n            referenced_articles\\n        ORDER BY final_score DESC\\n        LIMIT $limit\\n        \"\n",
      "Received notification from DBMS server: {severity: WARNING} {code: Neo.ClientNotification.Statement.AggregationSkippedNull} {category: UNRECOGNIZED} {title: The query contains an aggregation function that skips null values.} {description: null value eliminated in set function.} {position: None} for query: \"\\n        CALL db.index.vector.queryNodes('precedent_embedding', $limit * 2, $embedding)\\n        YIELD node AS precedent, score AS vector_score\\n        OPTIONAL MATCH (precedent)-[:HAS_KEYWORD]->(k:Keyword)\\n        WHERE k.text IN $keywords\\n        WITH precedent, vector_score, collect(DISTINCT k.text) AS keywords\\n        WITH precedent, vector_score + (size(keywords) * 0.1) AS final_score, keywords\\n        OPTIONAL MATCH (precedent)-[:REFERENCES_ARTICLE]->(ref_a:Article)\\n        WITH precedent, final_score, keywords, collect(DISTINCT ref_a.id) AS referenced_articles\\n        RETURN\\n            precedent.id AS id,\\n            'Precedent' AS type,\\n            precedent.name AS name,\\n            coalesce(precedent.full_summary, precedent.judgment_summary) AS text,\\n            final_score AS score,\\n            keywords,\\n            referenced_articles\\n        ORDER BY final_score DESC\\n        LIMIT $limit\\n        \"\n"
     ]
    },
    {
     "name": "stdout",
     "output_type": "stream",
     "text": [
      "Context retrieval took 0.84 seconds.\n"
     ]
    },
    {
     "name": "stderr",
     "output_type": "stream",
     "text": [
      "Received notification from DBMS server: {severity: WARNING} {code: Neo.ClientNotification.Statement.AggregationSkippedNull} {category: UNRECOGNIZED} {title: The query contains an aggregation function that skips null values.} {description: null value eliminated in set function.} {position: None} for query: \"\\n        CALL db.index.vector.queryNodes('article_embedding', $limit * 2, $embedding)\\n        YIELD node AS article, score AS vector_score\\n        OPTIONAL MATCH (p:Precedent)-[:REFERENCES_ARTICLE]->(article)\\n        WITH article, vector_score, count(p) AS precedent_count\\n        WITH article, vector_score + (precedent_count * 0.05) AS final_score, precedent_count\\n        RETURN\\n            article.id AS id,\\n            'Article' AS type,\\n            article.text AS text,\\n            final_score AS score,\\n            precedent_count\\n        ORDER BY final_score DESC\\n        LIMIT $limit\\n        \"\n",
      "Received notification from DBMS server: {severity: WARNING} {code: Neo.ClientNotification.Statement.UnknownRelationshipTypeWarning} {category: UNRECOGNIZED} {title: The provided relationship type is not in the database.} {description: One of the relationship types in your query is not available in the database, make sure you didn't misspell it or that the label is available when you run this statement in your application (the missing relationship type is: HAS_KEYWORD)} {position: line: 4, column: 38, offset: 180} for query: \"\\n        CALL db.index.vector.queryNodes('precedent_embedding', $limit * 2, $embedding)\\n        YIELD node AS precedent, score AS vector_score\\n        OPTIONAL MATCH (precedent)-[:HAS_KEYWORD]->(k:Keyword)\\n        WHERE k.text IN $keywords\\n        WITH precedent, vector_score, collect(DISTINCT k.text) AS keywords\\n        WITH precedent, vector_score + (size(keywords) * 0.1) AS final_score, keywords\\n        OPTIONAL MATCH (precedent)-[:REFERENCES_ARTICLE]->(ref_a:Article)\\n        WITH precedent, final_score, keywords, collect(DISTINCT ref_a.id) AS referenced_articles\\n        RETURN\\n            precedent.id AS id,\\n            'Precedent' AS type,\\n            precedent.name AS name,\\n            coalesce(precedent.full_summary, precedent.judgment_summary) AS text,\\n            final_score AS score,\\n            keywords,\\n            referenced_articles\\n        ORDER BY final_score DESC\\n        LIMIT $limit\\n        \"\n",
      "Received notification from DBMS server: {severity: WARNING} {code: Neo.ClientNotification.Statement.AggregationSkippedNull} {category: UNRECOGNIZED} {title: The query contains an aggregation function that skips null values.} {description: null value eliminated in set function.} {position: None} for query: \"\\n        CALL db.index.vector.queryNodes('precedent_embedding', $limit * 2, $embedding)\\n        YIELD node AS precedent, score AS vector_score\\n        OPTIONAL MATCH (precedent)-[:HAS_KEYWORD]->(k:Keyword)\\n        WHERE k.text IN $keywords\\n        WITH precedent, vector_score, collect(DISTINCT k.text) AS keywords\\n        WITH precedent, vector_score + (size(keywords) * 0.1) AS final_score, keywords\\n        OPTIONAL MATCH (precedent)-[:REFERENCES_ARTICLE]->(ref_a:Article)\\n        WITH precedent, final_score, keywords, collect(DISTINCT ref_a.id) AS referenced_articles\\n        RETURN\\n            precedent.id AS id,\\n            'Precedent' AS type,\\n            precedent.name AS name,\\n            coalesce(precedent.full_summary, precedent.judgment_summary) AS text,\\n            final_score AS score,\\n            keywords,\\n            referenced_articles\\n        ORDER BY final_score DESC\\n        LIMIT $limit\\n        \"\n"
     ]
    },
    {
     "name": "stdout",
     "output_type": "stream",
     "text": [
      "Context retrieval took 0.76 seconds.\n"
     ]
    },
    {
     "name": "stderr",
     "output_type": "stream",
     "text": [
      "Received notification from DBMS server: {severity: WARNING} {code: Neo.ClientNotification.Statement.UnknownRelationshipTypeWarning} {category: UNRECOGNIZED} {title: The provided relationship type is not in the database.} {description: One of the relationship types in your query is not available in the database, make sure you didn't misspell it or that the label is available when you run this statement in your application (the missing relationship type is: HAS_KEYWORD)} {position: line: 4, column: 38, offset: 180} for query: \"\\n        CALL db.index.vector.queryNodes('precedent_embedding', $limit * 2, $embedding)\\n        YIELD node AS precedent, score AS vector_score\\n        OPTIONAL MATCH (precedent)-[:HAS_KEYWORD]->(k:Keyword)\\n        WHERE k.text IN $keywords\\n        WITH precedent, vector_score, collect(DISTINCT k.text) AS keywords\\n        WITH precedent, vector_score + (size(keywords) * 0.1) AS final_score, keywords\\n        OPTIONAL MATCH (precedent)-[:REFERENCES_ARTICLE]->(ref_a:Article)\\n        WITH precedent, final_score, keywords, collect(DISTINCT ref_a.id) AS referenced_articles\\n        RETURN\\n            precedent.id AS id,\\n            'Precedent' AS type,\\n            precedent.name AS name,\\n            coalesce(precedent.full_summary, precedent.judgment_summary) AS text,\\n            final_score AS score,\\n            keywords,\\n            referenced_articles\\n        ORDER BY final_score DESC\\n        LIMIT $limit\\n        \"\n",
      "Received notification from DBMS server: {severity: WARNING} {code: Neo.ClientNotification.Statement.AggregationSkippedNull} {category: UNRECOGNIZED} {title: The query contains an aggregation function that skips null values.} {description: null value eliminated in set function.} {position: None} for query: \"\\n        CALL db.index.vector.queryNodes('precedent_embedding', $limit * 2, $embedding)\\n        YIELD node AS precedent, score AS vector_score\\n        OPTIONAL MATCH (precedent)-[:HAS_KEYWORD]->(k:Keyword)\\n        WHERE k.text IN $keywords\\n        WITH precedent, vector_score, collect(DISTINCT k.text) AS keywords\\n        WITH precedent, vector_score + (size(keywords) * 0.1) AS final_score, keywords\\n        OPTIONAL MATCH (precedent)-[:REFERENCES_ARTICLE]->(ref_a:Article)\\n        WITH precedent, final_score, keywords, collect(DISTINCT ref_a.id) AS referenced_articles\\n        RETURN\\n            precedent.id AS id,\\n            'Precedent' AS type,\\n            precedent.name AS name,\\n            coalesce(precedent.full_summary, precedent.judgment_summary) AS text,\\n            final_score AS score,\\n            keywords,\\n            referenced_articles\\n        ORDER BY final_score DESC\\n        LIMIT $limit\\n        \"\n"
     ]
    },
    {
     "name": "stdout",
     "output_type": "stream",
     "text": [
      "Context retrieval took 0.67 seconds.\n"
     ]
    },
    {
     "name": "stderr",
     "output_type": "stream",
     "text": [
      "Received notification from DBMS server: {severity: WARNING} {code: Neo.ClientNotification.Statement.UnknownRelationshipTypeWarning} {category: UNRECOGNIZED} {title: The provided relationship type is not in the database.} {description: One of the relationship types in your query is not available in the database, make sure you didn't misspell it or that the label is available when you run this statement in your application (the missing relationship type is: HAS_KEYWORD)} {position: line: 4, column: 38, offset: 180} for query: \"\\n        CALL db.index.vector.queryNodes('precedent_embedding', $limit * 2, $embedding)\\n        YIELD node AS precedent, score AS vector_score\\n        OPTIONAL MATCH (precedent)-[:HAS_KEYWORD]->(k:Keyword)\\n        WHERE k.text IN $keywords\\n        WITH precedent, vector_score, collect(DISTINCT k.text) AS keywords\\n        WITH precedent, vector_score + (size(keywords) * 0.1) AS final_score, keywords\\n        OPTIONAL MATCH (precedent)-[:REFERENCES_ARTICLE]->(ref_a:Article)\\n        WITH precedent, final_score, keywords, collect(DISTINCT ref_a.id) AS referenced_articles\\n        RETURN\\n            precedent.id AS id,\\n            'Precedent' AS type,\\n            precedent.name AS name,\\n            coalesce(precedent.full_summary, precedent.judgment_summary) AS text,\\n            final_score AS score,\\n            keywords,\\n            referenced_articles\\n        ORDER BY final_score DESC\\n        LIMIT $limit\\n        \"\n",
      "Received notification from DBMS server: {severity: WARNING} {code: Neo.ClientNotification.Statement.AggregationSkippedNull} {category: UNRECOGNIZED} {title: The query contains an aggregation function that skips null values.} {description: null value eliminated in set function.} {position: None} for query: \"\\n        CALL db.index.vector.queryNodes('precedent_embedding', $limit * 2, $embedding)\\n        YIELD node AS precedent, score AS vector_score\\n        OPTIONAL MATCH (precedent)-[:HAS_KEYWORD]->(k:Keyword)\\n        WHERE k.text IN $keywords\\n        WITH precedent, vector_score, collect(DISTINCT k.text) AS keywords\\n        WITH precedent, vector_score + (size(keywords) * 0.1) AS final_score, keywords\\n        OPTIONAL MATCH (precedent)-[:REFERENCES_ARTICLE]->(ref_a:Article)\\n        WITH precedent, final_score, keywords, collect(DISTINCT ref_a.id) AS referenced_articles\\n        RETURN\\n            precedent.id AS id,\\n            'Precedent' AS type,\\n            precedent.name AS name,\\n            coalesce(precedent.full_summary, precedent.judgment_summary) AS text,\\n            final_score AS score,\\n            keywords,\\n            referenced_articles\\n        ORDER BY final_score DESC\\n        LIMIT $limit\\n        \"\n"
     ]
    },
    {
     "name": "stdout",
     "output_type": "stream",
     "text": [
      "Context retrieval took 0.62 seconds.\n"
     ]
    },
    {
     "name": "stderr",
     "output_type": "stream",
     "text": [
      "Received notification from DBMS server: {severity: WARNING} {code: Neo.ClientNotification.Statement.UnknownRelationshipTypeWarning} {category: UNRECOGNIZED} {title: The provided relationship type is not in the database.} {description: One of the relationship types in your query is not available in the database, make sure you didn't misspell it or that the label is available when you run this statement in your application (the missing relationship type is: HAS_KEYWORD)} {position: line: 4, column: 38, offset: 180} for query: \"\\n        CALL db.index.vector.queryNodes('precedent_embedding', $limit * 2, $embedding)\\n        YIELD node AS precedent, score AS vector_score\\n        OPTIONAL MATCH (precedent)-[:HAS_KEYWORD]->(k:Keyword)\\n        WHERE k.text IN $keywords\\n        WITH precedent, vector_score, collect(DISTINCT k.text) AS keywords\\n        WITH precedent, vector_score + (size(keywords) * 0.1) AS final_score, keywords\\n        OPTIONAL MATCH (precedent)-[:REFERENCES_ARTICLE]->(ref_a:Article)\\n        WITH precedent, final_score, keywords, collect(DISTINCT ref_a.id) AS referenced_articles\\n        RETURN\\n            precedent.id AS id,\\n            'Precedent' AS type,\\n            precedent.name AS name,\\n            coalesce(precedent.full_summary, precedent.judgment_summary) AS text,\\n            final_score AS score,\\n            keywords,\\n            referenced_articles\\n        ORDER BY final_score DESC\\n        LIMIT $limit\\n        \"\n",
      "Received notification from DBMS server: {severity: WARNING} {code: Neo.ClientNotification.Statement.AggregationSkippedNull} {category: UNRECOGNIZED} {title: The query contains an aggregation function that skips null values.} {description: null value eliminated in set function.} {position: None} for query: \"\\n        CALL db.index.vector.queryNodes('precedent_embedding', $limit * 2, $embedding)\\n        YIELD node AS precedent, score AS vector_score\\n        OPTIONAL MATCH (precedent)-[:HAS_KEYWORD]->(k:Keyword)\\n        WHERE k.text IN $keywords\\n        WITH precedent, vector_score, collect(DISTINCT k.text) AS keywords\\n        WITH precedent, vector_score + (size(keywords) * 0.1) AS final_score, keywords\\n        OPTIONAL MATCH (precedent)-[:REFERENCES_ARTICLE]->(ref_a:Article)\\n        WITH precedent, final_score, keywords, collect(DISTINCT ref_a.id) AS referenced_articles\\n        RETURN\\n            precedent.id AS id,\\n            'Precedent' AS type,\\n            precedent.name AS name,\\n            coalesce(precedent.full_summary, precedent.judgment_summary) AS text,\\n            final_score AS score,\\n            keywords,\\n            referenced_articles\\n        ORDER BY final_score DESC\\n        LIMIT $limit\\n        \"\n"
     ]
    },
    {
     "name": "stdout",
     "output_type": "stream",
     "text": [
      "Context retrieval took 0.61 seconds.\n"
     ]
    },
    {
     "name": "stderr",
     "output_type": "stream",
     "text": [
      "Received notification from DBMS server: {severity: WARNING} {code: Neo.ClientNotification.Statement.UnknownRelationshipTypeWarning} {category: UNRECOGNIZED} {title: The provided relationship type is not in the database.} {description: One of the relationship types in your query is not available in the database, make sure you didn't misspell it or that the label is available when you run this statement in your application (the missing relationship type is: HAS_KEYWORD)} {position: line: 4, column: 38, offset: 180} for query: \"\\n        CALL db.index.vector.queryNodes('precedent_embedding', $limit * 2, $embedding)\\n        YIELD node AS precedent, score AS vector_score\\n        OPTIONAL MATCH (precedent)-[:HAS_KEYWORD]->(k:Keyword)\\n        WHERE k.text IN $keywords\\n        WITH precedent, vector_score, collect(DISTINCT k.text) AS keywords\\n        WITH precedent, vector_score + (size(keywords) * 0.1) AS final_score, keywords\\n        OPTIONAL MATCH (precedent)-[:REFERENCES_ARTICLE]->(ref_a:Article)\\n        WITH precedent, final_score, keywords, collect(DISTINCT ref_a.id) AS referenced_articles\\n        RETURN\\n            precedent.id AS id,\\n            'Precedent' AS type,\\n            precedent.name AS name,\\n            coalesce(precedent.full_summary, precedent.judgment_summary) AS text,\\n            final_score AS score,\\n            keywords,\\n            referenced_articles\\n        ORDER BY final_score DESC\\n        LIMIT $limit\\n        \"\n",
      "Received notification from DBMS server: {severity: WARNING} {code: Neo.ClientNotification.Statement.AggregationSkippedNull} {category: UNRECOGNIZED} {title: The query contains an aggregation function that skips null values.} {description: null value eliminated in set function.} {position: None} for query: \"\\n        CALL db.index.vector.queryNodes('precedent_embedding', $limit * 2, $embedding)\\n        YIELD node AS precedent, score AS vector_score\\n        OPTIONAL MATCH (precedent)-[:HAS_KEYWORD]->(k:Keyword)\\n        WHERE k.text IN $keywords\\n        WITH precedent, vector_score, collect(DISTINCT k.text) AS keywords\\n        WITH precedent, vector_score + (size(keywords) * 0.1) AS final_score, keywords\\n        OPTIONAL MATCH (precedent)-[:REFERENCES_ARTICLE]->(ref_a:Article)\\n        WITH precedent, final_score, keywords, collect(DISTINCT ref_a.id) AS referenced_articles\\n        RETURN\\n            precedent.id AS id,\\n            'Precedent' AS type,\\n            precedent.name AS name,\\n            coalesce(precedent.full_summary, precedent.judgment_summary) AS text,\\n            final_score AS score,\\n            keywords,\\n            referenced_articles\\n        ORDER BY final_score DESC\\n        LIMIT $limit\\n        \"\n"
     ]
    },
    {
     "name": "stdout",
     "output_type": "stream",
     "text": [
      "Context retrieval took 1.11 seconds.\n"
     ]
    },
    {
     "name": "stderr",
     "output_type": "stream",
     "text": [
      "Received notification from DBMS server: {severity: WARNING} {code: Neo.ClientNotification.Statement.UnknownRelationshipTypeWarning} {category: UNRECOGNIZED} {title: The provided relationship type is not in the database.} {description: One of the relationship types in your query is not available in the database, make sure you didn't misspell it or that the label is available when you run this statement in your application (the missing relationship type is: HAS_KEYWORD)} {position: line: 4, column: 38, offset: 180} for query: \"\\n        CALL db.index.vector.queryNodes('precedent_embedding', $limit * 2, $embedding)\\n        YIELD node AS precedent, score AS vector_score\\n        OPTIONAL MATCH (precedent)-[:HAS_KEYWORD]->(k:Keyword)\\n        WHERE k.text IN $keywords\\n        WITH precedent, vector_score, collect(DISTINCT k.text) AS keywords\\n        WITH precedent, vector_score + (size(keywords) * 0.1) AS final_score, keywords\\n        OPTIONAL MATCH (precedent)-[:REFERENCES_ARTICLE]->(ref_a:Article)\\n        WITH precedent, final_score, keywords, collect(DISTINCT ref_a.id) AS referenced_articles\\n        RETURN\\n            precedent.id AS id,\\n            'Precedent' AS type,\\n            precedent.name AS name,\\n            coalesce(precedent.full_summary, precedent.judgment_summary) AS text,\\n            final_score AS score,\\n            keywords,\\n            referenced_articles\\n        ORDER BY final_score DESC\\n        LIMIT $limit\\n        \"\n",
      "Received notification from DBMS server: {severity: WARNING} {code: Neo.ClientNotification.Statement.AggregationSkippedNull} {category: UNRECOGNIZED} {title: The query contains an aggregation function that skips null values.} {description: null value eliminated in set function.} {position: None} for query: \"\\n        CALL db.index.vector.queryNodes('precedent_embedding', $limit * 2, $embedding)\\n        YIELD node AS precedent, score AS vector_score\\n        OPTIONAL MATCH (precedent)-[:HAS_KEYWORD]->(k:Keyword)\\n        WHERE k.text IN $keywords\\n        WITH precedent, vector_score, collect(DISTINCT k.text) AS keywords\\n        WITH precedent, vector_score + (size(keywords) * 0.1) AS final_score, keywords\\n        OPTIONAL MATCH (precedent)-[:REFERENCES_ARTICLE]->(ref_a:Article)\\n        WITH precedent, final_score, keywords, collect(DISTINCT ref_a.id) AS referenced_articles\\n        RETURN\\n            precedent.id AS id,\\n            'Precedent' AS type,\\n            precedent.name AS name,\\n            coalesce(precedent.full_summary, precedent.judgment_summary) AS text,\\n            final_score AS score,\\n            keywords,\\n            referenced_articles\\n        ORDER BY final_score DESC\\n        LIMIT $limit\\n        \"\n"
     ]
    },
    {
     "name": "stdout",
     "output_type": "stream",
     "text": [
      "Context retrieval took 0.67 seconds.\n"
     ]
    },
    {
     "name": "stderr",
     "output_type": "stream",
     "text": [
      "Received notification from DBMS server: {severity: WARNING} {code: Neo.ClientNotification.Statement.UnknownRelationshipTypeWarning} {category: UNRECOGNIZED} {title: The provided relationship type is not in the database.} {description: One of the relationship types in your query is not available in the database, make sure you didn't misspell it or that the label is available when you run this statement in your application (the missing relationship type is: HAS_KEYWORD)} {position: line: 4, column: 38, offset: 180} for query: \"\\n        CALL db.index.vector.queryNodes('precedent_embedding', $limit * 2, $embedding)\\n        YIELD node AS precedent, score AS vector_score\\n        OPTIONAL MATCH (precedent)-[:HAS_KEYWORD]->(k:Keyword)\\n        WHERE k.text IN $keywords\\n        WITH precedent, vector_score, collect(DISTINCT k.text) AS keywords\\n        WITH precedent, vector_score + (size(keywords) * 0.1) AS final_score, keywords\\n        OPTIONAL MATCH (precedent)-[:REFERENCES_ARTICLE]->(ref_a:Article)\\n        WITH precedent, final_score, keywords, collect(DISTINCT ref_a.id) AS referenced_articles\\n        RETURN\\n            precedent.id AS id,\\n            'Precedent' AS type,\\n            precedent.name AS name,\\n            coalesce(precedent.full_summary, precedent.judgment_summary) AS text,\\n            final_score AS score,\\n            keywords,\\n            referenced_articles\\n        ORDER BY final_score DESC\\n        LIMIT $limit\\n        \"\n",
      "Received notification from DBMS server: {severity: WARNING} {code: Neo.ClientNotification.Statement.AggregationSkippedNull} {category: UNRECOGNIZED} {title: The query contains an aggregation function that skips null values.} {description: null value eliminated in set function.} {position: None} for query: \"\\n        CALL db.index.vector.queryNodes('precedent_embedding', $limit * 2, $embedding)\\n        YIELD node AS precedent, score AS vector_score\\n        OPTIONAL MATCH (precedent)-[:HAS_KEYWORD]->(k:Keyword)\\n        WHERE k.text IN $keywords\\n        WITH precedent, vector_score, collect(DISTINCT k.text) AS keywords\\n        WITH precedent, vector_score + (size(keywords) * 0.1) AS final_score, keywords\\n        OPTIONAL MATCH (precedent)-[:REFERENCES_ARTICLE]->(ref_a:Article)\\n        WITH precedent, final_score, keywords, collect(DISTINCT ref_a.id) AS referenced_articles\\n        RETURN\\n            precedent.id AS id,\\n            'Precedent' AS type,\\n            precedent.name AS name,\\n            coalesce(precedent.full_summary, precedent.judgment_summary) AS text,\\n            final_score AS score,\\n            keywords,\\n            referenced_articles\\n        ORDER BY final_score DESC\\n        LIMIT $limit\\n        \"\n"
     ]
    },
    {
     "name": "stdout",
     "output_type": "stream",
     "text": [
      "Context retrieval took 0.55 seconds.\n"
     ]
    },
    {
     "name": "stderr",
     "output_type": "stream",
     "text": [
      "Received notification from DBMS server: {severity: WARNING} {code: Neo.ClientNotification.Statement.AggregationSkippedNull} {category: UNRECOGNIZED} {title: The query contains an aggregation function that skips null values.} {description: null value eliminated in set function.} {position: None} for query: \"\\n        CALL db.index.vector.queryNodes('article_embedding', $limit * 2, $embedding)\\n        YIELD node AS article, score AS vector_score\\n        OPTIONAL MATCH (p:Precedent)-[:REFERENCES_ARTICLE]->(article)\\n        WITH article, vector_score, count(p) AS precedent_count\\n        WITH article, vector_score + (precedent_count * 0.05) AS final_score, precedent_count\\n        RETURN\\n            article.id AS id,\\n            'Article' AS type,\\n            article.text AS text,\\n            final_score AS score,\\n            precedent_count\\n        ORDER BY final_score DESC\\n        LIMIT $limit\\n        \"\n",
      "Received notification from DBMS server: {severity: WARNING} {code: Neo.ClientNotification.Statement.UnknownRelationshipTypeWarning} {category: UNRECOGNIZED} {title: The provided relationship type is not in the database.} {description: One of the relationship types in your query is not available in the database, make sure you didn't misspell it or that the label is available when you run this statement in your application (the missing relationship type is: HAS_KEYWORD)} {position: line: 4, column: 38, offset: 180} for query: \"\\n        CALL db.index.vector.queryNodes('precedent_embedding', $limit * 2, $embedding)\\n        YIELD node AS precedent, score AS vector_score\\n        OPTIONAL MATCH (precedent)-[:HAS_KEYWORD]->(k:Keyword)\\n        WHERE k.text IN $keywords\\n        WITH precedent, vector_score, collect(DISTINCT k.text) AS keywords\\n        WITH precedent, vector_score + (size(keywords) * 0.1) AS final_score, keywords\\n        OPTIONAL MATCH (precedent)-[:REFERENCES_ARTICLE]->(ref_a:Article)\\n        WITH precedent, final_score, keywords, collect(DISTINCT ref_a.id) AS referenced_articles\\n        RETURN\\n            precedent.id AS id,\\n            'Precedent' AS type,\\n            precedent.name AS name,\\n            coalesce(precedent.full_summary, precedent.judgment_summary) AS text,\\n            final_score AS score,\\n            keywords,\\n            referenced_articles\\n        ORDER BY final_score DESC\\n        LIMIT $limit\\n        \"\n",
      "Received notification from DBMS server: {severity: WARNING} {code: Neo.ClientNotification.Statement.AggregationSkippedNull} {category: UNRECOGNIZED} {title: The query contains an aggregation function that skips null values.} {description: null value eliminated in set function.} {position: None} for query: \"\\n        CALL db.index.vector.queryNodes('precedent_embedding', $limit * 2, $embedding)\\n        YIELD node AS precedent, score AS vector_score\\n        OPTIONAL MATCH (precedent)-[:HAS_KEYWORD]->(k:Keyword)\\n        WHERE k.text IN $keywords\\n        WITH precedent, vector_score, collect(DISTINCT k.text) AS keywords\\n        WITH precedent, vector_score + (size(keywords) * 0.1) AS final_score, keywords\\n        OPTIONAL MATCH (precedent)-[:REFERENCES_ARTICLE]->(ref_a:Article)\\n        WITH precedent, final_score, keywords, collect(DISTINCT ref_a.id) AS referenced_articles\\n        RETURN\\n            precedent.id AS id,\\n            'Precedent' AS type,\\n            precedent.name AS name,\\n            coalesce(precedent.full_summary, precedent.judgment_summary) AS text,\\n            final_score AS score,\\n            keywords,\\n            referenced_articles\\n        ORDER BY final_score DESC\\n        LIMIT $limit\\n        \"\n"
     ]
    },
    {
     "name": "stdout",
     "output_type": "stream",
     "text": [
      "Context retrieval took 0.91 seconds.\n"
     ]
    },
    {
     "name": "stderr",
     "output_type": "stream",
     "text": [
      "Received notification from DBMS server: {severity: WARNING} {code: Neo.ClientNotification.Statement.AggregationSkippedNull} {category: UNRECOGNIZED} {title: The query contains an aggregation function that skips null values.} {description: null value eliminated in set function.} {position: None} for query: \"\\n        CALL db.index.vector.queryNodes('article_embedding', $limit * 2, $embedding)\\n        YIELD node AS article, score AS vector_score\\n        OPTIONAL MATCH (p:Precedent)-[:REFERENCES_ARTICLE]->(article)\\n        WITH article, vector_score, count(p) AS precedent_count\\n        WITH article, vector_score + (precedent_count * 0.05) AS final_score, precedent_count\\n        RETURN\\n            article.id AS id,\\n            'Article' AS type,\\n            article.text AS text,\\n            final_score AS score,\\n            precedent_count\\n        ORDER BY final_score DESC\\n        LIMIT $limit\\n        \"\n",
      "Received notification from DBMS server: {severity: WARNING} {code: Neo.ClientNotification.Statement.UnknownRelationshipTypeWarning} {category: UNRECOGNIZED} {title: The provided relationship type is not in the database.} {description: One of the relationship types in your query is not available in the database, make sure you didn't misspell it or that the label is available when you run this statement in your application (the missing relationship type is: HAS_KEYWORD)} {position: line: 4, column: 38, offset: 180} for query: \"\\n        CALL db.index.vector.queryNodes('precedent_embedding', $limit * 2, $embedding)\\n        YIELD node AS precedent, score AS vector_score\\n        OPTIONAL MATCH (precedent)-[:HAS_KEYWORD]->(k:Keyword)\\n        WHERE k.text IN $keywords\\n        WITH precedent, vector_score, collect(DISTINCT k.text) AS keywords\\n        WITH precedent, vector_score + (size(keywords) * 0.1) AS final_score, keywords\\n        OPTIONAL MATCH (precedent)-[:REFERENCES_ARTICLE]->(ref_a:Article)\\n        WITH precedent, final_score, keywords, collect(DISTINCT ref_a.id) AS referenced_articles\\n        RETURN\\n            precedent.id AS id,\\n            'Precedent' AS type,\\n            precedent.name AS name,\\n            coalesce(precedent.full_summary, precedent.judgment_summary) AS text,\\n            final_score AS score,\\n            keywords,\\n            referenced_articles\\n        ORDER BY final_score DESC\\n        LIMIT $limit\\n        \"\n",
      "Received notification from DBMS server: {severity: WARNING} {code: Neo.ClientNotification.Statement.AggregationSkippedNull} {category: UNRECOGNIZED} {title: The query contains an aggregation function that skips null values.} {description: null value eliminated in set function.} {position: None} for query: \"\\n        CALL db.index.vector.queryNodes('precedent_embedding', $limit * 2, $embedding)\\n        YIELD node AS precedent, score AS vector_score\\n        OPTIONAL MATCH (precedent)-[:HAS_KEYWORD]->(k:Keyword)\\n        WHERE k.text IN $keywords\\n        WITH precedent, vector_score, collect(DISTINCT k.text) AS keywords\\n        WITH precedent, vector_score + (size(keywords) * 0.1) AS final_score, keywords\\n        OPTIONAL MATCH (precedent)-[:REFERENCES_ARTICLE]->(ref_a:Article)\\n        WITH precedent, final_score, keywords, collect(DISTINCT ref_a.id) AS referenced_articles\\n        RETURN\\n            precedent.id AS id,\\n            'Precedent' AS type,\\n            precedent.name AS name,\\n            coalesce(precedent.full_summary, precedent.judgment_summary) AS text,\\n            final_score AS score,\\n            keywords,\\n            referenced_articles\\n        ORDER BY final_score DESC\\n        LIMIT $limit\\n        \"\n"
     ]
    },
    {
     "name": "stdout",
     "output_type": "stream",
     "text": [
      "Context retrieval took 0.53 seconds.\n"
     ]
    },
    {
     "name": "stderr",
     "output_type": "stream",
     "text": [
      "Received notification from DBMS server: {severity: WARNING} {code: Neo.ClientNotification.Statement.UnknownRelationshipTypeWarning} {category: UNRECOGNIZED} {title: The provided relationship type is not in the database.} {description: One of the relationship types in your query is not available in the database, make sure you didn't misspell it or that the label is available when you run this statement in your application (the missing relationship type is: HAS_KEYWORD)} {position: line: 4, column: 38, offset: 180} for query: \"\\n        CALL db.index.vector.queryNodes('precedent_embedding', $limit * 2, $embedding)\\n        YIELD node AS precedent, score AS vector_score\\n        OPTIONAL MATCH (precedent)-[:HAS_KEYWORD]->(k:Keyword)\\n        WHERE k.text IN $keywords\\n        WITH precedent, vector_score, collect(DISTINCT k.text) AS keywords\\n        WITH precedent, vector_score + (size(keywords) * 0.1) AS final_score, keywords\\n        OPTIONAL MATCH (precedent)-[:REFERENCES_ARTICLE]->(ref_a:Article)\\n        WITH precedent, final_score, keywords, collect(DISTINCT ref_a.id) AS referenced_articles\\n        RETURN\\n            precedent.id AS id,\\n            'Precedent' AS type,\\n            precedent.name AS name,\\n            coalesce(precedent.full_summary, precedent.judgment_summary) AS text,\\n            final_score AS score,\\n            keywords,\\n            referenced_articles\\n        ORDER BY final_score DESC\\n        LIMIT $limit\\n        \"\n",
      "Received notification from DBMS server: {severity: WARNING} {code: Neo.ClientNotification.Statement.AggregationSkippedNull} {category: UNRECOGNIZED} {title: The query contains an aggregation function that skips null values.} {description: null value eliminated in set function.} {position: None} for query: \"\\n        CALL db.index.vector.queryNodes('precedent_embedding', $limit * 2, $embedding)\\n        YIELD node AS precedent, score AS vector_score\\n        OPTIONAL MATCH (precedent)-[:HAS_KEYWORD]->(k:Keyword)\\n        WHERE k.text IN $keywords\\n        WITH precedent, vector_score, collect(DISTINCT k.text) AS keywords\\n        WITH precedent, vector_score + (size(keywords) * 0.1) AS final_score, keywords\\n        OPTIONAL MATCH (precedent)-[:REFERENCES_ARTICLE]->(ref_a:Article)\\n        WITH precedent, final_score, keywords, collect(DISTINCT ref_a.id) AS referenced_articles\\n        RETURN\\n            precedent.id AS id,\\n            'Precedent' AS type,\\n            precedent.name AS name,\\n            coalesce(precedent.full_summary, precedent.judgment_summary) AS text,\\n            final_score AS score,\\n            keywords,\\n            referenced_articles\\n        ORDER BY final_score DESC\\n        LIMIT $limit\\n        \"\n"
     ]
    },
    {
     "name": "stdout",
     "output_type": "stream",
     "text": [
      "Context retrieval took 0.88 seconds.\n"
     ]
    },
    {
     "name": "stderr",
     "output_type": "stream",
     "text": [
      "Received notification from DBMS server: {severity: WARNING} {code: Neo.ClientNotification.Statement.AggregationSkippedNull} {category: UNRECOGNIZED} {title: The query contains an aggregation function that skips null values.} {description: null value eliminated in set function.} {position: None} for query: \"\\n        CALL db.index.vector.queryNodes('article_embedding', $limit * 2, $embedding)\\n        YIELD node AS article, score AS vector_score\\n        OPTIONAL MATCH (p:Precedent)-[:REFERENCES_ARTICLE]->(article)\\n        WITH article, vector_score, count(p) AS precedent_count\\n        WITH article, vector_score + (precedent_count * 0.05) AS final_score, precedent_count\\n        RETURN\\n            article.id AS id,\\n            'Article' AS type,\\n            article.text AS text,\\n            final_score AS score,\\n            precedent_count\\n        ORDER BY final_score DESC\\n        LIMIT $limit\\n        \"\n",
      "Received notification from DBMS server: {severity: WARNING} {code: Neo.ClientNotification.Statement.UnknownRelationshipTypeWarning} {category: UNRECOGNIZED} {title: The provided relationship type is not in the database.} {description: One of the relationship types in your query is not available in the database, make sure you didn't misspell it or that the label is available when you run this statement in your application (the missing relationship type is: HAS_KEYWORD)} {position: line: 4, column: 38, offset: 180} for query: \"\\n        CALL db.index.vector.queryNodes('precedent_embedding', $limit * 2, $embedding)\\n        YIELD node AS precedent, score AS vector_score\\n        OPTIONAL MATCH (precedent)-[:HAS_KEYWORD]->(k:Keyword)\\n        WHERE k.text IN $keywords\\n        WITH precedent, vector_score, collect(DISTINCT k.text) AS keywords\\n        WITH precedent, vector_score + (size(keywords) * 0.1) AS final_score, keywords\\n        OPTIONAL MATCH (precedent)-[:REFERENCES_ARTICLE]->(ref_a:Article)\\n        WITH precedent, final_score, keywords, collect(DISTINCT ref_a.id) AS referenced_articles\\n        RETURN\\n            precedent.id AS id,\\n            'Precedent' AS type,\\n            precedent.name AS name,\\n            coalesce(precedent.full_summary, precedent.judgment_summary) AS text,\\n            final_score AS score,\\n            keywords,\\n            referenced_articles\\n        ORDER BY final_score DESC\\n        LIMIT $limit\\n        \"\n",
      "Received notification from DBMS server: {severity: WARNING} {code: Neo.ClientNotification.Statement.AggregationSkippedNull} {category: UNRECOGNIZED} {title: The query contains an aggregation function that skips null values.} {description: null value eliminated in set function.} {position: None} for query: \"\\n        CALL db.index.vector.queryNodes('precedent_embedding', $limit * 2, $embedding)\\n        YIELD node AS precedent, score AS vector_score\\n        OPTIONAL MATCH (precedent)-[:HAS_KEYWORD]->(k:Keyword)\\n        WHERE k.text IN $keywords\\n        WITH precedent, vector_score, collect(DISTINCT k.text) AS keywords\\n        WITH precedent, vector_score + (size(keywords) * 0.1) AS final_score, keywords\\n        OPTIONAL MATCH (precedent)-[:REFERENCES_ARTICLE]->(ref_a:Article)\\n        WITH precedent, final_score, keywords, collect(DISTINCT ref_a.id) AS referenced_articles\\n        RETURN\\n            precedent.id AS id,\\n            'Precedent' AS type,\\n            precedent.name AS name,\\n            coalesce(precedent.full_summary, precedent.judgment_summary) AS text,\\n            final_score AS score,\\n            keywords,\\n            referenced_articles\\n        ORDER BY final_score DESC\\n        LIMIT $limit\\n        \"\n"
     ]
    },
    {
     "name": "stdout",
     "output_type": "stream",
     "text": [
      "Context retrieval took 0.64 seconds.\n"
     ]
    },
    {
     "name": "stderr",
     "output_type": "stream",
     "text": [
      "Received notification from DBMS server: {severity: WARNING} {code: Neo.ClientNotification.Statement.AggregationSkippedNull} {category: UNRECOGNIZED} {title: The query contains an aggregation function that skips null values.} {description: null value eliminated in set function.} {position: None} for query: \"\\n        CALL db.index.vector.queryNodes('article_embedding', $limit * 2, $embedding)\\n        YIELD node AS article, score AS vector_score\\n        OPTIONAL MATCH (p:Precedent)-[:REFERENCES_ARTICLE]->(article)\\n        WITH article, vector_score, count(p) AS precedent_count\\n        WITH article, vector_score + (precedent_count * 0.05) AS final_score, precedent_count\\n        RETURN\\n            article.id AS id,\\n            'Article' AS type,\\n            article.text AS text,\\n            final_score AS score,\\n            precedent_count\\n        ORDER BY final_score DESC\\n        LIMIT $limit\\n        \"\n",
      "Received notification from DBMS server: {severity: WARNING} {code: Neo.ClientNotification.Statement.UnknownRelationshipTypeWarning} {category: UNRECOGNIZED} {title: The provided relationship type is not in the database.} {description: One of the relationship types in your query is not available in the database, make sure you didn't misspell it or that the label is available when you run this statement in your application (the missing relationship type is: HAS_KEYWORD)} {position: line: 4, column: 38, offset: 180} for query: \"\\n        CALL db.index.vector.queryNodes('precedent_embedding', $limit * 2, $embedding)\\n        YIELD node AS precedent, score AS vector_score\\n        OPTIONAL MATCH (precedent)-[:HAS_KEYWORD]->(k:Keyword)\\n        WHERE k.text IN $keywords\\n        WITH precedent, vector_score, collect(DISTINCT k.text) AS keywords\\n        WITH precedent, vector_score + (size(keywords) * 0.1) AS final_score, keywords\\n        OPTIONAL MATCH (precedent)-[:REFERENCES_ARTICLE]->(ref_a:Article)\\n        WITH precedent, final_score, keywords, collect(DISTINCT ref_a.id) AS referenced_articles\\n        RETURN\\n            precedent.id AS id,\\n            'Precedent' AS type,\\n            precedent.name AS name,\\n            coalesce(precedent.full_summary, precedent.judgment_summary) AS text,\\n            final_score AS score,\\n            keywords,\\n            referenced_articles\\n        ORDER BY final_score DESC\\n        LIMIT $limit\\n        \"\n",
      "Received notification from DBMS server: {severity: WARNING} {code: Neo.ClientNotification.Statement.AggregationSkippedNull} {category: UNRECOGNIZED} {title: The query contains an aggregation function that skips null values.} {description: null value eliminated in set function.} {position: None} for query: \"\\n        CALL db.index.vector.queryNodes('precedent_embedding', $limit * 2, $embedding)\\n        YIELD node AS precedent, score AS vector_score\\n        OPTIONAL MATCH (precedent)-[:HAS_KEYWORD]->(k:Keyword)\\n        WHERE k.text IN $keywords\\n        WITH precedent, vector_score, collect(DISTINCT k.text) AS keywords\\n        WITH precedent, vector_score + (size(keywords) * 0.1) AS final_score, keywords\\n        OPTIONAL MATCH (precedent)-[:REFERENCES_ARTICLE]->(ref_a:Article)\\n        WITH precedent, final_score, keywords, collect(DISTINCT ref_a.id) AS referenced_articles\\n        RETURN\\n            precedent.id AS id,\\n            'Precedent' AS type,\\n            precedent.name AS name,\\n            coalesce(precedent.full_summary, precedent.judgment_summary) AS text,\\n            final_score AS score,\\n            keywords,\\n            referenced_articles\\n        ORDER BY final_score DESC\\n        LIMIT $limit\\n        \"\n"
     ]
    },
    {
     "name": "stdout",
     "output_type": "stream",
     "text": [
      "Context retrieval took 0.57 seconds.\n"
     ]
    },
    {
     "name": "stderr",
     "output_type": "stream",
     "text": [
      "Received notification from DBMS server: {severity: WARNING} {code: Neo.ClientNotification.Statement.AggregationSkippedNull} {category: UNRECOGNIZED} {title: The query contains an aggregation function that skips null values.} {description: null value eliminated in set function.} {position: None} for query: \"\\n        CALL db.index.vector.queryNodes('article_embedding', $limit * 2, $embedding)\\n        YIELD node AS article, score AS vector_score\\n        OPTIONAL MATCH (p:Precedent)-[:REFERENCES_ARTICLE]->(article)\\n        WITH article, vector_score, count(p) AS precedent_count\\n        WITH article, vector_score + (precedent_count * 0.05) AS final_score, precedent_count\\n        RETURN\\n            article.id AS id,\\n            'Article' AS type,\\n            article.text AS text,\\n            final_score AS score,\\n            precedent_count\\n        ORDER BY final_score DESC\\n        LIMIT $limit\\n        \"\n",
      "Received notification from DBMS server: {severity: WARNING} {code: Neo.ClientNotification.Statement.UnknownRelationshipTypeWarning} {category: UNRECOGNIZED} {title: The provided relationship type is not in the database.} {description: One of the relationship types in your query is not available in the database, make sure you didn't misspell it or that the label is available when you run this statement in your application (the missing relationship type is: HAS_KEYWORD)} {position: line: 4, column: 38, offset: 180} for query: \"\\n        CALL db.index.vector.queryNodes('precedent_embedding', $limit * 2, $embedding)\\n        YIELD node AS precedent, score AS vector_score\\n        OPTIONAL MATCH (precedent)-[:HAS_KEYWORD]->(k:Keyword)\\n        WHERE k.text IN $keywords\\n        WITH precedent, vector_score, collect(DISTINCT k.text) AS keywords\\n        WITH precedent, vector_score + (size(keywords) * 0.1) AS final_score, keywords\\n        OPTIONAL MATCH (precedent)-[:REFERENCES_ARTICLE]->(ref_a:Article)\\n        WITH precedent, final_score, keywords, collect(DISTINCT ref_a.id) AS referenced_articles\\n        RETURN\\n            precedent.id AS id,\\n            'Precedent' AS type,\\n            precedent.name AS name,\\n            coalesce(precedent.full_summary, precedent.judgment_summary) AS text,\\n            final_score AS score,\\n            keywords,\\n            referenced_articles\\n        ORDER BY final_score DESC\\n        LIMIT $limit\\n        \"\n",
      "Received notification from DBMS server: {severity: WARNING} {code: Neo.ClientNotification.Statement.AggregationSkippedNull} {category: UNRECOGNIZED} {title: The query contains an aggregation function that skips null values.} {description: null value eliminated in set function.} {position: None} for query: \"\\n        CALL db.index.vector.queryNodes('precedent_embedding', $limit * 2, $embedding)\\n        YIELD node AS precedent, score AS vector_score\\n        OPTIONAL MATCH (precedent)-[:HAS_KEYWORD]->(k:Keyword)\\n        WHERE k.text IN $keywords\\n        WITH precedent, vector_score, collect(DISTINCT k.text) AS keywords\\n        WITH precedent, vector_score + (size(keywords) * 0.1) AS final_score, keywords\\n        OPTIONAL MATCH (precedent)-[:REFERENCES_ARTICLE]->(ref_a:Article)\\n        WITH precedent, final_score, keywords, collect(DISTINCT ref_a.id) AS referenced_articles\\n        RETURN\\n            precedent.id AS id,\\n            'Precedent' AS type,\\n            precedent.name AS name,\\n            coalesce(precedent.full_summary, precedent.judgment_summary) AS text,\\n            final_score AS score,\\n            keywords,\\n            referenced_articles\\n        ORDER BY final_score DESC\\n        LIMIT $limit\\n        \"\n"
     ]
    },
    {
     "name": "stdout",
     "output_type": "stream",
     "text": [
      "Context retrieval took 0.60 seconds.\n"
     ]
    },
    {
     "name": "stderr",
     "output_type": "stream",
     "text": [
      "Received notification from DBMS server: {severity: WARNING} {code: Neo.ClientNotification.Statement.UnknownRelationshipTypeWarning} {category: UNRECOGNIZED} {title: The provided relationship type is not in the database.} {description: One of the relationship types in your query is not available in the database, make sure you didn't misspell it or that the label is available when you run this statement in your application (the missing relationship type is: HAS_KEYWORD)} {position: line: 4, column: 38, offset: 180} for query: \"\\n        CALL db.index.vector.queryNodes('precedent_embedding', $limit * 2, $embedding)\\n        YIELD node AS precedent, score AS vector_score\\n        OPTIONAL MATCH (precedent)-[:HAS_KEYWORD]->(k:Keyword)\\n        WHERE k.text IN $keywords\\n        WITH precedent, vector_score, collect(DISTINCT k.text) AS keywords\\n        WITH precedent, vector_score + (size(keywords) * 0.1) AS final_score, keywords\\n        OPTIONAL MATCH (precedent)-[:REFERENCES_ARTICLE]->(ref_a:Article)\\n        WITH precedent, final_score, keywords, collect(DISTINCT ref_a.id) AS referenced_articles\\n        RETURN\\n            precedent.id AS id,\\n            'Precedent' AS type,\\n            precedent.name AS name,\\n            coalesce(precedent.full_summary, precedent.judgment_summary) AS text,\\n            final_score AS score,\\n            keywords,\\n            referenced_articles\\n        ORDER BY final_score DESC\\n        LIMIT $limit\\n        \"\n",
      "Received notification from DBMS server: {severity: WARNING} {code: Neo.ClientNotification.Statement.AggregationSkippedNull} {category: UNRECOGNIZED} {title: The query contains an aggregation function that skips null values.} {description: null value eliminated in set function.} {position: None} for query: \"\\n        CALL db.index.vector.queryNodes('precedent_embedding', $limit * 2, $embedding)\\n        YIELD node AS precedent, score AS vector_score\\n        OPTIONAL MATCH (precedent)-[:HAS_KEYWORD]->(k:Keyword)\\n        WHERE k.text IN $keywords\\n        WITH precedent, vector_score, collect(DISTINCT k.text) AS keywords\\n        WITH precedent, vector_score + (size(keywords) * 0.1) AS final_score, keywords\\n        OPTIONAL MATCH (precedent)-[:REFERENCES_ARTICLE]->(ref_a:Article)\\n        WITH precedent, final_score, keywords, collect(DISTINCT ref_a.id) AS referenced_articles\\n        RETURN\\n            precedent.id AS id,\\n            'Precedent' AS type,\\n            precedent.name AS name,\\n            coalesce(precedent.full_summary, precedent.judgment_summary) AS text,\\n            final_score AS score,\\n            keywords,\\n            referenced_articles\\n        ORDER BY final_score DESC\\n        LIMIT $limit\\n        \"\n"
     ]
    },
    {
     "name": "stdout",
     "output_type": "stream",
     "text": [
      "Context retrieval took 0.53 seconds.\n"
     ]
    },
    {
     "name": "stderr",
     "output_type": "stream",
     "text": [
      "Received notification from DBMS server: {severity: WARNING} {code: Neo.ClientNotification.Statement.UnknownRelationshipTypeWarning} {category: UNRECOGNIZED} {title: The provided relationship type is not in the database.} {description: One of the relationship types in your query is not available in the database, make sure you didn't misspell it or that the label is available when you run this statement in your application (the missing relationship type is: HAS_KEYWORD)} {position: line: 4, column: 38, offset: 180} for query: \"\\n        CALL db.index.vector.queryNodes('precedent_embedding', $limit * 2, $embedding)\\n        YIELD node AS precedent, score AS vector_score\\n        OPTIONAL MATCH (precedent)-[:HAS_KEYWORD]->(k:Keyword)\\n        WHERE k.text IN $keywords\\n        WITH precedent, vector_score, collect(DISTINCT k.text) AS keywords\\n        WITH precedent, vector_score + (size(keywords) * 0.1) AS final_score, keywords\\n        OPTIONAL MATCH (precedent)-[:REFERENCES_ARTICLE]->(ref_a:Article)\\n        WITH precedent, final_score, keywords, collect(DISTINCT ref_a.id) AS referenced_articles\\n        RETURN\\n            precedent.id AS id,\\n            'Precedent' AS type,\\n            precedent.name AS name,\\n            coalesce(precedent.full_summary, precedent.judgment_summary) AS text,\\n            final_score AS score,\\n            keywords,\\n            referenced_articles\\n        ORDER BY final_score DESC\\n        LIMIT $limit\\n        \"\n",
      "Received notification from DBMS server: {severity: WARNING} {code: Neo.ClientNotification.Statement.AggregationSkippedNull} {category: UNRECOGNIZED} {title: The query contains an aggregation function that skips null values.} {description: null value eliminated in set function.} {position: None} for query: \"\\n        CALL db.index.vector.queryNodes('precedent_embedding', $limit * 2, $embedding)\\n        YIELD node AS precedent, score AS vector_score\\n        OPTIONAL MATCH (precedent)-[:HAS_KEYWORD]->(k:Keyword)\\n        WHERE k.text IN $keywords\\n        WITH precedent, vector_score, collect(DISTINCT k.text) AS keywords\\n        WITH precedent, vector_score + (size(keywords) * 0.1) AS final_score, keywords\\n        OPTIONAL MATCH (precedent)-[:REFERENCES_ARTICLE]->(ref_a:Article)\\n        WITH precedent, final_score, keywords, collect(DISTINCT ref_a.id) AS referenced_articles\\n        RETURN\\n            precedent.id AS id,\\n            'Precedent' AS type,\\n            precedent.name AS name,\\n            coalesce(precedent.full_summary, precedent.judgment_summary) AS text,\\n            final_score AS score,\\n            keywords,\\n            referenced_articles\\n        ORDER BY final_score DESC\\n        LIMIT $limit\\n        \"\n"
     ]
    },
    {
     "name": "stdout",
     "output_type": "stream",
     "text": [
      "Context retrieval took 0.66 seconds.\n"
     ]
    },
    {
     "name": "stderr",
     "output_type": "stream",
     "text": [
      "Received notification from DBMS server: {severity: WARNING} {code: Neo.ClientNotification.Statement.UnknownRelationshipTypeWarning} {category: UNRECOGNIZED} {title: The provided relationship type is not in the database.} {description: One of the relationship types in your query is not available in the database, make sure you didn't misspell it or that the label is available when you run this statement in your application (the missing relationship type is: HAS_KEYWORD)} {position: line: 4, column: 38, offset: 180} for query: \"\\n        CALL db.index.vector.queryNodes('precedent_embedding', $limit * 2, $embedding)\\n        YIELD node AS precedent, score AS vector_score\\n        OPTIONAL MATCH (precedent)-[:HAS_KEYWORD]->(k:Keyword)\\n        WHERE k.text IN $keywords\\n        WITH precedent, vector_score, collect(DISTINCT k.text) AS keywords\\n        WITH precedent, vector_score + (size(keywords) * 0.1) AS final_score, keywords\\n        OPTIONAL MATCH (precedent)-[:REFERENCES_ARTICLE]->(ref_a:Article)\\n        WITH precedent, final_score, keywords, collect(DISTINCT ref_a.id) AS referenced_articles\\n        RETURN\\n            precedent.id AS id,\\n            'Precedent' AS type,\\n            precedent.name AS name,\\n            coalesce(precedent.full_summary, precedent.judgment_summary) AS text,\\n            final_score AS score,\\n            keywords,\\n            referenced_articles\\n        ORDER BY final_score DESC\\n        LIMIT $limit\\n        \"\n",
      "Received notification from DBMS server: {severity: WARNING} {code: Neo.ClientNotification.Statement.AggregationSkippedNull} {category: UNRECOGNIZED} {title: The query contains an aggregation function that skips null values.} {description: null value eliminated in set function.} {position: None} for query: \"\\n        CALL db.index.vector.queryNodes('precedent_embedding', $limit * 2, $embedding)\\n        YIELD node AS precedent, score AS vector_score\\n        OPTIONAL MATCH (precedent)-[:HAS_KEYWORD]->(k:Keyword)\\n        WHERE k.text IN $keywords\\n        WITH precedent, vector_score, collect(DISTINCT k.text) AS keywords\\n        WITH precedent, vector_score + (size(keywords) * 0.1) AS final_score, keywords\\n        OPTIONAL MATCH (precedent)-[:REFERENCES_ARTICLE]->(ref_a:Article)\\n        WITH precedent, final_score, keywords, collect(DISTINCT ref_a.id) AS referenced_articles\\n        RETURN\\n            precedent.id AS id,\\n            'Precedent' AS type,\\n            precedent.name AS name,\\n            coalesce(precedent.full_summary, precedent.judgment_summary) AS text,\\n            final_score AS score,\\n            keywords,\\n            referenced_articles\\n        ORDER BY final_score DESC\\n        LIMIT $limit\\n        \"\n"
     ]
    },
    {
     "name": "stdout",
     "output_type": "stream",
     "text": [
      "Context retrieval took 1.55 seconds.\n"
     ]
    },
    {
     "name": "stderr",
     "output_type": "stream",
     "text": [
      "Received notification from DBMS server: {severity: WARNING} {code: Neo.ClientNotification.Statement.AggregationSkippedNull} {category: UNRECOGNIZED} {title: The query contains an aggregation function that skips null values.} {description: null value eliminated in set function.} {position: None} for query: \"\\n        CALL db.index.vector.queryNodes('article_embedding', $limit * 2, $embedding)\\n        YIELD node AS article, score AS vector_score\\n        OPTIONAL MATCH (p:Precedent)-[:REFERENCES_ARTICLE]->(article)\\n        WITH article, vector_score, count(p) AS precedent_count\\n        WITH article, vector_score + (precedent_count * 0.05) AS final_score, precedent_count\\n        RETURN\\n            article.id AS id,\\n            'Article' AS type,\\n            article.text AS text,\\n            final_score AS score,\\n            precedent_count\\n        ORDER BY final_score DESC\\n        LIMIT $limit\\n        \"\n",
      "Received notification from DBMS server: {severity: WARNING} {code: Neo.ClientNotification.Statement.UnknownRelationshipTypeWarning} {category: UNRECOGNIZED} {title: The provided relationship type is not in the database.} {description: One of the relationship types in your query is not available in the database, make sure you didn't misspell it or that the label is available when you run this statement in your application (the missing relationship type is: HAS_KEYWORD)} {position: line: 4, column: 38, offset: 180} for query: \"\\n        CALL db.index.vector.queryNodes('precedent_embedding', $limit * 2, $embedding)\\n        YIELD node AS precedent, score AS vector_score\\n        OPTIONAL MATCH (precedent)-[:HAS_KEYWORD]->(k:Keyword)\\n        WHERE k.text IN $keywords\\n        WITH precedent, vector_score, collect(DISTINCT k.text) AS keywords\\n        WITH precedent, vector_score + (size(keywords) * 0.1) AS final_score, keywords\\n        OPTIONAL MATCH (precedent)-[:REFERENCES_ARTICLE]->(ref_a:Article)\\n        WITH precedent, final_score, keywords, collect(DISTINCT ref_a.id) AS referenced_articles\\n        RETURN\\n            precedent.id AS id,\\n            'Precedent' AS type,\\n            precedent.name AS name,\\n            coalesce(precedent.full_summary, precedent.judgment_summary) AS text,\\n            final_score AS score,\\n            keywords,\\n            referenced_articles\\n        ORDER BY final_score DESC\\n        LIMIT $limit\\n        \"\n",
      "Received notification from DBMS server: {severity: WARNING} {code: Neo.ClientNotification.Statement.AggregationSkippedNull} {category: UNRECOGNIZED} {title: The query contains an aggregation function that skips null values.} {description: null value eliminated in set function.} {position: None} for query: \"\\n        CALL db.index.vector.queryNodes('precedent_embedding', $limit * 2, $embedding)\\n        YIELD node AS precedent, score AS vector_score\\n        OPTIONAL MATCH (precedent)-[:HAS_KEYWORD]->(k:Keyword)\\n        WHERE k.text IN $keywords\\n        WITH precedent, vector_score, collect(DISTINCT k.text) AS keywords\\n        WITH precedent, vector_score + (size(keywords) * 0.1) AS final_score, keywords\\n        OPTIONAL MATCH (precedent)-[:REFERENCES_ARTICLE]->(ref_a:Article)\\n        WITH precedent, final_score, keywords, collect(DISTINCT ref_a.id) AS referenced_articles\\n        RETURN\\n            precedent.id AS id,\\n            'Precedent' AS type,\\n            precedent.name AS name,\\n            coalesce(precedent.full_summary, precedent.judgment_summary) AS text,\\n            final_score AS score,\\n            keywords,\\n            referenced_articles\\n        ORDER BY final_score DESC\\n        LIMIT $limit\\n        \"\n"
     ]
    },
    {
     "name": "stdout",
     "output_type": "stream",
     "text": [
      "Context retrieval took 0.72 seconds.\n"
     ]
    },
    {
     "name": "stderr",
     "output_type": "stream",
     "text": [
      "Received notification from DBMS server: {severity: WARNING} {code: Neo.ClientNotification.Statement.AggregationSkippedNull} {category: UNRECOGNIZED} {title: The query contains an aggregation function that skips null values.} {description: null value eliminated in set function.} {position: None} for query: \"\\n        CALL db.index.vector.queryNodes('article_embedding', $limit * 2, $embedding)\\n        YIELD node AS article, score AS vector_score\\n        OPTIONAL MATCH (p:Precedent)-[:REFERENCES_ARTICLE]->(article)\\n        WITH article, vector_score, count(p) AS precedent_count\\n        WITH article, vector_score + (precedent_count * 0.05) AS final_score, precedent_count\\n        RETURN\\n            article.id AS id,\\n            'Article' AS type,\\n            article.text AS text,\\n            final_score AS score,\\n            precedent_count\\n        ORDER BY final_score DESC\\n        LIMIT $limit\\n        \"\n",
      "Received notification from DBMS server: {severity: WARNING} {code: Neo.ClientNotification.Statement.UnknownRelationshipTypeWarning} {category: UNRECOGNIZED} {title: The provided relationship type is not in the database.} {description: One of the relationship types in your query is not available in the database, make sure you didn't misspell it or that the label is available when you run this statement in your application (the missing relationship type is: HAS_KEYWORD)} {position: line: 4, column: 38, offset: 180} for query: \"\\n        CALL db.index.vector.queryNodes('precedent_embedding', $limit * 2, $embedding)\\n        YIELD node AS precedent, score AS vector_score\\n        OPTIONAL MATCH (precedent)-[:HAS_KEYWORD]->(k:Keyword)\\n        WHERE k.text IN $keywords\\n        WITH precedent, vector_score, collect(DISTINCT k.text) AS keywords\\n        WITH precedent, vector_score + (size(keywords) * 0.1) AS final_score, keywords\\n        OPTIONAL MATCH (precedent)-[:REFERENCES_ARTICLE]->(ref_a:Article)\\n        WITH precedent, final_score, keywords, collect(DISTINCT ref_a.id) AS referenced_articles\\n        RETURN\\n            precedent.id AS id,\\n            'Precedent' AS type,\\n            precedent.name AS name,\\n            coalesce(precedent.full_summary, precedent.judgment_summary) AS text,\\n            final_score AS score,\\n            keywords,\\n            referenced_articles\\n        ORDER BY final_score DESC\\n        LIMIT $limit\\n        \"\n",
      "Received notification from DBMS server: {severity: WARNING} {code: Neo.ClientNotification.Statement.AggregationSkippedNull} {category: UNRECOGNIZED} {title: The query contains an aggregation function that skips null values.} {description: null value eliminated in set function.} {position: None} for query: \"\\n        CALL db.index.vector.queryNodes('precedent_embedding', $limit * 2, $embedding)\\n        YIELD node AS precedent, score AS vector_score\\n        OPTIONAL MATCH (precedent)-[:HAS_KEYWORD]->(k:Keyword)\\n        WHERE k.text IN $keywords\\n        WITH precedent, vector_score, collect(DISTINCT k.text) AS keywords\\n        WITH precedent, vector_score + (size(keywords) * 0.1) AS final_score, keywords\\n        OPTIONAL MATCH (precedent)-[:REFERENCES_ARTICLE]->(ref_a:Article)\\n        WITH precedent, final_score, keywords, collect(DISTINCT ref_a.id) AS referenced_articles\\n        RETURN\\n            precedent.id AS id,\\n            'Precedent' AS type,\\n            precedent.name AS name,\\n            coalesce(precedent.full_summary, precedent.judgment_summary) AS text,\\n            final_score AS score,\\n            keywords,\\n            referenced_articles\\n        ORDER BY final_score DESC\\n        LIMIT $limit\\n        \"\n"
     ]
    },
    {
     "name": "stdout",
     "output_type": "stream",
     "text": [
      "Context retrieval took 0.54 seconds.\n"
     ]
    },
    {
     "name": "stderr",
     "output_type": "stream",
     "text": [
      "Received notification from DBMS server: {severity: WARNING} {code: Neo.ClientNotification.Statement.UnknownRelationshipTypeWarning} {category: UNRECOGNIZED} {title: The provided relationship type is not in the database.} {description: One of the relationship types in your query is not available in the database, make sure you didn't misspell it or that the label is available when you run this statement in your application (the missing relationship type is: HAS_KEYWORD)} {position: line: 4, column: 38, offset: 180} for query: \"\\n        CALL db.index.vector.queryNodes('precedent_embedding', $limit * 2, $embedding)\\n        YIELD node AS precedent, score AS vector_score\\n        OPTIONAL MATCH (precedent)-[:HAS_KEYWORD]->(k:Keyword)\\n        WHERE k.text IN $keywords\\n        WITH precedent, vector_score, collect(DISTINCT k.text) AS keywords\\n        WITH precedent, vector_score + (size(keywords) * 0.1) AS final_score, keywords\\n        OPTIONAL MATCH (precedent)-[:REFERENCES_ARTICLE]->(ref_a:Article)\\n        WITH precedent, final_score, keywords, collect(DISTINCT ref_a.id) AS referenced_articles\\n        RETURN\\n            precedent.id AS id,\\n            'Precedent' AS type,\\n            precedent.name AS name,\\n            coalesce(precedent.full_summary, precedent.judgment_summary) AS text,\\n            final_score AS score,\\n            keywords,\\n            referenced_articles\\n        ORDER BY final_score DESC\\n        LIMIT $limit\\n        \"\n",
      "Received notification from DBMS server: {severity: WARNING} {code: Neo.ClientNotification.Statement.AggregationSkippedNull} {category: UNRECOGNIZED} {title: The query contains an aggregation function that skips null values.} {description: null value eliminated in set function.} {position: None} for query: \"\\n        CALL db.index.vector.queryNodes('precedent_embedding', $limit * 2, $embedding)\\n        YIELD node AS precedent, score AS vector_score\\n        OPTIONAL MATCH (precedent)-[:HAS_KEYWORD]->(k:Keyword)\\n        WHERE k.text IN $keywords\\n        WITH precedent, vector_score, collect(DISTINCT k.text) AS keywords\\n        WITH precedent, vector_score + (size(keywords) * 0.1) AS final_score, keywords\\n        OPTIONAL MATCH (precedent)-[:REFERENCES_ARTICLE]->(ref_a:Article)\\n        WITH precedent, final_score, keywords, collect(DISTINCT ref_a.id) AS referenced_articles\\n        RETURN\\n            precedent.id AS id,\\n            'Precedent' AS type,\\n            precedent.name AS name,\\n            coalesce(precedent.full_summary, precedent.judgment_summary) AS text,\\n            final_score AS score,\\n            keywords,\\n            referenced_articles\\n        ORDER BY final_score DESC\\n        LIMIT $limit\\n        \"\n"
     ]
    },
    {
     "name": "stdout",
     "output_type": "stream",
     "text": [
      "Context retrieval took 0.52 seconds.\n"
     ]
    },
    {
     "name": "stderr",
     "output_type": "stream",
     "text": [
      "Received notification from DBMS server: {severity: WARNING} {code: Neo.ClientNotification.Statement.UnknownRelationshipTypeWarning} {category: UNRECOGNIZED} {title: The provided relationship type is not in the database.} {description: One of the relationship types in your query is not available in the database, make sure you didn't misspell it or that the label is available when you run this statement in your application (the missing relationship type is: HAS_KEYWORD)} {position: line: 4, column: 38, offset: 180} for query: \"\\n        CALL db.index.vector.queryNodes('precedent_embedding', $limit * 2, $embedding)\\n        YIELD node AS precedent, score AS vector_score\\n        OPTIONAL MATCH (precedent)-[:HAS_KEYWORD]->(k:Keyword)\\n        WHERE k.text IN $keywords\\n        WITH precedent, vector_score, collect(DISTINCT k.text) AS keywords\\n        WITH precedent, vector_score + (size(keywords) * 0.1) AS final_score, keywords\\n        OPTIONAL MATCH (precedent)-[:REFERENCES_ARTICLE]->(ref_a:Article)\\n        WITH precedent, final_score, keywords, collect(DISTINCT ref_a.id) AS referenced_articles\\n        RETURN\\n            precedent.id AS id,\\n            'Precedent' AS type,\\n            precedent.name AS name,\\n            coalesce(precedent.full_summary, precedent.judgment_summary) AS text,\\n            final_score AS score,\\n            keywords,\\n            referenced_articles\\n        ORDER BY final_score DESC\\n        LIMIT $limit\\n        \"\n",
      "Received notification from DBMS server: {severity: WARNING} {code: Neo.ClientNotification.Statement.AggregationSkippedNull} {category: UNRECOGNIZED} {title: The query contains an aggregation function that skips null values.} {description: null value eliminated in set function.} {position: None} for query: \"\\n        CALL db.index.vector.queryNodes('precedent_embedding', $limit * 2, $embedding)\\n        YIELD node AS precedent, score AS vector_score\\n        OPTIONAL MATCH (precedent)-[:HAS_KEYWORD]->(k:Keyword)\\n        WHERE k.text IN $keywords\\n        WITH precedent, vector_score, collect(DISTINCT k.text) AS keywords\\n        WITH precedent, vector_score + (size(keywords) * 0.1) AS final_score, keywords\\n        OPTIONAL MATCH (precedent)-[:REFERENCES_ARTICLE]->(ref_a:Article)\\n        WITH precedent, final_score, keywords, collect(DISTINCT ref_a.id) AS referenced_articles\\n        RETURN\\n            precedent.id AS id,\\n            'Precedent' AS type,\\n            precedent.name AS name,\\n            coalesce(precedent.full_summary, precedent.judgment_summary) AS text,\\n            final_score AS score,\\n            keywords,\\n            referenced_articles\\n        ORDER BY final_score DESC\\n        LIMIT $limit\\n        \"\n"
     ]
    },
    {
     "name": "stdout",
     "output_type": "stream",
     "text": [
      "Context retrieval took 1.05 seconds.\n"
     ]
    },
    {
     "name": "stderr",
     "output_type": "stream",
     "text": [
      "Received notification from DBMS server: {severity: WARNING} {code: Neo.ClientNotification.Statement.AggregationSkippedNull} {category: UNRECOGNIZED} {title: The query contains an aggregation function that skips null values.} {description: null value eliminated in set function.} {position: None} for query: \"\\n        CALL db.index.vector.queryNodes('article_embedding', $limit * 2, $embedding)\\n        YIELD node AS article, score AS vector_score\\n        OPTIONAL MATCH (p:Precedent)-[:REFERENCES_ARTICLE]->(article)\\n        WITH article, vector_score, count(p) AS precedent_count\\n        WITH article, vector_score + (precedent_count * 0.05) AS final_score, precedent_count\\n        RETURN\\n            article.id AS id,\\n            'Article' AS type,\\n            article.text AS text,\\n            final_score AS score,\\n            precedent_count\\n        ORDER BY final_score DESC\\n        LIMIT $limit\\n        \"\n",
      "Received notification from DBMS server: {severity: WARNING} {code: Neo.ClientNotification.Statement.UnknownRelationshipTypeWarning} {category: UNRECOGNIZED} {title: The provided relationship type is not in the database.} {description: One of the relationship types in your query is not available in the database, make sure you didn't misspell it or that the label is available when you run this statement in your application (the missing relationship type is: HAS_KEYWORD)} {position: line: 4, column: 38, offset: 180} for query: \"\\n        CALL db.index.vector.queryNodes('precedent_embedding', $limit * 2, $embedding)\\n        YIELD node AS precedent, score AS vector_score\\n        OPTIONAL MATCH (precedent)-[:HAS_KEYWORD]->(k:Keyword)\\n        WHERE k.text IN $keywords\\n        WITH precedent, vector_score, collect(DISTINCT k.text) AS keywords\\n        WITH precedent, vector_score + (size(keywords) * 0.1) AS final_score, keywords\\n        OPTIONAL MATCH (precedent)-[:REFERENCES_ARTICLE]->(ref_a:Article)\\n        WITH precedent, final_score, keywords, collect(DISTINCT ref_a.id) AS referenced_articles\\n        RETURN\\n            precedent.id AS id,\\n            'Precedent' AS type,\\n            precedent.name AS name,\\n            coalesce(precedent.full_summary, precedent.judgment_summary) AS text,\\n            final_score AS score,\\n            keywords,\\n            referenced_articles\\n        ORDER BY final_score DESC\\n        LIMIT $limit\\n        \"\n",
      "Received notification from DBMS server: {severity: WARNING} {code: Neo.ClientNotification.Statement.AggregationSkippedNull} {category: UNRECOGNIZED} {title: The query contains an aggregation function that skips null values.} {description: null value eliminated in set function.} {position: None} for query: \"\\n        CALL db.index.vector.queryNodes('precedent_embedding', $limit * 2, $embedding)\\n        YIELD node AS precedent, score AS vector_score\\n        OPTIONAL MATCH (precedent)-[:HAS_KEYWORD]->(k:Keyword)\\n        WHERE k.text IN $keywords\\n        WITH precedent, vector_score, collect(DISTINCT k.text) AS keywords\\n        WITH precedent, vector_score + (size(keywords) * 0.1) AS final_score, keywords\\n        OPTIONAL MATCH (precedent)-[:REFERENCES_ARTICLE]->(ref_a:Article)\\n        WITH precedent, final_score, keywords, collect(DISTINCT ref_a.id) AS referenced_articles\\n        RETURN\\n            precedent.id AS id,\\n            'Precedent' AS type,\\n            precedent.name AS name,\\n            coalesce(precedent.full_summary, precedent.judgment_summary) AS text,\\n            final_score AS score,\\n            keywords,\\n            referenced_articles\\n        ORDER BY final_score DESC\\n        LIMIT $limit\\n        \"\n"
     ]
    },
    {
     "name": "stdout",
     "output_type": "stream",
     "text": [
      "Context retrieval took 0.77 seconds.\n"
     ]
    },
    {
     "name": "stderr",
     "output_type": "stream",
     "text": [
      "Received notification from DBMS server: {severity: WARNING} {code: Neo.ClientNotification.Statement.UnknownRelationshipTypeWarning} {category: UNRECOGNIZED} {title: The provided relationship type is not in the database.} {description: One of the relationship types in your query is not available in the database, make sure you didn't misspell it or that the label is available when you run this statement in your application (the missing relationship type is: HAS_KEYWORD)} {position: line: 4, column: 38, offset: 180} for query: \"\\n        CALL db.index.vector.queryNodes('precedent_embedding', $limit * 2, $embedding)\\n        YIELD node AS precedent, score AS vector_score\\n        OPTIONAL MATCH (precedent)-[:HAS_KEYWORD]->(k:Keyword)\\n        WHERE k.text IN $keywords\\n        WITH precedent, vector_score, collect(DISTINCT k.text) AS keywords\\n        WITH precedent, vector_score + (size(keywords) * 0.1) AS final_score, keywords\\n        OPTIONAL MATCH (precedent)-[:REFERENCES_ARTICLE]->(ref_a:Article)\\n        WITH precedent, final_score, keywords, collect(DISTINCT ref_a.id) AS referenced_articles\\n        RETURN\\n            precedent.id AS id,\\n            'Precedent' AS type,\\n            precedent.name AS name,\\n            coalesce(precedent.full_summary, precedent.judgment_summary) AS text,\\n            final_score AS score,\\n            keywords,\\n            referenced_articles\\n        ORDER BY final_score DESC\\n        LIMIT $limit\\n        \"\n",
      "Received notification from DBMS server: {severity: WARNING} {code: Neo.ClientNotification.Statement.AggregationSkippedNull} {category: UNRECOGNIZED} {title: The query contains an aggregation function that skips null values.} {description: null value eliminated in set function.} {position: None} for query: \"\\n        CALL db.index.vector.queryNodes('precedent_embedding', $limit * 2, $embedding)\\n        YIELD node AS precedent, score AS vector_score\\n        OPTIONAL MATCH (precedent)-[:HAS_KEYWORD]->(k:Keyword)\\n        WHERE k.text IN $keywords\\n        WITH precedent, vector_score, collect(DISTINCT k.text) AS keywords\\n        WITH precedent, vector_score + (size(keywords) * 0.1) AS final_score, keywords\\n        OPTIONAL MATCH (precedent)-[:REFERENCES_ARTICLE]->(ref_a:Article)\\n        WITH precedent, final_score, keywords, collect(DISTINCT ref_a.id) AS referenced_articles\\n        RETURN\\n            precedent.id AS id,\\n            'Precedent' AS type,\\n            precedent.name AS name,\\n            coalesce(precedent.full_summary, precedent.judgment_summary) AS text,\\n            final_score AS score,\\n            keywords,\\n            referenced_articles\\n        ORDER BY final_score DESC\\n        LIMIT $limit\\n        \"\n"
     ]
    },
    {
     "name": "stdout",
     "output_type": "stream",
     "text": [
      "Context retrieval took 0.66 seconds.\n"
     ]
    },
    {
     "name": "stderr",
     "output_type": "stream",
     "text": [
      "Received notification from DBMS server: {severity: WARNING} {code: Neo.ClientNotification.Statement.AggregationSkippedNull} {category: UNRECOGNIZED} {title: The query contains an aggregation function that skips null values.} {description: null value eliminated in set function.} {position: None} for query: \"\\n        CALL db.index.vector.queryNodes('article_embedding', $limit * 2, $embedding)\\n        YIELD node AS article, score AS vector_score\\n        OPTIONAL MATCH (p:Precedent)-[:REFERENCES_ARTICLE]->(article)\\n        WITH article, vector_score, count(p) AS precedent_count\\n        WITH article, vector_score + (precedent_count * 0.05) AS final_score, precedent_count\\n        RETURN\\n            article.id AS id,\\n            'Article' AS type,\\n            article.text AS text,\\n            final_score AS score,\\n            precedent_count\\n        ORDER BY final_score DESC\\n        LIMIT $limit\\n        \"\n",
      "Received notification from DBMS server: {severity: WARNING} {code: Neo.ClientNotification.Statement.UnknownRelationshipTypeWarning} {category: UNRECOGNIZED} {title: The provided relationship type is not in the database.} {description: One of the relationship types in your query is not available in the database, make sure you didn't misspell it or that the label is available when you run this statement in your application (the missing relationship type is: HAS_KEYWORD)} {position: line: 4, column: 38, offset: 180} for query: \"\\n        CALL db.index.vector.queryNodes('precedent_embedding', $limit * 2, $embedding)\\n        YIELD node AS precedent, score AS vector_score\\n        OPTIONAL MATCH (precedent)-[:HAS_KEYWORD]->(k:Keyword)\\n        WHERE k.text IN $keywords\\n        WITH precedent, vector_score, collect(DISTINCT k.text) AS keywords\\n        WITH precedent, vector_score + (size(keywords) * 0.1) AS final_score, keywords\\n        OPTIONAL MATCH (precedent)-[:REFERENCES_ARTICLE]->(ref_a:Article)\\n        WITH precedent, final_score, keywords, collect(DISTINCT ref_a.id) AS referenced_articles\\n        RETURN\\n            precedent.id AS id,\\n            'Precedent' AS type,\\n            precedent.name AS name,\\n            coalesce(precedent.full_summary, precedent.judgment_summary) AS text,\\n            final_score AS score,\\n            keywords,\\n            referenced_articles\\n        ORDER BY final_score DESC\\n        LIMIT $limit\\n        \"\n",
      "Received notification from DBMS server: {severity: WARNING} {code: Neo.ClientNotification.Statement.AggregationSkippedNull} {category: UNRECOGNIZED} {title: The query contains an aggregation function that skips null values.} {description: null value eliminated in set function.} {position: None} for query: \"\\n        CALL db.index.vector.queryNodes('precedent_embedding', $limit * 2, $embedding)\\n        YIELD node AS precedent, score AS vector_score\\n        OPTIONAL MATCH (precedent)-[:HAS_KEYWORD]->(k:Keyword)\\n        WHERE k.text IN $keywords\\n        WITH precedent, vector_score, collect(DISTINCT k.text) AS keywords\\n        WITH precedent, vector_score + (size(keywords) * 0.1) AS final_score, keywords\\n        OPTIONAL MATCH (precedent)-[:REFERENCES_ARTICLE]->(ref_a:Article)\\n        WITH precedent, final_score, keywords, collect(DISTINCT ref_a.id) AS referenced_articles\\n        RETURN\\n            precedent.id AS id,\\n            'Precedent' AS type,\\n            precedent.name AS name,\\n            coalesce(precedent.full_summary, precedent.judgment_summary) AS text,\\n            final_score AS score,\\n            keywords,\\n            referenced_articles\\n        ORDER BY final_score DESC\\n        LIMIT $limit\\n        \"\n"
     ]
    },
    {
     "name": "stdout",
     "output_type": "stream",
     "text": [
      "Context retrieval took 0.53 seconds.\n"
     ]
    },
    {
     "name": "stderr",
     "output_type": "stream",
     "text": [
      "Received notification from DBMS server: {severity: WARNING} {code: Neo.ClientNotification.Statement.UnknownRelationshipTypeWarning} {category: UNRECOGNIZED} {title: The provided relationship type is not in the database.} {description: One of the relationship types in your query is not available in the database, make sure you didn't misspell it or that the label is available when you run this statement in your application (the missing relationship type is: HAS_KEYWORD)} {position: line: 4, column: 38, offset: 180} for query: \"\\n        CALL db.index.vector.queryNodes('precedent_embedding', $limit * 2, $embedding)\\n        YIELD node AS precedent, score AS vector_score\\n        OPTIONAL MATCH (precedent)-[:HAS_KEYWORD]->(k:Keyword)\\n        WHERE k.text IN $keywords\\n        WITH precedent, vector_score, collect(DISTINCT k.text) AS keywords\\n        WITH precedent, vector_score + (size(keywords) * 0.1) AS final_score, keywords\\n        OPTIONAL MATCH (precedent)-[:REFERENCES_ARTICLE]->(ref_a:Article)\\n        WITH precedent, final_score, keywords, collect(DISTINCT ref_a.id) AS referenced_articles\\n        RETURN\\n            precedent.id AS id,\\n            'Precedent' AS type,\\n            precedent.name AS name,\\n            coalesce(precedent.full_summary, precedent.judgment_summary) AS text,\\n            final_score AS score,\\n            keywords,\\n            referenced_articles\\n        ORDER BY final_score DESC\\n        LIMIT $limit\\n        \"\n",
      "Received notification from DBMS server: {severity: WARNING} {code: Neo.ClientNotification.Statement.AggregationSkippedNull} {category: UNRECOGNIZED} {title: The query contains an aggregation function that skips null values.} {description: null value eliminated in set function.} {position: None} for query: \"\\n        CALL db.index.vector.queryNodes('precedent_embedding', $limit * 2, $embedding)\\n        YIELD node AS precedent, score AS vector_score\\n        OPTIONAL MATCH (precedent)-[:HAS_KEYWORD]->(k:Keyword)\\n        WHERE k.text IN $keywords\\n        WITH precedent, vector_score, collect(DISTINCT k.text) AS keywords\\n        WITH precedent, vector_score + (size(keywords) * 0.1) AS final_score, keywords\\n        OPTIONAL MATCH (precedent)-[:REFERENCES_ARTICLE]->(ref_a:Article)\\n        WITH precedent, final_score, keywords, collect(DISTINCT ref_a.id) AS referenced_articles\\n        RETURN\\n            precedent.id AS id,\\n            'Precedent' AS type,\\n            precedent.name AS name,\\n            coalesce(precedent.full_summary, precedent.judgment_summary) AS text,\\n            final_score AS score,\\n            keywords,\\n            referenced_articles\\n        ORDER BY final_score DESC\\n        LIMIT $limit\\n        \"\n"
     ]
    },
    {
     "name": "stdout",
     "output_type": "stream",
     "text": [
      "Context retrieval took 0.65 seconds.\n"
     ]
    },
    {
     "name": "stderr",
     "output_type": "stream",
     "text": [
      "Received notification from DBMS server: {severity: WARNING} {code: Neo.ClientNotification.Statement.AggregationSkippedNull} {category: UNRECOGNIZED} {title: The query contains an aggregation function that skips null values.} {description: null value eliminated in set function.} {position: None} for query: \"\\n        CALL db.index.vector.queryNodes('article_embedding', $limit * 2, $embedding)\\n        YIELD node AS article, score AS vector_score\\n        OPTIONAL MATCH (p:Precedent)-[:REFERENCES_ARTICLE]->(article)\\n        WITH article, vector_score, count(p) AS precedent_count\\n        WITH article, vector_score + (precedent_count * 0.05) AS final_score, precedent_count\\n        RETURN\\n            article.id AS id,\\n            'Article' AS type,\\n            article.text AS text,\\n            final_score AS score,\\n            precedent_count\\n        ORDER BY final_score DESC\\n        LIMIT $limit\\n        \"\n",
      "Received notification from DBMS server: {severity: WARNING} {code: Neo.ClientNotification.Statement.UnknownRelationshipTypeWarning} {category: UNRECOGNIZED} {title: The provided relationship type is not in the database.} {description: One of the relationship types in your query is not available in the database, make sure you didn't misspell it or that the label is available when you run this statement in your application (the missing relationship type is: HAS_KEYWORD)} {position: line: 4, column: 38, offset: 180} for query: \"\\n        CALL db.index.vector.queryNodes('precedent_embedding', $limit * 2, $embedding)\\n        YIELD node AS precedent, score AS vector_score\\n        OPTIONAL MATCH (precedent)-[:HAS_KEYWORD]->(k:Keyword)\\n        WHERE k.text IN $keywords\\n        WITH precedent, vector_score, collect(DISTINCT k.text) AS keywords\\n        WITH precedent, vector_score + (size(keywords) * 0.1) AS final_score, keywords\\n        OPTIONAL MATCH (precedent)-[:REFERENCES_ARTICLE]->(ref_a:Article)\\n        WITH precedent, final_score, keywords, collect(DISTINCT ref_a.id) AS referenced_articles\\n        RETURN\\n            precedent.id AS id,\\n            'Precedent' AS type,\\n            precedent.name AS name,\\n            coalesce(precedent.full_summary, precedent.judgment_summary) AS text,\\n            final_score AS score,\\n            keywords,\\n            referenced_articles\\n        ORDER BY final_score DESC\\n        LIMIT $limit\\n        \"\n",
      "Received notification from DBMS server: {severity: WARNING} {code: Neo.ClientNotification.Statement.AggregationSkippedNull} {category: UNRECOGNIZED} {title: The query contains an aggregation function that skips null values.} {description: null value eliminated in set function.} {position: None} for query: \"\\n        CALL db.index.vector.queryNodes('precedent_embedding', $limit * 2, $embedding)\\n        YIELD node AS precedent, score AS vector_score\\n        OPTIONAL MATCH (precedent)-[:HAS_KEYWORD]->(k:Keyword)\\n        WHERE k.text IN $keywords\\n        WITH precedent, vector_score, collect(DISTINCT k.text) AS keywords\\n        WITH precedent, vector_score + (size(keywords) * 0.1) AS final_score, keywords\\n        OPTIONAL MATCH (precedent)-[:REFERENCES_ARTICLE]->(ref_a:Article)\\n        WITH precedent, final_score, keywords, collect(DISTINCT ref_a.id) AS referenced_articles\\n        RETURN\\n            precedent.id AS id,\\n            'Precedent' AS type,\\n            precedent.name AS name,\\n            coalesce(precedent.full_summary, precedent.judgment_summary) AS text,\\n            final_score AS score,\\n            keywords,\\n            referenced_articles\\n        ORDER BY final_score DESC\\n        LIMIT $limit\\n        \"\n"
     ]
    },
    {
     "name": "stdout",
     "output_type": "stream",
     "text": [
      "Context retrieval took 0.74 seconds.\n"
     ]
    },
    {
     "name": "stderr",
     "output_type": "stream",
     "text": [
      "Received notification from DBMS server: {severity: WARNING} {code: Neo.ClientNotification.Statement.UnknownRelationshipTypeWarning} {category: UNRECOGNIZED} {title: The provided relationship type is not in the database.} {description: One of the relationship types in your query is not available in the database, make sure you didn't misspell it or that the label is available when you run this statement in your application (the missing relationship type is: HAS_KEYWORD)} {position: line: 4, column: 38, offset: 180} for query: \"\\n        CALL db.index.vector.queryNodes('precedent_embedding', $limit * 2, $embedding)\\n        YIELD node AS precedent, score AS vector_score\\n        OPTIONAL MATCH (precedent)-[:HAS_KEYWORD]->(k:Keyword)\\n        WHERE k.text IN $keywords\\n        WITH precedent, vector_score, collect(DISTINCT k.text) AS keywords\\n        WITH precedent, vector_score + (size(keywords) * 0.1) AS final_score, keywords\\n        OPTIONAL MATCH (precedent)-[:REFERENCES_ARTICLE]->(ref_a:Article)\\n        WITH precedent, final_score, keywords, collect(DISTINCT ref_a.id) AS referenced_articles\\n        RETURN\\n            precedent.id AS id,\\n            'Precedent' AS type,\\n            precedent.name AS name,\\n            coalesce(precedent.full_summary, precedent.judgment_summary) AS text,\\n            final_score AS score,\\n            keywords,\\n            referenced_articles\\n        ORDER BY final_score DESC\\n        LIMIT $limit\\n        \"\n",
      "Received notification from DBMS server: {severity: WARNING} {code: Neo.ClientNotification.Statement.AggregationSkippedNull} {category: UNRECOGNIZED} {title: The query contains an aggregation function that skips null values.} {description: null value eliminated in set function.} {position: None} for query: \"\\n        CALL db.index.vector.queryNodes('precedent_embedding', $limit * 2, $embedding)\\n        YIELD node AS precedent, score AS vector_score\\n        OPTIONAL MATCH (precedent)-[:HAS_KEYWORD]->(k:Keyword)\\n        WHERE k.text IN $keywords\\n        WITH precedent, vector_score, collect(DISTINCT k.text) AS keywords\\n        WITH precedent, vector_score + (size(keywords) * 0.1) AS final_score, keywords\\n        OPTIONAL MATCH (precedent)-[:REFERENCES_ARTICLE]->(ref_a:Article)\\n        WITH precedent, final_score, keywords, collect(DISTINCT ref_a.id) AS referenced_articles\\n        RETURN\\n            precedent.id AS id,\\n            'Precedent' AS type,\\n            precedent.name AS name,\\n            coalesce(precedent.full_summary, precedent.judgment_summary) AS text,\\n            final_score AS score,\\n            keywords,\\n            referenced_articles\\n        ORDER BY final_score DESC\\n        LIMIT $limit\\n        \"\n"
     ]
    },
    {
     "name": "stdout",
     "output_type": "stream",
     "text": [
      "Context retrieval took 0.66 seconds.\n"
     ]
    },
    {
     "name": "stderr",
     "output_type": "stream",
     "text": [
      "Received notification from DBMS server: {severity: WARNING} {code: Neo.ClientNotification.Statement.AggregationSkippedNull} {category: UNRECOGNIZED} {title: The query contains an aggregation function that skips null values.} {description: null value eliminated in set function.} {position: None} for query: \"\\n        CALL db.index.vector.queryNodes('article_embedding', $limit * 2, $embedding)\\n        YIELD node AS article, score AS vector_score\\n        OPTIONAL MATCH (p:Precedent)-[:REFERENCES_ARTICLE]->(article)\\n        WITH article, vector_score, count(p) AS precedent_count\\n        WITH article, vector_score + (precedent_count * 0.05) AS final_score, precedent_count\\n        RETURN\\n            article.id AS id,\\n            'Article' AS type,\\n            article.text AS text,\\n            final_score AS score,\\n            precedent_count\\n        ORDER BY final_score DESC\\n        LIMIT $limit\\n        \"\n",
      "Received notification from DBMS server: {severity: WARNING} {code: Neo.ClientNotification.Statement.UnknownRelationshipTypeWarning} {category: UNRECOGNIZED} {title: The provided relationship type is not in the database.} {description: One of the relationship types in your query is not available in the database, make sure you didn't misspell it or that the label is available when you run this statement in your application (the missing relationship type is: HAS_KEYWORD)} {position: line: 4, column: 38, offset: 180} for query: \"\\n        CALL db.index.vector.queryNodes('precedent_embedding', $limit * 2, $embedding)\\n        YIELD node AS precedent, score AS vector_score\\n        OPTIONAL MATCH (precedent)-[:HAS_KEYWORD]->(k:Keyword)\\n        WHERE k.text IN $keywords\\n        WITH precedent, vector_score, collect(DISTINCT k.text) AS keywords\\n        WITH precedent, vector_score + (size(keywords) * 0.1) AS final_score, keywords\\n        OPTIONAL MATCH (precedent)-[:REFERENCES_ARTICLE]->(ref_a:Article)\\n        WITH precedent, final_score, keywords, collect(DISTINCT ref_a.id) AS referenced_articles\\n        RETURN\\n            precedent.id AS id,\\n            'Precedent' AS type,\\n            precedent.name AS name,\\n            coalesce(precedent.full_summary, precedent.judgment_summary) AS text,\\n            final_score AS score,\\n            keywords,\\n            referenced_articles\\n        ORDER BY final_score DESC\\n        LIMIT $limit\\n        \"\n",
      "Received notification from DBMS server: {severity: WARNING} {code: Neo.ClientNotification.Statement.AggregationSkippedNull} {category: UNRECOGNIZED} {title: The query contains an aggregation function that skips null values.} {description: null value eliminated in set function.} {position: None} for query: \"\\n        CALL db.index.vector.queryNodes('precedent_embedding', $limit * 2, $embedding)\\n        YIELD node AS precedent, score AS vector_score\\n        OPTIONAL MATCH (precedent)-[:HAS_KEYWORD]->(k:Keyword)\\n        WHERE k.text IN $keywords\\n        WITH precedent, vector_score, collect(DISTINCT k.text) AS keywords\\n        WITH precedent, vector_score + (size(keywords) * 0.1) AS final_score, keywords\\n        OPTIONAL MATCH (precedent)-[:REFERENCES_ARTICLE]->(ref_a:Article)\\n        WITH precedent, final_score, keywords, collect(DISTINCT ref_a.id) AS referenced_articles\\n        RETURN\\n            precedent.id AS id,\\n            'Precedent' AS type,\\n            precedent.name AS name,\\n            coalesce(precedent.full_summary, precedent.judgment_summary) AS text,\\n            final_score AS score,\\n            keywords,\\n            referenced_articles\\n        ORDER BY final_score DESC\\n        LIMIT $limit\\n        \"\n"
     ]
    },
    {
     "name": "stdout",
     "output_type": "stream",
     "text": [
      "Context retrieval took 0.56 seconds.\n"
     ]
    },
    {
     "name": "stderr",
     "output_type": "stream",
     "text": [
      "Received notification from DBMS server: {severity: WARNING} {code: Neo.ClientNotification.Statement.UnknownRelationshipTypeWarning} {category: UNRECOGNIZED} {title: The provided relationship type is not in the database.} {description: One of the relationship types in your query is not available in the database, make sure you didn't misspell it or that the label is available when you run this statement in your application (the missing relationship type is: HAS_KEYWORD)} {position: line: 4, column: 38, offset: 180} for query: \"\\n        CALL db.index.vector.queryNodes('precedent_embedding', $limit * 2, $embedding)\\n        YIELD node AS precedent, score AS vector_score\\n        OPTIONAL MATCH (precedent)-[:HAS_KEYWORD]->(k:Keyword)\\n        WHERE k.text IN $keywords\\n        WITH precedent, vector_score, collect(DISTINCT k.text) AS keywords\\n        WITH precedent, vector_score + (size(keywords) * 0.1) AS final_score, keywords\\n        OPTIONAL MATCH (precedent)-[:REFERENCES_ARTICLE]->(ref_a:Article)\\n        WITH precedent, final_score, keywords, collect(DISTINCT ref_a.id) AS referenced_articles\\n        RETURN\\n            precedent.id AS id,\\n            'Precedent' AS type,\\n            precedent.name AS name,\\n            coalesce(precedent.full_summary, precedent.judgment_summary) AS text,\\n            final_score AS score,\\n            keywords,\\n            referenced_articles\\n        ORDER BY final_score DESC\\n        LIMIT $limit\\n        \"\n",
      "Received notification from DBMS server: {severity: WARNING} {code: Neo.ClientNotification.Statement.AggregationSkippedNull} {category: UNRECOGNIZED} {title: The query contains an aggregation function that skips null values.} {description: null value eliminated in set function.} {position: None} for query: \"\\n        CALL db.index.vector.queryNodes('precedent_embedding', $limit * 2, $embedding)\\n        YIELD node AS precedent, score AS vector_score\\n        OPTIONAL MATCH (precedent)-[:HAS_KEYWORD]->(k:Keyword)\\n        WHERE k.text IN $keywords\\n        WITH precedent, vector_score, collect(DISTINCT k.text) AS keywords\\n        WITH precedent, vector_score + (size(keywords) * 0.1) AS final_score, keywords\\n        OPTIONAL MATCH (precedent)-[:REFERENCES_ARTICLE]->(ref_a:Article)\\n        WITH precedent, final_score, keywords, collect(DISTINCT ref_a.id) AS referenced_articles\\n        RETURN\\n            precedent.id AS id,\\n            'Precedent' AS type,\\n            precedent.name AS name,\\n            coalesce(precedent.full_summary, precedent.judgment_summary) AS text,\\n            final_score AS score,\\n            keywords,\\n            referenced_articles\\n        ORDER BY final_score DESC\\n        LIMIT $limit\\n        \"\n"
     ]
    },
    {
     "name": "stdout",
     "output_type": "stream",
     "text": [
      "Context retrieval took 0.57 seconds.\n"
     ]
    },
    {
     "name": "stderr",
     "output_type": "stream",
     "text": [
      "Received notification from DBMS server: {severity: WARNING} {code: Neo.ClientNotification.Statement.UnknownRelationshipTypeWarning} {category: UNRECOGNIZED} {title: The provided relationship type is not in the database.} {description: One of the relationship types in your query is not available in the database, make sure you didn't misspell it or that the label is available when you run this statement in your application (the missing relationship type is: HAS_KEYWORD)} {position: line: 4, column: 38, offset: 180} for query: \"\\n        CALL db.index.vector.queryNodes('precedent_embedding', $limit * 2, $embedding)\\n        YIELD node AS precedent, score AS vector_score\\n        OPTIONAL MATCH (precedent)-[:HAS_KEYWORD]->(k:Keyword)\\n        WHERE k.text IN $keywords\\n        WITH precedent, vector_score, collect(DISTINCT k.text) AS keywords\\n        WITH precedent, vector_score + (size(keywords) * 0.1) AS final_score, keywords\\n        OPTIONAL MATCH (precedent)-[:REFERENCES_ARTICLE]->(ref_a:Article)\\n        WITH precedent, final_score, keywords, collect(DISTINCT ref_a.id) AS referenced_articles\\n        RETURN\\n            precedent.id AS id,\\n            'Precedent' AS type,\\n            precedent.name AS name,\\n            coalesce(precedent.full_summary, precedent.judgment_summary) AS text,\\n            final_score AS score,\\n            keywords,\\n            referenced_articles\\n        ORDER BY final_score DESC\\n        LIMIT $limit\\n        \"\n",
      "Received notification from DBMS server: {severity: WARNING} {code: Neo.ClientNotification.Statement.AggregationSkippedNull} {category: UNRECOGNIZED} {title: The query contains an aggregation function that skips null values.} {description: null value eliminated in set function.} {position: None} for query: \"\\n        CALL db.index.vector.queryNodes('precedent_embedding', $limit * 2, $embedding)\\n        YIELD node AS precedent, score AS vector_score\\n        OPTIONAL MATCH (precedent)-[:HAS_KEYWORD]->(k:Keyword)\\n        WHERE k.text IN $keywords\\n        WITH precedent, vector_score, collect(DISTINCT k.text) AS keywords\\n        WITH precedent, vector_score + (size(keywords) * 0.1) AS final_score, keywords\\n        OPTIONAL MATCH (precedent)-[:REFERENCES_ARTICLE]->(ref_a:Article)\\n        WITH precedent, final_score, keywords, collect(DISTINCT ref_a.id) AS referenced_articles\\n        RETURN\\n            precedent.id AS id,\\n            'Precedent' AS type,\\n            precedent.name AS name,\\n            coalesce(precedent.full_summary, precedent.judgment_summary) AS text,\\n            final_score AS score,\\n            keywords,\\n            referenced_articles\\n        ORDER BY final_score DESC\\n        LIMIT $limit\\n        \"\n"
     ]
    },
    {
     "name": "stdout",
     "output_type": "stream",
     "text": [
      "Context retrieval took 0.63 seconds.\n"
     ]
    },
    {
     "name": "stderr",
     "output_type": "stream",
     "text": [
      "Received notification from DBMS server: {severity: WARNING} {code: Neo.ClientNotification.Statement.UnknownRelationshipTypeWarning} {category: UNRECOGNIZED} {title: The provided relationship type is not in the database.} {description: One of the relationship types in your query is not available in the database, make sure you didn't misspell it or that the label is available when you run this statement in your application (the missing relationship type is: HAS_KEYWORD)} {position: line: 4, column: 38, offset: 180} for query: \"\\n        CALL db.index.vector.queryNodes('precedent_embedding', $limit * 2, $embedding)\\n        YIELD node AS precedent, score AS vector_score\\n        OPTIONAL MATCH (precedent)-[:HAS_KEYWORD]->(k:Keyword)\\n        WHERE k.text IN $keywords\\n        WITH precedent, vector_score, collect(DISTINCT k.text) AS keywords\\n        WITH precedent, vector_score + (size(keywords) * 0.1) AS final_score, keywords\\n        OPTIONAL MATCH (precedent)-[:REFERENCES_ARTICLE]->(ref_a:Article)\\n        WITH precedent, final_score, keywords, collect(DISTINCT ref_a.id) AS referenced_articles\\n        RETURN\\n            precedent.id AS id,\\n            'Precedent' AS type,\\n            precedent.name AS name,\\n            coalesce(precedent.full_summary, precedent.judgment_summary) AS text,\\n            final_score AS score,\\n            keywords,\\n            referenced_articles\\n        ORDER BY final_score DESC\\n        LIMIT $limit\\n        \"\n",
      "Received notification from DBMS server: {severity: WARNING} {code: Neo.ClientNotification.Statement.AggregationSkippedNull} {category: UNRECOGNIZED} {title: The query contains an aggregation function that skips null values.} {description: null value eliminated in set function.} {position: None} for query: \"\\n        CALL db.index.vector.queryNodes('precedent_embedding', $limit * 2, $embedding)\\n        YIELD node AS precedent, score AS vector_score\\n        OPTIONAL MATCH (precedent)-[:HAS_KEYWORD]->(k:Keyword)\\n        WHERE k.text IN $keywords\\n        WITH precedent, vector_score, collect(DISTINCT k.text) AS keywords\\n        WITH precedent, vector_score + (size(keywords) * 0.1) AS final_score, keywords\\n        OPTIONAL MATCH (precedent)-[:REFERENCES_ARTICLE]->(ref_a:Article)\\n        WITH precedent, final_score, keywords, collect(DISTINCT ref_a.id) AS referenced_articles\\n        RETURN\\n            precedent.id AS id,\\n            'Precedent' AS type,\\n            precedent.name AS name,\\n            coalesce(precedent.full_summary, precedent.judgment_summary) AS text,\\n            final_score AS score,\\n            keywords,\\n            referenced_articles\\n        ORDER BY final_score DESC\\n        LIMIT $limit\\n        \"\n"
     ]
    },
    {
     "name": "stdout",
     "output_type": "stream",
     "text": [
      "Context retrieval took 0.65 seconds.\n"
     ]
    },
    {
     "name": "stderr",
     "output_type": "stream",
     "text": [
      "Received notification from DBMS server: {severity: WARNING} {code: Neo.ClientNotification.Statement.AggregationSkippedNull} {category: UNRECOGNIZED} {title: The query contains an aggregation function that skips null values.} {description: null value eliminated in set function.} {position: None} for query: \"\\n        CALL db.index.vector.queryNodes('article_embedding', $limit * 2, $embedding)\\n        YIELD node AS article, score AS vector_score\\n        OPTIONAL MATCH (p:Precedent)-[:REFERENCES_ARTICLE]->(article)\\n        WITH article, vector_score, count(p) AS precedent_count\\n        WITH article, vector_score + (precedent_count * 0.05) AS final_score, precedent_count\\n        RETURN\\n            article.id AS id,\\n            'Article' AS type,\\n            article.text AS text,\\n            final_score AS score,\\n            precedent_count\\n        ORDER BY final_score DESC\\n        LIMIT $limit\\n        \"\n",
      "Received notification from DBMS server: {severity: WARNING} {code: Neo.ClientNotification.Statement.UnknownRelationshipTypeWarning} {category: UNRECOGNIZED} {title: The provided relationship type is not in the database.} {description: One of the relationship types in your query is not available in the database, make sure you didn't misspell it or that the label is available when you run this statement in your application (the missing relationship type is: HAS_KEYWORD)} {position: line: 4, column: 38, offset: 180} for query: \"\\n        CALL db.index.vector.queryNodes('precedent_embedding', $limit * 2, $embedding)\\n        YIELD node AS precedent, score AS vector_score\\n        OPTIONAL MATCH (precedent)-[:HAS_KEYWORD]->(k:Keyword)\\n        WHERE k.text IN $keywords\\n        WITH precedent, vector_score, collect(DISTINCT k.text) AS keywords\\n        WITH precedent, vector_score + (size(keywords) * 0.1) AS final_score, keywords\\n        OPTIONAL MATCH (precedent)-[:REFERENCES_ARTICLE]->(ref_a:Article)\\n        WITH precedent, final_score, keywords, collect(DISTINCT ref_a.id) AS referenced_articles\\n        RETURN\\n            precedent.id AS id,\\n            'Precedent' AS type,\\n            precedent.name AS name,\\n            coalesce(precedent.full_summary, precedent.judgment_summary) AS text,\\n            final_score AS score,\\n            keywords,\\n            referenced_articles\\n        ORDER BY final_score DESC\\n        LIMIT $limit\\n        \"\n",
      "Received notification from DBMS server: {severity: WARNING} {code: Neo.ClientNotification.Statement.AggregationSkippedNull} {category: UNRECOGNIZED} {title: The query contains an aggregation function that skips null values.} {description: null value eliminated in set function.} {position: None} for query: \"\\n        CALL db.index.vector.queryNodes('precedent_embedding', $limit * 2, $embedding)\\n        YIELD node AS precedent, score AS vector_score\\n        OPTIONAL MATCH (precedent)-[:HAS_KEYWORD]->(k:Keyword)\\n        WHERE k.text IN $keywords\\n        WITH precedent, vector_score, collect(DISTINCT k.text) AS keywords\\n        WITH precedent, vector_score + (size(keywords) * 0.1) AS final_score, keywords\\n        OPTIONAL MATCH (precedent)-[:REFERENCES_ARTICLE]->(ref_a:Article)\\n        WITH precedent, final_score, keywords, collect(DISTINCT ref_a.id) AS referenced_articles\\n        RETURN\\n            precedent.id AS id,\\n            'Precedent' AS type,\\n            precedent.name AS name,\\n            coalesce(precedent.full_summary, precedent.judgment_summary) AS text,\\n            final_score AS score,\\n            keywords,\\n            referenced_articles\\n        ORDER BY final_score DESC\\n        LIMIT $limit\\n        \"\n"
     ]
    },
    {
     "name": "stdout",
     "output_type": "stream",
     "text": [
      "Context retrieval took 0.82 seconds.\n"
     ]
    },
    {
     "name": "stderr",
     "output_type": "stream",
     "text": [
      "Received notification from DBMS server: {severity: WARNING} {code: Neo.ClientNotification.Statement.UnknownRelationshipTypeWarning} {category: UNRECOGNIZED} {title: The provided relationship type is not in the database.} {description: One of the relationship types in your query is not available in the database, make sure you didn't misspell it or that the label is available when you run this statement in your application (the missing relationship type is: HAS_KEYWORD)} {position: line: 4, column: 38, offset: 180} for query: \"\\n        CALL db.index.vector.queryNodes('precedent_embedding', $limit * 2, $embedding)\\n        YIELD node AS precedent, score AS vector_score\\n        OPTIONAL MATCH (precedent)-[:HAS_KEYWORD]->(k:Keyword)\\n        WHERE k.text IN $keywords\\n        WITH precedent, vector_score, collect(DISTINCT k.text) AS keywords\\n        WITH precedent, vector_score + (size(keywords) * 0.1) AS final_score, keywords\\n        OPTIONAL MATCH (precedent)-[:REFERENCES_ARTICLE]->(ref_a:Article)\\n        WITH precedent, final_score, keywords, collect(DISTINCT ref_a.id) AS referenced_articles\\n        RETURN\\n            precedent.id AS id,\\n            'Precedent' AS type,\\n            precedent.name AS name,\\n            coalesce(precedent.full_summary, precedent.judgment_summary) AS text,\\n            final_score AS score,\\n            keywords,\\n            referenced_articles\\n        ORDER BY final_score DESC\\n        LIMIT $limit\\n        \"\n",
      "Received notification from DBMS server: {severity: WARNING} {code: Neo.ClientNotification.Statement.AggregationSkippedNull} {category: UNRECOGNIZED} {title: The query contains an aggregation function that skips null values.} {description: null value eliminated in set function.} {position: None} for query: \"\\n        CALL db.index.vector.queryNodes('precedent_embedding', $limit * 2, $embedding)\\n        YIELD node AS precedent, score AS vector_score\\n        OPTIONAL MATCH (precedent)-[:HAS_KEYWORD]->(k:Keyword)\\n        WHERE k.text IN $keywords\\n        WITH precedent, vector_score, collect(DISTINCT k.text) AS keywords\\n        WITH precedent, vector_score + (size(keywords) * 0.1) AS final_score, keywords\\n        OPTIONAL MATCH (precedent)-[:REFERENCES_ARTICLE]->(ref_a:Article)\\n        WITH precedent, final_score, keywords, collect(DISTINCT ref_a.id) AS referenced_articles\\n        RETURN\\n            precedent.id AS id,\\n            'Precedent' AS type,\\n            precedent.name AS name,\\n            coalesce(precedent.full_summary, precedent.judgment_summary) AS text,\\n            final_score AS score,\\n            keywords,\\n            referenced_articles\\n        ORDER BY final_score DESC\\n        LIMIT $limit\\n        \"\n"
     ]
    },
    {
     "name": "stdout",
     "output_type": "stream",
     "text": [
      "Context retrieval took 0.56 seconds.\n"
     ]
    },
    {
     "name": "stderr",
     "output_type": "stream",
     "text": [
      "Received notification from DBMS server: {severity: WARNING} {code: Neo.ClientNotification.Statement.AggregationSkippedNull} {category: UNRECOGNIZED} {title: The query contains an aggregation function that skips null values.} {description: null value eliminated in set function.} {position: None} for query: \"\\n        CALL db.index.vector.queryNodes('article_embedding', $limit * 2, $embedding)\\n        YIELD node AS article, score AS vector_score\\n        OPTIONAL MATCH (p:Precedent)-[:REFERENCES_ARTICLE]->(article)\\n        WITH article, vector_score, count(p) AS precedent_count\\n        WITH article, vector_score + (precedent_count * 0.05) AS final_score, precedent_count\\n        RETURN\\n            article.id AS id,\\n            'Article' AS type,\\n            article.text AS text,\\n            final_score AS score,\\n            precedent_count\\n        ORDER BY final_score DESC\\n        LIMIT $limit\\n        \"\n",
      "Received notification from DBMS server: {severity: WARNING} {code: Neo.ClientNotification.Statement.UnknownRelationshipTypeWarning} {category: UNRECOGNIZED} {title: The provided relationship type is not in the database.} {description: One of the relationship types in your query is not available in the database, make sure you didn't misspell it or that the label is available when you run this statement in your application (the missing relationship type is: HAS_KEYWORD)} {position: line: 4, column: 38, offset: 180} for query: \"\\n        CALL db.index.vector.queryNodes('precedent_embedding', $limit * 2, $embedding)\\n        YIELD node AS precedent, score AS vector_score\\n        OPTIONAL MATCH (precedent)-[:HAS_KEYWORD]->(k:Keyword)\\n        WHERE k.text IN $keywords\\n        WITH precedent, vector_score, collect(DISTINCT k.text) AS keywords\\n        WITH precedent, vector_score + (size(keywords) * 0.1) AS final_score, keywords\\n        OPTIONAL MATCH (precedent)-[:REFERENCES_ARTICLE]->(ref_a:Article)\\n        WITH precedent, final_score, keywords, collect(DISTINCT ref_a.id) AS referenced_articles\\n        RETURN\\n            precedent.id AS id,\\n            'Precedent' AS type,\\n            precedent.name AS name,\\n            coalesce(precedent.full_summary, precedent.judgment_summary) AS text,\\n            final_score AS score,\\n            keywords,\\n            referenced_articles\\n        ORDER BY final_score DESC\\n        LIMIT $limit\\n        \"\n",
      "Received notification from DBMS server: {severity: WARNING} {code: Neo.ClientNotification.Statement.AggregationSkippedNull} {category: UNRECOGNIZED} {title: The query contains an aggregation function that skips null values.} {description: null value eliminated in set function.} {position: None} for query: \"\\n        CALL db.index.vector.queryNodes('precedent_embedding', $limit * 2, $embedding)\\n        YIELD node AS precedent, score AS vector_score\\n        OPTIONAL MATCH (precedent)-[:HAS_KEYWORD]->(k:Keyword)\\n        WHERE k.text IN $keywords\\n        WITH precedent, vector_score, collect(DISTINCT k.text) AS keywords\\n        WITH precedent, vector_score + (size(keywords) * 0.1) AS final_score, keywords\\n        OPTIONAL MATCH (precedent)-[:REFERENCES_ARTICLE]->(ref_a:Article)\\n        WITH precedent, final_score, keywords, collect(DISTINCT ref_a.id) AS referenced_articles\\n        RETURN\\n            precedent.id AS id,\\n            'Precedent' AS type,\\n            precedent.name AS name,\\n            coalesce(precedent.full_summary, precedent.judgment_summary) AS text,\\n            final_score AS score,\\n            keywords,\\n            referenced_articles\\n        ORDER BY final_score DESC\\n        LIMIT $limit\\n        \"\n"
     ]
    },
    {
     "name": "stdout",
     "output_type": "stream",
     "text": [
      "Context retrieval took 0.56 seconds.\n"
     ]
    },
    {
     "name": "stderr",
     "output_type": "stream",
     "text": [
      "Received notification from DBMS server: {severity: WARNING} {code: Neo.ClientNotification.Statement.AggregationSkippedNull} {category: UNRECOGNIZED} {title: The query contains an aggregation function that skips null values.} {description: null value eliminated in set function.} {position: None} for query: \"\\n        CALL db.index.vector.queryNodes('article_embedding', $limit * 2, $embedding)\\n        YIELD node AS article, score AS vector_score\\n        OPTIONAL MATCH (p:Precedent)-[:REFERENCES_ARTICLE]->(article)\\n        WITH article, vector_score, count(p) AS precedent_count\\n        WITH article, vector_score + (precedent_count * 0.05) AS final_score, precedent_count\\n        RETURN\\n            article.id AS id,\\n            'Article' AS type,\\n            article.text AS text,\\n            final_score AS score,\\n            precedent_count\\n        ORDER BY final_score DESC\\n        LIMIT $limit\\n        \"\n",
      "Received notification from DBMS server: {severity: WARNING} {code: Neo.ClientNotification.Statement.UnknownRelationshipTypeWarning} {category: UNRECOGNIZED} {title: The provided relationship type is not in the database.} {description: One of the relationship types in your query is not available in the database, make sure you didn't misspell it or that the label is available when you run this statement in your application (the missing relationship type is: HAS_KEYWORD)} {position: line: 4, column: 38, offset: 180} for query: \"\\n        CALL db.index.vector.queryNodes('precedent_embedding', $limit * 2, $embedding)\\n        YIELD node AS precedent, score AS vector_score\\n        OPTIONAL MATCH (precedent)-[:HAS_KEYWORD]->(k:Keyword)\\n        WHERE k.text IN $keywords\\n        WITH precedent, vector_score, collect(DISTINCT k.text) AS keywords\\n        WITH precedent, vector_score + (size(keywords) * 0.1) AS final_score, keywords\\n        OPTIONAL MATCH (precedent)-[:REFERENCES_ARTICLE]->(ref_a:Article)\\n        WITH precedent, final_score, keywords, collect(DISTINCT ref_a.id) AS referenced_articles\\n        RETURN\\n            precedent.id AS id,\\n            'Precedent' AS type,\\n            precedent.name AS name,\\n            coalesce(precedent.full_summary, precedent.judgment_summary) AS text,\\n            final_score AS score,\\n            keywords,\\n            referenced_articles\\n        ORDER BY final_score DESC\\n        LIMIT $limit\\n        \"\n",
      "Received notification from DBMS server: {severity: WARNING} {code: Neo.ClientNotification.Statement.AggregationSkippedNull} {category: UNRECOGNIZED} {title: The query contains an aggregation function that skips null values.} {description: null value eliminated in set function.} {position: None} for query: \"\\n        CALL db.index.vector.queryNodes('precedent_embedding', $limit * 2, $embedding)\\n        YIELD node AS precedent, score AS vector_score\\n        OPTIONAL MATCH (precedent)-[:HAS_KEYWORD]->(k:Keyword)\\n        WHERE k.text IN $keywords\\n        WITH precedent, vector_score, collect(DISTINCT k.text) AS keywords\\n        WITH precedent, vector_score + (size(keywords) * 0.1) AS final_score, keywords\\n        OPTIONAL MATCH (precedent)-[:REFERENCES_ARTICLE]->(ref_a:Article)\\n        WITH precedent, final_score, keywords, collect(DISTINCT ref_a.id) AS referenced_articles\\n        RETURN\\n            precedent.id AS id,\\n            'Precedent' AS type,\\n            precedent.name AS name,\\n            coalesce(precedent.full_summary, precedent.judgment_summary) AS text,\\n            final_score AS score,\\n            keywords,\\n            referenced_articles\\n        ORDER BY final_score DESC\\n        LIMIT $limit\\n        \"\n"
     ]
    },
    {
     "name": "stdout",
     "output_type": "stream",
     "text": [
      "Context retrieval took 0.52 seconds.\n"
     ]
    },
    {
     "name": "stderr",
     "output_type": "stream",
     "text": [
      "Received notification from DBMS server: {severity: WARNING} {code: Neo.ClientNotification.Statement.AggregationSkippedNull} {category: UNRECOGNIZED} {title: The query contains an aggregation function that skips null values.} {description: null value eliminated in set function.} {position: None} for query: \"\\n        CALL db.index.vector.queryNodes('article_embedding', $limit * 2, $embedding)\\n        YIELD node AS article, score AS vector_score\\n        OPTIONAL MATCH (p:Precedent)-[:REFERENCES_ARTICLE]->(article)\\n        WITH article, vector_score, count(p) AS precedent_count\\n        WITH article, vector_score + (precedent_count * 0.05) AS final_score, precedent_count\\n        RETURN\\n            article.id AS id,\\n            'Article' AS type,\\n            article.text AS text,\\n            final_score AS score,\\n            precedent_count\\n        ORDER BY final_score DESC\\n        LIMIT $limit\\n        \"\n",
      "Received notification from DBMS server: {severity: WARNING} {code: Neo.ClientNotification.Statement.UnknownRelationshipTypeWarning} {category: UNRECOGNIZED} {title: The provided relationship type is not in the database.} {description: One of the relationship types in your query is not available in the database, make sure you didn't misspell it or that the label is available when you run this statement in your application (the missing relationship type is: HAS_KEYWORD)} {position: line: 4, column: 38, offset: 180} for query: \"\\n        CALL db.index.vector.queryNodes('precedent_embedding', $limit * 2, $embedding)\\n        YIELD node AS precedent, score AS vector_score\\n        OPTIONAL MATCH (precedent)-[:HAS_KEYWORD]->(k:Keyword)\\n        WHERE k.text IN $keywords\\n        WITH precedent, vector_score, collect(DISTINCT k.text) AS keywords\\n        WITH precedent, vector_score + (size(keywords) * 0.1) AS final_score, keywords\\n        OPTIONAL MATCH (precedent)-[:REFERENCES_ARTICLE]->(ref_a:Article)\\n        WITH precedent, final_score, keywords, collect(DISTINCT ref_a.id) AS referenced_articles\\n        RETURN\\n            precedent.id AS id,\\n            'Precedent' AS type,\\n            precedent.name AS name,\\n            coalesce(precedent.full_summary, precedent.judgment_summary) AS text,\\n            final_score AS score,\\n            keywords,\\n            referenced_articles\\n        ORDER BY final_score DESC\\n        LIMIT $limit\\n        \"\n",
      "Received notification from DBMS server: {severity: WARNING} {code: Neo.ClientNotification.Statement.AggregationSkippedNull} {category: UNRECOGNIZED} {title: The query contains an aggregation function that skips null values.} {description: null value eliminated in set function.} {position: None} for query: \"\\n        CALL db.index.vector.queryNodes('precedent_embedding', $limit * 2, $embedding)\\n        YIELD node AS precedent, score AS vector_score\\n        OPTIONAL MATCH (precedent)-[:HAS_KEYWORD]->(k:Keyword)\\n        WHERE k.text IN $keywords\\n        WITH precedent, vector_score, collect(DISTINCT k.text) AS keywords\\n        WITH precedent, vector_score + (size(keywords) * 0.1) AS final_score, keywords\\n        OPTIONAL MATCH (precedent)-[:REFERENCES_ARTICLE]->(ref_a:Article)\\n        WITH precedent, final_score, keywords, collect(DISTINCT ref_a.id) AS referenced_articles\\n        RETURN\\n            precedent.id AS id,\\n            'Precedent' AS type,\\n            precedent.name AS name,\\n            coalesce(precedent.full_summary, precedent.judgment_summary) AS text,\\n            final_score AS score,\\n            keywords,\\n            referenced_articles\\n        ORDER BY final_score DESC\\n        LIMIT $limit\\n        \"\n"
     ]
    },
    {
     "name": "stdout",
     "output_type": "stream",
     "text": [
      "Context retrieval took 0.81 seconds.\n"
     ]
    },
    {
     "name": "stderr",
     "output_type": "stream",
     "text": [
      "Received notification from DBMS server: {severity: WARNING} {code: Neo.ClientNotification.Statement.UnknownRelationshipTypeWarning} {category: UNRECOGNIZED} {title: The provided relationship type is not in the database.} {description: One of the relationship types in your query is not available in the database, make sure you didn't misspell it or that the label is available when you run this statement in your application (the missing relationship type is: HAS_KEYWORD)} {position: line: 4, column: 38, offset: 180} for query: \"\\n        CALL db.index.vector.queryNodes('precedent_embedding', $limit * 2, $embedding)\\n        YIELD node AS precedent, score AS vector_score\\n        OPTIONAL MATCH (precedent)-[:HAS_KEYWORD]->(k:Keyword)\\n        WHERE k.text IN $keywords\\n        WITH precedent, vector_score, collect(DISTINCT k.text) AS keywords\\n        WITH precedent, vector_score + (size(keywords) * 0.1) AS final_score, keywords\\n        OPTIONAL MATCH (precedent)-[:REFERENCES_ARTICLE]->(ref_a:Article)\\n        WITH precedent, final_score, keywords, collect(DISTINCT ref_a.id) AS referenced_articles\\n        RETURN\\n            precedent.id AS id,\\n            'Precedent' AS type,\\n            precedent.name AS name,\\n            coalesce(precedent.full_summary, precedent.judgment_summary) AS text,\\n            final_score AS score,\\n            keywords,\\n            referenced_articles\\n        ORDER BY final_score DESC\\n        LIMIT $limit\\n        \"\n",
      "Received notification from DBMS server: {severity: WARNING} {code: Neo.ClientNotification.Statement.AggregationSkippedNull} {category: UNRECOGNIZED} {title: The query contains an aggregation function that skips null values.} {description: null value eliminated in set function.} {position: None} for query: \"\\n        CALL db.index.vector.queryNodes('precedent_embedding', $limit * 2, $embedding)\\n        YIELD node AS precedent, score AS vector_score\\n        OPTIONAL MATCH (precedent)-[:HAS_KEYWORD]->(k:Keyword)\\n        WHERE k.text IN $keywords\\n        WITH precedent, vector_score, collect(DISTINCT k.text) AS keywords\\n        WITH precedent, vector_score + (size(keywords) * 0.1) AS final_score, keywords\\n        OPTIONAL MATCH (precedent)-[:REFERENCES_ARTICLE]->(ref_a:Article)\\n        WITH precedent, final_score, keywords, collect(DISTINCT ref_a.id) AS referenced_articles\\n        RETURN\\n            precedent.id AS id,\\n            'Precedent' AS type,\\n            precedent.name AS name,\\n            coalesce(precedent.full_summary, precedent.judgment_summary) AS text,\\n            final_score AS score,\\n            keywords,\\n            referenced_articles\\n        ORDER BY final_score DESC\\n        LIMIT $limit\\n        \"\n"
     ]
    },
    {
     "name": "stdout",
     "output_type": "stream",
     "text": [
      "Context retrieval took 1.06 seconds.\n"
     ]
    },
    {
     "name": "stderr",
     "output_type": "stream",
     "text": [
      "Received notification from DBMS server: {severity: WARNING} {code: Neo.ClientNotification.Statement.AggregationSkippedNull} {category: UNRECOGNIZED} {title: The query contains an aggregation function that skips null values.} {description: null value eliminated in set function.} {position: None} for query: \"\\n        CALL db.index.vector.queryNodes('article_embedding', $limit * 2, $embedding)\\n        YIELD node AS article, score AS vector_score\\n        OPTIONAL MATCH (p:Precedent)-[:REFERENCES_ARTICLE]->(article)\\n        WITH article, vector_score, count(p) AS precedent_count\\n        WITH article, vector_score + (precedent_count * 0.05) AS final_score, precedent_count\\n        RETURN\\n            article.id AS id,\\n            'Article' AS type,\\n            article.text AS text,\\n            final_score AS score,\\n            precedent_count\\n        ORDER BY final_score DESC\\n        LIMIT $limit\\n        \"\n",
      "Received notification from DBMS server: {severity: WARNING} {code: Neo.ClientNotification.Statement.UnknownRelationshipTypeWarning} {category: UNRECOGNIZED} {title: The provided relationship type is not in the database.} {description: One of the relationship types in your query is not available in the database, make sure you didn't misspell it or that the label is available when you run this statement in your application (the missing relationship type is: HAS_KEYWORD)} {position: line: 4, column: 38, offset: 180} for query: \"\\n        CALL db.index.vector.queryNodes('precedent_embedding', $limit * 2, $embedding)\\n        YIELD node AS precedent, score AS vector_score\\n        OPTIONAL MATCH (precedent)-[:HAS_KEYWORD]->(k:Keyword)\\n        WHERE k.text IN $keywords\\n        WITH precedent, vector_score, collect(DISTINCT k.text) AS keywords\\n        WITH precedent, vector_score + (size(keywords) * 0.1) AS final_score, keywords\\n        OPTIONAL MATCH (precedent)-[:REFERENCES_ARTICLE]->(ref_a:Article)\\n        WITH precedent, final_score, keywords, collect(DISTINCT ref_a.id) AS referenced_articles\\n        RETURN\\n            precedent.id AS id,\\n            'Precedent' AS type,\\n            precedent.name AS name,\\n            coalesce(precedent.full_summary, precedent.judgment_summary) AS text,\\n            final_score AS score,\\n            keywords,\\n            referenced_articles\\n        ORDER BY final_score DESC\\n        LIMIT $limit\\n        \"\n",
      "Received notification from DBMS server: {severity: WARNING} {code: Neo.ClientNotification.Statement.AggregationSkippedNull} {category: UNRECOGNIZED} {title: The query contains an aggregation function that skips null values.} {description: null value eliminated in set function.} {position: None} for query: \"\\n        CALL db.index.vector.queryNodes('precedent_embedding', $limit * 2, $embedding)\\n        YIELD node AS precedent, score AS vector_score\\n        OPTIONAL MATCH (precedent)-[:HAS_KEYWORD]->(k:Keyword)\\n        WHERE k.text IN $keywords\\n        WITH precedent, vector_score, collect(DISTINCT k.text) AS keywords\\n        WITH precedent, vector_score + (size(keywords) * 0.1) AS final_score, keywords\\n        OPTIONAL MATCH (precedent)-[:REFERENCES_ARTICLE]->(ref_a:Article)\\n        WITH precedent, final_score, keywords, collect(DISTINCT ref_a.id) AS referenced_articles\\n        RETURN\\n            precedent.id AS id,\\n            'Precedent' AS type,\\n            precedent.name AS name,\\n            coalesce(precedent.full_summary, precedent.judgment_summary) AS text,\\n            final_score AS score,\\n            keywords,\\n            referenced_articles\\n        ORDER BY final_score DESC\\n        LIMIT $limit\\n        \"\n"
     ]
    },
    {
     "name": "stdout",
     "output_type": "stream",
     "text": [
      "Context retrieval took 0.84 seconds.\n"
     ]
    },
    {
     "name": "stderr",
     "output_type": "stream",
     "text": [
      "Received notification from DBMS server: {severity: WARNING} {code: Neo.ClientNotification.Statement.AggregationSkippedNull} {category: UNRECOGNIZED} {title: The query contains an aggregation function that skips null values.} {description: null value eliminated in set function.} {position: None} for query: \"\\n        CALL db.index.vector.queryNodes('article_embedding', $limit * 2, $embedding)\\n        YIELD node AS article, score AS vector_score\\n        OPTIONAL MATCH (p:Precedent)-[:REFERENCES_ARTICLE]->(article)\\n        WITH article, vector_score, count(p) AS precedent_count\\n        WITH article, vector_score + (precedent_count * 0.05) AS final_score, precedent_count\\n        RETURN\\n            article.id AS id,\\n            'Article' AS type,\\n            article.text AS text,\\n            final_score AS score,\\n            precedent_count\\n        ORDER BY final_score DESC\\n        LIMIT $limit\\n        \"\n",
      "Received notification from DBMS server: {severity: WARNING} {code: Neo.ClientNotification.Statement.UnknownRelationshipTypeWarning} {category: UNRECOGNIZED} {title: The provided relationship type is not in the database.} {description: One of the relationship types in your query is not available in the database, make sure you didn't misspell it or that the label is available when you run this statement in your application (the missing relationship type is: HAS_KEYWORD)} {position: line: 4, column: 38, offset: 180} for query: \"\\n        CALL db.index.vector.queryNodes('precedent_embedding', $limit * 2, $embedding)\\n        YIELD node AS precedent, score AS vector_score\\n        OPTIONAL MATCH (precedent)-[:HAS_KEYWORD]->(k:Keyword)\\n        WHERE k.text IN $keywords\\n        WITH precedent, vector_score, collect(DISTINCT k.text) AS keywords\\n        WITH precedent, vector_score + (size(keywords) * 0.1) AS final_score, keywords\\n        OPTIONAL MATCH (precedent)-[:REFERENCES_ARTICLE]->(ref_a:Article)\\n        WITH precedent, final_score, keywords, collect(DISTINCT ref_a.id) AS referenced_articles\\n        RETURN\\n            precedent.id AS id,\\n            'Precedent' AS type,\\n            precedent.name AS name,\\n            coalesce(precedent.full_summary, precedent.judgment_summary) AS text,\\n            final_score AS score,\\n            keywords,\\n            referenced_articles\\n        ORDER BY final_score DESC\\n        LIMIT $limit\\n        \"\n",
      "Received notification from DBMS server: {severity: WARNING} {code: Neo.ClientNotification.Statement.AggregationSkippedNull} {category: UNRECOGNIZED} {title: The query contains an aggregation function that skips null values.} {description: null value eliminated in set function.} {position: None} for query: \"\\n        CALL db.index.vector.queryNodes('precedent_embedding', $limit * 2, $embedding)\\n        YIELD node AS precedent, score AS vector_score\\n        OPTIONAL MATCH (precedent)-[:HAS_KEYWORD]->(k:Keyword)\\n        WHERE k.text IN $keywords\\n        WITH precedent, vector_score, collect(DISTINCT k.text) AS keywords\\n        WITH precedent, vector_score + (size(keywords) * 0.1) AS final_score, keywords\\n        OPTIONAL MATCH (precedent)-[:REFERENCES_ARTICLE]->(ref_a:Article)\\n        WITH precedent, final_score, keywords, collect(DISTINCT ref_a.id) AS referenced_articles\\n        RETURN\\n            precedent.id AS id,\\n            'Precedent' AS type,\\n            precedent.name AS name,\\n            coalesce(precedent.full_summary, precedent.judgment_summary) AS text,\\n            final_score AS score,\\n            keywords,\\n            referenced_articles\\n        ORDER BY final_score DESC\\n        LIMIT $limit\\n        \"\n"
     ]
    },
    {
     "name": "stdout",
     "output_type": "stream",
     "text": [
      "Context retrieval took 0.66 seconds.\n"
     ]
    },
    {
     "name": "stderr",
     "output_type": "stream",
     "text": [
      "Received notification from DBMS server: {severity: WARNING} {code: Neo.ClientNotification.Statement.UnknownRelationshipTypeWarning} {category: UNRECOGNIZED} {title: The provided relationship type is not in the database.} {description: One of the relationship types in your query is not available in the database, make sure you didn't misspell it or that the label is available when you run this statement in your application (the missing relationship type is: HAS_KEYWORD)} {position: line: 4, column: 38, offset: 180} for query: \"\\n        CALL db.index.vector.queryNodes('precedent_embedding', $limit * 2, $embedding)\\n        YIELD node AS precedent, score AS vector_score\\n        OPTIONAL MATCH (precedent)-[:HAS_KEYWORD]->(k:Keyword)\\n        WHERE k.text IN $keywords\\n        WITH precedent, vector_score, collect(DISTINCT k.text) AS keywords\\n        WITH precedent, vector_score + (size(keywords) * 0.1) AS final_score, keywords\\n        OPTIONAL MATCH (precedent)-[:REFERENCES_ARTICLE]->(ref_a:Article)\\n        WITH precedent, final_score, keywords, collect(DISTINCT ref_a.id) AS referenced_articles\\n        RETURN\\n            precedent.id AS id,\\n            'Precedent' AS type,\\n            precedent.name AS name,\\n            coalesce(precedent.full_summary, precedent.judgment_summary) AS text,\\n            final_score AS score,\\n            keywords,\\n            referenced_articles\\n        ORDER BY final_score DESC\\n        LIMIT $limit\\n        \"\n",
      "Received notification from DBMS server: {severity: WARNING} {code: Neo.ClientNotification.Statement.AggregationSkippedNull} {category: UNRECOGNIZED} {title: The query contains an aggregation function that skips null values.} {description: null value eliminated in set function.} {position: None} for query: \"\\n        CALL db.index.vector.queryNodes('precedent_embedding', $limit * 2, $embedding)\\n        YIELD node AS precedent, score AS vector_score\\n        OPTIONAL MATCH (precedent)-[:HAS_KEYWORD]->(k:Keyword)\\n        WHERE k.text IN $keywords\\n        WITH precedent, vector_score, collect(DISTINCT k.text) AS keywords\\n        WITH precedent, vector_score + (size(keywords) * 0.1) AS final_score, keywords\\n        OPTIONAL MATCH (precedent)-[:REFERENCES_ARTICLE]->(ref_a:Article)\\n        WITH precedent, final_score, keywords, collect(DISTINCT ref_a.id) AS referenced_articles\\n        RETURN\\n            precedent.id AS id,\\n            'Precedent' AS type,\\n            precedent.name AS name,\\n            coalesce(precedent.full_summary, precedent.judgment_summary) AS text,\\n            final_score AS score,\\n            keywords,\\n            referenced_articles\\n        ORDER BY final_score DESC\\n        LIMIT $limit\\n        \"\n"
     ]
    },
    {
     "name": "stdout",
     "output_type": "stream",
     "text": [
      "Context retrieval took 0.64 seconds.\n"
     ]
    },
    {
     "name": "stderr",
     "output_type": "stream",
     "text": [
      "Received notification from DBMS server: {severity: WARNING} {code: Neo.ClientNotification.Statement.UnknownRelationshipTypeWarning} {category: UNRECOGNIZED} {title: The provided relationship type is not in the database.} {description: One of the relationship types in your query is not available in the database, make sure you didn't misspell it or that the label is available when you run this statement in your application (the missing relationship type is: HAS_KEYWORD)} {position: line: 4, column: 38, offset: 180} for query: \"\\n        CALL db.index.vector.queryNodes('precedent_embedding', $limit * 2, $embedding)\\n        YIELD node AS precedent, score AS vector_score\\n        OPTIONAL MATCH (precedent)-[:HAS_KEYWORD]->(k:Keyword)\\n        WHERE k.text IN $keywords\\n        WITH precedent, vector_score, collect(DISTINCT k.text) AS keywords\\n        WITH precedent, vector_score + (size(keywords) * 0.1) AS final_score, keywords\\n        OPTIONAL MATCH (precedent)-[:REFERENCES_ARTICLE]->(ref_a:Article)\\n        WITH precedent, final_score, keywords, collect(DISTINCT ref_a.id) AS referenced_articles\\n        RETURN\\n            precedent.id AS id,\\n            'Precedent' AS type,\\n            precedent.name AS name,\\n            coalesce(precedent.full_summary, precedent.judgment_summary) AS text,\\n            final_score AS score,\\n            keywords,\\n            referenced_articles\\n        ORDER BY final_score DESC\\n        LIMIT $limit\\n        \"\n",
      "Received notification from DBMS server: {severity: WARNING} {code: Neo.ClientNotification.Statement.AggregationSkippedNull} {category: UNRECOGNIZED} {title: The query contains an aggregation function that skips null values.} {description: null value eliminated in set function.} {position: None} for query: \"\\n        CALL db.index.vector.queryNodes('precedent_embedding', $limit * 2, $embedding)\\n        YIELD node AS precedent, score AS vector_score\\n        OPTIONAL MATCH (precedent)-[:HAS_KEYWORD]->(k:Keyword)\\n        WHERE k.text IN $keywords\\n        WITH precedent, vector_score, collect(DISTINCT k.text) AS keywords\\n        WITH precedent, vector_score + (size(keywords) * 0.1) AS final_score, keywords\\n        OPTIONAL MATCH (precedent)-[:REFERENCES_ARTICLE]->(ref_a:Article)\\n        WITH precedent, final_score, keywords, collect(DISTINCT ref_a.id) AS referenced_articles\\n        RETURN\\n            precedent.id AS id,\\n            'Precedent' AS type,\\n            precedent.name AS name,\\n            coalesce(precedent.full_summary, precedent.judgment_summary) AS text,\\n            final_score AS score,\\n            keywords,\\n            referenced_articles\\n        ORDER BY final_score DESC\\n        LIMIT $limit\\n        \"\n"
     ]
    },
    {
     "name": "stdout",
     "output_type": "stream",
     "text": [
      "Context retrieval took 0.62 seconds.\n"
     ]
    },
    {
     "name": "stderr",
     "output_type": "stream",
     "text": [
      "Received notification from DBMS server: {severity: WARNING} {code: Neo.ClientNotification.Statement.UnknownRelationshipTypeWarning} {category: UNRECOGNIZED} {title: The provided relationship type is not in the database.} {description: One of the relationship types in your query is not available in the database, make sure you didn't misspell it or that the label is available when you run this statement in your application (the missing relationship type is: HAS_KEYWORD)} {position: line: 4, column: 38, offset: 180} for query: \"\\n        CALL db.index.vector.queryNodes('precedent_embedding', $limit * 2, $embedding)\\n        YIELD node AS precedent, score AS vector_score\\n        OPTIONAL MATCH (precedent)-[:HAS_KEYWORD]->(k:Keyword)\\n        WHERE k.text IN $keywords\\n        WITH precedent, vector_score, collect(DISTINCT k.text) AS keywords\\n        WITH precedent, vector_score + (size(keywords) * 0.1) AS final_score, keywords\\n        OPTIONAL MATCH (precedent)-[:REFERENCES_ARTICLE]->(ref_a:Article)\\n        WITH precedent, final_score, keywords, collect(DISTINCT ref_a.id) AS referenced_articles\\n        RETURN\\n            precedent.id AS id,\\n            'Precedent' AS type,\\n            precedent.name AS name,\\n            coalesce(precedent.full_summary, precedent.judgment_summary) AS text,\\n            final_score AS score,\\n            keywords,\\n            referenced_articles\\n        ORDER BY final_score DESC\\n        LIMIT $limit\\n        \"\n",
      "Received notification from DBMS server: {severity: WARNING} {code: Neo.ClientNotification.Statement.AggregationSkippedNull} {category: UNRECOGNIZED} {title: The query contains an aggregation function that skips null values.} {description: null value eliminated in set function.} {position: None} for query: \"\\n        CALL db.index.vector.queryNodes('precedent_embedding', $limit * 2, $embedding)\\n        YIELD node AS precedent, score AS vector_score\\n        OPTIONAL MATCH (precedent)-[:HAS_KEYWORD]->(k:Keyword)\\n        WHERE k.text IN $keywords\\n        WITH precedent, vector_score, collect(DISTINCT k.text) AS keywords\\n        WITH precedent, vector_score + (size(keywords) * 0.1) AS final_score, keywords\\n        OPTIONAL MATCH (precedent)-[:REFERENCES_ARTICLE]->(ref_a:Article)\\n        WITH precedent, final_score, keywords, collect(DISTINCT ref_a.id) AS referenced_articles\\n        RETURN\\n            precedent.id AS id,\\n            'Precedent' AS type,\\n            precedent.name AS name,\\n            coalesce(precedent.full_summary, precedent.judgment_summary) AS text,\\n            final_score AS score,\\n            keywords,\\n            referenced_articles\\n        ORDER BY final_score DESC\\n        LIMIT $limit\\n        \"\n"
     ]
    },
    {
     "name": "stdout",
     "output_type": "stream",
     "text": [
      "Context retrieval took 0.51 seconds.\n"
     ]
    },
    {
     "name": "stderr",
     "output_type": "stream",
     "text": [
      "Received notification from DBMS server: {severity: WARNING} {code: Neo.ClientNotification.Statement.UnknownRelationshipTypeWarning} {category: UNRECOGNIZED} {title: The provided relationship type is not in the database.} {description: One of the relationship types in your query is not available in the database, make sure you didn't misspell it or that the label is available when you run this statement in your application (the missing relationship type is: HAS_KEYWORD)} {position: line: 4, column: 38, offset: 180} for query: \"\\n        CALL db.index.vector.queryNodes('precedent_embedding', $limit * 2, $embedding)\\n        YIELD node AS precedent, score AS vector_score\\n        OPTIONAL MATCH (precedent)-[:HAS_KEYWORD]->(k:Keyword)\\n        WHERE k.text IN $keywords\\n        WITH precedent, vector_score, collect(DISTINCT k.text) AS keywords\\n        WITH precedent, vector_score + (size(keywords) * 0.1) AS final_score, keywords\\n        OPTIONAL MATCH (precedent)-[:REFERENCES_ARTICLE]->(ref_a:Article)\\n        WITH precedent, final_score, keywords, collect(DISTINCT ref_a.id) AS referenced_articles\\n        RETURN\\n            precedent.id AS id,\\n            'Precedent' AS type,\\n            precedent.name AS name,\\n            coalesce(precedent.full_summary, precedent.judgment_summary) AS text,\\n            final_score AS score,\\n            keywords,\\n            referenced_articles\\n        ORDER BY final_score DESC\\n        LIMIT $limit\\n        \"\n",
      "Received notification from DBMS server: {severity: WARNING} {code: Neo.ClientNotification.Statement.AggregationSkippedNull} {category: UNRECOGNIZED} {title: The query contains an aggregation function that skips null values.} {description: null value eliminated in set function.} {position: None} for query: \"\\n        CALL db.index.vector.queryNodes('precedent_embedding', $limit * 2, $embedding)\\n        YIELD node AS precedent, score AS vector_score\\n        OPTIONAL MATCH (precedent)-[:HAS_KEYWORD]->(k:Keyword)\\n        WHERE k.text IN $keywords\\n        WITH precedent, vector_score, collect(DISTINCT k.text) AS keywords\\n        WITH precedent, vector_score + (size(keywords) * 0.1) AS final_score, keywords\\n        OPTIONAL MATCH (precedent)-[:REFERENCES_ARTICLE]->(ref_a:Article)\\n        WITH precedent, final_score, keywords, collect(DISTINCT ref_a.id) AS referenced_articles\\n        RETURN\\n            precedent.id AS id,\\n            'Precedent' AS type,\\n            precedent.name AS name,\\n            coalesce(precedent.full_summary, precedent.judgment_summary) AS text,\\n            final_score AS score,\\n            keywords,\\n            referenced_articles\\n        ORDER BY final_score DESC\\n        LIMIT $limit\\n        \"\n"
     ]
    },
    {
     "name": "stdout",
     "output_type": "stream",
     "text": [
      "Context retrieval took 0.55 seconds.\n"
     ]
    },
    {
     "name": "stderr",
     "output_type": "stream",
     "text": [
      "Received notification from DBMS server: {severity: WARNING} {code: Neo.ClientNotification.Statement.UnknownRelationshipTypeWarning} {category: UNRECOGNIZED} {title: The provided relationship type is not in the database.} {description: One of the relationship types in your query is not available in the database, make sure you didn't misspell it or that the label is available when you run this statement in your application (the missing relationship type is: HAS_KEYWORD)} {position: line: 4, column: 38, offset: 180} for query: \"\\n        CALL db.index.vector.queryNodes('precedent_embedding', $limit * 2, $embedding)\\n        YIELD node AS precedent, score AS vector_score\\n        OPTIONAL MATCH (precedent)-[:HAS_KEYWORD]->(k:Keyword)\\n        WHERE k.text IN $keywords\\n        WITH precedent, vector_score, collect(DISTINCT k.text) AS keywords\\n        WITH precedent, vector_score + (size(keywords) * 0.1) AS final_score, keywords\\n        OPTIONAL MATCH (precedent)-[:REFERENCES_ARTICLE]->(ref_a:Article)\\n        WITH precedent, final_score, keywords, collect(DISTINCT ref_a.id) AS referenced_articles\\n        RETURN\\n            precedent.id AS id,\\n            'Precedent' AS type,\\n            precedent.name AS name,\\n            coalesce(precedent.full_summary, precedent.judgment_summary) AS text,\\n            final_score AS score,\\n            keywords,\\n            referenced_articles\\n        ORDER BY final_score DESC\\n        LIMIT $limit\\n        \"\n",
      "Received notification from DBMS server: {severity: WARNING} {code: Neo.ClientNotification.Statement.AggregationSkippedNull} {category: UNRECOGNIZED} {title: The query contains an aggregation function that skips null values.} {description: null value eliminated in set function.} {position: None} for query: \"\\n        CALL db.index.vector.queryNodes('precedent_embedding', $limit * 2, $embedding)\\n        YIELD node AS precedent, score AS vector_score\\n        OPTIONAL MATCH (precedent)-[:HAS_KEYWORD]->(k:Keyword)\\n        WHERE k.text IN $keywords\\n        WITH precedent, vector_score, collect(DISTINCT k.text) AS keywords\\n        WITH precedent, vector_score + (size(keywords) * 0.1) AS final_score, keywords\\n        OPTIONAL MATCH (precedent)-[:REFERENCES_ARTICLE]->(ref_a:Article)\\n        WITH precedent, final_score, keywords, collect(DISTINCT ref_a.id) AS referenced_articles\\n        RETURN\\n            precedent.id AS id,\\n            'Precedent' AS type,\\n            precedent.name AS name,\\n            coalesce(precedent.full_summary, precedent.judgment_summary) AS text,\\n            final_score AS score,\\n            keywords,\\n            referenced_articles\\n        ORDER BY final_score DESC\\n        LIMIT $limit\\n        \"\n"
     ]
    },
    {
     "name": "stdout",
     "output_type": "stream",
     "text": [
      "Context retrieval took 0.50 seconds.\n"
     ]
    },
    {
     "name": "stderr",
     "output_type": "stream",
     "text": [
      "Received notification from DBMS server: {severity: WARNING} {code: Neo.ClientNotification.Statement.AggregationSkippedNull} {category: UNRECOGNIZED} {title: The query contains an aggregation function that skips null values.} {description: null value eliminated in set function.} {position: None} for query: \"\\n        CALL db.index.vector.queryNodes('article_embedding', $limit * 2, $embedding)\\n        YIELD node AS article, score AS vector_score\\n        OPTIONAL MATCH (p:Precedent)-[:REFERENCES_ARTICLE]->(article)\\n        WITH article, vector_score, count(p) AS precedent_count\\n        WITH article, vector_score + (precedent_count * 0.05) AS final_score, precedent_count\\n        RETURN\\n            article.id AS id,\\n            'Article' AS type,\\n            article.text AS text,\\n            final_score AS score,\\n            precedent_count\\n        ORDER BY final_score DESC\\n        LIMIT $limit\\n        \"\n",
      "Received notification from DBMS server: {severity: WARNING} {code: Neo.ClientNotification.Statement.UnknownRelationshipTypeWarning} {category: UNRECOGNIZED} {title: The provided relationship type is not in the database.} {description: One of the relationship types in your query is not available in the database, make sure you didn't misspell it or that the label is available when you run this statement in your application (the missing relationship type is: HAS_KEYWORD)} {position: line: 4, column: 38, offset: 180} for query: \"\\n        CALL db.index.vector.queryNodes('precedent_embedding', $limit * 2, $embedding)\\n        YIELD node AS precedent, score AS vector_score\\n        OPTIONAL MATCH (precedent)-[:HAS_KEYWORD]->(k:Keyword)\\n        WHERE k.text IN $keywords\\n        WITH precedent, vector_score, collect(DISTINCT k.text) AS keywords\\n        WITH precedent, vector_score + (size(keywords) * 0.1) AS final_score, keywords\\n        OPTIONAL MATCH (precedent)-[:REFERENCES_ARTICLE]->(ref_a:Article)\\n        WITH precedent, final_score, keywords, collect(DISTINCT ref_a.id) AS referenced_articles\\n        RETURN\\n            precedent.id AS id,\\n            'Precedent' AS type,\\n            precedent.name AS name,\\n            coalesce(precedent.full_summary, precedent.judgment_summary) AS text,\\n            final_score AS score,\\n            keywords,\\n            referenced_articles\\n        ORDER BY final_score DESC\\n        LIMIT $limit\\n        \"\n",
      "Received notification from DBMS server: {severity: WARNING} {code: Neo.ClientNotification.Statement.AggregationSkippedNull} {category: UNRECOGNIZED} {title: The query contains an aggregation function that skips null values.} {description: null value eliminated in set function.} {position: None} for query: \"\\n        CALL db.index.vector.queryNodes('precedent_embedding', $limit * 2, $embedding)\\n        YIELD node AS precedent, score AS vector_score\\n        OPTIONAL MATCH (precedent)-[:HAS_KEYWORD]->(k:Keyword)\\n        WHERE k.text IN $keywords\\n        WITH precedent, vector_score, collect(DISTINCT k.text) AS keywords\\n        WITH precedent, vector_score + (size(keywords) * 0.1) AS final_score, keywords\\n        OPTIONAL MATCH (precedent)-[:REFERENCES_ARTICLE]->(ref_a:Article)\\n        WITH precedent, final_score, keywords, collect(DISTINCT ref_a.id) AS referenced_articles\\n        RETURN\\n            precedent.id AS id,\\n            'Precedent' AS type,\\n            precedent.name AS name,\\n            coalesce(precedent.full_summary, precedent.judgment_summary) AS text,\\n            final_score AS score,\\n            keywords,\\n            referenced_articles\\n        ORDER BY final_score DESC\\n        LIMIT $limit\\n        \"\n"
     ]
    },
    {
     "name": "stdout",
     "output_type": "stream",
     "text": [
      "Context retrieval took 0.59 seconds.\n"
     ]
    },
    {
     "name": "stderr",
     "output_type": "stream",
     "text": [
      "Received notification from DBMS server: {severity: WARNING} {code: Neo.ClientNotification.Statement.AggregationSkippedNull} {category: UNRECOGNIZED} {title: The query contains an aggregation function that skips null values.} {description: null value eliminated in set function.} {position: None} for query: \"\\n        CALL db.index.vector.queryNodes('article_embedding', $limit * 2, $embedding)\\n        YIELD node AS article, score AS vector_score\\n        OPTIONAL MATCH (p:Precedent)-[:REFERENCES_ARTICLE]->(article)\\n        WITH article, vector_score, count(p) AS precedent_count\\n        WITH article, vector_score + (precedent_count * 0.05) AS final_score, precedent_count\\n        RETURN\\n            article.id AS id,\\n            'Article' AS type,\\n            article.text AS text,\\n            final_score AS score,\\n            precedent_count\\n        ORDER BY final_score DESC\\n        LIMIT $limit\\n        \"\n",
      "Received notification from DBMS server: {severity: WARNING} {code: Neo.ClientNotification.Statement.UnknownRelationshipTypeWarning} {category: UNRECOGNIZED} {title: The provided relationship type is not in the database.} {description: One of the relationship types in your query is not available in the database, make sure you didn't misspell it or that the label is available when you run this statement in your application (the missing relationship type is: HAS_KEYWORD)} {position: line: 4, column: 38, offset: 180} for query: \"\\n        CALL db.index.vector.queryNodes('precedent_embedding', $limit * 2, $embedding)\\n        YIELD node AS precedent, score AS vector_score\\n        OPTIONAL MATCH (precedent)-[:HAS_KEYWORD]->(k:Keyword)\\n        WHERE k.text IN $keywords\\n        WITH precedent, vector_score, collect(DISTINCT k.text) AS keywords\\n        WITH precedent, vector_score + (size(keywords) * 0.1) AS final_score, keywords\\n        OPTIONAL MATCH (precedent)-[:REFERENCES_ARTICLE]->(ref_a:Article)\\n        WITH precedent, final_score, keywords, collect(DISTINCT ref_a.id) AS referenced_articles\\n        RETURN\\n            precedent.id AS id,\\n            'Precedent' AS type,\\n            precedent.name AS name,\\n            coalesce(precedent.full_summary, precedent.judgment_summary) AS text,\\n            final_score AS score,\\n            keywords,\\n            referenced_articles\\n        ORDER BY final_score DESC\\n        LIMIT $limit\\n        \"\n",
      "Received notification from DBMS server: {severity: WARNING} {code: Neo.ClientNotification.Statement.AggregationSkippedNull} {category: UNRECOGNIZED} {title: The query contains an aggregation function that skips null values.} {description: null value eliminated in set function.} {position: None} for query: \"\\n        CALL db.index.vector.queryNodes('precedent_embedding', $limit * 2, $embedding)\\n        YIELD node AS precedent, score AS vector_score\\n        OPTIONAL MATCH (precedent)-[:HAS_KEYWORD]->(k:Keyword)\\n        WHERE k.text IN $keywords\\n        WITH precedent, vector_score, collect(DISTINCT k.text) AS keywords\\n        WITH precedent, vector_score + (size(keywords) * 0.1) AS final_score, keywords\\n        OPTIONAL MATCH (precedent)-[:REFERENCES_ARTICLE]->(ref_a:Article)\\n        WITH precedent, final_score, keywords, collect(DISTINCT ref_a.id) AS referenced_articles\\n        RETURN\\n            precedent.id AS id,\\n            'Precedent' AS type,\\n            precedent.name AS name,\\n            coalesce(precedent.full_summary, precedent.judgment_summary) AS text,\\n            final_score AS score,\\n            keywords,\\n            referenced_articles\\n        ORDER BY final_score DESC\\n        LIMIT $limit\\n        \"\n"
     ]
    },
    {
     "name": "stdout",
     "output_type": "stream",
     "text": [
      "Context retrieval took 0.84 seconds.\n"
     ]
    },
    {
     "name": "stderr",
     "output_type": "stream",
     "text": [
      "Received notification from DBMS server: {severity: WARNING} {code: Neo.ClientNotification.Statement.UnknownRelationshipTypeWarning} {category: UNRECOGNIZED} {title: The provided relationship type is not in the database.} {description: One of the relationship types in your query is not available in the database, make sure you didn't misspell it or that the label is available when you run this statement in your application (the missing relationship type is: HAS_KEYWORD)} {position: line: 4, column: 38, offset: 180} for query: \"\\n        CALL db.index.vector.queryNodes('precedent_embedding', $limit * 2, $embedding)\\n        YIELD node AS precedent, score AS vector_score\\n        OPTIONAL MATCH (precedent)-[:HAS_KEYWORD]->(k:Keyword)\\n        WHERE k.text IN $keywords\\n        WITH precedent, vector_score, collect(DISTINCT k.text) AS keywords\\n        WITH precedent, vector_score + (size(keywords) * 0.1) AS final_score, keywords\\n        OPTIONAL MATCH (precedent)-[:REFERENCES_ARTICLE]->(ref_a:Article)\\n        WITH precedent, final_score, keywords, collect(DISTINCT ref_a.id) AS referenced_articles\\n        RETURN\\n            precedent.id AS id,\\n            'Precedent' AS type,\\n            precedent.name AS name,\\n            coalesce(precedent.full_summary, precedent.judgment_summary) AS text,\\n            final_score AS score,\\n            keywords,\\n            referenced_articles\\n        ORDER BY final_score DESC\\n        LIMIT $limit\\n        \"\n",
      "Received notification from DBMS server: {severity: WARNING} {code: Neo.ClientNotification.Statement.AggregationSkippedNull} {category: UNRECOGNIZED} {title: The query contains an aggregation function that skips null values.} {description: null value eliminated in set function.} {position: None} for query: \"\\n        CALL db.index.vector.queryNodes('precedent_embedding', $limit * 2, $embedding)\\n        YIELD node AS precedent, score AS vector_score\\n        OPTIONAL MATCH (precedent)-[:HAS_KEYWORD]->(k:Keyword)\\n        WHERE k.text IN $keywords\\n        WITH precedent, vector_score, collect(DISTINCT k.text) AS keywords\\n        WITH precedent, vector_score + (size(keywords) * 0.1) AS final_score, keywords\\n        OPTIONAL MATCH (precedent)-[:REFERENCES_ARTICLE]->(ref_a:Article)\\n        WITH precedent, final_score, keywords, collect(DISTINCT ref_a.id) AS referenced_articles\\n        RETURN\\n            precedent.id AS id,\\n            'Precedent' AS type,\\n            precedent.name AS name,\\n            coalesce(precedent.full_summary, precedent.judgment_summary) AS text,\\n            final_score AS score,\\n            keywords,\\n            referenced_articles\\n        ORDER BY final_score DESC\\n        LIMIT $limit\\n        \"\n"
     ]
    },
    {
     "name": "stdout",
     "output_type": "stream",
     "text": [
      "Context retrieval took 0.85 seconds.\n"
     ]
    },
    {
     "name": "stderr",
     "output_type": "stream",
     "text": [
      "Received notification from DBMS server: {severity: WARNING} {code: Neo.ClientNotification.Statement.AggregationSkippedNull} {category: UNRECOGNIZED} {title: The query contains an aggregation function that skips null values.} {description: null value eliminated in set function.} {position: None} for query: \"\\n        CALL db.index.vector.queryNodes('article_embedding', $limit * 2, $embedding)\\n        YIELD node AS article, score AS vector_score\\n        OPTIONAL MATCH (p:Precedent)-[:REFERENCES_ARTICLE]->(article)\\n        WITH article, vector_score, count(p) AS precedent_count\\n        WITH article, vector_score + (precedent_count * 0.05) AS final_score, precedent_count\\n        RETURN\\n            article.id AS id,\\n            'Article' AS type,\\n            article.text AS text,\\n            final_score AS score,\\n            precedent_count\\n        ORDER BY final_score DESC\\n        LIMIT $limit\\n        \"\n",
      "Received notification from DBMS server: {severity: WARNING} {code: Neo.ClientNotification.Statement.UnknownRelationshipTypeWarning} {category: UNRECOGNIZED} {title: The provided relationship type is not in the database.} {description: One of the relationship types in your query is not available in the database, make sure you didn't misspell it or that the label is available when you run this statement in your application (the missing relationship type is: HAS_KEYWORD)} {position: line: 4, column: 38, offset: 180} for query: \"\\n        CALL db.index.vector.queryNodes('precedent_embedding', $limit * 2, $embedding)\\n        YIELD node AS precedent, score AS vector_score\\n        OPTIONAL MATCH (precedent)-[:HAS_KEYWORD]->(k:Keyword)\\n        WHERE k.text IN $keywords\\n        WITH precedent, vector_score, collect(DISTINCT k.text) AS keywords\\n        WITH precedent, vector_score + (size(keywords) * 0.1) AS final_score, keywords\\n        OPTIONAL MATCH (precedent)-[:REFERENCES_ARTICLE]->(ref_a:Article)\\n        WITH precedent, final_score, keywords, collect(DISTINCT ref_a.id) AS referenced_articles\\n        RETURN\\n            precedent.id AS id,\\n            'Precedent' AS type,\\n            precedent.name AS name,\\n            coalesce(precedent.full_summary, precedent.judgment_summary) AS text,\\n            final_score AS score,\\n            keywords,\\n            referenced_articles\\n        ORDER BY final_score DESC\\n        LIMIT $limit\\n        \"\n",
      "Received notification from DBMS server: {severity: WARNING} {code: Neo.ClientNotification.Statement.AggregationSkippedNull} {category: UNRECOGNIZED} {title: The query contains an aggregation function that skips null values.} {description: null value eliminated in set function.} {position: None} for query: \"\\n        CALL db.index.vector.queryNodes('precedent_embedding', $limit * 2, $embedding)\\n        YIELD node AS precedent, score AS vector_score\\n        OPTIONAL MATCH (precedent)-[:HAS_KEYWORD]->(k:Keyword)\\n        WHERE k.text IN $keywords\\n        WITH precedent, vector_score, collect(DISTINCT k.text) AS keywords\\n        WITH precedent, vector_score + (size(keywords) * 0.1) AS final_score, keywords\\n        OPTIONAL MATCH (precedent)-[:REFERENCES_ARTICLE]->(ref_a:Article)\\n        WITH precedent, final_score, keywords, collect(DISTINCT ref_a.id) AS referenced_articles\\n        RETURN\\n            precedent.id AS id,\\n            'Precedent' AS type,\\n            precedent.name AS name,\\n            coalesce(precedent.full_summary, precedent.judgment_summary) AS text,\\n            final_score AS score,\\n            keywords,\\n            referenced_articles\\n        ORDER BY final_score DESC\\n        LIMIT $limit\\n        \"\n"
     ]
    },
    {
     "name": "stdout",
     "output_type": "stream",
     "text": [
      "Context retrieval took 0.72 seconds.\n"
     ]
    },
    {
     "name": "stderr",
     "output_type": "stream",
     "text": [
      "Received notification from DBMS server: {severity: WARNING} {code: Neo.ClientNotification.Statement.AggregationSkippedNull} {category: UNRECOGNIZED} {title: The query contains an aggregation function that skips null values.} {description: null value eliminated in set function.} {position: None} for query: \"\\n        CALL db.index.vector.queryNodes('article_embedding', $limit * 2, $embedding)\\n        YIELD node AS article, score AS vector_score\\n        OPTIONAL MATCH (p:Precedent)-[:REFERENCES_ARTICLE]->(article)\\n        WITH article, vector_score, count(p) AS precedent_count\\n        WITH article, vector_score + (precedent_count * 0.05) AS final_score, precedent_count\\n        RETURN\\n            article.id AS id,\\n            'Article' AS type,\\n            article.text AS text,\\n            final_score AS score,\\n            precedent_count\\n        ORDER BY final_score DESC\\n        LIMIT $limit\\n        \"\n",
      "Received notification from DBMS server: {severity: WARNING} {code: Neo.ClientNotification.Statement.UnknownRelationshipTypeWarning} {category: UNRECOGNIZED} {title: The provided relationship type is not in the database.} {description: One of the relationship types in your query is not available in the database, make sure you didn't misspell it or that the label is available when you run this statement in your application (the missing relationship type is: HAS_KEYWORD)} {position: line: 4, column: 38, offset: 180} for query: \"\\n        CALL db.index.vector.queryNodes('precedent_embedding', $limit * 2, $embedding)\\n        YIELD node AS precedent, score AS vector_score\\n        OPTIONAL MATCH (precedent)-[:HAS_KEYWORD]->(k:Keyword)\\n        WHERE k.text IN $keywords\\n        WITH precedent, vector_score, collect(DISTINCT k.text) AS keywords\\n        WITH precedent, vector_score + (size(keywords) * 0.1) AS final_score, keywords\\n        OPTIONAL MATCH (precedent)-[:REFERENCES_ARTICLE]->(ref_a:Article)\\n        WITH precedent, final_score, keywords, collect(DISTINCT ref_a.id) AS referenced_articles\\n        RETURN\\n            precedent.id AS id,\\n            'Precedent' AS type,\\n            precedent.name AS name,\\n            coalesce(precedent.full_summary, precedent.judgment_summary) AS text,\\n            final_score AS score,\\n            keywords,\\n            referenced_articles\\n        ORDER BY final_score DESC\\n        LIMIT $limit\\n        \"\n",
      "Received notification from DBMS server: {severity: WARNING} {code: Neo.ClientNotification.Statement.AggregationSkippedNull} {category: UNRECOGNIZED} {title: The query contains an aggregation function that skips null values.} {description: null value eliminated in set function.} {position: None} for query: \"\\n        CALL db.index.vector.queryNodes('precedent_embedding', $limit * 2, $embedding)\\n        YIELD node AS precedent, score AS vector_score\\n        OPTIONAL MATCH (precedent)-[:HAS_KEYWORD]->(k:Keyword)\\n        WHERE k.text IN $keywords\\n        WITH precedent, vector_score, collect(DISTINCT k.text) AS keywords\\n        WITH precedent, vector_score + (size(keywords) * 0.1) AS final_score, keywords\\n        OPTIONAL MATCH (precedent)-[:REFERENCES_ARTICLE]->(ref_a:Article)\\n        WITH precedent, final_score, keywords, collect(DISTINCT ref_a.id) AS referenced_articles\\n        RETURN\\n            precedent.id AS id,\\n            'Precedent' AS type,\\n            precedent.name AS name,\\n            coalesce(precedent.full_summary, precedent.judgment_summary) AS text,\\n            final_score AS score,\\n            keywords,\\n            referenced_articles\\n        ORDER BY final_score DESC\\n        LIMIT $limit\\n        \"\n"
     ]
    },
    {
     "name": "stdout",
     "output_type": "stream",
     "text": [
      "Context retrieval took 0.52 seconds.\n"
     ]
    },
    {
     "name": "stderr",
     "output_type": "stream",
     "text": [
      "Received notification from DBMS server: {severity: WARNING} {code: Neo.ClientNotification.Statement.AggregationSkippedNull} {category: UNRECOGNIZED} {title: The query contains an aggregation function that skips null values.} {description: null value eliminated in set function.} {position: None} for query: \"\\n        CALL db.index.vector.queryNodes('article_embedding', $limit * 2, $embedding)\\n        YIELD node AS article, score AS vector_score\\n        OPTIONAL MATCH (p:Precedent)-[:REFERENCES_ARTICLE]->(article)\\n        WITH article, vector_score, count(p) AS precedent_count\\n        WITH article, vector_score + (precedent_count * 0.05) AS final_score, precedent_count\\n        RETURN\\n            article.id AS id,\\n            'Article' AS type,\\n            article.text AS text,\\n            final_score AS score,\\n            precedent_count\\n        ORDER BY final_score DESC\\n        LIMIT $limit\\n        \"\n",
      "Received notification from DBMS server: {severity: WARNING} {code: Neo.ClientNotification.Statement.UnknownRelationshipTypeWarning} {category: UNRECOGNIZED} {title: The provided relationship type is not in the database.} {description: One of the relationship types in your query is not available in the database, make sure you didn't misspell it or that the label is available when you run this statement in your application (the missing relationship type is: HAS_KEYWORD)} {position: line: 4, column: 38, offset: 180} for query: \"\\n        CALL db.index.vector.queryNodes('precedent_embedding', $limit * 2, $embedding)\\n        YIELD node AS precedent, score AS vector_score\\n        OPTIONAL MATCH (precedent)-[:HAS_KEYWORD]->(k:Keyword)\\n        WHERE k.text IN $keywords\\n        WITH precedent, vector_score, collect(DISTINCT k.text) AS keywords\\n        WITH precedent, vector_score + (size(keywords) * 0.1) AS final_score, keywords\\n        OPTIONAL MATCH (precedent)-[:REFERENCES_ARTICLE]->(ref_a:Article)\\n        WITH precedent, final_score, keywords, collect(DISTINCT ref_a.id) AS referenced_articles\\n        RETURN\\n            precedent.id AS id,\\n            'Precedent' AS type,\\n            precedent.name AS name,\\n            coalesce(precedent.full_summary, precedent.judgment_summary) AS text,\\n            final_score AS score,\\n            keywords,\\n            referenced_articles\\n        ORDER BY final_score DESC\\n        LIMIT $limit\\n        \"\n",
      "Received notification from DBMS server: {severity: WARNING} {code: Neo.ClientNotification.Statement.AggregationSkippedNull} {category: UNRECOGNIZED} {title: The query contains an aggregation function that skips null values.} {description: null value eliminated in set function.} {position: None} for query: \"\\n        CALL db.index.vector.queryNodes('precedent_embedding', $limit * 2, $embedding)\\n        YIELD node AS precedent, score AS vector_score\\n        OPTIONAL MATCH (precedent)-[:HAS_KEYWORD]->(k:Keyword)\\n        WHERE k.text IN $keywords\\n        WITH precedent, vector_score, collect(DISTINCT k.text) AS keywords\\n        WITH precedent, vector_score + (size(keywords) * 0.1) AS final_score, keywords\\n        OPTIONAL MATCH (precedent)-[:REFERENCES_ARTICLE]->(ref_a:Article)\\n        WITH precedent, final_score, keywords, collect(DISTINCT ref_a.id) AS referenced_articles\\n        RETURN\\n            precedent.id AS id,\\n            'Precedent' AS type,\\n            precedent.name AS name,\\n            coalesce(precedent.full_summary, precedent.judgment_summary) AS text,\\n            final_score AS score,\\n            keywords,\\n            referenced_articles\\n        ORDER BY final_score DESC\\n        LIMIT $limit\\n        \"\n"
     ]
    },
    {
     "name": "stdout",
     "output_type": "stream",
     "text": [
      "Context retrieval took 0.79 seconds.\n"
     ]
    },
    {
     "name": "stderr",
     "output_type": "stream",
     "text": [
      "Received notification from DBMS server: {severity: WARNING} {code: Neo.ClientNotification.Statement.UnknownRelationshipTypeWarning} {category: UNRECOGNIZED} {title: The provided relationship type is not in the database.} {description: One of the relationship types in your query is not available in the database, make sure you didn't misspell it or that the label is available when you run this statement in your application (the missing relationship type is: HAS_KEYWORD)} {position: line: 4, column: 38, offset: 180} for query: \"\\n        CALL db.index.vector.queryNodes('precedent_embedding', $limit * 2, $embedding)\\n        YIELD node AS precedent, score AS vector_score\\n        OPTIONAL MATCH (precedent)-[:HAS_KEYWORD]->(k:Keyword)\\n        WHERE k.text IN $keywords\\n        WITH precedent, vector_score, collect(DISTINCT k.text) AS keywords\\n        WITH precedent, vector_score + (size(keywords) * 0.1) AS final_score, keywords\\n        OPTIONAL MATCH (precedent)-[:REFERENCES_ARTICLE]->(ref_a:Article)\\n        WITH precedent, final_score, keywords, collect(DISTINCT ref_a.id) AS referenced_articles\\n        RETURN\\n            precedent.id AS id,\\n            'Precedent' AS type,\\n            precedent.name AS name,\\n            coalesce(precedent.full_summary, precedent.judgment_summary) AS text,\\n            final_score AS score,\\n            keywords,\\n            referenced_articles\\n        ORDER BY final_score DESC\\n        LIMIT $limit\\n        \"\n",
      "Received notification from DBMS server: {severity: WARNING} {code: Neo.ClientNotification.Statement.AggregationSkippedNull} {category: UNRECOGNIZED} {title: The query contains an aggregation function that skips null values.} {description: null value eliminated in set function.} {position: None} for query: \"\\n        CALL db.index.vector.queryNodes('precedent_embedding', $limit * 2, $embedding)\\n        YIELD node AS precedent, score AS vector_score\\n        OPTIONAL MATCH (precedent)-[:HAS_KEYWORD]->(k:Keyword)\\n        WHERE k.text IN $keywords\\n        WITH precedent, vector_score, collect(DISTINCT k.text) AS keywords\\n        WITH precedent, vector_score + (size(keywords) * 0.1) AS final_score, keywords\\n        OPTIONAL MATCH (precedent)-[:REFERENCES_ARTICLE]->(ref_a:Article)\\n        WITH precedent, final_score, keywords, collect(DISTINCT ref_a.id) AS referenced_articles\\n        RETURN\\n            precedent.id AS id,\\n            'Precedent' AS type,\\n            precedent.name AS name,\\n            coalesce(precedent.full_summary, precedent.judgment_summary) AS text,\\n            final_score AS score,\\n            keywords,\\n            referenced_articles\\n        ORDER BY final_score DESC\\n        LIMIT $limit\\n        \"\n"
     ]
    },
    {
     "name": "stdout",
     "output_type": "stream",
     "text": [
      "Context retrieval took 0.64 seconds.\n"
     ]
    },
    {
     "name": "stderr",
     "output_type": "stream",
     "text": [
      "Received notification from DBMS server: {severity: WARNING} {code: Neo.ClientNotification.Statement.AggregationSkippedNull} {category: UNRECOGNIZED} {title: The query contains an aggregation function that skips null values.} {description: null value eliminated in set function.} {position: None} for query: \"\\n        CALL db.index.vector.queryNodes('article_embedding', $limit * 2, $embedding)\\n        YIELD node AS article, score AS vector_score\\n        OPTIONAL MATCH (p:Precedent)-[:REFERENCES_ARTICLE]->(article)\\n        WITH article, vector_score, count(p) AS precedent_count\\n        WITH article, vector_score + (precedent_count * 0.05) AS final_score, precedent_count\\n        RETURN\\n            article.id AS id,\\n            'Article' AS type,\\n            article.text AS text,\\n            final_score AS score,\\n            precedent_count\\n        ORDER BY final_score DESC\\n        LIMIT $limit\\n        \"\n",
      "Received notification from DBMS server: {severity: WARNING} {code: Neo.ClientNotification.Statement.UnknownRelationshipTypeWarning} {category: UNRECOGNIZED} {title: The provided relationship type is not in the database.} {description: One of the relationship types in your query is not available in the database, make sure you didn't misspell it or that the label is available when you run this statement in your application (the missing relationship type is: HAS_KEYWORD)} {position: line: 4, column: 38, offset: 180} for query: \"\\n        CALL db.index.vector.queryNodes('precedent_embedding', $limit * 2, $embedding)\\n        YIELD node AS precedent, score AS vector_score\\n        OPTIONAL MATCH (precedent)-[:HAS_KEYWORD]->(k:Keyword)\\n        WHERE k.text IN $keywords\\n        WITH precedent, vector_score, collect(DISTINCT k.text) AS keywords\\n        WITH precedent, vector_score + (size(keywords) * 0.1) AS final_score, keywords\\n        OPTIONAL MATCH (precedent)-[:REFERENCES_ARTICLE]->(ref_a:Article)\\n        WITH precedent, final_score, keywords, collect(DISTINCT ref_a.id) AS referenced_articles\\n        RETURN\\n            precedent.id AS id,\\n            'Precedent' AS type,\\n            precedent.name AS name,\\n            coalesce(precedent.full_summary, precedent.judgment_summary) AS text,\\n            final_score AS score,\\n            keywords,\\n            referenced_articles\\n        ORDER BY final_score DESC\\n        LIMIT $limit\\n        \"\n",
      "Received notification from DBMS server: {severity: WARNING} {code: Neo.ClientNotification.Statement.AggregationSkippedNull} {category: UNRECOGNIZED} {title: The query contains an aggregation function that skips null values.} {description: null value eliminated in set function.} {position: None} for query: \"\\n        CALL db.index.vector.queryNodes('precedent_embedding', $limit * 2, $embedding)\\n        YIELD node AS precedent, score AS vector_score\\n        OPTIONAL MATCH (precedent)-[:HAS_KEYWORD]->(k:Keyword)\\n        WHERE k.text IN $keywords\\n        WITH precedent, vector_score, collect(DISTINCT k.text) AS keywords\\n        WITH precedent, vector_score + (size(keywords) * 0.1) AS final_score, keywords\\n        OPTIONAL MATCH (precedent)-[:REFERENCES_ARTICLE]->(ref_a:Article)\\n        WITH precedent, final_score, keywords, collect(DISTINCT ref_a.id) AS referenced_articles\\n        RETURN\\n            precedent.id AS id,\\n            'Precedent' AS type,\\n            precedent.name AS name,\\n            coalesce(precedent.full_summary, precedent.judgment_summary) AS text,\\n            final_score AS score,\\n            keywords,\\n            referenced_articles\\n        ORDER BY final_score DESC\\n        LIMIT $limit\\n        \"\n"
     ]
    },
    {
     "name": "stdout",
     "output_type": "stream",
     "text": [
      "Context retrieval took 0.71 seconds.\n"
     ]
    },
    {
     "name": "stderr",
     "output_type": "stream",
     "text": [
      "Received notification from DBMS server: {severity: WARNING} {code: Neo.ClientNotification.Statement.UnknownRelationshipTypeWarning} {category: UNRECOGNIZED} {title: The provided relationship type is not in the database.} {description: One of the relationship types in your query is not available in the database, make sure you didn't misspell it or that the label is available when you run this statement in your application (the missing relationship type is: HAS_KEYWORD)} {position: line: 4, column: 38, offset: 180} for query: \"\\n        CALL db.index.vector.queryNodes('precedent_embedding', $limit * 2, $embedding)\\n        YIELD node AS precedent, score AS vector_score\\n        OPTIONAL MATCH (precedent)-[:HAS_KEYWORD]->(k:Keyword)\\n        WHERE k.text IN $keywords\\n        WITH precedent, vector_score, collect(DISTINCT k.text) AS keywords\\n        WITH precedent, vector_score + (size(keywords) * 0.1) AS final_score, keywords\\n        OPTIONAL MATCH (precedent)-[:REFERENCES_ARTICLE]->(ref_a:Article)\\n        WITH precedent, final_score, keywords, collect(DISTINCT ref_a.id) AS referenced_articles\\n        RETURN\\n            precedent.id AS id,\\n            'Precedent' AS type,\\n            precedent.name AS name,\\n            coalesce(precedent.full_summary, precedent.judgment_summary) AS text,\\n            final_score AS score,\\n            keywords,\\n            referenced_articles\\n        ORDER BY final_score DESC\\n        LIMIT $limit\\n        \"\n",
      "Received notification from DBMS server: {severity: WARNING} {code: Neo.ClientNotification.Statement.AggregationSkippedNull} {category: UNRECOGNIZED} {title: The query contains an aggregation function that skips null values.} {description: null value eliminated in set function.} {position: None} for query: \"\\n        CALL db.index.vector.queryNodes('precedent_embedding', $limit * 2, $embedding)\\n        YIELD node AS precedent, score AS vector_score\\n        OPTIONAL MATCH (precedent)-[:HAS_KEYWORD]->(k:Keyword)\\n        WHERE k.text IN $keywords\\n        WITH precedent, vector_score, collect(DISTINCT k.text) AS keywords\\n        WITH precedent, vector_score + (size(keywords) * 0.1) AS final_score, keywords\\n        OPTIONAL MATCH (precedent)-[:REFERENCES_ARTICLE]->(ref_a:Article)\\n        WITH precedent, final_score, keywords, collect(DISTINCT ref_a.id) AS referenced_articles\\n        RETURN\\n            precedent.id AS id,\\n            'Precedent' AS type,\\n            precedent.name AS name,\\n            coalesce(precedent.full_summary, precedent.judgment_summary) AS text,\\n            final_score AS score,\\n            keywords,\\n            referenced_articles\\n        ORDER BY final_score DESC\\n        LIMIT $limit\\n        \"\n"
     ]
    },
    {
     "name": "stdout",
     "output_type": "stream",
     "text": [
      "Context retrieval took 0.63 seconds.\n"
     ]
    },
    {
     "name": "stderr",
     "output_type": "stream",
     "text": [
      "Received notification from DBMS server: {severity: WARNING} {code: Neo.ClientNotification.Statement.UnknownRelationshipTypeWarning} {category: UNRECOGNIZED} {title: The provided relationship type is not in the database.} {description: One of the relationship types in your query is not available in the database, make sure you didn't misspell it or that the label is available when you run this statement in your application (the missing relationship type is: HAS_KEYWORD)} {position: line: 4, column: 38, offset: 180} for query: \"\\n        CALL db.index.vector.queryNodes('precedent_embedding', $limit * 2, $embedding)\\n        YIELD node AS precedent, score AS vector_score\\n        OPTIONAL MATCH (precedent)-[:HAS_KEYWORD]->(k:Keyword)\\n        WHERE k.text IN $keywords\\n        WITH precedent, vector_score, collect(DISTINCT k.text) AS keywords\\n        WITH precedent, vector_score + (size(keywords) * 0.1) AS final_score, keywords\\n        OPTIONAL MATCH (precedent)-[:REFERENCES_ARTICLE]->(ref_a:Article)\\n        WITH precedent, final_score, keywords, collect(DISTINCT ref_a.id) AS referenced_articles\\n        RETURN\\n            precedent.id AS id,\\n            'Precedent' AS type,\\n            precedent.name AS name,\\n            coalesce(precedent.full_summary, precedent.judgment_summary) AS text,\\n            final_score AS score,\\n            keywords,\\n            referenced_articles\\n        ORDER BY final_score DESC\\n        LIMIT $limit\\n        \"\n",
      "Received notification from DBMS server: {severity: WARNING} {code: Neo.ClientNotification.Statement.AggregationSkippedNull} {category: UNRECOGNIZED} {title: The query contains an aggregation function that skips null values.} {description: null value eliminated in set function.} {position: None} for query: \"\\n        CALL db.index.vector.queryNodes('precedent_embedding', $limit * 2, $embedding)\\n        YIELD node AS precedent, score AS vector_score\\n        OPTIONAL MATCH (precedent)-[:HAS_KEYWORD]->(k:Keyword)\\n        WHERE k.text IN $keywords\\n        WITH precedent, vector_score, collect(DISTINCT k.text) AS keywords\\n        WITH precedent, vector_score + (size(keywords) * 0.1) AS final_score, keywords\\n        OPTIONAL MATCH (precedent)-[:REFERENCES_ARTICLE]->(ref_a:Article)\\n        WITH precedent, final_score, keywords, collect(DISTINCT ref_a.id) AS referenced_articles\\n        RETURN\\n            precedent.id AS id,\\n            'Precedent' AS type,\\n            precedent.name AS name,\\n            coalesce(precedent.full_summary, precedent.judgment_summary) AS text,\\n            final_score AS score,\\n            keywords,\\n            referenced_articles\\n        ORDER BY final_score DESC\\n        LIMIT $limit\\n        \"\n"
     ]
    },
    {
     "name": "stdout",
     "output_type": "stream",
     "text": [
      "Context retrieval took 0.67 seconds.\n"
     ]
    },
    {
     "name": "stderr",
     "output_type": "stream",
     "text": [
      "Received notification from DBMS server: {severity: WARNING} {code: Neo.ClientNotification.Statement.AggregationSkippedNull} {category: UNRECOGNIZED} {title: The query contains an aggregation function that skips null values.} {description: null value eliminated in set function.} {position: None} for query: \"\\n        CALL db.index.vector.queryNodes('article_embedding', $limit * 2, $embedding)\\n        YIELD node AS article, score AS vector_score\\n        OPTIONAL MATCH (p:Precedent)-[:REFERENCES_ARTICLE]->(article)\\n        WITH article, vector_score, count(p) AS precedent_count\\n        WITH article, vector_score + (precedent_count * 0.05) AS final_score, precedent_count\\n        RETURN\\n            article.id AS id,\\n            'Article' AS type,\\n            article.text AS text,\\n            final_score AS score,\\n            precedent_count\\n        ORDER BY final_score DESC\\n        LIMIT $limit\\n        \"\n",
      "Received notification from DBMS server: {severity: WARNING} {code: Neo.ClientNotification.Statement.UnknownRelationshipTypeWarning} {category: UNRECOGNIZED} {title: The provided relationship type is not in the database.} {description: One of the relationship types in your query is not available in the database, make sure you didn't misspell it or that the label is available when you run this statement in your application (the missing relationship type is: HAS_KEYWORD)} {position: line: 4, column: 38, offset: 180} for query: \"\\n        CALL db.index.vector.queryNodes('precedent_embedding', $limit * 2, $embedding)\\n        YIELD node AS precedent, score AS vector_score\\n        OPTIONAL MATCH (precedent)-[:HAS_KEYWORD]->(k:Keyword)\\n        WHERE k.text IN $keywords\\n        WITH precedent, vector_score, collect(DISTINCT k.text) AS keywords\\n        WITH precedent, vector_score + (size(keywords) * 0.1) AS final_score, keywords\\n        OPTIONAL MATCH (precedent)-[:REFERENCES_ARTICLE]->(ref_a:Article)\\n        WITH precedent, final_score, keywords, collect(DISTINCT ref_a.id) AS referenced_articles\\n        RETURN\\n            precedent.id AS id,\\n            'Precedent' AS type,\\n            precedent.name AS name,\\n            coalesce(precedent.full_summary, precedent.judgment_summary) AS text,\\n            final_score AS score,\\n            keywords,\\n            referenced_articles\\n        ORDER BY final_score DESC\\n        LIMIT $limit\\n        \"\n",
      "Received notification from DBMS server: {severity: WARNING} {code: Neo.ClientNotification.Statement.AggregationSkippedNull} {category: UNRECOGNIZED} {title: The query contains an aggregation function that skips null values.} {description: null value eliminated in set function.} {position: None} for query: \"\\n        CALL db.index.vector.queryNodes('precedent_embedding', $limit * 2, $embedding)\\n        YIELD node AS precedent, score AS vector_score\\n        OPTIONAL MATCH (precedent)-[:HAS_KEYWORD]->(k:Keyword)\\n        WHERE k.text IN $keywords\\n        WITH precedent, vector_score, collect(DISTINCT k.text) AS keywords\\n        WITH precedent, vector_score + (size(keywords) * 0.1) AS final_score, keywords\\n        OPTIONAL MATCH (precedent)-[:REFERENCES_ARTICLE]->(ref_a:Article)\\n        WITH precedent, final_score, keywords, collect(DISTINCT ref_a.id) AS referenced_articles\\n        RETURN\\n            precedent.id AS id,\\n            'Precedent' AS type,\\n            precedent.name AS name,\\n            coalesce(precedent.full_summary, precedent.judgment_summary) AS text,\\n            final_score AS score,\\n            keywords,\\n            referenced_articles\\n        ORDER BY final_score DESC\\n        LIMIT $limit\\n        \"\n"
     ]
    },
    {
     "name": "stdout",
     "output_type": "stream",
     "text": [
      "Context retrieval took 0.68 seconds.\n"
     ]
    },
    {
     "name": "stderr",
     "output_type": "stream",
     "text": [
      "Received notification from DBMS server: {severity: WARNING} {code: Neo.ClientNotification.Statement.AggregationSkippedNull} {category: UNRECOGNIZED} {title: The query contains an aggregation function that skips null values.} {description: null value eliminated in set function.} {position: None} for query: \"\\n        CALL db.index.vector.queryNodes('article_embedding', $limit * 2, $embedding)\\n        YIELD node AS article, score AS vector_score\\n        OPTIONAL MATCH (p:Precedent)-[:REFERENCES_ARTICLE]->(article)\\n        WITH article, vector_score, count(p) AS precedent_count\\n        WITH article, vector_score + (precedent_count * 0.05) AS final_score, precedent_count\\n        RETURN\\n            article.id AS id,\\n            'Article' AS type,\\n            article.text AS text,\\n            final_score AS score,\\n            precedent_count\\n        ORDER BY final_score DESC\\n        LIMIT $limit\\n        \"\n",
      "Received notification from DBMS server: {severity: WARNING} {code: Neo.ClientNotification.Statement.UnknownRelationshipTypeWarning} {category: UNRECOGNIZED} {title: The provided relationship type is not in the database.} {description: One of the relationship types in your query is not available in the database, make sure you didn't misspell it or that the label is available when you run this statement in your application (the missing relationship type is: HAS_KEYWORD)} {position: line: 4, column: 38, offset: 180} for query: \"\\n        CALL db.index.vector.queryNodes('precedent_embedding', $limit * 2, $embedding)\\n        YIELD node AS precedent, score AS vector_score\\n        OPTIONAL MATCH (precedent)-[:HAS_KEYWORD]->(k:Keyword)\\n        WHERE k.text IN $keywords\\n        WITH precedent, vector_score, collect(DISTINCT k.text) AS keywords\\n        WITH precedent, vector_score + (size(keywords) * 0.1) AS final_score, keywords\\n        OPTIONAL MATCH (precedent)-[:REFERENCES_ARTICLE]->(ref_a:Article)\\n        WITH precedent, final_score, keywords, collect(DISTINCT ref_a.id) AS referenced_articles\\n        RETURN\\n            precedent.id AS id,\\n            'Precedent' AS type,\\n            precedent.name AS name,\\n            coalesce(precedent.full_summary, precedent.judgment_summary) AS text,\\n            final_score AS score,\\n            keywords,\\n            referenced_articles\\n        ORDER BY final_score DESC\\n        LIMIT $limit\\n        \"\n",
      "Received notification from DBMS server: {severity: WARNING} {code: Neo.ClientNotification.Statement.AggregationSkippedNull} {category: UNRECOGNIZED} {title: The query contains an aggregation function that skips null values.} {description: null value eliminated in set function.} {position: None} for query: \"\\n        CALL db.index.vector.queryNodes('precedent_embedding', $limit * 2, $embedding)\\n        YIELD node AS precedent, score AS vector_score\\n        OPTIONAL MATCH (precedent)-[:HAS_KEYWORD]->(k:Keyword)\\n        WHERE k.text IN $keywords\\n        WITH precedent, vector_score, collect(DISTINCT k.text) AS keywords\\n        WITH precedent, vector_score + (size(keywords) * 0.1) AS final_score, keywords\\n        OPTIONAL MATCH (precedent)-[:REFERENCES_ARTICLE]->(ref_a:Article)\\n        WITH precedent, final_score, keywords, collect(DISTINCT ref_a.id) AS referenced_articles\\n        RETURN\\n            precedent.id AS id,\\n            'Precedent' AS type,\\n            precedent.name AS name,\\n            coalesce(precedent.full_summary, precedent.judgment_summary) AS text,\\n            final_score AS score,\\n            keywords,\\n            referenced_articles\\n        ORDER BY final_score DESC\\n        LIMIT $limit\\n        \"\n"
     ]
    },
    {
     "name": "stdout",
     "output_type": "stream",
     "text": [
      "Context retrieval took 0.58 seconds.\n"
     ]
    },
    {
     "name": "stderr",
     "output_type": "stream",
     "text": [
      "Received notification from DBMS server: {severity: WARNING} {code: Neo.ClientNotification.Statement.UnknownRelationshipTypeWarning} {category: UNRECOGNIZED} {title: The provided relationship type is not in the database.} {description: One of the relationship types in your query is not available in the database, make sure you didn't misspell it or that the label is available when you run this statement in your application (the missing relationship type is: HAS_KEYWORD)} {position: line: 4, column: 38, offset: 180} for query: \"\\n        CALL db.index.vector.queryNodes('precedent_embedding', $limit * 2, $embedding)\\n        YIELD node AS precedent, score AS vector_score\\n        OPTIONAL MATCH (precedent)-[:HAS_KEYWORD]->(k:Keyword)\\n        WHERE k.text IN $keywords\\n        WITH precedent, vector_score, collect(DISTINCT k.text) AS keywords\\n        WITH precedent, vector_score + (size(keywords) * 0.1) AS final_score, keywords\\n        OPTIONAL MATCH (precedent)-[:REFERENCES_ARTICLE]->(ref_a:Article)\\n        WITH precedent, final_score, keywords, collect(DISTINCT ref_a.id) AS referenced_articles\\n        RETURN\\n            precedent.id AS id,\\n            'Precedent' AS type,\\n            precedent.name AS name,\\n            coalesce(precedent.full_summary, precedent.judgment_summary) AS text,\\n            final_score AS score,\\n            keywords,\\n            referenced_articles\\n        ORDER BY final_score DESC\\n        LIMIT $limit\\n        \"\n",
      "Received notification from DBMS server: {severity: WARNING} {code: Neo.ClientNotification.Statement.AggregationSkippedNull} {category: UNRECOGNIZED} {title: The query contains an aggregation function that skips null values.} {description: null value eliminated in set function.} {position: None} for query: \"\\n        CALL db.index.vector.queryNodes('precedent_embedding', $limit * 2, $embedding)\\n        YIELD node AS precedent, score AS vector_score\\n        OPTIONAL MATCH (precedent)-[:HAS_KEYWORD]->(k:Keyword)\\n        WHERE k.text IN $keywords\\n        WITH precedent, vector_score, collect(DISTINCT k.text) AS keywords\\n        WITH precedent, vector_score + (size(keywords) * 0.1) AS final_score, keywords\\n        OPTIONAL MATCH (precedent)-[:REFERENCES_ARTICLE]->(ref_a:Article)\\n        WITH precedent, final_score, keywords, collect(DISTINCT ref_a.id) AS referenced_articles\\n        RETURN\\n            precedent.id AS id,\\n            'Precedent' AS type,\\n            precedent.name AS name,\\n            coalesce(precedent.full_summary, precedent.judgment_summary) AS text,\\n            final_score AS score,\\n            keywords,\\n            referenced_articles\\n        ORDER BY final_score DESC\\n        LIMIT $limit\\n        \"\n"
     ]
    },
    {
     "name": "stdout",
     "output_type": "stream",
     "text": [
      "Context retrieval took 0.66 seconds.\n"
     ]
    },
    {
     "name": "stderr",
     "output_type": "stream",
     "text": [
      "Received notification from DBMS server: {severity: WARNING} {code: Neo.ClientNotification.Statement.UnknownRelationshipTypeWarning} {category: UNRECOGNIZED} {title: The provided relationship type is not in the database.} {description: One of the relationship types in your query is not available in the database, make sure you didn't misspell it or that the label is available when you run this statement in your application (the missing relationship type is: HAS_KEYWORD)} {position: line: 4, column: 38, offset: 180} for query: \"\\n        CALL db.index.vector.queryNodes('precedent_embedding', $limit * 2, $embedding)\\n        YIELD node AS precedent, score AS vector_score\\n        OPTIONAL MATCH (precedent)-[:HAS_KEYWORD]->(k:Keyword)\\n        WHERE k.text IN $keywords\\n        WITH precedent, vector_score, collect(DISTINCT k.text) AS keywords\\n        WITH precedent, vector_score + (size(keywords) * 0.1) AS final_score, keywords\\n        OPTIONAL MATCH (precedent)-[:REFERENCES_ARTICLE]->(ref_a:Article)\\n        WITH precedent, final_score, keywords, collect(DISTINCT ref_a.id) AS referenced_articles\\n        RETURN\\n            precedent.id AS id,\\n            'Precedent' AS type,\\n            precedent.name AS name,\\n            coalesce(precedent.full_summary, precedent.judgment_summary) AS text,\\n            final_score AS score,\\n            keywords,\\n            referenced_articles\\n        ORDER BY final_score DESC\\n        LIMIT $limit\\n        \"\n",
      "Received notification from DBMS server: {severity: WARNING} {code: Neo.ClientNotification.Statement.AggregationSkippedNull} {category: UNRECOGNIZED} {title: The query contains an aggregation function that skips null values.} {description: null value eliminated in set function.} {position: None} for query: \"\\n        CALL db.index.vector.queryNodes('precedent_embedding', $limit * 2, $embedding)\\n        YIELD node AS precedent, score AS vector_score\\n        OPTIONAL MATCH (precedent)-[:HAS_KEYWORD]->(k:Keyword)\\n        WHERE k.text IN $keywords\\n        WITH precedent, vector_score, collect(DISTINCT k.text) AS keywords\\n        WITH precedent, vector_score + (size(keywords) * 0.1) AS final_score, keywords\\n        OPTIONAL MATCH (precedent)-[:REFERENCES_ARTICLE]->(ref_a:Article)\\n        WITH precedent, final_score, keywords, collect(DISTINCT ref_a.id) AS referenced_articles\\n        RETURN\\n            precedent.id AS id,\\n            'Precedent' AS type,\\n            precedent.name AS name,\\n            coalesce(precedent.full_summary, precedent.judgment_summary) AS text,\\n            final_score AS score,\\n            keywords,\\n            referenced_articles\\n        ORDER BY final_score DESC\\n        LIMIT $limit\\n        \"\n"
     ]
    },
    {
     "name": "stdout",
     "output_type": "stream",
     "text": [
      "Context retrieval took 0.65 seconds.\n"
     ]
    },
    {
     "name": "stderr",
     "output_type": "stream",
     "text": [
      "Received notification from DBMS server: {severity: WARNING} {code: Neo.ClientNotification.Statement.UnknownRelationshipTypeWarning} {category: UNRECOGNIZED} {title: The provided relationship type is not in the database.} {description: One of the relationship types in your query is not available in the database, make sure you didn't misspell it or that the label is available when you run this statement in your application (the missing relationship type is: HAS_KEYWORD)} {position: line: 4, column: 38, offset: 180} for query: \"\\n        CALL db.index.vector.queryNodes('precedent_embedding', $limit * 2, $embedding)\\n        YIELD node AS precedent, score AS vector_score\\n        OPTIONAL MATCH (precedent)-[:HAS_KEYWORD]->(k:Keyword)\\n        WHERE k.text IN $keywords\\n        WITH precedent, vector_score, collect(DISTINCT k.text) AS keywords\\n        WITH precedent, vector_score + (size(keywords) * 0.1) AS final_score, keywords\\n        OPTIONAL MATCH (precedent)-[:REFERENCES_ARTICLE]->(ref_a:Article)\\n        WITH precedent, final_score, keywords, collect(DISTINCT ref_a.id) AS referenced_articles\\n        RETURN\\n            precedent.id AS id,\\n            'Precedent' AS type,\\n            precedent.name AS name,\\n            coalesce(precedent.full_summary, precedent.judgment_summary) AS text,\\n            final_score AS score,\\n            keywords,\\n            referenced_articles\\n        ORDER BY final_score DESC\\n        LIMIT $limit\\n        \"\n",
      "Received notification from DBMS server: {severity: WARNING} {code: Neo.ClientNotification.Statement.AggregationSkippedNull} {category: UNRECOGNIZED} {title: The query contains an aggregation function that skips null values.} {description: null value eliminated in set function.} {position: None} for query: \"\\n        CALL db.index.vector.queryNodes('precedent_embedding', $limit * 2, $embedding)\\n        YIELD node AS precedent, score AS vector_score\\n        OPTIONAL MATCH (precedent)-[:HAS_KEYWORD]->(k:Keyword)\\n        WHERE k.text IN $keywords\\n        WITH precedent, vector_score, collect(DISTINCT k.text) AS keywords\\n        WITH precedent, vector_score + (size(keywords) * 0.1) AS final_score, keywords\\n        OPTIONAL MATCH (precedent)-[:REFERENCES_ARTICLE]->(ref_a:Article)\\n        WITH precedent, final_score, keywords, collect(DISTINCT ref_a.id) AS referenced_articles\\n        RETURN\\n            precedent.id AS id,\\n            'Precedent' AS type,\\n            precedent.name AS name,\\n            coalesce(precedent.full_summary, precedent.judgment_summary) AS text,\\n            final_score AS score,\\n            keywords,\\n            referenced_articles\\n        ORDER BY final_score DESC\\n        LIMIT $limit\\n        \"\n"
     ]
    },
    {
     "name": "stdout",
     "output_type": "stream",
     "text": [
      "Context retrieval took 0.84 seconds.\n"
     ]
    },
    {
     "name": "stderr",
     "output_type": "stream",
     "text": [
      "Received notification from DBMS server: {severity: WARNING} {code: Neo.ClientNotification.Statement.AggregationSkippedNull} {category: UNRECOGNIZED} {title: The query contains an aggregation function that skips null values.} {description: null value eliminated in set function.} {position: None} for query: \"\\n        CALL db.index.vector.queryNodes('article_embedding', $limit * 2, $embedding)\\n        YIELD node AS article, score AS vector_score\\n        OPTIONAL MATCH (p:Precedent)-[:REFERENCES_ARTICLE]->(article)\\n        WITH article, vector_score, count(p) AS precedent_count\\n        WITH article, vector_score + (precedent_count * 0.05) AS final_score, precedent_count\\n        RETURN\\n            article.id AS id,\\n            'Article' AS type,\\n            article.text AS text,\\n            final_score AS score,\\n            precedent_count\\n        ORDER BY final_score DESC\\n        LIMIT $limit\\n        \"\n",
      "Received notification from DBMS server: {severity: WARNING} {code: Neo.ClientNotification.Statement.UnknownRelationshipTypeWarning} {category: UNRECOGNIZED} {title: The provided relationship type is not in the database.} {description: One of the relationship types in your query is not available in the database, make sure you didn't misspell it or that the label is available when you run this statement in your application (the missing relationship type is: HAS_KEYWORD)} {position: line: 4, column: 38, offset: 180} for query: \"\\n        CALL db.index.vector.queryNodes('precedent_embedding', $limit * 2, $embedding)\\n        YIELD node AS precedent, score AS vector_score\\n        OPTIONAL MATCH (precedent)-[:HAS_KEYWORD]->(k:Keyword)\\n        WHERE k.text IN $keywords\\n        WITH precedent, vector_score, collect(DISTINCT k.text) AS keywords\\n        WITH precedent, vector_score + (size(keywords) * 0.1) AS final_score, keywords\\n        OPTIONAL MATCH (precedent)-[:REFERENCES_ARTICLE]->(ref_a:Article)\\n        WITH precedent, final_score, keywords, collect(DISTINCT ref_a.id) AS referenced_articles\\n        RETURN\\n            precedent.id AS id,\\n            'Precedent' AS type,\\n            precedent.name AS name,\\n            coalesce(precedent.full_summary, precedent.judgment_summary) AS text,\\n            final_score AS score,\\n            keywords,\\n            referenced_articles\\n        ORDER BY final_score DESC\\n        LIMIT $limit\\n        \"\n",
      "Received notification from DBMS server: {severity: WARNING} {code: Neo.ClientNotification.Statement.AggregationSkippedNull} {category: UNRECOGNIZED} {title: The query contains an aggregation function that skips null values.} {description: null value eliminated in set function.} {position: None} for query: \"\\n        CALL db.index.vector.queryNodes('precedent_embedding', $limit * 2, $embedding)\\n        YIELD node AS precedent, score AS vector_score\\n        OPTIONAL MATCH (precedent)-[:HAS_KEYWORD]->(k:Keyword)\\n        WHERE k.text IN $keywords\\n        WITH precedent, vector_score, collect(DISTINCT k.text) AS keywords\\n        WITH precedent, vector_score + (size(keywords) * 0.1) AS final_score, keywords\\n        OPTIONAL MATCH (precedent)-[:REFERENCES_ARTICLE]->(ref_a:Article)\\n        WITH precedent, final_score, keywords, collect(DISTINCT ref_a.id) AS referenced_articles\\n        RETURN\\n            precedent.id AS id,\\n            'Precedent' AS type,\\n            precedent.name AS name,\\n            coalesce(precedent.full_summary, precedent.judgment_summary) AS text,\\n            final_score AS score,\\n            keywords,\\n            referenced_articles\\n        ORDER BY final_score DESC\\n        LIMIT $limit\\n        \"\n"
     ]
    },
    {
     "name": "stdout",
     "output_type": "stream",
     "text": [
      "Context retrieval took 0.63 seconds.\n"
     ]
    },
    {
     "name": "stderr",
     "output_type": "stream",
     "text": [
      "Received notification from DBMS server: {severity: WARNING} {code: Neo.ClientNotification.Statement.UnknownRelationshipTypeWarning} {category: UNRECOGNIZED} {title: The provided relationship type is not in the database.} {description: One of the relationship types in your query is not available in the database, make sure you didn't misspell it or that the label is available when you run this statement in your application (the missing relationship type is: HAS_KEYWORD)} {position: line: 4, column: 38, offset: 180} for query: \"\\n        CALL db.index.vector.queryNodes('precedent_embedding', $limit * 2, $embedding)\\n        YIELD node AS precedent, score AS vector_score\\n        OPTIONAL MATCH (precedent)-[:HAS_KEYWORD]->(k:Keyword)\\n        WHERE k.text IN $keywords\\n        WITH precedent, vector_score, collect(DISTINCT k.text) AS keywords\\n        WITH precedent, vector_score + (size(keywords) * 0.1) AS final_score, keywords\\n        OPTIONAL MATCH (precedent)-[:REFERENCES_ARTICLE]->(ref_a:Article)\\n        WITH precedent, final_score, keywords, collect(DISTINCT ref_a.id) AS referenced_articles\\n        RETURN\\n            precedent.id AS id,\\n            'Precedent' AS type,\\n            precedent.name AS name,\\n            coalesce(precedent.full_summary, precedent.judgment_summary) AS text,\\n            final_score AS score,\\n            keywords,\\n            referenced_articles\\n        ORDER BY final_score DESC\\n        LIMIT $limit\\n        \"\n",
      "Received notification from DBMS server: {severity: WARNING} {code: Neo.ClientNotification.Statement.AggregationSkippedNull} {category: UNRECOGNIZED} {title: The query contains an aggregation function that skips null values.} {description: null value eliminated in set function.} {position: None} for query: \"\\n        CALL db.index.vector.queryNodes('precedent_embedding', $limit * 2, $embedding)\\n        YIELD node AS precedent, score AS vector_score\\n        OPTIONAL MATCH (precedent)-[:HAS_KEYWORD]->(k:Keyword)\\n        WHERE k.text IN $keywords\\n        WITH precedent, vector_score, collect(DISTINCT k.text) AS keywords\\n        WITH precedent, vector_score + (size(keywords) * 0.1) AS final_score, keywords\\n        OPTIONAL MATCH (precedent)-[:REFERENCES_ARTICLE]->(ref_a:Article)\\n        WITH precedent, final_score, keywords, collect(DISTINCT ref_a.id) AS referenced_articles\\n        RETURN\\n            precedent.id AS id,\\n            'Precedent' AS type,\\n            precedent.name AS name,\\n            coalesce(precedent.full_summary, precedent.judgment_summary) AS text,\\n            final_score AS score,\\n            keywords,\\n            referenced_articles\\n        ORDER BY final_score DESC\\n        LIMIT $limit\\n        \"\n"
     ]
    },
    {
     "name": "stdout",
     "output_type": "stream",
     "text": [
      "Context retrieval took 0.85 seconds.\n"
     ]
    },
    {
     "name": "stderr",
     "output_type": "stream",
     "text": [
      "Received notification from DBMS server: {severity: WARNING} {code: Neo.ClientNotification.Statement.UnknownRelationshipTypeWarning} {category: UNRECOGNIZED} {title: The provided relationship type is not in the database.} {description: One of the relationship types in your query is not available in the database, make sure you didn't misspell it or that the label is available when you run this statement in your application (the missing relationship type is: HAS_KEYWORD)} {position: line: 4, column: 38, offset: 180} for query: \"\\n        CALL db.index.vector.queryNodes('precedent_embedding', $limit * 2, $embedding)\\n        YIELD node AS precedent, score AS vector_score\\n        OPTIONAL MATCH (precedent)-[:HAS_KEYWORD]->(k:Keyword)\\n        WHERE k.text IN $keywords\\n        WITH precedent, vector_score, collect(DISTINCT k.text) AS keywords\\n        WITH precedent, vector_score + (size(keywords) * 0.1) AS final_score, keywords\\n        OPTIONAL MATCH (precedent)-[:REFERENCES_ARTICLE]->(ref_a:Article)\\n        WITH precedent, final_score, keywords, collect(DISTINCT ref_a.id) AS referenced_articles\\n        RETURN\\n            precedent.id AS id,\\n            'Precedent' AS type,\\n            precedent.name AS name,\\n            coalesce(precedent.full_summary, precedent.judgment_summary) AS text,\\n            final_score AS score,\\n            keywords,\\n            referenced_articles\\n        ORDER BY final_score DESC\\n        LIMIT $limit\\n        \"\n",
      "Received notification from DBMS server: {severity: WARNING} {code: Neo.ClientNotification.Statement.AggregationSkippedNull} {category: UNRECOGNIZED} {title: The query contains an aggregation function that skips null values.} {description: null value eliminated in set function.} {position: None} for query: \"\\n        CALL db.index.vector.queryNodes('precedent_embedding', $limit * 2, $embedding)\\n        YIELD node AS precedent, score AS vector_score\\n        OPTIONAL MATCH (precedent)-[:HAS_KEYWORD]->(k:Keyword)\\n        WHERE k.text IN $keywords\\n        WITH precedent, vector_score, collect(DISTINCT k.text) AS keywords\\n        WITH precedent, vector_score + (size(keywords) * 0.1) AS final_score, keywords\\n        OPTIONAL MATCH (precedent)-[:REFERENCES_ARTICLE]->(ref_a:Article)\\n        WITH precedent, final_score, keywords, collect(DISTINCT ref_a.id) AS referenced_articles\\n        RETURN\\n            precedent.id AS id,\\n            'Precedent' AS type,\\n            precedent.name AS name,\\n            coalesce(precedent.full_summary, precedent.judgment_summary) AS text,\\n            final_score AS score,\\n            keywords,\\n            referenced_articles\\n        ORDER BY final_score DESC\\n        LIMIT $limit\\n        \"\n"
     ]
    },
    {
     "name": "stdout",
     "output_type": "stream",
     "text": [
      "Context retrieval took 0.87 seconds.\n"
     ]
    },
    {
     "name": "stderr",
     "output_type": "stream",
     "text": [
      "Received notification from DBMS server: {severity: WARNING} {code: Neo.ClientNotification.Statement.AggregationSkippedNull} {category: UNRECOGNIZED} {title: The query contains an aggregation function that skips null values.} {description: null value eliminated in set function.} {position: None} for query: \"\\n        CALL db.index.vector.queryNodes('article_embedding', $limit * 2, $embedding)\\n        YIELD node AS article, score AS vector_score\\n        OPTIONAL MATCH (p:Precedent)-[:REFERENCES_ARTICLE]->(article)\\n        WITH article, vector_score, count(p) AS precedent_count\\n        WITH article, vector_score + (precedent_count * 0.05) AS final_score, precedent_count\\n        RETURN\\n            article.id AS id,\\n            'Article' AS type,\\n            article.text AS text,\\n            final_score AS score,\\n            precedent_count\\n        ORDER BY final_score DESC\\n        LIMIT $limit\\n        \"\n",
      "Received notification from DBMS server: {severity: WARNING} {code: Neo.ClientNotification.Statement.UnknownRelationshipTypeWarning} {category: UNRECOGNIZED} {title: The provided relationship type is not in the database.} {description: One of the relationship types in your query is not available in the database, make sure you didn't misspell it or that the label is available when you run this statement in your application (the missing relationship type is: HAS_KEYWORD)} {position: line: 4, column: 38, offset: 180} for query: \"\\n        CALL db.index.vector.queryNodes('precedent_embedding', $limit * 2, $embedding)\\n        YIELD node AS precedent, score AS vector_score\\n        OPTIONAL MATCH (precedent)-[:HAS_KEYWORD]->(k:Keyword)\\n        WHERE k.text IN $keywords\\n        WITH precedent, vector_score, collect(DISTINCT k.text) AS keywords\\n        WITH precedent, vector_score + (size(keywords) * 0.1) AS final_score, keywords\\n        OPTIONAL MATCH (precedent)-[:REFERENCES_ARTICLE]->(ref_a:Article)\\n        WITH precedent, final_score, keywords, collect(DISTINCT ref_a.id) AS referenced_articles\\n        RETURN\\n            precedent.id AS id,\\n            'Precedent' AS type,\\n            precedent.name AS name,\\n            coalesce(precedent.full_summary, precedent.judgment_summary) AS text,\\n            final_score AS score,\\n            keywords,\\n            referenced_articles\\n        ORDER BY final_score DESC\\n        LIMIT $limit\\n        \"\n",
      "Received notification from DBMS server: {severity: WARNING} {code: Neo.ClientNotification.Statement.AggregationSkippedNull} {category: UNRECOGNIZED} {title: The query contains an aggregation function that skips null values.} {description: null value eliminated in set function.} {position: None} for query: \"\\n        CALL db.index.vector.queryNodes('precedent_embedding', $limit * 2, $embedding)\\n        YIELD node AS precedent, score AS vector_score\\n        OPTIONAL MATCH (precedent)-[:HAS_KEYWORD]->(k:Keyword)\\n        WHERE k.text IN $keywords\\n        WITH precedent, vector_score, collect(DISTINCT k.text) AS keywords\\n        WITH precedent, vector_score + (size(keywords) * 0.1) AS final_score, keywords\\n        OPTIONAL MATCH (precedent)-[:REFERENCES_ARTICLE]->(ref_a:Article)\\n        WITH precedent, final_score, keywords, collect(DISTINCT ref_a.id) AS referenced_articles\\n        RETURN\\n            precedent.id AS id,\\n            'Precedent' AS type,\\n            precedent.name AS name,\\n            coalesce(precedent.full_summary, precedent.judgment_summary) AS text,\\n            final_score AS score,\\n            keywords,\\n            referenced_articles\\n        ORDER BY final_score DESC\\n        LIMIT $limit\\n        \"\n"
     ]
    },
    {
     "name": "stdout",
     "output_type": "stream",
     "text": [
      "Context retrieval took 0.72 seconds.\n"
     ]
    },
    {
     "name": "stderr",
     "output_type": "stream",
     "text": [
      "Received notification from DBMS server: {severity: WARNING} {code: Neo.ClientNotification.Statement.UnknownRelationshipTypeWarning} {category: UNRECOGNIZED} {title: The provided relationship type is not in the database.} {description: One of the relationship types in your query is not available in the database, make sure you didn't misspell it or that the label is available when you run this statement in your application (the missing relationship type is: HAS_KEYWORD)} {position: line: 4, column: 38, offset: 180} for query: \"\\n        CALL db.index.vector.queryNodes('precedent_embedding', $limit * 2, $embedding)\\n        YIELD node AS precedent, score AS vector_score\\n        OPTIONAL MATCH (precedent)-[:HAS_KEYWORD]->(k:Keyword)\\n        WHERE k.text IN $keywords\\n        WITH precedent, vector_score, collect(DISTINCT k.text) AS keywords\\n        WITH precedent, vector_score + (size(keywords) * 0.1) AS final_score, keywords\\n        OPTIONAL MATCH (precedent)-[:REFERENCES_ARTICLE]->(ref_a:Article)\\n        WITH precedent, final_score, keywords, collect(DISTINCT ref_a.id) AS referenced_articles\\n        RETURN\\n            precedent.id AS id,\\n            'Precedent' AS type,\\n            precedent.name AS name,\\n            coalesce(precedent.full_summary, precedent.judgment_summary) AS text,\\n            final_score AS score,\\n            keywords,\\n            referenced_articles\\n        ORDER BY final_score DESC\\n        LIMIT $limit\\n        \"\n",
      "Received notification from DBMS server: {severity: WARNING} {code: Neo.ClientNotification.Statement.AggregationSkippedNull} {category: UNRECOGNIZED} {title: The query contains an aggregation function that skips null values.} {description: null value eliminated in set function.} {position: None} for query: \"\\n        CALL db.index.vector.queryNodes('precedent_embedding', $limit * 2, $embedding)\\n        YIELD node AS precedent, score AS vector_score\\n        OPTIONAL MATCH (precedent)-[:HAS_KEYWORD]->(k:Keyword)\\n        WHERE k.text IN $keywords\\n        WITH precedent, vector_score, collect(DISTINCT k.text) AS keywords\\n        WITH precedent, vector_score + (size(keywords) * 0.1) AS final_score, keywords\\n        OPTIONAL MATCH (precedent)-[:REFERENCES_ARTICLE]->(ref_a:Article)\\n        WITH precedent, final_score, keywords, collect(DISTINCT ref_a.id) AS referenced_articles\\n        RETURN\\n            precedent.id AS id,\\n            'Precedent' AS type,\\n            precedent.name AS name,\\n            coalesce(precedent.full_summary, precedent.judgment_summary) AS text,\\n            final_score AS score,\\n            keywords,\\n            referenced_articles\\n        ORDER BY final_score DESC\\n        LIMIT $limit\\n        \"\n"
     ]
    },
    {
     "name": "stdout",
     "output_type": "stream",
     "text": [
      "Context retrieval took 0.83 seconds.\n"
     ]
    },
    {
     "name": "stderr",
     "output_type": "stream",
     "text": [
      "Received notification from DBMS server: {severity: WARNING} {code: Neo.ClientNotification.Statement.AggregationSkippedNull} {category: UNRECOGNIZED} {title: The query contains an aggregation function that skips null values.} {description: null value eliminated in set function.} {position: None} for query: \"\\n        CALL db.index.vector.queryNodes('article_embedding', $limit * 2, $embedding)\\n        YIELD node AS article, score AS vector_score\\n        OPTIONAL MATCH (p:Precedent)-[:REFERENCES_ARTICLE]->(article)\\n        WITH article, vector_score, count(p) AS precedent_count\\n        WITH article, vector_score + (precedent_count * 0.05) AS final_score, precedent_count\\n        RETURN\\n            article.id AS id,\\n            'Article' AS type,\\n            article.text AS text,\\n            final_score AS score,\\n            precedent_count\\n        ORDER BY final_score DESC\\n        LIMIT $limit\\n        \"\n",
      "Received notification from DBMS server: {severity: WARNING} {code: Neo.ClientNotification.Statement.UnknownRelationshipTypeWarning} {category: UNRECOGNIZED} {title: The provided relationship type is not in the database.} {description: One of the relationship types in your query is not available in the database, make sure you didn't misspell it or that the label is available when you run this statement in your application (the missing relationship type is: HAS_KEYWORD)} {position: line: 4, column: 38, offset: 180} for query: \"\\n        CALL db.index.vector.queryNodes('precedent_embedding', $limit * 2, $embedding)\\n        YIELD node AS precedent, score AS vector_score\\n        OPTIONAL MATCH (precedent)-[:HAS_KEYWORD]->(k:Keyword)\\n        WHERE k.text IN $keywords\\n        WITH precedent, vector_score, collect(DISTINCT k.text) AS keywords\\n        WITH precedent, vector_score + (size(keywords) * 0.1) AS final_score, keywords\\n        OPTIONAL MATCH (precedent)-[:REFERENCES_ARTICLE]->(ref_a:Article)\\n        WITH precedent, final_score, keywords, collect(DISTINCT ref_a.id) AS referenced_articles\\n        RETURN\\n            precedent.id AS id,\\n            'Precedent' AS type,\\n            precedent.name AS name,\\n            coalesce(precedent.full_summary, precedent.judgment_summary) AS text,\\n            final_score AS score,\\n            keywords,\\n            referenced_articles\\n        ORDER BY final_score DESC\\n        LIMIT $limit\\n        \"\n",
      "Received notification from DBMS server: {severity: WARNING} {code: Neo.ClientNotification.Statement.AggregationSkippedNull} {category: UNRECOGNIZED} {title: The query contains an aggregation function that skips null values.} {description: null value eliminated in set function.} {position: None} for query: \"\\n        CALL db.index.vector.queryNodes('precedent_embedding', $limit * 2, $embedding)\\n        YIELD node AS precedent, score AS vector_score\\n        OPTIONAL MATCH (precedent)-[:HAS_KEYWORD]->(k:Keyword)\\n        WHERE k.text IN $keywords\\n        WITH precedent, vector_score, collect(DISTINCT k.text) AS keywords\\n        WITH precedent, vector_score + (size(keywords) * 0.1) AS final_score, keywords\\n        OPTIONAL MATCH (precedent)-[:REFERENCES_ARTICLE]->(ref_a:Article)\\n        WITH precedent, final_score, keywords, collect(DISTINCT ref_a.id) AS referenced_articles\\n        RETURN\\n            precedent.id AS id,\\n            'Precedent' AS type,\\n            precedent.name AS name,\\n            coalesce(precedent.full_summary, precedent.judgment_summary) AS text,\\n            final_score AS score,\\n            keywords,\\n            referenced_articles\\n        ORDER BY final_score DESC\\n        LIMIT $limit\\n        \"\n"
     ]
    },
    {
     "name": "stdout",
     "output_type": "stream",
     "text": [
      "Context retrieval took 0.71 seconds.\n"
     ]
    },
    {
     "name": "stderr",
     "output_type": "stream",
     "text": [
      "Received notification from DBMS server: {severity: WARNING} {code: Neo.ClientNotification.Statement.UnknownRelationshipTypeWarning} {category: UNRECOGNIZED} {title: The provided relationship type is not in the database.} {description: One of the relationship types in your query is not available in the database, make sure you didn't misspell it or that the label is available when you run this statement in your application (the missing relationship type is: HAS_KEYWORD)} {position: line: 4, column: 38, offset: 180} for query: \"\\n        CALL db.index.vector.queryNodes('precedent_embedding', $limit * 2, $embedding)\\n        YIELD node AS precedent, score AS vector_score\\n        OPTIONAL MATCH (precedent)-[:HAS_KEYWORD]->(k:Keyword)\\n        WHERE k.text IN $keywords\\n        WITH precedent, vector_score, collect(DISTINCT k.text) AS keywords\\n        WITH precedent, vector_score + (size(keywords) * 0.1) AS final_score, keywords\\n        OPTIONAL MATCH (precedent)-[:REFERENCES_ARTICLE]->(ref_a:Article)\\n        WITH precedent, final_score, keywords, collect(DISTINCT ref_a.id) AS referenced_articles\\n        RETURN\\n            precedent.id AS id,\\n            'Precedent' AS type,\\n            precedent.name AS name,\\n            coalesce(precedent.full_summary, precedent.judgment_summary) AS text,\\n            final_score AS score,\\n            keywords,\\n            referenced_articles\\n        ORDER BY final_score DESC\\n        LIMIT $limit\\n        \"\n",
      "Received notification from DBMS server: {severity: WARNING} {code: Neo.ClientNotification.Statement.AggregationSkippedNull} {category: UNRECOGNIZED} {title: The query contains an aggregation function that skips null values.} {description: null value eliminated in set function.} {position: None} for query: \"\\n        CALL db.index.vector.queryNodes('precedent_embedding', $limit * 2, $embedding)\\n        YIELD node AS precedent, score AS vector_score\\n        OPTIONAL MATCH (precedent)-[:HAS_KEYWORD]->(k:Keyword)\\n        WHERE k.text IN $keywords\\n        WITH precedent, vector_score, collect(DISTINCT k.text) AS keywords\\n        WITH precedent, vector_score + (size(keywords) * 0.1) AS final_score, keywords\\n        OPTIONAL MATCH (precedent)-[:REFERENCES_ARTICLE]->(ref_a:Article)\\n        WITH precedent, final_score, keywords, collect(DISTINCT ref_a.id) AS referenced_articles\\n        RETURN\\n            precedent.id AS id,\\n            'Precedent' AS type,\\n            precedent.name AS name,\\n            coalesce(precedent.full_summary, precedent.judgment_summary) AS text,\\n            final_score AS score,\\n            keywords,\\n            referenced_articles\\n        ORDER BY final_score DESC\\n        LIMIT $limit\\n        \"\n"
     ]
    },
    {
     "name": "stdout",
     "output_type": "stream",
     "text": [
      "Context retrieval took 0.52 seconds.\n"
     ]
    },
    {
     "name": "stderr",
     "output_type": "stream",
     "text": [
      "Received notification from DBMS server: {severity: WARNING} {code: Neo.ClientNotification.Statement.AggregationSkippedNull} {category: UNRECOGNIZED} {title: The query contains an aggregation function that skips null values.} {description: null value eliminated in set function.} {position: None} for query: \"\\n        CALL db.index.vector.queryNodes('article_embedding', $limit * 2, $embedding)\\n        YIELD node AS article, score AS vector_score\\n        OPTIONAL MATCH (p:Precedent)-[:REFERENCES_ARTICLE]->(article)\\n        WITH article, vector_score, count(p) AS precedent_count\\n        WITH article, vector_score + (precedent_count * 0.05) AS final_score, precedent_count\\n        RETURN\\n            article.id AS id,\\n            'Article' AS type,\\n            article.text AS text,\\n            final_score AS score,\\n            precedent_count\\n        ORDER BY final_score DESC\\n        LIMIT $limit\\n        \"\n",
      "Received notification from DBMS server: {severity: WARNING} {code: Neo.ClientNotification.Statement.UnknownRelationshipTypeWarning} {category: UNRECOGNIZED} {title: The provided relationship type is not in the database.} {description: One of the relationship types in your query is not available in the database, make sure you didn't misspell it or that the label is available when you run this statement in your application (the missing relationship type is: HAS_KEYWORD)} {position: line: 4, column: 38, offset: 180} for query: \"\\n        CALL db.index.vector.queryNodes('precedent_embedding', $limit * 2, $embedding)\\n        YIELD node AS precedent, score AS vector_score\\n        OPTIONAL MATCH (precedent)-[:HAS_KEYWORD]->(k:Keyword)\\n        WHERE k.text IN $keywords\\n        WITH precedent, vector_score, collect(DISTINCT k.text) AS keywords\\n        WITH precedent, vector_score + (size(keywords) * 0.1) AS final_score, keywords\\n        OPTIONAL MATCH (precedent)-[:REFERENCES_ARTICLE]->(ref_a:Article)\\n        WITH precedent, final_score, keywords, collect(DISTINCT ref_a.id) AS referenced_articles\\n        RETURN\\n            precedent.id AS id,\\n            'Precedent' AS type,\\n            precedent.name AS name,\\n            coalesce(precedent.full_summary, precedent.judgment_summary) AS text,\\n            final_score AS score,\\n            keywords,\\n            referenced_articles\\n        ORDER BY final_score DESC\\n        LIMIT $limit\\n        \"\n",
      "Received notification from DBMS server: {severity: WARNING} {code: Neo.ClientNotification.Statement.AggregationSkippedNull} {category: UNRECOGNIZED} {title: The query contains an aggregation function that skips null values.} {description: null value eliminated in set function.} {position: None} for query: \"\\n        CALL db.index.vector.queryNodes('precedent_embedding', $limit * 2, $embedding)\\n        YIELD node AS precedent, score AS vector_score\\n        OPTIONAL MATCH (precedent)-[:HAS_KEYWORD]->(k:Keyword)\\n        WHERE k.text IN $keywords\\n        WITH precedent, vector_score, collect(DISTINCT k.text) AS keywords\\n        WITH precedent, vector_score + (size(keywords) * 0.1) AS final_score, keywords\\n        OPTIONAL MATCH (precedent)-[:REFERENCES_ARTICLE]->(ref_a:Article)\\n        WITH precedent, final_score, keywords, collect(DISTINCT ref_a.id) AS referenced_articles\\n        RETURN\\n            precedent.id AS id,\\n            'Precedent' AS type,\\n            precedent.name AS name,\\n            coalesce(precedent.full_summary, precedent.judgment_summary) AS text,\\n            final_score AS score,\\n            keywords,\\n            referenced_articles\\n        ORDER BY final_score DESC\\n        LIMIT $limit\\n        \"\n"
     ]
    },
    {
     "name": "stdout",
     "output_type": "stream",
     "text": [
      "Context retrieval took 0.60 seconds.\n"
     ]
    },
    {
     "name": "stderr",
     "output_type": "stream",
     "text": [
      "Received notification from DBMS server: {severity: WARNING} {code: Neo.ClientNotification.Statement.UnknownRelationshipTypeWarning} {category: UNRECOGNIZED} {title: The provided relationship type is not in the database.} {description: One of the relationship types in your query is not available in the database, make sure you didn't misspell it or that the label is available when you run this statement in your application (the missing relationship type is: HAS_KEYWORD)} {position: line: 4, column: 38, offset: 180} for query: \"\\n        CALL db.index.vector.queryNodes('precedent_embedding', $limit * 2, $embedding)\\n        YIELD node AS precedent, score AS vector_score\\n        OPTIONAL MATCH (precedent)-[:HAS_KEYWORD]->(k:Keyword)\\n        WHERE k.text IN $keywords\\n        WITH precedent, vector_score, collect(DISTINCT k.text) AS keywords\\n        WITH precedent, vector_score + (size(keywords) * 0.1) AS final_score, keywords\\n        OPTIONAL MATCH (precedent)-[:REFERENCES_ARTICLE]->(ref_a:Article)\\n        WITH precedent, final_score, keywords, collect(DISTINCT ref_a.id) AS referenced_articles\\n        RETURN\\n            precedent.id AS id,\\n            'Precedent' AS type,\\n            precedent.name AS name,\\n            coalesce(precedent.full_summary, precedent.judgment_summary) AS text,\\n            final_score AS score,\\n            keywords,\\n            referenced_articles\\n        ORDER BY final_score DESC\\n        LIMIT $limit\\n        \"\n",
      "Received notification from DBMS server: {severity: WARNING} {code: Neo.ClientNotification.Statement.AggregationSkippedNull} {category: UNRECOGNIZED} {title: The query contains an aggregation function that skips null values.} {description: null value eliminated in set function.} {position: None} for query: \"\\n        CALL db.index.vector.queryNodes('precedent_embedding', $limit * 2, $embedding)\\n        YIELD node AS precedent, score AS vector_score\\n        OPTIONAL MATCH (precedent)-[:HAS_KEYWORD]->(k:Keyword)\\n        WHERE k.text IN $keywords\\n        WITH precedent, vector_score, collect(DISTINCT k.text) AS keywords\\n        WITH precedent, vector_score + (size(keywords) * 0.1) AS final_score, keywords\\n        OPTIONAL MATCH (precedent)-[:REFERENCES_ARTICLE]->(ref_a:Article)\\n        WITH precedent, final_score, keywords, collect(DISTINCT ref_a.id) AS referenced_articles\\n        RETURN\\n            precedent.id AS id,\\n            'Precedent' AS type,\\n            precedent.name AS name,\\n            coalesce(precedent.full_summary, precedent.judgment_summary) AS text,\\n            final_score AS score,\\n            keywords,\\n            referenced_articles\\n        ORDER BY final_score DESC\\n        LIMIT $limit\\n        \"\n"
     ]
    },
    {
     "name": "stdout",
     "output_type": "stream",
     "text": [
      "Context retrieval took 1.15 seconds.\n"
     ]
    },
    {
     "name": "stderr",
     "output_type": "stream",
     "text": [
      "Received notification from DBMS server: {severity: WARNING} {code: Neo.ClientNotification.Statement.AggregationSkippedNull} {category: UNRECOGNIZED} {title: The query contains an aggregation function that skips null values.} {description: null value eliminated in set function.} {position: None} for query: \"\\n        CALL db.index.vector.queryNodes('article_embedding', $limit * 2, $embedding)\\n        YIELD node AS article, score AS vector_score\\n        OPTIONAL MATCH (p:Precedent)-[:REFERENCES_ARTICLE]->(article)\\n        WITH article, vector_score, count(p) AS precedent_count\\n        WITH article, vector_score + (precedent_count * 0.05) AS final_score, precedent_count\\n        RETURN\\n            article.id AS id,\\n            'Article' AS type,\\n            article.text AS text,\\n            final_score AS score,\\n            precedent_count\\n        ORDER BY final_score DESC\\n        LIMIT $limit\\n        \"\n",
      "Received notification from DBMS server: {severity: WARNING} {code: Neo.ClientNotification.Statement.UnknownRelationshipTypeWarning} {category: UNRECOGNIZED} {title: The provided relationship type is not in the database.} {description: One of the relationship types in your query is not available in the database, make sure you didn't misspell it or that the label is available when you run this statement in your application (the missing relationship type is: HAS_KEYWORD)} {position: line: 4, column: 38, offset: 180} for query: \"\\n        CALL db.index.vector.queryNodes('precedent_embedding', $limit * 2, $embedding)\\n        YIELD node AS precedent, score AS vector_score\\n        OPTIONAL MATCH (precedent)-[:HAS_KEYWORD]->(k:Keyword)\\n        WHERE k.text IN $keywords\\n        WITH precedent, vector_score, collect(DISTINCT k.text) AS keywords\\n        WITH precedent, vector_score + (size(keywords) * 0.1) AS final_score, keywords\\n        OPTIONAL MATCH (precedent)-[:REFERENCES_ARTICLE]->(ref_a:Article)\\n        WITH precedent, final_score, keywords, collect(DISTINCT ref_a.id) AS referenced_articles\\n        RETURN\\n            precedent.id AS id,\\n            'Precedent' AS type,\\n            precedent.name AS name,\\n            coalesce(precedent.full_summary, precedent.judgment_summary) AS text,\\n            final_score AS score,\\n            keywords,\\n            referenced_articles\\n        ORDER BY final_score DESC\\n        LIMIT $limit\\n        \"\n",
      "Received notification from DBMS server: {severity: WARNING} {code: Neo.ClientNotification.Statement.AggregationSkippedNull} {category: UNRECOGNIZED} {title: The query contains an aggregation function that skips null values.} {description: null value eliminated in set function.} {position: None} for query: \"\\n        CALL db.index.vector.queryNodes('precedent_embedding', $limit * 2, $embedding)\\n        YIELD node AS precedent, score AS vector_score\\n        OPTIONAL MATCH (precedent)-[:HAS_KEYWORD]->(k:Keyword)\\n        WHERE k.text IN $keywords\\n        WITH precedent, vector_score, collect(DISTINCT k.text) AS keywords\\n        WITH precedent, vector_score + (size(keywords) * 0.1) AS final_score, keywords\\n        OPTIONAL MATCH (precedent)-[:REFERENCES_ARTICLE]->(ref_a:Article)\\n        WITH precedent, final_score, keywords, collect(DISTINCT ref_a.id) AS referenced_articles\\n        RETURN\\n            precedent.id AS id,\\n            'Precedent' AS type,\\n            precedent.name AS name,\\n            coalesce(precedent.full_summary, precedent.judgment_summary) AS text,\\n            final_score AS score,\\n            keywords,\\n            referenced_articles\\n        ORDER BY final_score DESC\\n        LIMIT $limit\\n        \"\n"
     ]
    },
    {
     "name": "stdout",
     "output_type": "stream",
     "text": [
      "Context retrieval took 0.74 seconds.\n"
     ]
    },
    {
     "name": "stderr",
     "output_type": "stream",
     "text": [
      "Received notification from DBMS server: {severity: WARNING} {code: Neo.ClientNotification.Statement.UnknownRelationshipTypeWarning} {category: UNRECOGNIZED} {title: The provided relationship type is not in the database.} {description: One of the relationship types in your query is not available in the database, make sure you didn't misspell it or that the label is available when you run this statement in your application (the missing relationship type is: HAS_KEYWORD)} {position: line: 4, column: 38, offset: 180} for query: \"\\n        CALL db.index.vector.queryNodes('precedent_embedding', $limit * 2, $embedding)\\n        YIELD node AS precedent, score AS vector_score\\n        OPTIONAL MATCH (precedent)-[:HAS_KEYWORD]->(k:Keyword)\\n        WHERE k.text IN $keywords\\n        WITH precedent, vector_score, collect(DISTINCT k.text) AS keywords\\n        WITH precedent, vector_score + (size(keywords) * 0.1) AS final_score, keywords\\n        OPTIONAL MATCH (precedent)-[:REFERENCES_ARTICLE]->(ref_a:Article)\\n        WITH precedent, final_score, keywords, collect(DISTINCT ref_a.id) AS referenced_articles\\n        RETURN\\n            precedent.id AS id,\\n            'Precedent' AS type,\\n            precedent.name AS name,\\n            coalesce(precedent.full_summary, precedent.judgment_summary) AS text,\\n            final_score AS score,\\n            keywords,\\n            referenced_articles\\n        ORDER BY final_score DESC\\n        LIMIT $limit\\n        \"\n",
      "Received notification from DBMS server: {severity: WARNING} {code: Neo.ClientNotification.Statement.AggregationSkippedNull} {category: UNRECOGNIZED} {title: The query contains an aggregation function that skips null values.} {description: null value eliminated in set function.} {position: None} for query: \"\\n        CALL db.index.vector.queryNodes('precedent_embedding', $limit * 2, $embedding)\\n        YIELD node AS precedent, score AS vector_score\\n        OPTIONAL MATCH (precedent)-[:HAS_KEYWORD]->(k:Keyword)\\n        WHERE k.text IN $keywords\\n        WITH precedent, vector_score, collect(DISTINCT k.text) AS keywords\\n        WITH precedent, vector_score + (size(keywords) * 0.1) AS final_score, keywords\\n        OPTIONAL MATCH (precedent)-[:REFERENCES_ARTICLE]->(ref_a:Article)\\n        WITH precedent, final_score, keywords, collect(DISTINCT ref_a.id) AS referenced_articles\\n        RETURN\\n            precedent.id AS id,\\n            'Precedent' AS type,\\n            precedent.name AS name,\\n            coalesce(precedent.full_summary, precedent.judgment_summary) AS text,\\n            final_score AS score,\\n            keywords,\\n            referenced_articles\\n        ORDER BY final_score DESC\\n        LIMIT $limit\\n        \"\n"
     ]
    },
    {
     "name": "stdout",
     "output_type": "stream",
     "text": [
      "Context retrieval took 0.59 seconds.\n"
     ]
    },
    {
     "name": "stderr",
     "output_type": "stream",
     "text": [
      "Received notification from DBMS server: {severity: WARNING} {code: Neo.ClientNotification.Statement.AggregationSkippedNull} {category: UNRECOGNIZED} {title: The query contains an aggregation function that skips null values.} {description: null value eliminated in set function.} {position: None} for query: \"\\n        CALL db.index.vector.queryNodes('article_embedding', $limit * 2, $embedding)\\n        YIELD node AS article, score AS vector_score\\n        OPTIONAL MATCH (p:Precedent)-[:REFERENCES_ARTICLE]->(article)\\n        WITH article, vector_score, count(p) AS precedent_count\\n        WITH article, vector_score + (precedent_count * 0.05) AS final_score, precedent_count\\n        RETURN\\n            article.id AS id,\\n            'Article' AS type,\\n            article.text AS text,\\n            final_score AS score,\\n            precedent_count\\n        ORDER BY final_score DESC\\n        LIMIT $limit\\n        \"\n",
      "Received notification from DBMS server: {severity: WARNING} {code: Neo.ClientNotification.Statement.UnknownRelationshipTypeWarning} {category: UNRECOGNIZED} {title: The provided relationship type is not in the database.} {description: One of the relationship types in your query is not available in the database, make sure you didn't misspell it or that the label is available when you run this statement in your application (the missing relationship type is: HAS_KEYWORD)} {position: line: 4, column: 38, offset: 180} for query: \"\\n        CALL db.index.vector.queryNodes('precedent_embedding', $limit * 2, $embedding)\\n        YIELD node AS precedent, score AS vector_score\\n        OPTIONAL MATCH (precedent)-[:HAS_KEYWORD]->(k:Keyword)\\n        WHERE k.text IN $keywords\\n        WITH precedent, vector_score, collect(DISTINCT k.text) AS keywords\\n        WITH precedent, vector_score + (size(keywords) * 0.1) AS final_score, keywords\\n        OPTIONAL MATCH (precedent)-[:REFERENCES_ARTICLE]->(ref_a:Article)\\n        WITH precedent, final_score, keywords, collect(DISTINCT ref_a.id) AS referenced_articles\\n        RETURN\\n            precedent.id AS id,\\n            'Precedent' AS type,\\n            precedent.name AS name,\\n            coalesce(precedent.full_summary, precedent.judgment_summary) AS text,\\n            final_score AS score,\\n            keywords,\\n            referenced_articles\\n        ORDER BY final_score DESC\\n        LIMIT $limit\\n        \"\n",
      "Received notification from DBMS server: {severity: WARNING} {code: Neo.ClientNotification.Statement.AggregationSkippedNull} {category: UNRECOGNIZED} {title: The query contains an aggregation function that skips null values.} {description: null value eliminated in set function.} {position: None} for query: \"\\n        CALL db.index.vector.queryNodes('precedent_embedding', $limit * 2, $embedding)\\n        YIELD node AS precedent, score AS vector_score\\n        OPTIONAL MATCH (precedent)-[:HAS_KEYWORD]->(k:Keyword)\\n        WHERE k.text IN $keywords\\n        WITH precedent, vector_score, collect(DISTINCT k.text) AS keywords\\n        WITH precedent, vector_score + (size(keywords) * 0.1) AS final_score, keywords\\n        OPTIONAL MATCH (precedent)-[:REFERENCES_ARTICLE]->(ref_a:Article)\\n        WITH precedent, final_score, keywords, collect(DISTINCT ref_a.id) AS referenced_articles\\n        RETURN\\n            precedent.id AS id,\\n            'Precedent' AS type,\\n            precedent.name AS name,\\n            coalesce(precedent.full_summary, precedent.judgment_summary) AS text,\\n            final_score AS score,\\n            keywords,\\n            referenced_articles\\n        ORDER BY final_score DESC\\n        LIMIT $limit\\n        \"\n"
     ]
    },
    {
     "name": "stdout",
     "output_type": "stream",
     "text": [
      "Context retrieval took 0.54 seconds.\n"
     ]
    },
    {
     "name": "stderr",
     "output_type": "stream",
     "text": [
      "Received notification from DBMS server: {severity: WARNING} {code: Neo.ClientNotification.Statement.AggregationSkippedNull} {category: UNRECOGNIZED} {title: The query contains an aggregation function that skips null values.} {description: null value eliminated in set function.} {position: None} for query: \"\\n        CALL db.index.vector.queryNodes('article_embedding', $limit * 2, $embedding)\\n        YIELD node AS article, score AS vector_score\\n        OPTIONAL MATCH (p:Precedent)-[:REFERENCES_ARTICLE]->(article)\\n        WITH article, vector_score, count(p) AS precedent_count\\n        WITH article, vector_score + (precedent_count * 0.05) AS final_score, precedent_count\\n        RETURN\\n            article.id AS id,\\n            'Article' AS type,\\n            article.text AS text,\\n            final_score AS score,\\n            precedent_count\\n        ORDER BY final_score DESC\\n        LIMIT $limit\\n        \"\n",
      "Received notification from DBMS server: {severity: WARNING} {code: Neo.ClientNotification.Statement.UnknownRelationshipTypeWarning} {category: UNRECOGNIZED} {title: The provided relationship type is not in the database.} {description: One of the relationship types in your query is not available in the database, make sure you didn't misspell it or that the label is available when you run this statement in your application (the missing relationship type is: HAS_KEYWORD)} {position: line: 4, column: 38, offset: 180} for query: \"\\n        CALL db.index.vector.queryNodes('precedent_embedding', $limit * 2, $embedding)\\n        YIELD node AS precedent, score AS vector_score\\n        OPTIONAL MATCH (precedent)-[:HAS_KEYWORD]->(k:Keyword)\\n        WHERE k.text IN $keywords\\n        WITH precedent, vector_score, collect(DISTINCT k.text) AS keywords\\n        WITH precedent, vector_score + (size(keywords) * 0.1) AS final_score, keywords\\n        OPTIONAL MATCH (precedent)-[:REFERENCES_ARTICLE]->(ref_a:Article)\\n        WITH precedent, final_score, keywords, collect(DISTINCT ref_a.id) AS referenced_articles\\n        RETURN\\n            precedent.id AS id,\\n            'Precedent' AS type,\\n            precedent.name AS name,\\n            coalesce(precedent.full_summary, precedent.judgment_summary) AS text,\\n            final_score AS score,\\n            keywords,\\n            referenced_articles\\n        ORDER BY final_score DESC\\n        LIMIT $limit\\n        \"\n",
      "Received notification from DBMS server: {severity: WARNING} {code: Neo.ClientNotification.Statement.AggregationSkippedNull} {category: UNRECOGNIZED} {title: The query contains an aggregation function that skips null values.} {description: null value eliminated in set function.} {position: None} for query: \"\\n        CALL db.index.vector.queryNodes('precedent_embedding', $limit * 2, $embedding)\\n        YIELD node AS precedent, score AS vector_score\\n        OPTIONAL MATCH (precedent)-[:HAS_KEYWORD]->(k:Keyword)\\n        WHERE k.text IN $keywords\\n        WITH precedent, vector_score, collect(DISTINCT k.text) AS keywords\\n        WITH precedent, vector_score + (size(keywords) * 0.1) AS final_score, keywords\\n        OPTIONAL MATCH (precedent)-[:REFERENCES_ARTICLE]->(ref_a:Article)\\n        WITH precedent, final_score, keywords, collect(DISTINCT ref_a.id) AS referenced_articles\\n        RETURN\\n            precedent.id AS id,\\n            'Precedent' AS type,\\n            precedent.name AS name,\\n            coalesce(precedent.full_summary, precedent.judgment_summary) AS text,\\n            final_score AS score,\\n            keywords,\\n            referenced_articles\\n        ORDER BY final_score DESC\\n        LIMIT $limit\\n        \"\n"
     ]
    },
    {
     "name": "stdout",
     "output_type": "stream",
     "text": [
      "Context retrieval took 0.57 seconds.\n"
     ]
    },
    {
     "name": "stderr",
     "output_type": "stream",
     "text": [
      "Received notification from DBMS server: {severity: WARNING} {code: Neo.ClientNotification.Statement.AggregationSkippedNull} {category: UNRECOGNIZED} {title: The query contains an aggregation function that skips null values.} {description: null value eliminated in set function.} {position: None} for query: \"\\n        CALL db.index.vector.queryNodes('article_embedding', $limit * 2, $embedding)\\n        YIELD node AS article, score AS vector_score\\n        OPTIONAL MATCH (p:Precedent)-[:REFERENCES_ARTICLE]->(article)\\n        WITH article, vector_score, count(p) AS precedent_count\\n        WITH article, vector_score + (precedent_count * 0.05) AS final_score, precedent_count\\n        RETURN\\n            article.id AS id,\\n            'Article' AS type,\\n            article.text AS text,\\n            final_score AS score,\\n            precedent_count\\n        ORDER BY final_score DESC\\n        LIMIT $limit\\n        \"\n",
      "Received notification from DBMS server: {severity: WARNING} {code: Neo.ClientNotification.Statement.UnknownRelationshipTypeWarning} {category: UNRECOGNIZED} {title: The provided relationship type is not in the database.} {description: One of the relationship types in your query is not available in the database, make sure you didn't misspell it or that the label is available when you run this statement in your application (the missing relationship type is: HAS_KEYWORD)} {position: line: 4, column: 38, offset: 180} for query: \"\\n        CALL db.index.vector.queryNodes('precedent_embedding', $limit * 2, $embedding)\\n        YIELD node AS precedent, score AS vector_score\\n        OPTIONAL MATCH (precedent)-[:HAS_KEYWORD]->(k:Keyword)\\n        WHERE k.text IN $keywords\\n        WITH precedent, vector_score, collect(DISTINCT k.text) AS keywords\\n        WITH precedent, vector_score + (size(keywords) * 0.1) AS final_score, keywords\\n        OPTIONAL MATCH (precedent)-[:REFERENCES_ARTICLE]->(ref_a:Article)\\n        WITH precedent, final_score, keywords, collect(DISTINCT ref_a.id) AS referenced_articles\\n        RETURN\\n            precedent.id AS id,\\n            'Precedent' AS type,\\n            precedent.name AS name,\\n            coalesce(precedent.full_summary, precedent.judgment_summary) AS text,\\n            final_score AS score,\\n            keywords,\\n            referenced_articles\\n        ORDER BY final_score DESC\\n        LIMIT $limit\\n        \"\n",
      "Received notification from DBMS server: {severity: WARNING} {code: Neo.ClientNotification.Statement.AggregationSkippedNull} {category: UNRECOGNIZED} {title: The query contains an aggregation function that skips null values.} {description: null value eliminated in set function.} {position: None} for query: \"\\n        CALL db.index.vector.queryNodes('precedent_embedding', $limit * 2, $embedding)\\n        YIELD node AS precedent, score AS vector_score\\n        OPTIONAL MATCH (precedent)-[:HAS_KEYWORD]->(k:Keyword)\\n        WHERE k.text IN $keywords\\n        WITH precedent, vector_score, collect(DISTINCT k.text) AS keywords\\n        WITH precedent, vector_score + (size(keywords) * 0.1) AS final_score, keywords\\n        OPTIONAL MATCH (precedent)-[:REFERENCES_ARTICLE]->(ref_a:Article)\\n        WITH precedent, final_score, keywords, collect(DISTINCT ref_a.id) AS referenced_articles\\n        RETURN\\n            precedent.id AS id,\\n            'Precedent' AS type,\\n            precedent.name AS name,\\n            coalesce(precedent.full_summary, precedent.judgment_summary) AS text,\\n            final_score AS score,\\n            keywords,\\n            referenced_articles\\n        ORDER BY final_score DESC\\n        LIMIT $limit\\n        \"\n"
     ]
    },
    {
     "name": "stdout",
     "output_type": "stream",
     "text": [
      "Context retrieval took 0.68 seconds.\n"
     ]
    },
    {
     "name": "stderr",
     "output_type": "stream",
     "text": [
      "Received notification from DBMS server: {severity: WARNING} {code: Neo.ClientNotification.Statement.AggregationSkippedNull} {category: UNRECOGNIZED} {title: The query contains an aggregation function that skips null values.} {description: null value eliminated in set function.} {position: None} for query: \"\\n        CALL db.index.vector.queryNodes('article_embedding', $limit * 2, $embedding)\\n        YIELD node AS article, score AS vector_score\\n        OPTIONAL MATCH (p:Precedent)-[:REFERENCES_ARTICLE]->(article)\\n        WITH article, vector_score, count(p) AS precedent_count\\n        WITH article, vector_score + (precedent_count * 0.05) AS final_score, precedent_count\\n        RETURN\\n            article.id AS id,\\n            'Article' AS type,\\n            article.text AS text,\\n            final_score AS score,\\n            precedent_count\\n        ORDER BY final_score DESC\\n        LIMIT $limit\\n        \"\n",
      "Received notification from DBMS server: {severity: WARNING} {code: Neo.ClientNotification.Statement.UnknownRelationshipTypeWarning} {category: UNRECOGNIZED} {title: The provided relationship type is not in the database.} {description: One of the relationship types in your query is not available in the database, make sure you didn't misspell it or that the label is available when you run this statement in your application (the missing relationship type is: HAS_KEYWORD)} {position: line: 4, column: 38, offset: 180} for query: \"\\n        CALL db.index.vector.queryNodes('precedent_embedding', $limit * 2, $embedding)\\n        YIELD node AS precedent, score AS vector_score\\n        OPTIONAL MATCH (precedent)-[:HAS_KEYWORD]->(k:Keyword)\\n        WHERE k.text IN $keywords\\n        WITH precedent, vector_score, collect(DISTINCT k.text) AS keywords\\n        WITH precedent, vector_score + (size(keywords) * 0.1) AS final_score, keywords\\n        OPTIONAL MATCH (precedent)-[:REFERENCES_ARTICLE]->(ref_a:Article)\\n        WITH precedent, final_score, keywords, collect(DISTINCT ref_a.id) AS referenced_articles\\n        RETURN\\n            precedent.id AS id,\\n            'Precedent' AS type,\\n            precedent.name AS name,\\n            coalesce(precedent.full_summary, precedent.judgment_summary) AS text,\\n            final_score AS score,\\n            keywords,\\n            referenced_articles\\n        ORDER BY final_score DESC\\n        LIMIT $limit\\n        \"\n",
      "Received notification from DBMS server: {severity: WARNING} {code: Neo.ClientNotification.Statement.AggregationSkippedNull} {category: UNRECOGNIZED} {title: The query contains an aggregation function that skips null values.} {description: null value eliminated in set function.} {position: None} for query: \"\\n        CALL db.index.vector.queryNodes('precedent_embedding', $limit * 2, $embedding)\\n        YIELD node AS precedent, score AS vector_score\\n        OPTIONAL MATCH (precedent)-[:HAS_KEYWORD]->(k:Keyword)\\n        WHERE k.text IN $keywords\\n        WITH precedent, vector_score, collect(DISTINCT k.text) AS keywords\\n        WITH precedent, vector_score + (size(keywords) * 0.1) AS final_score, keywords\\n        OPTIONAL MATCH (precedent)-[:REFERENCES_ARTICLE]->(ref_a:Article)\\n        WITH precedent, final_score, keywords, collect(DISTINCT ref_a.id) AS referenced_articles\\n        RETURN\\n            precedent.id AS id,\\n            'Precedent' AS type,\\n            precedent.name AS name,\\n            coalesce(precedent.full_summary, precedent.judgment_summary) AS text,\\n            final_score AS score,\\n            keywords,\\n            referenced_articles\\n        ORDER BY final_score DESC\\n        LIMIT $limit\\n        \"\n"
     ]
    },
    {
     "name": "stdout",
     "output_type": "stream",
     "text": [
      "Context retrieval took 0.53 seconds.\n"
     ]
    },
    {
     "name": "stderr",
     "output_type": "stream",
     "text": [
      "Received notification from DBMS server: {severity: WARNING} {code: Neo.ClientNotification.Statement.AggregationSkippedNull} {category: UNRECOGNIZED} {title: The query contains an aggregation function that skips null values.} {description: null value eliminated in set function.} {position: None} for query: \"\\n        CALL db.index.vector.queryNodes('article_embedding', $limit * 2, $embedding)\\n        YIELD node AS article, score AS vector_score\\n        OPTIONAL MATCH (p:Precedent)-[:REFERENCES_ARTICLE]->(article)\\n        WITH article, vector_score, count(p) AS precedent_count\\n        WITH article, vector_score + (precedent_count * 0.05) AS final_score, precedent_count\\n        RETURN\\n            article.id AS id,\\n            'Article' AS type,\\n            article.text AS text,\\n            final_score AS score,\\n            precedent_count\\n        ORDER BY final_score DESC\\n        LIMIT $limit\\n        \"\n",
      "Received notification from DBMS server: {severity: WARNING} {code: Neo.ClientNotification.Statement.UnknownRelationshipTypeWarning} {category: UNRECOGNIZED} {title: The provided relationship type is not in the database.} {description: One of the relationship types in your query is not available in the database, make sure you didn't misspell it or that the label is available when you run this statement in your application (the missing relationship type is: HAS_KEYWORD)} {position: line: 4, column: 38, offset: 180} for query: \"\\n        CALL db.index.vector.queryNodes('precedent_embedding', $limit * 2, $embedding)\\n        YIELD node AS precedent, score AS vector_score\\n        OPTIONAL MATCH (precedent)-[:HAS_KEYWORD]->(k:Keyword)\\n        WHERE k.text IN $keywords\\n        WITH precedent, vector_score, collect(DISTINCT k.text) AS keywords\\n        WITH precedent, vector_score + (size(keywords) * 0.1) AS final_score, keywords\\n        OPTIONAL MATCH (precedent)-[:REFERENCES_ARTICLE]->(ref_a:Article)\\n        WITH precedent, final_score, keywords, collect(DISTINCT ref_a.id) AS referenced_articles\\n        RETURN\\n            precedent.id AS id,\\n            'Precedent' AS type,\\n            precedent.name AS name,\\n            coalesce(precedent.full_summary, precedent.judgment_summary) AS text,\\n            final_score AS score,\\n            keywords,\\n            referenced_articles\\n        ORDER BY final_score DESC\\n        LIMIT $limit\\n        \"\n",
      "Received notification from DBMS server: {severity: WARNING} {code: Neo.ClientNotification.Statement.AggregationSkippedNull} {category: UNRECOGNIZED} {title: The query contains an aggregation function that skips null values.} {description: null value eliminated in set function.} {position: None} for query: \"\\n        CALL db.index.vector.queryNodes('precedent_embedding', $limit * 2, $embedding)\\n        YIELD node AS precedent, score AS vector_score\\n        OPTIONAL MATCH (precedent)-[:HAS_KEYWORD]->(k:Keyword)\\n        WHERE k.text IN $keywords\\n        WITH precedent, vector_score, collect(DISTINCT k.text) AS keywords\\n        WITH precedent, vector_score + (size(keywords) * 0.1) AS final_score, keywords\\n        OPTIONAL MATCH (precedent)-[:REFERENCES_ARTICLE]->(ref_a:Article)\\n        WITH precedent, final_score, keywords, collect(DISTINCT ref_a.id) AS referenced_articles\\n        RETURN\\n            precedent.id AS id,\\n            'Precedent' AS type,\\n            precedent.name AS name,\\n            coalesce(precedent.full_summary, precedent.judgment_summary) AS text,\\n            final_score AS score,\\n            keywords,\\n            referenced_articles\\n        ORDER BY final_score DESC\\n        LIMIT $limit\\n        \"\n"
     ]
    },
    {
     "name": "stdout",
     "output_type": "stream",
     "text": [
      "Context retrieval took 0.89 seconds.\n"
     ]
    },
    {
     "name": "stderr",
     "output_type": "stream",
     "text": [
      "Received notification from DBMS server: {severity: WARNING} {code: Neo.ClientNotification.Statement.AggregationSkippedNull} {category: UNRECOGNIZED} {title: The query contains an aggregation function that skips null values.} {description: null value eliminated in set function.} {position: None} for query: \"\\n        CALL db.index.vector.queryNodes('article_embedding', $limit * 2, $embedding)\\n        YIELD node AS article, score AS vector_score\\n        OPTIONAL MATCH (p:Precedent)-[:REFERENCES_ARTICLE]->(article)\\n        WITH article, vector_score, count(p) AS precedent_count\\n        WITH article, vector_score + (precedent_count * 0.05) AS final_score, precedent_count\\n        RETURN\\n            article.id AS id,\\n            'Article' AS type,\\n            article.text AS text,\\n            final_score AS score,\\n            precedent_count\\n        ORDER BY final_score DESC\\n        LIMIT $limit\\n        \"\n",
      "Received notification from DBMS server: {severity: WARNING} {code: Neo.ClientNotification.Statement.UnknownRelationshipTypeWarning} {category: UNRECOGNIZED} {title: The provided relationship type is not in the database.} {description: One of the relationship types in your query is not available in the database, make sure you didn't misspell it or that the label is available when you run this statement in your application (the missing relationship type is: HAS_KEYWORD)} {position: line: 4, column: 38, offset: 180} for query: \"\\n        CALL db.index.vector.queryNodes('precedent_embedding', $limit * 2, $embedding)\\n        YIELD node AS precedent, score AS vector_score\\n        OPTIONAL MATCH (precedent)-[:HAS_KEYWORD]->(k:Keyword)\\n        WHERE k.text IN $keywords\\n        WITH precedent, vector_score, collect(DISTINCT k.text) AS keywords\\n        WITH precedent, vector_score + (size(keywords) * 0.1) AS final_score, keywords\\n        OPTIONAL MATCH (precedent)-[:REFERENCES_ARTICLE]->(ref_a:Article)\\n        WITH precedent, final_score, keywords, collect(DISTINCT ref_a.id) AS referenced_articles\\n        RETURN\\n            precedent.id AS id,\\n            'Precedent' AS type,\\n            precedent.name AS name,\\n            coalesce(precedent.full_summary, precedent.judgment_summary) AS text,\\n            final_score AS score,\\n            keywords,\\n            referenced_articles\\n        ORDER BY final_score DESC\\n        LIMIT $limit\\n        \"\n",
      "Received notification from DBMS server: {severity: WARNING} {code: Neo.ClientNotification.Statement.AggregationSkippedNull} {category: UNRECOGNIZED} {title: The query contains an aggregation function that skips null values.} {description: null value eliminated in set function.} {position: None} for query: \"\\n        CALL db.index.vector.queryNodes('precedent_embedding', $limit * 2, $embedding)\\n        YIELD node AS precedent, score AS vector_score\\n        OPTIONAL MATCH (precedent)-[:HAS_KEYWORD]->(k:Keyword)\\n        WHERE k.text IN $keywords\\n        WITH precedent, vector_score, collect(DISTINCT k.text) AS keywords\\n        WITH precedent, vector_score + (size(keywords) * 0.1) AS final_score, keywords\\n        OPTIONAL MATCH (precedent)-[:REFERENCES_ARTICLE]->(ref_a:Article)\\n        WITH precedent, final_score, keywords, collect(DISTINCT ref_a.id) AS referenced_articles\\n        RETURN\\n            precedent.id AS id,\\n            'Precedent' AS type,\\n            precedent.name AS name,\\n            coalesce(precedent.full_summary, precedent.judgment_summary) AS text,\\n            final_score AS score,\\n            keywords,\\n            referenced_articles\\n        ORDER BY final_score DESC\\n        LIMIT $limit\\n        \"\n"
     ]
    },
    {
     "name": "stdout",
     "output_type": "stream",
     "text": [
      "Context retrieval took 0.61 seconds.\n"
     ]
    },
    {
     "name": "stderr",
     "output_type": "stream",
     "text": [
      "Received notification from DBMS server: {severity: WARNING} {code: Neo.ClientNotification.Statement.UnknownRelationshipTypeWarning} {category: UNRECOGNIZED} {title: The provided relationship type is not in the database.} {description: One of the relationship types in your query is not available in the database, make sure you didn't misspell it or that the label is available when you run this statement in your application (the missing relationship type is: HAS_KEYWORD)} {position: line: 4, column: 38, offset: 180} for query: \"\\n        CALL db.index.vector.queryNodes('precedent_embedding', $limit * 2, $embedding)\\n        YIELD node AS precedent, score AS vector_score\\n        OPTIONAL MATCH (precedent)-[:HAS_KEYWORD]->(k:Keyword)\\n        WHERE k.text IN $keywords\\n        WITH precedent, vector_score, collect(DISTINCT k.text) AS keywords\\n        WITH precedent, vector_score + (size(keywords) * 0.1) AS final_score, keywords\\n        OPTIONAL MATCH (precedent)-[:REFERENCES_ARTICLE]->(ref_a:Article)\\n        WITH precedent, final_score, keywords, collect(DISTINCT ref_a.id) AS referenced_articles\\n        RETURN\\n            precedent.id AS id,\\n            'Precedent' AS type,\\n            precedent.name AS name,\\n            coalesce(precedent.full_summary, precedent.judgment_summary) AS text,\\n            final_score AS score,\\n            keywords,\\n            referenced_articles\\n        ORDER BY final_score DESC\\n        LIMIT $limit\\n        \"\n",
      "Received notification from DBMS server: {severity: WARNING} {code: Neo.ClientNotification.Statement.AggregationSkippedNull} {category: UNRECOGNIZED} {title: The query contains an aggregation function that skips null values.} {description: null value eliminated in set function.} {position: None} for query: \"\\n        CALL db.index.vector.queryNodes('precedent_embedding', $limit * 2, $embedding)\\n        YIELD node AS precedent, score AS vector_score\\n        OPTIONAL MATCH (precedent)-[:HAS_KEYWORD]->(k:Keyword)\\n        WHERE k.text IN $keywords\\n        WITH precedent, vector_score, collect(DISTINCT k.text) AS keywords\\n        WITH precedent, vector_score + (size(keywords) * 0.1) AS final_score, keywords\\n        OPTIONAL MATCH (precedent)-[:REFERENCES_ARTICLE]->(ref_a:Article)\\n        WITH precedent, final_score, keywords, collect(DISTINCT ref_a.id) AS referenced_articles\\n        RETURN\\n            precedent.id AS id,\\n            'Precedent' AS type,\\n            precedent.name AS name,\\n            coalesce(precedent.full_summary, precedent.judgment_summary) AS text,\\n            final_score AS score,\\n            keywords,\\n            referenced_articles\\n        ORDER BY final_score DESC\\n        LIMIT $limit\\n        \"\n"
     ]
    },
    {
     "name": "stdout",
     "output_type": "stream",
     "text": [
      "Context retrieval took 0.86 seconds.\n"
     ]
    },
    {
     "name": "stderr",
     "output_type": "stream",
     "text": [
      "Received notification from DBMS server: {severity: WARNING} {code: Neo.ClientNotification.Statement.UnknownRelationshipTypeWarning} {category: UNRECOGNIZED} {title: The provided relationship type is not in the database.} {description: One of the relationship types in your query is not available in the database, make sure you didn't misspell it or that the label is available when you run this statement in your application (the missing relationship type is: HAS_KEYWORD)} {position: line: 4, column: 38, offset: 180} for query: \"\\n        CALL db.index.vector.queryNodes('precedent_embedding', $limit * 2, $embedding)\\n        YIELD node AS precedent, score AS vector_score\\n        OPTIONAL MATCH (precedent)-[:HAS_KEYWORD]->(k:Keyword)\\n        WHERE k.text IN $keywords\\n        WITH precedent, vector_score, collect(DISTINCT k.text) AS keywords\\n        WITH precedent, vector_score + (size(keywords) * 0.1) AS final_score, keywords\\n        OPTIONAL MATCH (precedent)-[:REFERENCES_ARTICLE]->(ref_a:Article)\\n        WITH precedent, final_score, keywords, collect(DISTINCT ref_a.id) AS referenced_articles\\n        RETURN\\n            precedent.id AS id,\\n            'Precedent' AS type,\\n            precedent.name AS name,\\n            coalesce(precedent.full_summary, precedent.judgment_summary) AS text,\\n            final_score AS score,\\n            keywords,\\n            referenced_articles\\n        ORDER BY final_score DESC\\n        LIMIT $limit\\n        \"\n",
      "Received notification from DBMS server: {severity: WARNING} {code: Neo.ClientNotification.Statement.AggregationSkippedNull} {category: UNRECOGNIZED} {title: The query contains an aggregation function that skips null values.} {description: null value eliminated in set function.} {position: None} for query: \"\\n        CALL db.index.vector.queryNodes('precedent_embedding', $limit * 2, $embedding)\\n        YIELD node AS precedent, score AS vector_score\\n        OPTIONAL MATCH (precedent)-[:HAS_KEYWORD]->(k:Keyword)\\n        WHERE k.text IN $keywords\\n        WITH precedent, vector_score, collect(DISTINCT k.text) AS keywords\\n        WITH precedent, vector_score + (size(keywords) * 0.1) AS final_score, keywords\\n        OPTIONAL MATCH (precedent)-[:REFERENCES_ARTICLE]->(ref_a:Article)\\n        WITH precedent, final_score, keywords, collect(DISTINCT ref_a.id) AS referenced_articles\\n        RETURN\\n            precedent.id AS id,\\n            'Precedent' AS type,\\n            precedent.name AS name,\\n            coalesce(precedent.full_summary, precedent.judgment_summary) AS text,\\n            final_score AS score,\\n            keywords,\\n            referenced_articles\\n        ORDER BY final_score DESC\\n        LIMIT $limit\\n        \"\n"
     ]
    },
    {
     "name": "stdout",
     "output_type": "stream",
     "text": [
      "Context retrieval took 0.70 seconds.\n"
     ]
    },
    {
     "name": "stderr",
     "output_type": "stream",
     "text": [
      "Received notification from DBMS server: {severity: WARNING} {code: Neo.ClientNotification.Statement.UnknownRelationshipTypeWarning} {category: UNRECOGNIZED} {title: The provided relationship type is not in the database.} {description: One of the relationship types in your query is not available in the database, make sure you didn't misspell it or that the label is available when you run this statement in your application (the missing relationship type is: HAS_KEYWORD)} {position: line: 4, column: 38, offset: 180} for query: \"\\n        CALL db.index.vector.queryNodes('precedent_embedding', $limit * 2, $embedding)\\n        YIELD node AS precedent, score AS vector_score\\n        OPTIONAL MATCH (precedent)-[:HAS_KEYWORD]->(k:Keyword)\\n        WHERE k.text IN $keywords\\n        WITH precedent, vector_score, collect(DISTINCT k.text) AS keywords\\n        WITH precedent, vector_score + (size(keywords) * 0.1) AS final_score, keywords\\n        OPTIONAL MATCH (precedent)-[:REFERENCES_ARTICLE]->(ref_a:Article)\\n        WITH precedent, final_score, keywords, collect(DISTINCT ref_a.id) AS referenced_articles\\n        RETURN\\n            precedent.id AS id,\\n            'Precedent' AS type,\\n            precedent.name AS name,\\n            coalesce(precedent.full_summary, precedent.judgment_summary) AS text,\\n            final_score AS score,\\n            keywords,\\n            referenced_articles\\n        ORDER BY final_score DESC\\n        LIMIT $limit\\n        \"\n",
      "Received notification from DBMS server: {severity: WARNING} {code: Neo.ClientNotification.Statement.AggregationSkippedNull} {category: UNRECOGNIZED} {title: The query contains an aggregation function that skips null values.} {description: null value eliminated in set function.} {position: None} for query: \"\\n        CALL db.index.vector.queryNodes('precedent_embedding', $limit * 2, $embedding)\\n        YIELD node AS precedent, score AS vector_score\\n        OPTIONAL MATCH (precedent)-[:HAS_KEYWORD]->(k:Keyword)\\n        WHERE k.text IN $keywords\\n        WITH precedent, vector_score, collect(DISTINCT k.text) AS keywords\\n        WITH precedent, vector_score + (size(keywords) * 0.1) AS final_score, keywords\\n        OPTIONAL MATCH (precedent)-[:REFERENCES_ARTICLE]->(ref_a:Article)\\n        WITH precedent, final_score, keywords, collect(DISTINCT ref_a.id) AS referenced_articles\\n        RETURN\\n            precedent.id AS id,\\n            'Precedent' AS type,\\n            precedent.name AS name,\\n            coalesce(precedent.full_summary, precedent.judgment_summary) AS text,\\n            final_score AS score,\\n            keywords,\\n            referenced_articles\\n        ORDER BY final_score DESC\\n        LIMIT $limit\\n        \"\n"
     ]
    },
    {
     "name": "stdout",
     "output_type": "stream",
     "text": [
      "Context retrieval took 0.77 seconds.\n"
     ]
    },
    {
     "name": "stderr",
     "output_type": "stream",
     "text": [
      "Received notification from DBMS server: {severity: WARNING} {code: Neo.ClientNotification.Statement.AggregationSkippedNull} {category: UNRECOGNIZED} {title: The query contains an aggregation function that skips null values.} {description: null value eliminated in set function.} {position: None} for query: \"\\n        CALL db.index.vector.queryNodes('article_embedding', $limit * 2, $embedding)\\n        YIELD node AS article, score AS vector_score\\n        OPTIONAL MATCH (p:Precedent)-[:REFERENCES_ARTICLE]->(article)\\n        WITH article, vector_score, count(p) AS precedent_count\\n        WITH article, vector_score + (precedent_count * 0.05) AS final_score, precedent_count\\n        RETURN\\n            article.id AS id,\\n            'Article' AS type,\\n            article.text AS text,\\n            final_score AS score,\\n            precedent_count\\n        ORDER BY final_score DESC\\n        LIMIT $limit\\n        \"\n",
      "Received notification from DBMS server: {severity: WARNING} {code: Neo.ClientNotification.Statement.UnknownRelationshipTypeWarning} {category: UNRECOGNIZED} {title: The provided relationship type is not in the database.} {description: One of the relationship types in your query is not available in the database, make sure you didn't misspell it or that the label is available when you run this statement in your application (the missing relationship type is: HAS_KEYWORD)} {position: line: 4, column: 38, offset: 180} for query: \"\\n        CALL db.index.vector.queryNodes('precedent_embedding', $limit * 2, $embedding)\\n        YIELD node AS precedent, score AS vector_score\\n        OPTIONAL MATCH (precedent)-[:HAS_KEYWORD]->(k:Keyword)\\n        WHERE k.text IN $keywords\\n        WITH precedent, vector_score, collect(DISTINCT k.text) AS keywords\\n        WITH precedent, vector_score + (size(keywords) * 0.1) AS final_score, keywords\\n        OPTIONAL MATCH (precedent)-[:REFERENCES_ARTICLE]->(ref_a:Article)\\n        WITH precedent, final_score, keywords, collect(DISTINCT ref_a.id) AS referenced_articles\\n        RETURN\\n            precedent.id AS id,\\n            'Precedent' AS type,\\n            precedent.name AS name,\\n            coalesce(precedent.full_summary, precedent.judgment_summary) AS text,\\n            final_score AS score,\\n            keywords,\\n            referenced_articles\\n        ORDER BY final_score DESC\\n        LIMIT $limit\\n        \"\n",
      "Received notification from DBMS server: {severity: WARNING} {code: Neo.ClientNotification.Statement.AggregationSkippedNull} {category: UNRECOGNIZED} {title: The query contains an aggregation function that skips null values.} {description: null value eliminated in set function.} {position: None} for query: \"\\n        CALL db.index.vector.queryNodes('precedent_embedding', $limit * 2, $embedding)\\n        YIELD node AS precedent, score AS vector_score\\n        OPTIONAL MATCH (precedent)-[:HAS_KEYWORD]->(k:Keyword)\\n        WHERE k.text IN $keywords\\n        WITH precedent, vector_score, collect(DISTINCT k.text) AS keywords\\n        WITH precedent, vector_score + (size(keywords) * 0.1) AS final_score, keywords\\n        OPTIONAL MATCH (precedent)-[:REFERENCES_ARTICLE]->(ref_a:Article)\\n        WITH precedent, final_score, keywords, collect(DISTINCT ref_a.id) AS referenced_articles\\n        RETURN\\n            precedent.id AS id,\\n            'Precedent' AS type,\\n            precedent.name AS name,\\n            coalesce(precedent.full_summary, precedent.judgment_summary) AS text,\\n            final_score AS score,\\n            keywords,\\n            referenced_articles\\n        ORDER BY final_score DESC\\n        LIMIT $limit\\n        \"\n"
     ]
    },
    {
     "name": "stdout",
     "output_type": "stream",
     "text": [
      "Context retrieval took 0.57 seconds.\n"
     ]
    },
    {
     "name": "stderr",
     "output_type": "stream",
     "text": [
      "Received notification from DBMS server: {severity: WARNING} {code: Neo.ClientNotification.Statement.AggregationSkippedNull} {category: UNRECOGNIZED} {title: The query contains an aggregation function that skips null values.} {description: null value eliminated in set function.} {position: None} for query: \"\\n        CALL db.index.vector.queryNodes('article_embedding', $limit * 2, $embedding)\\n        YIELD node AS article, score AS vector_score\\n        OPTIONAL MATCH (p:Precedent)-[:REFERENCES_ARTICLE]->(article)\\n        WITH article, vector_score, count(p) AS precedent_count\\n        WITH article, vector_score + (precedent_count * 0.05) AS final_score, precedent_count\\n        RETURN\\n            article.id AS id,\\n            'Article' AS type,\\n            article.text AS text,\\n            final_score AS score,\\n            precedent_count\\n        ORDER BY final_score DESC\\n        LIMIT $limit\\n        \"\n",
      "Received notification from DBMS server: {severity: WARNING} {code: Neo.ClientNotification.Statement.UnknownRelationshipTypeWarning} {category: UNRECOGNIZED} {title: The provided relationship type is not in the database.} {description: One of the relationship types in your query is not available in the database, make sure you didn't misspell it or that the label is available when you run this statement in your application (the missing relationship type is: HAS_KEYWORD)} {position: line: 4, column: 38, offset: 180} for query: \"\\n        CALL db.index.vector.queryNodes('precedent_embedding', $limit * 2, $embedding)\\n        YIELD node AS precedent, score AS vector_score\\n        OPTIONAL MATCH (precedent)-[:HAS_KEYWORD]->(k:Keyword)\\n        WHERE k.text IN $keywords\\n        WITH precedent, vector_score, collect(DISTINCT k.text) AS keywords\\n        WITH precedent, vector_score + (size(keywords) * 0.1) AS final_score, keywords\\n        OPTIONAL MATCH (precedent)-[:REFERENCES_ARTICLE]->(ref_a:Article)\\n        WITH precedent, final_score, keywords, collect(DISTINCT ref_a.id) AS referenced_articles\\n        RETURN\\n            precedent.id AS id,\\n            'Precedent' AS type,\\n            precedent.name AS name,\\n            coalesce(precedent.full_summary, precedent.judgment_summary) AS text,\\n            final_score AS score,\\n            keywords,\\n            referenced_articles\\n        ORDER BY final_score DESC\\n        LIMIT $limit\\n        \"\n",
      "Received notification from DBMS server: {severity: WARNING} {code: Neo.ClientNotification.Statement.AggregationSkippedNull} {category: UNRECOGNIZED} {title: The query contains an aggregation function that skips null values.} {description: null value eliminated in set function.} {position: None} for query: \"\\n        CALL db.index.vector.queryNodes('precedent_embedding', $limit * 2, $embedding)\\n        YIELD node AS precedent, score AS vector_score\\n        OPTIONAL MATCH (precedent)-[:HAS_KEYWORD]->(k:Keyword)\\n        WHERE k.text IN $keywords\\n        WITH precedent, vector_score, collect(DISTINCT k.text) AS keywords\\n        WITH precedent, vector_score + (size(keywords) * 0.1) AS final_score, keywords\\n        OPTIONAL MATCH (precedent)-[:REFERENCES_ARTICLE]->(ref_a:Article)\\n        WITH precedent, final_score, keywords, collect(DISTINCT ref_a.id) AS referenced_articles\\n        RETURN\\n            precedent.id AS id,\\n            'Precedent' AS type,\\n            precedent.name AS name,\\n            coalesce(precedent.full_summary, precedent.judgment_summary) AS text,\\n            final_score AS score,\\n            keywords,\\n            referenced_articles\\n        ORDER BY final_score DESC\\n        LIMIT $limit\\n        \"\n"
     ]
    },
    {
     "name": "stdout",
     "output_type": "stream",
     "text": [
      "Context retrieval took 1.48 seconds.\n"
     ]
    },
    {
     "name": "stderr",
     "output_type": "stream",
     "text": [
      "Received notification from DBMS server: {severity: WARNING} {code: Neo.ClientNotification.Statement.UnknownRelationshipTypeWarning} {category: UNRECOGNIZED} {title: The provided relationship type is not in the database.} {description: One of the relationship types in your query is not available in the database, make sure you didn't misspell it or that the label is available when you run this statement in your application (the missing relationship type is: HAS_KEYWORD)} {position: line: 4, column: 38, offset: 180} for query: \"\\n        CALL db.index.vector.queryNodes('precedent_embedding', $limit * 2, $embedding)\\n        YIELD node AS precedent, score AS vector_score\\n        OPTIONAL MATCH (precedent)-[:HAS_KEYWORD]->(k:Keyword)\\n        WHERE k.text IN $keywords\\n        WITH precedent, vector_score, collect(DISTINCT k.text) AS keywords\\n        WITH precedent, vector_score + (size(keywords) * 0.1) AS final_score, keywords\\n        OPTIONAL MATCH (precedent)-[:REFERENCES_ARTICLE]->(ref_a:Article)\\n        WITH precedent, final_score, keywords, collect(DISTINCT ref_a.id) AS referenced_articles\\n        RETURN\\n            precedent.id AS id,\\n            'Precedent' AS type,\\n            precedent.name AS name,\\n            coalesce(precedent.full_summary, precedent.judgment_summary) AS text,\\n            final_score AS score,\\n            keywords,\\n            referenced_articles\\n        ORDER BY final_score DESC\\n        LIMIT $limit\\n        \"\n",
      "Received notification from DBMS server: {severity: WARNING} {code: Neo.ClientNotification.Statement.AggregationSkippedNull} {category: UNRECOGNIZED} {title: The query contains an aggregation function that skips null values.} {description: null value eliminated in set function.} {position: None} for query: \"\\n        CALL db.index.vector.queryNodes('precedent_embedding', $limit * 2, $embedding)\\n        YIELD node AS precedent, score AS vector_score\\n        OPTIONAL MATCH (precedent)-[:HAS_KEYWORD]->(k:Keyword)\\n        WHERE k.text IN $keywords\\n        WITH precedent, vector_score, collect(DISTINCT k.text) AS keywords\\n        WITH precedent, vector_score + (size(keywords) * 0.1) AS final_score, keywords\\n        OPTIONAL MATCH (precedent)-[:REFERENCES_ARTICLE]->(ref_a:Article)\\n        WITH precedent, final_score, keywords, collect(DISTINCT ref_a.id) AS referenced_articles\\n        RETURN\\n            precedent.id AS id,\\n            'Precedent' AS type,\\n            precedent.name AS name,\\n            coalesce(precedent.full_summary, precedent.judgment_summary) AS text,\\n            final_score AS score,\\n            keywords,\\n            referenced_articles\\n        ORDER BY final_score DESC\\n        LIMIT $limit\\n        \"\n"
     ]
    },
    {
     "name": "stdout",
     "output_type": "stream",
     "text": [
      "Context retrieval took 0.84 seconds.\n"
     ]
    },
    {
     "name": "stderr",
     "output_type": "stream",
     "text": [
      "Received notification from DBMS server: {severity: WARNING} {code: Neo.ClientNotification.Statement.AggregationSkippedNull} {category: UNRECOGNIZED} {title: The query contains an aggregation function that skips null values.} {description: null value eliminated in set function.} {position: None} for query: \"\\n        CALL db.index.vector.queryNodes('article_embedding', $limit * 2, $embedding)\\n        YIELD node AS article, score AS vector_score\\n        OPTIONAL MATCH (p:Precedent)-[:REFERENCES_ARTICLE]->(article)\\n        WITH article, vector_score, count(p) AS precedent_count\\n        WITH article, vector_score + (precedent_count * 0.05) AS final_score, precedent_count\\n        RETURN\\n            article.id AS id,\\n            'Article' AS type,\\n            article.text AS text,\\n            final_score AS score,\\n            precedent_count\\n        ORDER BY final_score DESC\\n        LIMIT $limit\\n        \"\n",
      "Received notification from DBMS server: {severity: WARNING} {code: Neo.ClientNotification.Statement.UnknownRelationshipTypeWarning} {category: UNRECOGNIZED} {title: The provided relationship type is not in the database.} {description: One of the relationship types in your query is not available in the database, make sure you didn't misspell it or that the label is available when you run this statement in your application (the missing relationship type is: HAS_KEYWORD)} {position: line: 4, column: 38, offset: 180} for query: \"\\n        CALL db.index.vector.queryNodes('precedent_embedding', $limit * 2, $embedding)\\n        YIELD node AS precedent, score AS vector_score\\n        OPTIONAL MATCH (precedent)-[:HAS_KEYWORD]->(k:Keyword)\\n        WHERE k.text IN $keywords\\n        WITH precedent, vector_score, collect(DISTINCT k.text) AS keywords\\n        WITH precedent, vector_score + (size(keywords) * 0.1) AS final_score, keywords\\n        OPTIONAL MATCH (precedent)-[:REFERENCES_ARTICLE]->(ref_a:Article)\\n        WITH precedent, final_score, keywords, collect(DISTINCT ref_a.id) AS referenced_articles\\n        RETURN\\n            precedent.id AS id,\\n            'Precedent' AS type,\\n            precedent.name AS name,\\n            coalesce(precedent.full_summary, precedent.judgment_summary) AS text,\\n            final_score AS score,\\n            keywords,\\n            referenced_articles\\n        ORDER BY final_score DESC\\n        LIMIT $limit\\n        \"\n",
      "Received notification from DBMS server: {severity: WARNING} {code: Neo.ClientNotification.Statement.AggregationSkippedNull} {category: UNRECOGNIZED} {title: The query contains an aggregation function that skips null values.} {description: null value eliminated in set function.} {position: None} for query: \"\\n        CALL db.index.vector.queryNodes('precedent_embedding', $limit * 2, $embedding)\\n        YIELD node AS precedent, score AS vector_score\\n        OPTIONAL MATCH (precedent)-[:HAS_KEYWORD]->(k:Keyword)\\n        WHERE k.text IN $keywords\\n        WITH precedent, vector_score, collect(DISTINCT k.text) AS keywords\\n        WITH precedent, vector_score + (size(keywords) * 0.1) AS final_score, keywords\\n        OPTIONAL MATCH (precedent)-[:REFERENCES_ARTICLE]->(ref_a:Article)\\n        WITH precedent, final_score, keywords, collect(DISTINCT ref_a.id) AS referenced_articles\\n        RETURN\\n            precedent.id AS id,\\n            'Precedent' AS type,\\n            precedent.name AS name,\\n            coalesce(precedent.full_summary, precedent.judgment_summary) AS text,\\n            final_score AS score,\\n            keywords,\\n            referenced_articles\\n        ORDER BY final_score DESC\\n        LIMIT $limit\\n        \"\n"
     ]
    },
    {
     "name": "stdout",
     "output_type": "stream",
     "text": [
      "Context retrieval took 0.61 seconds.\n"
     ]
    },
    {
     "name": "stderr",
     "output_type": "stream",
     "text": [
      "Received notification from DBMS server: {severity: WARNING} {code: Neo.ClientNotification.Statement.AggregationSkippedNull} {category: UNRECOGNIZED} {title: The query contains an aggregation function that skips null values.} {description: null value eliminated in set function.} {position: None} for query: \"\\n        CALL db.index.vector.queryNodes('article_embedding', $limit * 2, $embedding)\\n        YIELD node AS article, score AS vector_score\\n        OPTIONAL MATCH (p:Precedent)-[:REFERENCES_ARTICLE]->(article)\\n        WITH article, vector_score, count(p) AS precedent_count\\n        WITH article, vector_score + (precedent_count * 0.05) AS final_score, precedent_count\\n        RETURN\\n            article.id AS id,\\n            'Article' AS type,\\n            article.text AS text,\\n            final_score AS score,\\n            precedent_count\\n        ORDER BY final_score DESC\\n        LIMIT $limit\\n        \"\n",
      "Received notification from DBMS server: {severity: WARNING} {code: Neo.ClientNotification.Statement.UnknownRelationshipTypeWarning} {category: UNRECOGNIZED} {title: The provided relationship type is not in the database.} {description: One of the relationship types in your query is not available in the database, make sure you didn't misspell it or that the label is available when you run this statement in your application (the missing relationship type is: HAS_KEYWORD)} {position: line: 4, column: 38, offset: 180} for query: \"\\n        CALL db.index.vector.queryNodes('precedent_embedding', $limit * 2, $embedding)\\n        YIELD node AS precedent, score AS vector_score\\n        OPTIONAL MATCH (precedent)-[:HAS_KEYWORD]->(k:Keyword)\\n        WHERE k.text IN $keywords\\n        WITH precedent, vector_score, collect(DISTINCT k.text) AS keywords\\n        WITH precedent, vector_score + (size(keywords) * 0.1) AS final_score, keywords\\n        OPTIONAL MATCH (precedent)-[:REFERENCES_ARTICLE]->(ref_a:Article)\\n        WITH precedent, final_score, keywords, collect(DISTINCT ref_a.id) AS referenced_articles\\n        RETURN\\n            precedent.id AS id,\\n            'Precedent' AS type,\\n            precedent.name AS name,\\n            coalesce(precedent.full_summary, precedent.judgment_summary) AS text,\\n            final_score AS score,\\n            keywords,\\n            referenced_articles\\n        ORDER BY final_score DESC\\n        LIMIT $limit\\n        \"\n",
      "Received notification from DBMS server: {severity: WARNING} {code: Neo.ClientNotification.Statement.AggregationSkippedNull} {category: UNRECOGNIZED} {title: The query contains an aggregation function that skips null values.} {description: null value eliminated in set function.} {position: None} for query: \"\\n        CALL db.index.vector.queryNodes('precedent_embedding', $limit * 2, $embedding)\\n        YIELD node AS precedent, score AS vector_score\\n        OPTIONAL MATCH (precedent)-[:HAS_KEYWORD]->(k:Keyword)\\n        WHERE k.text IN $keywords\\n        WITH precedent, vector_score, collect(DISTINCT k.text) AS keywords\\n        WITH precedent, vector_score + (size(keywords) * 0.1) AS final_score, keywords\\n        OPTIONAL MATCH (precedent)-[:REFERENCES_ARTICLE]->(ref_a:Article)\\n        WITH precedent, final_score, keywords, collect(DISTINCT ref_a.id) AS referenced_articles\\n        RETURN\\n            precedent.id AS id,\\n            'Precedent' AS type,\\n            precedent.name AS name,\\n            coalesce(precedent.full_summary, precedent.judgment_summary) AS text,\\n            final_score AS score,\\n            keywords,\\n            referenced_articles\\n        ORDER BY final_score DESC\\n        LIMIT $limit\\n        \"\n"
     ]
    },
    {
     "name": "stdout",
     "output_type": "stream",
     "text": [
      "Context retrieval took 0.70 seconds.\n"
     ]
    },
    {
     "name": "stderr",
     "output_type": "stream",
     "text": [
      "Received notification from DBMS server: {severity: WARNING} {code: Neo.ClientNotification.Statement.UnknownRelationshipTypeWarning} {category: UNRECOGNIZED} {title: The provided relationship type is not in the database.} {description: One of the relationship types in your query is not available in the database, make sure you didn't misspell it or that the label is available when you run this statement in your application (the missing relationship type is: HAS_KEYWORD)} {position: line: 4, column: 38, offset: 180} for query: \"\\n        CALL db.index.vector.queryNodes('precedent_embedding', $limit * 2, $embedding)\\n        YIELD node AS precedent, score AS vector_score\\n        OPTIONAL MATCH (precedent)-[:HAS_KEYWORD]->(k:Keyword)\\n        WHERE k.text IN $keywords\\n        WITH precedent, vector_score, collect(DISTINCT k.text) AS keywords\\n        WITH precedent, vector_score + (size(keywords) * 0.1) AS final_score, keywords\\n        OPTIONAL MATCH (precedent)-[:REFERENCES_ARTICLE]->(ref_a:Article)\\n        WITH precedent, final_score, keywords, collect(DISTINCT ref_a.id) AS referenced_articles\\n        RETURN\\n            precedent.id AS id,\\n            'Precedent' AS type,\\n            precedent.name AS name,\\n            coalesce(precedent.full_summary, precedent.judgment_summary) AS text,\\n            final_score AS score,\\n            keywords,\\n            referenced_articles\\n        ORDER BY final_score DESC\\n        LIMIT $limit\\n        \"\n",
      "Received notification from DBMS server: {severity: WARNING} {code: Neo.ClientNotification.Statement.AggregationSkippedNull} {category: UNRECOGNIZED} {title: The query contains an aggregation function that skips null values.} {description: null value eliminated in set function.} {position: None} for query: \"\\n        CALL db.index.vector.queryNodes('precedent_embedding', $limit * 2, $embedding)\\n        YIELD node AS precedent, score AS vector_score\\n        OPTIONAL MATCH (precedent)-[:HAS_KEYWORD]->(k:Keyword)\\n        WHERE k.text IN $keywords\\n        WITH precedent, vector_score, collect(DISTINCT k.text) AS keywords\\n        WITH precedent, vector_score + (size(keywords) * 0.1) AS final_score, keywords\\n        OPTIONAL MATCH (precedent)-[:REFERENCES_ARTICLE]->(ref_a:Article)\\n        WITH precedent, final_score, keywords, collect(DISTINCT ref_a.id) AS referenced_articles\\n        RETURN\\n            precedent.id AS id,\\n            'Precedent' AS type,\\n            precedent.name AS name,\\n            coalesce(precedent.full_summary, precedent.judgment_summary) AS text,\\n            final_score AS score,\\n            keywords,\\n            referenced_articles\\n        ORDER BY final_score DESC\\n        LIMIT $limit\\n        \"\n"
     ]
    },
    {
     "name": "stdout",
     "output_type": "stream",
     "text": [
      "Context retrieval took 0.54 seconds.\n"
     ]
    },
    {
     "name": "stderr",
     "output_type": "stream",
     "text": [
      "Received notification from DBMS server: {severity: WARNING} {code: Neo.ClientNotification.Statement.UnknownRelationshipTypeWarning} {category: UNRECOGNIZED} {title: The provided relationship type is not in the database.} {description: One of the relationship types in your query is not available in the database, make sure you didn't misspell it or that the label is available when you run this statement in your application (the missing relationship type is: HAS_KEYWORD)} {position: line: 4, column: 38, offset: 180} for query: \"\\n        CALL db.index.vector.queryNodes('precedent_embedding', $limit * 2, $embedding)\\n        YIELD node AS precedent, score AS vector_score\\n        OPTIONAL MATCH (precedent)-[:HAS_KEYWORD]->(k:Keyword)\\n        WHERE k.text IN $keywords\\n        WITH precedent, vector_score, collect(DISTINCT k.text) AS keywords\\n        WITH precedent, vector_score + (size(keywords) * 0.1) AS final_score, keywords\\n        OPTIONAL MATCH (precedent)-[:REFERENCES_ARTICLE]->(ref_a:Article)\\n        WITH precedent, final_score, keywords, collect(DISTINCT ref_a.id) AS referenced_articles\\n        RETURN\\n            precedent.id AS id,\\n            'Precedent' AS type,\\n            precedent.name AS name,\\n            coalesce(precedent.full_summary, precedent.judgment_summary) AS text,\\n            final_score AS score,\\n            keywords,\\n            referenced_articles\\n        ORDER BY final_score DESC\\n        LIMIT $limit\\n        \"\n",
      "Received notification from DBMS server: {severity: WARNING} {code: Neo.ClientNotification.Statement.AggregationSkippedNull} {category: UNRECOGNIZED} {title: The query contains an aggregation function that skips null values.} {description: null value eliminated in set function.} {position: None} for query: \"\\n        CALL db.index.vector.queryNodes('precedent_embedding', $limit * 2, $embedding)\\n        YIELD node AS precedent, score AS vector_score\\n        OPTIONAL MATCH (precedent)-[:HAS_KEYWORD]->(k:Keyword)\\n        WHERE k.text IN $keywords\\n        WITH precedent, vector_score, collect(DISTINCT k.text) AS keywords\\n        WITH precedent, vector_score + (size(keywords) * 0.1) AS final_score, keywords\\n        OPTIONAL MATCH (precedent)-[:REFERENCES_ARTICLE]->(ref_a:Article)\\n        WITH precedent, final_score, keywords, collect(DISTINCT ref_a.id) AS referenced_articles\\n        RETURN\\n            precedent.id AS id,\\n            'Precedent' AS type,\\n            precedent.name AS name,\\n            coalesce(precedent.full_summary, precedent.judgment_summary) AS text,\\n            final_score AS score,\\n            keywords,\\n            referenced_articles\\n        ORDER BY final_score DESC\\n        LIMIT $limit\\n        \"\n"
     ]
    },
    {
     "name": "stdout",
     "output_type": "stream",
     "text": [
      "Context retrieval took 0.50 seconds.\n"
     ]
    },
    {
     "name": "stderr",
     "output_type": "stream",
     "text": [
      "Received notification from DBMS server: {severity: WARNING} {code: Neo.ClientNotification.Statement.UnknownRelationshipTypeWarning} {category: UNRECOGNIZED} {title: The provided relationship type is not in the database.} {description: One of the relationship types in your query is not available in the database, make sure you didn't misspell it or that the label is available when you run this statement in your application (the missing relationship type is: HAS_KEYWORD)} {position: line: 4, column: 38, offset: 180} for query: \"\\n        CALL db.index.vector.queryNodes('precedent_embedding', $limit * 2, $embedding)\\n        YIELD node AS precedent, score AS vector_score\\n        OPTIONAL MATCH (precedent)-[:HAS_KEYWORD]->(k:Keyword)\\n        WHERE k.text IN $keywords\\n        WITH precedent, vector_score, collect(DISTINCT k.text) AS keywords\\n        WITH precedent, vector_score + (size(keywords) * 0.1) AS final_score, keywords\\n        OPTIONAL MATCH (precedent)-[:REFERENCES_ARTICLE]->(ref_a:Article)\\n        WITH precedent, final_score, keywords, collect(DISTINCT ref_a.id) AS referenced_articles\\n        RETURN\\n            precedent.id AS id,\\n            'Precedent' AS type,\\n            precedent.name AS name,\\n            coalesce(precedent.full_summary, precedent.judgment_summary) AS text,\\n            final_score AS score,\\n            keywords,\\n            referenced_articles\\n        ORDER BY final_score DESC\\n        LIMIT $limit\\n        \"\n",
      "Received notification from DBMS server: {severity: WARNING} {code: Neo.ClientNotification.Statement.AggregationSkippedNull} {category: UNRECOGNIZED} {title: The query contains an aggregation function that skips null values.} {description: null value eliminated in set function.} {position: None} for query: \"\\n        CALL db.index.vector.queryNodes('precedent_embedding', $limit * 2, $embedding)\\n        YIELD node AS precedent, score AS vector_score\\n        OPTIONAL MATCH (precedent)-[:HAS_KEYWORD]->(k:Keyword)\\n        WHERE k.text IN $keywords\\n        WITH precedent, vector_score, collect(DISTINCT k.text) AS keywords\\n        WITH precedent, vector_score + (size(keywords) * 0.1) AS final_score, keywords\\n        OPTIONAL MATCH (precedent)-[:REFERENCES_ARTICLE]->(ref_a:Article)\\n        WITH precedent, final_score, keywords, collect(DISTINCT ref_a.id) AS referenced_articles\\n        RETURN\\n            precedent.id AS id,\\n            'Precedent' AS type,\\n            precedent.name AS name,\\n            coalesce(precedent.full_summary, precedent.judgment_summary) AS text,\\n            final_score AS score,\\n            keywords,\\n            referenced_articles\\n        ORDER BY final_score DESC\\n        LIMIT $limit\\n        \"\n"
     ]
    },
    {
     "name": "stdout",
     "output_type": "stream",
     "text": [
      "Context retrieval took 0.83 seconds.\n"
     ]
    },
    {
     "name": "stderr",
     "output_type": "stream",
     "text": [
      "Received notification from DBMS server: {severity: WARNING} {code: Neo.ClientNotification.Statement.AggregationSkippedNull} {category: UNRECOGNIZED} {title: The query contains an aggregation function that skips null values.} {description: null value eliminated in set function.} {position: None} for query: \"\\n        CALL db.index.vector.queryNodes('article_embedding', $limit * 2, $embedding)\\n        YIELD node AS article, score AS vector_score\\n        OPTIONAL MATCH (p:Precedent)-[:REFERENCES_ARTICLE]->(article)\\n        WITH article, vector_score, count(p) AS precedent_count\\n        WITH article, vector_score + (precedent_count * 0.05) AS final_score, precedent_count\\n        RETURN\\n            article.id AS id,\\n            'Article' AS type,\\n            article.text AS text,\\n            final_score AS score,\\n            precedent_count\\n        ORDER BY final_score DESC\\n        LIMIT $limit\\n        \"\n",
      "Received notification from DBMS server: {severity: WARNING} {code: Neo.ClientNotification.Statement.UnknownRelationshipTypeWarning} {category: UNRECOGNIZED} {title: The provided relationship type is not in the database.} {description: One of the relationship types in your query is not available in the database, make sure you didn't misspell it or that the label is available when you run this statement in your application (the missing relationship type is: HAS_KEYWORD)} {position: line: 4, column: 38, offset: 180} for query: \"\\n        CALL db.index.vector.queryNodes('precedent_embedding', $limit * 2, $embedding)\\n        YIELD node AS precedent, score AS vector_score\\n        OPTIONAL MATCH (precedent)-[:HAS_KEYWORD]->(k:Keyword)\\n        WHERE k.text IN $keywords\\n        WITH precedent, vector_score, collect(DISTINCT k.text) AS keywords\\n        WITH precedent, vector_score + (size(keywords) * 0.1) AS final_score, keywords\\n        OPTIONAL MATCH (precedent)-[:REFERENCES_ARTICLE]->(ref_a:Article)\\n        WITH precedent, final_score, keywords, collect(DISTINCT ref_a.id) AS referenced_articles\\n        RETURN\\n            precedent.id AS id,\\n            'Precedent' AS type,\\n            precedent.name AS name,\\n            coalesce(precedent.full_summary, precedent.judgment_summary) AS text,\\n            final_score AS score,\\n            keywords,\\n            referenced_articles\\n        ORDER BY final_score DESC\\n        LIMIT $limit\\n        \"\n",
      "Received notification from DBMS server: {severity: WARNING} {code: Neo.ClientNotification.Statement.AggregationSkippedNull} {category: UNRECOGNIZED} {title: The query contains an aggregation function that skips null values.} {description: null value eliminated in set function.} {position: None} for query: \"\\n        CALL db.index.vector.queryNodes('precedent_embedding', $limit * 2, $embedding)\\n        YIELD node AS precedent, score AS vector_score\\n        OPTIONAL MATCH (precedent)-[:HAS_KEYWORD]->(k:Keyword)\\n        WHERE k.text IN $keywords\\n        WITH precedent, vector_score, collect(DISTINCT k.text) AS keywords\\n        WITH precedent, vector_score + (size(keywords) * 0.1) AS final_score, keywords\\n        OPTIONAL MATCH (precedent)-[:REFERENCES_ARTICLE]->(ref_a:Article)\\n        WITH precedent, final_score, keywords, collect(DISTINCT ref_a.id) AS referenced_articles\\n        RETURN\\n            precedent.id AS id,\\n            'Precedent' AS type,\\n            precedent.name AS name,\\n            coalesce(precedent.full_summary, precedent.judgment_summary) AS text,\\n            final_score AS score,\\n            keywords,\\n            referenced_articles\\n        ORDER BY final_score DESC\\n        LIMIT $limit\\n        \"\n"
     ]
    },
    {
     "name": "stdout",
     "output_type": "stream",
     "text": [
      "Context retrieval took 0.53 seconds.\n"
     ]
    },
    {
     "name": "stderr",
     "output_type": "stream",
     "text": [
      "Received notification from DBMS server: {severity: WARNING} {code: Neo.ClientNotification.Statement.UnknownRelationshipTypeWarning} {category: UNRECOGNIZED} {title: The provided relationship type is not in the database.} {description: One of the relationship types in your query is not available in the database, make sure you didn't misspell it or that the label is available when you run this statement in your application (the missing relationship type is: HAS_KEYWORD)} {position: line: 4, column: 38, offset: 180} for query: \"\\n        CALL db.index.vector.queryNodes('precedent_embedding', $limit * 2, $embedding)\\n        YIELD node AS precedent, score AS vector_score\\n        OPTIONAL MATCH (precedent)-[:HAS_KEYWORD]->(k:Keyword)\\n        WHERE k.text IN $keywords\\n        WITH precedent, vector_score, collect(DISTINCT k.text) AS keywords\\n        WITH precedent, vector_score + (size(keywords) * 0.1) AS final_score, keywords\\n        OPTIONAL MATCH (precedent)-[:REFERENCES_ARTICLE]->(ref_a:Article)\\n        WITH precedent, final_score, keywords, collect(DISTINCT ref_a.id) AS referenced_articles\\n        RETURN\\n            precedent.id AS id,\\n            'Precedent' AS type,\\n            precedent.name AS name,\\n            coalesce(precedent.full_summary, precedent.judgment_summary) AS text,\\n            final_score AS score,\\n            keywords,\\n            referenced_articles\\n        ORDER BY final_score DESC\\n        LIMIT $limit\\n        \"\n",
      "Received notification from DBMS server: {severity: WARNING} {code: Neo.ClientNotification.Statement.AggregationSkippedNull} {category: UNRECOGNIZED} {title: The query contains an aggregation function that skips null values.} {description: null value eliminated in set function.} {position: None} for query: \"\\n        CALL db.index.vector.queryNodes('precedent_embedding', $limit * 2, $embedding)\\n        YIELD node AS precedent, score AS vector_score\\n        OPTIONAL MATCH (precedent)-[:HAS_KEYWORD]->(k:Keyword)\\n        WHERE k.text IN $keywords\\n        WITH precedent, vector_score, collect(DISTINCT k.text) AS keywords\\n        WITH precedent, vector_score + (size(keywords) * 0.1) AS final_score, keywords\\n        OPTIONAL MATCH (precedent)-[:REFERENCES_ARTICLE]->(ref_a:Article)\\n        WITH precedent, final_score, keywords, collect(DISTINCT ref_a.id) AS referenced_articles\\n        RETURN\\n            precedent.id AS id,\\n            'Precedent' AS type,\\n            precedent.name AS name,\\n            coalesce(precedent.full_summary, precedent.judgment_summary) AS text,\\n            final_score AS score,\\n            keywords,\\n            referenced_articles\\n        ORDER BY final_score DESC\\n        LIMIT $limit\\n        \"\n"
     ]
    },
    {
     "name": "stdout",
     "output_type": "stream",
     "text": [
      "Context retrieval took 0.72 seconds.\n"
     ]
    },
    {
     "name": "stderr",
     "output_type": "stream",
     "text": [
      "Received notification from DBMS server: {severity: WARNING} {code: Neo.ClientNotification.Statement.UnknownRelationshipTypeWarning} {category: UNRECOGNIZED} {title: The provided relationship type is not in the database.} {description: One of the relationship types in your query is not available in the database, make sure you didn't misspell it or that the label is available when you run this statement in your application (the missing relationship type is: HAS_KEYWORD)} {position: line: 4, column: 38, offset: 180} for query: \"\\n        CALL db.index.vector.queryNodes('precedent_embedding', $limit * 2, $embedding)\\n        YIELD node AS precedent, score AS vector_score\\n        OPTIONAL MATCH (precedent)-[:HAS_KEYWORD]->(k:Keyword)\\n        WHERE k.text IN $keywords\\n        WITH precedent, vector_score, collect(DISTINCT k.text) AS keywords\\n        WITH precedent, vector_score + (size(keywords) * 0.1) AS final_score, keywords\\n        OPTIONAL MATCH (precedent)-[:REFERENCES_ARTICLE]->(ref_a:Article)\\n        WITH precedent, final_score, keywords, collect(DISTINCT ref_a.id) AS referenced_articles\\n        RETURN\\n            precedent.id AS id,\\n            'Precedent' AS type,\\n            precedent.name AS name,\\n            coalesce(precedent.full_summary, precedent.judgment_summary) AS text,\\n            final_score AS score,\\n            keywords,\\n            referenced_articles\\n        ORDER BY final_score DESC\\n        LIMIT $limit\\n        \"\n",
      "Received notification from DBMS server: {severity: WARNING} {code: Neo.ClientNotification.Statement.AggregationSkippedNull} {category: UNRECOGNIZED} {title: The query contains an aggregation function that skips null values.} {description: null value eliminated in set function.} {position: None} for query: \"\\n        CALL db.index.vector.queryNodes('precedent_embedding', $limit * 2, $embedding)\\n        YIELD node AS precedent, score AS vector_score\\n        OPTIONAL MATCH (precedent)-[:HAS_KEYWORD]->(k:Keyword)\\n        WHERE k.text IN $keywords\\n        WITH precedent, vector_score, collect(DISTINCT k.text) AS keywords\\n        WITH precedent, vector_score + (size(keywords) * 0.1) AS final_score, keywords\\n        OPTIONAL MATCH (precedent)-[:REFERENCES_ARTICLE]->(ref_a:Article)\\n        WITH precedent, final_score, keywords, collect(DISTINCT ref_a.id) AS referenced_articles\\n        RETURN\\n            precedent.id AS id,\\n            'Precedent' AS type,\\n            precedent.name AS name,\\n            coalesce(precedent.full_summary, precedent.judgment_summary) AS text,\\n            final_score AS score,\\n            keywords,\\n            referenced_articles\\n        ORDER BY final_score DESC\\n        LIMIT $limit\\n        \"\n"
     ]
    },
    {
     "name": "stdout",
     "output_type": "stream",
     "text": [
      "Context retrieval took 0.47 seconds.\n"
     ]
    },
    {
     "name": "stderr",
     "output_type": "stream",
     "text": [
      "Received notification from DBMS server: {severity: WARNING} {code: Neo.ClientNotification.Statement.AggregationSkippedNull} {category: UNRECOGNIZED} {title: The query contains an aggregation function that skips null values.} {description: null value eliminated in set function.} {position: None} for query: \"\\n        CALL db.index.vector.queryNodes('article_embedding', $limit * 2, $embedding)\\n        YIELD node AS article, score AS vector_score\\n        OPTIONAL MATCH (p:Precedent)-[:REFERENCES_ARTICLE]->(article)\\n        WITH article, vector_score, count(p) AS precedent_count\\n        WITH article, vector_score + (precedent_count * 0.05) AS final_score, precedent_count\\n        RETURN\\n            article.id AS id,\\n            'Article' AS type,\\n            article.text AS text,\\n            final_score AS score,\\n            precedent_count\\n        ORDER BY final_score DESC\\n        LIMIT $limit\\n        \"\n",
      "Received notification from DBMS server: {severity: WARNING} {code: Neo.ClientNotification.Statement.UnknownRelationshipTypeWarning} {category: UNRECOGNIZED} {title: The provided relationship type is not in the database.} {description: One of the relationship types in your query is not available in the database, make sure you didn't misspell it or that the label is available when you run this statement in your application (the missing relationship type is: HAS_KEYWORD)} {position: line: 4, column: 38, offset: 180} for query: \"\\n        CALL db.index.vector.queryNodes('precedent_embedding', $limit * 2, $embedding)\\n        YIELD node AS precedent, score AS vector_score\\n        OPTIONAL MATCH (precedent)-[:HAS_KEYWORD]->(k:Keyword)\\n        WHERE k.text IN $keywords\\n        WITH precedent, vector_score, collect(DISTINCT k.text) AS keywords\\n        WITH precedent, vector_score + (size(keywords) * 0.1) AS final_score, keywords\\n        OPTIONAL MATCH (precedent)-[:REFERENCES_ARTICLE]->(ref_a:Article)\\n        WITH precedent, final_score, keywords, collect(DISTINCT ref_a.id) AS referenced_articles\\n        RETURN\\n            precedent.id AS id,\\n            'Precedent' AS type,\\n            precedent.name AS name,\\n            coalesce(precedent.full_summary, precedent.judgment_summary) AS text,\\n            final_score AS score,\\n            keywords,\\n            referenced_articles\\n        ORDER BY final_score DESC\\n        LIMIT $limit\\n        \"\n",
      "Received notification from DBMS server: {severity: WARNING} {code: Neo.ClientNotification.Statement.AggregationSkippedNull} {category: UNRECOGNIZED} {title: The query contains an aggregation function that skips null values.} {description: null value eliminated in set function.} {position: None} for query: \"\\n        CALL db.index.vector.queryNodes('precedent_embedding', $limit * 2, $embedding)\\n        YIELD node AS precedent, score AS vector_score\\n        OPTIONAL MATCH (precedent)-[:HAS_KEYWORD]->(k:Keyword)\\n        WHERE k.text IN $keywords\\n        WITH precedent, vector_score, collect(DISTINCT k.text) AS keywords\\n        WITH precedent, vector_score + (size(keywords) * 0.1) AS final_score, keywords\\n        OPTIONAL MATCH (precedent)-[:REFERENCES_ARTICLE]->(ref_a:Article)\\n        WITH precedent, final_score, keywords, collect(DISTINCT ref_a.id) AS referenced_articles\\n        RETURN\\n            precedent.id AS id,\\n            'Precedent' AS type,\\n            precedent.name AS name,\\n            coalesce(precedent.full_summary, precedent.judgment_summary) AS text,\\n            final_score AS score,\\n            keywords,\\n            referenced_articles\\n        ORDER BY final_score DESC\\n        LIMIT $limit\\n        \"\n"
     ]
    },
    {
     "name": "stdout",
     "output_type": "stream",
     "text": [
      "Context retrieval took 0.68 seconds.\n"
     ]
    },
    {
     "name": "stderr",
     "output_type": "stream",
     "text": [
      "Received notification from DBMS server: {severity: WARNING} {code: Neo.ClientNotification.Statement.UnknownRelationshipTypeWarning} {category: UNRECOGNIZED} {title: The provided relationship type is not in the database.} {description: One of the relationship types in your query is not available in the database, make sure you didn't misspell it or that the label is available when you run this statement in your application (the missing relationship type is: HAS_KEYWORD)} {position: line: 4, column: 38, offset: 180} for query: \"\\n        CALL db.index.vector.queryNodes('precedent_embedding', $limit * 2, $embedding)\\n        YIELD node AS precedent, score AS vector_score\\n        OPTIONAL MATCH (precedent)-[:HAS_KEYWORD]->(k:Keyword)\\n        WHERE k.text IN $keywords\\n        WITH precedent, vector_score, collect(DISTINCT k.text) AS keywords\\n        WITH precedent, vector_score + (size(keywords) * 0.1) AS final_score, keywords\\n        OPTIONAL MATCH (precedent)-[:REFERENCES_ARTICLE]->(ref_a:Article)\\n        WITH precedent, final_score, keywords, collect(DISTINCT ref_a.id) AS referenced_articles\\n        RETURN\\n            precedent.id AS id,\\n            'Precedent' AS type,\\n            precedent.name AS name,\\n            coalesce(precedent.full_summary, precedent.judgment_summary) AS text,\\n            final_score AS score,\\n            keywords,\\n            referenced_articles\\n        ORDER BY final_score DESC\\n        LIMIT $limit\\n        \"\n",
      "Received notification from DBMS server: {severity: WARNING} {code: Neo.ClientNotification.Statement.AggregationSkippedNull} {category: UNRECOGNIZED} {title: The query contains an aggregation function that skips null values.} {description: null value eliminated in set function.} {position: None} for query: \"\\n        CALL db.index.vector.queryNodes('precedent_embedding', $limit * 2, $embedding)\\n        YIELD node AS precedent, score AS vector_score\\n        OPTIONAL MATCH (precedent)-[:HAS_KEYWORD]->(k:Keyword)\\n        WHERE k.text IN $keywords\\n        WITH precedent, vector_score, collect(DISTINCT k.text) AS keywords\\n        WITH precedent, vector_score + (size(keywords) * 0.1) AS final_score, keywords\\n        OPTIONAL MATCH (precedent)-[:REFERENCES_ARTICLE]->(ref_a:Article)\\n        WITH precedent, final_score, keywords, collect(DISTINCT ref_a.id) AS referenced_articles\\n        RETURN\\n            precedent.id AS id,\\n            'Precedent' AS type,\\n            precedent.name AS name,\\n            coalesce(precedent.full_summary, precedent.judgment_summary) AS text,\\n            final_score AS score,\\n            keywords,\\n            referenced_articles\\n        ORDER BY final_score DESC\\n        LIMIT $limit\\n        \"\n"
     ]
    },
    {
     "name": "stdout",
     "output_type": "stream",
     "text": [
      "Context retrieval took 0.66 seconds.\n"
     ]
    },
    {
     "name": "stderr",
     "output_type": "stream",
     "text": [
      "Received notification from DBMS server: {severity: WARNING} {code: Neo.ClientNotification.Statement.UnknownRelationshipTypeWarning} {category: UNRECOGNIZED} {title: The provided relationship type is not in the database.} {description: One of the relationship types in your query is not available in the database, make sure you didn't misspell it or that the label is available when you run this statement in your application (the missing relationship type is: HAS_KEYWORD)} {position: line: 4, column: 38, offset: 180} for query: \"\\n        CALL db.index.vector.queryNodes('precedent_embedding', $limit * 2, $embedding)\\n        YIELD node AS precedent, score AS vector_score\\n        OPTIONAL MATCH (precedent)-[:HAS_KEYWORD]->(k:Keyword)\\n        WHERE k.text IN $keywords\\n        WITH precedent, vector_score, collect(DISTINCT k.text) AS keywords\\n        WITH precedent, vector_score + (size(keywords) * 0.1) AS final_score, keywords\\n        OPTIONAL MATCH (precedent)-[:REFERENCES_ARTICLE]->(ref_a:Article)\\n        WITH precedent, final_score, keywords, collect(DISTINCT ref_a.id) AS referenced_articles\\n        RETURN\\n            precedent.id AS id,\\n            'Precedent' AS type,\\n            precedent.name AS name,\\n            coalesce(precedent.full_summary, precedent.judgment_summary) AS text,\\n            final_score AS score,\\n            keywords,\\n            referenced_articles\\n        ORDER BY final_score DESC\\n        LIMIT $limit\\n        \"\n",
      "Received notification from DBMS server: {severity: WARNING} {code: Neo.ClientNotification.Statement.AggregationSkippedNull} {category: UNRECOGNIZED} {title: The query contains an aggregation function that skips null values.} {description: null value eliminated in set function.} {position: None} for query: \"\\n        CALL db.index.vector.queryNodes('precedent_embedding', $limit * 2, $embedding)\\n        YIELD node AS precedent, score AS vector_score\\n        OPTIONAL MATCH (precedent)-[:HAS_KEYWORD]->(k:Keyword)\\n        WHERE k.text IN $keywords\\n        WITH precedent, vector_score, collect(DISTINCT k.text) AS keywords\\n        WITH precedent, vector_score + (size(keywords) * 0.1) AS final_score, keywords\\n        OPTIONAL MATCH (precedent)-[:REFERENCES_ARTICLE]->(ref_a:Article)\\n        WITH precedent, final_score, keywords, collect(DISTINCT ref_a.id) AS referenced_articles\\n        RETURN\\n            precedent.id AS id,\\n            'Precedent' AS type,\\n            precedent.name AS name,\\n            coalesce(precedent.full_summary, precedent.judgment_summary) AS text,\\n            final_score AS score,\\n            keywords,\\n            referenced_articles\\n        ORDER BY final_score DESC\\n        LIMIT $limit\\n        \"\n"
     ]
    },
    {
     "name": "stdout",
     "output_type": "stream",
     "text": [
      "Context retrieval took 0.51 seconds.\n"
     ]
    },
    {
     "name": "stderr",
     "output_type": "stream",
     "text": [
      "Received notification from DBMS server: {severity: WARNING} {code: Neo.ClientNotification.Statement.AggregationSkippedNull} {category: UNRECOGNIZED} {title: The query contains an aggregation function that skips null values.} {description: null value eliminated in set function.} {position: None} for query: \"\\n        CALL db.index.vector.queryNodes('article_embedding', $limit * 2, $embedding)\\n        YIELD node AS article, score AS vector_score\\n        OPTIONAL MATCH (p:Precedent)-[:REFERENCES_ARTICLE]->(article)\\n        WITH article, vector_score, count(p) AS precedent_count\\n        WITH article, vector_score + (precedent_count * 0.05) AS final_score, precedent_count\\n        RETURN\\n            article.id AS id,\\n            'Article' AS type,\\n            article.text AS text,\\n            final_score AS score,\\n            precedent_count\\n        ORDER BY final_score DESC\\n        LIMIT $limit\\n        \"\n",
      "Received notification from DBMS server: {severity: WARNING} {code: Neo.ClientNotification.Statement.UnknownRelationshipTypeWarning} {category: UNRECOGNIZED} {title: The provided relationship type is not in the database.} {description: One of the relationship types in your query is not available in the database, make sure you didn't misspell it or that the label is available when you run this statement in your application (the missing relationship type is: HAS_KEYWORD)} {position: line: 4, column: 38, offset: 180} for query: \"\\n        CALL db.index.vector.queryNodes('precedent_embedding', $limit * 2, $embedding)\\n        YIELD node AS precedent, score AS vector_score\\n        OPTIONAL MATCH (precedent)-[:HAS_KEYWORD]->(k:Keyword)\\n        WHERE k.text IN $keywords\\n        WITH precedent, vector_score, collect(DISTINCT k.text) AS keywords\\n        WITH precedent, vector_score + (size(keywords) * 0.1) AS final_score, keywords\\n        OPTIONAL MATCH (precedent)-[:REFERENCES_ARTICLE]->(ref_a:Article)\\n        WITH precedent, final_score, keywords, collect(DISTINCT ref_a.id) AS referenced_articles\\n        RETURN\\n            precedent.id AS id,\\n            'Precedent' AS type,\\n            precedent.name AS name,\\n            coalesce(precedent.full_summary, precedent.judgment_summary) AS text,\\n            final_score AS score,\\n            keywords,\\n            referenced_articles\\n        ORDER BY final_score DESC\\n        LIMIT $limit\\n        \"\n",
      "Received notification from DBMS server: {severity: WARNING} {code: Neo.ClientNotification.Statement.AggregationSkippedNull} {category: UNRECOGNIZED} {title: The query contains an aggregation function that skips null values.} {description: null value eliminated in set function.} {position: None} for query: \"\\n        CALL db.index.vector.queryNodes('precedent_embedding', $limit * 2, $embedding)\\n        YIELD node AS precedent, score AS vector_score\\n        OPTIONAL MATCH (precedent)-[:HAS_KEYWORD]->(k:Keyword)\\n        WHERE k.text IN $keywords\\n        WITH precedent, vector_score, collect(DISTINCT k.text) AS keywords\\n        WITH precedent, vector_score + (size(keywords) * 0.1) AS final_score, keywords\\n        OPTIONAL MATCH (precedent)-[:REFERENCES_ARTICLE]->(ref_a:Article)\\n        WITH precedent, final_score, keywords, collect(DISTINCT ref_a.id) AS referenced_articles\\n        RETURN\\n            precedent.id AS id,\\n            'Precedent' AS type,\\n            precedent.name AS name,\\n            coalesce(precedent.full_summary, precedent.judgment_summary) AS text,\\n            final_score AS score,\\n            keywords,\\n            referenced_articles\\n        ORDER BY final_score DESC\\n        LIMIT $limit\\n        \"\n"
     ]
    },
    {
     "name": "stdout",
     "output_type": "stream",
     "text": [
      "Context retrieval took 0.68 seconds.\n"
     ]
    },
    {
     "name": "stderr",
     "output_type": "stream",
     "text": [
      "Received notification from DBMS server: {severity: WARNING} {code: Neo.ClientNotification.Statement.AggregationSkippedNull} {category: UNRECOGNIZED} {title: The query contains an aggregation function that skips null values.} {description: null value eliminated in set function.} {position: None} for query: \"\\n        CALL db.index.vector.queryNodes('article_embedding', $limit * 2, $embedding)\\n        YIELD node AS article, score AS vector_score\\n        OPTIONAL MATCH (p:Precedent)-[:REFERENCES_ARTICLE]->(article)\\n        WITH article, vector_score, count(p) AS precedent_count\\n        WITH article, vector_score + (precedent_count * 0.05) AS final_score, precedent_count\\n        RETURN\\n            article.id AS id,\\n            'Article' AS type,\\n            article.text AS text,\\n            final_score AS score,\\n            precedent_count\\n        ORDER BY final_score DESC\\n        LIMIT $limit\\n        \"\n",
      "Received notification from DBMS server: {severity: WARNING} {code: Neo.ClientNotification.Statement.UnknownRelationshipTypeWarning} {category: UNRECOGNIZED} {title: The provided relationship type is not in the database.} {description: One of the relationship types in your query is not available in the database, make sure you didn't misspell it or that the label is available when you run this statement in your application (the missing relationship type is: HAS_KEYWORD)} {position: line: 4, column: 38, offset: 180} for query: \"\\n        CALL db.index.vector.queryNodes('precedent_embedding', $limit * 2, $embedding)\\n        YIELD node AS precedent, score AS vector_score\\n        OPTIONAL MATCH (precedent)-[:HAS_KEYWORD]->(k:Keyword)\\n        WHERE k.text IN $keywords\\n        WITH precedent, vector_score, collect(DISTINCT k.text) AS keywords\\n        WITH precedent, vector_score + (size(keywords) * 0.1) AS final_score, keywords\\n        OPTIONAL MATCH (precedent)-[:REFERENCES_ARTICLE]->(ref_a:Article)\\n        WITH precedent, final_score, keywords, collect(DISTINCT ref_a.id) AS referenced_articles\\n        RETURN\\n            precedent.id AS id,\\n            'Precedent' AS type,\\n            precedent.name AS name,\\n            coalesce(precedent.full_summary, precedent.judgment_summary) AS text,\\n            final_score AS score,\\n            keywords,\\n            referenced_articles\\n        ORDER BY final_score DESC\\n        LIMIT $limit\\n        \"\n",
      "Received notification from DBMS server: {severity: WARNING} {code: Neo.ClientNotification.Statement.AggregationSkippedNull} {category: UNRECOGNIZED} {title: The query contains an aggregation function that skips null values.} {description: null value eliminated in set function.} {position: None} for query: \"\\n        CALL db.index.vector.queryNodes('precedent_embedding', $limit * 2, $embedding)\\n        YIELD node AS precedent, score AS vector_score\\n        OPTIONAL MATCH (precedent)-[:HAS_KEYWORD]->(k:Keyword)\\n        WHERE k.text IN $keywords\\n        WITH precedent, vector_score, collect(DISTINCT k.text) AS keywords\\n        WITH precedent, vector_score + (size(keywords) * 0.1) AS final_score, keywords\\n        OPTIONAL MATCH (precedent)-[:REFERENCES_ARTICLE]->(ref_a:Article)\\n        WITH precedent, final_score, keywords, collect(DISTINCT ref_a.id) AS referenced_articles\\n        RETURN\\n            precedent.id AS id,\\n            'Precedent' AS type,\\n            precedent.name AS name,\\n            coalesce(precedent.full_summary, precedent.judgment_summary) AS text,\\n            final_score AS score,\\n            keywords,\\n            referenced_articles\\n        ORDER BY final_score DESC\\n        LIMIT $limit\\n        \"\n"
     ]
    },
    {
     "name": "stdout",
     "output_type": "stream",
     "text": [
      "Context retrieval took 0.67 seconds.\n"
     ]
    },
    {
     "name": "stderr",
     "output_type": "stream",
     "text": [
      "Received notification from DBMS server: {severity: WARNING} {code: Neo.ClientNotification.Statement.UnknownRelationshipTypeWarning} {category: UNRECOGNIZED} {title: The provided relationship type is not in the database.} {description: One of the relationship types in your query is not available in the database, make sure you didn't misspell it or that the label is available when you run this statement in your application (the missing relationship type is: HAS_KEYWORD)} {position: line: 4, column: 38, offset: 180} for query: \"\\n        CALL db.index.vector.queryNodes('precedent_embedding', $limit * 2, $embedding)\\n        YIELD node AS precedent, score AS vector_score\\n        OPTIONAL MATCH (precedent)-[:HAS_KEYWORD]->(k:Keyword)\\n        WHERE k.text IN $keywords\\n        WITH precedent, vector_score, collect(DISTINCT k.text) AS keywords\\n        WITH precedent, vector_score + (size(keywords) * 0.1) AS final_score, keywords\\n        OPTIONAL MATCH (precedent)-[:REFERENCES_ARTICLE]->(ref_a:Article)\\n        WITH precedent, final_score, keywords, collect(DISTINCT ref_a.id) AS referenced_articles\\n        RETURN\\n            precedent.id AS id,\\n            'Precedent' AS type,\\n            precedent.name AS name,\\n            coalesce(precedent.full_summary, precedent.judgment_summary) AS text,\\n            final_score AS score,\\n            keywords,\\n            referenced_articles\\n        ORDER BY final_score DESC\\n        LIMIT $limit\\n        \"\n",
      "Received notification from DBMS server: {severity: WARNING} {code: Neo.ClientNotification.Statement.AggregationSkippedNull} {category: UNRECOGNIZED} {title: The query contains an aggregation function that skips null values.} {description: null value eliminated in set function.} {position: None} for query: \"\\n        CALL db.index.vector.queryNodes('precedent_embedding', $limit * 2, $embedding)\\n        YIELD node AS precedent, score AS vector_score\\n        OPTIONAL MATCH (precedent)-[:HAS_KEYWORD]->(k:Keyword)\\n        WHERE k.text IN $keywords\\n        WITH precedent, vector_score, collect(DISTINCT k.text) AS keywords\\n        WITH precedent, vector_score + (size(keywords) * 0.1) AS final_score, keywords\\n        OPTIONAL MATCH (precedent)-[:REFERENCES_ARTICLE]->(ref_a:Article)\\n        WITH precedent, final_score, keywords, collect(DISTINCT ref_a.id) AS referenced_articles\\n        RETURN\\n            precedent.id AS id,\\n            'Precedent' AS type,\\n            precedent.name AS name,\\n            coalesce(precedent.full_summary, precedent.judgment_summary) AS text,\\n            final_score AS score,\\n            keywords,\\n            referenced_articles\\n        ORDER BY final_score DESC\\n        LIMIT $limit\\n        \"\n"
     ]
    },
    {
     "name": "stdout",
     "output_type": "stream",
     "text": [
      "Context retrieval took 0.77 seconds.\n"
     ]
    },
    {
     "name": "stderr",
     "output_type": "stream",
     "text": [
      "Received notification from DBMS server: {severity: WARNING} {code: Neo.ClientNotification.Statement.AggregationSkippedNull} {category: UNRECOGNIZED} {title: The query contains an aggregation function that skips null values.} {description: null value eliminated in set function.} {position: None} for query: \"\\n        CALL db.index.vector.queryNodes('article_embedding', $limit * 2, $embedding)\\n        YIELD node AS article, score AS vector_score\\n        OPTIONAL MATCH (p:Precedent)-[:REFERENCES_ARTICLE]->(article)\\n        WITH article, vector_score, count(p) AS precedent_count\\n        WITH article, vector_score + (precedent_count * 0.05) AS final_score, precedent_count\\n        RETURN\\n            article.id AS id,\\n            'Article' AS type,\\n            article.text AS text,\\n            final_score AS score,\\n            precedent_count\\n        ORDER BY final_score DESC\\n        LIMIT $limit\\n        \"\n",
      "Received notification from DBMS server: {severity: WARNING} {code: Neo.ClientNotification.Statement.UnknownRelationshipTypeWarning} {category: UNRECOGNIZED} {title: The provided relationship type is not in the database.} {description: One of the relationship types in your query is not available in the database, make sure you didn't misspell it or that the label is available when you run this statement in your application (the missing relationship type is: HAS_KEYWORD)} {position: line: 4, column: 38, offset: 180} for query: \"\\n        CALL db.index.vector.queryNodes('precedent_embedding', $limit * 2, $embedding)\\n        YIELD node AS precedent, score AS vector_score\\n        OPTIONAL MATCH (precedent)-[:HAS_KEYWORD]->(k:Keyword)\\n        WHERE k.text IN $keywords\\n        WITH precedent, vector_score, collect(DISTINCT k.text) AS keywords\\n        WITH precedent, vector_score + (size(keywords) * 0.1) AS final_score, keywords\\n        OPTIONAL MATCH (precedent)-[:REFERENCES_ARTICLE]->(ref_a:Article)\\n        WITH precedent, final_score, keywords, collect(DISTINCT ref_a.id) AS referenced_articles\\n        RETURN\\n            precedent.id AS id,\\n            'Precedent' AS type,\\n            precedent.name AS name,\\n            coalesce(precedent.full_summary, precedent.judgment_summary) AS text,\\n            final_score AS score,\\n            keywords,\\n            referenced_articles\\n        ORDER BY final_score DESC\\n        LIMIT $limit\\n        \"\n",
      "Received notification from DBMS server: {severity: WARNING} {code: Neo.ClientNotification.Statement.AggregationSkippedNull} {category: UNRECOGNIZED} {title: The query contains an aggregation function that skips null values.} {description: null value eliminated in set function.} {position: None} for query: \"\\n        CALL db.index.vector.queryNodes('precedent_embedding', $limit * 2, $embedding)\\n        YIELD node AS precedent, score AS vector_score\\n        OPTIONAL MATCH (precedent)-[:HAS_KEYWORD]->(k:Keyword)\\n        WHERE k.text IN $keywords\\n        WITH precedent, vector_score, collect(DISTINCT k.text) AS keywords\\n        WITH precedent, vector_score + (size(keywords) * 0.1) AS final_score, keywords\\n        OPTIONAL MATCH (precedent)-[:REFERENCES_ARTICLE]->(ref_a:Article)\\n        WITH precedent, final_score, keywords, collect(DISTINCT ref_a.id) AS referenced_articles\\n        RETURN\\n            precedent.id AS id,\\n            'Precedent' AS type,\\n            precedent.name AS name,\\n            coalesce(precedent.full_summary, precedent.judgment_summary) AS text,\\n            final_score AS score,\\n            keywords,\\n            referenced_articles\\n        ORDER BY final_score DESC\\n        LIMIT $limit\\n        \"\n"
     ]
    },
    {
     "name": "stdout",
     "output_type": "stream",
     "text": [
      "Context retrieval took 0.69 seconds.\n"
     ]
    },
    {
     "name": "stderr",
     "output_type": "stream",
     "text": [
      "Received notification from DBMS server: {severity: WARNING} {code: Neo.ClientNotification.Statement.UnknownRelationshipTypeWarning} {category: UNRECOGNIZED} {title: The provided relationship type is not in the database.} {description: One of the relationship types in your query is not available in the database, make sure you didn't misspell it or that the label is available when you run this statement in your application (the missing relationship type is: HAS_KEYWORD)} {position: line: 4, column: 38, offset: 180} for query: \"\\n        CALL db.index.vector.queryNodes('precedent_embedding', $limit * 2, $embedding)\\n        YIELD node AS precedent, score AS vector_score\\n        OPTIONAL MATCH (precedent)-[:HAS_KEYWORD]->(k:Keyword)\\n        WHERE k.text IN $keywords\\n        WITH precedent, vector_score, collect(DISTINCT k.text) AS keywords\\n        WITH precedent, vector_score + (size(keywords) * 0.1) AS final_score, keywords\\n        OPTIONAL MATCH (precedent)-[:REFERENCES_ARTICLE]->(ref_a:Article)\\n        WITH precedent, final_score, keywords, collect(DISTINCT ref_a.id) AS referenced_articles\\n        RETURN\\n            precedent.id AS id,\\n            'Precedent' AS type,\\n            precedent.name AS name,\\n            coalesce(precedent.full_summary, precedent.judgment_summary) AS text,\\n            final_score AS score,\\n            keywords,\\n            referenced_articles\\n        ORDER BY final_score DESC\\n        LIMIT $limit\\n        \"\n",
      "Received notification from DBMS server: {severity: WARNING} {code: Neo.ClientNotification.Statement.AggregationSkippedNull} {category: UNRECOGNIZED} {title: The query contains an aggregation function that skips null values.} {description: null value eliminated in set function.} {position: None} for query: \"\\n        CALL db.index.vector.queryNodes('precedent_embedding', $limit * 2, $embedding)\\n        YIELD node AS precedent, score AS vector_score\\n        OPTIONAL MATCH (precedent)-[:HAS_KEYWORD]->(k:Keyword)\\n        WHERE k.text IN $keywords\\n        WITH precedent, vector_score, collect(DISTINCT k.text) AS keywords\\n        WITH precedent, vector_score + (size(keywords) * 0.1) AS final_score, keywords\\n        OPTIONAL MATCH (precedent)-[:REFERENCES_ARTICLE]->(ref_a:Article)\\n        WITH precedent, final_score, keywords, collect(DISTINCT ref_a.id) AS referenced_articles\\n        RETURN\\n            precedent.id AS id,\\n            'Precedent' AS type,\\n            precedent.name AS name,\\n            coalesce(precedent.full_summary, precedent.judgment_summary) AS text,\\n            final_score AS score,\\n            keywords,\\n            referenced_articles\\n        ORDER BY final_score DESC\\n        LIMIT $limit\\n        \"\n"
     ]
    },
    {
     "name": "stdout",
     "output_type": "stream",
     "text": [
      "Context retrieval took 0.83 seconds.\n"
     ]
    },
    {
     "name": "stderr",
     "output_type": "stream",
     "text": [
      "Received notification from DBMS server: {severity: WARNING} {code: Neo.ClientNotification.Statement.UnknownRelationshipTypeWarning} {category: UNRECOGNIZED} {title: The provided relationship type is not in the database.} {description: One of the relationship types in your query is not available in the database, make sure you didn't misspell it or that the label is available when you run this statement in your application (the missing relationship type is: HAS_KEYWORD)} {position: line: 4, column: 38, offset: 180} for query: \"\\n        CALL db.index.vector.queryNodes('precedent_embedding', $limit * 2, $embedding)\\n        YIELD node AS precedent, score AS vector_score\\n        OPTIONAL MATCH (precedent)-[:HAS_KEYWORD]->(k:Keyword)\\n        WHERE k.text IN $keywords\\n        WITH precedent, vector_score, collect(DISTINCT k.text) AS keywords\\n        WITH precedent, vector_score + (size(keywords) * 0.1) AS final_score, keywords\\n        OPTIONAL MATCH (precedent)-[:REFERENCES_ARTICLE]->(ref_a:Article)\\n        WITH precedent, final_score, keywords, collect(DISTINCT ref_a.id) AS referenced_articles\\n        RETURN\\n            precedent.id AS id,\\n            'Precedent' AS type,\\n            precedent.name AS name,\\n            coalesce(precedent.full_summary, precedent.judgment_summary) AS text,\\n            final_score AS score,\\n            keywords,\\n            referenced_articles\\n        ORDER BY final_score DESC\\n        LIMIT $limit\\n        \"\n",
      "Received notification from DBMS server: {severity: WARNING} {code: Neo.ClientNotification.Statement.AggregationSkippedNull} {category: UNRECOGNIZED} {title: The query contains an aggregation function that skips null values.} {description: null value eliminated in set function.} {position: None} for query: \"\\n        CALL db.index.vector.queryNodes('precedent_embedding', $limit * 2, $embedding)\\n        YIELD node AS precedent, score AS vector_score\\n        OPTIONAL MATCH (precedent)-[:HAS_KEYWORD]->(k:Keyword)\\n        WHERE k.text IN $keywords\\n        WITH precedent, vector_score, collect(DISTINCT k.text) AS keywords\\n        WITH precedent, vector_score + (size(keywords) * 0.1) AS final_score, keywords\\n        OPTIONAL MATCH (precedent)-[:REFERENCES_ARTICLE]->(ref_a:Article)\\n        WITH precedent, final_score, keywords, collect(DISTINCT ref_a.id) AS referenced_articles\\n        RETURN\\n            precedent.id AS id,\\n            'Precedent' AS type,\\n            precedent.name AS name,\\n            coalesce(precedent.full_summary, precedent.judgment_summary) AS text,\\n            final_score AS score,\\n            keywords,\\n            referenced_articles\\n        ORDER BY final_score DESC\\n        LIMIT $limit\\n        \"\n"
     ]
    },
    {
     "name": "stdout",
     "output_type": "stream",
     "text": [
      "Context retrieval took 0.50 seconds.\n"
     ]
    },
    {
     "name": "stderr",
     "output_type": "stream",
     "text": [
      "Received notification from DBMS server: {severity: WARNING} {code: Neo.ClientNotification.Statement.UnknownRelationshipTypeWarning} {category: UNRECOGNIZED} {title: The provided relationship type is not in the database.} {description: One of the relationship types in your query is not available in the database, make sure you didn't misspell it or that the label is available when you run this statement in your application (the missing relationship type is: HAS_KEYWORD)} {position: line: 4, column: 38, offset: 180} for query: \"\\n        CALL db.index.vector.queryNodes('precedent_embedding', $limit * 2, $embedding)\\n        YIELD node AS precedent, score AS vector_score\\n        OPTIONAL MATCH (precedent)-[:HAS_KEYWORD]->(k:Keyword)\\n        WHERE k.text IN $keywords\\n        WITH precedent, vector_score, collect(DISTINCT k.text) AS keywords\\n        WITH precedent, vector_score + (size(keywords) * 0.1) AS final_score, keywords\\n        OPTIONAL MATCH (precedent)-[:REFERENCES_ARTICLE]->(ref_a:Article)\\n        WITH precedent, final_score, keywords, collect(DISTINCT ref_a.id) AS referenced_articles\\n        RETURN\\n            precedent.id AS id,\\n            'Precedent' AS type,\\n            precedent.name AS name,\\n            coalesce(precedent.full_summary, precedent.judgment_summary) AS text,\\n            final_score AS score,\\n            keywords,\\n            referenced_articles\\n        ORDER BY final_score DESC\\n        LIMIT $limit\\n        \"\n",
      "Received notification from DBMS server: {severity: WARNING} {code: Neo.ClientNotification.Statement.AggregationSkippedNull} {category: UNRECOGNIZED} {title: The query contains an aggregation function that skips null values.} {description: null value eliminated in set function.} {position: None} for query: \"\\n        CALL db.index.vector.queryNodes('precedent_embedding', $limit * 2, $embedding)\\n        YIELD node AS precedent, score AS vector_score\\n        OPTIONAL MATCH (precedent)-[:HAS_KEYWORD]->(k:Keyword)\\n        WHERE k.text IN $keywords\\n        WITH precedent, vector_score, collect(DISTINCT k.text) AS keywords\\n        WITH precedent, vector_score + (size(keywords) * 0.1) AS final_score, keywords\\n        OPTIONAL MATCH (precedent)-[:REFERENCES_ARTICLE]->(ref_a:Article)\\n        WITH precedent, final_score, keywords, collect(DISTINCT ref_a.id) AS referenced_articles\\n        RETURN\\n            precedent.id AS id,\\n            'Precedent' AS type,\\n            precedent.name AS name,\\n            coalesce(precedent.full_summary, precedent.judgment_summary) AS text,\\n            final_score AS score,\\n            keywords,\\n            referenced_articles\\n        ORDER BY final_score DESC\\n        LIMIT $limit\\n        \"\n"
     ]
    },
    {
     "name": "stdout",
     "output_type": "stream",
     "text": [
      "Context retrieval took 0.62 seconds.\n"
     ]
    },
    {
     "name": "stderr",
     "output_type": "stream",
     "text": [
      "Received notification from DBMS server: {severity: WARNING} {code: Neo.ClientNotification.Statement.AggregationSkippedNull} {category: UNRECOGNIZED} {title: The query contains an aggregation function that skips null values.} {description: null value eliminated in set function.} {position: None} for query: \"\\n        CALL db.index.vector.queryNodes('article_embedding', $limit * 2, $embedding)\\n        YIELD node AS article, score AS vector_score\\n        OPTIONAL MATCH (p:Precedent)-[:REFERENCES_ARTICLE]->(article)\\n        WITH article, vector_score, count(p) AS precedent_count\\n        WITH article, vector_score + (precedent_count * 0.05) AS final_score, precedent_count\\n        RETURN\\n            article.id AS id,\\n            'Article' AS type,\\n            article.text AS text,\\n            final_score AS score,\\n            precedent_count\\n        ORDER BY final_score DESC\\n        LIMIT $limit\\n        \"\n",
      "Received notification from DBMS server: {severity: WARNING} {code: Neo.ClientNotification.Statement.UnknownRelationshipTypeWarning} {category: UNRECOGNIZED} {title: The provided relationship type is not in the database.} {description: One of the relationship types in your query is not available in the database, make sure you didn't misspell it or that the label is available when you run this statement in your application (the missing relationship type is: HAS_KEYWORD)} {position: line: 4, column: 38, offset: 180} for query: \"\\n        CALL db.index.vector.queryNodes('precedent_embedding', $limit * 2, $embedding)\\n        YIELD node AS precedent, score AS vector_score\\n        OPTIONAL MATCH (precedent)-[:HAS_KEYWORD]->(k:Keyword)\\n        WHERE k.text IN $keywords\\n        WITH precedent, vector_score, collect(DISTINCT k.text) AS keywords\\n        WITH precedent, vector_score + (size(keywords) * 0.1) AS final_score, keywords\\n        OPTIONAL MATCH (precedent)-[:REFERENCES_ARTICLE]->(ref_a:Article)\\n        WITH precedent, final_score, keywords, collect(DISTINCT ref_a.id) AS referenced_articles\\n        RETURN\\n            precedent.id AS id,\\n            'Precedent' AS type,\\n            precedent.name AS name,\\n            coalesce(precedent.full_summary, precedent.judgment_summary) AS text,\\n            final_score AS score,\\n            keywords,\\n            referenced_articles\\n        ORDER BY final_score DESC\\n        LIMIT $limit\\n        \"\n",
      "Received notification from DBMS server: {severity: WARNING} {code: Neo.ClientNotification.Statement.AggregationSkippedNull} {category: UNRECOGNIZED} {title: The query contains an aggregation function that skips null values.} {description: null value eliminated in set function.} {position: None} for query: \"\\n        CALL db.index.vector.queryNodes('precedent_embedding', $limit * 2, $embedding)\\n        YIELD node AS precedent, score AS vector_score\\n        OPTIONAL MATCH (precedent)-[:HAS_KEYWORD]->(k:Keyword)\\n        WHERE k.text IN $keywords\\n        WITH precedent, vector_score, collect(DISTINCT k.text) AS keywords\\n        WITH precedent, vector_score + (size(keywords) * 0.1) AS final_score, keywords\\n        OPTIONAL MATCH (precedent)-[:REFERENCES_ARTICLE]->(ref_a:Article)\\n        WITH precedent, final_score, keywords, collect(DISTINCT ref_a.id) AS referenced_articles\\n        RETURN\\n            precedent.id AS id,\\n            'Precedent' AS type,\\n            precedent.name AS name,\\n            coalesce(precedent.full_summary, precedent.judgment_summary) AS text,\\n            final_score AS score,\\n            keywords,\\n            referenced_articles\\n        ORDER BY final_score DESC\\n        LIMIT $limit\\n        \"\n"
     ]
    },
    {
     "name": "stdout",
     "output_type": "stream",
     "text": [
      "Context retrieval took 0.59 seconds.\n"
     ]
    },
    {
     "name": "stderr",
     "output_type": "stream",
     "text": [
      "Received notification from DBMS server: {severity: WARNING} {code: Neo.ClientNotification.Statement.AggregationSkippedNull} {category: UNRECOGNIZED} {title: The query contains an aggregation function that skips null values.} {description: null value eliminated in set function.} {position: None} for query: \"\\n        CALL db.index.vector.queryNodes('article_embedding', $limit * 2, $embedding)\\n        YIELD node AS article, score AS vector_score\\n        OPTIONAL MATCH (p:Precedent)-[:REFERENCES_ARTICLE]->(article)\\n        WITH article, vector_score, count(p) AS precedent_count\\n        WITH article, vector_score + (precedent_count * 0.05) AS final_score, precedent_count\\n        RETURN\\n            article.id AS id,\\n            'Article' AS type,\\n            article.text AS text,\\n            final_score AS score,\\n            precedent_count\\n        ORDER BY final_score DESC\\n        LIMIT $limit\\n        \"\n",
      "Received notification from DBMS server: {severity: WARNING} {code: Neo.ClientNotification.Statement.UnknownRelationshipTypeWarning} {category: UNRECOGNIZED} {title: The provided relationship type is not in the database.} {description: One of the relationship types in your query is not available in the database, make sure you didn't misspell it or that the label is available when you run this statement in your application (the missing relationship type is: HAS_KEYWORD)} {position: line: 4, column: 38, offset: 180} for query: \"\\n        CALL db.index.vector.queryNodes('precedent_embedding', $limit * 2, $embedding)\\n        YIELD node AS precedent, score AS vector_score\\n        OPTIONAL MATCH (precedent)-[:HAS_KEYWORD]->(k:Keyword)\\n        WHERE k.text IN $keywords\\n        WITH precedent, vector_score, collect(DISTINCT k.text) AS keywords\\n        WITH precedent, vector_score + (size(keywords) * 0.1) AS final_score, keywords\\n        OPTIONAL MATCH (precedent)-[:REFERENCES_ARTICLE]->(ref_a:Article)\\n        WITH precedent, final_score, keywords, collect(DISTINCT ref_a.id) AS referenced_articles\\n        RETURN\\n            precedent.id AS id,\\n            'Precedent' AS type,\\n            precedent.name AS name,\\n            coalesce(precedent.full_summary, precedent.judgment_summary) AS text,\\n            final_score AS score,\\n            keywords,\\n            referenced_articles\\n        ORDER BY final_score DESC\\n        LIMIT $limit\\n        \"\n",
      "Received notification from DBMS server: {severity: WARNING} {code: Neo.ClientNotification.Statement.AggregationSkippedNull} {category: UNRECOGNIZED} {title: The query contains an aggregation function that skips null values.} {description: null value eliminated in set function.} {position: None} for query: \"\\n        CALL db.index.vector.queryNodes('precedent_embedding', $limit * 2, $embedding)\\n        YIELD node AS precedent, score AS vector_score\\n        OPTIONAL MATCH (precedent)-[:HAS_KEYWORD]->(k:Keyword)\\n        WHERE k.text IN $keywords\\n        WITH precedent, vector_score, collect(DISTINCT k.text) AS keywords\\n        WITH precedent, vector_score + (size(keywords) * 0.1) AS final_score, keywords\\n        OPTIONAL MATCH (precedent)-[:REFERENCES_ARTICLE]->(ref_a:Article)\\n        WITH precedent, final_score, keywords, collect(DISTINCT ref_a.id) AS referenced_articles\\n        RETURN\\n            precedent.id AS id,\\n            'Precedent' AS type,\\n            precedent.name AS name,\\n            coalesce(precedent.full_summary, precedent.judgment_summary) AS text,\\n            final_score AS score,\\n            keywords,\\n            referenced_articles\\n        ORDER BY final_score DESC\\n        LIMIT $limit\\n        \"\n"
     ]
    },
    {
     "name": "stdout",
     "output_type": "stream",
     "text": [
      "Context retrieval took 0.57 seconds.\n"
     ]
    },
    {
     "name": "stderr",
     "output_type": "stream",
     "text": [
      "Received notification from DBMS server: {severity: WARNING} {code: Neo.ClientNotification.Statement.UnknownRelationshipTypeWarning} {category: UNRECOGNIZED} {title: The provided relationship type is not in the database.} {description: One of the relationship types in your query is not available in the database, make sure you didn't misspell it or that the label is available when you run this statement in your application (the missing relationship type is: HAS_KEYWORD)} {position: line: 4, column: 38, offset: 180} for query: \"\\n        CALL db.index.vector.queryNodes('precedent_embedding', $limit * 2, $embedding)\\n        YIELD node AS precedent, score AS vector_score\\n        OPTIONAL MATCH (precedent)-[:HAS_KEYWORD]->(k:Keyword)\\n        WHERE k.text IN $keywords\\n        WITH precedent, vector_score, collect(DISTINCT k.text) AS keywords\\n        WITH precedent, vector_score + (size(keywords) * 0.1) AS final_score, keywords\\n        OPTIONAL MATCH (precedent)-[:REFERENCES_ARTICLE]->(ref_a:Article)\\n        WITH precedent, final_score, keywords, collect(DISTINCT ref_a.id) AS referenced_articles\\n        RETURN\\n            precedent.id AS id,\\n            'Precedent' AS type,\\n            precedent.name AS name,\\n            coalesce(precedent.full_summary, precedent.judgment_summary) AS text,\\n            final_score AS score,\\n            keywords,\\n            referenced_articles\\n        ORDER BY final_score DESC\\n        LIMIT $limit\\n        \"\n",
      "Received notification from DBMS server: {severity: WARNING} {code: Neo.ClientNotification.Statement.AggregationSkippedNull} {category: UNRECOGNIZED} {title: The query contains an aggregation function that skips null values.} {description: null value eliminated in set function.} {position: None} for query: \"\\n        CALL db.index.vector.queryNodes('precedent_embedding', $limit * 2, $embedding)\\n        YIELD node AS precedent, score AS vector_score\\n        OPTIONAL MATCH (precedent)-[:HAS_KEYWORD]->(k:Keyword)\\n        WHERE k.text IN $keywords\\n        WITH precedent, vector_score, collect(DISTINCT k.text) AS keywords\\n        WITH precedent, vector_score + (size(keywords) * 0.1) AS final_score, keywords\\n        OPTIONAL MATCH (precedent)-[:REFERENCES_ARTICLE]->(ref_a:Article)\\n        WITH precedent, final_score, keywords, collect(DISTINCT ref_a.id) AS referenced_articles\\n        RETURN\\n            precedent.id AS id,\\n            'Precedent' AS type,\\n            precedent.name AS name,\\n            coalesce(precedent.full_summary, precedent.judgment_summary) AS text,\\n            final_score AS score,\\n            keywords,\\n            referenced_articles\\n        ORDER BY final_score DESC\\n        LIMIT $limit\\n        \"\n"
     ]
    },
    {
     "name": "stdout",
     "output_type": "stream",
     "text": [
      "Context retrieval took 0.73 seconds.\n"
     ]
    },
    {
     "name": "stderr",
     "output_type": "stream",
     "text": [
      "Received notification from DBMS server: {severity: WARNING} {code: Neo.ClientNotification.Statement.AggregationSkippedNull} {category: UNRECOGNIZED} {title: The query contains an aggregation function that skips null values.} {description: null value eliminated in set function.} {position: None} for query: \"\\n        CALL db.index.vector.queryNodes('article_embedding', $limit * 2, $embedding)\\n        YIELD node AS article, score AS vector_score\\n        OPTIONAL MATCH (p:Precedent)-[:REFERENCES_ARTICLE]->(article)\\n        WITH article, vector_score, count(p) AS precedent_count\\n        WITH article, vector_score + (precedent_count * 0.05) AS final_score, precedent_count\\n        RETURN\\n            article.id AS id,\\n            'Article' AS type,\\n            article.text AS text,\\n            final_score AS score,\\n            precedent_count\\n        ORDER BY final_score DESC\\n        LIMIT $limit\\n        \"\n",
      "Received notification from DBMS server: {severity: WARNING} {code: Neo.ClientNotification.Statement.UnknownRelationshipTypeWarning} {category: UNRECOGNIZED} {title: The provided relationship type is not in the database.} {description: One of the relationship types in your query is not available in the database, make sure you didn't misspell it or that the label is available when you run this statement in your application (the missing relationship type is: HAS_KEYWORD)} {position: line: 4, column: 38, offset: 180} for query: \"\\n        CALL db.index.vector.queryNodes('precedent_embedding', $limit * 2, $embedding)\\n        YIELD node AS precedent, score AS vector_score\\n        OPTIONAL MATCH (precedent)-[:HAS_KEYWORD]->(k:Keyword)\\n        WHERE k.text IN $keywords\\n        WITH precedent, vector_score, collect(DISTINCT k.text) AS keywords\\n        WITH precedent, vector_score + (size(keywords) * 0.1) AS final_score, keywords\\n        OPTIONAL MATCH (precedent)-[:REFERENCES_ARTICLE]->(ref_a:Article)\\n        WITH precedent, final_score, keywords, collect(DISTINCT ref_a.id) AS referenced_articles\\n        RETURN\\n            precedent.id AS id,\\n            'Precedent' AS type,\\n            precedent.name AS name,\\n            coalesce(precedent.full_summary, precedent.judgment_summary) AS text,\\n            final_score AS score,\\n            keywords,\\n            referenced_articles\\n        ORDER BY final_score DESC\\n        LIMIT $limit\\n        \"\n",
      "Received notification from DBMS server: {severity: WARNING} {code: Neo.ClientNotification.Statement.AggregationSkippedNull} {category: UNRECOGNIZED} {title: The query contains an aggregation function that skips null values.} {description: null value eliminated in set function.} {position: None} for query: \"\\n        CALL db.index.vector.queryNodes('precedent_embedding', $limit * 2, $embedding)\\n        YIELD node AS precedent, score AS vector_score\\n        OPTIONAL MATCH (precedent)-[:HAS_KEYWORD]->(k:Keyword)\\n        WHERE k.text IN $keywords\\n        WITH precedent, vector_score, collect(DISTINCT k.text) AS keywords\\n        WITH precedent, vector_score + (size(keywords) * 0.1) AS final_score, keywords\\n        OPTIONAL MATCH (precedent)-[:REFERENCES_ARTICLE]->(ref_a:Article)\\n        WITH precedent, final_score, keywords, collect(DISTINCT ref_a.id) AS referenced_articles\\n        RETURN\\n            precedent.id AS id,\\n            'Precedent' AS type,\\n            precedent.name AS name,\\n            coalesce(precedent.full_summary, precedent.judgment_summary) AS text,\\n            final_score AS score,\\n            keywords,\\n            referenced_articles\\n        ORDER BY final_score DESC\\n        LIMIT $limit\\n        \"\n"
     ]
    },
    {
     "name": "stdout",
     "output_type": "stream",
     "text": [
      "Context retrieval took 0.83 seconds.\n"
     ]
    },
    {
     "name": "stderr",
     "output_type": "stream",
     "text": [
      "Received notification from DBMS server: {severity: WARNING} {code: Neo.ClientNotification.Statement.AggregationSkippedNull} {category: UNRECOGNIZED} {title: The query contains an aggregation function that skips null values.} {description: null value eliminated in set function.} {position: None} for query: \"\\n        CALL db.index.vector.queryNodes('article_embedding', $limit * 2, $embedding)\\n        YIELD node AS article, score AS vector_score\\n        OPTIONAL MATCH (p:Precedent)-[:REFERENCES_ARTICLE]->(article)\\n        WITH article, vector_score, count(p) AS precedent_count\\n        WITH article, vector_score + (precedent_count * 0.05) AS final_score, precedent_count\\n        RETURN\\n            article.id AS id,\\n            'Article' AS type,\\n            article.text AS text,\\n            final_score AS score,\\n            precedent_count\\n        ORDER BY final_score DESC\\n        LIMIT $limit\\n        \"\n",
      "Received notification from DBMS server: {severity: WARNING} {code: Neo.ClientNotification.Statement.UnknownRelationshipTypeWarning} {category: UNRECOGNIZED} {title: The provided relationship type is not in the database.} {description: One of the relationship types in your query is not available in the database, make sure you didn't misspell it or that the label is available when you run this statement in your application (the missing relationship type is: HAS_KEYWORD)} {position: line: 4, column: 38, offset: 180} for query: \"\\n        CALL db.index.vector.queryNodes('precedent_embedding', $limit * 2, $embedding)\\n        YIELD node AS precedent, score AS vector_score\\n        OPTIONAL MATCH (precedent)-[:HAS_KEYWORD]->(k:Keyword)\\n        WHERE k.text IN $keywords\\n        WITH precedent, vector_score, collect(DISTINCT k.text) AS keywords\\n        WITH precedent, vector_score + (size(keywords) * 0.1) AS final_score, keywords\\n        OPTIONAL MATCH (precedent)-[:REFERENCES_ARTICLE]->(ref_a:Article)\\n        WITH precedent, final_score, keywords, collect(DISTINCT ref_a.id) AS referenced_articles\\n        RETURN\\n            precedent.id AS id,\\n            'Precedent' AS type,\\n            precedent.name AS name,\\n            coalesce(precedent.full_summary, precedent.judgment_summary) AS text,\\n            final_score AS score,\\n            keywords,\\n            referenced_articles\\n        ORDER BY final_score DESC\\n        LIMIT $limit\\n        \"\n",
      "Received notification from DBMS server: {severity: WARNING} {code: Neo.ClientNotification.Statement.AggregationSkippedNull} {category: UNRECOGNIZED} {title: The query contains an aggregation function that skips null values.} {description: null value eliminated in set function.} {position: None} for query: \"\\n        CALL db.index.vector.queryNodes('precedent_embedding', $limit * 2, $embedding)\\n        YIELD node AS precedent, score AS vector_score\\n        OPTIONAL MATCH (precedent)-[:HAS_KEYWORD]->(k:Keyword)\\n        WHERE k.text IN $keywords\\n        WITH precedent, vector_score, collect(DISTINCT k.text) AS keywords\\n        WITH precedent, vector_score + (size(keywords) * 0.1) AS final_score, keywords\\n        OPTIONAL MATCH (precedent)-[:REFERENCES_ARTICLE]->(ref_a:Article)\\n        WITH precedent, final_score, keywords, collect(DISTINCT ref_a.id) AS referenced_articles\\n        RETURN\\n            precedent.id AS id,\\n            'Precedent' AS type,\\n            precedent.name AS name,\\n            coalesce(precedent.full_summary, precedent.judgment_summary) AS text,\\n            final_score AS score,\\n            keywords,\\n            referenced_articles\\n        ORDER BY final_score DESC\\n        LIMIT $limit\\n        \"\n"
     ]
    },
    {
     "name": "stdout",
     "output_type": "stream",
     "text": [
      "Context retrieval took 0.50 seconds.\n"
     ]
    },
    {
     "name": "stderr",
     "output_type": "stream",
     "text": [
      "Received notification from DBMS server: {severity: WARNING} {code: Neo.ClientNotification.Statement.AggregationSkippedNull} {category: UNRECOGNIZED} {title: The query contains an aggregation function that skips null values.} {description: null value eliminated in set function.} {position: None} for query: \"\\n        CALL db.index.vector.queryNodes('article_embedding', $limit * 2, $embedding)\\n        YIELD node AS article, score AS vector_score\\n        OPTIONAL MATCH (p:Precedent)-[:REFERENCES_ARTICLE]->(article)\\n        WITH article, vector_score, count(p) AS precedent_count\\n        WITH article, vector_score + (precedent_count * 0.05) AS final_score, precedent_count\\n        RETURN\\n            article.id AS id,\\n            'Article' AS type,\\n            article.text AS text,\\n            final_score AS score,\\n            precedent_count\\n        ORDER BY final_score DESC\\n        LIMIT $limit\\n        \"\n",
      "Received notification from DBMS server: {severity: WARNING} {code: Neo.ClientNotification.Statement.UnknownRelationshipTypeWarning} {category: UNRECOGNIZED} {title: The provided relationship type is not in the database.} {description: One of the relationship types in your query is not available in the database, make sure you didn't misspell it or that the label is available when you run this statement in your application (the missing relationship type is: HAS_KEYWORD)} {position: line: 4, column: 38, offset: 180} for query: \"\\n        CALL db.index.vector.queryNodes('precedent_embedding', $limit * 2, $embedding)\\n        YIELD node AS precedent, score AS vector_score\\n        OPTIONAL MATCH (precedent)-[:HAS_KEYWORD]->(k:Keyword)\\n        WHERE k.text IN $keywords\\n        WITH precedent, vector_score, collect(DISTINCT k.text) AS keywords\\n        WITH precedent, vector_score + (size(keywords) * 0.1) AS final_score, keywords\\n        OPTIONAL MATCH (precedent)-[:REFERENCES_ARTICLE]->(ref_a:Article)\\n        WITH precedent, final_score, keywords, collect(DISTINCT ref_a.id) AS referenced_articles\\n        RETURN\\n            precedent.id AS id,\\n            'Precedent' AS type,\\n            precedent.name AS name,\\n            coalesce(precedent.full_summary, precedent.judgment_summary) AS text,\\n            final_score AS score,\\n            keywords,\\n            referenced_articles\\n        ORDER BY final_score DESC\\n        LIMIT $limit\\n        \"\n",
      "Received notification from DBMS server: {severity: WARNING} {code: Neo.ClientNotification.Statement.AggregationSkippedNull} {category: UNRECOGNIZED} {title: The query contains an aggregation function that skips null values.} {description: null value eliminated in set function.} {position: None} for query: \"\\n        CALL db.index.vector.queryNodes('precedent_embedding', $limit * 2, $embedding)\\n        YIELD node AS precedent, score AS vector_score\\n        OPTIONAL MATCH (precedent)-[:HAS_KEYWORD]->(k:Keyword)\\n        WHERE k.text IN $keywords\\n        WITH precedent, vector_score, collect(DISTINCT k.text) AS keywords\\n        WITH precedent, vector_score + (size(keywords) * 0.1) AS final_score, keywords\\n        OPTIONAL MATCH (precedent)-[:REFERENCES_ARTICLE]->(ref_a:Article)\\n        WITH precedent, final_score, keywords, collect(DISTINCT ref_a.id) AS referenced_articles\\n        RETURN\\n            precedent.id AS id,\\n            'Precedent' AS type,\\n            precedent.name AS name,\\n            coalesce(precedent.full_summary, precedent.judgment_summary) AS text,\\n            final_score AS score,\\n            keywords,\\n            referenced_articles\\n        ORDER BY final_score DESC\\n        LIMIT $limit\\n        \"\n"
     ]
    },
    {
     "name": "stdout",
     "output_type": "stream",
     "text": [
      "Context retrieval took 0.85 seconds.\n"
     ]
    },
    {
     "name": "stderr",
     "output_type": "stream",
     "text": [
      "Received notification from DBMS server: {severity: WARNING} {code: Neo.ClientNotification.Statement.UnknownRelationshipTypeWarning} {category: UNRECOGNIZED} {title: The provided relationship type is not in the database.} {description: One of the relationship types in your query is not available in the database, make sure you didn't misspell it or that the label is available when you run this statement in your application (the missing relationship type is: HAS_KEYWORD)} {position: line: 4, column: 38, offset: 180} for query: \"\\n        CALL db.index.vector.queryNodes('precedent_embedding', $limit * 2, $embedding)\\n        YIELD node AS precedent, score AS vector_score\\n        OPTIONAL MATCH (precedent)-[:HAS_KEYWORD]->(k:Keyword)\\n        WHERE k.text IN $keywords\\n        WITH precedent, vector_score, collect(DISTINCT k.text) AS keywords\\n        WITH precedent, vector_score + (size(keywords) * 0.1) AS final_score, keywords\\n        OPTIONAL MATCH (precedent)-[:REFERENCES_ARTICLE]->(ref_a:Article)\\n        WITH precedent, final_score, keywords, collect(DISTINCT ref_a.id) AS referenced_articles\\n        RETURN\\n            precedent.id AS id,\\n            'Precedent' AS type,\\n            precedent.name AS name,\\n            coalesce(precedent.full_summary, precedent.judgment_summary) AS text,\\n            final_score AS score,\\n            keywords,\\n            referenced_articles\\n        ORDER BY final_score DESC\\n        LIMIT $limit\\n        \"\n",
      "Received notification from DBMS server: {severity: WARNING} {code: Neo.ClientNotification.Statement.AggregationSkippedNull} {category: UNRECOGNIZED} {title: The query contains an aggregation function that skips null values.} {description: null value eliminated in set function.} {position: None} for query: \"\\n        CALL db.index.vector.queryNodes('precedent_embedding', $limit * 2, $embedding)\\n        YIELD node AS precedent, score AS vector_score\\n        OPTIONAL MATCH (precedent)-[:HAS_KEYWORD]->(k:Keyword)\\n        WHERE k.text IN $keywords\\n        WITH precedent, vector_score, collect(DISTINCT k.text) AS keywords\\n        WITH precedent, vector_score + (size(keywords) * 0.1) AS final_score, keywords\\n        OPTIONAL MATCH (precedent)-[:REFERENCES_ARTICLE]->(ref_a:Article)\\n        WITH precedent, final_score, keywords, collect(DISTINCT ref_a.id) AS referenced_articles\\n        RETURN\\n            precedent.id AS id,\\n            'Precedent' AS type,\\n            precedent.name AS name,\\n            coalesce(precedent.full_summary, precedent.judgment_summary) AS text,\\n            final_score AS score,\\n            keywords,\\n            referenced_articles\\n        ORDER BY final_score DESC\\n        LIMIT $limit\\n        \"\n"
     ]
    },
    {
     "name": "stdout",
     "output_type": "stream",
     "text": [
      "Context retrieval took 0.59 seconds.\n"
     ]
    },
    {
     "name": "stderr",
     "output_type": "stream",
     "text": [
      "Received notification from DBMS server: {severity: WARNING} {code: Neo.ClientNotification.Statement.AggregationSkippedNull} {category: UNRECOGNIZED} {title: The query contains an aggregation function that skips null values.} {description: null value eliminated in set function.} {position: None} for query: \"\\n        CALL db.index.vector.queryNodes('article_embedding', $limit * 2, $embedding)\\n        YIELD node AS article, score AS vector_score\\n        OPTIONAL MATCH (p:Precedent)-[:REFERENCES_ARTICLE]->(article)\\n        WITH article, vector_score, count(p) AS precedent_count\\n        WITH article, vector_score + (precedent_count * 0.05) AS final_score, precedent_count\\n        RETURN\\n            article.id AS id,\\n            'Article' AS type,\\n            article.text AS text,\\n            final_score AS score,\\n            precedent_count\\n        ORDER BY final_score DESC\\n        LIMIT $limit\\n        \"\n",
      "Received notification from DBMS server: {severity: WARNING} {code: Neo.ClientNotification.Statement.UnknownRelationshipTypeWarning} {category: UNRECOGNIZED} {title: The provided relationship type is not in the database.} {description: One of the relationship types in your query is not available in the database, make sure you didn't misspell it or that the label is available when you run this statement in your application (the missing relationship type is: HAS_KEYWORD)} {position: line: 4, column: 38, offset: 180} for query: \"\\n        CALL db.index.vector.queryNodes('precedent_embedding', $limit * 2, $embedding)\\n        YIELD node AS precedent, score AS vector_score\\n        OPTIONAL MATCH (precedent)-[:HAS_KEYWORD]->(k:Keyword)\\n        WHERE k.text IN $keywords\\n        WITH precedent, vector_score, collect(DISTINCT k.text) AS keywords\\n        WITH precedent, vector_score + (size(keywords) * 0.1) AS final_score, keywords\\n        OPTIONAL MATCH (precedent)-[:REFERENCES_ARTICLE]->(ref_a:Article)\\n        WITH precedent, final_score, keywords, collect(DISTINCT ref_a.id) AS referenced_articles\\n        RETURN\\n            precedent.id AS id,\\n            'Precedent' AS type,\\n            precedent.name AS name,\\n            coalesce(precedent.full_summary, precedent.judgment_summary) AS text,\\n            final_score AS score,\\n            keywords,\\n            referenced_articles\\n        ORDER BY final_score DESC\\n        LIMIT $limit\\n        \"\n",
      "Received notification from DBMS server: {severity: WARNING} {code: Neo.ClientNotification.Statement.AggregationSkippedNull} {category: UNRECOGNIZED} {title: The query contains an aggregation function that skips null values.} {description: null value eliminated in set function.} {position: None} for query: \"\\n        CALL db.index.vector.queryNodes('precedent_embedding', $limit * 2, $embedding)\\n        YIELD node AS precedent, score AS vector_score\\n        OPTIONAL MATCH (precedent)-[:HAS_KEYWORD]->(k:Keyword)\\n        WHERE k.text IN $keywords\\n        WITH precedent, vector_score, collect(DISTINCT k.text) AS keywords\\n        WITH precedent, vector_score + (size(keywords) * 0.1) AS final_score, keywords\\n        OPTIONAL MATCH (precedent)-[:REFERENCES_ARTICLE]->(ref_a:Article)\\n        WITH precedent, final_score, keywords, collect(DISTINCT ref_a.id) AS referenced_articles\\n        RETURN\\n            precedent.id AS id,\\n            'Precedent' AS type,\\n            precedent.name AS name,\\n            coalesce(precedent.full_summary, precedent.judgment_summary) AS text,\\n            final_score AS score,\\n            keywords,\\n            referenced_articles\\n        ORDER BY final_score DESC\\n        LIMIT $limit\\n        \"\n"
     ]
    },
    {
     "name": "stdout",
     "output_type": "stream",
     "text": [
      "Context retrieval took 0.55 seconds.\n"
     ]
    },
    {
     "name": "stderr",
     "output_type": "stream",
     "text": [
      "Received notification from DBMS server: {severity: WARNING} {code: Neo.ClientNotification.Statement.UnknownRelationshipTypeWarning} {category: UNRECOGNIZED} {title: The provided relationship type is not in the database.} {description: One of the relationship types in your query is not available in the database, make sure you didn't misspell it or that the label is available when you run this statement in your application (the missing relationship type is: HAS_KEYWORD)} {position: line: 4, column: 38, offset: 180} for query: \"\\n        CALL db.index.vector.queryNodes('precedent_embedding', $limit * 2, $embedding)\\n        YIELD node AS precedent, score AS vector_score\\n        OPTIONAL MATCH (precedent)-[:HAS_KEYWORD]->(k:Keyword)\\n        WHERE k.text IN $keywords\\n        WITH precedent, vector_score, collect(DISTINCT k.text) AS keywords\\n        WITH precedent, vector_score + (size(keywords) * 0.1) AS final_score, keywords\\n        OPTIONAL MATCH (precedent)-[:REFERENCES_ARTICLE]->(ref_a:Article)\\n        WITH precedent, final_score, keywords, collect(DISTINCT ref_a.id) AS referenced_articles\\n        RETURN\\n            precedent.id AS id,\\n            'Precedent' AS type,\\n            precedent.name AS name,\\n            coalesce(precedent.full_summary, precedent.judgment_summary) AS text,\\n            final_score AS score,\\n            keywords,\\n            referenced_articles\\n        ORDER BY final_score DESC\\n        LIMIT $limit\\n        \"\n",
      "Received notification from DBMS server: {severity: WARNING} {code: Neo.ClientNotification.Statement.AggregationSkippedNull} {category: UNRECOGNIZED} {title: The query contains an aggregation function that skips null values.} {description: null value eliminated in set function.} {position: None} for query: \"\\n        CALL db.index.vector.queryNodes('precedent_embedding', $limit * 2, $embedding)\\n        YIELD node AS precedent, score AS vector_score\\n        OPTIONAL MATCH (precedent)-[:HAS_KEYWORD]->(k:Keyword)\\n        WHERE k.text IN $keywords\\n        WITH precedent, vector_score, collect(DISTINCT k.text) AS keywords\\n        WITH precedent, vector_score + (size(keywords) * 0.1) AS final_score, keywords\\n        OPTIONAL MATCH (precedent)-[:REFERENCES_ARTICLE]->(ref_a:Article)\\n        WITH precedent, final_score, keywords, collect(DISTINCT ref_a.id) AS referenced_articles\\n        RETURN\\n            precedent.id AS id,\\n            'Precedent' AS type,\\n            precedent.name AS name,\\n            coalesce(precedent.full_summary, precedent.judgment_summary) AS text,\\n            final_score AS score,\\n            keywords,\\n            referenced_articles\\n        ORDER BY final_score DESC\\n        LIMIT $limit\\n        \"\n"
     ]
    },
    {
     "name": "stdout",
     "output_type": "stream",
     "text": [
      "Context retrieval took 0.70 seconds.\n"
     ]
    },
    {
     "name": "stderr",
     "output_type": "stream",
     "text": [
      "Received notification from DBMS server: {severity: WARNING} {code: Neo.ClientNotification.Statement.AggregationSkippedNull} {category: UNRECOGNIZED} {title: The query contains an aggregation function that skips null values.} {description: null value eliminated in set function.} {position: None} for query: \"\\n        CALL db.index.vector.queryNodes('article_embedding', $limit * 2, $embedding)\\n        YIELD node AS article, score AS vector_score\\n        OPTIONAL MATCH (p:Precedent)-[:REFERENCES_ARTICLE]->(article)\\n        WITH article, vector_score, count(p) AS precedent_count\\n        WITH article, vector_score + (precedent_count * 0.05) AS final_score, precedent_count\\n        RETURN\\n            article.id AS id,\\n            'Article' AS type,\\n            article.text AS text,\\n            final_score AS score,\\n            precedent_count\\n        ORDER BY final_score DESC\\n        LIMIT $limit\\n        \"\n",
      "Received notification from DBMS server: {severity: WARNING} {code: Neo.ClientNotification.Statement.UnknownRelationshipTypeWarning} {category: UNRECOGNIZED} {title: The provided relationship type is not in the database.} {description: One of the relationship types in your query is not available in the database, make sure you didn't misspell it or that the label is available when you run this statement in your application (the missing relationship type is: HAS_KEYWORD)} {position: line: 4, column: 38, offset: 180} for query: \"\\n        CALL db.index.vector.queryNodes('precedent_embedding', $limit * 2, $embedding)\\n        YIELD node AS precedent, score AS vector_score\\n        OPTIONAL MATCH (precedent)-[:HAS_KEYWORD]->(k:Keyword)\\n        WHERE k.text IN $keywords\\n        WITH precedent, vector_score, collect(DISTINCT k.text) AS keywords\\n        WITH precedent, vector_score + (size(keywords) * 0.1) AS final_score, keywords\\n        OPTIONAL MATCH (precedent)-[:REFERENCES_ARTICLE]->(ref_a:Article)\\n        WITH precedent, final_score, keywords, collect(DISTINCT ref_a.id) AS referenced_articles\\n        RETURN\\n            precedent.id AS id,\\n            'Precedent' AS type,\\n            precedent.name AS name,\\n            coalesce(precedent.full_summary, precedent.judgment_summary) AS text,\\n            final_score AS score,\\n            keywords,\\n            referenced_articles\\n        ORDER BY final_score DESC\\n        LIMIT $limit\\n        \"\n",
      "Received notification from DBMS server: {severity: WARNING} {code: Neo.ClientNotification.Statement.AggregationSkippedNull} {category: UNRECOGNIZED} {title: The query contains an aggregation function that skips null values.} {description: null value eliminated in set function.} {position: None} for query: \"\\n        CALL db.index.vector.queryNodes('precedent_embedding', $limit * 2, $embedding)\\n        YIELD node AS precedent, score AS vector_score\\n        OPTIONAL MATCH (precedent)-[:HAS_KEYWORD]->(k:Keyword)\\n        WHERE k.text IN $keywords\\n        WITH precedent, vector_score, collect(DISTINCT k.text) AS keywords\\n        WITH precedent, vector_score + (size(keywords) * 0.1) AS final_score, keywords\\n        OPTIONAL MATCH (precedent)-[:REFERENCES_ARTICLE]->(ref_a:Article)\\n        WITH precedent, final_score, keywords, collect(DISTINCT ref_a.id) AS referenced_articles\\n        RETURN\\n            precedent.id AS id,\\n            'Precedent' AS type,\\n            precedent.name AS name,\\n            coalesce(precedent.full_summary, precedent.judgment_summary) AS text,\\n            final_score AS score,\\n            keywords,\\n            referenced_articles\\n        ORDER BY final_score DESC\\n        LIMIT $limit\\n        \"\n"
     ]
    },
    {
     "name": "stdout",
     "output_type": "stream",
     "text": [
      "Context retrieval took 0.86 seconds.\n"
     ]
    },
    {
     "name": "stderr",
     "output_type": "stream",
     "text": [
      "Received notification from DBMS server: {severity: WARNING} {code: Neo.ClientNotification.Statement.UnknownRelationshipTypeWarning} {category: UNRECOGNIZED} {title: The provided relationship type is not in the database.} {description: One of the relationship types in your query is not available in the database, make sure you didn't misspell it or that the label is available when you run this statement in your application (the missing relationship type is: HAS_KEYWORD)} {position: line: 4, column: 38, offset: 180} for query: \"\\n        CALL db.index.vector.queryNodes('precedent_embedding', $limit * 2, $embedding)\\n        YIELD node AS precedent, score AS vector_score\\n        OPTIONAL MATCH (precedent)-[:HAS_KEYWORD]->(k:Keyword)\\n        WHERE k.text IN $keywords\\n        WITH precedent, vector_score, collect(DISTINCT k.text) AS keywords\\n        WITH precedent, vector_score + (size(keywords) * 0.1) AS final_score, keywords\\n        OPTIONAL MATCH (precedent)-[:REFERENCES_ARTICLE]->(ref_a:Article)\\n        WITH precedent, final_score, keywords, collect(DISTINCT ref_a.id) AS referenced_articles\\n        RETURN\\n            precedent.id AS id,\\n            'Precedent' AS type,\\n            precedent.name AS name,\\n            coalesce(precedent.full_summary, precedent.judgment_summary) AS text,\\n            final_score AS score,\\n            keywords,\\n            referenced_articles\\n        ORDER BY final_score DESC\\n        LIMIT $limit\\n        \"\n",
      "Received notification from DBMS server: {severity: WARNING} {code: Neo.ClientNotification.Statement.AggregationSkippedNull} {category: UNRECOGNIZED} {title: The query contains an aggregation function that skips null values.} {description: null value eliminated in set function.} {position: None} for query: \"\\n        CALL db.index.vector.queryNodes('precedent_embedding', $limit * 2, $embedding)\\n        YIELD node AS precedent, score AS vector_score\\n        OPTIONAL MATCH (precedent)-[:HAS_KEYWORD]->(k:Keyword)\\n        WHERE k.text IN $keywords\\n        WITH precedent, vector_score, collect(DISTINCT k.text) AS keywords\\n        WITH precedent, vector_score + (size(keywords) * 0.1) AS final_score, keywords\\n        OPTIONAL MATCH (precedent)-[:REFERENCES_ARTICLE]->(ref_a:Article)\\n        WITH precedent, final_score, keywords, collect(DISTINCT ref_a.id) AS referenced_articles\\n        RETURN\\n            precedent.id AS id,\\n            'Precedent' AS type,\\n            precedent.name AS name,\\n            coalesce(precedent.full_summary, precedent.judgment_summary) AS text,\\n            final_score AS score,\\n            keywords,\\n            referenced_articles\\n        ORDER BY final_score DESC\\n        LIMIT $limit\\n        \"\n"
     ]
    },
    {
     "name": "stdout",
     "output_type": "stream",
     "text": [
      "Context retrieval took 0.78 seconds.\n"
     ]
    },
    {
     "name": "stderr",
     "output_type": "stream",
     "text": [
      "Received notification from DBMS server: {severity: WARNING} {code: Neo.ClientNotification.Statement.AggregationSkippedNull} {category: UNRECOGNIZED} {title: The query contains an aggregation function that skips null values.} {description: null value eliminated in set function.} {position: None} for query: \"\\n        CALL db.index.vector.queryNodes('article_embedding', $limit * 2, $embedding)\\n        YIELD node AS article, score AS vector_score\\n        OPTIONAL MATCH (p:Precedent)-[:REFERENCES_ARTICLE]->(article)\\n        WITH article, vector_score, count(p) AS precedent_count\\n        WITH article, vector_score + (precedent_count * 0.05) AS final_score, precedent_count\\n        RETURN\\n            article.id AS id,\\n            'Article' AS type,\\n            article.text AS text,\\n            final_score AS score,\\n            precedent_count\\n        ORDER BY final_score DESC\\n        LIMIT $limit\\n        \"\n",
      "Received notification from DBMS server: {severity: WARNING} {code: Neo.ClientNotification.Statement.UnknownRelationshipTypeWarning} {category: UNRECOGNIZED} {title: The provided relationship type is not in the database.} {description: One of the relationship types in your query is not available in the database, make sure you didn't misspell it or that the label is available when you run this statement in your application (the missing relationship type is: HAS_KEYWORD)} {position: line: 4, column: 38, offset: 180} for query: \"\\n        CALL db.index.vector.queryNodes('precedent_embedding', $limit * 2, $embedding)\\n        YIELD node AS precedent, score AS vector_score\\n        OPTIONAL MATCH (precedent)-[:HAS_KEYWORD]->(k:Keyword)\\n        WHERE k.text IN $keywords\\n        WITH precedent, vector_score, collect(DISTINCT k.text) AS keywords\\n        WITH precedent, vector_score + (size(keywords) * 0.1) AS final_score, keywords\\n        OPTIONAL MATCH (precedent)-[:REFERENCES_ARTICLE]->(ref_a:Article)\\n        WITH precedent, final_score, keywords, collect(DISTINCT ref_a.id) AS referenced_articles\\n        RETURN\\n            precedent.id AS id,\\n            'Precedent' AS type,\\n            precedent.name AS name,\\n            coalesce(precedent.full_summary, precedent.judgment_summary) AS text,\\n            final_score AS score,\\n            keywords,\\n            referenced_articles\\n        ORDER BY final_score DESC\\n        LIMIT $limit\\n        \"\n",
      "Received notification from DBMS server: {severity: WARNING} {code: Neo.ClientNotification.Statement.AggregationSkippedNull} {category: UNRECOGNIZED} {title: The query contains an aggregation function that skips null values.} {description: null value eliminated in set function.} {position: None} for query: \"\\n        CALL db.index.vector.queryNodes('precedent_embedding', $limit * 2, $embedding)\\n        YIELD node AS precedent, score AS vector_score\\n        OPTIONAL MATCH (precedent)-[:HAS_KEYWORD]->(k:Keyword)\\n        WHERE k.text IN $keywords\\n        WITH precedent, vector_score, collect(DISTINCT k.text) AS keywords\\n        WITH precedent, vector_score + (size(keywords) * 0.1) AS final_score, keywords\\n        OPTIONAL MATCH (precedent)-[:REFERENCES_ARTICLE]->(ref_a:Article)\\n        WITH precedent, final_score, keywords, collect(DISTINCT ref_a.id) AS referenced_articles\\n        RETURN\\n            precedent.id AS id,\\n            'Precedent' AS type,\\n            precedent.name AS name,\\n            coalesce(precedent.full_summary, precedent.judgment_summary) AS text,\\n            final_score AS score,\\n            keywords,\\n            referenced_articles\\n        ORDER BY final_score DESC\\n        LIMIT $limit\\n        \"\n"
     ]
    },
    {
     "name": "stdout",
     "output_type": "stream",
     "text": [
      "Context retrieval took 0.77 seconds.\n"
     ]
    },
    {
     "name": "stderr",
     "output_type": "stream",
     "text": [
      "Received notification from DBMS server: {severity: WARNING} {code: Neo.ClientNotification.Statement.UnknownRelationshipTypeWarning} {category: UNRECOGNIZED} {title: The provided relationship type is not in the database.} {description: One of the relationship types in your query is not available in the database, make sure you didn't misspell it or that the label is available when you run this statement in your application (the missing relationship type is: HAS_KEYWORD)} {position: line: 4, column: 38, offset: 180} for query: \"\\n        CALL db.index.vector.queryNodes('precedent_embedding', $limit * 2, $embedding)\\n        YIELD node AS precedent, score AS vector_score\\n        OPTIONAL MATCH (precedent)-[:HAS_KEYWORD]->(k:Keyword)\\n        WHERE k.text IN $keywords\\n        WITH precedent, vector_score, collect(DISTINCT k.text) AS keywords\\n        WITH precedent, vector_score + (size(keywords) * 0.1) AS final_score, keywords\\n        OPTIONAL MATCH (precedent)-[:REFERENCES_ARTICLE]->(ref_a:Article)\\n        WITH precedent, final_score, keywords, collect(DISTINCT ref_a.id) AS referenced_articles\\n        RETURN\\n            precedent.id AS id,\\n            'Precedent' AS type,\\n            precedent.name AS name,\\n            coalesce(precedent.full_summary, precedent.judgment_summary) AS text,\\n            final_score AS score,\\n            keywords,\\n            referenced_articles\\n        ORDER BY final_score DESC\\n        LIMIT $limit\\n        \"\n",
      "Received notification from DBMS server: {severity: WARNING} {code: Neo.ClientNotification.Statement.AggregationSkippedNull} {category: UNRECOGNIZED} {title: The query contains an aggregation function that skips null values.} {description: null value eliminated in set function.} {position: None} for query: \"\\n        CALL db.index.vector.queryNodes('precedent_embedding', $limit * 2, $embedding)\\n        YIELD node AS precedent, score AS vector_score\\n        OPTIONAL MATCH (precedent)-[:HAS_KEYWORD]->(k:Keyword)\\n        WHERE k.text IN $keywords\\n        WITH precedent, vector_score, collect(DISTINCT k.text) AS keywords\\n        WITH precedent, vector_score + (size(keywords) * 0.1) AS final_score, keywords\\n        OPTIONAL MATCH (precedent)-[:REFERENCES_ARTICLE]->(ref_a:Article)\\n        WITH precedent, final_score, keywords, collect(DISTINCT ref_a.id) AS referenced_articles\\n        RETURN\\n            precedent.id AS id,\\n            'Precedent' AS type,\\n            precedent.name AS name,\\n            coalesce(precedent.full_summary, precedent.judgment_summary) AS text,\\n            final_score AS score,\\n            keywords,\\n            referenced_articles\\n        ORDER BY final_score DESC\\n        LIMIT $limit\\n        \"\n"
     ]
    },
    {
     "name": "stdout",
     "output_type": "stream",
     "text": [
      "Context retrieval took 0.69 seconds.\n"
     ]
    },
    {
     "name": "stderr",
     "output_type": "stream",
     "text": [
      "Received notification from DBMS server: {severity: WARNING} {code: Neo.ClientNotification.Statement.AggregationSkippedNull} {category: UNRECOGNIZED} {title: The query contains an aggregation function that skips null values.} {description: null value eliminated in set function.} {position: None} for query: \"\\n        CALL db.index.vector.queryNodes('article_embedding', $limit * 2, $embedding)\\n        YIELD node AS article, score AS vector_score\\n        OPTIONAL MATCH (p:Precedent)-[:REFERENCES_ARTICLE]->(article)\\n        WITH article, vector_score, count(p) AS precedent_count\\n        WITH article, vector_score + (precedent_count * 0.05) AS final_score, precedent_count\\n        RETURN\\n            article.id AS id,\\n            'Article' AS type,\\n            article.text AS text,\\n            final_score AS score,\\n            precedent_count\\n        ORDER BY final_score DESC\\n        LIMIT $limit\\n        \"\n",
      "Received notification from DBMS server: {severity: WARNING} {code: Neo.ClientNotification.Statement.UnknownRelationshipTypeWarning} {category: UNRECOGNIZED} {title: The provided relationship type is not in the database.} {description: One of the relationship types in your query is not available in the database, make sure you didn't misspell it or that the label is available when you run this statement in your application (the missing relationship type is: HAS_KEYWORD)} {position: line: 4, column: 38, offset: 180} for query: \"\\n        CALL db.index.vector.queryNodes('precedent_embedding', $limit * 2, $embedding)\\n        YIELD node AS precedent, score AS vector_score\\n        OPTIONAL MATCH (precedent)-[:HAS_KEYWORD]->(k:Keyword)\\n        WHERE k.text IN $keywords\\n        WITH precedent, vector_score, collect(DISTINCT k.text) AS keywords\\n        WITH precedent, vector_score + (size(keywords) * 0.1) AS final_score, keywords\\n        OPTIONAL MATCH (precedent)-[:REFERENCES_ARTICLE]->(ref_a:Article)\\n        WITH precedent, final_score, keywords, collect(DISTINCT ref_a.id) AS referenced_articles\\n        RETURN\\n            precedent.id AS id,\\n            'Precedent' AS type,\\n            precedent.name AS name,\\n            coalesce(precedent.full_summary, precedent.judgment_summary) AS text,\\n            final_score AS score,\\n            keywords,\\n            referenced_articles\\n        ORDER BY final_score DESC\\n        LIMIT $limit\\n        \"\n",
      "Received notification from DBMS server: {severity: WARNING} {code: Neo.ClientNotification.Statement.AggregationSkippedNull} {category: UNRECOGNIZED} {title: The query contains an aggregation function that skips null values.} {description: null value eliminated in set function.} {position: None} for query: \"\\n        CALL db.index.vector.queryNodes('precedent_embedding', $limit * 2, $embedding)\\n        YIELD node AS precedent, score AS vector_score\\n        OPTIONAL MATCH (precedent)-[:HAS_KEYWORD]->(k:Keyword)\\n        WHERE k.text IN $keywords\\n        WITH precedent, vector_score, collect(DISTINCT k.text) AS keywords\\n        WITH precedent, vector_score + (size(keywords) * 0.1) AS final_score, keywords\\n        OPTIONAL MATCH (precedent)-[:REFERENCES_ARTICLE]->(ref_a:Article)\\n        WITH precedent, final_score, keywords, collect(DISTINCT ref_a.id) AS referenced_articles\\n        RETURN\\n            precedent.id AS id,\\n            'Precedent' AS type,\\n            precedent.name AS name,\\n            coalesce(precedent.full_summary, precedent.judgment_summary) AS text,\\n            final_score AS score,\\n            keywords,\\n            referenced_articles\\n        ORDER BY final_score DESC\\n        LIMIT $limit\\n        \"\n"
     ]
    },
    {
     "name": "stdout",
     "output_type": "stream",
     "text": [
      "Context retrieval took 0.57 seconds.\n"
     ]
    },
    {
     "name": "stderr",
     "output_type": "stream",
     "text": [
      "Received notification from DBMS server: {severity: WARNING} {code: Neo.ClientNotification.Statement.UnknownRelationshipTypeWarning} {category: UNRECOGNIZED} {title: The provided relationship type is not in the database.} {description: One of the relationship types in your query is not available in the database, make sure you didn't misspell it or that the label is available when you run this statement in your application (the missing relationship type is: HAS_KEYWORD)} {position: line: 4, column: 38, offset: 180} for query: \"\\n        CALL db.index.vector.queryNodes('precedent_embedding', $limit * 2, $embedding)\\n        YIELD node AS precedent, score AS vector_score\\n        OPTIONAL MATCH (precedent)-[:HAS_KEYWORD]->(k:Keyword)\\n        WHERE k.text IN $keywords\\n        WITH precedent, vector_score, collect(DISTINCT k.text) AS keywords\\n        WITH precedent, vector_score + (size(keywords) * 0.1) AS final_score, keywords\\n        OPTIONAL MATCH (precedent)-[:REFERENCES_ARTICLE]->(ref_a:Article)\\n        WITH precedent, final_score, keywords, collect(DISTINCT ref_a.id) AS referenced_articles\\n        RETURN\\n            precedent.id AS id,\\n            'Precedent' AS type,\\n            precedent.name AS name,\\n            coalesce(precedent.full_summary, precedent.judgment_summary) AS text,\\n            final_score AS score,\\n            keywords,\\n            referenced_articles\\n        ORDER BY final_score DESC\\n        LIMIT $limit\\n        \"\n",
      "Received notification from DBMS server: {severity: WARNING} {code: Neo.ClientNotification.Statement.AggregationSkippedNull} {category: UNRECOGNIZED} {title: The query contains an aggregation function that skips null values.} {description: null value eliminated in set function.} {position: None} for query: \"\\n        CALL db.index.vector.queryNodes('precedent_embedding', $limit * 2, $embedding)\\n        YIELD node AS precedent, score AS vector_score\\n        OPTIONAL MATCH (precedent)-[:HAS_KEYWORD]->(k:Keyword)\\n        WHERE k.text IN $keywords\\n        WITH precedent, vector_score, collect(DISTINCT k.text) AS keywords\\n        WITH precedent, vector_score + (size(keywords) * 0.1) AS final_score, keywords\\n        OPTIONAL MATCH (precedent)-[:REFERENCES_ARTICLE]->(ref_a:Article)\\n        WITH precedent, final_score, keywords, collect(DISTINCT ref_a.id) AS referenced_articles\\n        RETURN\\n            precedent.id AS id,\\n            'Precedent' AS type,\\n            precedent.name AS name,\\n            coalesce(precedent.full_summary, precedent.judgment_summary) AS text,\\n            final_score AS score,\\n            keywords,\\n            referenced_articles\\n        ORDER BY final_score DESC\\n        LIMIT $limit\\n        \"\n"
     ]
    },
    {
     "name": "stdout",
     "output_type": "stream",
     "text": [
      "Context retrieval took 0.48 seconds.\n"
     ]
    },
    {
     "name": "stderr",
     "output_type": "stream",
     "text": [
      "Received notification from DBMS server: {severity: WARNING} {code: Neo.ClientNotification.Statement.AggregationSkippedNull} {category: UNRECOGNIZED} {title: The query contains an aggregation function that skips null values.} {description: null value eliminated in set function.} {position: None} for query: \"\\n        CALL db.index.vector.queryNodes('article_embedding', $limit * 2, $embedding)\\n        YIELD node AS article, score AS vector_score\\n        OPTIONAL MATCH (p:Precedent)-[:REFERENCES_ARTICLE]->(article)\\n        WITH article, vector_score, count(p) AS precedent_count\\n        WITH article, vector_score + (precedent_count * 0.05) AS final_score, precedent_count\\n        RETURN\\n            article.id AS id,\\n            'Article' AS type,\\n            article.text AS text,\\n            final_score AS score,\\n            precedent_count\\n        ORDER BY final_score DESC\\n        LIMIT $limit\\n        \"\n",
      "Received notification from DBMS server: {severity: WARNING} {code: Neo.ClientNotification.Statement.UnknownRelationshipTypeWarning} {category: UNRECOGNIZED} {title: The provided relationship type is not in the database.} {description: One of the relationship types in your query is not available in the database, make sure you didn't misspell it or that the label is available when you run this statement in your application (the missing relationship type is: HAS_KEYWORD)} {position: line: 4, column: 38, offset: 180} for query: \"\\n        CALL db.index.vector.queryNodes('precedent_embedding', $limit * 2, $embedding)\\n        YIELD node AS precedent, score AS vector_score\\n        OPTIONAL MATCH (precedent)-[:HAS_KEYWORD]->(k:Keyword)\\n        WHERE k.text IN $keywords\\n        WITH precedent, vector_score, collect(DISTINCT k.text) AS keywords\\n        WITH precedent, vector_score + (size(keywords) * 0.1) AS final_score, keywords\\n        OPTIONAL MATCH (precedent)-[:REFERENCES_ARTICLE]->(ref_a:Article)\\n        WITH precedent, final_score, keywords, collect(DISTINCT ref_a.id) AS referenced_articles\\n        RETURN\\n            precedent.id AS id,\\n            'Precedent' AS type,\\n            precedent.name AS name,\\n            coalesce(precedent.full_summary, precedent.judgment_summary) AS text,\\n            final_score AS score,\\n            keywords,\\n            referenced_articles\\n        ORDER BY final_score DESC\\n        LIMIT $limit\\n        \"\n",
      "Received notification from DBMS server: {severity: WARNING} {code: Neo.ClientNotification.Statement.AggregationSkippedNull} {category: UNRECOGNIZED} {title: The query contains an aggregation function that skips null values.} {description: null value eliminated in set function.} {position: None} for query: \"\\n        CALL db.index.vector.queryNodes('precedent_embedding', $limit * 2, $embedding)\\n        YIELD node AS precedent, score AS vector_score\\n        OPTIONAL MATCH (precedent)-[:HAS_KEYWORD]->(k:Keyword)\\n        WHERE k.text IN $keywords\\n        WITH precedent, vector_score, collect(DISTINCT k.text) AS keywords\\n        WITH precedent, vector_score + (size(keywords) * 0.1) AS final_score, keywords\\n        OPTIONAL MATCH (precedent)-[:REFERENCES_ARTICLE]->(ref_a:Article)\\n        WITH precedent, final_score, keywords, collect(DISTINCT ref_a.id) AS referenced_articles\\n        RETURN\\n            precedent.id AS id,\\n            'Precedent' AS type,\\n            precedent.name AS name,\\n            coalesce(precedent.full_summary, precedent.judgment_summary) AS text,\\n            final_score AS score,\\n            keywords,\\n            referenced_articles\\n        ORDER BY final_score DESC\\n        LIMIT $limit\\n        \"\n"
     ]
    },
    {
     "name": "stdout",
     "output_type": "stream",
     "text": [
      "Context retrieval took 0.50 seconds.\n"
     ]
    },
    {
     "name": "stderr",
     "output_type": "stream",
     "text": [
      "Received notification from DBMS server: {severity: WARNING} {code: Neo.ClientNotification.Statement.AggregationSkippedNull} {category: UNRECOGNIZED} {title: The query contains an aggregation function that skips null values.} {description: null value eliminated in set function.} {position: None} for query: \"\\n        CALL db.index.vector.queryNodes('article_embedding', $limit * 2, $embedding)\\n        YIELD node AS article, score AS vector_score\\n        OPTIONAL MATCH (p:Precedent)-[:REFERENCES_ARTICLE]->(article)\\n        WITH article, vector_score, count(p) AS precedent_count\\n        WITH article, vector_score + (precedent_count * 0.05) AS final_score, precedent_count\\n        RETURN\\n            article.id AS id,\\n            'Article' AS type,\\n            article.text AS text,\\n            final_score AS score,\\n            precedent_count\\n        ORDER BY final_score DESC\\n        LIMIT $limit\\n        \"\n",
      "Received notification from DBMS server: {severity: WARNING} {code: Neo.ClientNotification.Statement.UnknownRelationshipTypeWarning} {category: UNRECOGNIZED} {title: The provided relationship type is not in the database.} {description: One of the relationship types in your query is not available in the database, make sure you didn't misspell it or that the label is available when you run this statement in your application (the missing relationship type is: HAS_KEYWORD)} {position: line: 4, column: 38, offset: 180} for query: \"\\n        CALL db.index.vector.queryNodes('precedent_embedding', $limit * 2, $embedding)\\n        YIELD node AS precedent, score AS vector_score\\n        OPTIONAL MATCH (precedent)-[:HAS_KEYWORD]->(k:Keyword)\\n        WHERE k.text IN $keywords\\n        WITH precedent, vector_score, collect(DISTINCT k.text) AS keywords\\n        WITH precedent, vector_score + (size(keywords) * 0.1) AS final_score, keywords\\n        OPTIONAL MATCH (precedent)-[:REFERENCES_ARTICLE]->(ref_a:Article)\\n        WITH precedent, final_score, keywords, collect(DISTINCT ref_a.id) AS referenced_articles\\n        RETURN\\n            precedent.id AS id,\\n            'Precedent' AS type,\\n            precedent.name AS name,\\n            coalesce(precedent.full_summary, precedent.judgment_summary) AS text,\\n            final_score AS score,\\n            keywords,\\n            referenced_articles\\n        ORDER BY final_score DESC\\n        LIMIT $limit\\n        \"\n",
      "Received notification from DBMS server: {severity: WARNING} {code: Neo.ClientNotification.Statement.AggregationSkippedNull} {category: UNRECOGNIZED} {title: The query contains an aggregation function that skips null values.} {description: null value eliminated in set function.} {position: None} for query: \"\\n        CALL db.index.vector.queryNodes('precedent_embedding', $limit * 2, $embedding)\\n        YIELD node AS precedent, score AS vector_score\\n        OPTIONAL MATCH (precedent)-[:HAS_KEYWORD]->(k:Keyword)\\n        WHERE k.text IN $keywords\\n        WITH precedent, vector_score, collect(DISTINCT k.text) AS keywords\\n        WITH precedent, vector_score + (size(keywords) * 0.1) AS final_score, keywords\\n        OPTIONAL MATCH (precedent)-[:REFERENCES_ARTICLE]->(ref_a:Article)\\n        WITH precedent, final_score, keywords, collect(DISTINCT ref_a.id) AS referenced_articles\\n        RETURN\\n            precedent.id AS id,\\n            'Precedent' AS type,\\n            precedent.name AS name,\\n            coalesce(precedent.full_summary, precedent.judgment_summary) AS text,\\n            final_score AS score,\\n            keywords,\\n            referenced_articles\\n        ORDER BY final_score DESC\\n        LIMIT $limit\\n        \"\n"
     ]
    },
    {
     "name": "stdout",
     "output_type": "stream",
     "text": [
      "Context retrieval took 0.61 seconds.\n"
     ]
    },
    {
     "name": "stderr",
     "output_type": "stream",
     "text": [
      "Received notification from DBMS server: {severity: WARNING} {code: Neo.ClientNotification.Statement.AggregationSkippedNull} {category: UNRECOGNIZED} {title: The query contains an aggregation function that skips null values.} {description: null value eliminated in set function.} {position: None} for query: \"\\n        CALL db.index.vector.queryNodes('article_embedding', $limit * 2, $embedding)\\n        YIELD node AS article, score AS vector_score\\n        OPTIONAL MATCH (p:Precedent)-[:REFERENCES_ARTICLE]->(article)\\n        WITH article, vector_score, count(p) AS precedent_count\\n        WITH article, vector_score + (precedent_count * 0.05) AS final_score, precedent_count\\n        RETURN\\n            article.id AS id,\\n            'Article' AS type,\\n            article.text AS text,\\n            final_score AS score,\\n            precedent_count\\n        ORDER BY final_score DESC\\n        LIMIT $limit\\n        \"\n",
      "Received notification from DBMS server: {severity: WARNING} {code: Neo.ClientNotification.Statement.UnknownRelationshipTypeWarning} {category: UNRECOGNIZED} {title: The provided relationship type is not in the database.} {description: One of the relationship types in your query is not available in the database, make sure you didn't misspell it or that the label is available when you run this statement in your application (the missing relationship type is: HAS_KEYWORD)} {position: line: 4, column: 38, offset: 180} for query: \"\\n        CALL db.index.vector.queryNodes('precedent_embedding', $limit * 2, $embedding)\\n        YIELD node AS precedent, score AS vector_score\\n        OPTIONAL MATCH (precedent)-[:HAS_KEYWORD]->(k:Keyword)\\n        WHERE k.text IN $keywords\\n        WITH precedent, vector_score, collect(DISTINCT k.text) AS keywords\\n        WITH precedent, vector_score + (size(keywords) * 0.1) AS final_score, keywords\\n        OPTIONAL MATCH (precedent)-[:REFERENCES_ARTICLE]->(ref_a:Article)\\n        WITH precedent, final_score, keywords, collect(DISTINCT ref_a.id) AS referenced_articles\\n        RETURN\\n            precedent.id AS id,\\n            'Precedent' AS type,\\n            precedent.name AS name,\\n            coalesce(precedent.full_summary, precedent.judgment_summary) AS text,\\n            final_score AS score,\\n            keywords,\\n            referenced_articles\\n        ORDER BY final_score DESC\\n        LIMIT $limit\\n        \"\n",
      "Received notification from DBMS server: {severity: WARNING} {code: Neo.ClientNotification.Statement.AggregationSkippedNull} {category: UNRECOGNIZED} {title: The query contains an aggregation function that skips null values.} {description: null value eliminated in set function.} {position: None} for query: \"\\n        CALL db.index.vector.queryNodes('precedent_embedding', $limit * 2, $embedding)\\n        YIELD node AS precedent, score AS vector_score\\n        OPTIONAL MATCH (precedent)-[:HAS_KEYWORD]->(k:Keyword)\\n        WHERE k.text IN $keywords\\n        WITH precedent, vector_score, collect(DISTINCT k.text) AS keywords\\n        WITH precedent, vector_score + (size(keywords) * 0.1) AS final_score, keywords\\n        OPTIONAL MATCH (precedent)-[:REFERENCES_ARTICLE]->(ref_a:Article)\\n        WITH precedent, final_score, keywords, collect(DISTINCT ref_a.id) AS referenced_articles\\n        RETURN\\n            precedent.id AS id,\\n            'Precedent' AS type,\\n            precedent.name AS name,\\n            coalesce(precedent.full_summary, precedent.judgment_summary) AS text,\\n            final_score AS score,\\n            keywords,\\n            referenced_articles\\n        ORDER BY final_score DESC\\n        LIMIT $limit\\n        \"\n"
     ]
    },
    {
     "name": "stdout",
     "output_type": "stream",
     "text": [
      "Context retrieval took 0.51 seconds.\n"
     ]
    },
    {
     "name": "stderr",
     "output_type": "stream",
     "text": [
      "Received notification from DBMS server: {severity: WARNING} {code: Neo.ClientNotification.Statement.UnknownRelationshipTypeWarning} {category: UNRECOGNIZED} {title: The provided relationship type is not in the database.} {description: One of the relationship types in your query is not available in the database, make sure you didn't misspell it or that the label is available when you run this statement in your application (the missing relationship type is: HAS_KEYWORD)} {position: line: 4, column: 38, offset: 180} for query: \"\\n        CALL db.index.vector.queryNodes('precedent_embedding', $limit * 2, $embedding)\\n        YIELD node AS precedent, score AS vector_score\\n        OPTIONAL MATCH (precedent)-[:HAS_KEYWORD]->(k:Keyword)\\n        WHERE k.text IN $keywords\\n        WITH precedent, vector_score, collect(DISTINCT k.text) AS keywords\\n        WITH precedent, vector_score + (size(keywords) * 0.1) AS final_score, keywords\\n        OPTIONAL MATCH (precedent)-[:REFERENCES_ARTICLE]->(ref_a:Article)\\n        WITH precedent, final_score, keywords, collect(DISTINCT ref_a.id) AS referenced_articles\\n        RETURN\\n            precedent.id AS id,\\n            'Precedent' AS type,\\n            precedent.name AS name,\\n            coalesce(precedent.full_summary, precedent.judgment_summary) AS text,\\n            final_score AS score,\\n            keywords,\\n            referenced_articles\\n        ORDER BY final_score DESC\\n        LIMIT $limit\\n        \"\n",
      "Received notification from DBMS server: {severity: WARNING} {code: Neo.ClientNotification.Statement.AggregationSkippedNull} {category: UNRECOGNIZED} {title: The query contains an aggregation function that skips null values.} {description: null value eliminated in set function.} {position: None} for query: \"\\n        CALL db.index.vector.queryNodes('precedent_embedding', $limit * 2, $embedding)\\n        YIELD node AS precedent, score AS vector_score\\n        OPTIONAL MATCH (precedent)-[:HAS_KEYWORD]->(k:Keyword)\\n        WHERE k.text IN $keywords\\n        WITH precedent, vector_score, collect(DISTINCT k.text) AS keywords\\n        WITH precedent, vector_score + (size(keywords) * 0.1) AS final_score, keywords\\n        OPTIONAL MATCH (precedent)-[:REFERENCES_ARTICLE]->(ref_a:Article)\\n        WITH precedent, final_score, keywords, collect(DISTINCT ref_a.id) AS referenced_articles\\n        RETURN\\n            precedent.id AS id,\\n            'Precedent' AS type,\\n            precedent.name AS name,\\n            coalesce(precedent.full_summary, precedent.judgment_summary) AS text,\\n            final_score AS score,\\n            keywords,\\n            referenced_articles\\n        ORDER BY final_score DESC\\n        LIMIT $limit\\n        \"\n"
     ]
    },
    {
     "name": "stdout",
     "output_type": "stream",
     "text": [
      "Context retrieval took 0.76 seconds.\n"
     ]
    },
    {
     "name": "stderr",
     "output_type": "stream",
     "text": [
      "Received notification from DBMS server: {severity: WARNING} {code: Neo.ClientNotification.Statement.AggregationSkippedNull} {category: UNRECOGNIZED} {title: The query contains an aggregation function that skips null values.} {description: null value eliminated in set function.} {position: None} for query: \"\\n        CALL db.index.vector.queryNodes('article_embedding', $limit * 2, $embedding)\\n        YIELD node AS article, score AS vector_score\\n        OPTIONAL MATCH (p:Precedent)-[:REFERENCES_ARTICLE]->(article)\\n        WITH article, vector_score, count(p) AS precedent_count\\n        WITH article, vector_score + (precedent_count * 0.05) AS final_score, precedent_count\\n        RETURN\\n            article.id AS id,\\n            'Article' AS type,\\n            article.text AS text,\\n            final_score AS score,\\n            precedent_count\\n        ORDER BY final_score DESC\\n        LIMIT $limit\\n        \"\n",
      "Received notification from DBMS server: {severity: WARNING} {code: Neo.ClientNotification.Statement.UnknownRelationshipTypeWarning} {category: UNRECOGNIZED} {title: The provided relationship type is not in the database.} {description: One of the relationship types in your query is not available in the database, make sure you didn't misspell it or that the label is available when you run this statement in your application (the missing relationship type is: HAS_KEYWORD)} {position: line: 4, column: 38, offset: 180} for query: \"\\n        CALL db.index.vector.queryNodes('precedent_embedding', $limit * 2, $embedding)\\n        YIELD node AS precedent, score AS vector_score\\n        OPTIONAL MATCH (precedent)-[:HAS_KEYWORD]->(k:Keyword)\\n        WHERE k.text IN $keywords\\n        WITH precedent, vector_score, collect(DISTINCT k.text) AS keywords\\n        WITH precedent, vector_score + (size(keywords) * 0.1) AS final_score, keywords\\n        OPTIONAL MATCH (precedent)-[:REFERENCES_ARTICLE]->(ref_a:Article)\\n        WITH precedent, final_score, keywords, collect(DISTINCT ref_a.id) AS referenced_articles\\n        RETURN\\n            precedent.id AS id,\\n            'Precedent' AS type,\\n            precedent.name AS name,\\n            coalesce(precedent.full_summary, precedent.judgment_summary) AS text,\\n            final_score AS score,\\n            keywords,\\n            referenced_articles\\n        ORDER BY final_score DESC\\n        LIMIT $limit\\n        \"\n",
      "Received notification from DBMS server: {severity: WARNING} {code: Neo.ClientNotification.Statement.AggregationSkippedNull} {category: UNRECOGNIZED} {title: The query contains an aggregation function that skips null values.} {description: null value eliminated in set function.} {position: None} for query: \"\\n        CALL db.index.vector.queryNodes('precedent_embedding', $limit * 2, $embedding)\\n        YIELD node AS precedent, score AS vector_score\\n        OPTIONAL MATCH (precedent)-[:HAS_KEYWORD]->(k:Keyword)\\n        WHERE k.text IN $keywords\\n        WITH precedent, vector_score, collect(DISTINCT k.text) AS keywords\\n        WITH precedent, vector_score + (size(keywords) * 0.1) AS final_score, keywords\\n        OPTIONAL MATCH (precedent)-[:REFERENCES_ARTICLE]->(ref_a:Article)\\n        WITH precedent, final_score, keywords, collect(DISTINCT ref_a.id) AS referenced_articles\\n        RETURN\\n            precedent.id AS id,\\n            'Precedent' AS type,\\n            precedent.name AS name,\\n            coalesce(precedent.full_summary, precedent.judgment_summary) AS text,\\n            final_score AS score,\\n            keywords,\\n            referenced_articles\\n        ORDER BY final_score DESC\\n        LIMIT $limit\\n        \"\n"
     ]
    },
    {
     "name": "stdout",
     "output_type": "stream",
     "text": [
      "Context retrieval took 0.53 seconds.\n"
     ]
    },
    {
     "name": "stderr",
     "output_type": "stream",
     "text": [
      "Received notification from DBMS server: {severity: WARNING} {code: Neo.ClientNotification.Statement.UnknownRelationshipTypeWarning} {category: UNRECOGNIZED} {title: The provided relationship type is not in the database.} {description: One of the relationship types in your query is not available in the database, make sure you didn't misspell it or that the label is available when you run this statement in your application (the missing relationship type is: HAS_KEYWORD)} {position: line: 4, column: 38, offset: 180} for query: \"\\n        CALL db.index.vector.queryNodes('precedent_embedding', $limit * 2, $embedding)\\n        YIELD node AS precedent, score AS vector_score\\n        OPTIONAL MATCH (precedent)-[:HAS_KEYWORD]->(k:Keyword)\\n        WHERE k.text IN $keywords\\n        WITH precedent, vector_score, collect(DISTINCT k.text) AS keywords\\n        WITH precedent, vector_score + (size(keywords) * 0.1) AS final_score, keywords\\n        OPTIONAL MATCH (precedent)-[:REFERENCES_ARTICLE]->(ref_a:Article)\\n        WITH precedent, final_score, keywords, collect(DISTINCT ref_a.id) AS referenced_articles\\n        RETURN\\n            precedent.id AS id,\\n            'Precedent' AS type,\\n            precedent.name AS name,\\n            coalesce(precedent.full_summary, precedent.judgment_summary) AS text,\\n            final_score AS score,\\n            keywords,\\n            referenced_articles\\n        ORDER BY final_score DESC\\n        LIMIT $limit\\n        \"\n",
      "Received notification from DBMS server: {severity: WARNING} {code: Neo.ClientNotification.Statement.AggregationSkippedNull} {category: UNRECOGNIZED} {title: The query contains an aggregation function that skips null values.} {description: null value eliminated in set function.} {position: None} for query: \"\\n        CALL db.index.vector.queryNodes('precedent_embedding', $limit * 2, $embedding)\\n        YIELD node AS precedent, score AS vector_score\\n        OPTIONAL MATCH (precedent)-[:HAS_KEYWORD]->(k:Keyword)\\n        WHERE k.text IN $keywords\\n        WITH precedent, vector_score, collect(DISTINCT k.text) AS keywords\\n        WITH precedent, vector_score + (size(keywords) * 0.1) AS final_score, keywords\\n        OPTIONAL MATCH (precedent)-[:REFERENCES_ARTICLE]->(ref_a:Article)\\n        WITH precedent, final_score, keywords, collect(DISTINCT ref_a.id) AS referenced_articles\\n        RETURN\\n            precedent.id AS id,\\n            'Precedent' AS type,\\n            precedent.name AS name,\\n            coalesce(precedent.full_summary, precedent.judgment_summary) AS text,\\n            final_score AS score,\\n            keywords,\\n            referenced_articles\\n        ORDER BY final_score DESC\\n        LIMIT $limit\\n        \"\n"
     ]
    },
    {
     "name": "stdout",
     "output_type": "stream",
     "text": [
      "Context retrieval took 0.48 seconds.\n"
     ]
    },
    {
     "name": "stderr",
     "output_type": "stream",
     "text": [
      "Received notification from DBMS server: {severity: WARNING} {code: Neo.ClientNotification.Statement.UnknownRelationshipTypeWarning} {category: UNRECOGNIZED} {title: The provided relationship type is not in the database.} {description: One of the relationship types in your query is not available in the database, make sure you didn't misspell it or that the label is available when you run this statement in your application (the missing relationship type is: HAS_KEYWORD)} {position: line: 4, column: 38, offset: 180} for query: \"\\n        CALL db.index.vector.queryNodes('precedent_embedding', $limit * 2, $embedding)\\n        YIELD node AS precedent, score AS vector_score\\n        OPTIONAL MATCH (precedent)-[:HAS_KEYWORD]->(k:Keyword)\\n        WHERE k.text IN $keywords\\n        WITH precedent, vector_score, collect(DISTINCT k.text) AS keywords\\n        WITH precedent, vector_score + (size(keywords) * 0.1) AS final_score, keywords\\n        OPTIONAL MATCH (precedent)-[:REFERENCES_ARTICLE]->(ref_a:Article)\\n        WITH precedent, final_score, keywords, collect(DISTINCT ref_a.id) AS referenced_articles\\n        RETURN\\n            precedent.id AS id,\\n            'Precedent' AS type,\\n            precedent.name AS name,\\n            coalesce(precedent.full_summary, precedent.judgment_summary) AS text,\\n            final_score AS score,\\n            keywords,\\n            referenced_articles\\n        ORDER BY final_score DESC\\n        LIMIT $limit\\n        \"\n",
      "Received notification from DBMS server: {severity: WARNING} {code: Neo.ClientNotification.Statement.AggregationSkippedNull} {category: UNRECOGNIZED} {title: The query contains an aggregation function that skips null values.} {description: null value eliminated in set function.} {position: None} for query: \"\\n        CALL db.index.vector.queryNodes('precedent_embedding', $limit * 2, $embedding)\\n        YIELD node AS precedent, score AS vector_score\\n        OPTIONAL MATCH (precedent)-[:HAS_KEYWORD]->(k:Keyword)\\n        WHERE k.text IN $keywords\\n        WITH precedent, vector_score, collect(DISTINCT k.text) AS keywords\\n        WITH precedent, vector_score + (size(keywords) * 0.1) AS final_score, keywords\\n        OPTIONAL MATCH (precedent)-[:REFERENCES_ARTICLE]->(ref_a:Article)\\n        WITH precedent, final_score, keywords, collect(DISTINCT ref_a.id) AS referenced_articles\\n        RETURN\\n            precedent.id AS id,\\n            'Precedent' AS type,\\n            precedent.name AS name,\\n            coalesce(precedent.full_summary, precedent.judgment_summary) AS text,\\n            final_score AS score,\\n            keywords,\\n            referenced_articles\\n        ORDER BY final_score DESC\\n        LIMIT $limit\\n        \"\n"
     ]
    },
    {
     "name": "stdout",
     "output_type": "stream",
     "text": [
      "Context retrieval took 0.58 seconds.\n"
     ]
    },
    {
     "name": "stderr",
     "output_type": "stream",
     "text": [
      "Received notification from DBMS server: {severity: WARNING} {code: Neo.ClientNotification.Statement.AggregationSkippedNull} {category: UNRECOGNIZED} {title: The query contains an aggregation function that skips null values.} {description: null value eliminated in set function.} {position: None} for query: \"\\n        CALL db.index.vector.queryNodes('article_embedding', $limit * 2, $embedding)\\n        YIELD node AS article, score AS vector_score\\n        OPTIONAL MATCH (p:Precedent)-[:REFERENCES_ARTICLE]->(article)\\n        WITH article, vector_score, count(p) AS precedent_count\\n        WITH article, vector_score + (precedent_count * 0.05) AS final_score, precedent_count\\n        RETURN\\n            article.id AS id,\\n            'Article' AS type,\\n            article.text AS text,\\n            final_score AS score,\\n            precedent_count\\n        ORDER BY final_score DESC\\n        LIMIT $limit\\n        \"\n",
      "Received notification from DBMS server: {severity: WARNING} {code: Neo.ClientNotification.Statement.UnknownRelationshipTypeWarning} {category: UNRECOGNIZED} {title: The provided relationship type is not in the database.} {description: One of the relationship types in your query is not available in the database, make sure you didn't misspell it or that the label is available when you run this statement in your application (the missing relationship type is: HAS_KEYWORD)} {position: line: 4, column: 38, offset: 180} for query: \"\\n        CALL db.index.vector.queryNodes('precedent_embedding', $limit * 2, $embedding)\\n        YIELD node AS precedent, score AS vector_score\\n        OPTIONAL MATCH (precedent)-[:HAS_KEYWORD]->(k:Keyword)\\n        WHERE k.text IN $keywords\\n        WITH precedent, vector_score, collect(DISTINCT k.text) AS keywords\\n        WITH precedent, vector_score + (size(keywords) * 0.1) AS final_score, keywords\\n        OPTIONAL MATCH (precedent)-[:REFERENCES_ARTICLE]->(ref_a:Article)\\n        WITH precedent, final_score, keywords, collect(DISTINCT ref_a.id) AS referenced_articles\\n        RETURN\\n            precedent.id AS id,\\n            'Precedent' AS type,\\n            precedent.name AS name,\\n            coalesce(precedent.full_summary, precedent.judgment_summary) AS text,\\n            final_score AS score,\\n            keywords,\\n            referenced_articles\\n        ORDER BY final_score DESC\\n        LIMIT $limit\\n        \"\n",
      "Received notification from DBMS server: {severity: WARNING} {code: Neo.ClientNotification.Statement.AggregationSkippedNull} {category: UNRECOGNIZED} {title: The query contains an aggregation function that skips null values.} {description: null value eliminated in set function.} {position: None} for query: \"\\n        CALL db.index.vector.queryNodes('precedent_embedding', $limit * 2, $embedding)\\n        YIELD node AS precedent, score AS vector_score\\n        OPTIONAL MATCH (precedent)-[:HAS_KEYWORD]->(k:Keyword)\\n        WHERE k.text IN $keywords\\n        WITH precedent, vector_score, collect(DISTINCT k.text) AS keywords\\n        WITH precedent, vector_score + (size(keywords) * 0.1) AS final_score, keywords\\n        OPTIONAL MATCH (precedent)-[:REFERENCES_ARTICLE]->(ref_a:Article)\\n        WITH precedent, final_score, keywords, collect(DISTINCT ref_a.id) AS referenced_articles\\n        RETURN\\n            precedent.id AS id,\\n            'Precedent' AS type,\\n            precedent.name AS name,\\n            coalesce(precedent.full_summary, precedent.judgment_summary) AS text,\\n            final_score AS score,\\n            keywords,\\n            referenced_articles\\n        ORDER BY final_score DESC\\n        LIMIT $limit\\n        \"\n"
     ]
    },
    {
     "name": "stdout",
     "output_type": "stream",
     "text": [
      "Context retrieval took 0.64 seconds.\n"
     ]
    },
    {
     "name": "stderr",
     "output_type": "stream",
     "text": [
      "Received notification from DBMS server: {severity: WARNING} {code: Neo.ClientNotification.Statement.UnknownRelationshipTypeWarning} {category: UNRECOGNIZED} {title: The provided relationship type is not in the database.} {description: One of the relationship types in your query is not available in the database, make sure you didn't misspell it or that the label is available when you run this statement in your application (the missing relationship type is: HAS_KEYWORD)} {position: line: 4, column: 38, offset: 180} for query: \"\\n        CALL db.index.vector.queryNodes('precedent_embedding', $limit * 2, $embedding)\\n        YIELD node AS precedent, score AS vector_score\\n        OPTIONAL MATCH (precedent)-[:HAS_KEYWORD]->(k:Keyword)\\n        WHERE k.text IN $keywords\\n        WITH precedent, vector_score, collect(DISTINCT k.text) AS keywords\\n        WITH precedent, vector_score + (size(keywords) * 0.1) AS final_score, keywords\\n        OPTIONAL MATCH (precedent)-[:REFERENCES_ARTICLE]->(ref_a:Article)\\n        WITH precedent, final_score, keywords, collect(DISTINCT ref_a.id) AS referenced_articles\\n        RETURN\\n            precedent.id AS id,\\n            'Precedent' AS type,\\n            precedent.name AS name,\\n            coalesce(precedent.full_summary, precedent.judgment_summary) AS text,\\n            final_score AS score,\\n            keywords,\\n            referenced_articles\\n        ORDER BY final_score DESC\\n        LIMIT $limit\\n        \"\n",
      "Received notification from DBMS server: {severity: WARNING} {code: Neo.ClientNotification.Statement.AggregationSkippedNull} {category: UNRECOGNIZED} {title: The query contains an aggregation function that skips null values.} {description: null value eliminated in set function.} {position: None} for query: \"\\n        CALL db.index.vector.queryNodes('precedent_embedding', $limit * 2, $embedding)\\n        YIELD node AS precedent, score AS vector_score\\n        OPTIONAL MATCH (precedent)-[:HAS_KEYWORD]->(k:Keyword)\\n        WHERE k.text IN $keywords\\n        WITH precedent, vector_score, collect(DISTINCT k.text) AS keywords\\n        WITH precedent, vector_score + (size(keywords) * 0.1) AS final_score, keywords\\n        OPTIONAL MATCH (precedent)-[:REFERENCES_ARTICLE]->(ref_a:Article)\\n        WITH precedent, final_score, keywords, collect(DISTINCT ref_a.id) AS referenced_articles\\n        RETURN\\n            precedent.id AS id,\\n            'Precedent' AS type,\\n            precedent.name AS name,\\n            coalesce(precedent.full_summary, precedent.judgment_summary) AS text,\\n            final_score AS score,\\n            keywords,\\n            referenced_articles\\n        ORDER BY final_score DESC\\n        LIMIT $limit\\n        \"\n"
     ]
    },
    {
     "name": "stdout",
     "output_type": "stream",
     "text": [
      "Context retrieval took 0.68 seconds.\n"
     ]
    },
    {
     "name": "stderr",
     "output_type": "stream",
     "text": [
      "Received notification from DBMS server: {severity: WARNING} {code: Neo.ClientNotification.Statement.AggregationSkippedNull} {category: UNRECOGNIZED} {title: The query contains an aggregation function that skips null values.} {description: null value eliminated in set function.} {position: None} for query: \"\\n        CALL db.index.vector.queryNodes('article_embedding', $limit * 2, $embedding)\\n        YIELD node AS article, score AS vector_score\\n        OPTIONAL MATCH (p:Precedent)-[:REFERENCES_ARTICLE]->(article)\\n        WITH article, vector_score, count(p) AS precedent_count\\n        WITH article, vector_score + (precedent_count * 0.05) AS final_score, precedent_count\\n        RETURN\\n            article.id AS id,\\n            'Article' AS type,\\n            article.text AS text,\\n            final_score AS score,\\n            precedent_count\\n        ORDER BY final_score DESC\\n        LIMIT $limit\\n        \"\n",
      "Received notification from DBMS server: {severity: WARNING} {code: Neo.ClientNotification.Statement.UnknownRelationshipTypeWarning} {category: UNRECOGNIZED} {title: The provided relationship type is not in the database.} {description: One of the relationship types in your query is not available in the database, make sure you didn't misspell it or that the label is available when you run this statement in your application (the missing relationship type is: HAS_KEYWORD)} {position: line: 4, column: 38, offset: 180} for query: \"\\n        CALL db.index.vector.queryNodes('precedent_embedding', $limit * 2, $embedding)\\n        YIELD node AS precedent, score AS vector_score\\n        OPTIONAL MATCH (precedent)-[:HAS_KEYWORD]->(k:Keyword)\\n        WHERE k.text IN $keywords\\n        WITH precedent, vector_score, collect(DISTINCT k.text) AS keywords\\n        WITH precedent, vector_score + (size(keywords) * 0.1) AS final_score, keywords\\n        OPTIONAL MATCH (precedent)-[:REFERENCES_ARTICLE]->(ref_a:Article)\\n        WITH precedent, final_score, keywords, collect(DISTINCT ref_a.id) AS referenced_articles\\n        RETURN\\n            precedent.id AS id,\\n            'Precedent' AS type,\\n            precedent.name AS name,\\n            coalesce(precedent.full_summary, precedent.judgment_summary) AS text,\\n            final_score AS score,\\n            keywords,\\n            referenced_articles\\n        ORDER BY final_score DESC\\n        LIMIT $limit\\n        \"\n",
      "Received notification from DBMS server: {severity: WARNING} {code: Neo.ClientNotification.Statement.AggregationSkippedNull} {category: UNRECOGNIZED} {title: The query contains an aggregation function that skips null values.} {description: null value eliminated in set function.} {position: None} for query: \"\\n        CALL db.index.vector.queryNodes('precedent_embedding', $limit * 2, $embedding)\\n        YIELD node AS precedent, score AS vector_score\\n        OPTIONAL MATCH (precedent)-[:HAS_KEYWORD]->(k:Keyword)\\n        WHERE k.text IN $keywords\\n        WITH precedent, vector_score, collect(DISTINCT k.text) AS keywords\\n        WITH precedent, vector_score + (size(keywords) * 0.1) AS final_score, keywords\\n        OPTIONAL MATCH (precedent)-[:REFERENCES_ARTICLE]->(ref_a:Article)\\n        WITH precedent, final_score, keywords, collect(DISTINCT ref_a.id) AS referenced_articles\\n        RETURN\\n            precedent.id AS id,\\n            'Precedent' AS type,\\n            precedent.name AS name,\\n            coalesce(precedent.full_summary, precedent.judgment_summary) AS text,\\n            final_score AS score,\\n            keywords,\\n            referenced_articles\\n        ORDER BY final_score DESC\\n        LIMIT $limit\\n        \"\n"
     ]
    },
    {
     "name": "stdout",
     "output_type": "stream",
     "text": [
      "Context retrieval took 0.55 seconds.\n"
     ]
    },
    {
     "name": "stderr",
     "output_type": "stream",
     "text": [
      "Received notification from DBMS server: {severity: WARNING} {code: Neo.ClientNotification.Statement.AggregationSkippedNull} {category: UNRECOGNIZED} {title: The query contains an aggregation function that skips null values.} {description: null value eliminated in set function.} {position: None} for query: \"\\n        CALL db.index.vector.queryNodes('article_embedding', $limit * 2, $embedding)\\n        YIELD node AS article, score AS vector_score\\n        OPTIONAL MATCH (p:Precedent)-[:REFERENCES_ARTICLE]->(article)\\n        WITH article, vector_score, count(p) AS precedent_count\\n        WITH article, vector_score + (precedent_count * 0.05) AS final_score, precedent_count\\n        RETURN\\n            article.id AS id,\\n            'Article' AS type,\\n            article.text AS text,\\n            final_score AS score,\\n            precedent_count\\n        ORDER BY final_score DESC\\n        LIMIT $limit\\n        \"\n",
      "Received notification from DBMS server: {severity: WARNING} {code: Neo.ClientNotification.Statement.UnknownRelationshipTypeWarning} {category: UNRECOGNIZED} {title: The provided relationship type is not in the database.} {description: One of the relationship types in your query is not available in the database, make sure you didn't misspell it or that the label is available when you run this statement in your application (the missing relationship type is: HAS_KEYWORD)} {position: line: 4, column: 38, offset: 180} for query: \"\\n        CALL db.index.vector.queryNodes('precedent_embedding', $limit * 2, $embedding)\\n        YIELD node AS precedent, score AS vector_score\\n        OPTIONAL MATCH (precedent)-[:HAS_KEYWORD]->(k:Keyword)\\n        WHERE k.text IN $keywords\\n        WITH precedent, vector_score, collect(DISTINCT k.text) AS keywords\\n        WITH precedent, vector_score + (size(keywords) * 0.1) AS final_score, keywords\\n        OPTIONAL MATCH (precedent)-[:REFERENCES_ARTICLE]->(ref_a:Article)\\n        WITH precedent, final_score, keywords, collect(DISTINCT ref_a.id) AS referenced_articles\\n        RETURN\\n            precedent.id AS id,\\n            'Precedent' AS type,\\n            precedent.name AS name,\\n            coalesce(precedent.full_summary, precedent.judgment_summary) AS text,\\n            final_score AS score,\\n            keywords,\\n            referenced_articles\\n        ORDER BY final_score DESC\\n        LIMIT $limit\\n        \"\n",
      "Received notification from DBMS server: {severity: WARNING} {code: Neo.ClientNotification.Statement.AggregationSkippedNull} {category: UNRECOGNIZED} {title: The query contains an aggregation function that skips null values.} {description: null value eliminated in set function.} {position: None} for query: \"\\n        CALL db.index.vector.queryNodes('precedent_embedding', $limit * 2, $embedding)\\n        YIELD node AS precedent, score AS vector_score\\n        OPTIONAL MATCH (precedent)-[:HAS_KEYWORD]->(k:Keyword)\\n        WHERE k.text IN $keywords\\n        WITH precedent, vector_score, collect(DISTINCT k.text) AS keywords\\n        WITH precedent, vector_score + (size(keywords) * 0.1) AS final_score, keywords\\n        OPTIONAL MATCH (precedent)-[:REFERENCES_ARTICLE]->(ref_a:Article)\\n        WITH precedent, final_score, keywords, collect(DISTINCT ref_a.id) AS referenced_articles\\n        RETURN\\n            precedent.id AS id,\\n            'Precedent' AS type,\\n            precedent.name AS name,\\n            coalesce(precedent.full_summary, precedent.judgment_summary) AS text,\\n            final_score AS score,\\n            keywords,\\n            referenced_articles\\n        ORDER BY final_score DESC\\n        LIMIT $limit\\n        \"\n"
     ]
    },
    {
     "name": "stdout",
     "output_type": "stream",
     "text": [
      "Context retrieval took 0.90 seconds.\n"
     ]
    },
    {
     "name": "stderr",
     "output_type": "stream",
     "text": [
      "Received notification from DBMS server: {severity: WARNING} {code: Neo.ClientNotification.Statement.AggregationSkippedNull} {category: UNRECOGNIZED} {title: The query contains an aggregation function that skips null values.} {description: null value eliminated in set function.} {position: None} for query: \"\\n        CALL db.index.vector.queryNodes('article_embedding', $limit * 2, $embedding)\\n        YIELD node AS article, score AS vector_score\\n        OPTIONAL MATCH (p:Precedent)-[:REFERENCES_ARTICLE]->(article)\\n        WITH article, vector_score, count(p) AS precedent_count\\n        WITH article, vector_score + (precedent_count * 0.05) AS final_score, precedent_count\\n        RETURN\\n            article.id AS id,\\n            'Article' AS type,\\n            article.text AS text,\\n            final_score AS score,\\n            precedent_count\\n        ORDER BY final_score DESC\\n        LIMIT $limit\\n        \"\n",
      "Received notification from DBMS server: {severity: WARNING} {code: Neo.ClientNotification.Statement.UnknownRelationshipTypeWarning} {category: UNRECOGNIZED} {title: The provided relationship type is not in the database.} {description: One of the relationship types in your query is not available in the database, make sure you didn't misspell it or that the label is available when you run this statement in your application (the missing relationship type is: HAS_KEYWORD)} {position: line: 4, column: 38, offset: 180} for query: \"\\n        CALL db.index.vector.queryNodes('precedent_embedding', $limit * 2, $embedding)\\n        YIELD node AS precedent, score AS vector_score\\n        OPTIONAL MATCH (precedent)-[:HAS_KEYWORD]->(k:Keyword)\\n        WHERE k.text IN $keywords\\n        WITH precedent, vector_score, collect(DISTINCT k.text) AS keywords\\n        WITH precedent, vector_score + (size(keywords) * 0.1) AS final_score, keywords\\n        OPTIONAL MATCH (precedent)-[:REFERENCES_ARTICLE]->(ref_a:Article)\\n        WITH precedent, final_score, keywords, collect(DISTINCT ref_a.id) AS referenced_articles\\n        RETURN\\n            precedent.id AS id,\\n            'Precedent' AS type,\\n            precedent.name AS name,\\n            coalesce(precedent.full_summary, precedent.judgment_summary) AS text,\\n            final_score AS score,\\n            keywords,\\n            referenced_articles\\n        ORDER BY final_score DESC\\n        LIMIT $limit\\n        \"\n",
      "Received notification from DBMS server: {severity: WARNING} {code: Neo.ClientNotification.Statement.AggregationSkippedNull} {category: UNRECOGNIZED} {title: The query contains an aggregation function that skips null values.} {description: null value eliminated in set function.} {position: None} for query: \"\\n        CALL db.index.vector.queryNodes('precedent_embedding', $limit * 2, $embedding)\\n        YIELD node AS precedent, score AS vector_score\\n        OPTIONAL MATCH (precedent)-[:HAS_KEYWORD]->(k:Keyword)\\n        WHERE k.text IN $keywords\\n        WITH precedent, vector_score, collect(DISTINCT k.text) AS keywords\\n        WITH precedent, vector_score + (size(keywords) * 0.1) AS final_score, keywords\\n        OPTIONAL MATCH (precedent)-[:REFERENCES_ARTICLE]->(ref_a:Article)\\n        WITH precedent, final_score, keywords, collect(DISTINCT ref_a.id) AS referenced_articles\\n        RETURN\\n            precedent.id AS id,\\n            'Precedent' AS type,\\n            precedent.name AS name,\\n            coalesce(precedent.full_summary, precedent.judgment_summary) AS text,\\n            final_score AS score,\\n            keywords,\\n            referenced_articles\\n        ORDER BY final_score DESC\\n        LIMIT $limit\\n        \"\n"
     ]
    },
    {
     "name": "stdout",
     "output_type": "stream",
     "text": [
      "Context retrieval took 0.65 seconds.\n"
     ]
    },
    {
     "name": "stderr",
     "output_type": "stream",
     "text": [
      "Received notification from DBMS server: {severity: WARNING} {code: Neo.ClientNotification.Statement.AggregationSkippedNull} {category: UNRECOGNIZED} {title: The query contains an aggregation function that skips null values.} {description: null value eliminated in set function.} {position: None} for query: \"\\n        CALL db.index.vector.queryNodes('article_embedding', $limit * 2, $embedding)\\n        YIELD node AS article, score AS vector_score\\n        OPTIONAL MATCH (p:Precedent)-[:REFERENCES_ARTICLE]->(article)\\n        WITH article, vector_score, count(p) AS precedent_count\\n        WITH article, vector_score + (precedent_count * 0.05) AS final_score, precedent_count\\n        RETURN\\n            article.id AS id,\\n            'Article' AS type,\\n            article.text AS text,\\n            final_score AS score,\\n            precedent_count\\n        ORDER BY final_score DESC\\n        LIMIT $limit\\n        \"\n",
      "Received notification from DBMS server: {severity: WARNING} {code: Neo.ClientNotification.Statement.UnknownRelationshipTypeWarning} {category: UNRECOGNIZED} {title: The provided relationship type is not in the database.} {description: One of the relationship types in your query is not available in the database, make sure you didn't misspell it or that the label is available when you run this statement in your application (the missing relationship type is: HAS_KEYWORD)} {position: line: 4, column: 38, offset: 180} for query: \"\\n        CALL db.index.vector.queryNodes('precedent_embedding', $limit * 2, $embedding)\\n        YIELD node AS precedent, score AS vector_score\\n        OPTIONAL MATCH (precedent)-[:HAS_KEYWORD]->(k:Keyword)\\n        WHERE k.text IN $keywords\\n        WITH precedent, vector_score, collect(DISTINCT k.text) AS keywords\\n        WITH precedent, vector_score + (size(keywords) * 0.1) AS final_score, keywords\\n        OPTIONAL MATCH (precedent)-[:REFERENCES_ARTICLE]->(ref_a:Article)\\n        WITH precedent, final_score, keywords, collect(DISTINCT ref_a.id) AS referenced_articles\\n        RETURN\\n            precedent.id AS id,\\n            'Precedent' AS type,\\n            precedent.name AS name,\\n            coalesce(precedent.full_summary, precedent.judgment_summary) AS text,\\n            final_score AS score,\\n            keywords,\\n            referenced_articles\\n        ORDER BY final_score DESC\\n        LIMIT $limit\\n        \"\n",
      "Received notification from DBMS server: {severity: WARNING} {code: Neo.ClientNotification.Statement.AggregationSkippedNull} {category: UNRECOGNIZED} {title: The query contains an aggregation function that skips null values.} {description: null value eliminated in set function.} {position: None} for query: \"\\n        CALL db.index.vector.queryNodes('precedent_embedding', $limit * 2, $embedding)\\n        YIELD node AS precedent, score AS vector_score\\n        OPTIONAL MATCH (precedent)-[:HAS_KEYWORD]->(k:Keyword)\\n        WHERE k.text IN $keywords\\n        WITH precedent, vector_score, collect(DISTINCT k.text) AS keywords\\n        WITH precedent, vector_score + (size(keywords) * 0.1) AS final_score, keywords\\n        OPTIONAL MATCH (precedent)-[:REFERENCES_ARTICLE]->(ref_a:Article)\\n        WITH precedent, final_score, keywords, collect(DISTINCT ref_a.id) AS referenced_articles\\n        RETURN\\n            precedent.id AS id,\\n            'Precedent' AS type,\\n            precedent.name AS name,\\n            coalesce(precedent.full_summary, precedent.judgment_summary) AS text,\\n            final_score AS score,\\n            keywords,\\n            referenced_articles\\n        ORDER BY final_score DESC\\n        LIMIT $limit\\n        \"\n"
     ]
    },
    {
     "name": "stdout",
     "output_type": "stream",
     "text": [
      "Context retrieval took 1.03 seconds.\n"
     ]
    },
    {
     "name": "stderr",
     "output_type": "stream",
     "text": [
      "Received notification from DBMS server: {severity: WARNING} {code: Neo.ClientNotification.Statement.UnknownRelationshipTypeWarning} {category: UNRECOGNIZED} {title: The provided relationship type is not in the database.} {description: One of the relationship types in your query is not available in the database, make sure you didn't misspell it or that the label is available when you run this statement in your application (the missing relationship type is: HAS_KEYWORD)} {position: line: 4, column: 38, offset: 180} for query: \"\\n        CALL db.index.vector.queryNodes('precedent_embedding', $limit * 2, $embedding)\\n        YIELD node AS precedent, score AS vector_score\\n        OPTIONAL MATCH (precedent)-[:HAS_KEYWORD]->(k:Keyword)\\n        WHERE k.text IN $keywords\\n        WITH precedent, vector_score, collect(DISTINCT k.text) AS keywords\\n        WITH precedent, vector_score + (size(keywords) * 0.1) AS final_score, keywords\\n        OPTIONAL MATCH (precedent)-[:REFERENCES_ARTICLE]->(ref_a:Article)\\n        WITH precedent, final_score, keywords, collect(DISTINCT ref_a.id) AS referenced_articles\\n        RETURN\\n            precedent.id AS id,\\n            'Precedent' AS type,\\n            precedent.name AS name,\\n            coalesce(precedent.full_summary, precedent.judgment_summary) AS text,\\n            final_score AS score,\\n            keywords,\\n            referenced_articles\\n        ORDER BY final_score DESC\\n        LIMIT $limit\\n        \"\n",
      "Received notification from DBMS server: {severity: WARNING} {code: Neo.ClientNotification.Statement.AggregationSkippedNull} {category: UNRECOGNIZED} {title: The query contains an aggregation function that skips null values.} {description: null value eliminated in set function.} {position: None} for query: \"\\n        CALL db.index.vector.queryNodes('precedent_embedding', $limit * 2, $embedding)\\n        YIELD node AS precedent, score AS vector_score\\n        OPTIONAL MATCH (precedent)-[:HAS_KEYWORD]->(k:Keyword)\\n        WHERE k.text IN $keywords\\n        WITH precedent, vector_score, collect(DISTINCT k.text) AS keywords\\n        WITH precedent, vector_score + (size(keywords) * 0.1) AS final_score, keywords\\n        OPTIONAL MATCH (precedent)-[:REFERENCES_ARTICLE]->(ref_a:Article)\\n        WITH precedent, final_score, keywords, collect(DISTINCT ref_a.id) AS referenced_articles\\n        RETURN\\n            precedent.id AS id,\\n            'Precedent' AS type,\\n            precedent.name AS name,\\n            coalesce(precedent.full_summary, precedent.judgment_summary) AS text,\\n            final_score AS score,\\n            keywords,\\n            referenced_articles\\n        ORDER BY final_score DESC\\n        LIMIT $limit\\n        \"\n"
     ]
    },
    {
     "name": "stdout",
     "output_type": "stream",
     "text": [
      "Context retrieval took 0.92 seconds.\n"
     ]
    },
    {
     "name": "stderr",
     "output_type": "stream",
     "text": [
      "Received notification from DBMS server: {severity: WARNING} {code: Neo.ClientNotification.Statement.AggregationSkippedNull} {category: UNRECOGNIZED} {title: The query contains an aggregation function that skips null values.} {description: null value eliminated in set function.} {position: None} for query: \"\\n        CALL db.index.vector.queryNodes('article_embedding', $limit * 2, $embedding)\\n        YIELD node AS article, score AS vector_score\\n        OPTIONAL MATCH (p:Precedent)-[:REFERENCES_ARTICLE]->(article)\\n        WITH article, vector_score, count(p) AS precedent_count\\n        WITH article, vector_score + (precedent_count * 0.05) AS final_score, precedent_count\\n        RETURN\\n            article.id AS id,\\n            'Article' AS type,\\n            article.text AS text,\\n            final_score AS score,\\n            precedent_count\\n        ORDER BY final_score DESC\\n        LIMIT $limit\\n        \"\n",
      "Received notification from DBMS server: {severity: WARNING} {code: Neo.ClientNotification.Statement.UnknownRelationshipTypeWarning} {category: UNRECOGNIZED} {title: The provided relationship type is not in the database.} {description: One of the relationship types in your query is not available in the database, make sure you didn't misspell it or that the label is available when you run this statement in your application (the missing relationship type is: HAS_KEYWORD)} {position: line: 4, column: 38, offset: 180} for query: \"\\n        CALL db.index.vector.queryNodes('precedent_embedding', $limit * 2, $embedding)\\n        YIELD node AS precedent, score AS vector_score\\n        OPTIONAL MATCH (precedent)-[:HAS_KEYWORD]->(k:Keyword)\\n        WHERE k.text IN $keywords\\n        WITH precedent, vector_score, collect(DISTINCT k.text) AS keywords\\n        WITH precedent, vector_score + (size(keywords) * 0.1) AS final_score, keywords\\n        OPTIONAL MATCH (precedent)-[:REFERENCES_ARTICLE]->(ref_a:Article)\\n        WITH precedent, final_score, keywords, collect(DISTINCT ref_a.id) AS referenced_articles\\n        RETURN\\n            precedent.id AS id,\\n            'Precedent' AS type,\\n            precedent.name AS name,\\n            coalesce(precedent.full_summary, precedent.judgment_summary) AS text,\\n            final_score AS score,\\n            keywords,\\n            referenced_articles\\n        ORDER BY final_score DESC\\n        LIMIT $limit\\n        \"\n",
      "Received notification from DBMS server: {severity: WARNING} {code: Neo.ClientNotification.Statement.AggregationSkippedNull} {category: UNRECOGNIZED} {title: The query contains an aggregation function that skips null values.} {description: null value eliminated in set function.} {position: None} for query: \"\\n        CALL db.index.vector.queryNodes('precedent_embedding', $limit * 2, $embedding)\\n        YIELD node AS precedent, score AS vector_score\\n        OPTIONAL MATCH (precedent)-[:HAS_KEYWORD]->(k:Keyword)\\n        WHERE k.text IN $keywords\\n        WITH precedent, vector_score, collect(DISTINCT k.text) AS keywords\\n        WITH precedent, vector_score + (size(keywords) * 0.1) AS final_score, keywords\\n        OPTIONAL MATCH (precedent)-[:REFERENCES_ARTICLE]->(ref_a:Article)\\n        WITH precedent, final_score, keywords, collect(DISTINCT ref_a.id) AS referenced_articles\\n        RETURN\\n            precedent.id AS id,\\n            'Precedent' AS type,\\n            precedent.name AS name,\\n            coalesce(precedent.full_summary, precedent.judgment_summary) AS text,\\n            final_score AS score,\\n            keywords,\\n            referenced_articles\\n        ORDER BY final_score DESC\\n        LIMIT $limit\\n        \"\n"
     ]
    },
    {
     "name": "stdout",
     "output_type": "stream",
     "text": [
      "Context retrieval took 0.61 seconds.\n"
     ]
    },
    {
     "name": "stderr",
     "output_type": "stream",
     "text": [
      "Received notification from DBMS server: {severity: WARNING} {code: Neo.ClientNotification.Statement.AggregationSkippedNull} {category: UNRECOGNIZED} {title: The query contains an aggregation function that skips null values.} {description: null value eliminated in set function.} {position: None} for query: \"\\n        CALL db.index.vector.queryNodes('article_embedding', $limit * 2, $embedding)\\n        YIELD node AS article, score AS vector_score\\n        OPTIONAL MATCH (p:Precedent)-[:REFERENCES_ARTICLE]->(article)\\n        WITH article, vector_score, count(p) AS precedent_count\\n        WITH article, vector_score + (precedent_count * 0.05) AS final_score, precedent_count\\n        RETURN\\n            article.id AS id,\\n            'Article' AS type,\\n            article.text AS text,\\n            final_score AS score,\\n            precedent_count\\n        ORDER BY final_score DESC\\n        LIMIT $limit\\n        \"\n",
      "Received notification from DBMS server: {severity: WARNING} {code: Neo.ClientNotification.Statement.UnknownRelationshipTypeWarning} {category: UNRECOGNIZED} {title: The provided relationship type is not in the database.} {description: One of the relationship types in your query is not available in the database, make sure you didn't misspell it or that the label is available when you run this statement in your application (the missing relationship type is: HAS_KEYWORD)} {position: line: 4, column: 38, offset: 180} for query: \"\\n        CALL db.index.vector.queryNodes('precedent_embedding', $limit * 2, $embedding)\\n        YIELD node AS precedent, score AS vector_score\\n        OPTIONAL MATCH (precedent)-[:HAS_KEYWORD]->(k:Keyword)\\n        WHERE k.text IN $keywords\\n        WITH precedent, vector_score, collect(DISTINCT k.text) AS keywords\\n        WITH precedent, vector_score + (size(keywords) * 0.1) AS final_score, keywords\\n        OPTIONAL MATCH (precedent)-[:REFERENCES_ARTICLE]->(ref_a:Article)\\n        WITH precedent, final_score, keywords, collect(DISTINCT ref_a.id) AS referenced_articles\\n        RETURN\\n            precedent.id AS id,\\n            'Precedent' AS type,\\n            precedent.name AS name,\\n            coalesce(precedent.full_summary, precedent.judgment_summary) AS text,\\n            final_score AS score,\\n            keywords,\\n            referenced_articles\\n        ORDER BY final_score DESC\\n        LIMIT $limit\\n        \"\n",
      "Received notification from DBMS server: {severity: WARNING} {code: Neo.ClientNotification.Statement.AggregationSkippedNull} {category: UNRECOGNIZED} {title: The query contains an aggregation function that skips null values.} {description: null value eliminated in set function.} {position: None} for query: \"\\n        CALL db.index.vector.queryNodes('precedent_embedding', $limit * 2, $embedding)\\n        YIELD node AS precedent, score AS vector_score\\n        OPTIONAL MATCH (precedent)-[:HAS_KEYWORD]->(k:Keyword)\\n        WHERE k.text IN $keywords\\n        WITH precedent, vector_score, collect(DISTINCT k.text) AS keywords\\n        WITH precedent, vector_score + (size(keywords) * 0.1) AS final_score, keywords\\n        OPTIONAL MATCH (precedent)-[:REFERENCES_ARTICLE]->(ref_a:Article)\\n        WITH precedent, final_score, keywords, collect(DISTINCT ref_a.id) AS referenced_articles\\n        RETURN\\n            precedent.id AS id,\\n            'Precedent' AS type,\\n            precedent.name AS name,\\n            coalesce(precedent.full_summary, precedent.judgment_summary) AS text,\\n            final_score AS score,\\n            keywords,\\n            referenced_articles\\n        ORDER BY final_score DESC\\n        LIMIT $limit\\n        \"\n"
     ]
    },
    {
     "name": "stdout",
     "output_type": "stream",
     "text": [
      "Context retrieval took 0.57 seconds.\n"
     ]
    },
    {
     "name": "stderr",
     "output_type": "stream",
     "text": [
      "Received notification from DBMS server: {severity: WARNING} {code: Neo.ClientNotification.Statement.AggregationSkippedNull} {category: UNRECOGNIZED} {title: The query contains an aggregation function that skips null values.} {description: null value eliminated in set function.} {position: None} for query: \"\\n        CALL db.index.vector.queryNodes('article_embedding', $limit * 2, $embedding)\\n        YIELD node AS article, score AS vector_score\\n        OPTIONAL MATCH (p:Precedent)-[:REFERENCES_ARTICLE]->(article)\\n        WITH article, vector_score, count(p) AS precedent_count\\n        WITH article, vector_score + (precedent_count * 0.05) AS final_score, precedent_count\\n        RETURN\\n            article.id AS id,\\n            'Article' AS type,\\n            article.text AS text,\\n            final_score AS score,\\n            precedent_count\\n        ORDER BY final_score DESC\\n        LIMIT $limit\\n        \"\n",
      "Received notification from DBMS server: {severity: WARNING} {code: Neo.ClientNotification.Statement.UnknownRelationshipTypeWarning} {category: UNRECOGNIZED} {title: The provided relationship type is not in the database.} {description: One of the relationship types in your query is not available in the database, make sure you didn't misspell it or that the label is available when you run this statement in your application (the missing relationship type is: HAS_KEYWORD)} {position: line: 4, column: 38, offset: 180} for query: \"\\n        CALL db.index.vector.queryNodes('precedent_embedding', $limit * 2, $embedding)\\n        YIELD node AS precedent, score AS vector_score\\n        OPTIONAL MATCH (precedent)-[:HAS_KEYWORD]->(k:Keyword)\\n        WHERE k.text IN $keywords\\n        WITH precedent, vector_score, collect(DISTINCT k.text) AS keywords\\n        WITH precedent, vector_score + (size(keywords) * 0.1) AS final_score, keywords\\n        OPTIONAL MATCH (precedent)-[:REFERENCES_ARTICLE]->(ref_a:Article)\\n        WITH precedent, final_score, keywords, collect(DISTINCT ref_a.id) AS referenced_articles\\n        RETURN\\n            precedent.id AS id,\\n            'Precedent' AS type,\\n            precedent.name AS name,\\n            coalesce(precedent.full_summary, precedent.judgment_summary) AS text,\\n            final_score AS score,\\n            keywords,\\n            referenced_articles\\n        ORDER BY final_score DESC\\n        LIMIT $limit\\n        \"\n",
      "Received notification from DBMS server: {severity: WARNING} {code: Neo.ClientNotification.Statement.AggregationSkippedNull} {category: UNRECOGNIZED} {title: The query contains an aggregation function that skips null values.} {description: null value eliminated in set function.} {position: None} for query: \"\\n        CALL db.index.vector.queryNodes('precedent_embedding', $limit * 2, $embedding)\\n        YIELD node AS precedent, score AS vector_score\\n        OPTIONAL MATCH (precedent)-[:HAS_KEYWORD]->(k:Keyword)\\n        WHERE k.text IN $keywords\\n        WITH precedent, vector_score, collect(DISTINCT k.text) AS keywords\\n        WITH precedent, vector_score + (size(keywords) * 0.1) AS final_score, keywords\\n        OPTIONAL MATCH (precedent)-[:REFERENCES_ARTICLE]->(ref_a:Article)\\n        WITH precedent, final_score, keywords, collect(DISTINCT ref_a.id) AS referenced_articles\\n        RETURN\\n            precedent.id AS id,\\n            'Precedent' AS type,\\n            precedent.name AS name,\\n            coalesce(precedent.full_summary, precedent.judgment_summary) AS text,\\n            final_score AS score,\\n            keywords,\\n            referenced_articles\\n        ORDER BY final_score DESC\\n        LIMIT $limit\\n        \"\n"
     ]
    },
    {
     "name": "stdout",
     "output_type": "stream",
     "text": [
      "Context retrieval took 0.62 seconds.\n"
     ]
    },
    {
     "name": "stderr",
     "output_type": "stream",
     "text": [
      "Received notification from DBMS server: {severity: WARNING} {code: Neo.ClientNotification.Statement.AggregationSkippedNull} {category: UNRECOGNIZED} {title: The query contains an aggregation function that skips null values.} {description: null value eliminated in set function.} {position: None} for query: \"\\n        CALL db.index.vector.queryNodes('article_embedding', $limit * 2, $embedding)\\n        YIELD node AS article, score AS vector_score\\n        OPTIONAL MATCH (p:Precedent)-[:REFERENCES_ARTICLE]->(article)\\n        WITH article, vector_score, count(p) AS precedent_count\\n        WITH article, vector_score + (precedent_count * 0.05) AS final_score, precedent_count\\n        RETURN\\n            article.id AS id,\\n            'Article' AS type,\\n            article.text AS text,\\n            final_score AS score,\\n            precedent_count\\n        ORDER BY final_score DESC\\n        LIMIT $limit\\n        \"\n",
      "Received notification from DBMS server: {severity: WARNING} {code: Neo.ClientNotification.Statement.UnknownRelationshipTypeWarning} {category: UNRECOGNIZED} {title: The provided relationship type is not in the database.} {description: One of the relationship types in your query is not available in the database, make sure you didn't misspell it or that the label is available when you run this statement in your application (the missing relationship type is: HAS_KEYWORD)} {position: line: 4, column: 38, offset: 180} for query: \"\\n        CALL db.index.vector.queryNodes('precedent_embedding', $limit * 2, $embedding)\\n        YIELD node AS precedent, score AS vector_score\\n        OPTIONAL MATCH (precedent)-[:HAS_KEYWORD]->(k:Keyword)\\n        WHERE k.text IN $keywords\\n        WITH precedent, vector_score, collect(DISTINCT k.text) AS keywords\\n        WITH precedent, vector_score + (size(keywords) * 0.1) AS final_score, keywords\\n        OPTIONAL MATCH (precedent)-[:REFERENCES_ARTICLE]->(ref_a:Article)\\n        WITH precedent, final_score, keywords, collect(DISTINCT ref_a.id) AS referenced_articles\\n        RETURN\\n            precedent.id AS id,\\n            'Precedent' AS type,\\n            precedent.name AS name,\\n            coalesce(precedent.full_summary, precedent.judgment_summary) AS text,\\n            final_score AS score,\\n            keywords,\\n            referenced_articles\\n        ORDER BY final_score DESC\\n        LIMIT $limit\\n        \"\n",
      "Received notification from DBMS server: {severity: WARNING} {code: Neo.ClientNotification.Statement.AggregationSkippedNull} {category: UNRECOGNIZED} {title: The query contains an aggregation function that skips null values.} {description: null value eliminated in set function.} {position: None} for query: \"\\n        CALL db.index.vector.queryNodes('precedent_embedding', $limit * 2, $embedding)\\n        YIELD node AS precedent, score AS vector_score\\n        OPTIONAL MATCH (precedent)-[:HAS_KEYWORD]->(k:Keyword)\\n        WHERE k.text IN $keywords\\n        WITH precedent, vector_score, collect(DISTINCT k.text) AS keywords\\n        WITH precedent, vector_score + (size(keywords) * 0.1) AS final_score, keywords\\n        OPTIONAL MATCH (precedent)-[:REFERENCES_ARTICLE]->(ref_a:Article)\\n        WITH precedent, final_score, keywords, collect(DISTINCT ref_a.id) AS referenced_articles\\n        RETURN\\n            precedent.id AS id,\\n            'Precedent' AS type,\\n            precedent.name AS name,\\n            coalesce(precedent.full_summary, precedent.judgment_summary) AS text,\\n            final_score AS score,\\n            keywords,\\n            referenced_articles\\n        ORDER BY final_score DESC\\n        LIMIT $limit\\n        \"\n"
     ]
    },
    {
     "name": "stdout",
     "output_type": "stream",
     "text": [
      "Context retrieval took 0.85 seconds.\n"
     ]
    },
    {
     "name": "stderr",
     "output_type": "stream",
     "text": [
      "Received notification from DBMS server: {severity: WARNING} {code: Neo.ClientNotification.Statement.AggregationSkippedNull} {category: UNRECOGNIZED} {title: The query contains an aggregation function that skips null values.} {description: null value eliminated in set function.} {position: None} for query: \"\\n        CALL db.index.vector.queryNodes('article_embedding', $limit * 2, $embedding)\\n        YIELD node AS article, score AS vector_score\\n        OPTIONAL MATCH (p:Precedent)-[:REFERENCES_ARTICLE]->(article)\\n        WITH article, vector_score, count(p) AS precedent_count\\n        WITH article, vector_score + (precedent_count * 0.05) AS final_score, precedent_count\\n        RETURN\\n            article.id AS id,\\n            'Article' AS type,\\n            article.text AS text,\\n            final_score AS score,\\n            precedent_count\\n        ORDER BY final_score DESC\\n        LIMIT $limit\\n        \"\n",
      "Received notification from DBMS server: {severity: WARNING} {code: Neo.ClientNotification.Statement.UnknownRelationshipTypeWarning} {category: UNRECOGNIZED} {title: The provided relationship type is not in the database.} {description: One of the relationship types in your query is not available in the database, make sure you didn't misspell it or that the label is available when you run this statement in your application (the missing relationship type is: HAS_KEYWORD)} {position: line: 4, column: 38, offset: 180} for query: \"\\n        CALL db.index.vector.queryNodes('precedent_embedding', $limit * 2, $embedding)\\n        YIELD node AS precedent, score AS vector_score\\n        OPTIONAL MATCH (precedent)-[:HAS_KEYWORD]->(k:Keyword)\\n        WHERE k.text IN $keywords\\n        WITH precedent, vector_score, collect(DISTINCT k.text) AS keywords\\n        WITH precedent, vector_score + (size(keywords) * 0.1) AS final_score, keywords\\n        OPTIONAL MATCH (precedent)-[:REFERENCES_ARTICLE]->(ref_a:Article)\\n        WITH precedent, final_score, keywords, collect(DISTINCT ref_a.id) AS referenced_articles\\n        RETURN\\n            precedent.id AS id,\\n            'Precedent' AS type,\\n            precedent.name AS name,\\n            coalesce(precedent.full_summary, precedent.judgment_summary) AS text,\\n            final_score AS score,\\n            keywords,\\n            referenced_articles\\n        ORDER BY final_score DESC\\n        LIMIT $limit\\n        \"\n",
      "Received notification from DBMS server: {severity: WARNING} {code: Neo.ClientNotification.Statement.AggregationSkippedNull} {category: UNRECOGNIZED} {title: The query contains an aggregation function that skips null values.} {description: null value eliminated in set function.} {position: None} for query: \"\\n        CALL db.index.vector.queryNodes('precedent_embedding', $limit * 2, $embedding)\\n        YIELD node AS precedent, score AS vector_score\\n        OPTIONAL MATCH (precedent)-[:HAS_KEYWORD]->(k:Keyword)\\n        WHERE k.text IN $keywords\\n        WITH precedent, vector_score, collect(DISTINCT k.text) AS keywords\\n        WITH precedent, vector_score + (size(keywords) * 0.1) AS final_score, keywords\\n        OPTIONAL MATCH (precedent)-[:REFERENCES_ARTICLE]->(ref_a:Article)\\n        WITH precedent, final_score, keywords, collect(DISTINCT ref_a.id) AS referenced_articles\\n        RETURN\\n            precedent.id AS id,\\n            'Precedent' AS type,\\n            precedent.name AS name,\\n            coalesce(precedent.full_summary, precedent.judgment_summary) AS text,\\n            final_score AS score,\\n            keywords,\\n            referenced_articles\\n        ORDER BY final_score DESC\\n        LIMIT $limit\\n        \"\n"
     ]
    },
    {
     "name": "stdout",
     "output_type": "stream",
     "text": [
      "Context retrieval took 0.70 seconds.\n"
     ]
    },
    {
     "name": "stderr",
     "output_type": "stream",
     "text": [
      "Received notification from DBMS server: {severity: WARNING} {code: Neo.ClientNotification.Statement.AggregationSkippedNull} {category: UNRECOGNIZED} {title: The query contains an aggregation function that skips null values.} {description: null value eliminated in set function.} {position: None} for query: \"\\n        CALL db.index.vector.queryNodes('article_embedding', $limit * 2, $embedding)\\n        YIELD node AS article, score AS vector_score\\n        OPTIONAL MATCH (p:Precedent)-[:REFERENCES_ARTICLE]->(article)\\n        WITH article, vector_score, count(p) AS precedent_count\\n        WITH article, vector_score + (precedent_count * 0.05) AS final_score, precedent_count\\n        RETURN\\n            article.id AS id,\\n            'Article' AS type,\\n            article.text AS text,\\n            final_score AS score,\\n            precedent_count\\n        ORDER BY final_score DESC\\n        LIMIT $limit\\n        \"\n",
      "Received notification from DBMS server: {severity: WARNING} {code: Neo.ClientNotification.Statement.UnknownRelationshipTypeWarning} {category: UNRECOGNIZED} {title: The provided relationship type is not in the database.} {description: One of the relationship types in your query is not available in the database, make sure you didn't misspell it or that the label is available when you run this statement in your application (the missing relationship type is: HAS_KEYWORD)} {position: line: 4, column: 38, offset: 180} for query: \"\\n        CALL db.index.vector.queryNodes('precedent_embedding', $limit * 2, $embedding)\\n        YIELD node AS precedent, score AS vector_score\\n        OPTIONAL MATCH (precedent)-[:HAS_KEYWORD]->(k:Keyword)\\n        WHERE k.text IN $keywords\\n        WITH precedent, vector_score, collect(DISTINCT k.text) AS keywords\\n        WITH precedent, vector_score + (size(keywords) * 0.1) AS final_score, keywords\\n        OPTIONAL MATCH (precedent)-[:REFERENCES_ARTICLE]->(ref_a:Article)\\n        WITH precedent, final_score, keywords, collect(DISTINCT ref_a.id) AS referenced_articles\\n        RETURN\\n            precedent.id AS id,\\n            'Precedent' AS type,\\n            precedent.name AS name,\\n            coalesce(precedent.full_summary, precedent.judgment_summary) AS text,\\n            final_score AS score,\\n            keywords,\\n            referenced_articles\\n        ORDER BY final_score DESC\\n        LIMIT $limit\\n        \"\n",
      "Received notification from DBMS server: {severity: WARNING} {code: Neo.ClientNotification.Statement.AggregationSkippedNull} {category: UNRECOGNIZED} {title: The query contains an aggregation function that skips null values.} {description: null value eliminated in set function.} {position: None} for query: \"\\n        CALL db.index.vector.queryNodes('precedent_embedding', $limit * 2, $embedding)\\n        YIELD node AS precedent, score AS vector_score\\n        OPTIONAL MATCH (precedent)-[:HAS_KEYWORD]->(k:Keyword)\\n        WHERE k.text IN $keywords\\n        WITH precedent, vector_score, collect(DISTINCT k.text) AS keywords\\n        WITH precedent, vector_score + (size(keywords) * 0.1) AS final_score, keywords\\n        OPTIONAL MATCH (precedent)-[:REFERENCES_ARTICLE]->(ref_a:Article)\\n        WITH precedent, final_score, keywords, collect(DISTINCT ref_a.id) AS referenced_articles\\n        RETURN\\n            precedent.id AS id,\\n            'Precedent' AS type,\\n            precedent.name AS name,\\n            coalesce(precedent.full_summary, precedent.judgment_summary) AS text,\\n            final_score AS score,\\n            keywords,\\n            referenced_articles\\n        ORDER BY final_score DESC\\n        LIMIT $limit\\n        \"\n"
     ]
    },
    {
     "name": "stdout",
     "output_type": "stream",
     "text": [
      "Context retrieval took 0.80 seconds.\n"
     ]
    },
    {
     "name": "stderr",
     "output_type": "stream",
     "text": [
      "Received notification from DBMS server: {severity: WARNING} {code: Neo.ClientNotification.Statement.AggregationSkippedNull} {category: UNRECOGNIZED} {title: The query contains an aggregation function that skips null values.} {description: null value eliminated in set function.} {position: None} for query: \"\\n        CALL db.index.vector.queryNodes('article_embedding', $limit * 2, $embedding)\\n        YIELD node AS article, score AS vector_score\\n        OPTIONAL MATCH (p:Precedent)-[:REFERENCES_ARTICLE]->(article)\\n        WITH article, vector_score, count(p) AS precedent_count\\n        WITH article, vector_score + (precedent_count * 0.05) AS final_score, precedent_count\\n        RETURN\\n            article.id AS id,\\n            'Article' AS type,\\n            article.text AS text,\\n            final_score AS score,\\n            precedent_count\\n        ORDER BY final_score DESC\\n        LIMIT $limit\\n        \"\n",
      "Received notification from DBMS server: {severity: WARNING} {code: Neo.ClientNotification.Statement.UnknownRelationshipTypeWarning} {category: UNRECOGNIZED} {title: The provided relationship type is not in the database.} {description: One of the relationship types in your query is not available in the database, make sure you didn't misspell it or that the label is available when you run this statement in your application (the missing relationship type is: HAS_KEYWORD)} {position: line: 4, column: 38, offset: 180} for query: \"\\n        CALL db.index.vector.queryNodes('precedent_embedding', $limit * 2, $embedding)\\n        YIELD node AS precedent, score AS vector_score\\n        OPTIONAL MATCH (precedent)-[:HAS_KEYWORD]->(k:Keyword)\\n        WHERE k.text IN $keywords\\n        WITH precedent, vector_score, collect(DISTINCT k.text) AS keywords\\n        WITH precedent, vector_score + (size(keywords) * 0.1) AS final_score, keywords\\n        OPTIONAL MATCH (precedent)-[:REFERENCES_ARTICLE]->(ref_a:Article)\\n        WITH precedent, final_score, keywords, collect(DISTINCT ref_a.id) AS referenced_articles\\n        RETURN\\n            precedent.id AS id,\\n            'Precedent' AS type,\\n            precedent.name AS name,\\n            coalesce(precedent.full_summary, precedent.judgment_summary) AS text,\\n            final_score AS score,\\n            keywords,\\n            referenced_articles\\n        ORDER BY final_score DESC\\n        LIMIT $limit\\n        \"\n",
      "Received notification from DBMS server: {severity: WARNING} {code: Neo.ClientNotification.Statement.AggregationSkippedNull} {category: UNRECOGNIZED} {title: The query contains an aggregation function that skips null values.} {description: null value eliminated in set function.} {position: None} for query: \"\\n        CALL db.index.vector.queryNodes('precedent_embedding', $limit * 2, $embedding)\\n        YIELD node AS precedent, score AS vector_score\\n        OPTIONAL MATCH (precedent)-[:HAS_KEYWORD]->(k:Keyword)\\n        WHERE k.text IN $keywords\\n        WITH precedent, vector_score, collect(DISTINCT k.text) AS keywords\\n        WITH precedent, vector_score + (size(keywords) * 0.1) AS final_score, keywords\\n        OPTIONAL MATCH (precedent)-[:REFERENCES_ARTICLE]->(ref_a:Article)\\n        WITH precedent, final_score, keywords, collect(DISTINCT ref_a.id) AS referenced_articles\\n        RETURN\\n            precedent.id AS id,\\n            'Precedent' AS type,\\n            precedent.name AS name,\\n            coalesce(precedent.full_summary, precedent.judgment_summary) AS text,\\n            final_score AS score,\\n            keywords,\\n            referenced_articles\\n        ORDER BY final_score DESC\\n        LIMIT $limit\\n        \"\n"
     ]
    },
    {
     "name": "stdout",
     "output_type": "stream",
     "text": [
      "Context retrieval took 0.60 seconds.\n"
     ]
    },
    {
     "name": "stderr",
     "output_type": "stream",
     "text": [
      "Received notification from DBMS server: {severity: WARNING} {code: Neo.ClientNotification.Statement.AggregationSkippedNull} {category: UNRECOGNIZED} {title: The query contains an aggregation function that skips null values.} {description: null value eliminated in set function.} {position: None} for query: \"\\n        CALL db.index.vector.queryNodes('article_embedding', $limit * 2, $embedding)\\n        YIELD node AS article, score AS vector_score\\n        OPTIONAL MATCH (p:Precedent)-[:REFERENCES_ARTICLE]->(article)\\n        WITH article, vector_score, count(p) AS precedent_count\\n        WITH article, vector_score + (precedent_count * 0.05) AS final_score, precedent_count\\n        RETURN\\n            article.id AS id,\\n            'Article' AS type,\\n            article.text AS text,\\n            final_score AS score,\\n            precedent_count\\n        ORDER BY final_score DESC\\n        LIMIT $limit\\n        \"\n",
      "Received notification from DBMS server: {severity: WARNING} {code: Neo.ClientNotification.Statement.UnknownRelationshipTypeWarning} {category: UNRECOGNIZED} {title: The provided relationship type is not in the database.} {description: One of the relationship types in your query is not available in the database, make sure you didn't misspell it or that the label is available when you run this statement in your application (the missing relationship type is: HAS_KEYWORD)} {position: line: 4, column: 38, offset: 180} for query: \"\\n        CALL db.index.vector.queryNodes('precedent_embedding', $limit * 2, $embedding)\\n        YIELD node AS precedent, score AS vector_score\\n        OPTIONAL MATCH (precedent)-[:HAS_KEYWORD]->(k:Keyword)\\n        WHERE k.text IN $keywords\\n        WITH precedent, vector_score, collect(DISTINCT k.text) AS keywords\\n        WITH precedent, vector_score + (size(keywords) * 0.1) AS final_score, keywords\\n        OPTIONAL MATCH (precedent)-[:REFERENCES_ARTICLE]->(ref_a:Article)\\n        WITH precedent, final_score, keywords, collect(DISTINCT ref_a.id) AS referenced_articles\\n        RETURN\\n            precedent.id AS id,\\n            'Precedent' AS type,\\n            precedent.name AS name,\\n            coalesce(precedent.full_summary, precedent.judgment_summary) AS text,\\n            final_score AS score,\\n            keywords,\\n            referenced_articles\\n        ORDER BY final_score DESC\\n        LIMIT $limit\\n        \"\n",
      "Received notification from DBMS server: {severity: WARNING} {code: Neo.ClientNotification.Statement.AggregationSkippedNull} {category: UNRECOGNIZED} {title: The query contains an aggregation function that skips null values.} {description: null value eliminated in set function.} {position: None} for query: \"\\n        CALL db.index.vector.queryNodes('precedent_embedding', $limit * 2, $embedding)\\n        YIELD node AS precedent, score AS vector_score\\n        OPTIONAL MATCH (precedent)-[:HAS_KEYWORD]->(k:Keyword)\\n        WHERE k.text IN $keywords\\n        WITH precedent, vector_score, collect(DISTINCT k.text) AS keywords\\n        WITH precedent, vector_score + (size(keywords) * 0.1) AS final_score, keywords\\n        OPTIONAL MATCH (precedent)-[:REFERENCES_ARTICLE]->(ref_a:Article)\\n        WITH precedent, final_score, keywords, collect(DISTINCT ref_a.id) AS referenced_articles\\n        RETURN\\n            precedent.id AS id,\\n            'Precedent' AS type,\\n            precedent.name AS name,\\n            coalesce(precedent.full_summary, precedent.judgment_summary) AS text,\\n            final_score AS score,\\n            keywords,\\n            referenced_articles\\n        ORDER BY final_score DESC\\n        LIMIT $limit\\n        \"\n"
     ]
    },
    {
     "name": "stdout",
     "output_type": "stream",
     "text": [
      "Context retrieval took 0.71 seconds.\n"
     ]
    },
    {
     "name": "stderr",
     "output_type": "stream",
     "text": [
      "Received notification from DBMS server: {severity: WARNING} {code: Neo.ClientNotification.Statement.AggregationSkippedNull} {category: UNRECOGNIZED} {title: The query contains an aggregation function that skips null values.} {description: null value eliminated in set function.} {position: None} for query: \"\\n        CALL db.index.vector.queryNodes('article_embedding', $limit * 2, $embedding)\\n        YIELD node AS article, score AS vector_score\\n        OPTIONAL MATCH (p:Precedent)-[:REFERENCES_ARTICLE]->(article)\\n        WITH article, vector_score, count(p) AS precedent_count\\n        WITH article, vector_score + (precedent_count * 0.05) AS final_score, precedent_count\\n        RETURN\\n            article.id AS id,\\n            'Article' AS type,\\n            article.text AS text,\\n            final_score AS score,\\n            precedent_count\\n        ORDER BY final_score DESC\\n        LIMIT $limit\\n        \"\n",
      "Received notification from DBMS server: {severity: WARNING} {code: Neo.ClientNotification.Statement.UnknownRelationshipTypeWarning} {category: UNRECOGNIZED} {title: The provided relationship type is not in the database.} {description: One of the relationship types in your query is not available in the database, make sure you didn't misspell it or that the label is available when you run this statement in your application (the missing relationship type is: HAS_KEYWORD)} {position: line: 4, column: 38, offset: 180} for query: \"\\n        CALL db.index.vector.queryNodes('precedent_embedding', $limit * 2, $embedding)\\n        YIELD node AS precedent, score AS vector_score\\n        OPTIONAL MATCH (precedent)-[:HAS_KEYWORD]->(k:Keyword)\\n        WHERE k.text IN $keywords\\n        WITH precedent, vector_score, collect(DISTINCT k.text) AS keywords\\n        WITH precedent, vector_score + (size(keywords) * 0.1) AS final_score, keywords\\n        OPTIONAL MATCH (precedent)-[:REFERENCES_ARTICLE]->(ref_a:Article)\\n        WITH precedent, final_score, keywords, collect(DISTINCT ref_a.id) AS referenced_articles\\n        RETURN\\n            precedent.id AS id,\\n            'Precedent' AS type,\\n            precedent.name AS name,\\n            coalesce(precedent.full_summary, precedent.judgment_summary) AS text,\\n            final_score AS score,\\n            keywords,\\n            referenced_articles\\n        ORDER BY final_score DESC\\n        LIMIT $limit\\n        \"\n",
      "Received notification from DBMS server: {severity: WARNING} {code: Neo.ClientNotification.Statement.AggregationSkippedNull} {category: UNRECOGNIZED} {title: The query contains an aggregation function that skips null values.} {description: null value eliminated in set function.} {position: None} for query: \"\\n        CALL db.index.vector.queryNodes('precedent_embedding', $limit * 2, $embedding)\\n        YIELD node AS precedent, score AS vector_score\\n        OPTIONAL MATCH (precedent)-[:HAS_KEYWORD]->(k:Keyword)\\n        WHERE k.text IN $keywords\\n        WITH precedent, vector_score, collect(DISTINCT k.text) AS keywords\\n        WITH precedent, vector_score + (size(keywords) * 0.1) AS final_score, keywords\\n        OPTIONAL MATCH (precedent)-[:REFERENCES_ARTICLE]->(ref_a:Article)\\n        WITH precedent, final_score, keywords, collect(DISTINCT ref_a.id) AS referenced_articles\\n        RETURN\\n            precedent.id AS id,\\n            'Precedent' AS type,\\n            precedent.name AS name,\\n            coalesce(precedent.full_summary, precedent.judgment_summary) AS text,\\n            final_score AS score,\\n            keywords,\\n            referenced_articles\\n        ORDER BY final_score DESC\\n        LIMIT $limit\\n        \"\n"
     ]
    },
    {
     "name": "stdout",
     "output_type": "stream",
     "text": [
      "Context retrieval took 0.51 seconds.\n"
     ]
    },
    {
     "name": "stderr",
     "output_type": "stream",
     "text": [
      "Received notification from DBMS server: {severity: WARNING} {code: Neo.ClientNotification.Statement.UnknownRelationshipTypeWarning} {category: UNRECOGNIZED} {title: The provided relationship type is not in the database.} {description: One of the relationship types in your query is not available in the database, make sure you didn't misspell it or that the label is available when you run this statement in your application (the missing relationship type is: HAS_KEYWORD)} {position: line: 4, column: 38, offset: 180} for query: \"\\n        CALL db.index.vector.queryNodes('precedent_embedding', $limit * 2, $embedding)\\n        YIELD node AS precedent, score AS vector_score\\n        OPTIONAL MATCH (precedent)-[:HAS_KEYWORD]->(k:Keyword)\\n        WHERE k.text IN $keywords\\n        WITH precedent, vector_score, collect(DISTINCT k.text) AS keywords\\n        WITH precedent, vector_score + (size(keywords) * 0.1) AS final_score, keywords\\n        OPTIONAL MATCH (precedent)-[:REFERENCES_ARTICLE]->(ref_a:Article)\\n        WITH precedent, final_score, keywords, collect(DISTINCT ref_a.id) AS referenced_articles\\n        RETURN\\n            precedent.id AS id,\\n            'Precedent' AS type,\\n            precedent.name AS name,\\n            coalesce(precedent.full_summary, precedent.judgment_summary) AS text,\\n            final_score AS score,\\n            keywords,\\n            referenced_articles\\n        ORDER BY final_score DESC\\n        LIMIT $limit\\n        \"\n",
      "Received notification from DBMS server: {severity: WARNING} {code: Neo.ClientNotification.Statement.AggregationSkippedNull} {category: UNRECOGNIZED} {title: The query contains an aggregation function that skips null values.} {description: null value eliminated in set function.} {position: None} for query: \"\\n        CALL db.index.vector.queryNodes('precedent_embedding', $limit * 2, $embedding)\\n        YIELD node AS precedent, score AS vector_score\\n        OPTIONAL MATCH (precedent)-[:HAS_KEYWORD]->(k:Keyword)\\n        WHERE k.text IN $keywords\\n        WITH precedent, vector_score, collect(DISTINCT k.text) AS keywords\\n        WITH precedent, vector_score + (size(keywords) * 0.1) AS final_score, keywords\\n        OPTIONAL MATCH (precedent)-[:REFERENCES_ARTICLE]->(ref_a:Article)\\n        WITH precedent, final_score, keywords, collect(DISTINCT ref_a.id) AS referenced_articles\\n        RETURN\\n            precedent.id AS id,\\n            'Precedent' AS type,\\n            precedent.name AS name,\\n            coalesce(precedent.full_summary, precedent.judgment_summary) AS text,\\n            final_score AS score,\\n            keywords,\\n            referenced_articles\\n        ORDER BY final_score DESC\\n        LIMIT $limit\\n        \"\n"
     ]
    },
    {
     "name": "stdout",
     "output_type": "stream",
     "text": [
      "Context retrieval took 0.64 seconds.\n"
     ]
    },
    {
     "name": "stderr",
     "output_type": "stream",
     "text": [
      "Received notification from DBMS server: {severity: WARNING} {code: Neo.ClientNotification.Statement.AggregationSkippedNull} {category: UNRECOGNIZED} {title: The query contains an aggregation function that skips null values.} {description: null value eliminated in set function.} {position: None} for query: \"\\n        CALL db.index.vector.queryNodes('article_embedding', $limit * 2, $embedding)\\n        YIELD node AS article, score AS vector_score\\n        OPTIONAL MATCH (p:Precedent)-[:REFERENCES_ARTICLE]->(article)\\n        WITH article, vector_score, count(p) AS precedent_count\\n        WITH article, vector_score + (precedent_count * 0.05) AS final_score, precedent_count\\n        RETURN\\n            article.id AS id,\\n            'Article' AS type,\\n            article.text AS text,\\n            final_score AS score,\\n            precedent_count\\n        ORDER BY final_score DESC\\n        LIMIT $limit\\n        \"\n",
      "Received notification from DBMS server: {severity: WARNING} {code: Neo.ClientNotification.Statement.UnknownRelationshipTypeWarning} {category: UNRECOGNIZED} {title: The provided relationship type is not in the database.} {description: One of the relationship types in your query is not available in the database, make sure you didn't misspell it or that the label is available when you run this statement in your application (the missing relationship type is: HAS_KEYWORD)} {position: line: 4, column: 38, offset: 180} for query: \"\\n        CALL db.index.vector.queryNodes('precedent_embedding', $limit * 2, $embedding)\\n        YIELD node AS precedent, score AS vector_score\\n        OPTIONAL MATCH (precedent)-[:HAS_KEYWORD]->(k:Keyword)\\n        WHERE k.text IN $keywords\\n        WITH precedent, vector_score, collect(DISTINCT k.text) AS keywords\\n        WITH precedent, vector_score + (size(keywords) * 0.1) AS final_score, keywords\\n        OPTIONAL MATCH (precedent)-[:REFERENCES_ARTICLE]->(ref_a:Article)\\n        WITH precedent, final_score, keywords, collect(DISTINCT ref_a.id) AS referenced_articles\\n        RETURN\\n            precedent.id AS id,\\n            'Precedent' AS type,\\n            precedent.name AS name,\\n            coalesce(precedent.full_summary, precedent.judgment_summary) AS text,\\n            final_score AS score,\\n            keywords,\\n            referenced_articles\\n        ORDER BY final_score DESC\\n        LIMIT $limit\\n        \"\n",
      "Received notification from DBMS server: {severity: WARNING} {code: Neo.ClientNotification.Statement.AggregationSkippedNull} {category: UNRECOGNIZED} {title: The query contains an aggregation function that skips null values.} {description: null value eliminated in set function.} {position: None} for query: \"\\n        CALL db.index.vector.queryNodes('precedent_embedding', $limit * 2, $embedding)\\n        YIELD node AS precedent, score AS vector_score\\n        OPTIONAL MATCH (precedent)-[:HAS_KEYWORD]->(k:Keyword)\\n        WHERE k.text IN $keywords\\n        WITH precedent, vector_score, collect(DISTINCT k.text) AS keywords\\n        WITH precedent, vector_score + (size(keywords) * 0.1) AS final_score, keywords\\n        OPTIONAL MATCH (precedent)-[:REFERENCES_ARTICLE]->(ref_a:Article)\\n        WITH precedent, final_score, keywords, collect(DISTINCT ref_a.id) AS referenced_articles\\n        RETURN\\n            precedent.id AS id,\\n            'Precedent' AS type,\\n            precedent.name AS name,\\n            coalesce(precedent.full_summary, precedent.judgment_summary) AS text,\\n            final_score AS score,\\n            keywords,\\n            referenced_articles\\n        ORDER BY final_score DESC\\n        LIMIT $limit\\n        \"\n"
     ]
    },
    {
     "name": "stdout",
     "output_type": "stream",
     "text": [
      "Context retrieval took 0.56 seconds.\n"
     ]
    },
    {
     "name": "stderr",
     "output_type": "stream",
     "text": [
      "Received notification from DBMS server: {severity: WARNING} {code: Neo.ClientNotification.Statement.AggregationSkippedNull} {category: UNRECOGNIZED} {title: The query contains an aggregation function that skips null values.} {description: null value eliminated in set function.} {position: None} for query: \"\\n        CALL db.index.vector.queryNodes('article_embedding', $limit * 2, $embedding)\\n        YIELD node AS article, score AS vector_score\\n        OPTIONAL MATCH (p:Precedent)-[:REFERENCES_ARTICLE]->(article)\\n        WITH article, vector_score, count(p) AS precedent_count\\n        WITH article, vector_score + (precedent_count * 0.05) AS final_score, precedent_count\\n        RETURN\\n            article.id AS id,\\n            'Article' AS type,\\n            article.text AS text,\\n            final_score AS score,\\n            precedent_count\\n        ORDER BY final_score DESC\\n        LIMIT $limit\\n        \"\n",
      "Received notification from DBMS server: {severity: WARNING} {code: Neo.ClientNotification.Statement.UnknownRelationshipTypeWarning} {category: UNRECOGNIZED} {title: The provided relationship type is not in the database.} {description: One of the relationship types in your query is not available in the database, make sure you didn't misspell it or that the label is available when you run this statement in your application (the missing relationship type is: HAS_KEYWORD)} {position: line: 4, column: 38, offset: 180} for query: \"\\n        CALL db.index.vector.queryNodes('precedent_embedding', $limit * 2, $embedding)\\n        YIELD node AS precedent, score AS vector_score\\n        OPTIONAL MATCH (precedent)-[:HAS_KEYWORD]->(k:Keyword)\\n        WHERE k.text IN $keywords\\n        WITH precedent, vector_score, collect(DISTINCT k.text) AS keywords\\n        WITH precedent, vector_score + (size(keywords) * 0.1) AS final_score, keywords\\n        OPTIONAL MATCH (precedent)-[:REFERENCES_ARTICLE]->(ref_a:Article)\\n        WITH precedent, final_score, keywords, collect(DISTINCT ref_a.id) AS referenced_articles\\n        RETURN\\n            precedent.id AS id,\\n            'Precedent' AS type,\\n            precedent.name AS name,\\n            coalesce(precedent.full_summary, precedent.judgment_summary) AS text,\\n            final_score AS score,\\n            keywords,\\n            referenced_articles\\n        ORDER BY final_score DESC\\n        LIMIT $limit\\n        \"\n",
      "Received notification from DBMS server: {severity: WARNING} {code: Neo.ClientNotification.Statement.AggregationSkippedNull} {category: UNRECOGNIZED} {title: The query contains an aggregation function that skips null values.} {description: null value eliminated in set function.} {position: None} for query: \"\\n        CALL db.index.vector.queryNodes('precedent_embedding', $limit * 2, $embedding)\\n        YIELD node AS precedent, score AS vector_score\\n        OPTIONAL MATCH (precedent)-[:HAS_KEYWORD]->(k:Keyword)\\n        WHERE k.text IN $keywords\\n        WITH precedent, vector_score, collect(DISTINCT k.text) AS keywords\\n        WITH precedent, vector_score + (size(keywords) * 0.1) AS final_score, keywords\\n        OPTIONAL MATCH (precedent)-[:REFERENCES_ARTICLE]->(ref_a:Article)\\n        WITH precedent, final_score, keywords, collect(DISTINCT ref_a.id) AS referenced_articles\\n        RETURN\\n            precedent.id AS id,\\n            'Precedent' AS type,\\n            precedent.name AS name,\\n            coalesce(precedent.full_summary, precedent.judgment_summary) AS text,\\n            final_score AS score,\\n            keywords,\\n            referenced_articles\\n        ORDER BY final_score DESC\\n        LIMIT $limit\\n        \"\n"
     ]
    },
    {
     "name": "stdout",
     "output_type": "stream",
     "text": [
      "Context retrieval took 0.79 seconds.\n"
     ]
    },
    {
     "name": "stderr",
     "output_type": "stream",
     "text": [
      "Received notification from DBMS server: {severity: WARNING} {code: Neo.ClientNotification.Statement.AggregationSkippedNull} {category: UNRECOGNIZED} {title: The query contains an aggregation function that skips null values.} {description: null value eliminated in set function.} {position: None} for query: \"\\n        CALL db.index.vector.queryNodes('article_embedding', $limit * 2, $embedding)\\n        YIELD node AS article, score AS vector_score\\n        OPTIONAL MATCH (p:Precedent)-[:REFERENCES_ARTICLE]->(article)\\n        WITH article, vector_score, count(p) AS precedent_count\\n        WITH article, vector_score + (precedent_count * 0.05) AS final_score, precedent_count\\n        RETURN\\n            article.id AS id,\\n            'Article' AS type,\\n            article.text AS text,\\n            final_score AS score,\\n            precedent_count\\n        ORDER BY final_score DESC\\n        LIMIT $limit\\n        \"\n",
      "Received notification from DBMS server: {severity: WARNING} {code: Neo.ClientNotification.Statement.UnknownRelationshipTypeWarning} {category: UNRECOGNIZED} {title: The provided relationship type is not in the database.} {description: One of the relationship types in your query is not available in the database, make sure you didn't misspell it or that the label is available when you run this statement in your application (the missing relationship type is: HAS_KEYWORD)} {position: line: 4, column: 38, offset: 180} for query: \"\\n        CALL db.index.vector.queryNodes('precedent_embedding', $limit * 2, $embedding)\\n        YIELD node AS precedent, score AS vector_score\\n        OPTIONAL MATCH (precedent)-[:HAS_KEYWORD]->(k:Keyword)\\n        WHERE k.text IN $keywords\\n        WITH precedent, vector_score, collect(DISTINCT k.text) AS keywords\\n        WITH precedent, vector_score + (size(keywords) * 0.1) AS final_score, keywords\\n        OPTIONAL MATCH (precedent)-[:REFERENCES_ARTICLE]->(ref_a:Article)\\n        WITH precedent, final_score, keywords, collect(DISTINCT ref_a.id) AS referenced_articles\\n        RETURN\\n            precedent.id AS id,\\n            'Precedent' AS type,\\n            precedent.name AS name,\\n            coalesce(precedent.full_summary, precedent.judgment_summary) AS text,\\n            final_score AS score,\\n            keywords,\\n            referenced_articles\\n        ORDER BY final_score DESC\\n        LIMIT $limit\\n        \"\n",
      "Received notification from DBMS server: {severity: WARNING} {code: Neo.ClientNotification.Statement.AggregationSkippedNull} {category: UNRECOGNIZED} {title: The query contains an aggregation function that skips null values.} {description: null value eliminated in set function.} {position: None} for query: \"\\n        CALL db.index.vector.queryNodes('precedent_embedding', $limit * 2, $embedding)\\n        YIELD node AS precedent, score AS vector_score\\n        OPTIONAL MATCH (precedent)-[:HAS_KEYWORD]->(k:Keyword)\\n        WHERE k.text IN $keywords\\n        WITH precedent, vector_score, collect(DISTINCT k.text) AS keywords\\n        WITH precedent, vector_score + (size(keywords) * 0.1) AS final_score, keywords\\n        OPTIONAL MATCH (precedent)-[:REFERENCES_ARTICLE]->(ref_a:Article)\\n        WITH precedent, final_score, keywords, collect(DISTINCT ref_a.id) AS referenced_articles\\n        RETURN\\n            precedent.id AS id,\\n            'Precedent' AS type,\\n            precedent.name AS name,\\n            coalesce(precedent.full_summary, precedent.judgment_summary) AS text,\\n            final_score AS score,\\n            keywords,\\n            referenced_articles\\n        ORDER BY final_score DESC\\n        LIMIT $limit\\n        \"\n"
     ]
    },
    {
     "name": "stdout",
     "output_type": "stream",
     "text": [
      "Context retrieval took 0.81 seconds.\n"
     ]
    },
    {
     "name": "stderr",
     "output_type": "stream",
     "text": [
      "Received notification from DBMS server: {severity: WARNING} {code: Neo.ClientNotification.Statement.UnknownRelationshipTypeWarning} {category: UNRECOGNIZED} {title: The provided relationship type is not in the database.} {description: One of the relationship types in your query is not available in the database, make sure you didn't misspell it or that the label is available when you run this statement in your application (the missing relationship type is: HAS_KEYWORD)} {position: line: 4, column: 38, offset: 180} for query: \"\\n        CALL db.index.vector.queryNodes('precedent_embedding', $limit * 2, $embedding)\\n        YIELD node AS precedent, score AS vector_score\\n        OPTIONAL MATCH (precedent)-[:HAS_KEYWORD]->(k:Keyword)\\n        WHERE k.text IN $keywords\\n        WITH precedent, vector_score, collect(DISTINCT k.text) AS keywords\\n        WITH precedent, vector_score + (size(keywords) * 0.1) AS final_score, keywords\\n        OPTIONAL MATCH (precedent)-[:REFERENCES_ARTICLE]->(ref_a:Article)\\n        WITH precedent, final_score, keywords, collect(DISTINCT ref_a.id) AS referenced_articles\\n        RETURN\\n            precedent.id AS id,\\n            'Precedent' AS type,\\n            precedent.name AS name,\\n            coalesce(precedent.full_summary, precedent.judgment_summary) AS text,\\n            final_score AS score,\\n            keywords,\\n            referenced_articles\\n        ORDER BY final_score DESC\\n        LIMIT $limit\\n        \"\n",
      "Received notification from DBMS server: {severity: WARNING} {code: Neo.ClientNotification.Statement.AggregationSkippedNull} {category: UNRECOGNIZED} {title: The query contains an aggregation function that skips null values.} {description: null value eliminated in set function.} {position: None} for query: \"\\n        CALL db.index.vector.queryNodes('precedent_embedding', $limit * 2, $embedding)\\n        YIELD node AS precedent, score AS vector_score\\n        OPTIONAL MATCH (precedent)-[:HAS_KEYWORD]->(k:Keyword)\\n        WHERE k.text IN $keywords\\n        WITH precedent, vector_score, collect(DISTINCT k.text) AS keywords\\n        WITH precedent, vector_score + (size(keywords) * 0.1) AS final_score, keywords\\n        OPTIONAL MATCH (precedent)-[:REFERENCES_ARTICLE]->(ref_a:Article)\\n        WITH precedent, final_score, keywords, collect(DISTINCT ref_a.id) AS referenced_articles\\n        RETURN\\n            precedent.id AS id,\\n            'Precedent' AS type,\\n            precedent.name AS name,\\n            coalesce(precedent.full_summary, precedent.judgment_summary) AS text,\\n            final_score AS score,\\n            keywords,\\n            referenced_articles\\n        ORDER BY final_score DESC\\n        LIMIT $limit\\n        \"\n"
     ]
    },
    {
     "name": "stdout",
     "output_type": "stream",
     "text": [
      "Context retrieval took 0.81 seconds.\n"
     ]
    },
    {
     "name": "stderr",
     "output_type": "stream",
     "text": [
      "Received notification from DBMS server: {severity: WARNING} {code: Neo.ClientNotification.Statement.AggregationSkippedNull} {category: UNRECOGNIZED} {title: The query contains an aggregation function that skips null values.} {description: null value eliminated in set function.} {position: None} for query: \"\\n        CALL db.index.vector.queryNodes('article_embedding', $limit * 2, $embedding)\\n        YIELD node AS article, score AS vector_score\\n        OPTIONAL MATCH (p:Precedent)-[:REFERENCES_ARTICLE]->(article)\\n        WITH article, vector_score, count(p) AS precedent_count\\n        WITH article, vector_score + (precedent_count * 0.05) AS final_score, precedent_count\\n        RETURN\\n            article.id AS id,\\n            'Article' AS type,\\n            article.text AS text,\\n            final_score AS score,\\n            precedent_count\\n        ORDER BY final_score DESC\\n        LIMIT $limit\\n        \"\n",
      "Received notification from DBMS server: {severity: WARNING} {code: Neo.ClientNotification.Statement.UnknownRelationshipTypeWarning} {category: UNRECOGNIZED} {title: The provided relationship type is not in the database.} {description: One of the relationship types in your query is not available in the database, make sure you didn't misspell it or that the label is available when you run this statement in your application (the missing relationship type is: HAS_KEYWORD)} {position: line: 4, column: 38, offset: 180} for query: \"\\n        CALL db.index.vector.queryNodes('precedent_embedding', $limit * 2, $embedding)\\n        YIELD node AS precedent, score AS vector_score\\n        OPTIONAL MATCH (precedent)-[:HAS_KEYWORD]->(k:Keyword)\\n        WHERE k.text IN $keywords\\n        WITH precedent, vector_score, collect(DISTINCT k.text) AS keywords\\n        WITH precedent, vector_score + (size(keywords) * 0.1) AS final_score, keywords\\n        OPTIONAL MATCH (precedent)-[:REFERENCES_ARTICLE]->(ref_a:Article)\\n        WITH precedent, final_score, keywords, collect(DISTINCT ref_a.id) AS referenced_articles\\n        RETURN\\n            precedent.id AS id,\\n            'Precedent' AS type,\\n            precedent.name AS name,\\n            coalesce(precedent.full_summary, precedent.judgment_summary) AS text,\\n            final_score AS score,\\n            keywords,\\n            referenced_articles\\n        ORDER BY final_score DESC\\n        LIMIT $limit\\n        \"\n",
      "Received notification from DBMS server: {severity: WARNING} {code: Neo.ClientNotification.Statement.AggregationSkippedNull} {category: UNRECOGNIZED} {title: The query contains an aggregation function that skips null values.} {description: null value eliminated in set function.} {position: None} for query: \"\\n        CALL db.index.vector.queryNodes('precedent_embedding', $limit * 2, $embedding)\\n        YIELD node AS precedent, score AS vector_score\\n        OPTIONAL MATCH (precedent)-[:HAS_KEYWORD]->(k:Keyword)\\n        WHERE k.text IN $keywords\\n        WITH precedent, vector_score, collect(DISTINCT k.text) AS keywords\\n        WITH precedent, vector_score + (size(keywords) * 0.1) AS final_score, keywords\\n        OPTIONAL MATCH (precedent)-[:REFERENCES_ARTICLE]->(ref_a:Article)\\n        WITH precedent, final_score, keywords, collect(DISTINCT ref_a.id) AS referenced_articles\\n        RETURN\\n            precedent.id AS id,\\n            'Precedent' AS type,\\n            precedent.name AS name,\\n            coalesce(precedent.full_summary, precedent.judgment_summary) AS text,\\n            final_score AS score,\\n            keywords,\\n            referenced_articles\\n        ORDER BY final_score DESC\\n        LIMIT $limit\\n        \"\n"
     ]
    },
    {
     "name": "stdout",
     "output_type": "stream",
     "text": [
      "Context retrieval took 0.89 seconds.\n"
     ]
    },
    {
     "name": "stderr",
     "output_type": "stream",
     "text": [
      "Received notification from DBMS server: {severity: WARNING} {code: Neo.ClientNotification.Statement.AggregationSkippedNull} {category: UNRECOGNIZED} {title: The query contains an aggregation function that skips null values.} {description: null value eliminated in set function.} {position: None} for query: \"\\n        CALL db.index.vector.queryNodes('article_embedding', $limit * 2, $embedding)\\n        YIELD node AS article, score AS vector_score\\n        OPTIONAL MATCH (p:Precedent)-[:REFERENCES_ARTICLE]->(article)\\n        WITH article, vector_score, count(p) AS precedent_count\\n        WITH article, vector_score + (precedent_count * 0.05) AS final_score, precedent_count\\n        RETURN\\n            article.id AS id,\\n            'Article' AS type,\\n            article.text AS text,\\n            final_score AS score,\\n            precedent_count\\n        ORDER BY final_score DESC\\n        LIMIT $limit\\n        \"\n",
      "Received notification from DBMS server: {severity: WARNING} {code: Neo.ClientNotification.Statement.UnknownRelationshipTypeWarning} {category: UNRECOGNIZED} {title: The provided relationship type is not in the database.} {description: One of the relationship types in your query is not available in the database, make sure you didn't misspell it or that the label is available when you run this statement in your application (the missing relationship type is: HAS_KEYWORD)} {position: line: 4, column: 38, offset: 180} for query: \"\\n        CALL db.index.vector.queryNodes('precedent_embedding', $limit * 2, $embedding)\\n        YIELD node AS precedent, score AS vector_score\\n        OPTIONAL MATCH (precedent)-[:HAS_KEYWORD]->(k:Keyword)\\n        WHERE k.text IN $keywords\\n        WITH precedent, vector_score, collect(DISTINCT k.text) AS keywords\\n        WITH precedent, vector_score + (size(keywords) * 0.1) AS final_score, keywords\\n        OPTIONAL MATCH (precedent)-[:REFERENCES_ARTICLE]->(ref_a:Article)\\n        WITH precedent, final_score, keywords, collect(DISTINCT ref_a.id) AS referenced_articles\\n        RETURN\\n            precedent.id AS id,\\n            'Precedent' AS type,\\n            precedent.name AS name,\\n            coalesce(precedent.full_summary, precedent.judgment_summary) AS text,\\n            final_score AS score,\\n            keywords,\\n            referenced_articles\\n        ORDER BY final_score DESC\\n        LIMIT $limit\\n        \"\n",
      "Received notification from DBMS server: {severity: WARNING} {code: Neo.ClientNotification.Statement.AggregationSkippedNull} {category: UNRECOGNIZED} {title: The query contains an aggregation function that skips null values.} {description: null value eliminated in set function.} {position: None} for query: \"\\n        CALL db.index.vector.queryNodes('precedent_embedding', $limit * 2, $embedding)\\n        YIELD node AS precedent, score AS vector_score\\n        OPTIONAL MATCH (precedent)-[:HAS_KEYWORD]->(k:Keyword)\\n        WHERE k.text IN $keywords\\n        WITH precedent, vector_score, collect(DISTINCT k.text) AS keywords\\n        WITH precedent, vector_score + (size(keywords) * 0.1) AS final_score, keywords\\n        OPTIONAL MATCH (precedent)-[:REFERENCES_ARTICLE]->(ref_a:Article)\\n        WITH precedent, final_score, keywords, collect(DISTINCT ref_a.id) AS referenced_articles\\n        RETURN\\n            precedent.id AS id,\\n            'Precedent' AS type,\\n            precedent.name AS name,\\n            coalesce(precedent.full_summary, precedent.judgment_summary) AS text,\\n            final_score AS score,\\n            keywords,\\n            referenced_articles\\n        ORDER BY final_score DESC\\n        LIMIT $limit\\n        \"\n"
     ]
    },
    {
     "name": "stdout",
     "output_type": "stream",
     "text": [
      "Context retrieval took 0.54 seconds.\n"
     ]
    },
    {
     "name": "stderr",
     "output_type": "stream",
     "text": [
      "Received notification from DBMS server: {severity: WARNING} {code: Neo.ClientNotification.Statement.AggregationSkippedNull} {category: UNRECOGNIZED} {title: The query contains an aggregation function that skips null values.} {description: null value eliminated in set function.} {position: None} for query: \"\\n        CALL db.index.vector.queryNodes('article_embedding', $limit * 2, $embedding)\\n        YIELD node AS article, score AS vector_score\\n        OPTIONAL MATCH (p:Precedent)-[:REFERENCES_ARTICLE]->(article)\\n        WITH article, vector_score, count(p) AS precedent_count\\n        WITH article, vector_score + (precedent_count * 0.05) AS final_score, precedent_count\\n        RETURN\\n            article.id AS id,\\n            'Article' AS type,\\n            article.text AS text,\\n            final_score AS score,\\n            precedent_count\\n        ORDER BY final_score DESC\\n        LIMIT $limit\\n        \"\n",
      "Received notification from DBMS server: {severity: WARNING} {code: Neo.ClientNotification.Statement.UnknownRelationshipTypeWarning} {category: UNRECOGNIZED} {title: The provided relationship type is not in the database.} {description: One of the relationship types in your query is not available in the database, make sure you didn't misspell it or that the label is available when you run this statement in your application (the missing relationship type is: HAS_KEYWORD)} {position: line: 4, column: 38, offset: 180} for query: \"\\n        CALL db.index.vector.queryNodes('precedent_embedding', $limit * 2, $embedding)\\n        YIELD node AS precedent, score AS vector_score\\n        OPTIONAL MATCH (precedent)-[:HAS_KEYWORD]->(k:Keyword)\\n        WHERE k.text IN $keywords\\n        WITH precedent, vector_score, collect(DISTINCT k.text) AS keywords\\n        WITH precedent, vector_score + (size(keywords) * 0.1) AS final_score, keywords\\n        OPTIONAL MATCH (precedent)-[:REFERENCES_ARTICLE]->(ref_a:Article)\\n        WITH precedent, final_score, keywords, collect(DISTINCT ref_a.id) AS referenced_articles\\n        RETURN\\n            precedent.id AS id,\\n            'Precedent' AS type,\\n            precedent.name AS name,\\n            coalesce(precedent.full_summary, precedent.judgment_summary) AS text,\\n            final_score AS score,\\n            keywords,\\n            referenced_articles\\n        ORDER BY final_score DESC\\n        LIMIT $limit\\n        \"\n",
      "Received notification from DBMS server: {severity: WARNING} {code: Neo.ClientNotification.Statement.AggregationSkippedNull} {category: UNRECOGNIZED} {title: The query contains an aggregation function that skips null values.} {description: null value eliminated in set function.} {position: None} for query: \"\\n        CALL db.index.vector.queryNodes('precedent_embedding', $limit * 2, $embedding)\\n        YIELD node AS precedent, score AS vector_score\\n        OPTIONAL MATCH (precedent)-[:HAS_KEYWORD]->(k:Keyword)\\n        WHERE k.text IN $keywords\\n        WITH precedent, vector_score, collect(DISTINCT k.text) AS keywords\\n        WITH precedent, vector_score + (size(keywords) * 0.1) AS final_score, keywords\\n        OPTIONAL MATCH (precedent)-[:REFERENCES_ARTICLE]->(ref_a:Article)\\n        WITH precedent, final_score, keywords, collect(DISTINCT ref_a.id) AS referenced_articles\\n        RETURN\\n            precedent.id AS id,\\n            'Precedent' AS type,\\n            precedent.name AS name,\\n            coalesce(precedent.full_summary, precedent.judgment_summary) AS text,\\n            final_score AS score,\\n            keywords,\\n            referenced_articles\\n        ORDER BY final_score DESC\\n        LIMIT $limit\\n        \"\n"
     ]
    },
    {
     "name": "stdout",
     "output_type": "stream",
     "text": [
      "Context retrieval took 0.48 seconds.\n"
     ]
    },
    {
     "name": "stderr",
     "output_type": "stream",
     "text": [
      "Received notification from DBMS server: {severity: WARNING} {code: Neo.ClientNotification.Statement.AggregationSkippedNull} {category: UNRECOGNIZED} {title: The query contains an aggregation function that skips null values.} {description: null value eliminated in set function.} {position: None} for query: \"\\n        CALL db.index.vector.queryNodes('article_embedding', $limit * 2, $embedding)\\n        YIELD node AS article, score AS vector_score\\n        OPTIONAL MATCH (p:Precedent)-[:REFERENCES_ARTICLE]->(article)\\n        WITH article, vector_score, count(p) AS precedent_count\\n        WITH article, vector_score + (precedent_count * 0.05) AS final_score, precedent_count\\n        RETURN\\n            article.id AS id,\\n            'Article' AS type,\\n            article.text AS text,\\n            final_score AS score,\\n            precedent_count\\n        ORDER BY final_score DESC\\n        LIMIT $limit\\n        \"\n",
      "Received notification from DBMS server: {severity: WARNING} {code: Neo.ClientNotification.Statement.UnknownRelationshipTypeWarning} {category: UNRECOGNIZED} {title: The provided relationship type is not in the database.} {description: One of the relationship types in your query is not available in the database, make sure you didn't misspell it or that the label is available when you run this statement in your application (the missing relationship type is: HAS_KEYWORD)} {position: line: 4, column: 38, offset: 180} for query: \"\\n        CALL db.index.vector.queryNodes('precedent_embedding', $limit * 2, $embedding)\\n        YIELD node AS precedent, score AS vector_score\\n        OPTIONAL MATCH (precedent)-[:HAS_KEYWORD]->(k:Keyword)\\n        WHERE k.text IN $keywords\\n        WITH precedent, vector_score, collect(DISTINCT k.text) AS keywords\\n        WITH precedent, vector_score + (size(keywords) * 0.1) AS final_score, keywords\\n        OPTIONAL MATCH (precedent)-[:REFERENCES_ARTICLE]->(ref_a:Article)\\n        WITH precedent, final_score, keywords, collect(DISTINCT ref_a.id) AS referenced_articles\\n        RETURN\\n            precedent.id AS id,\\n            'Precedent' AS type,\\n            precedent.name AS name,\\n            coalesce(precedent.full_summary, precedent.judgment_summary) AS text,\\n            final_score AS score,\\n            keywords,\\n            referenced_articles\\n        ORDER BY final_score DESC\\n        LIMIT $limit\\n        \"\n",
      "Received notification from DBMS server: {severity: WARNING} {code: Neo.ClientNotification.Statement.AggregationSkippedNull} {category: UNRECOGNIZED} {title: The query contains an aggregation function that skips null values.} {description: null value eliminated in set function.} {position: None} for query: \"\\n        CALL db.index.vector.queryNodes('precedent_embedding', $limit * 2, $embedding)\\n        YIELD node AS precedent, score AS vector_score\\n        OPTIONAL MATCH (precedent)-[:HAS_KEYWORD]->(k:Keyword)\\n        WHERE k.text IN $keywords\\n        WITH precedent, vector_score, collect(DISTINCT k.text) AS keywords\\n        WITH precedent, vector_score + (size(keywords) * 0.1) AS final_score, keywords\\n        OPTIONAL MATCH (precedent)-[:REFERENCES_ARTICLE]->(ref_a:Article)\\n        WITH precedent, final_score, keywords, collect(DISTINCT ref_a.id) AS referenced_articles\\n        RETURN\\n            precedent.id AS id,\\n            'Precedent' AS type,\\n            precedent.name AS name,\\n            coalesce(precedent.full_summary, precedent.judgment_summary) AS text,\\n            final_score AS score,\\n            keywords,\\n            referenced_articles\\n        ORDER BY final_score DESC\\n        LIMIT $limit\\n        \"\n"
     ]
    },
    {
     "name": "stdout",
     "output_type": "stream",
     "text": [
      "Context retrieval took 0.70 seconds.\n"
     ]
    },
    {
     "name": "stderr",
     "output_type": "stream",
     "text": [
      "Received notification from DBMS server: {severity: WARNING} {code: Neo.ClientNotification.Statement.AggregationSkippedNull} {category: UNRECOGNIZED} {title: The query contains an aggregation function that skips null values.} {description: null value eliminated in set function.} {position: None} for query: \"\\n        CALL db.index.vector.queryNodes('article_embedding', $limit * 2, $embedding)\\n        YIELD node AS article, score AS vector_score\\n        OPTIONAL MATCH (p:Precedent)-[:REFERENCES_ARTICLE]->(article)\\n        WITH article, vector_score, count(p) AS precedent_count\\n        WITH article, vector_score + (precedent_count * 0.05) AS final_score, precedent_count\\n        RETURN\\n            article.id AS id,\\n            'Article' AS type,\\n            article.text AS text,\\n            final_score AS score,\\n            precedent_count\\n        ORDER BY final_score DESC\\n        LIMIT $limit\\n        \"\n",
      "Received notification from DBMS server: {severity: WARNING} {code: Neo.ClientNotification.Statement.UnknownRelationshipTypeWarning} {category: UNRECOGNIZED} {title: The provided relationship type is not in the database.} {description: One of the relationship types in your query is not available in the database, make sure you didn't misspell it or that the label is available when you run this statement in your application (the missing relationship type is: HAS_KEYWORD)} {position: line: 4, column: 38, offset: 180} for query: \"\\n        CALL db.index.vector.queryNodes('precedent_embedding', $limit * 2, $embedding)\\n        YIELD node AS precedent, score AS vector_score\\n        OPTIONAL MATCH (precedent)-[:HAS_KEYWORD]->(k:Keyword)\\n        WHERE k.text IN $keywords\\n        WITH precedent, vector_score, collect(DISTINCT k.text) AS keywords\\n        WITH precedent, vector_score + (size(keywords) * 0.1) AS final_score, keywords\\n        OPTIONAL MATCH (precedent)-[:REFERENCES_ARTICLE]->(ref_a:Article)\\n        WITH precedent, final_score, keywords, collect(DISTINCT ref_a.id) AS referenced_articles\\n        RETURN\\n            precedent.id AS id,\\n            'Precedent' AS type,\\n            precedent.name AS name,\\n            coalesce(precedent.full_summary, precedent.judgment_summary) AS text,\\n            final_score AS score,\\n            keywords,\\n            referenced_articles\\n        ORDER BY final_score DESC\\n        LIMIT $limit\\n        \"\n",
      "Received notification from DBMS server: {severity: WARNING} {code: Neo.ClientNotification.Statement.AggregationSkippedNull} {category: UNRECOGNIZED} {title: The query contains an aggregation function that skips null values.} {description: null value eliminated in set function.} {position: None} for query: \"\\n        CALL db.index.vector.queryNodes('precedent_embedding', $limit * 2, $embedding)\\n        YIELD node AS precedent, score AS vector_score\\n        OPTIONAL MATCH (precedent)-[:HAS_KEYWORD]->(k:Keyword)\\n        WHERE k.text IN $keywords\\n        WITH precedent, vector_score, collect(DISTINCT k.text) AS keywords\\n        WITH precedent, vector_score + (size(keywords) * 0.1) AS final_score, keywords\\n        OPTIONAL MATCH (precedent)-[:REFERENCES_ARTICLE]->(ref_a:Article)\\n        WITH precedent, final_score, keywords, collect(DISTINCT ref_a.id) AS referenced_articles\\n        RETURN\\n            precedent.id AS id,\\n            'Precedent' AS type,\\n            precedent.name AS name,\\n            coalesce(precedent.full_summary, precedent.judgment_summary) AS text,\\n            final_score AS score,\\n            keywords,\\n            referenced_articles\\n        ORDER BY final_score DESC\\n        LIMIT $limit\\n        \"\n"
     ]
    },
    {
     "name": "stdout",
     "output_type": "stream",
     "text": [
      "Context retrieval took 0.52 seconds.\n"
     ]
    },
    {
     "name": "stderr",
     "output_type": "stream",
     "text": [
      "Received notification from DBMS server: {severity: WARNING} {code: Neo.ClientNotification.Statement.UnknownRelationshipTypeWarning} {category: UNRECOGNIZED} {title: The provided relationship type is not in the database.} {description: One of the relationship types in your query is not available in the database, make sure you didn't misspell it or that the label is available when you run this statement in your application (the missing relationship type is: HAS_KEYWORD)} {position: line: 4, column: 38, offset: 180} for query: \"\\n        CALL db.index.vector.queryNodes('precedent_embedding', $limit * 2, $embedding)\\n        YIELD node AS precedent, score AS vector_score\\n        OPTIONAL MATCH (precedent)-[:HAS_KEYWORD]->(k:Keyword)\\n        WHERE k.text IN $keywords\\n        WITH precedent, vector_score, collect(DISTINCT k.text) AS keywords\\n        WITH precedent, vector_score + (size(keywords) * 0.1) AS final_score, keywords\\n        OPTIONAL MATCH (precedent)-[:REFERENCES_ARTICLE]->(ref_a:Article)\\n        WITH precedent, final_score, keywords, collect(DISTINCT ref_a.id) AS referenced_articles\\n        RETURN\\n            precedent.id AS id,\\n            'Precedent' AS type,\\n            precedent.name AS name,\\n            coalesce(precedent.full_summary, precedent.judgment_summary) AS text,\\n            final_score AS score,\\n            keywords,\\n            referenced_articles\\n        ORDER BY final_score DESC\\n        LIMIT $limit\\n        \"\n",
      "Received notification from DBMS server: {severity: WARNING} {code: Neo.ClientNotification.Statement.AggregationSkippedNull} {category: UNRECOGNIZED} {title: The query contains an aggregation function that skips null values.} {description: null value eliminated in set function.} {position: None} for query: \"\\n        CALL db.index.vector.queryNodes('precedent_embedding', $limit * 2, $embedding)\\n        YIELD node AS precedent, score AS vector_score\\n        OPTIONAL MATCH (precedent)-[:HAS_KEYWORD]->(k:Keyword)\\n        WHERE k.text IN $keywords\\n        WITH precedent, vector_score, collect(DISTINCT k.text) AS keywords\\n        WITH precedent, vector_score + (size(keywords) * 0.1) AS final_score, keywords\\n        OPTIONAL MATCH (precedent)-[:REFERENCES_ARTICLE]->(ref_a:Article)\\n        WITH precedent, final_score, keywords, collect(DISTINCT ref_a.id) AS referenced_articles\\n        RETURN\\n            precedent.id AS id,\\n            'Precedent' AS type,\\n            precedent.name AS name,\\n            coalesce(precedent.full_summary, precedent.judgment_summary) AS text,\\n            final_score AS score,\\n            keywords,\\n            referenced_articles\\n        ORDER BY final_score DESC\\n        LIMIT $limit\\n        \"\n"
     ]
    },
    {
     "name": "stdout",
     "output_type": "stream",
     "text": [
      "Context retrieval took 0.54 seconds.\n"
     ]
    },
    {
     "name": "stderr",
     "output_type": "stream",
     "text": [
      "Received notification from DBMS server: {severity: WARNING} {code: Neo.ClientNotification.Statement.AggregationSkippedNull} {category: UNRECOGNIZED} {title: The query contains an aggregation function that skips null values.} {description: null value eliminated in set function.} {position: None} for query: \"\\n        CALL db.index.vector.queryNodes('article_embedding', $limit * 2, $embedding)\\n        YIELD node AS article, score AS vector_score\\n        OPTIONAL MATCH (p:Precedent)-[:REFERENCES_ARTICLE]->(article)\\n        WITH article, vector_score, count(p) AS precedent_count\\n        WITH article, vector_score + (precedent_count * 0.05) AS final_score, precedent_count\\n        RETURN\\n            article.id AS id,\\n            'Article' AS type,\\n            article.text AS text,\\n            final_score AS score,\\n            precedent_count\\n        ORDER BY final_score DESC\\n        LIMIT $limit\\n        \"\n",
      "Received notification from DBMS server: {severity: WARNING} {code: Neo.ClientNotification.Statement.UnknownRelationshipTypeWarning} {category: UNRECOGNIZED} {title: The provided relationship type is not in the database.} {description: One of the relationship types in your query is not available in the database, make sure you didn't misspell it or that the label is available when you run this statement in your application (the missing relationship type is: HAS_KEYWORD)} {position: line: 4, column: 38, offset: 180} for query: \"\\n        CALL db.index.vector.queryNodes('precedent_embedding', $limit * 2, $embedding)\\n        YIELD node AS precedent, score AS vector_score\\n        OPTIONAL MATCH (precedent)-[:HAS_KEYWORD]->(k:Keyword)\\n        WHERE k.text IN $keywords\\n        WITH precedent, vector_score, collect(DISTINCT k.text) AS keywords\\n        WITH precedent, vector_score + (size(keywords) * 0.1) AS final_score, keywords\\n        OPTIONAL MATCH (precedent)-[:REFERENCES_ARTICLE]->(ref_a:Article)\\n        WITH precedent, final_score, keywords, collect(DISTINCT ref_a.id) AS referenced_articles\\n        RETURN\\n            precedent.id AS id,\\n            'Precedent' AS type,\\n            precedent.name AS name,\\n            coalesce(precedent.full_summary, precedent.judgment_summary) AS text,\\n            final_score AS score,\\n            keywords,\\n            referenced_articles\\n        ORDER BY final_score DESC\\n        LIMIT $limit\\n        \"\n",
      "Received notification from DBMS server: {severity: WARNING} {code: Neo.ClientNotification.Statement.AggregationSkippedNull} {category: UNRECOGNIZED} {title: The query contains an aggregation function that skips null values.} {description: null value eliminated in set function.} {position: None} for query: \"\\n        CALL db.index.vector.queryNodes('precedent_embedding', $limit * 2, $embedding)\\n        YIELD node AS precedent, score AS vector_score\\n        OPTIONAL MATCH (precedent)-[:HAS_KEYWORD]->(k:Keyword)\\n        WHERE k.text IN $keywords\\n        WITH precedent, vector_score, collect(DISTINCT k.text) AS keywords\\n        WITH precedent, vector_score + (size(keywords) * 0.1) AS final_score, keywords\\n        OPTIONAL MATCH (precedent)-[:REFERENCES_ARTICLE]->(ref_a:Article)\\n        WITH precedent, final_score, keywords, collect(DISTINCT ref_a.id) AS referenced_articles\\n        RETURN\\n            precedent.id AS id,\\n            'Precedent' AS type,\\n            precedent.name AS name,\\n            coalesce(precedent.full_summary, precedent.judgment_summary) AS text,\\n            final_score AS score,\\n            keywords,\\n            referenced_articles\\n        ORDER BY final_score DESC\\n        LIMIT $limit\\n        \"\n"
     ]
    },
    {
     "name": "stdout",
     "output_type": "stream",
     "text": [
      "Context retrieval took 0.84 seconds.\n"
     ]
    },
    {
     "name": "stderr",
     "output_type": "stream",
     "text": [
      "Received notification from DBMS server: {severity: WARNING} {code: Neo.ClientNotification.Statement.AggregationSkippedNull} {category: UNRECOGNIZED} {title: The query contains an aggregation function that skips null values.} {description: null value eliminated in set function.} {position: None} for query: \"\\n        CALL db.index.vector.queryNodes('article_embedding', $limit * 2, $embedding)\\n        YIELD node AS article, score AS vector_score\\n        OPTIONAL MATCH (p:Precedent)-[:REFERENCES_ARTICLE]->(article)\\n        WITH article, vector_score, count(p) AS precedent_count\\n        WITH article, vector_score + (precedent_count * 0.05) AS final_score, precedent_count\\n        RETURN\\n            article.id AS id,\\n            'Article' AS type,\\n            article.text AS text,\\n            final_score AS score,\\n            precedent_count\\n        ORDER BY final_score DESC\\n        LIMIT $limit\\n        \"\n",
      "Received notification from DBMS server: {severity: WARNING} {code: Neo.ClientNotification.Statement.UnknownRelationshipTypeWarning} {category: UNRECOGNIZED} {title: The provided relationship type is not in the database.} {description: One of the relationship types in your query is not available in the database, make sure you didn't misspell it or that the label is available when you run this statement in your application (the missing relationship type is: HAS_KEYWORD)} {position: line: 4, column: 38, offset: 180} for query: \"\\n        CALL db.index.vector.queryNodes('precedent_embedding', $limit * 2, $embedding)\\n        YIELD node AS precedent, score AS vector_score\\n        OPTIONAL MATCH (precedent)-[:HAS_KEYWORD]->(k:Keyword)\\n        WHERE k.text IN $keywords\\n        WITH precedent, vector_score, collect(DISTINCT k.text) AS keywords\\n        WITH precedent, vector_score + (size(keywords) * 0.1) AS final_score, keywords\\n        OPTIONAL MATCH (precedent)-[:REFERENCES_ARTICLE]->(ref_a:Article)\\n        WITH precedent, final_score, keywords, collect(DISTINCT ref_a.id) AS referenced_articles\\n        RETURN\\n            precedent.id AS id,\\n            'Precedent' AS type,\\n            precedent.name AS name,\\n            coalesce(precedent.full_summary, precedent.judgment_summary) AS text,\\n            final_score AS score,\\n            keywords,\\n            referenced_articles\\n        ORDER BY final_score DESC\\n        LIMIT $limit\\n        \"\n",
      "Received notification from DBMS server: {severity: WARNING} {code: Neo.ClientNotification.Statement.AggregationSkippedNull} {category: UNRECOGNIZED} {title: The query contains an aggregation function that skips null values.} {description: null value eliminated in set function.} {position: None} for query: \"\\n        CALL db.index.vector.queryNodes('precedent_embedding', $limit * 2, $embedding)\\n        YIELD node AS precedent, score AS vector_score\\n        OPTIONAL MATCH (precedent)-[:HAS_KEYWORD]->(k:Keyword)\\n        WHERE k.text IN $keywords\\n        WITH precedent, vector_score, collect(DISTINCT k.text) AS keywords\\n        WITH precedent, vector_score + (size(keywords) * 0.1) AS final_score, keywords\\n        OPTIONAL MATCH (precedent)-[:REFERENCES_ARTICLE]->(ref_a:Article)\\n        WITH precedent, final_score, keywords, collect(DISTINCT ref_a.id) AS referenced_articles\\n        RETURN\\n            precedent.id AS id,\\n            'Precedent' AS type,\\n            precedent.name AS name,\\n            coalesce(precedent.full_summary, precedent.judgment_summary) AS text,\\n            final_score AS score,\\n            keywords,\\n            referenced_articles\\n        ORDER BY final_score DESC\\n        LIMIT $limit\\n        \"\n"
     ]
    },
    {
     "name": "stdout",
     "output_type": "stream",
     "text": [
      "Context retrieval took 0.82 seconds.\n"
     ]
    },
    {
     "name": "stderr",
     "output_type": "stream",
     "text": [
      "Received notification from DBMS server: {severity: WARNING} {code: Neo.ClientNotification.Statement.AggregationSkippedNull} {category: UNRECOGNIZED} {title: The query contains an aggregation function that skips null values.} {description: null value eliminated in set function.} {position: None} for query: \"\\n        CALL db.index.vector.queryNodes('article_embedding', $limit * 2, $embedding)\\n        YIELD node AS article, score AS vector_score\\n        OPTIONAL MATCH (p:Precedent)-[:REFERENCES_ARTICLE]->(article)\\n        WITH article, vector_score, count(p) AS precedent_count\\n        WITH article, vector_score + (precedent_count * 0.05) AS final_score, precedent_count\\n        RETURN\\n            article.id AS id,\\n            'Article' AS type,\\n            article.text AS text,\\n            final_score AS score,\\n            precedent_count\\n        ORDER BY final_score DESC\\n        LIMIT $limit\\n        \"\n",
      "Received notification from DBMS server: {severity: WARNING} {code: Neo.ClientNotification.Statement.UnknownRelationshipTypeWarning} {category: UNRECOGNIZED} {title: The provided relationship type is not in the database.} {description: One of the relationship types in your query is not available in the database, make sure you didn't misspell it or that the label is available when you run this statement in your application (the missing relationship type is: HAS_KEYWORD)} {position: line: 4, column: 38, offset: 180} for query: \"\\n        CALL db.index.vector.queryNodes('precedent_embedding', $limit * 2, $embedding)\\n        YIELD node AS precedent, score AS vector_score\\n        OPTIONAL MATCH (precedent)-[:HAS_KEYWORD]->(k:Keyword)\\n        WHERE k.text IN $keywords\\n        WITH precedent, vector_score, collect(DISTINCT k.text) AS keywords\\n        WITH precedent, vector_score + (size(keywords) * 0.1) AS final_score, keywords\\n        OPTIONAL MATCH (precedent)-[:REFERENCES_ARTICLE]->(ref_a:Article)\\n        WITH precedent, final_score, keywords, collect(DISTINCT ref_a.id) AS referenced_articles\\n        RETURN\\n            precedent.id AS id,\\n            'Precedent' AS type,\\n            precedent.name AS name,\\n            coalesce(precedent.full_summary, precedent.judgment_summary) AS text,\\n            final_score AS score,\\n            keywords,\\n            referenced_articles\\n        ORDER BY final_score DESC\\n        LIMIT $limit\\n        \"\n",
      "Received notification from DBMS server: {severity: WARNING} {code: Neo.ClientNotification.Statement.AggregationSkippedNull} {category: UNRECOGNIZED} {title: The query contains an aggregation function that skips null values.} {description: null value eliminated in set function.} {position: None} for query: \"\\n        CALL db.index.vector.queryNodes('precedent_embedding', $limit * 2, $embedding)\\n        YIELD node AS precedent, score AS vector_score\\n        OPTIONAL MATCH (precedent)-[:HAS_KEYWORD]->(k:Keyword)\\n        WHERE k.text IN $keywords\\n        WITH precedent, vector_score, collect(DISTINCT k.text) AS keywords\\n        WITH precedent, vector_score + (size(keywords) * 0.1) AS final_score, keywords\\n        OPTIONAL MATCH (precedent)-[:REFERENCES_ARTICLE]->(ref_a:Article)\\n        WITH precedent, final_score, keywords, collect(DISTINCT ref_a.id) AS referenced_articles\\n        RETURN\\n            precedent.id AS id,\\n            'Precedent' AS type,\\n            precedent.name AS name,\\n            coalesce(precedent.full_summary, precedent.judgment_summary) AS text,\\n            final_score AS score,\\n            keywords,\\n            referenced_articles\\n        ORDER BY final_score DESC\\n        LIMIT $limit\\n        \"\n"
     ]
    },
    {
     "name": "stdout",
     "output_type": "stream",
     "text": [
      "Context retrieval took 0.59 seconds.\n"
     ]
    },
    {
     "name": "stderr",
     "output_type": "stream",
     "text": [
      "Received notification from DBMS server: {severity: WARNING} {code: Neo.ClientNotification.Statement.UnknownRelationshipTypeWarning} {category: UNRECOGNIZED} {title: The provided relationship type is not in the database.} {description: One of the relationship types in your query is not available in the database, make sure you didn't misspell it or that the label is available when you run this statement in your application (the missing relationship type is: HAS_KEYWORD)} {position: line: 4, column: 38, offset: 180} for query: \"\\n        CALL db.index.vector.queryNodes('precedent_embedding', $limit * 2, $embedding)\\n        YIELD node AS precedent, score AS vector_score\\n        OPTIONAL MATCH (precedent)-[:HAS_KEYWORD]->(k:Keyword)\\n        WHERE k.text IN $keywords\\n        WITH precedent, vector_score, collect(DISTINCT k.text) AS keywords\\n        WITH precedent, vector_score + (size(keywords) * 0.1) AS final_score, keywords\\n        OPTIONAL MATCH (precedent)-[:REFERENCES_ARTICLE]->(ref_a:Article)\\n        WITH precedent, final_score, keywords, collect(DISTINCT ref_a.id) AS referenced_articles\\n        RETURN\\n            precedent.id AS id,\\n            'Precedent' AS type,\\n            precedent.name AS name,\\n            coalesce(precedent.full_summary, precedent.judgment_summary) AS text,\\n            final_score AS score,\\n            keywords,\\n            referenced_articles\\n        ORDER BY final_score DESC\\n        LIMIT $limit\\n        \"\n",
      "Received notification from DBMS server: {severity: WARNING} {code: Neo.ClientNotification.Statement.AggregationSkippedNull} {category: UNRECOGNIZED} {title: The query contains an aggregation function that skips null values.} {description: null value eliminated in set function.} {position: None} for query: \"\\n        CALL db.index.vector.queryNodes('precedent_embedding', $limit * 2, $embedding)\\n        YIELD node AS precedent, score AS vector_score\\n        OPTIONAL MATCH (precedent)-[:HAS_KEYWORD]->(k:Keyword)\\n        WHERE k.text IN $keywords\\n        WITH precedent, vector_score, collect(DISTINCT k.text) AS keywords\\n        WITH precedent, vector_score + (size(keywords) * 0.1) AS final_score, keywords\\n        OPTIONAL MATCH (precedent)-[:REFERENCES_ARTICLE]->(ref_a:Article)\\n        WITH precedent, final_score, keywords, collect(DISTINCT ref_a.id) AS referenced_articles\\n        RETURN\\n            precedent.id AS id,\\n            'Precedent' AS type,\\n            precedent.name AS name,\\n            coalesce(precedent.full_summary, precedent.judgment_summary) AS text,\\n            final_score AS score,\\n            keywords,\\n            referenced_articles\\n        ORDER BY final_score DESC\\n        LIMIT $limit\\n        \"\n"
     ]
    },
    {
     "name": "stdout",
     "output_type": "stream",
     "text": [
      "Context retrieval took 0.62 seconds.\n"
     ]
    },
    {
     "name": "stderr",
     "output_type": "stream",
     "text": [
      "Received notification from DBMS server: {severity: WARNING} {code: Neo.ClientNotification.Statement.UnknownRelationshipTypeWarning} {category: UNRECOGNIZED} {title: The provided relationship type is not in the database.} {description: One of the relationship types in your query is not available in the database, make sure you didn't misspell it or that the label is available when you run this statement in your application (the missing relationship type is: HAS_KEYWORD)} {position: line: 4, column: 38, offset: 180} for query: \"\\n        CALL db.index.vector.queryNodes('precedent_embedding', $limit * 2, $embedding)\\n        YIELD node AS precedent, score AS vector_score\\n        OPTIONAL MATCH (precedent)-[:HAS_KEYWORD]->(k:Keyword)\\n        WHERE k.text IN $keywords\\n        WITH precedent, vector_score, collect(DISTINCT k.text) AS keywords\\n        WITH precedent, vector_score + (size(keywords) * 0.1) AS final_score, keywords\\n        OPTIONAL MATCH (precedent)-[:REFERENCES_ARTICLE]->(ref_a:Article)\\n        WITH precedent, final_score, keywords, collect(DISTINCT ref_a.id) AS referenced_articles\\n        RETURN\\n            precedent.id AS id,\\n            'Precedent' AS type,\\n            precedent.name AS name,\\n            coalesce(precedent.full_summary, precedent.judgment_summary) AS text,\\n            final_score AS score,\\n            keywords,\\n            referenced_articles\\n        ORDER BY final_score DESC\\n        LIMIT $limit\\n        \"\n",
      "Received notification from DBMS server: {severity: WARNING} {code: Neo.ClientNotification.Statement.AggregationSkippedNull} {category: UNRECOGNIZED} {title: The query contains an aggregation function that skips null values.} {description: null value eliminated in set function.} {position: None} for query: \"\\n        CALL db.index.vector.queryNodes('precedent_embedding', $limit * 2, $embedding)\\n        YIELD node AS precedent, score AS vector_score\\n        OPTIONAL MATCH (precedent)-[:HAS_KEYWORD]->(k:Keyword)\\n        WHERE k.text IN $keywords\\n        WITH precedent, vector_score, collect(DISTINCT k.text) AS keywords\\n        WITH precedent, vector_score + (size(keywords) * 0.1) AS final_score, keywords\\n        OPTIONAL MATCH (precedent)-[:REFERENCES_ARTICLE]->(ref_a:Article)\\n        WITH precedent, final_score, keywords, collect(DISTINCT ref_a.id) AS referenced_articles\\n        RETURN\\n            precedent.id AS id,\\n            'Precedent' AS type,\\n            precedent.name AS name,\\n            coalesce(precedent.full_summary, precedent.judgment_summary) AS text,\\n            final_score AS score,\\n            keywords,\\n            referenced_articles\\n        ORDER BY final_score DESC\\n        LIMIT $limit\\n        \"\n"
     ]
    },
    {
     "name": "stdout",
     "output_type": "stream",
     "text": [
      "Context retrieval took 0.52 seconds.\n"
     ]
    },
    {
     "name": "stderr",
     "output_type": "stream",
     "text": [
      "Received notification from DBMS server: {severity: WARNING} {code: Neo.ClientNotification.Statement.UnknownRelationshipTypeWarning} {category: UNRECOGNIZED} {title: The provided relationship type is not in the database.} {description: One of the relationship types in your query is not available in the database, make sure you didn't misspell it or that the label is available when you run this statement in your application (the missing relationship type is: HAS_KEYWORD)} {position: line: 4, column: 38, offset: 180} for query: \"\\n        CALL db.index.vector.queryNodes('precedent_embedding', $limit * 2, $embedding)\\n        YIELD node AS precedent, score AS vector_score\\n        OPTIONAL MATCH (precedent)-[:HAS_KEYWORD]->(k:Keyword)\\n        WHERE k.text IN $keywords\\n        WITH precedent, vector_score, collect(DISTINCT k.text) AS keywords\\n        WITH precedent, vector_score + (size(keywords) * 0.1) AS final_score, keywords\\n        OPTIONAL MATCH (precedent)-[:REFERENCES_ARTICLE]->(ref_a:Article)\\n        WITH precedent, final_score, keywords, collect(DISTINCT ref_a.id) AS referenced_articles\\n        RETURN\\n            precedent.id AS id,\\n            'Precedent' AS type,\\n            precedent.name AS name,\\n            coalesce(precedent.full_summary, precedent.judgment_summary) AS text,\\n            final_score AS score,\\n            keywords,\\n            referenced_articles\\n        ORDER BY final_score DESC\\n        LIMIT $limit\\n        \"\n",
      "Received notification from DBMS server: {severity: WARNING} {code: Neo.ClientNotification.Statement.AggregationSkippedNull} {category: UNRECOGNIZED} {title: The query contains an aggregation function that skips null values.} {description: null value eliminated in set function.} {position: None} for query: \"\\n        CALL db.index.vector.queryNodes('precedent_embedding', $limit * 2, $embedding)\\n        YIELD node AS precedent, score AS vector_score\\n        OPTIONAL MATCH (precedent)-[:HAS_KEYWORD]->(k:Keyword)\\n        WHERE k.text IN $keywords\\n        WITH precedent, vector_score, collect(DISTINCT k.text) AS keywords\\n        WITH precedent, vector_score + (size(keywords) * 0.1) AS final_score, keywords\\n        OPTIONAL MATCH (precedent)-[:REFERENCES_ARTICLE]->(ref_a:Article)\\n        WITH precedent, final_score, keywords, collect(DISTINCT ref_a.id) AS referenced_articles\\n        RETURN\\n            precedent.id AS id,\\n            'Precedent' AS type,\\n            precedent.name AS name,\\n            coalesce(precedent.full_summary, precedent.judgment_summary) AS text,\\n            final_score AS score,\\n            keywords,\\n            referenced_articles\\n        ORDER BY final_score DESC\\n        LIMIT $limit\\n        \"\n"
     ]
    },
    {
     "name": "stdout",
     "output_type": "stream",
     "text": [
      "Context retrieval took 0.52 seconds.\n"
     ]
    },
    {
     "name": "stderr",
     "output_type": "stream",
     "text": [
      "Received notification from DBMS server: {severity: WARNING} {code: Neo.ClientNotification.Statement.UnknownRelationshipTypeWarning} {category: UNRECOGNIZED} {title: The provided relationship type is not in the database.} {description: One of the relationship types in your query is not available in the database, make sure you didn't misspell it or that the label is available when you run this statement in your application (the missing relationship type is: HAS_KEYWORD)} {position: line: 4, column: 38, offset: 180} for query: \"\\n        CALL db.index.vector.queryNodes('precedent_embedding', $limit * 2, $embedding)\\n        YIELD node AS precedent, score AS vector_score\\n        OPTIONAL MATCH (precedent)-[:HAS_KEYWORD]->(k:Keyword)\\n        WHERE k.text IN $keywords\\n        WITH precedent, vector_score, collect(DISTINCT k.text) AS keywords\\n        WITH precedent, vector_score + (size(keywords) * 0.1) AS final_score, keywords\\n        OPTIONAL MATCH (precedent)-[:REFERENCES_ARTICLE]->(ref_a:Article)\\n        WITH precedent, final_score, keywords, collect(DISTINCT ref_a.id) AS referenced_articles\\n        RETURN\\n            precedent.id AS id,\\n            'Precedent' AS type,\\n            precedent.name AS name,\\n            coalesce(precedent.full_summary, precedent.judgment_summary) AS text,\\n            final_score AS score,\\n            keywords,\\n            referenced_articles\\n        ORDER BY final_score DESC\\n        LIMIT $limit\\n        \"\n",
      "Received notification from DBMS server: {severity: WARNING} {code: Neo.ClientNotification.Statement.AggregationSkippedNull} {category: UNRECOGNIZED} {title: The query contains an aggregation function that skips null values.} {description: null value eliminated in set function.} {position: None} for query: \"\\n        CALL db.index.vector.queryNodes('precedent_embedding', $limit * 2, $embedding)\\n        YIELD node AS precedent, score AS vector_score\\n        OPTIONAL MATCH (precedent)-[:HAS_KEYWORD]->(k:Keyword)\\n        WHERE k.text IN $keywords\\n        WITH precedent, vector_score, collect(DISTINCT k.text) AS keywords\\n        WITH precedent, vector_score + (size(keywords) * 0.1) AS final_score, keywords\\n        OPTIONAL MATCH (precedent)-[:REFERENCES_ARTICLE]->(ref_a:Article)\\n        WITH precedent, final_score, keywords, collect(DISTINCT ref_a.id) AS referenced_articles\\n        RETURN\\n            precedent.id AS id,\\n            'Precedent' AS type,\\n            precedent.name AS name,\\n            coalesce(precedent.full_summary, precedent.judgment_summary) AS text,\\n            final_score AS score,\\n            keywords,\\n            referenced_articles\\n        ORDER BY final_score DESC\\n        LIMIT $limit\\n        \"\n"
     ]
    },
    {
     "name": "stdout",
     "output_type": "stream",
     "text": [
      "Context retrieval took 0.51 seconds.\n"
     ]
    },
    {
     "name": "stderr",
     "output_type": "stream",
     "text": [
      "Received notification from DBMS server: {severity: WARNING} {code: Neo.ClientNotification.Statement.UnknownRelationshipTypeWarning} {category: UNRECOGNIZED} {title: The provided relationship type is not in the database.} {description: One of the relationship types in your query is not available in the database, make sure you didn't misspell it or that the label is available when you run this statement in your application (the missing relationship type is: HAS_KEYWORD)} {position: line: 4, column: 38, offset: 180} for query: \"\\n        CALL db.index.vector.queryNodes('precedent_embedding', $limit * 2, $embedding)\\n        YIELD node AS precedent, score AS vector_score\\n        OPTIONAL MATCH (precedent)-[:HAS_KEYWORD]->(k:Keyword)\\n        WHERE k.text IN $keywords\\n        WITH precedent, vector_score, collect(DISTINCT k.text) AS keywords\\n        WITH precedent, vector_score + (size(keywords) * 0.1) AS final_score, keywords\\n        OPTIONAL MATCH (precedent)-[:REFERENCES_ARTICLE]->(ref_a:Article)\\n        WITH precedent, final_score, keywords, collect(DISTINCT ref_a.id) AS referenced_articles\\n        RETURN\\n            precedent.id AS id,\\n            'Precedent' AS type,\\n            precedent.name AS name,\\n            coalesce(precedent.full_summary, precedent.judgment_summary) AS text,\\n            final_score AS score,\\n            keywords,\\n            referenced_articles\\n        ORDER BY final_score DESC\\n        LIMIT $limit\\n        \"\n",
      "Received notification from DBMS server: {severity: WARNING} {code: Neo.ClientNotification.Statement.AggregationSkippedNull} {category: UNRECOGNIZED} {title: The query contains an aggregation function that skips null values.} {description: null value eliminated in set function.} {position: None} for query: \"\\n        CALL db.index.vector.queryNodes('precedent_embedding', $limit * 2, $embedding)\\n        YIELD node AS precedent, score AS vector_score\\n        OPTIONAL MATCH (precedent)-[:HAS_KEYWORD]->(k:Keyword)\\n        WHERE k.text IN $keywords\\n        WITH precedent, vector_score, collect(DISTINCT k.text) AS keywords\\n        WITH precedent, vector_score + (size(keywords) * 0.1) AS final_score, keywords\\n        OPTIONAL MATCH (precedent)-[:REFERENCES_ARTICLE]->(ref_a:Article)\\n        WITH precedent, final_score, keywords, collect(DISTINCT ref_a.id) AS referenced_articles\\n        RETURN\\n            precedent.id AS id,\\n            'Precedent' AS type,\\n            precedent.name AS name,\\n            coalesce(precedent.full_summary, precedent.judgment_summary) AS text,\\n            final_score AS score,\\n            keywords,\\n            referenced_articles\\n        ORDER BY final_score DESC\\n        LIMIT $limit\\n        \"\n"
     ]
    },
    {
     "name": "stdout",
     "output_type": "stream",
     "text": [
      "Context retrieval took 0.63 seconds.\n"
     ]
    },
    {
     "name": "stderr",
     "output_type": "stream",
     "text": [
      "Received notification from DBMS server: {severity: WARNING} {code: Neo.ClientNotification.Statement.AggregationSkippedNull} {category: UNRECOGNIZED} {title: The query contains an aggregation function that skips null values.} {description: null value eliminated in set function.} {position: None} for query: \"\\n        CALL db.index.vector.queryNodes('article_embedding', $limit * 2, $embedding)\\n        YIELD node AS article, score AS vector_score\\n        OPTIONAL MATCH (p:Precedent)-[:REFERENCES_ARTICLE]->(article)\\n        WITH article, vector_score, count(p) AS precedent_count\\n        WITH article, vector_score + (precedent_count * 0.05) AS final_score, precedent_count\\n        RETURN\\n            article.id AS id,\\n            'Article' AS type,\\n            article.text AS text,\\n            final_score AS score,\\n            precedent_count\\n        ORDER BY final_score DESC\\n        LIMIT $limit\\n        \"\n",
      "Received notification from DBMS server: {severity: WARNING} {code: Neo.ClientNotification.Statement.UnknownRelationshipTypeWarning} {category: UNRECOGNIZED} {title: The provided relationship type is not in the database.} {description: One of the relationship types in your query is not available in the database, make sure you didn't misspell it or that the label is available when you run this statement in your application (the missing relationship type is: HAS_KEYWORD)} {position: line: 4, column: 38, offset: 180} for query: \"\\n        CALL db.index.vector.queryNodes('precedent_embedding', $limit * 2, $embedding)\\n        YIELD node AS precedent, score AS vector_score\\n        OPTIONAL MATCH (precedent)-[:HAS_KEYWORD]->(k:Keyword)\\n        WHERE k.text IN $keywords\\n        WITH precedent, vector_score, collect(DISTINCT k.text) AS keywords\\n        WITH precedent, vector_score + (size(keywords) * 0.1) AS final_score, keywords\\n        OPTIONAL MATCH (precedent)-[:REFERENCES_ARTICLE]->(ref_a:Article)\\n        WITH precedent, final_score, keywords, collect(DISTINCT ref_a.id) AS referenced_articles\\n        RETURN\\n            precedent.id AS id,\\n            'Precedent' AS type,\\n            precedent.name AS name,\\n            coalesce(precedent.full_summary, precedent.judgment_summary) AS text,\\n            final_score AS score,\\n            keywords,\\n            referenced_articles\\n        ORDER BY final_score DESC\\n        LIMIT $limit\\n        \"\n",
      "Received notification from DBMS server: {severity: WARNING} {code: Neo.ClientNotification.Statement.AggregationSkippedNull} {category: UNRECOGNIZED} {title: The query contains an aggregation function that skips null values.} {description: null value eliminated in set function.} {position: None} for query: \"\\n        CALL db.index.vector.queryNodes('precedent_embedding', $limit * 2, $embedding)\\n        YIELD node AS precedent, score AS vector_score\\n        OPTIONAL MATCH (precedent)-[:HAS_KEYWORD]->(k:Keyword)\\n        WHERE k.text IN $keywords\\n        WITH precedent, vector_score, collect(DISTINCT k.text) AS keywords\\n        WITH precedent, vector_score + (size(keywords) * 0.1) AS final_score, keywords\\n        OPTIONAL MATCH (precedent)-[:REFERENCES_ARTICLE]->(ref_a:Article)\\n        WITH precedent, final_score, keywords, collect(DISTINCT ref_a.id) AS referenced_articles\\n        RETURN\\n            precedent.id AS id,\\n            'Precedent' AS type,\\n            precedent.name AS name,\\n            coalesce(precedent.full_summary, precedent.judgment_summary) AS text,\\n            final_score AS score,\\n            keywords,\\n            referenced_articles\\n        ORDER BY final_score DESC\\n        LIMIT $limit\\n        \"\n"
     ]
    },
    {
     "name": "stdout",
     "output_type": "stream",
     "text": [
      "Context retrieval took 0.59 seconds.\n"
     ]
    },
    {
     "name": "stderr",
     "output_type": "stream",
     "text": [
      "Received notification from DBMS server: {severity: WARNING} {code: Neo.ClientNotification.Statement.AggregationSkippedNull} {category: UNRECOGNIZED} {title: The query contains an aggregation function that skips null values.} {description: null value eliminated in set function.} {position: None} for query: \"\\n        CALL db.index.vector.queryNodes('article_embedding', $limit * 2, $embedding)\\n        YIELD node AS article, score AS vector_score\\n        OPTIONAL MATCH (p:Precedent)-[:REFERENCES_ARTICLE]->(article)\\n        WITH article, vector_score, count(p) AS precedent_count\\n        WITH article, vector_score + (precedent_count * 0.05) AS final_score, precedent_count\\n        RETURN\\n            article.id AS id,\\n            'Article' AS type,\\n            article.text AS text,\\n            final_score AS score,\\n            precedent_count\\n        ORDER BY final_score DESC\\n        LIMIT $limit\\n        \"\n",
      "Received notification from DBMS server: {severity: WARNING} {code: Neo.ClientNotification.Statement.UnknownRelationshipTypeWarning} {category: UNRECOGNIZED} {title: The provided relationship type is not in the database.} {description: One of the relationship types in your query is not available in the database, make sure you didn't misspell it or that the label is available when you run this statement in your application (the missing relationship type is: HAS_KEYWORD)} {position: line: 4, column: 38, offset: 180} for query: \"\\n        CALL db.index.vector.queryNodes('precedent_embedding', $limit * 2, $embedding)\\n        YIELD node AS precedent, score AS vector_score\\n        OPTIONAL MATCH (precedent)-[:HAS_KEYWORD]->(k:Keyword)\\n        WHERE k.text IN $keywords\\n        WITH precedent, vector_score, collect(DISTINCT k.text) AS keywords\\n        WITH precedent, vector_score + (size(keywords) * 0.1) AS final_score, keywords\\n        OPTIONAL MATCH (precedent)-[:REFERENCES_ARTICLE]->(ref_a:Article)\\n        WITH precedent, final_score, keywords, collect(DISTINCT ref_a.id) AS referenced_articles\\n        RETURN\\n            precedent.id AS id,\\n            'Precedent' AS type,\\n            precedent.name AS name,\\n            coalesce(precedent.full_summary, precedent.judgment_summary) AS text,\\n            final_score AS score,\\n            keywords,\\n            referenced_articles\\n        ORDER BY final_score DESC\\n        LIMIT $limit\\n        \"\n",
      "Received notification from DBMS server: {severity: WARNING} {code: Neo.ClientNotification.Statement.AggregationSkippedNull} {category: UNRECOGNIZED} {title: The query contains an aggregation function that skips null values.} {description: null value eliminated in set function.} {position: None} for query: \"\\n        CALL db.index.vector.queryNodes('precedent_embedding', $limit * 2, $embedding)\\n        YIELD node AS precedent, score AS vector_score\\n        OPTIONAL MATCH (precedent)-[:HAS_KEYWORD]->(k:Keyword)\\n        WHERE k.text IN $keywords\\n        WITH precedent, vector_score, collect(DISTINCT k.text) AS keywords\\n        WITH precedent, vector_score + (size(keywords) * 0.1) AS final_score, keywords\\n        OPTIONAL MATCH (precedent)-[:REFERENCES_ARTICLE]->(ref_a:Article)\\n        WITH precedent, final_score, keywords, collect(DISTINCT ref_a.id) AS referenced_articles\\n        RETURN\\n            precedent.id AS id,\\n            'Precedent' AS type,\\n            precedent.name AS name,\\n            coalesce(precedent.full_summary, precedent.judgment_summary) AS text,\\n            final_score AS score,\\n            keywords,\\n            referenced_articles\\n        ORDER BY final_score DESC\\n        LIMIT $limit\\n        \"\n"
     ]
    },
    {
     "name": "stdout",
     "output_type": "stream",
     "text": [
      "Context retrieval took 0.46 seconds.\n"
     ]
    },
    {
     "name": "stderr",
     "output_type": "stream",
     "text": [
      "Received notification from DBMS server: {severity: WARNING} {code: Neo.ClientNotification.Statement.UnknownRelationshipTypeWarning} {category: UNRECOGNIZED} {title: The provided relationship type is not in the database.} {description: One of the relationship types in your query is not available in the database, make sure you didn't misspell it or that the label is available when you run this statement in your application (the missing relationship type is: HAS_KEYWORD)} {position: line: 4, column: 38, offset: 180} for query: \"\\n        CALL db.index.vector.queryNodes('precedent_embedding', $limit * 2, $embedding)\\n        YIELD node AS precedent, score AS vector_score\\n        OPTIONAL MATCH (precedent)-[:HAS_KEYWORD]->(k:Keyword)\\n        WHERE k.text IN $keywords\\n        WITH precedent, vector_score, collect(DISTINCT k.text) AS keywords\\n        WITH precedent, vector_score + (size(keywords) * 0.1) AS final_score, keywords\\n        OPTIONAL MATCH (precedent)-[:REFERENCES_ARTICLE]->(ref_a:Article)\\n        WITH precedent, final_score, keywords, collect(DISTINCT ref_a.id) AS referenced_articles\\n        RETURN\\n            precedent.id AS id,\\n            'Precedent' AS type,\\n            precedent.name AS name,\\n            coalesce(precedent.full_summary, precedent.judgment_summary) AS text,\\n            final_score AS score,\\n            keywords,\\n            referenced_articles\\n        ORDER BY final_score DESC\\n        LIMIT $limit\\n        \"\n",
      "Received notification from DBMS server: {severity: WARNING} {code: Neo.ClientNotification.Statement.AggregationSkippedNull} {category: UNRECOGNIZED} {title: The query contains an aggregation function that skips null values.} {description: null value eliminated in set function.} {position: None} for query: \"\\n        CALL db.index.vector.queryNodes('precedent_embedding', $limit * 2, $embedding)\\n        YIELD node AS precedent, score AS vector_score\\n        OPTIONAL MATCH (precedent)-[:HAS_KEYWORD]->(k:Keyword)\\n        WHERE k.text IN $keywords\\n        WITH precedent, vector_score, collect(DISTINCT k.text) AS keywords\\n        WITH precedent, vector_score + (size(keywords) * 0.1) AS final_score, keywords\\n        OPTIONAL MATCH (precedent)-[:REFERENCES_ARTICLE]->(ref_a:Article)\\n        WITH precedent, final_score, keywords, collect(DISTINCT ref_a.id) AS referenced_articles\\n        RETURN\\n            precedent.id AS id,\\n            'Precedent' AS type,\\n            precedent.name AS name,\\n            coalesce(precedent.full_summary, precedent.judgment_summary) AS text,\\n            final_score AS score,\\n            keywords,\\n            referenced_articles\\n        ORDER BY final_score DESC\\n        LIMIT $limit\\n        \"\n"
     ]
    },
    {
     "name": "stdout",
     "output_type": "stream",
     "text": [
      "Context retrieval took 0.54 seconds.\n"
     ]
    },
    {
     "name": "stderr",
     "output_type": "stream",
     "text": [
      "Received notification from DBMS server: {severity: WARNING} {code: Neo.ClientNotification.Statement.AggregationSkippedNull} {category: UNRECOGNIZED} {title: The query contains an aggregation function that skips null values.} {description: null value eliminated in set function.} {position: None} for query: \"\\n        CALL db.index.vector.queryNodes('article_embedding', $limit * 2, $embedding)\\n        YIELD node AS article, score AS vector_score\\n        OPTIONAL MATCH (p:Precedent)-[:REFERENCES_ARTICLE]->(article)\\n        WITH article, vector_score, count(p) AS precedent_count\\n        WITH article, vector_score + (precedent_count * 0.05) AS final_score, precedent_count\\n        RETURN\\n            article.id AS id,\\n            'Article' AS type,\\n            article.text AS text,\\n            final_score AS score,\\n            precedent_count\\n        ORDER BY final_score DESC\\n        LIMIT $limit\\n        \"\n",
      "Received notification from DBMS server: {severity: WARNING} {code: Neo.ClientNotification.Statement.UnknownRelationshipTypeWarning} {category: UNRECOGNIZED} {title: The provided relationship type is not in the database.} {description: One of the relationship types in your query is not available in the database, make sure you didn't misspell it or that the label is available when you run this statement in your application (the missing relationship type is: HAS_KEYWORD)} {position: line: 4, column: 38, offset: 180} for query: \"\\n        CALL db.index.vector.queryNodes('precedent_embedding', $limit * 2, $embedding)\\n        YIELD node AS precedent, score AS vector_score\\n        OPTIONAL MATCH (precedent)-[:HAS_KEYWORD]->(k:Keyword)\\n        WHERE k.text IN $keywords\\n        WITH precedent, vector_score, collect(DISTINCT k.text) AS keywords\\n        WITH precedent, vector_score + (size(keywords) * 0.1) AS final_score, keywords\\n        OPTIONAL MATCH (precedent)-[:REFERENCES_ARTICLE]->(ref_a:Article)\\n        WITH precedent, final_score, keywords, collect(DISTINCT ref_a.id) AS referenced_articles\\n        RETURN\\n            precedent.id AS id,\\n            'Precedent' AS type,\\n            precedent.name AS name,\\n            coalesce(precedent.full_summary, precedent.judgment_summary) AS text,\\n            final_score AS score,\\n            keywords,\\n            referenced_articles\\n        ORDER BY final_score DESC\\n        LIMIT $limit\\n        \"\n",
      "Received notification from DBMS server: {severity: WARNING} {code: Neo.ClientNotification.Statement.AggregationSkippedNull} {category: UNRECOGNIZED} {title: The query contains an aggregation function that skips null values.} {description: null value eliminated in set function.} {position: None} for query: \"\\n        CALL db.index.vector.queryNodes('precedent_embedding', $limit * 2, $embedding)\\n        YIELD node AS precedent, score AS vector_score\\n        OPTIONAL MATCH (precedent)-[:HAS_KEYWORD]->(k:Keyword)\\n        WHERE k.text IN $keywords\\n        WITH precedent, vector_score, collect(DISTINCT k.text) AS keywords\\n        WITH precedent, vector_score + (size(keywords) * 0.1) AS final_score, keywords\\n        OPTIONAL MATCH (precedent)-[:REFERENCES_ARTICLE]->(ref_a:Article)\\n        WITH precedent, final_score, keywords, collect(DISTINCT ref_a.id) AS referenced_articles\\n        RETURN\\n            precedent.id AS id,\\n            'Precedent' AS type,\\n            precedent.name AS name,\\n            coalesce(precedent.full_summary, precedent.judgment_summary) AS text,\\n            final_score AS score,\\n            keywords,\\n            referenced_articles\\n        ORDER BY final_score DESC\\n        LIMIT $limit\\n        \"\n"
     ]
    },
    {
     "name": "stdout",
     "output_type": "stream",
     "text": [
      "Context retrieval took 0.78 seconds.\n"
     ]
    },
    {
     "name": "stderr",
     "output_type": "stream",
     "text": [
      "Received notification from DBMS server: {severity: WARNING} {code: Neo.ClientNotification.Statement.AggregationSkippedNull} {category: UNRECOGNIZED} {title: The query contains an aggregation function that skips null values.} {description: null value eliminated in set function.} {position: None} for query: \"\\n        CALL db.index.vector.queryNodes('article_embedding', $limit * 2, $embedding)\\n        YIELD node AS article, score AS vector_score\\n        OPTIONAL MATCH (p:Precedent)-[:REFERENCES_ARTICLE]->(article)\\n        WITH article, vector_score, count(p) AS precedent_count\\n        WITH article, vector_score + (precedent_count * 0.05) AS final_score, precedent_count\\n        RETURN\\n            article.id AS id,\\n            'Article' AS type,\\n            article.text AS text,\\n            final_score AS score,\\n            precedent_count\\n        ORDER BY final_score DESC\\n        LIMIT $limit\\n        \"\n",
      "Received notification from DBMS server: {severity: WARNING} {code: Neo.ClientNotification.Statement.UnknownRelationshipTypeWarning} {category: UNRECOGNIZED} {title: The provided relationship type is not in the database.} {description: One of the relationship types in your query is not available in the database, make sure you didn't misspell it or that the label is available when you run this statement in your application (the missing relationship type is: HAS_KEYWORD)} {position: line: 4, column: 38, offset: 180} for query: \"\\n        CALL db.index.vector.queryNodes('precedent_embedding', $limit * 2, $embedding)\\n        YIELD node AS precedent, score AS vector_score\\n        OPTIONAL MATCH (precedent)-[:HAS_KEYWORD]->(k:Keyword)\\n        WHERE k.text IN $keywords\\n        WITH precedent, vector_score, collect(DISTINCT k.text) AS keywords\\n        WITH precedent, vector_score + (size(keywords) * 0.1) AS final_score, keywords\\n        OPTIONAL MATCH (precedent)-[:REFERENCES_ARTICLE]->(ref_a:Article)\\n        WITH precedent, final_score, keywords, collect(DISTINCT ref_a.id) AS referenced_articles\\n        RETURN\\n            precedent.id AS id,\\n            'Precedent' AS type,\\n            precedent.name AS name,\\n            coalesce(precedent.full_summary, precedent.judgment_summary) AS text,\\n            final_score AS score,\\n            keywords,\\n            referenced_articles\\n        ORDER BY final_score DESC\\n        LIMIT $limit\\n        \"\n",
      "Received notification from DBMS server: {severity: WARNING} {code: Neo.ClientNotification.Statement.AggregationSkippedNull} {category: UNRECOGNIZED} {title: The query contains an aggregation function that skips null values.} {description: null value eliminated in set function.} {position: None} for query: \"\\n        CALL db.index.vector.queryNodes('precedent_embedding', $limit * 2, $embedding)\\n        YIELD node AS precedent, score AS vector_score\\n        OPTIONAL MATCH (precedent)-[:HAS_KEYWORD]->(k:Keyword)\\n        WHERE k.text IN $keywords\\n        WITH precedent, vector_score, collect(DISTINCT k.text) AS keywords\\n        WITH precedent, vector_score + (size(keywords) * 0.1) AS final_score, keywords\\n        OPTIONAL MATCH (precedent)-[:REFERENCES_ARTICLE]->(ref_a:Article)\\n        WITH precedent, final_score, keywords, collect(DISTINCT ref_a.id) AS referenced_articles\\n        RETURN\\n            precedent.id AS id,\\n            'Precedent' AS type,\\n            precedent.name AS name,\\n            coalesce(precedent.full_summary, precedent.judgment_summary) AS text,\\n            final_score AS score,\\n            keywords,\\n            referenced_articles\\n        ORDER BY final_score DESC\\n        LIMIT $limit\\n        \"\n"
     ]
    },
    {
     "name": "stdout",
     "output_type": "stream",
     "text": [
      "Context retrieval took 0.53 seconds.\n"
     ]
    },
    {
     "name": "stderr",
     "output_type": "stream",
     "text": [
      "Received notification from DBMS server: {severity: WARNING} {code: Neo.ClientNotification.Statement.AggregationSkippedNull} {category: UNRECOGNIZED} {title: The query contains an aggregation function that skips null values.} {description: null value eliminated in set function.} {position: None} for query: \"\\n        CALL db.index.vector.queryNodes('article_embedding', $limit * 2, $embedding)\\n        YIELD node AS article, score AS vector_score\\n        OPTIONAL MATCH (p:Precedent)-[:REFERENCES_ARTICLE]->(article)\\n        WITH article, vector_score, count(p) AS precedent_count\\n        WITH article, vector_score + (precedent_count * 0.05) AS final_score, precedent_count\\n        RETURN\\n            article.id AS id,\\n            'Article' AS type,\\n            article.text AS text,\\n            final_score AS score,\\n            precedent_count\\n        ORDER BY final_score DESC\\n        LIMIT $limit\\n        \"\n",
      "Received notification from DBMS server: {severity: WARNING} {code: Neo.ClientNotification.Statement.UnknownRelationshipTypeWarning} {category: UNRECOGNIZED} {title: The provided relationship type is not in the database.} {description: One of the relationship types in your query is not available in the database, make sure you didn't misspell it or that the label is available when you run this statement in your application (the missing relationship type is: HAS_KEYWORD)} {position: line: 4, column: 38, offset: 180} for query: \"\\n        CALL db.index.vector.queryNodes('precedent_embedding', $limit * 2, $embedding)\\n        YIELD node AS precedent, score AS vector_score\\n        OPTIONAL MATCH (precedent)-[:HAS_KEYWORD]->(k:Keyword)\\n        WHERE k.text IN $keywords\\n        WITH precedent, vector_score, collect(DISTINCT k.text) AS keywords\\n        WITH precedent, vector_score + (size(keywords) * 0.1) AS final_score, keywords\\n        OPTIONAL MATCH (precedent)-[:REFERENCES_ARTICLE]->(ref_a:Article)\\n        WITH precedent, final_score, keywords, collect(DISTINCT ref_a.id) AS referenced_articles\\n        RETURN\\n            precedent.id AS id,\\n            'Precedent' AS type,\\n            precedent.name AS name,\\n            coalesce(precedent.full_summary, precedent.judgment_summary) AS text,\\n            final_score AS score,\\n            keywords,\\n            referenced_articles\\n        ORDER BY final_score DESC\\n        LIMIT $limit\\n        \"\n",
      "Received notification from DBMS server: {severity: WARNING} {code: Neo.ClientNotification.Statement.AggregationSkippedNull} {category: UNRECOGNIZED} {title: The query contains an aggregation function that skips null values.} {description: null value eliminated in set function.} {position: None} for query: \"\\n        CALL db.index.vector.queryNodes('precedent_embedding', $limit * 2, $embedding)\\n        YIELD node AS precedent, score AS vector_score\\n        OPTIONAL MATCH (precedent)-[:HAS_KEYWORD]->(k:Keyword)\\n        WHERE k.text IN $keywords\\n        WITH precedent, vector_score, collect(DISTINCT k.text) AS keywords\\n        WITH precedent, vector_score + (size(keywords) * 0.1) AS final_score, keywords\\n        OPTIONAL MATCH (precedent)-[:REFERENCES_ARTICLE]->(ref_a:Article)\\n        WITH precedent, final_score, keywords, collect(DISTINCT ref_a.id) AS referenced_articles\\n        RETURN\\n            precedent.id AS id,\\n            'Precedent' AS type,\\n            precedent.name AS name,\\n            coalesce(precedent.full_summary, precedent.judgment_summary) AS text,\\n            final_score AS score,\\n            keywords,\\n            referenced_articles\\n        ORDER BY final_score DESC\\n        LIMIT $limit\\n        \"\n"
     ]
    },
    {
     "name": "stdout",
     "output_type": "stream",
     "text": [
      "Context retrieval took 0.63 seconds.\n"
     ]
    },
    {
     "name": "stderr",
     "output_type": "stream",
     "text": [
      "Received notification from DBMS server: {severity: WARNING} {code: Neo.ClientNotification.Statement.AggregationSkippedNull} {category: UNRECOGNIZED} {title: The query contains an aggregation function that skips null values.} {description: null value eliminated in set function.} {position: None} for query: \"\\n        CALL db.index.vector.queryNodes('article_embedding', $limit * 2, $embedding)\\n        YIELD node AS article, score AS vector_score\\n        OPTIONAL MATCH (p:Precedent)-[:REFERENCES_ARTICLE]->(article)\\n        WITH article, vector_score, count(p) AS precedent_count\\n        WITH article, vector_score + (precedent_count * 0.05) AS final_score, precedent_count\\n        RETURN\\n            article.id AS id,\\n            'Article' AS type,\\n            article.text AS text,\\n            final_score AS score,\\n            precedent_count\\n        ORDER BY final_score DESC\\n        LIMIT $limit\\n        \"\n",
      "Received notification from DBMS server: {severity: WARNING} {code: Neo.ClientNotification.Statement.UnknownRelationshipTypeWarning} {category: UNRECOGNIZED} {title: The provided relationship type is not in the database.} {description: One of the relationship types in your query is not available in the database, make sure you didn't misspell it or that the label is available when you run this statement in your application (the missing relationship type is: HAS_KEYWORD)} {position: line: 4, column: 38, offset: 180} for query: \"\\n        CALL db.index.vector.queryNodes('precedent_embedding', $limit * 2, $embedding)\\n        YIELD node AS precedent, score AS vector_score\\n        OPTIONAL MATCH (precedent)-[:HAS_KEYWORD]->(k:Keyword)\\n        WHERE k.text IN $keywords\\n        WITH precedent, vector_score, collect(DISTINCT k.text) AS keywords\\n        WITH precedent, vector_score + (size(keywords) * 0.1) AS final_score, keywords\\n        OPTIONAL MATCH (precedent)-[:REFERENCES_ARTICLE]->(ref_a:Article)\\n        WITH precedent, final_score, keywords, collect(DISTINCT ref_a.id) AS referenced_articles\\n        RETURN\\n            precedent.id AS id,\\n            'Precedent' AS type,\\n            precedent.name AS name,\\n            coalesce(precedent.full_summary, precedent.judgment_summary) AS text,\\n            final_score AS score,\\n            keywords,\\n            referenced_articles\\n        ORDER BY final_score DESC\\n        LIMIT $limit\\n        \"\n",
      "Received notification from DBMS server: {severity: WARNING} {code: Neo.ClientNotification.Statement.AggregationSkippedNull} {category: UNRECOGNIZED} {title: The query contains an aggregation function that skips null values.} {description: null value eliminated in set function.} {position: None} for query: \"\\n        CALL db.index.vector.queryNodes('precedent_embedding', $limit * 2, $embedding)\\n        YIELD node AS precedent, score AS vector_score\\n        OPTIONAL MATCH (precedent)-[:HAS_KEYWORD]->(k:Keyword)\\n        WHERE k.text IN $keywords\\n        WITH precedent, vector_score, collect(DISTINCT k.text) AS keywords\\n        WITH precedent, vector_score + (size(keywords) * 0.1) AS final_score, keywords\\n        OPTIONAL MATCH (precedent)-[:REFERENCES_ARTICLE]->(ref_a:Article)\\n        WITH precedent, final_score, keywords, collect(DISTINCT ref_a.id) AS referenced_articles\\n        RETURN\\n            precedent.id AS id,\\n            'Precedent' AS type,\\n            precedent.name AS name,\\n            coalesce(precedent.full_summary, precedent.judgment_summary) AS text,\\n            final_score AS score,\\n            keywords,\\n            referenced_articles\\n        ORDER BY final_score DESC\\n        LIMIT $limit\\n        \"\n"
     ]
    },
    {
     "name": "stdout",
     "output_type": "stream",
     "text": [
      "Context retrieval took 0.52 seconds.\n"
     ]
    },
    {
     "name": "stderr",
     "output_type": "stream",
     "text": [
      "Received notification from DBMS server: {severity: WARNING} {code: Neo.ClientNotification.Statement.UnknownRelationshipTypeWarning} {category: UNRECOGNIZED} {title: The provided relationship type is not in the database.} {description: One of the relationship types in your query is not available in the database, make sure you didn't misspell it or that the label is available when you run this statement in your application (the missing relationship type is: HAS_KEYWORD)} {position: line: 4, column: 38, offset: 180} for query: \"\\n        CALL db.index.vector.queryNodes('precedent_embedding', $limit * 2, $embedding)\\n        YIELD node AS precedent, score AS vector_score\\n        OPTIONAL MATCH (precedent)-[:HAS_KEYWORD]->(k:Keyword)\\n        WHERE k.text IN $keywords\\n        WITH precedent, vector_score, collect(DISTINCT k.text) AS keywords\\n        WITH precedent, vector_score + (size(keywords) * 0.1) AS final_score, keywords\\n        OPTIONAL MATCH (precedent)-[:REFERENCES_ARTICLE]->(ref_a:Article)\\n        WITH precedent, final_score, keywords, collect(DISTINCT ref_a.id) AS referenced_articles\\n        RETURN\\n            precedent.id AS id,\\n            'Precedent' AS type,\\n            precedent.name AS name,\\n            coalesce(precedent.full_summary, precedent.judgment_summary) AS text,\\n            final_score AS score,\\n            keywords,\\n            referenced_articles\\n        ORDER BY final_score DESC\\n        LIMIT $limit\\n        \"\n",
      "Received notification from DBMS server: {severity: WARNING} {code: Neo.ClientNotification.Statement.AggregationSkippedNull} {category: UNRECOGNIZED} {title: The query contains an aggregation function that skips null values.} {description: null value eliminated in set function.} {position: None} for query: \"\\n        CALL db.index.vector.queryNodes('precedent_embedding', $limit * 2, $embedding)\\n        YIELD node AS precedent, score AS vector_score\\n        OPTIONAL MATCH (precedent)-[:HAS_KEYWORD]->(k:Keyword)\\n        WHERE k.text IN $keywords\\n        WITH precedent, vector_score, collect(DISTINCT k.text) AS keywords\\n        WITH precedent, vector_score + (size(keywords) * 0.1) AS final_score, keywords\\n        OPTIONAL MATCH (precedent)-[:REFERENCES_ARTICLE]->(ref_a:Article)\\n        WITH precedent, final_score, keywords, collect(DISTINCT ref_a.id) AS referenced_articles\\n        RETURN\\n            precedent.id AS id,\\n            'Precedent' AS type,\\n            precedent.name AS name,\\n            coalesce(precedent.full_summary, precedent.judgment_summary) AS text,\\n            final_score AS score,\\n            keywords,\\n            referenced_articles\\n        ORDER BY final_score DESC\\n        LIMIT $limit\\n        \"\n"
     ]
    },
    {
     "name": "stdout",
     "output_type": "stream",
     "text": [
      "Context retrieval took 0.50 seconds.\n"
     ]
    },
    {
     "name": "stderr",
     "output_type": "stream",
     "text": [
      "Received notification from DBMS server: {severity: WARNING} {code: Neo.ClientNotification.Statement.AggregationSkippedNull} {category: UNRECOGNIZED} {title: The query contains an aggregation function that skips null values.} {description: null value eliminated in set function.} {position: None} for query: \"\\n        CALL db.index.vector.queryNodes('article_embedding', $limit * 2, $embedding)\\n        YIELD node AS article, score AS vector_score\\n        OPTIONAL MATCH (p:Precedent)-[:REFERENCES_ARTICLE]->(article)\\n        WITH article, vector_score, count(p) AS precedent_count\\n        WITH article, vector_score + (precedent_count * 0.05) AS final_score, precedent_count\\n        RETURN\\n            article.id AS id,\\n            'Article' AS type,\\n            article.text AS text,\\n            final_score AS score,\\n            precedent_count\\n        ORDER BY final_score DESC\\n        LIMIT $limit\\n        \"\n",
      "Received notification from DBMS server: {severity: WARNING} {code: Neo.ClientNotification.Statement.UnknownRelationshipTypeWarning} {category: UNRECOGNIZED} {title: The provided relationship type is not in the database.} {description: One of the relationship types in your query is not available in the database, make sure you didn't misspell it or that the label is available when you run this statement in your application (the missing relationship type is: HAS_KEYWORD)} {position: line: 4, column: 38, offset: 180} for query: \"\\n        CALL db.index.vector.queryNodes('precedent_embedding', $limit * 2, $embedding)\\n        YIELD node AS precedent, score AS vector_score\\n        OPTIONAL MATCH (precedent)-[:HAS_KEYWORD]->(k:Keyword)\\n        WHERE k.text IN $keywords\\n        WITH precedent, vector_score, collect(DISTINCT k.text) AS keywords\\n        WITH precedent, vector_score + (size(keywords) * 0.1) AS final_score, keywords\\n        OPTIONAL MATCH (precedent)-[:REFERENCES_ARTICLE]->(ref_a:Article)\\n        WITH precedent, final_score, keywords, collect(DISTINCT ref_a.id) AS referenced_articles\\n        RETURN\\n            precedent.id AS id,\\n            'Precedent' AS type,\\n            precedent.name AS name,\\n            coalesce(precedent.full_summary, precedent.judgment_summary) AS text,\\n            final_score AS score,\\n            keywords,\\n            referenced_articles\\n        ORDER BY final_score DESC\\n        LIMIT $limit\\n        \"\n",
      "Received notification from DBMS server: {severity: WARNING} {code: Neo.ClientNotification.Statement.AggregationSkippedNull} {category: UNRECOGNIZED} {title: The query contains an aggregation function that skips null values.} {description: null value eliminated in set function.} {position: None} for query: \"\\n        CALL db.index.vector.queryNodes('precedent_embedding', $limit * 2, $embedding)\\n        YIELD node AS precedent, score AS vector_score\\n        OPTIONAL MATCH (precedent)-[:HAS_KEYWORD]->(k:Keyword)\\n        WHERE k.text IN $keywords\\n        WITH precedent, vector_score, collect(DISTINCT k.text) AS keywords\\n        WITH precedent, vector_score + (size(keywords) * 0.1) AS final_score, keywords\\n        OPTIONAL MATCH (precedent)-[:REFERENCES_ARTICLE]->(ref_a:Article)\\n        WITH precedent, final_score, keywords, collect(DISTINCT ref_a.id) AS referenced_articles\\n        RETURN\\n            precedent.id AS id,\\n            'Precedent' AS type,\\n            precedent.name AS name,\\n            coalesce(precedent.full_summary, precedent.judgment_summary) AS text,\\n            final_score AS score,\\n            keywords,\\n            referenced_articles\\n        ORDER BY final_score DESC\\n        LIMIT $limit\\n        \"\n"
     ]
    },
    {
     "name": "stdout",
     "output_type": "stream",
     "text": [
      "Context retrieval took 0.31 seconds.\n"
     ]
    },
    {
     "name": "stderr",
     "output_type": "stream",
     "text": [
      "Received notification from DBMS server: {severity: WARNING} {code: Neo.ClientNotification.Statement.UnknownRelationshipTypeWarning} {category: UNRECOGNIZED} {title: The provided relationship type is not in the database.} {description: One of the relationship types in your query is not available in the database, make sure you didn't misspell it or that the label is available when you run this statement in your application (the missing relationship type is: HAS_KEYWORD)} {position: line: 4, column: 38, offset: 180} for query: \"\\n        CALL db.index.vector.queryNodes('precedent_embedding', $limit * 2, $embedding)\\n        YIELD node AS precedent, score AS vector_score\\n        OPTIONAL MATCH (precedent)-[:HAS_KEYWORD]->(k:Keyword)\\n        WHERE k.text IN $keywords\\n        WITH precedent, vector_score, collect(DISTINCT k.text) AS keywords\\n        WITH precedent, vector_score + (size(keywords) * 0.1) AS final_score, keywords\\n        OPTIONAL MATCH (precedent)-[:REFERENCES_ARTICLE]->(ref_a:Article)\\n        WITH precedent, final_score, keywords, collect(DISTINCT ref_a.id) AS referenced_articles\\n        RETURN\\n            precedent.id AS id,\\n            'Precedent' AS type,\\n            precedent.name AS name,\\n            coalesce(precedent.full_summary, precedent.judgment_summary) AS text,\\n            final_score AS score,\\n            keywords,\\n            referenced_articles\\n        ORDER BY final_score DESC\\n        LIMIT $limit\\n        \"\n",
      "Received notification from DBMS server: {severity: WARNING} {code: Neo.ClientNotification.Statement.AggregationSkippedNull} {category: UNRECOGNIZED} {title: The query contains an aggregation function that skips null values.} {description: null value eliminated in set function.} {position: None} for query: \"\\n        CALL db.index.vector.queryNodes('precedent_embedding', $limit * 2, $embedding)\\n        YIELD node AS precedent, score AS vector_score\\n        OPTIONAL MATCH (precedent)-[:HAS_KEYWORD]->(k:Keyword)\\n        WHERE k.text IN $keywords\\n        WITH precedent, vector_score, collect(DISTINCT k.text) AS keywords\\n        WITH precedent, vector_score + (size(keywords) * 0.1) AS final_score, keywords\\n        OPTIONAL MATCH (precedent)-[:REFERENCES_ARTICLE]->(ref_a:Article)\\n        WITH precedent, final_score, keywords, collect(DISTINCT ref_a.id) AS referenced_articles\\n        RETURN\\n            precedent.id AS id,\\n            'Precedent' AS type,\\n            precedent.name AS name,\\n            coalesce(precedent.full_summary, precedent.judgment_summary) AS text,\\n            final_score AS score,\\n            keywords,\\n            referenced_articles\\n        ORDER BY final_score DESC\\n        LIMIT $limit\\n        \"\n"
     ]
    },
    {
     "name": "stdout",
     "output_type": "stream",
     "text": [
      "Context retrieval took 1.09 seconds.\n"
     ]
    },
    {
     "name": "stderr",
     "output_type": "stream",
     "text": [
      "Received notification from DBMS server: {severity: WARNING} {code: Neo.ClientNotification.Statement.AggregationSkippedNull} {category: UNRECOGNIZED} {title: The query contains an aggregation function that skips null values.} {description: null value eliminated in set function.} {position: None} for query: \"\\n        CALL db.index.vector.queryNodes('article_embedding', $limit * 2, $embedding)\\n        YIELD node AS article, score AS vector_score\\n        OPTIONAL MATCH (p:Precedent)-[:REFERENCES_ARTICLE]->(article)\\n        WITH article, vector_score, count(p) AS precedent_count\\n        WITH article, vector_score + (precedent_count * 0.05) AS final_score, precedent_count\\n        RETURN\\n            article.id AS id,\\n            'Article' AS type,\\n            article.text AS text,\\n            final_score AS score,\\n            precedent_count\\n        ORDER BY final_score DESC\\n        LIMIT $limit\\n        \"\n",
      "Received notification from DBMS server: {severity: WARNING} {code: Neo.ClientNotification.Statement.UnknownRelationshipTypeWarning} {category: UNRECOGNIZED} {title: The provided relationship type is not in the database.} {description: One of the relationship types in your query is not available in the database, make sure you didn't misspell it or that the label is available when you run this statement in your application (the missing relationship type is: HAS_KEYWORD)} {position: line: 4, column: 38, offset: 180} for query: \"\\n        CALL db.index.vector.queryNodes('precedent_embedding', $limit * 2, $embedding)\\n        YIELD node AS precedent, score AS vector_score\\n        OPTIONAL MATCH (precedent)-[:HAS_KEYWORD]->(k:Keyword)\\n        WHERE k.text IN $keywords\\n        WITH precedent, vector_score, collect(DISTINCT k.text) AS keywords\\n        WITH precedent, vector_score + (size(keywords) * 0.1) AS final_score, keywords\\n        OPTIONAL MATCH (precedent)-[:REFERENCES_ARTICLE]->(ref_a:Article)\\n        WITH precedent, final_score, keywords, collect(DISTINCT ref_a.id) AS referenced_articles\\n        RETURN\\n            precedent.id AS id,\\n            'Precedent' AS type,\\n            precedent.name AS name,\\n            coalesce(precedent.full_summary, precedent.judgment_summary) AS text,\\n            final_score AS score,\\n            keywords,\\n            referenced_articles\\n        ORDER BY final_score DESC\\n        LIMIT $limit\\n        \"\n",
      "Received notification from DBMS server: {severity: WARNING} {code: Neo.ClientNotification.Statement.AggregationSkippedNull} {category: UNRECOGNIZED} {title: The query contains an aggregation function that skips null values.} {description: null value eliminated in set function.} {position: None} for query: \"\\n        CALL db.index.vector.queryNodes('precedent_embedding', $limit * 2, $embedding)\\n        YIELD node AS precedent, score AS vector_score\\n        OPTIONAL MATCH (precedent)-[:HAS_KEYWORD]->(k:Keyword)\\n        WHERE k.text IN $keywords\\n        WITH precedent, vector_score, collect(DISTINCT k.text) AS keywords\\n        WITH precedent, vector_score + (size(keywords) * 0.1) AS final_score, keywords\\n        OPTIONAL MATCH (precedent)-[:REFERENCES_ARTICLE]->(ref_a:Article)\\n        WITH precedent, final_score, keywords, collect(DISTINCT ref_a.id) AS referenced_articles\\n        RETURN\\n            precedent.id AS id,\\n            'Precedent' AS type,\\n            precedent.name AS name,\\n            coalesce(precedent.full_summary, precedent.judgment_summary) AS text,\\n            final_score AS score,\\n            keywords,\\n            referenced_articles\\n        ORDER BY final_score DESC\\n        LIMIT $limit\\n        \"\n"
     ]
    },
    {
     "name": "stdout",
     "output_type": "stream",
     "text": [
      "Context retrieval took 1.17 seconds.\n"
     ]
    },
    {
     "name": "stderr",
     "output_type": "stream",
     "text": [
      "Received notification from DBMS server: {severity: WARNING} {code: Neo.ClientNotification.Statement.AggregationSkippedNull} {category: UNRECOGNIZED} {title: The query contains an aggregation function that skips null values.} {description: null value eliminated in set function.} {position: None} for query: \"\\n        CALL db.index.vector.queryNodes('article_embedding', $limit * 2, $embedding)\\n        YIELD node AS article, score AS vector_score\\n        OPTIONAL MATCH (p:Precedent)-[:REFERENCES_ARTICLE]->(article)\\n        WITH article, vector_score, count(p) AS precedent_count\\n        WITH article, vector_score + (precedent_count * 0.05) AS final_score, precedent_count\\n        RETURN\\n            article.id AS id,\\n            'Article' AS type,\\n            article.text AS text,\\n            final_score AS score,\\n            precedent_count\\n        ORDER BY final_score DESC\\n        LIMIT $limit\\n        \"\n",
      "Received notification from DBMS server: {severity: WARNING} {code: Neo.ClientNotification.Statement.UnknownRelationshipTypeWarning} {category: UNRECOGNIZED} {title: The provided relationship type is not in the database.} {description: One of the relationship types in your query is not available in the database, make sure you didn't misspell it or that the label is available when you run this statement in your application (the missing relationship type is: HAS_KEYWORD)} {position: line: 4, column: 38, offset: 180} for query: \"\\n        CALL db.index.vector.queryNodes('precedent_embedding', $limit * 2, $embedding)\\n        YIELD node AS precedent, score AS vector_score\\n        OPTIONAL MATCH (precedent)-[:HAS_KEYWORD]->(k:Keyword)\\n        WHERE k.text IN $keywords\\n        WITH precedent, vector_score, collect(DISTINCT k.text) AS keywords\\n        WITH precedent, vector_score + (size(keywords) * 0.1) AS final_score, keywords\\n        OPTIONAL MATCH (precedent)-[:REFERENCES_ARTICLE]->(ref_a:Article)\\n        WITH precedent, final_score, keywords, collect(DISTINCT ref_a.id) AS referenced_articles\\n        RETURN\\n            precedent.id AS id,\\n            'Precedent' AS type,\\n            precedent.name AS name,\\n            coalesce(precedent.full_summary, precedent.judgment_summary) AS text,\\n            final_score AS score,\\n            keywords,\\n            referenced_articles\\n        ORDER BY final_score DESC\\n        LIMIT $limit\\n        \"\n",
      "Received notification from DBMS server: {severity: WARNING} {code: Neo.ClientNotification.Statement.AggregationSkippedNull} {category: UNRECOGNIZED} {title: The query contains an aggregation function that skips null values.} {description: null value eliminated in set function.} {position: None} for query: \"\\n        CALL db.index.vector.queryNodes('precedent_embedding', $limit * 2, $embedding)\\n        YIELD node AS precedent, score AS vector_score\\n        OPTIONAL MATCH (precedent)-[:HAS_KEYWORD]->(k:Keyword)\\n        WHERE k.text IN $keywords\\n        WITH precedent, vector_score, collect(DISTINCT k.text) AS keywords\\n        WITH precedent, vector_score + (size(keywords) * 0.1) AS final_score, keywords\\n        OPTIONAL MATCH (precedent)-[:REFERENCES_ARTICLE]->(ref_a:Article)\\n        WITH precedent, final_score, keywords, collect(DISTINCT ref_a.id) AS referenced_articles\\n        RETURN\\n            precedent.id AS id,\\n            'Precedent' AS type,\\n            precedent.name AS name,\\n            coalesce(precedent.full_summary, precedent.judgment_summary) AS text,\\n            final_score AS score,\\n            keywords,\\n            referenced_articles\\n        ORDER BY final_score DESC\\n        LIMIT $limit\\n        \"\n"
     ]
    },
    {
     "name": "stdout",
     "output_type": "stream",
     "text": [
      "Context retrieval took 0.57 seconds.\n"
     ]
    },
    {
     "name": "stderr",
     "output_type": "stream",
     "text": [
      "Received notification from DBMS server: {severity: WARNING} {code: Neo.ClientNotification.Statement.AggregationSkippedNull} {category: UNRECOGNIZED} {title: The query contains an aggregation function that skips null values.} {description: null value eliminated in set function.} {position: None} for query: \"\\n        CALL db.index.vector.queryNodes('article_embedding', $limit * 2, $embedding)\\n        YIELD node AS article, score AS vector_score\\n        OPTIONAL MATCH (p:Precedent)-[:REFERENCES_ARTICLE]->(article)\\n        WITH article, vector_score, count(p) AS precedent_count\\n        WITH article, vector_score + (precedent_count * 0.05) AS final_score, precedent_count\\n        RETURN\\n            article.id AS id,\\n            'Article' AS type,\\n            article.text AS text,\\n            final_score AS score,\\n            precedent_count\\n        ORDER BY final_score DESC\\n        LIMIT $limit\\n        \"\n",
      "Received notification from DBMS server: {severity: WARNING} {code: Neo.ClientNotification.Statement.UnknownRelationshipTypeWarning} {category: UNRECOGNIZED} {title: The provided relationship type is not in the database.} {description: One of the relationship types in your query is not available in the database, make sure you didn't misspell it or that the label is available when you run this statement in your application (the missing relationship type is: HAS_KEYWORD)} {position: line: 4, column: 38, offset: 180} for query: \"\\n        CALL db.index.vector.queryNodes('precedent_embedding', $limit * 2, $embedding)\\n        YIELD node AS precedent, score AS vector_score\\n        OPTIONAL MATCH (precedent)-[:HAS_KEYWORD]->(k:Keyword)\\n        WHERE k.text IN $keywords\\n        WITH precedent, vector_score, collect(DISTINCT k.text) AS keywords\\n        WITH precedent, vector_score + (size(keywords) * 0.1) AS final_score, keywords\\n        OPTIONAL MATCH (precedent)-[:REFERENCES_ARTICLE]->(ref_a:Article)\\n        WITH precedent, final_score, keywords, collect(DISTINCT ref_a.id) AS referenced_articles\\n        RETURN\\n            precedent.id AS id,\\n            'Precedent' AS type,\\n            precedent.name AS name,\\n            coalesce(precedent.full_summary, precedent.judgment_summary) AS text,\\n            final_score AS score,\\n            keywords,\\n            referenced_articles\\n        ORDER BY final_score DESC\\n        LIMIT $limit\\n        \"\n",
      "Received notification from DBMS server: {severity: WARNING} {code: Neo.ClientNotification.Statement.AggregationSkippedNull} {category: UNRECOGNIZED} {title: The query contains an aggregation function that skips null values.} {description: null value eliminated in set function.} {position: None} for query: \"\\n        CALL db.index.vector.queryNodes('precedent_embedding', $limit * 2, $embedding)\\n        YIELD node AS precedent, score AS vector_score\\n        OPTIONAL MATCH (precedent)-[:HAS_KEYWORD]->(k:Keyword)\\n        WHERE k.text IN $keywords\\n        WITH precedent, vector_score, collect(DISTINCT k.text) AS keywords\\n        WITH precedent, vector_score + (size(keywords) * 0.1) AS final_score, keywords\\n        OPTIONAL MATCH (precedent)-[:REFERENCES_ARTICLE]->(ref_a:Article)\\n        WITH precedent, final_score, keywords, collect(DISTINCT ref_a.id) AS referenced_articles\\n        RETURN\\n            precedent.id AS id,\\n            'Precedent' AS type,\\n            precedent.name AS name,\\n            coalesce(precedent.full_summary, precedent.judgment_summary) AS text,\\n            final_score AS score,\\n            keywords,\\n            referenced_articles\\n        ORDER BY final_score DESC\\n        LIMIT $limit\\n        \"\n"
     ]
    },
    {
     "name": "stdout",
     "output_type": "stream",
     "text": [
      "Context retrieval took 0.68 seconds.\n",
      "Preparing batch requests using LLM: gpt-4o-mini...\n"
     ]
    },
    {
     "data": {
      "application/vnd.jupyter.widget-view+json": {
       "model_id": "4687001f7f4546478905d3bba2181614",
       "version_major": 2,
       "version_minor": 0
      },
      "text/plain": [
       "Preparing batch requests:   0%|          | 0/200 [00:00<?, ?it/s]"
      ]
     },
     "metadata": {},
     "output_type": "display_data"
    },
    {
     "name": "stdout",
     "output_type": "stream",
     "text": [
      "Prepared 200 batch requests.\n"
     ]
    }
   ],
   "source": [
    "# ## 6. 평가 데이터 로드 및 배치 처리 준비\n",
    "\n",
    "# %%\n",
    "# 평가 데이터 로드\n",
    "eval_df = pd.DataFrame()\n",
    "if config:\n",
    "    try:\n",
    "        eval_df = pd.read_csv(config[\"test_csv_path\"])\n",
    "        required_cols = ['question', 'A', 'B', 'C', 'D', 'answer']\n",
    "        if not all(col in eval_df.columns for col in required_cols):\n",
    "            raise ValueError(f\"Evaluation CSV must contain columns: {required_cols}\")\n",
    "        eval_df['answer'] = pd.to_numeric(eval_df['answer'], errors='coerce')\n",
    "        eval_df.dropna(subset=['answer'], inplace=True)\n",
    "        eval_df['answer'] = eval_df['answer'].astype(int)\n",
    "        print(f\"\\nLoaded {len(eval_df)} questions from {config['test_csv_path']}\")\n",
    "        display(eval_df.head(3))\n",
    "    except Exception as e:\n",
    "        print(f\"Error loading evaluation data: {e}\")\n",
    "else:\n",
    "    print(\"Skipping evaluation data loading due to configuration issues.\")\n",
    "\n",
    "retrieved_contexts = {}\n",
    "if not eval_df.empty and neo4j_driver and embedding_model:\n",
    "    print(\"\\nPerforming RAG search for all evaluation questions...\")\n",
    "    for idx, row in tqdm(eval_df.iterrows(), total=len(eval_df), desc=\"Retrieving contexts\"):\n",
    "        question = row['question']\n",
    "        try:\n",
    "            contexts = retrieve_context_from_graph(neo4j_driver, question, embedding_model, top_k=8)\n",
    "            retrieved_contexts[idx] = contexts\n",
    "        except Exception as e:\n",
    "            print(f\"Error during RAG search for question index {idx}: {e}\")\n",
    "            retrieved_contexts[idx] = []\n",
    "\n",
    "def prepare_batch_requests(df: pd.DataFrame, retrieved_contexts: Dict[int, List[Dict[str, Any]]], config: Dict) -> List[Dict[str, Any]]:\n",
    "    batch_requests = []\n",
    "    if df.empty or not config.get(\"llm_model\"):\n",
    "        print(\"Cannot prepare batch requests due to empty data or missing LLM model.\")\n",
    "        return []\n",
    "    print(f\"Preparing batch requests using LLM: {config['llm_model']}...\")\n",
    "    for idx, row in tqdm(df.iterrows(), total=len(df), desc=\"Preparing batch requests\"):\n",
    "        question = row['question']\n",
    "        options = {'A': row['A'], 'B': row['B'], 'C': row['C'], 'D': row['D']}\n",
    "        contexts = retrieved_contexts.get(idx, [])\n",
    "        context_str = build_optimized_context(contexts, question)\n",
    "        prompt = f\"\"\"**문제:**\n",
    "다음은 한국 형법에 관한 객관식 문제입니다. 제공된 참고 자료를 주의 깊게 검토하고, 이를 바탕으로 가장 적절한 답을 선택하세요. 답변 시, 관련 법 조항이나 판례를 명시적으로 언급하며 설명해주세요.\n",
    "\n",
    "**질문:** {question}\n",
    "\n",
    "**선택지:**\n",
    "(A) {options['A']}\n",
    "(B) {options['B']}\n",
    "(C) {options['C']}\n",
    "(D) {options['D']}\n",
    "\n",
    "**참고 자료:**\n",
    "{context_str}\n",
    "\n",
    "**답변 형식:**\n",
    "1. **분석:** 질문의 핵심 �争점을 파악하고, 참고 자료에서 관련된 법 조항과 판례를 인용하며 각 선택지를 평가하세요. (3-4 문장)\n",
    "2. **최종 답변:** \"정답: [A/B/C/D]\" 형식으로 제시하세요.\n",
    "\n",
    "**예시:**\n",
    "분석: 이 문제는 살인죄의 고의성에 관한 것으로, 형법 제250조에 따르면 살인의 고의가 인정되어야 한다. 판례 XXX에서는 피해자에 대한 명백한 살해 의도가 확인되었다. 선택지 (A)는 고의성을 인정하므로 적합하며, (B)는 고의성을 부정해 부적합하다.\n",
    "정답: A\n",
    "\"\"\"\n",
    "        request = {\n",
    "            \"custom_id\": f\"q_{idx}\",\n",
    "            \"method\": \"POST\",\n",
    "            \"url\": \"/v1/chat/completions\",\n",
    "            \"body\": {\n",
    "                \"model\": config[\"llm_model\"],\n",
    "                \"messages\": [\n",
    "                    {\"role\": \"system\", \"content\": \"당신은 한국 형법 전문가입니다. 주어진 법률 정보와 판례를 바탕으로 정확하고 논리적인 답변을 제공하세요.\"},\n",
    "                    {\"role\": \"user\", \"content\": prompt}\n",
    "                ],\n",
    "                \"max_tokens\": 500,\n",
    "                \"temperature\": 0.0,\n",
    "                \"top_p\": 0.1,\n",
    "            }\n",
    "        }\n",
    "        batch_requests.append(request)\n",
    "    print(f\"Prepared {len(batch_requests)} batch requests.\")\n",
    "    return batch_requests\n",
    "\n",
    "if not eval_df.empty and config:\n",
    "    batch_requests = prepare_batch_requests(eval_df, retrieved_contexts, config)\n",
    "else:\n",
    "    batch_requests = []\n",
    "    print(\"Skipping batch request preparation.\")"
   ]
  },
  {
   "cell_type": "code",
   "execution_count": 59,
   "id": "70c0e1e3",
   "metadata": {},
   "outputs": [
    {
     "name": "stdout",
     "output_type": "stream",
     "text": [
      "\n",
      "Starting OpenAI Batch Job at 20250413_170808...\n",
      "Saved 200 batch requests to results/criminal_law_batch_input_20250413_170808.jsonl\n",
      "Uploading batch input file to OpenAI...\n"
     ]
    },
    {
     "name": "stdout",
     "output_type": "stream",
     "text": [
      "Successfully uploaded batch file. File ID: file-U9poL6VbfUMzo1n63y1KGf\n",
      "Creating batch job...\n",
      "Successfully created batch job. Job ID: batch_67fb70ead79c8190a9adfbd3ee168a65\n",
      "Batch job status: validating\n",
      "\n",
      "Monitoring batch job progress...\n",
      "[17:08:11] Batch job status: validating (Elapsed: 0s)\n",
      "[17:08:41] Batch job status: in_progress (Elapsed: 30s)\n",
      "[17:09:26] Batch job status: in_progress (Elapsed: 75s)\n",
      "[17:10:34] Batch job status: in_progress (Elapsed: 143s)\n",
      "[17:12:16] Batch job status: in_progress (Elapsed: 245s)\n",
      "[17:14:17] Batch job status: in_progress (Elapsed: 365s)\n",
      "[17:16:17] Batch job status: in_progress (Elapsed: 487s)\n",
      "[17:18:18] Batch job status: in_progress (Elapsed: 607s)\n",
      "[17:20:18] Batch job status: completed (Elapsed: 727s)\n",
      "Batch job completed successfully.\n",
      "Batch job monitoring finished in 727.69 seconds.\n",
      "Output file ID: file-Xi3PgrbknHXT2AiTkpTTwW\n",
      "Error file ID: None\n",
      "\n",
      "Batch job submitted successfully. Job ID: batch_67fb70ead79c8190a9adfbd3ee168a65\n",
      "You can monitor the job progress on the OpenAI dashboard or wait for this script to complete.\n",
      "Batch job execution cell is commented out by default to prevent accidental API calls and costs.\n",
      "If you want to run the batch job, uncomment the 'batch_id = run_batch_job(...)' line and the following print statements.\n"
     ]
    }
   ],
   "source": [
    "# ## 7. OpenAI Batch API 실행 및 결과 처리\n",
    "\n",
    "# %%\n",
    "def run_batch_job(client: OpenAI, batch_requests: List[Dict[str, Any]], config: Dict, timestamp: str) -> Optional[str]:\n",
    "    \"\"\"Batch API 작업을 생성하고 완료될 때까지 모니터링\"\"\"\n",
    "    if not client:\n",
    "        print(\"OpenAI client is not available. Cannot run batch job.\")\n",
    "        return None\n",
    "    if not batch_requests:\n",
    "        print(\"No batch requests to process. Skipping batch job.\")\n",
    "        return None\n",
    "    if not config or not config.get(\"results_dir\"):\n",
    "        print(\"Results directory configuration is missing. Cannot run batch job.\")\n",
    "        return None\n",
    "\n",
    "    # JSONL 파일로 저장\n",
    "    batch_file_path = os.path.join(config[\"results_dir\"], f\"criminal_law_batch_input_{timestamp}.jsonl\")\n",
    "    try:\n",
    "        with open(batch_file_path, 'w', encoding='utf-8') as f:\n",
    "            for request in batch_requests:\n",
    "                f.write(json.dumps(request, ensure_ascii=False) + '\\n')\n",
    "        print(f\"Saved {len(batch_requests)} batch requests to {batch_file_path}\")\n",
    "    except IOError as e:\n",
    "        print(f\"Error saving batch input file: {e}\")\n",
    "        return None\n",
    "\n",
    "    # 배치 파일 업로드\n",
    "    batch_input_file_id = None\n",
    "    try:\n",
    "        print(\"Uploading batch input file to OpenAI...\")\n",
    "        with open(batch_file_path, \"rb\") as f:\n",
    "            batch_input_file = client.files.create(file=f, purpose=\"batch\")\n",
    "        batch_input_file_id = batch_input_file.id\n",
    "        print(f\"Successfully uploaded batch file. File ID: {batch_input_file_id}\")\n",
    "    except Exception as e:\n",
    "        print(f\"Error uploading batch file: {e}\")\n",
    "        # 업로드 실패 시 생성된 파일 ID가 있으면 삭제 시도 (선택적)\n",
    "        # if batch_input_file_id: client.files.delete(batch_input_file_id)\n",
    "        return None\n",
    "\n",
    "    # 배치 작업 생성\n",
    "    batch_id = None\n",
    "    try:\n",
    "        print(\"Creating batch job...\")\n",
    "        batch_job = client.batches.create(\n",
    "            input_file_id=batch_input_file_id,\n",
    "            endpoint=\"/v1/chat/completions\",\n",
    "            completion_window=\"24h\", # 24시간 내 완료 요청\n",
    "            metadata={\"description\": f\"KMMLU Criminal Law benchmark {timestamp}\"}\n",
    "        )\n",
    "        batch_id = batch_job.id\n",
    "        print(f\"Successfully created batch job. Job ID: {batch_id}\")\n",
    "        print(f\"Batch job status: {batch_job.status}\")\n",
    "    except Exception as e:\n",
    "        print(f\"Error creating batch job: {e}\")\n",
    "        # 배치 작업 생성 실패 시 업로드된 파일 삭제 시도 (선택적)\n",
    "        # if batch_input_file_id: client.files.delete(batch_input_file_id)\n",
    "        return None\n",
    "\n",
    "    # 배치 작업 상태 확인 및 대기\n",
    "    print(\"\\nMonitoring batch job progress...\")\n",
    "    start_time = time.time()\n",
    "    status = None\n",
    "    wait_interval = 30 # 초기 대기 시간 (초)\n",
    "    max_wait_time = 3600 * 2 # 최대 대기 시간 (예: 2시간)\n",
    "\n",
    "    while True:\n",
    "        try:\n",
    "            current_time = time.time()\n",
    "            elapsed_time = current_time - start_time\n",
    "            if elapsed_time > max_wait_time:\n",
    "                 print(f\"Maximum wait time ({max_wait_time}s) exceeded. Stopping monitoring.\")\n",
    "                 # 작업이 완료되지 않았더라도 ID 반환하여 나중에 수동 확인 가능하게 할 수 있음\n",
    "                 return batch_id # 또는 None 반환\n",
    "\n",
    "            status = client.batches.retrieve(batch_id)\n",
    "            print(f\"[{datetime.now().strftime('%H:%M:%S')}] Batch job status: {status.status} (Elapsed: {elapsed_time:.0f}s)\")\n",
    "\n",
    "            if status.status == 'completed':\n",
    "                print(\"Batch job completed successfully.\")\n",
    "                break\n",
    "            elif status.status in ['failed', 'cancelled', 'expired']:\n",
    "                print(f\"Batch job ended with status: {status.status}. Check OpenAI dashboard for details.\")\n",
    "                # 실패/취소 시 관련 정보 출력\n",
    "                if hasattr(status, 'errors') and status.errors:\n",
    "                    print(\"Errors reported:\")\n",
    "                    try:\n",
    "                        # 오류가 data 필드 안에 있을 수 있음\n",
    "                        error_data = status.errors.get('data', [])\n",
    "                        for error in error_data[:5]: # 최대 5개 오류 표시\n",
    "                            print(f\"  - Code: {error.get('code')}, Message: {error.get('message')}, Line: {error.get('line')}\")\n",
    "                        if len(error_data) > 5:\n",
    "                            print(f\"  ... and {len(error_data) - 5} more errors.\")\n",
    "                    except Exception as e_parse:\n",
    "                         print(f\"Could not parse error details: {e_parse}\")\n",
    "                return None # 실패/취소 시 None 반환\n",
    "            elif status.status in ['validating', 'in_progress', 'queued', 'cancelling']:\n",
    "                # 진행 중 상태: 대기 시간 점진적 증가\n",
    "                time.sleep(wait_interval)\n",
    "                if wait_interval < 120: # 최대 대기 간격 설정\n",
    "                    wait_interval = min(wait_interval * 1.5, 120)\n",
    "            else:\n",
    "                 print(f\"Unknown batch status: {status.status}. Stopping monitoring.\")\n",
    "                 return None # 알 수 없는 상태\n",
    "\n",
    "        except Exception as e:\n",
    "            print(f\"Error checking batch status: {e}. Retrying in {wait_interval}s...\")\n",
    "            time.sleep(wait_interval)\n",
    "\n",
    "\n",
    "    end_time = time.time()\n",
    "    total_time = end_time - start_time\n",
    "    print(f\"Batch job monitoring finished in {total_time:.2f} seconds.\")\n",
    "\n",
    "    # 완료 시 파일 정보 출력\n",
    "    if status and status.status == 'completed':\n",
    "        print(f\"Output file ID: {status.output_file_id}\")\n",
    "        print(f\"Error file ID: {status.error_file_id}\") # 오류 파일 ID도 확인\n",
    "        return batch_id # 성공 시 배치 ID 반환\n",
    "    else:\n",
    "        # 이론상 이 지점에 도달하지 않아야 함 (위에서 처리됨)\n",
    "        print(\"Batch job did not complete successfully.\")\n",
    "        return None\n",
    "\n",
    "\n",
    "# %%\n",
    "# 배치 작업 실행 (주의: OpenAI API 비용 발생)\n",
    "batch_id = None\n",
    "if batch_requests and openai_client and config:\n",
    "    timestamp = datetime.now().strftime(\"%Y%m%d_%H%M%S\")\n",
    "    print(f\"\\nStarting OpenAI Batch Job at {timestamp}...\")\n",
    "    batch_id = run_batch_job(openai_client, batch_requests, config, timestamp)\n",
    "\n",
    "    if batch_id:\n",
    "        print(f\"\\nBatch job submitted successfully. Job ID: {batch_id}\")\n",
    "        print(\"You can monitor the job progress on the OpenAI dashboard or wait for this script to complete.\")\n",
    "    else:\n",
    "        print(\"\\nFailed to start or monitor the batch job.\")\n",
    "    print(\"Batch job execution cell is commented out by default to prevent accidental API calls and costs.\")\n",
    "    print(\"If you want to run the batch job, uncomment the 'batch_id = run_batch_job(...)' line and the following print statements.\")\n",
    "\n",
    "elif not batch_requests:\n",
    "    print(\"No batch requests were prepared. Skipping batch job execution.\")\n",
    "else:\n",
    "    print(\"Skipping batch job execution due to missing OpenAI client or configuration.\")\n"
   ]
  },
  {
   "cell_type": "code",
   "execution_count": 60,
   "id": "26e9dbe6",
   "metadata": {},
   "outputs": [
    {
     "name": "stdout",
     "output_type": "stream",
     "text": [
      "\n",
      "Processing results for batch job batch_67fb70ead79c8190a9adfbd3ee168a65 using timestamp 20250413_170808...\n",
      "\n",
      "Processing results for Batch Job ID: batch_67fb70ead79c8190a9adfbd3ee168a65\n",
      "Batch job completed. Output file ID: file-Xi3PgrbknHXT2AiTkpTTwW, Error file ID: None\n",
      "Downloading output file file-Xi3PgrbknHXT2AiTkpTTwW...\n",
      "Successfully downloaded and saved 200 raw results to results/criminal_law_batch_output_20250413_170808.jsonl\n",
      "Evaluating predictions...\n"
     ]
    },
    {
     "data": {
      "application/vnd.jupyter.widget-view+json": {
       "model_id": "ce95c189cfdb4665ad1d99b48eea248c",
       "version_major": 2,
       "version_minor": 0
      },
      "text/plain": [
       "Evaluating results:   0%|          | 0/200 [00:00<?, ?it/s]"
      ]
     },
     "metadata": {},
     "output_type": "display_data"
    },
    {
     "name": "stdout",
     "output_type": "stream",
     "text": [
      "\n",
      "--- Evaluation Summary ---\n",
      "Total results processed: 200 / 200\n",
      "Correct answers: 71\n",
      "Accuracy: 0.3550 (35.50%)\n",
      "Saved detailed evaluation results to results/criminal_law_evaluation_results_20250413_170808.csv\n",
      "\n",
      "Evaluation complete. Results saved to: results/criminal_law_evaluation_results_20250413_170808.csv\n",
      "Result processing and evaluation cell is commented out by default.\n",
      "Ensure the batch job has completed and you have the correct 'batch_id' and 'timestamp'.\n",
      "Then, uncomment the 'results_file = process_batch_results_and_evaluate(...)' line and run this cell.\n",
      "\n",
      "Analyzing and visualizing results from results/criminal_law_evaluation_results_20250413_170808.csv...\n",
      "Analysis and visualization cell is commented out by default.\n",
      "Ensure you have a valid 'results_file' path, 'config', and 'timestamp'.\n",
      "Then, uncomment the 'analyze_and_visualize_results(...)' line and run this cell.\n"
     ]
    }
   ],
   "source": [
    "# ## 8. 결과 평가 및 분석, 시각화\n",
    "\n",
    "# %%\n",
    "def extract_choice_from_response(text: str) -> Optional[str]:\n",
    "    \"\"\"LLM 응답 텍스트에서 최종 선택지(A, B, C, D) 추출 (정확도 대폭 강화)\"\"\"\n",
    "    if not text:\n",
    "        return None\n",
    "\n",
    "    text_lower = text.lower()\n",
    "    \n",
    "    # 1. 명확한 \"정답: X\" 패턴 최우선 검색\n",
    "    clear_patterns = [\n",
    "        r'(?:정답|최종\\s*답변|최종\\s*선택|결론|정답은)(?:\\s*:\\s*|\\s+은\\s+|\\s+는\\s+|\\s+이\\s+|\\s+이다\\s+|\\s+입니다\\s+|\\s+)([a-dA-D])\\b',\n",
    "        r'정답(?:은|는)?\\s*(?::|→|->|=|\\s)\\s*([a-dA-D])\\b',\n",
    "        r'(?<=정답[:\\s])([a-dA-D])(?=[.]\\s*$|\\s*$)',  # 문장 끝 패턴\n",
    "        r'^\\s*([a-dA-D])[.]\\s*$',  # 한 줄에 \"A.\" 같은 패턴\n",
    "    ]\n",
    "    \n",
    "    # 먼저 마지막 3줄에서 찾기 (결론은 보통 마지막에 위치)\n",
    "    last_lines = text.strip().split('\\n')[-3:]\n",
    "    last_text = '\\n'.join(last_lines)\n",
    "    \n",
    "    for pattern in clear_patterns:\n",
    "        match = re.search(pattern, last_text, re.IGNORECASE | re.MULTILINE)\n",
    "        if match:\n",
    "            return match.group(1).upper()\n",
    "    \n",
    "    # 전체 텍스트에서 검색\n",
    "    for pattern in clear_patterns:\n",
    "        match = re.search(pattern, text, re.IGNORECASE | re.MULTILINE)\n",
    "        if match:\n",
    "            return match.group(1).upper()\n",
    "    \n",
    "    # 2. 명시적 선택 문구 검색\n",
    "    selection_phrases = [\n",
    "        r'(?:선택은|선택하는|고르는|정답으로|옳은\\s*것은)\\s*([a-dA-D])\\b',\n",
    "        r'([a-dA-D])\\s*(?:이[가]\\s*정답|[이가]\\s*옳은|[이가]\\s*맞는|[을를]\\s*선택)',\n",
    "        r'(?:따라서|그러므로|결론적으로).{1,30}?\\b([a-dA-D])\\b.{0,20}?(?:정답|옳은|맞는|선택)'\n",
    "    ]\n",
    "    \n",
    "    for pattern in selection_phrases:\n",
    "        # 마지막 부분 먼저 검색\n",
    "        match = re.search(pattern, last_text, re.IGNORECASE)\n",
    "        if match:\n",
    "            return match.group(1).upper()\n",
    "        \n",
    "        # 전체 텍스트 검색\n",
    "        match = re.search(pattern, text, re.IGNORECASE)\n",
    "        if match:\n",
    "            return match.group(1).upper()\n",
    "    \n",
    "    # 3. 마지막 단락에서 괄호 패턴 찾기\n",
    "    last_paragraph = text.split('\\n\\n')[-1] if '\\n\\n' in text else text\n",
    "    bracket_patterns = [\n",
    "        r'\\(\\s*([a-dA-D])\\s*\\)',\n",
    "        r'\\[\\s*([a-dA-D])\\s*\\]',\n",
    "        r'【\\s*([a-dA-D])\\s*】'\n",
    "    ]\n",
    "    \n",
    "    for pattern in bracket_patterns:\n",
    "        match = re.search(pattern, last_paragraph, re.IGNORECASE)\n",
    "        if match:\n",
    "            return match.group(1).upper()\n",
    "    \n",
    "    # 4. 지능적 컨텍스트 분석 (개선)\n",
    "    # 선택지 언급 분석 - 각 선택지에 대한 긍정/부정 표현 분석\n",
    "    option_scores = {'A': 0, 'B': 0, 'C': 0, 'D': 0}\n",
    "    \n",
    "    # 각 선택지가 언급된 문장 추출\n",
    "    for option in option_scores.keys():\n",
    "        option_pattern = r'(?:[^a-zA-Z]|^)' + option + r'(?:[^a-zA-Z]|$)'\n",
    "        option_mentions = re.finditer(option_pattern, text, re.IGNORECASE)\n",
    "        \n",
    "        for mention in option_mentions:\n",
    "            # 언급된 주변 문맥 추출 (앞뒤 50자)\n",
    "            start = max(0, mention.start() - 50)\n",
    "            end = min(len(text), mention.end() + 50)\n",
    "            context = text[start:end]\n",
    "            \n",
    "            # 긍정 표현 확인\n",
    "            positive_indicators = [\n",
    "                \"정답\", \"맞는\", \"옳은\", \"올바른\", \"타당\", \"적절\", \"선택\", \"해당\", \"부합\", \"일치\", \"맞다\",\n",
    "                \"옳다\", \"적용\", \"따르면\", \"규정\", \"조항\", \"부합\", \"성립\", \"부합\", \"의하면\", \"인정\"\n",
    "            ]\n",
    "            \n",
    "            # 부정 표현 확인\n",
    "            negative_indicators = [\n",
    "                \"틀린\", \"옳지 않\", \"맞지 않\", \"부적절\", \"오답\", \"아니\", \"아닌\", \"아니다\", \"불가\", \"불법\",\n",
    "                \"적용되지 않\", \"해당되지 않\", \"아니므로\", \"잘못\", \"없다\", \"잘못\", \"불필요\"\n",
    "            ]\n",
    "            \n",
    "            # 점수 계산\n",
    "            for pos in positive_indicators:\n",
    "                if pos in context:\n",
    "                    option_scores[option] += 1\n",
    "            \n",
    "            for neg in negative_indicators:\n",
    "                if neg in context:\n",
    "                    option_scores[option] -= 1.5  # 부정 표현에 더 큰 가중치\n",
    "    \n",
    "    # 결론 부분에서 언급된 선택지에 추가 가중치\n",
    "    conclusion_section = None\n",
    "    conclusion_markers = [\"결론\", \"따라서\", \"그러므로\", \"종합하면\", \"정답은\", \"정답으로\"]\n",
    "    \n",
    "    for marker in conclusion_markers:\n",
    "        marker_pos = text.find(marker)\n",
    "        if marker_pos != -1:\n",
    "            conclusion_section = text[marker_pos:]\n",
    "            break\n",
    "    \n",
    "    if conclusion_section:\n",
    "        for option in option_scores.keys():\n",
    "            if re.search(r'(?:[^a-zA-Z]|^)' + option + r'(?:[^a-zA-Z]|$)', conclusion_section, re.IGNORECASE):\n",
    "                option_scores[option] += 2  # 결론에서 언급된 선택지 가중치\n",
    "    \n",
    "    # 가장 높은 점수의 선택지 반환 (단, 점수가 양수인 경우만)\n",
    "    max_score = max(option_scores.values()) if option_scores else -1\n",
    "    best_options = [opt for opt, score in option_scores.items() if score == max_score and score > 0]\n",
    "    \n",
    "    if len(best_options) == 1:\n",
    "        return best_options[0]\n",
    "    \n",
    "    # 5. 마지막 수단: 전체 텍스트에서 A, B, C, D 언급 빈도 (가장 자주 언급된 것)\n",
    "    if not best_options:\n",
    "        counts = {option: len(re.findall(r'(?:[^a-zA-Z]|^)' + option + r'(?:[^a-zA-Z]|$)', text, re.IGNORECASE)) \n",
    "                 for option in ['A', 'B', 'C', 'D']}\n",
    "        max_count = max(counts.values()) if counts else 0\n",
    "        most_frequent = [opt for opt, count in counts.items() if count == max_count and count > 0]\n",
    "        \n",
    "        if len(most_frequent) == 1:\n",
    "            return most_frequent[0]\n",
    "    \n",
    "    # 모든 방법 실패 시 None 반환\n",
    "    return None\n",
    "\n",
    "\n",
    "# %%\n",
    "def process_batch_results_and_evaluate(client: OpenAI, batch_id: str, df: pd.DataFrame, config: Dict, timestamp: str) -> Optional[str]:\n",
    "    \"\"\"배치 작업 결과를 다운로드, 처리하고 정확도 평가\"\"\"\n",
    "    if not client:\n",
    "        print(\"OpenAI client is not available. Cannot process results.\")\n",
    "        return None\n",
    "    if not batch_id:\n",
    "        print(\"Batch ID is missing. Cannot process results.\")\n",
    "        return None\n",
    "    if df.empty:\n",
    "        print(\"Evaluation dataframe is empty. Cannot evaluate.\")\n",
    "        return None\n",
    "    if not config or not config.get(\"results_dir\"):\n",
    "        print(\"Results directory configuration is missing. Cannot save results.\")\n",
    "        return None\n",
    "\n",
    "    print(f\"\\nProcessing results for Batch Job ID: {batch_id}\")\n",
    "\n",
    "    try:\n",
    "        # 1. 배치 작업 정보 가져오기\n",
    "        batch_job = client.batches.retrieve(batch_id)\n",
    "        if batch_job.status != 'completed':\n",
    "            print(f\"Batch job {batch_id} did not complete successfully. Status: {batch_job.status}\")\n",
    "            # 실패 원인 추가 확인 (선택적)\n",
    "            if batch_job.errors:\n",
    "                 print(\"Errors reported by the batch job:\")\n",
    "                 # 오류 내용 출력 로직 추가\n",
    "            return None\n",
    "\n",
    "        output_file_id = batch_job.output_file_id\n",
    "        error_file_id = batch_job.error_file_id # 오류 파일 ID도 확인\n",
    "        print(f\"Batch job completed. Output file ID: {output_file_id}, Error file ID: {error_file_id}\")\n",
    "\n",
    "        if not output_file_id:\n",
    "             print(\"Error: Batch job completed but no output file ID found.\")\n",
    "             return None\n",
    "\n",
    "        # 2. 결과 파일 다운로드 및 처리\n",
    "        output_file_path = os.path.join(config[\"results_dir\"], f\"criminal_law_batch_output_{timestamp}.jsonl\")\n",
    "        batch_results_raw = []\n",
    "        print(f\"Downloading output file {output_file_id}...\")\n",
    "        try:\n",
    "            file_response = client.files.content(output_file_id)\n",
    "            # 응답 내용을 줄 단위로 처리\n",
    "            raw_content = file_response.text # content 대신 text 사용 (최신 openai 라이브러리)\n",
    "            with open(output_file_path, 'w', encoding='utf-8') as f:\n",
    "                for line in raw_content.strip().split('\\n'):\n",
    "                    if line.strip():\n",
    "                        try:\n",
    "                            batch_results_raw.append(json.loads(line))\n",
    "                            f.write(line + '\\n') # 원본 저장\n",
    "                        except json.JSONDecodeError:\n",
    "                            print(f\"Warning: Could not decode JSON line: {line[:100]}...\")\n",
    "            print(f\"Successfully downloaded and saved {len(batch_results_raw)} raw results to {output_file_path}\")\n",
    "        except Exception as e:\n",
    "            print(f\"Error downloading or saving output file {output_file_id}: {e}\")\n",
    "            return None # 결과 파일 없으면 평가 불가\n",
    "\n",
    "        # 3. 오류 파일 처리 (선택적)\n",
    "        if error_file_id:\n",
    "            error_file_path = os.path.join(config[\"results_dir\"], f\"criminal_law_batch_errors_{timestamp}.jsonl\")\n",
    "            print(f\"Downloading error file {error_file_id}...\")\n",
    "            try:\n",
    "                error_response = client.files.content(error_file_id)\n",
    "                with open(error_file_path, 'w', encoding='utf-8') as f:\n",
    "                    f.write(error_response.text)\n",
    "                print(f\"Downloaded and saved error file to {error_file_path}\")\n",
    "            except Exception as e:\n",
    "                print(f\"Warning: Could not download or save error file {error_file_id}: {e}\")\n",
    "\n",
    "\n",
    "        # 4. 정확도 평가\n",
    "        correct_count = 0\n",
    "        processed_count = 0\n",
    "        results_data = [] # 평가 결과를 저장할 리스트\n",
    "\n",
    "        print(\"Evaluating predictions...\")\n",
    "        for result_entry in tqdm(batch_results_raw, desc=\"Evaluating results\"):\n",
    "            custom_id = result_entry.get('custom_id')\n",
    "            response_body = result_entry.get('response', {}).get('body') if result_entry.get('response') else None\n",
    "            error_body = result_entry.get('error')\n",
    "\n",
    "            if not custom_id:\n",
    "                print(f\"Skipping result entry with missing custom_id: {result_entry}\")\n",
    "                continue\n",
    "\n",
    "            try:\n",
    "                # custom_id에서 원래 DataFrame 인덱스 추출 (q_ 제거)\n",
    "                if custom_id.startswith('q_'):\n",
    "                     idx = int(custom_id[2:])\n",
    "                else:\n",
    "                     print(f\"Warning: Unexpected custom_id format: {custom_id}. Skipping.\")\n",
    "                     continue\n",
    "\n",
    "                # 원본 데이터 가져오기 (존재하는지 확인)\n",
    "                if idx not in df.index:\n",
    "                     print(f\"Warning: Index {idx} from custom_id not found in the original DataFrame. Skipping.\")\n",
    "                     continue\n",
    "\n",
    "                original_row = df.loc[idx]\n",
    "                processed_count += 1\n",
    "                predicted_answer = None\n",
    "                response_text = \"\"\n",
    "                is_correct = False\n",
    "                # 실제 정답 변환 (1->A, 2->B, ...)\n",
    "                actual_answer = chr(64 + original_row['answer'])\n",
    "\n",
    "                if error_body:\n",
    "                    # print(f\"Error in result for question {idx}: {error_body}\")\n",
    "                    response_text = f\"Error: {error_body.get('message', 'Unknown error')}\"\n",
    "                    predicted_answer = \"Error\" # 예측 실패로 처리\n",
    "                elif response_body and response_body.get('choices'):\n",
    "                    # 첫 번째 choice의 메시지 내용 추출\n",
    "                    message = response_body['choices'][0].get('message', {})\n",
    "                    response_text = message.get('content', '').strip()\n",
    "                    # 응답 텍스트에서 선택지 추출 (개선된 함수 사용)\n",
    "                    predicted_answer = extract_choice_from_response(response_text)\n",
    "\n",
    "                    if predicted_answer:\n",
    "                        is_correct = (predicted_answer == actual_answer)\n",
    "                        if is_correct:\n",
    "                            correct_count += 1\n",
    "                    else:\n",
    "                        # print(f\"Warning: Could not extract answer for question {idx}. Response: {response_text[:100]}...\")\n",
    "                        predicted_answer = \"Extraction Failed\" # 추출 실패 명시\n",
    "                else:\n",
    "                     # print(f\"Warning: Empty or invalid response body for question {idx}\")\n",
    "                     response_text = \"Invalid/Empty Response\"\n",
    "                     predicted_answer = \"No Response\"\n",
    "\n",
    "\n",
    "                results_data.append({\n",
    "                    'question_id': idx,\n",
    "                    'question': original_row['question'],\n",
    "                    'A': original_row['A'], 'B': original_row['B'], 'C': original_row['C'], 'D': original_row['D'],\n",
    "                    'predicted': predicted_answer,\n",
    "                    'actual': actual_answer,\n",
    "                    'is_correct': is_correct,\n",
    "                    'response': response_text # LLM의 전체 응답 저장\n",
    "                })\n",
    "            except (ValueError, KeyError, IndexError) as e:\n",
    "                print(f\"Error processing result entry for custom_id {custom_id}: {e}. Entry: {result_entry}\")\n",
    "            except Exception as e:\n",
    "                 print(f\"An unexpected error occurred processing custom_id {custom_id}: {e}\")\n",
    "\n",
    "\n",
    "        if processed_count == 0:\n",
    "            print(\"No results were processed successfully. Evaluation cannot proceed.\")\n",
    "            return None\n",
    "\n",
    "        # 정확도 계산\n",
    "        accuracy = correct_count / processed_count if processed_count > 0 else 0.0\n",
    "        print(f\"\\n--- Evaluation Summary ---\")\n",
    "        print(f\"Total results processed: {processed_count} / {len(df)}\")\n",
    "        print(f\"Correct answers: {correct_count}\")\n",
    "        print(f\"Accuracy: {accuracy:.4f} ({accuracy:.2%})\")\n",
    "\n",
    "        # 5. 상세 결과 저장\n",
    "        results_df = pd.DataFrame(results_data)\n",
    "        results_file_path = os.path.join(config[\"results_dir\"], f\"criminal_law_evaluation_results_{timestamp}.csv\")\n",
    "        try:\n",
    "            results_df.to_csv(results_file_path, index=False, encoding='utf-8-sig') # UTF-8 with BOM for Excel compatibility\n",
    "            print(f\"Saved detailed evaluation results to {results_file_path}\")\n",
    "            return results_file_path # 성공 시 결과 파일 경로 반환\n",
    "        except IOError as e:\n",
    "             print(f\"Error saving evaluation results file: {e}\")\n",
    "             return None\n",
    "\n",
    "    except Exception as e:\n",
    "        print(f\"An error occurred during batch result processing and evaluation: {e}\")\n",
    "        # 실패 시 다운로드된 파일 삭제 등 정리 작업 추가 가능\n",
    "        return None\n",
    "\n",
    "# %%\n",
    "# 배치 결과 처리 및 평가 실행\n",
    "results_file = None\n",
    "if batch_id and openai_client and not eval_df.empty and config:\n",
    "    # timestamp는 배치 작업 시작 시 생성된 것을 사용해야 함\n",
    "    # 만약 이전에 실행되지 않았다면, 현재 시간 사용 또는 파일명 규칙에 맞춰 찾아야 함\n",
    "    # 여기서는 batch_id가 있다는 가정 하에 timestamp 변수가 유효하다고 가정\n",
    "    if 'timestamp' not in locals():\n",
    "         timestamp = datetime.now().strftime(\"%Y%m%d_%H%M%S\") # 임시 타임스탬프\n",
    "         print(f\"Warning: Using current timestamp '{timestamp}' for result processing as original timestamp was not found.\")\n",
    "\n",
    "    print(f\"\\nProcessing results for batch job {batch_id} using timestamp {timestamp}...\")\n",
    "    results_file = process_batch_results_and_evaluate(openai_client, batch_id, eval_df, config, timestamp)\n",
    "\n",
    "    if results_file:\n",
    "         print(f\"\\nEvaluation complete. Results saved to: {results_file}\")\n",
    "    else:\n",
    "         print(\"\\nFailed to process batch results or evaluate.\")\n",
    "    print(\"Result processing and evaluation cell is commented out by default.\")\n",
    "    print(\"Ensure the batch job has completed and you have the correct 'batch_id' and 'timestamp'.\")\n",
    "    print(\"Then, uncomment the 'results_file = process_batch_results_and_evaluate(...)' line and run this cell.\")\n",
    "\n",
    "elif not batch_id:\n",
    "    print(\"Batch ID is not available. Cannot process results.\")\n",
    "elif eval_df.empty:\n",
    "    print(\"Evaluation data is empty. Cannot process results.\")\n",
    "else:\n",
    "    print(\"Skipping result processing due to missing components (client, data, or config).\")\n",
    "\n",
    "\n",
    "# %%\n",
    "def analyze_and_visualize_results(results_file_path: str, config: Dict, timestamp: str):\n",
    "    \"\"\"평가 결과를 분석하고 시각화 (개선된 시각화 및 분석)\"\"\"\n",
    "    print(f\"\\n--- Analyzing and Visualizing Results from: {results_file_path} ---\")\n",
    "    if not os.path.exists(results_file_path):\n",
    "        print(f\"Error: Results file not found at {results_file_path}\")\n",
    "        return\n",
    "\n",
    "    try:\n",
    "        results_df = pd.read_csv(results_file_path)\n",
    "        # 'is_correct' 컬럼을 boolean 타입으로 변환 (True/False 문자열 처리 포함)\n",
    "        results_df['is_correct'] = results_df['is_correct'].apply(lambda x: str(x).lower() == 'true')\n",
    "\n",
    "    except Exception as e:\n",
    "        print(f\"Error reading or processing results file: {e}\")\n",
    "        return\n",
    "\n",
    "    if results_df.empty:\n",
    "        print(\"Results data is empty. Skipping analysis and visualization.\")\n",
    "        return\n",
    "\n",
    "    # --- 요약 통계 ---\n",
    "    total_questions = len(results_df)\n",
    "    correct_answers = results_df['is_correct'].sum()\n",
    "    incorrect_answers = total_questions - correct_answers\n",
    "    accuracy = correct_answers / total_questions if total_questions > 0 else 0.0\n",
    "    # 예측 실패/오류 건수\n",
    "    error_predictions = results_df[results_df['predicted'].isin(['Error', 'Extraction Failed', 'No Response'])].shape[0]\n",
    "\n",
    "\n",
    "    print(\"\\n===== Benchmark Result Summary =====\")\n",
    "    print(f\"Timestamp: {timestamp}\")\n",
    "    print(f\"Model Used: {config.get('llm_model', 'N/A')}\")\n",
    "    print(f\"Total Questions: {total_questions}\")\n",
    "    print(f\"Correct Answers: {correct_answers}\")\n",
    "    print(f\"Incorrect Answers: {incorrect_answers}\")\n",
    "    print(f\"Prediction Errors/Failures: {error_predictions}\")\n",
    "    print(f\"Accuracy (excluding errors): {correct_answers / (total_questions - error_predictions) if (total_questions - error_predictions) > 0 else 0.0:.4f}\")\n",
    "    print(f\"Overall Accuracy (including errors as incorrect): {accuracy:.4f} ({accuracy:.2%})\")\n",
    "\n",
    "\n",
    "    # --- 시각화 ---\n",
    "    options = ['A', 'B', 'C', 'D']\n",
    "    error_labels = ['Error', 'Extraction Failed', 'No Response', 'None'] # 예측 실패/오류 레이블\n",
    "\n",
    "    # 1. 정답률 파이 차트 (오류 포함)\n",
    "    labels_pie = ['Correct', 'Incorrect', 'Prediction Error']\n",
    "    values_pie = [correct_answers, incorrect_answers - error_predictions, error_predictions]\n",
    "    colors_pie = ['#2ecc71', '#e74c3c', '#95a5a6'] # 초록, 빨강, 회색\n",
    "    fig_pie = go.Figure(data=[go.Pie(labels=labels_pie, values=values_pie, hole=.4,\n",
    "                                     marker_colors=colors_pie, pull=[0, 0, 0.1])]) # 오류 부분 강조\n",
    "    fig_pie.update_layout(title=f'Overall Performance Breakdown (Accuracy: {accuracy:.2%})',\n",
    "                          legend_title_text='Result Type', font=dict(size=12))\n",
    "    fig_pie.show()\n",
    "\n",
    "\n",
    "    # 2. 예측/실제 분포 (오류 제외하고 비교)\n",
    "    valid_predictions_df = results_df[~results_df['predicted'].isin(error_labels)]\n",
    "    if not valid_predictions_df.empty:\n",
    "        prediction_counts = valid_predictions_df['predicted'].value_counts().reindex(options, fill_value=0)\n",
    "        actual_counts = valid_predictions_df['actual'].value_counts().reindex(options, fill_value=0)\n",
    "\n",
    "        fig_dist = go.Figure()\n",
    "        fig_dist.add_trace(go.Bar(x=options, y=prediction_counts.values, name='Model Prediction', marker_color='#3498db')) # 파랑\n",
    "        fig_dist.add_trace(go.Bar(x=options, y=actual_counts.values, name='Actual Answer', marker_color='#f1c40f')) # 노랑\n",
    "        fig_dist.update_layout(title='Choice Distribution (Valid Predictions vs Actual)',\n",
    "                               xaxis_title='Choice', yaxis_title='Count', barmode='group', font=dict(size=12))\n",
    "        fig_dist.show()\n",
    "\n",
    "\n",
    "    # 3. 혼동 행렬 (오류 제외)\n",
    "    if not valid_predictions_df.empty:\n",
    "        # NaN 값 처리 및 문자열로 변환 후 crosstab 계산\n",
    "        valid_predictions_df['predicted_str'] = valid_predictions_df['predicted'].astype(str)\n",
    "        valid_predictions_df['actual_str'] = valid_predictions_df['actual'].astype(str)\n",
    "        all_labels = sorted(list(set(valid_predictions_df['predicted_str']) | set(valid_predictions_df['actual_str'])))\n",
    "\n",
    "        conf_matrix = pd.crosstab(valid_predictions_df['actual_str'], valid_predictions_df['predicted_str'],\n",
    "                                  rownames=['Actual'], colnames=['Predicted'])\n",
    "        # 모든 라벨 포함하도록 reindex\n",
    "        conf_matrix = conf_matrix.reindex(index=all_labels, columns=all_labels, fill_value=0)\n",
    "\n",
    "        # 비율 계산 (0으로 나누는 경우 방지)\n",
    "        conf_matrix_norm = conf_matrix.astype('float').div(conf_matrix.sum(axis=1).replace(0, 1), axis=0) # 행 기준 정규화\n",
    "\n",
    "        fig_cm = px.imshow(conf_matrix_norm, text_auto='.2f', aspect=\"auto\",\n",
    "                           labels=dict(x=\"Predicted Choice\", y=\"Actual Choice\", color=\"Proportion\"),\n",
    "                           x=all_labels, y=all_labels, color_continuous_scale=\"Blues\")\n",
    "        fig_cm.update_traces(hovertemplate=\"Actual: %{y}<br>Predicted: %{x}<br>Proportion: %{z:.2f}<extra></extra>\")\n",
    "        fig_cm.update_layout(title='Confusion Matrix (Normalized by Actual Answer, Errors Excluded)',\n",
    "                             font=dict(size=12))\n",
    "        fig_cm.show()\n",
    "\n",
    "\n",
    "    # --- 오답 분석 ---\n",
    "    incorrect_df = results_df[(results_df['is_correct'] == False) & (~results_df['predicted'].isin(error_labels))]\n",
    "    if not incorrect_df.empty:\n",
    "        print(\"\\n===== Incorrect Answer Analysis (Top 5 Examples) =====\")\n",
    "        # 오답 유형 분석 (예: 어떤 오답을 가장 많이 선택했는지)\n",
    "        incorrect_prediction_counts = incorrect_df['predicted'].value_counts()\n",
    "        print(\"Most Frequent Incorrect Predictions:\")\n",
    "        print(incorrect_prediction_counts.head())\n",
    "\n",
    "        # 오답 예시 출력 (질문, 예측, 실제, 응답 일부)\n",
    "        print(\"\\nIncorrect Examples:\")\n",
    "        for _, row in incorrect_df.head(5).iterrows():\n",
    "            print(f\"\\nQ_ID: {row['question_id']}\")\n",
    "            print(f\"  Question: {row['question'][:150]}...\")\n",
    "            print(f\"  Predicted: {row['predicted']}, Actual: {row['actual']}\")\n",
    "            print(f\"  LLM Response (start): {row['response'][:200]}...\")\n",
    "            print(\"-\" * 20)\n",
    "    else:\n",
    "        print(\"\\nNo incorrect answers found (excluding errors).\")\n",
    "\n",
    "\n",
    "    # --- 예측 오류 분석 ---\n",
    "    error_df = results_df[results_df['predicted'].isin(error_labels)]\n",
    "    if not error_df.empty:\n",
    "        print(\"\\n===== Prediction Error Analysis =====\")\n",
    "        error_type_counts = error_df['predicted'].value_counts()\n",
    "        print(\"Error Types:\")\n",
    "        print(error_type_counts)\n",
    "        # 오류 발생 예시 (질문, 실제 답, 오류 타입, 응답 일부)\n",
    "        print(\"\\nError Examples (Top 5):\")\n",
    "        for _, row in error_df.head(5).iterrows():\n",
    "            print(f\"\\nQ_ID: {row['question_id']}\")\n",
    "            print(f\"  Question: {row['question'][:150]}...\")\n",
    "            print(f\"  Actual Answer: {row['actual']}\")\n",
    "            print(f\"  Prediction Status: {row['predicted']}\")\n",
    "            print(f\"  LLM Response/Error: {row['response'][:200]}...\")\n",
    "            print(\"-\" * 20)\n",
    "\n",
    "\n",
    "    # --- 요약 정보 HTML 표시 ---\n",
    "    summary_html = f\"\"\"\n",
    "    <div style=\"font-family: sans-serif; border: 1px solid #ccc; padding: 15px; margin-top: 20px; background-color: #f9f9f9; border-radius: 8px;\">\n",
    "        <h3 style=\"margin-top: 0; color: #333;\">KMMLU Benchmark Summary ({timestamp})</h3>\n",
    "        <hr style=\"border-top: 1px solid #eee;\">\n",
    "        <p><strong>Model:</strong> {config.get('llm_model', 'N/A')}</p>\n",
    "        <p><strong>RAG Type:</strong> Graph-based (Neo4j + Vector Search)</p>\n",
    "        <p><strong>Total Questions:</strong> {total_questions}</p>\n",
    "        <p><strong>Overall Accuracy:</strong> <strong style=\"color: #27ae60;\">{accuracy:.2%}</strong> ({correct_answers} / {total_questions})</p>\n",
    "        <p><strong>Prediction Errors:</strong> <span style=\"color: #e74c3c;\">{error_predictions}</span> ({error_predictions/total_questions:.2%})</p>\n",
    "        <p><strong>Results File:</strong> {os.path.basename(results_file_path)}</p>\n",
    "    </div>\n",
    "    \"\"\"\n",
    "    display(HTML(summary_html))\n",
    "\n",
    "\n",
    "# %%\n",
    "# 결과 분석 및 시각화 실행\n",
    "if results_file and config:\n",
    "    # timestamp는 결과 처리 시 사용된 것과 동일해야 함\n",
    "    if 'timestamp' not in locals():\n",
    "         timestamp = datetime.now().strftime(\"%Y%m%d_%H%M%S\") # 임시\n",
    "         print(f\"Warning: Using current timestamp '{timestamp}' for analysis.\")\n",
    "\n",
    "    print(f\"\\nAnalyzing and visualizing results from {results_file}...\")\n",
    "    # analyze_and_visualize_results(results_file, config, timestamp)\n",
    "    print(\"Analysis and visualization cell is commented out by default.\")\n",
    "    print(\"Ensure you have a valid 'results_file' path, 'config', and 'timestamp'.\")\n",
    "    print(\"Then, uncomment the 'analyze_and_visualize_results(...)' line and run this cell.\")\n",
    "\n",
    "\n",
    "elif not results_file:\n",
    "    print(\"Results file path is not available. Cannot analyze results.\")\n",
    "else:\n",
    "    print(\"Skipping analysis due to missing configuration.\")\n"
   ]
  },
  {
   "cell_type": "code",
   "execution_count": 9,
   "id": "dce897a0",
   "metadata": {},
   "outputs": [
    {
     "name": "stdout",
     "output_type": "stream",
     "text": [
      "Neo4j driver connection closed.\n"
     ]
    }
   ],
   "source": [
    "# ## 9. Neo4j 연결 종료\n",
    "\n",
    "# %%\n",
    "# Neo4j 드라이버 연결 종료\n",
    "if 'neo4j_driver' in locals() and neo4j_driver:\n",
    "    close_neo4j(neo4j_driver)\n",
    "else:\n",
    "    print(\"Neo4j driver was not initialized or already closed.\")"
   ]
  },
  {
   "cell_type": "code",
   "execution_count": null,
   "id": "1dbc0369",
   "metadata": {},
   "outputs": [],
   "source": []
  }
 ],
 "metadata": {
  "kernelspec": {
   "display_name": "Python 3 (ipykernel)",
   "language": "python",
   "name": "python3"
  },
  "language_info": {
   "codemirror_mode": {
    "name": "ipython",
    "version": 3
   },
   "file_extension": ".py",
   "mimetype": "text/x-python",
   "name": "python",
   "nbconvert_exporter": "python",
   "pygments_lexer": "ipython3",
   "version": "3.9.21"
  }
 },
 "nbformat": 4,
 "nbformat_minor": 5
}
