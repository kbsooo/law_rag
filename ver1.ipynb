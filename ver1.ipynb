{
 "cells": [
  {
   "cell_type": "code",
   "execution_count": 1,
   "metadata": {},
   "outputs": [],
   "source": [
    "# 형법 pdf\n",
    "file_path = './dataset/criminal-law.pdf'\n",
    "\n",
    "# Langchain의 PyPDFLoader를 이용\n",
    "from langchain_community.document_loaders import PyPDFLoader\n",
    "import re\n",
    "\n",
    "# PDF 로더 객체 생성\n",
    "loader = PyPDFLoader(file_path)\n",
    "\n",
    "# pdf의 각 페이지를 저장\n",
    "pages = []\n",
    "\n",
    "# 비동기 방식으로 pdf 페이지 로드\n",
    "async for page in loader.alazy_load():\n",
    "    pages.append(page)"
   ]
  },
  {
   "cell_type": "code",
   "execution_count": 2,
   "metadata": {},
   "outputs": [],
   "source": [
    "# 맨앞 두 페이지는 쓸모없어서 버림\n",
    "pages = pages[2:]\n",
    "\n",
    "# 페이지 내용을 하나의 문자열로\n",
    "full_text = \"\\n\".join(page.page_content for page in pages)"
   ]
  },
  {
   "cell_type": "code",
   "execution_count": 3,
   "metadata": {},
   "outputs": [
    {
     "data": {
      "text/plain": [
       "48"
      ]
     },
     "execution_count": 3,
     "metadata": {},
     "output_type": "execute_result"
    }
   ],
   "source": [
    "len(pages)"
   ]
  },
  {
   "cell_type": "code",
   "execution_count": 9,
   "metadata": {},
   "outputs": [],
   "source": [
    "# \"\\n제 n장\" 패턴으로 텍스트 분할\n",
    "# split_parts = re.split(r'(\\n제\\d+장)', full_text)\n",
    "split_parts = re.split(r'(제\\d+장 [^\\n]+)', full_text)"
   ]
  },
  {
   "cell_type": "code",
   "execution_count": 10,
   "metadata": {},
   "outputs": [],
   "source": [
    "from langchain_core.documents import Document"
   ]
  },
  {
   "cell_type": "code",
   "execution_count": 11,
   "metadata": {},
   "outputs": [],
   "source": [
    "chunks = []\n",
    "current_chunck_text = \"\"\n",
    "# 첫 부분 처리 (첫 장 이전에 내용이 있을 경우)\n",
    "if split_parts[0].strip():\n",
    "    # 첫 부분은 특정 \"장\" 구분 기호가 없으므로 별도 처리\n",
    "    # 이 부분에 해당하는 페이지 메타데이터를 찾아야 함 (여기서는 단순화하여 첫 페이지 메타데이터 사용 가정)\n",
    "    # 실제로는 이 텍스트가 어느 페이지에 걸쳐 있는지 정확히 파악해야 함\n",
    "    first_page_meta = pages[0].metadata if pages else {}\n",
    "    chunks.append(Document(page_content=split_parts[0].strip(), metadata=first_page_meta))\n",
    "    current_chunck_text = \"\" # 다음 장부터 시작하도록 초기화"
   ]
  },
  {
   "cell_type": "code",
   "execution_count": 12,
   "metadata": {},
   "outputs": [],
   "source": [
    "# 분할된 부분을 순회하며 청크 생성\n",
    "for i in range(1, len(split_parts), 2):\n",
    "    # 구분 기호 (e.g., \"\\n 제 1장\")와 내용 결합\n",
    "    chapter_title = split_parts[i].strip()\n",
    "    content = split_parts[i+1].strip()\n",
    "    chunk_text = chapter_title + \"\\n\" + content\n",
    "    \n",
    "    metadata = {\"chapter\": chapter_title}\n",
    "    chunks.append(Document(page_content=chunk_text, metadata=metadata))"
   ]
  },
  {
   "cell_type": "code",
   "execution_count": null,
   "metadata": {},
   "outputs": [
    {
     "name": "stdout",
     "output_type": "stream",
     "text": [
      "Total chunks created: 47\n",
      "\n",
      "--- First Chunk ---\n",
      "Metadata: {'producer': 'iText 2.1.7 by 1T3XT', 'creator': 'PyPDF', 'creationdate': '2013-11-08T14:53:09+09:00', 'moddate': '2013-11-08T14:53:09+09:00', 'source': './dataset/criminal-law.pdf', 'total_pages': 50, 'page': 2, 'page_label': '3'}\n",
      "Content:\n",
      "법제처                                                            3                                                       국가법령정보센터\n",
      "「형법」\n",
      " \n",
      "                    제1편 총칙...\n",
      "\n",
      "--- Second Chunk ---\n",
      "Metadata: {'chapter': '제1장 형법의 적용범위'}\n",
      "Content:\n",
      "제1장 형법의 적용범위\n",
      "제1조(범죄의 성립과 처벌) ①범죄의 성립과 처벌은 행위 시의 법률에 의한다.\n",
      "②범죄 후 법률의 변경에 의하여 그 행위가 범죄를 구성하지 아니하거나 형이 구법보다 경한\n",
      "때에는 신법에 의한다.\n",
      "③재판확정 후 법률의 변경에 의하여 그 행위가 범죄를 구성하지 아니하는 때에는 형의 집행\n",
      "을 면제한다.\n",
      " \n",
      "제2조(국내범) 본법은 대한민국영역 내에서 죄를 범한 내국인과 외국인에게 적용한다.\n",
      " \n",
      "제3조(내국인의 국외범) 본법은 대한민국영역 외에서 죄를 범한 내국인에게 적용한다.\n",
      " \n",
      "제4조(국외에 있는 내국선박 등에서 외국인이 범한 죄) 본법은 대한민국영역 외에 있는 대한민\n",
      "국의 선박 또는 항공기 내에서 죄를 범한 외국인에게 적용한다.\n",
      " \n",
      "제5조(외국인의 국외범) 본법은 대한민국영역 외에서 다음에 기재한 죄를 범한 외국인에게 적용\n",
      "한다.\n",
      "1. 내란의 죄\n",
      "2. 외환의 죄\n",
      "3. 국기에 관한 죄\n",
      "4. 통화에 관한 죄\n",
      "5. 유가증권, 우표와 인지에 관한 죄\n",
      "6. 문서에 관한 죄 중...\n"
     ]
    }
   ],
   "source": [
    "print(f\"Total chunks created: {len(chunks)}\")\n",
    "if chunks:\n",
    "    print(\"\\n--- First Chunk ---\")\n",
    "    print(f\"Metadata: {chunks[0].metadata}\")\n",
    "    print(f\"Content:\\n{chunks[0].page_content[:500]}...\") # Print first 500 chars\n",
    "\n",
    "if len(chunks) > 1:\n",
    "    print(\"\\n--- Second Chunk ---\")\n",
    "    print(f\"Metadata: {chunks[1].metadata}\")\n",
    "    print(f\"Content:\\n{chunks[1].page_content[:500]}...\") # Print first 500 chars"
   ]
  },
  {
   "cell_type": "code",
   "execution_count": null,
   "metadata": {},
   "outputs": [],
   "source": []
  }
 ],
 "metadata": {
  "kernelspec": {
   "display_name": "Python 3 (ipykernel)",
   "language": "python",
   "name": "python3"
  }
 },
 "nbformat": 4,
 "nbformat_minor": 2
}
